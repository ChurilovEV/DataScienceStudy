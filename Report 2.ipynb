{
 "cells": [
  {
   "cell_type": "markdown",
   "id": "7256fa42",
   "metadata": {},
   "source": [
    "# Исследование надежности заемщиков\n"
   ]
  },
  {
   "cell_type": "markdown",
   "id": "1cd4ded5",
   "metadata": {},
   "source": [
    "[Содержание](#0)\n",
    "\n",
    "[1. Описание проекта](#1)\n",
    "\n",
    "[2. Исследовательский анализ данных](#2)\n",
    "\n",
    "[3. Предобработка данных](#3)\n",
    "\n",
    "[4. Проверка гипотез](#4)\n",
    "\n",
    "[5. Итоговый вывод](#5)"
   ]
  },
  {
   "cell_type": "markdown",
   "id": "07e1f459",
   "metadata": {},
   "source": [
    "<a id=1></a>\n",
    "## 1. Описание проекта"
   ]
  },
  {
   "cell_type": "markdown",
   "id": "b169a161",
   "metadata": {},
   "source": [
    "Заказчик — кредитный отдел банка. Нужно разобраться, влияет ли семейное положение и количество детей клиента на факт погашения кредита в срок. Входные данные от банка — статистика о платёжеспособности клиентов.\n",
    "\n",
    "Результаты исследования будут учтены при построении модели кредитного скоринга — специальной системы, которая оценивает способность потенциального заёмщика вернуть кредит банку в срок.\n",
    "\n",
    "**Цель проекта**\n",
    "\n",
    "Провести исследование с целью выявить влияние различных факторов на возврат кредита в срок.\n",
    "\n",
    "Результаты исследования будут учтены при построении модели кредитного скоринга – специальной системы, которая оценивает способность потенциального заёмщика вернуть кредит банку в срок.\n",
    "\n",
    "**Задачи проекта**\n",
    "- Изучить данные.\n",
    "- Выполнить предобработку данных.\n",
    "- Исследовать данные.\n",
    "- Проверить гипотезы.\n",
    "- Написать общий вывод.\n",
    "\n",
    "В ходе проведения исследования необходимо проверить несколько гипотез:\n",
    "\n",
    "- Гипотеза 1: количество детей влияет на возврат кредита в срок;\n",
    "- Гипотеза 2: семейное положение влияет на возврат кредита в срок;\n",
    "- Гипотеза 3: уровень дохода влияет на возврат кредита в срок;\n",
    "- Гипотеза 4: цель кредита влияет на возврат кредита в срок."
   ]
  },
  {
   "cell_type": "markdown",
   "id": "57e21fbe",
   "metadata": {},
   "source": [
    "**Описание данных**\n",
    "\n",
    "Входные данные: статистика о платёжеспособности клиентов банка в файле `solvency.csv``.\n",
    "\n",
    "Описание столбцов:\n",
    "\n",
    "- `children` — количество детей в семье\n",
    "- `days_employed` — общий трудовой стаж в днях\n",
    "- `dob_years` — возраст клиента в годах\n",
    "- `education` — уровень образования клиента\n",
    "- `education_id` — идентификатор уровня образования\n",
    "- `family_status` — семейное положение\n",
    "- `family_status_id` — идентификатор семейного положения\n",
    "- `gender` — пол клиента\n",
    "- `income_type` — тип занятости\n",
    "- `debt` — имел ли задолженность по возврату кредитов\n",
    "- `total_income` — ежемесячный доход\n",
    "- `purpose` — цель получения кредита"
   ]
  },
  {
   "cell_type": "markdown",
   "id": "2defc895",
   "metadata": {},
   "source": [
    "<a id=2></a>\n",
    "[Содержание](#0)\n",
    "## 2. Исследовательский анализ данных"
   ]
  },
  {
   "cell_type": "markdown",
   "id": "458e6b2a",
   "metadata": {},
   "source": [
    "Импортируем библиотеку `pandas`. Загрузим данные из csv-файла в датафрейм и сохраним в переменную `data`.\n",
    "\n",
    "Путь к файлу:\n",
    "\n",
    "`/datasets/data.csv`"
   ]
  },
  {
   "cell_type": "code",
   "execution_count": 1,
   "id": "79b650e0",
   "metadata": {},
   "outputs": [],
   "source": [
    "import pandas as pd\n",
    "import numpy as np"
   ]
  },
  {
   "cell_type": "code",
   "execution_count": 2,
   "id": "15a5610f",
   "metadata": {},
   "outputs": [],
   "source": [
    "try:\n",
    "    data = pd.read_csv('/datasets/data.csv')\n",
    "except:\n",
    "    data = pd.read_csv('https://code.s3.yandex.net/datasets/real_estate_data.csv')"
   ]
  },
  {
   "cell_type": "markdown",
   "id": "26f7b2f0",
   "metadata": {},
   "source": [
    "Выведем первые 20 строчек датафрейма `data` на экран."
   ]
  },
  {
   "cell_type": "code",
   "execution_count": 3,
   "id": "cab3c032",
   "metadata": {},
   "outputs": [
    {
     "data": {
      "text/html": [
       "<div>\n",
       "<style scoped>\n",
       "    .dataframe tbody tr th:only-of-type {\n",
       "        vertical-align: middle;\n",
       "    }\n",
       "\n",
       "    .dataframe tbody tr th {\n",
       "        vertical-align: top;\n",
       "    }\n",
       "\n",
       "    .dataframe thead th {\n",
       "        text-align: right;\n",
       "    }\n",
       "</style>\n",
       "<table border=\"1\" class=\"dataframe\">\n",
       "  <thead>\n",
       "    <tr style=\"text-align: right;\">\n",
       "      <th></th>\n",
       "      <th>total_images\\tlast_price\\ttotal_area\\tfirst_day_exposition\\trooms\\tceiling_height\\tfloors_total\\tliving_area\\tfloor\\tis_apartment\\tstudio\\topen_plan\\tkitchen_area\\tbalcony\\tlocality_name\\tairports_nearest\\tcityCenters_nearest\\tparks_around3000\\tparks_nearest\\tponds_around3000\\tponds_nearest\\tdays_exposition</th>\n",
       "    </tr>\n",
       "  </thead>\n",
       "  <tbody>\n",
       "    <tr>\n",
       "      <th>0</th>\n",
       "      <td>20\\t13000000.0\\t108.0\\t2019-03-07T00:00:00\\t3\\...</td>\n",
       "    </tr>\n",
       "    <tr>\n",
       "      <th>1</th>\n",
       "      <td>7\\t3350000.0\\t40.4\\t2018-12-04T00:00:00\\t1\\t\\t...</td>\n",
       "    </tr>\n",
       "    <tr>\n",
       "      <th>2</th>\n",
       "      <td>10\\t5196000.0\\t56.0\\t2015-08-20T00:00:00\\t2\\t\\...</td>\n",
       "    </tr>\n",
       "    <tr>\n",
       "      <th>3</th>\n",
       "      <td>0\\t64900000.0\\t159.0\\t2015-07-24T00:00:00\\t3\\t...</td>\n",
       "    </tr>\n",
       "    <tr>\n",
       "      <th>4</th>\n",
       "      <td>2\\t10000000.0\\t100.0\\t2018-06-19T00:00:00\\t2\\t...</td>\n",
       "    </tr>\n",
       "    <tr>\n",
       "      <th>5</th>\n",
       "      <td>10\\t2890000.0\\t30.4\\t2018-09-10T00:00:00\\t1\\t\\...</td>\n",
       "    </tr>\n",
       "    <tr>\n",
       "      <th>6</th>\n",
       "      <td>6\\t3700000.0\\t37.3\\t2017-11-02T00:00:00\\t1\\t\\t...</td>\n",
       "    </tr>\n",
       "    <tr>\n",
       "      <th>7</th>\n",
       "      <td>5\\t7915000.0\\t71.6\\t2019-04-18T00:00:00\\t2\\t\\t...</td>\n",
       "    </tr>\n",
       "    <tr>\n",
       "      <th>8</th>\n",
       "      <td>20\\t2900000.0\\t33.16\\t2018-05-23T00:00:00\\t1\\t...</td>\n",
       "    </tr>\n",
       "    <tr>\n",
       "      <th>9</th>\n",
       "      <td>18\\t5400000.0\\t61.0\\t2017-02-26T00:00:00\\t3\\t2...</td>\n",
       "    </tr>\n",
       "    <tr>\n",
       "      <th>10</th>\n",
       "      <td>5\\t5050000.0\\t39.6\\t2017-11-16T00:00:00\\t1\\t2....</td>\n",
       "    </tr>\n",
       "    <tr>\n",
       "      <th>11</th>\n",
       "      <td>9\\t3300000.0\\t44.0\\t2018-08-27T00:00:00\\t2\\t\\t...</td>\n",
       "    </tr>\n",
       "    <tr>\n",
       "      <th>12</th>\n",
       "      <td>10\\t3890000.0\\t54.0\\t2016-06-30T00:00:00\\t2\\t\\...</td>\n",
       "    </tr>\n",
       "    <tr>\n",
       "      <th>13</th>\n",
       "      <td>20\\t3550000.0\\t42.8\\t2017-07-01T00:00:00\\t2\\t2...</td>\n",
       "    </tr>\n",
       "    <tr>\n",
       "      <th>14</th>\n",
       "      <td>1\\t4400000.0\\t36.0\\t2016-06-23T00:00:00\\t1\\t\\t...</td>\n",
       "    </tr>\n",
       "    <tr>\n",
       "      <th>15</th>\n",
       "      <td>16\\t4650000.0\\t39.0\\t2017-11-18T00:00:00\\t1\\t\\...</td>\n",
       "    </tr>\n",
       "    <tr>\n",
       "      <th>16</th>\n",
       "      <td>11\\t6700000.0\\t82.0\\t2017-11-23T00:00:00\\t3\\t3...</td>\n",
       "    </tr>\n",
       "    <tr>\n",
       "      <th>17</th>\n",
       "      <td>6\\t4180000.0\\t36.0\\t2016-09-09T00:00:00\\t1\\t\\t...</td>\n",
       "    </tr>\n",
       "    <tr>\n",
       "      <th>18</th>\n",
       "      <td>8\\t3250000.0\\t31.0\\t2017-01-27T00:00:00\\t1\\t2....</td>\n",
       "    </tr>\n",
       "    <tr>\n",
       "      <th>19</th>\n",
       "      <td>16\\t14200000.0\\t121.0\\t2019-01-09T00:00:00\\t3\\...</td>\n",
       "    </tr>\n",
       "  </tbody>\n",
       "</table>\n",
       "</div>"
      ],
      "text/plain": [
       "   total_images\\tlast_price\\ttotal_area\\tfirst_day_exposition\\trooms\\tceiling_height\\tfloors_total\\tliving_area\\tfloor\\tis_apartment\\tstudio\\topen_plan\\tkitchen_area\\tbalcony\\tlocality_name\\tairports_nearest\\tcityCenters_nearest\\tparks_around3000\\tparks_nearest\\tponds_around3000\\tponds_nearest\\tdays_exposition\n",
       "0   20\\t13000000.0\\t108.0\\t2019-03-07T00:00:00\\t3\\...                                                                                                                                                                                                                                                                  \n",
       "1   7\\t3350000.0\\t40.4\\t2018-12-04T00:00:00\\t1\\t\\t...                                                                                                                                                                                                                                                                  \n",
       "2   10\\t5196000.0\\t56.0\\t2015-08-20T00:00:00\\t2\\t\\...                                                                                                                                                                                                                                                                  \n",
       "3   0\\t64900000.0\\t159.0\\t2015-07-24T00:00:00\\t3\\t...                                                                                                                                                                                                                                                                  \n",
       "4   2\\t10000000.0\\t100.0\\t2018-06-19T00:00:00\\t2\\t...                                                                                                                                                                                                                                                                  \n",
       "5   10\\t2890000.0\\t30.4\\t2018-09-10T00:00:00\\t1\\t\\...                                                                                                                                                                                                                                                                  \n",
       "6   6\\t3700000.0\\t37.3\\t2017-11-02T00:00:00\\t1\\t\\t...                                                                                                                                                                                                                                                                  \n",
       "7   5\\t7915000.0\\t71.6\\t2019-04-18T00:00:00\\t2\\t\\t...                                                                                                                                                                                                                                                                  \n",
       "8   20\\t2900000.0\\t33.16\\t2018-05-23T00:00:00\\t1\\t...                                                                                                                                                                                                                                                                  \n",
       "9   18\\t5400000.0\\t61.0\\t2017-02-26T00:00:00\\t3\\t2...                                                                                                                                                                                                                                                                  \n",
       "10  5\\t5050000.0\\t39.6\\t2017-11-16T00:00:00\\t1\\t2....                                                                                                                                                                                                                                                                  \n",
       "11  9\\t3300000.0\\t44.0\\t2018-08-27T00:00:00\\t2\\t\\t...                                                                                                                                                                                                                                                                  \n",
       "12  10\\t3890000.0\\t54.0\\t2016-06-30T00:00:00\\t2\\t\\...                                                                                                                                                                                                                                                                  \n",
       "13  20\\t3550000.0\\t42.8\\t2017-07-01T00:00:00\\t2\\t2...                                                                                                                                                                                                                                                                  \n",
       "14  1\\t4400000.0\\t36.0\\t2016-06-23T00:00:00\\t1\\t\\t...                                                                                                                                                                                                                                                                  \n",
       "15  16\\t4650000.0\\t39.0\\t2017-11-18T00:00:00\\t1\\t\\...                                                                                                                                                                                                                                                                  \n",
       "16  11\\t6700000.0\\t82.0\\t2017-11-23T00:00:00\\t3\\t3...                                                                                                                                                                                                                                                                  \n",
       "17  6\\t4180000.0\\t36.0\\t2016-09-09T00:00:00\\t1\\t\\t...                                                                                                                                                                                                                                                                  \n",
       "18  8\\t3250000.0\\t31.0\\t2017-01-27T00:00:00\\t1\\t2....                                                                                                                                                                                                                                                                  \n",
       "19  16\\t14200000.0\\t121.0\\t2019-01-09T00:00:00\\t3\\...                                                                                                                                                                                                                                                                  "
      ]
     },
     "execution_count": 3,
     "metadata": {},
     "output_type": "execute_result"
    }
   ],
   "source": [
    "data.head(20)"
   ]
  },
  {
   "cell_type": "markdown",
   "id": "72e35f9a",
   "metadata": {},
   "source": [
    "Выведем основную информацию о датафрейме с помощью метода `info()`."
   ]
  },
  {
   "cell_type": "code",
   "execution_count": 4,
   "id": "026bcb18",
   "metadata": {},
   "outputs": [
    {
     "name": "stdout",
     "output_type": "stream",
     "text": [
      "<class 'pandas.core.frame.DataFrame'>\n",
      "RangeIndex: 23699 entries, 0 to 23698\n",
      "Data columns (total 1 columns):\n",
      " #   Column                                                                                                                                                                                                                                                                                           Non-Null Count  Dtype \n",
      "---  ------                                                                                                                                                                                                                                                                                           --------------  ----- \n",
      " 0   total_images\tlast_price\ttotal_area\tfirst_day_exposition\trooms\tceiling_height\tfloors_total\tliving_area\tfloor\tis_apartment\tstudio\topen_plan\tkitchen_area\tbalcony\tlocality_name\tairports_nearest\tcityCenters_nearest\tparks_around3000\tparks_nearest\tponds_around3000\tponds_nearest\tdays_exposition  23699 non-null  object\n",
      "dtypes: object(1)\n",
      "memory usage: 185.3+ KB\n"
     ]
    },
    {
     "data": {
      "text/html": [
       "<div>\n",
       "<style scoped>\n",
       "    .dataframe tbody tr th:only-of-type {\n",
       "        vertical-align: middle;\n",
       "    }\n",
       "\n",
       "    .dataframe tbody tr th {\n",
       "        vertical-align: top;\n",
       "    }\n",
       "\n",
       "    .dataframe thead th {\n",
       "        text-align: right;\n",
       "    }\n",
       "</style>\n",
       "<table border=\"1\" class=\"dataframe\">\n",
       "  <thead>\n",
       "    <tr style=\"text-align: right;\">\n",
       "      <th></th>\n",
       "      <th>total_images\\tlast_price\\ttotal_area\\tfirst_day_exposition\\trooms\\tceiling_height\\tfloors_total\\tliving_area\\tfloor\\tis_apartment\\tstudio\\topen_plan\\tkitchen_area\\tbalcony\\tlocality_name\\tairports_nearest\\tcityCenters_nearest\\tparks_around3000\\tparks_nearest\\tponds_around3000\\tponds_nearest\\tdays_exposition</th>\n",
       "    </tr>\n",
       "  </thead>\n",
       "  <tbody>\n",
       "    <tr>\n",
       "      <th>count</th>\n",
       "      <td>23699</td>\n",
       "    </tr>\n",
       "    <tr>\n",
       "      <th>unique</th>\n",
       "      <td>23699</td>\n",
       "    </tr>\n",
       "    <tr>\n",
       "      <th>top</th>\n",
       "      <td>20\\t13000000.0\\t108.0\\t2019-03-07T00:00:00\\t3\\...</td>\n",
       "    </tr>\n",
       "    <tr>\n",
       "      <th>freq</th>\n",
       "      <td>1</td>\n",
       "    </tr>\n",
       "  </tbody>\n",
       "</table>\n",
       "</div>"
      ],
      "text/plain": [
       "       total_images\\tlast_price\\ttotal_area\\tfirst_day_exposition\\trooms\\tceiling_height\\tfloors_total\\tliving_area\\tfloor\\tis_apartment\\tstudio\\topen_plan\\tkitchen_area\\tbalcony\\tlocality_name\\tairports_nearest\\tcityCenters_nearest\\tparks_around3000\\tparks_nearest\\tponds_around3000\\tponds_nearest\\tdays_exposition\n",
       "count                                               23699                                                                                                                                                                                                                                                                  \n",
       "unique                                              23699                                                                                                                                                                                                                                                                  \n",
       "top     20\\t13000000.0\\t108.0\\t2019-03-07T00:00:00\\t3\\...                                                                                                                                                                                                                                                                  \n",
       "freq                                                    1                                                                                                                                                                                                                                                                  "
      ]
     },
     "execution_count": 4,
     "metadata": {},
     "output_type": "execute_result"
    }
   ],
   "source": [
    "data.info()\n",
    "data.describe()"
   ]
  },
  {
   "cell_type": "markdown",
   "id": "db7c8437",
   "metadata": {},
   "source": [
    "В датасете 12 колонок разных типов (int64, float64, object).\n",
    "Всего 21525 записи.\n",
    "В колонках days_employed и total_income есть пустые значения."
   ]
  },
  {
   "cell_type": "markdown",
   "id": "eb8e90a9",
   "metadata": {},
   "source": [
    "## Предобработка данных"
   ]
  },
  {
   "cell_type": "markdown",
   "id": "3e662705",
   "metadata": {},
   "source": [
    "### Удаление пропусков"
   ]
  },
  {
   "cell_type": "markdown",
   "id": "52f6427d",
   "metadata": {},
   "source": [
    "**Задание 4. Выведите количество пропущенных значений для каждого столбца. Используйте комбинацию двух методов.**"
   ]
  },
  {
   "cell_type": "code",
   "execution_count": 90,
   "id": "ca24482e",
   "metadata": {},
   "outputs": [
    {
     "data": {
      "text/plain": [
       "children               0\n",
       "days_employed       2174\n",
       "dob_years              0\n",
       "education              0\n",
       "education_id           0\n",
       "family_status          0\n",
       "family_status_id       0\n",
       "gender                 0\n",
       "income_type            0\n",
       "debt                   0\n",
       "total_income        2174\n",
       "purpose                0\n",
       "dtype: int64"
      ]
     },
     "execution_count": 90,
     "metadata": {},
     "output_type": "execute_result"
    }
   ],
   "source": [
    "data.isna().sum()"
   ]
  },
  {
   "cell_type": "markdown",
   "id": "6917fc96",
   "metadata": {},
   "source": [
    "**Задание 5. В двух столбцах есть пропущенные значения. Один из них — `days_employed`. Пропуски в этом столбце вы обработаете на следующем этапе. Другой столбец с пропущенными значениями — `total_income` — хранит данные о доходах. На сумму дохода сильнее всего влияет тип занятости, поэтому заполнить пропуски в этом столбце нужно медианным значением по каждому типу из столбца `income_type`. Например, у человека с типом занятости `сотрудник` пропуск в столбце `total_income` должен быть заполнен медианным доходом среди всех записей с тем же типом.**"
   ]
  },
  {
   "cell_type": "code",
   "execution_count": 91,
   "id": "2962a647",
   "metadata": {},
   "outputs": [],
   "source": [
    "# Первый вариант\n",
    "#for t in data['income_type'].unique():\n",
    "#    data.loc[(data['income_type'] == t) & (data['total_income'].isna()), 'total_income'] = \\\n",
    "#    data.loc[(data['income_type'] == t), 'total_income'].median()"
   ]
  },
  {
   "cell_type": "code",
   "execution_count": 92,
   "id": "7445006e",
   "metadata": {},
   "outputs": [
    {
     "data": {
      "text/html": [
       "<div>\n",
       "<style scoped>\n",
       "    .dataframe tbody tr th:only-of-type {\n",
       "        vertical-align: middle;\n",
       "    }\n",
       "\n",
       "    .dataframe tbody tr th {\n",
       "        vertical-align: top;\n",
       "    }\n",
       "\n",
       "    .dataframe thead th {\n",
       "        text-align: right;\n",
       "    }\n",
       "</style>\n",
       "<table border=\"1\" class=\"dataframe\">\n",
       "  <thead>\n",
       "    <tr style=\"text-align: right;\">\n",
       "      <th></th>\n",
       "      <th>children</th>\n",
       "      <th>days_employed</th>\n",
       "      <th>dob_years</th>\n",
       "      <th>education</th>\n",
       "      <th>education_id</th>\n",
       "      <th>family_status</th>\n",
       "      <th>family_status_id</th>\n",
       "      <th>gender</th>\n",
       "      <th>income_type</th>\n",
       "      <th>debt</th>\n",
       "      <th>total_income</th>\n",
       "      <th>purpose</th>\n",
       "    </tr>\n",
       "  </thead>\n",
       "  <tbody>\n",
       "  </tbody>\n",
       "</table>\n",
       "</div>"
      ],
      "text/plain": [
       "Empty DataFrame\n",
       "Columns: [children, days_employed, dob_years, education, education_id, family_status, family_status_id, gender, income_type, debt, total_income, purpose]\n",
       "Index: []"
      ]
     },
     "metadata": {},
     "output_type": "display_data"
    }
   ],
   "source": [
    "data.loc[data['total_income'].isna(), 'total_income'] = data.groupby('income_type')[\"total_income\"].transform('mean')\n",
    "display(data[data['total_income'].isna()])"
   ]
  },
  {
   "cell_type": "markdown",
   "id": "fa5808f3",
   "metadata": {},
   "source": [
    "### Обработка аномальных значений"
   ]
  },
  {
   "cell_type": "markdown",
   "id": "edd9f54b",
   "metadata": {},
   "source": [
    "**Задание 6. В данных могут встречаться артефакты (аномалии) — значения, которые не отражают действительность и появились по какой-то ошибке. таким артефактом будет отрицательное количество дней трудового стажа в столбце `days_employed`. Для реальных данных это нормально. Обработайте значения в этом столбце: замените все отрицательные значения положительными с помощью метода `abs()`.**"
   ]
  },
  {
   "cell_type": "code",
   "execution_count": 93,
   "id": "963c9b98",
   "metadata": {},
   "outputs": [],
   "source": [
    "data['days_employed'] = data['days_employed'].abs()"
   ]
  },
  {
   "cell_type": "markdown",
   "id": "0081f7e3",
   "metadata": {},
   "source": [
    "**Задание 7. Для каждого типа занятости выведите медианное значение трудового стажа `days_employed` в днях.**"
   ]
  },
  {
   "cell_type": "code",
   "execution_count": 94,
   "id": "14761175",
   "metadata": {},
   "outputs": [
    {
     "data": {
      "text/plain": [
       "income_type\n",
       "безработный        366413.652744\n",
       "в декрете            3296.759962\n",
       "госслужащий          2689.368353\n",
       "компаньон            1547.382223\n",
       "пенсионер          365213.306266\n",
       "предприниматель       520.848083\n",
       "сотрудник            1574.202821\n",
       "студент               578.751554\n",
       "Name: days_employed, dtype: float64"
      ]
     },
     "execution_count": 94,
     "metadata": {},
     "output_type": "execute_result"
    }
   ],
   "source": [
    "data.groupby('income_type')['days_employed'].agg('median')"
   ]
  },
  {
   "cell_type": "markdown",
   "id": "d4c2f601",
   "metadata": {},
   "source": [
    "У двух типов (безработные и пенсионеры) получатся аномально большие значения. Исправить такие значения сложно, поэтому оставьте их как есть. Тем более этот столбец не понадобится вам для исследования."
   ]
  },
  {
   "cell_type": "markdown",
   "id": "2a1e89e9",
   "metadata": {},
   "source": [
    "**Задание 8. Выведите перечень уникальных значений столбца `children`.**"
   ]
  },
  {
   "cell_type": "code",
   "execution_count": 95,
   "id": "0e16e8ce",
   "metadata": {},
   "outputs": [
    {
     "data": {
      "text/plain": [
       "array([ 1,  0,  3,  2, -1,  4, 20,  5])"
      ]
     },
     "execution_count": 95,
     "metadata": {},
     "output_type": "execute_result"
    }
   ],
   "source": [
    "data['children'].unique()"
   ]
  },
  {
   "cell_type": "markdown",
   "id": "cdbbe094",
   "metadata": {},
   "source": [
    "**Задание 9. В столбце `children` есть два аномальных значения. Удалите строки, в которых встречаются такие аномальные значения из датафрейма `data`.**"
   ]
  },
  {
   "cell_type": "code",
   "execution_count": 96,
   "id": "5bdc88fd",
   "metadata": {},
   "outputs": [],
   "source": [
    "data = data[(data['children'] != -1) & (data['children'] != 20)]"
   ]
  },
  {
   "cell_type": "markdown",
   "id": "71c2dcd0",
   "metadata": {},
   "source": [
    "**Задание 10. Ещё раз выведите перечень уникальных значений столбца `children`, чтобы убедиться, что артефакты удалены.**"
   ]
  },
  {
   "cell_type": "code",
   "execution_count": 97,
   "id": "f6408680",
   "metadata": {},
   "outputs": [
    {
     "data": {
      "text/plain": [
       "array([1, 0, 3, 2, 4, 5])"
      ]
     },
     "execution_count": 97,
     "metadata": {},
     "output_type": "execute_result"
    }
   ],
   "source": [
    "data['children'].unique()"
   ]
  },
  {
   "cell_type": "markdown",
   "id": "bd240ed6",
   "metadata": {},
   "source": [
    "### Удаление пропусков (продолжение)"
   ]
  },
  {
   "cell_type": "markdown",
   "id": "73914c53",
   "metadata": {},
   "source": [
    "**Задание 11. Заполните пропуски в столбце `days_employed` медианными значениями по каждого типа занятости `income_type`.**"
   ]
  },
  {
   "cell_type": "code",
   "execution_count": 98,
   "id": "34c0cc5f",
   "metadata": {},
   "outputs": [],
   "source": [
    "for t in data['income_type'].unique():\n",
    "    data.loc[(data['income_type'] == t) & (data['days_employed'].isna()), 'days_employed'] = (\n",
    "    data.loc[(data['income_type'] == t), 'days_employed'].median())"
   ]
  },
  {
   "cell_type": "markdown",
   "id": "8c5303cb",
   "metadata": {},
   "source": [
    "**Задание 12. Убедитесь, что все пропуски заполнены. Проверьте себя и ещё раз выведите количество пропущенных значений для каждого столбца с помощью двух методов.**"
   ]
  },
  {
   "cell_type": "code",
   "execution_count": 99,
   "id": "08a7a3fc",
   "metadata": {},
   "outputs": [
    {
     "data": {
      "text/plain": [
       "children            0\n",
       "days_employed       0\n",
       "dob_years           0\n",
       "education           0\n",
       "education_id        0\n",
       "family_status       0\n",
       "family_status_id    0\n",
       "gender              0\n",
       "income_type         0\n",
       "debt                0\n",
       "total_income        0\n",
       "purpose             0\n",
       "dtype: int64"
      ]
     },
     "execution_count": 99,
     "metadata": {},
     "output_type": "execute_result"
    }
   ],
   "source": [
    "data.isna().sum()"
   ]
  },
  {
   "cell_type": "markdown",
   "id": "befcc09e",
   "metadata": {},
   "source": [
    "### Изменение типов данных"
   ]
  },
  {
   "cell_type": "markdown",
   "id": "c52f598d",
   "metadata": {},
   "source": [
    "**Задание 13. Замените вещественный тип данных в столбце `total_income` на целочисленный с помощью метода `astype()`.**"
   ]
  },
  {
   "cell_type": "code",
   "execution_count": 100,
   "id": "e91a196b",
   "metadata": {},
   "outputs": [
    {
     "name": "stdout",
     "output_type": "stream",
     "text": [
      "<class 'pandas.core.frame.DataFrame'>\n",
      "Int64Index: 21402 entries, 0 to 21524\n",
      "Data columns (total 12 columns):\n",
      " #   Column            Non-Null Count  Dtype \n",
      "---  ------            --------------  ----- \n",
      " 0   children          21402 non-null  int8  \n",
      " 1   days_employed     21402 non-null  int32 \n",
      " 2   dob_years         21402 non-null  int8  \n",
      " 3   education         21402 non-null  object\n",
      " 4   education_id      21402 non-null  int8  \n",
      " 5   family_status     21402 non-null  object\n",
      " 6   family_status_id  21402 non-null  int8  \n",
      " 7   gender            21402 non-null  object\n",
      " 8   income_type       21402 non-null  object\n",
      " 9   debt              21402 non-null  int8  \n",
      " 10  total_income      21402 non-null  int64 \n",
      " 11  purpose           21402 non-null  object\n",
      "dtypes: int32(1), int64(1), int8(5), object(5)\n",
      "memory usage: 1.3+ MB\n"
     ]
    }
   ],
   "source": [
    "data['children'] = np.int8(data['children'])\n",
    "data['days_employed'] = np.int32(data['days_employed'])\n",
    "data['dob_years'] = np.int8(data['dob_years'])\n",
    "data['education_id'] = np.int8(data['education_id'])\n",
    "data['family_status_id'] = np.int8(data['family_status_id'])\n",
    "data['debt'] = np.int8(data['debt'])\n",
    "data['days_employed'] = np.int32(data['days_employed'])\n",
    "data['total_income'] = data['total_income'].astype(int)\n",
    "data.info()"
   ]
  },
  {
   "cell_type": "markdown",
   "id": "a8b55b5d",
   "metadata": {},
   "source": [
    "Изменил тип всех числовых колонок до минимально необходимых. Размер датасета уменьшился с 2мб до 1.3мб."
   ]
  },
  {
   "cell_type": "markdown",
   "id": "587f2afb",
   "metadata": {},
   "source": [
    "### Обработка дубликатов"
   ]
  },
  {
   "cell_type": "markdown",
   "id": "d697e1b9",
   "metadata": {},
   "source": [
    "**Задание 14. Обработайте неявные дубликаты в столбце `education`. В этом столбце есть одни и те же значения, но записанные по-разному: с использованием заглавных и строчных букв. Приведите их к нижнему регистру. Проверьте остальные столбцы.**"
   ]
  },
  {
   "cell_type": "code",
   "execution_count": 101,
   "id": "5e3a916d",
   "metadata": {},
   "outputs": [],
   "source": [
    "data['education'] = data['education'].str.lower()"
   ]
  },
  {
   "cell_type": "markdown",
   "id": "ab3054f9",
   "metadata": {},
   "source": [
    "**Задание 15. Выведите на экран количество строк-дубликатов в данных. Если такие строки присутствуют, удалите их.**"
   ]
  },
  {
   "cell_type": "code",
   "execution_count": 102,
   "id": "b615b265",
   "metadata": {},
   "outputs": [
    {
     "data": {
      "text/plain": [
       "71"
      ]
     },
     "execution_count": 102,
     "metadata": {},
     "output_type": "execute_result"
    }
   ],
   "source": [
    "data.duplicated().sum()"
   ]
  },
  {
   "cell_type": "code",
   "execution_count": 103,
   "id": "b2fc704d",
   "metadata": {},
   "outputs": [],
   "source": [
    "data = data.drop_duplicates()"
   ]
  },
  {
   "cell_type": "markdown",
   "id": "42054471",
   "metadata": {},
   "source": [
    "### Категоризация данных"
   ]
  },
  {
   "cell_type": "markdown",
   "id": "67f9dbab",
   "metadata": {},
   "source": [
    "**Задание 16. На основании диапазонов, указанных ниже, создайте в датафрейме `data` столбец `total_income_category` с категориями:**\n",
    "\n",
    "- 0–30000 — `'E'`;\n",
    "- 30001–50000 — `'D'`;\n",
    "- 50001–200000 — `'C'`;\n",
    "- 200001–1000000 — `'B'`;\n",
    "- 1000001 и выше — `'A'`.\n",
    "\n",
    "\n",
    "**Например, кредитополучателю с доходом 25000 нужно назначить категорию `'E'`, а клиенту, получающему 235000, — `'B'`. Используйте собственную функцию с именем `categorize_income()` и метод `apply()`.**"
   ]
  },
  {
   "cell_type": "code",
   "execution_count": 104,
   "id": "f932e265",
   "metadata": {},
   "outputs": [],
   "source": [
    "def categorize_income(income):\n",
    "    try:\n",
    "        if 0 <= income <= 30000:\n",
    "            return 'E'\n",
    "        elif 30001 <= income <= 50000:\n",
    "            return 'D'\n",
    "        elif 50001 <= income <= 200000:\n",
    "            return 'C'\n",
    "        elif 200001 <= income <= 1000000:\n",
    "            return 'B'\n",
    "        elif income >= 1000001:\n",
    "            return 'A'\n",
    "    except:\n",
    "        pass"
   ]
  },
  {
   "cell_type": "code",
   "execution_count": 105,
   "id": "8e79b151",
   "metadata": {},
   "outputs": [],
   "source": [
    "data['total_income_category'] = data['total_income'].apply(categorize_income)"
   ]
  },
  {
   "cell_type": "markdown",
   "id": "ce32019c",
   "metadata": {},
   "source": [
    "**Задание 17. Выведите на экран перечень уникальных целей взятия кредита из столбца `purpose`.**"
   ]
  },
  {
   "cell_type": "code",
   "execution_count": 106,
   "id": "9fa2f7f2",
   "metadata": {},
   "outputs": [
    {
     "data": {
      "text/plain": [
       "array(['покупка жилья', 'приобретение автомобиля',\n",
       "       'дополнительное образование', 'сыграть свадьбу',\n",
       "       'операции с жильем', 'образование', 'на проведение свадьбы',\n",
       "       'покупка жилья для семьи', 'покупка недвижимости',\n",
       "       'покупка коммерческой недвижимости', 'покупка жилой недвижимости',\n",
       "       'строительство собственной недвижимости', 'недвижимость',\n",
       "       'строительство недвижимости', 'на покупку подержанного автомобиля',\n",
       "       'на покупку своего автомобиля',\n",
       "       'операции с коммерческой недвижимостью',\n",
       "       'строительство жилой недвижимости', 'жилье',\n",
       "       'операции со своей недвижимостью', 'автомобили',\n",
       "       'заняться образованием', 'сделка с подержанным автомобилем',\n",
       "       'получение образования', 'автомобиль', 'свадьба',\n",
       "       'получение дополнительного образования', 'покупка своего жилья',\n",
       "       'операции с недвижимостью', 'получение высшего образования',\n",
       "       'свой автомобиль', 'сделка с автомобилем',\n",
       "       'профильное образование', 'высшее образование',\n",
       "       'покупка жилья для сдачи', 'на покупку автомобиля', 'ремонт жилью',\n",
       "       'заняться высшим образованием'], dtype=object)"
      ]
     },
     "execution_count": 106,
     "metadata": {},
     "output_type": "execute_result"
    }
   ],
   "source": [
    "data['purpose'].unique()"
   ]
  },
  {
   "cell_type": "markdown",
   "id": "6fc5c649",
   "metadata": {},
   "source": [
    "**Задание 18. Создайте функцию, которая на основании данных из столбца `purpose` сформирует новый столбец `purpose_category`, в который войдут следующие категории:**\n",
    "\n",
    "- `'операции с автомобилем'`,\n",
    "- `'операции с недвижимостью'`,\n",
    "- `'проведение свадьбы'`,\n",
    "- `'получение образования'`.\n",
    "\n",
    "**Например, если в столбце `purpose` находится подстрока `'на покупку автомобиля'`, то в столбце `purpose_category` должна появиться строка `'операции с автомобилем'`.**\n",
    "\n",
    "**Используйте собственную функцию с именем `categorize_purpose()` и метод `apply()`. Изучите данные в столбце `purpose` и определите, какие подстроки помогут вам правильно определить категорию.**"
   ]
  },
  {
   "cell_type": "code",
   "execution_count": 107,
   "id": "42083754",
   "metadata": {},
   "outputs": [],
   "source": [
    "def categorize_purpose(row):\n",
    "    try:\n",
    "        if 'автом' in row:\n",
    "            return 'операции с автомобилем'\n",
    "        elif 'жил' in row or 'недвиж' in row:\n",
    "            return 'операции с недвижимостью'\n",
    "        elif 'свад' in row:\n",
    "            return 'проведение свадьбы'\n",
    "        elif 'образов' in row:\n",
    "            return 'получение образования'\n",
    "    except:\n",
    "        return 'нет категории'"
   ]
  },
  {
   "cell_type": "code",
   "execution_count": 108,
   "id": "7e4ecff5",
   "metadata": {},
   "outputs": [],
   "source": [
    "data['purpose_category'] = data['purpose'].apply(categorize_purpose)"
   ]
  },
  {
   "cell_type": "markdown",
   "id": "b1342376",
   "metadata": {},
   "source": [
    "### Шаг 3. Исследуйте данные и ответьте на вопросы"
   ]
  },
  {
   "cell_type": "markdown",
   "id": "21a476e7",
   "metadata": {},
   "source": [
    "#### 3.1 Есть ли зависимость между количеством детей и возвратом кредита в срок?"
   ]
  },
  {
   "cell_type": "markdown",
   "id": "f6afc98f",
   "metadata": {},
   "source": [
    "Определим долю должников по каждой категории детей через метод groupby() и mean()"
   ]
  },
  {
   "cell_type": "code",
   "execution_count": 124,
   "id": "76ae6649",
   "metadata": {},
   "outputs": [
    {
     "data": {
      "text/plain": [
       "children\n",
       "0    0.075438\n",
       "1    0.092346\n",
       "2    0.094542\n",
       "3    0.081579\n",
       "Name: debt, dtype: float64"
      ]
     },
     "metadata": {},
     "output_type": "display_data"
    }
   ],
   "source": [
    "child_debt = data.groupby('children')['debt'].mean()\n",
    "display(child_debt)"
   ]
  },
  {
   "cell_type": "markdown",
   "id": "de296dfd",
   "metadata": {},
   "source": [
    "Определим долю должников по каждой категории детей через pivot_table"
   ]
  },
  {
   "cell_type": "code",
   "execution_count": 85,
   "id": "63362aa3",
   "metadata": {},
   "outputs": [
    {
     "data": {
      "text/html": [
       "<div>\n",
       "<style scoped>\n",
       "    .dataframe tbody tr th:only-of-type {\n",
       "        vertical-align: middle;\n",
       "    }\n",
       "\n",
       "    .dataframe tbody tr th {\n",
       "        vertical-align: top;\n",
       "    }\n",
       "\n",
       "    .dataframe thead th {\n",
       "        text-align: right;\n",
       "    }\n",
       "</style>\n",
       "<table border=\"1\" class=\"dataframe\">\n",
       "  <thead>\n",
       "    <tr style=\"text-align: right;\">\n",
       "      <th></th>\n",
       "      <th>Кол-во заемщиков</th>\n",
       "      <th>Кол-во должников</th>\n",
       "      <th>Доля должников</th>\n",
       "    </tr>\n",
       "    <tr>\n",
       "      <th>children</th>\n",
       "      <th></th>\n",
       "      <th></th>\n",
       "      <th></th>\n",
       "    </tr>\n",
       "  </thead>\n",
       "  <tbody>\n",
       "    <tr>\n",
       "      <th>0</th>\n",
       "      <td>14091</td>\n",
       "      <td>1063.0</td>\n",
       "      <td>0.075438</td>\n",
       "    </tr>\n",
       "    <tr>\n",
       "      <th>1</th>\n",
       "      <td>4808</td>\n",
       "      <td>444.0</td>\n",
       "      <td>0.092346</td>\n",
       "    </tr>\n",
       "    <tr>\n",
       "      <th>2</th>\n",
       "      <td>2052</td>\n",
       "      <td>194.0</td>\n",
       "      <td>0.094542</td>\n",
       "    </tr>\n",
       "    <tr>\n",
       "      <th>3</th>\n",
       "      <td>330</td>\n",
       "      <td>27.0</td>\n",
       "      <td>0.081818</td>\n",
       "    </tr>\n",
       "    <tr>\n",
       "      <th>4</th>\n",
       "      <td>41</td>\n",
       "      <td>4.0</td>\n",
       "      <td>0.097561</td>\n",
       "    </tr>\n",
       "    <tr>\n",
       "      <th>5</th>\n",
       "      <td>9</td>\n",
       "      <td>0.0</td>\n",
       "      <td>0.000000</td>\n",
       "    </tr>\n",
       "  </tbody>\n",
       "</table>\n",
       "</div>"
      ],
      "text/plain": [
       "          Кол-во заемщиков  Кол-во должников  Доля должников\n",
       "children                                                    \n",
       "0                    14091            1063.0        0.075438\n",
       "1                     4808             444.0        0.092346\n",
       "2                     2052             194.0        0.094542\n",
       "3                      330              27.0        0.081818\n",
       "4                       41               4.0        0.097561\n",
       "5                        9               0.0        0.000000"
      ]
     },
     "metadata": {},
     "output_type": "display_data"
    }
   ],
   "source": [
    "child_pivot = data.pivot_table(index=['children'], values='debt', aggfunc=['count', 'sum', 'mean'])\n",
    "child_pivot.columns = ['Кол-во заемщиков', 'Кол-во должников', 'Доля должников']\n",
    "display(child_pivot)"
   ]
  },
  {
   "cell_type": "markdown",
   "id": "b20fab4e",
   "metadata": {},
   "source": [
    "Объединим категории 3, 4 и 5 детей в одну, как малочисленные."
   ]
  },
  {
   "cell_type": "code",
   "execution_count": 115,
   "id": "2d558b06",
   "metadata": {},
   "outputs": [
    {
     "data": {
      "text/html": [
       "<div>\n",
       "<style scoped>\n",
       "    .dataframe tbody tr th:only-of-type {\n",
       "        vertical-align: middle;\n",
       "    }\n",
       "\n",
       "    .dataframe tbody tr th {\n",
       "        vertical-align: top;\n",
       "    }\n",
       "\n",
       "    .dataframe thead th {\n",
       "        text-align: right;\n",
       "    }\n",
       "</style>\n",
       "<table border=\"1\" class=\"dataframe\">\n",
       "  <thead>\n",
       "    <tr style=\"text-align: right;\">\n",
       "      <th></th>\n",
       "      <th>Кол-во заемщиков</th>\n",
       "      <th>Кол-во должников</th>\n",
       "      <th>Доля должников</th>\n",
       "    </tr>\n",
       "    <tr>\n",
       "      <th>children</th>\n",
       "      <th></th>\n",
       "      <th></th>\n",
       "      <th></th>\n",
       "    </tr>\n",
       "  </thead>\n",
       "  <tbody>\n",
       "    <tr>\n",
       "      <th>0</th>\n",
       "      <td>14091</td>\n",
       "      <td>1063.0</td>\n",
       "      <td>0.075438</td>\n",
       "    </tr>\n",
       "    <tr>\n",
       "      <th>1</th>\n",
       "      <td>4808</td>\n",
       "      <td>444.0</td>\n",
       "      <td>0.092346</td>\n",
       "    </tr>\n",
       "    <tr>\n",
       "      <th>2</th>\n",
       "      <td>2052</td>\n",
       "      <td>194.0</td>\n",
       "      <td>0.094542</td>\n",
       "    </tr>\n",
       "    <tr>\n",
       "      <th>3</th>\n",
       "      <td>380</td>\n",
       "      <td>31.0</td>\n",
       "      <td>0.081579</td>\n",
       "    </tr>\n",
       "  </tbody>\n",
       "</table>\n",
       "</div>"
      ],
      "text/plain": [
       "          Кол-во заемщиков  Кол-во должников  Доля должников\n",
       "children                                                    \n",
       "0                    14091            1063.0        0.075438\n",
       "1                     4808             444.0        0.092346\n",
       "2                     2052             194.0        0.094542\n",
       "3                      380              31.0        0.081579"
      ]
     },
     "metadata": {},
     "output_type": "display_data"
    }
   ],
   "source": [
    "data.loc[(data['children'] == 4) | (data['children'] == 5), 'children'] = 3\n",
    "data['children'].unique()\n",
    "child_pivot = data.pivot_table(index=['children'], values='debt', aggfunc=['count', 'sum', 'mean'])\n",
    "child_pivot.columns = ['Кол-во заемщиков', 'Кол-во должников', 'Доля должников']\n",
    "display(child_pivot)"
   ]
  },
  {
   "cell_type": "markdown",
   "id": "b4c9e0e3",
   "metadata": {},
   "source": [
    "**Вывод:\n",
    "1.Наличие детей у заемщика отрицательно сказывается на его способности гасить кредит вовремя.\n",
    "2.Отсутствие детей уменьшает долю должников.**"
   ]
  },
  {
   "cell_type": "markdown",
   "id": "0927e97b",
   "metadata": {},
   "source": [
    "#### 3.2 Есть ли зависимость между семейным положением и возвратом кредита в срок?"
   ]
  },
  {
   "cell_type": "markdown",
   "id": "f1e50d06",
   "metadata": {},
   "source": [
    "Посмотрим какие варианты может принимать колонка family_status"
   ]
  },
  {
   "cell_type": "code",
   "execution_count": 120,
   "id": "f33fe1c9",
   "metadata": {},
   "outputs": [
    {
     "data": {
      "text/plain": [
       "array(['женат / замужем', 'гражданский брак', 'вдовец / вдова',\n",
       "       'в разводе', 'Не женат / не замужем'], dtype=object)"
      ]
     },
     "metadata": {},
     "output_type": "display_data"
    }
   ],
   "source": [
    "display(data['family_status'].unique())"
   ]
  },
  {
   "cell_type": "markdown",
   "id": "713efae5",
   "metadata": {},
   "source": [
    "Определим долю должников по каждой категории семейного положения через pivot_table"
   ]
  },
  {
   "cell_type": "code",
   "execution_count": 121,
   "id": "da54ea08",
   "metadata": {},
   "outputs": [
    {
     "data": {
      "text/html": [
       "<div>\n",
       "<style scoped>\n",
       "    .dataframe tbody tr th:only-of-type {\n",
       "        vertical-align: middle;\n",
       "    }\n",
       "\n",
       "    .dataframe tbody tr th {\n",
       "        vertical-align: top;\n",
       "    }\n",
       "\n",
       "    .dataframe thead th {\n",
       "        text-align: right;\n",
       "    }\n",
       "</style>\n",
       "<table border=\"1\" class=\"dataframe\">\n",
       "  <thead>\n",
       "    <tr style=\"text-align: right;\">\n",
       "      <th></th>\n",
       "      <th>Кол-во заемщиков</th>\n",
       "      <th>Кол-во должников</th>\n",
       "      <th>Доля должников</th>\n",
       "    </tr>\n",
       "    <tr>\n",
       "      <th>family_status</th>\n",
       "      <th></th>\n",
       "      <th></th>\n",
       "      <th></th>\n",
       "    </tr>\n",
       "  </thead>\n",
       "  <tbody>\n",
       "    <tr>\n",
       "      <th>Не женат / не замужем</th>\n",
       "      <td>2796</td>\n",
       "      <td>273.0</td>\n",
       "      <td>0.097639</td>\n",
       "    </tr>\n",
       "    <tr>\n",
       "      <th>в разводе</th>\n",
       "      <td>1189</td>\n",
       "      <td>84.0</td>\n",
       "      <td>0.070648</td>\n",
       "    </tr>\n",
       "    <tr>\n",
       "      <th>вдовец / вдова</th>\n",
       "      <td>951</td>\n",
       "      <td>63.0</td>\n",
       "      <td>0.066246</td>\n",
       "    </tr>\n",
       "    <tr>\n",
       "      <th>гражданский брак</th>\n",
       "      <td>4134</td>\n",
       "      <td>385.0</td>\n",
       "      <td>0.093130</td>\n",
       "    </tr>\n",
       "    <tr>\n",
       "      <th>женат / замужем</th>\n",
       "      <td>12261</td>\n",
       "      <td>927.0</td>\n",
       "      <td>0.075606</td>\n",
       "    </tr>\n",
       "  </tbody>\n",
       "</table>\n",
       "</div>"
      ],
      "text/plain": [
       "                       Кол-во заемщиков  Кол-во должников  Доля должников\n",
       "family_status                                                            \n",
       "Не женат / не замужем              2796             273.0        0.097639\n",
       "в разводе                          1189              84.0        0.070648\n",
       "вдовец / вдова                      951              63.0        0.066246\n",
       "гражданский брак                   4134             385.0        0.093130\n",
       "женат / замужем                   12261             927.0        0.075606"
      ]
     },
     "metadata": {},
     "output_type": "display_data"
    }
   ],
   "source": [
    "family_pivot = data.pivot_table(index=['family_status'], values='debt', aggfunc=['count', 'sum', 'mean'])\n",
    "family_pivot.columns = ['Кол-во заемщиков', 'Кол-во должников', 'Доля должников']\n",
    "display(family_pivot)"
   ]
  },
  {
   "cell_type": "markdown",
   "id": "b026e80d",
   "metadata": {},
   "source": [
    "**Вывод:\n",
    "1.Максимальная доля должников в категориях 'Не женат / не замужем ' и 'гражданский брак', предположительно, это более молодые люди еще не вступившие в брак или находящиеся в гражданском браке.\n",
    "2.Заемщики бывшие в браке и находящиеся в нем имеют меньшую долю должников.**"
   ]
  },
  {
   "cell_type": "markdown",
   "id": "f443338f",
   "metadata": {},
   "source": [
    "#### 3.3 Есть ли зависимость между уровнем дохода и возвратом кредита в срок?"
   ]
  },
  {
   "cell_type": "markdown",
   "id": "c20b9972",
   "metadata": {},
   "source": [
    "Определим долю должников по каждой категории уровня дохода через pivot_table"
   ]
  },
  {
   "cell_type": "code",
   "execution_count": 122,
   "id": "b3f68896",
   "metadata": {
    "scrolled": true
   },
   "outputs": [
    {
     "data": {
      "text/html": [
       "<div>\n",
       "<style scoped>\n",
       "    .dataframe tbody tr th:only-of-type {\n",
       "        vertical-align: middle;\n",
       "    }\n",
       "\n",
       "    .dataframe tbody tr th {\n",
       "        vertical-align: top;\n",
       "    }\n",
       "\n",
       "    .dataframe thead th {\n",
       "        text-align: right;\n",
       "    }\n",
       "</style>\n",
       "<table border=\"1\" class=\"dataframe\">\n",
       "  <thead>\n",
       "    <tr style=\"text-align: right;\">\n",
       "      <th></th>\n",
       "      <th>Кол-во заемщиков</th>\n",
       "      <th>Кол-во должников</th>\n",
       "      <th>Доля должников</th>\n",
       "    </tr>\n",
       "    <tr>\n",
       "      <th>total_income_category</th>\n",
       "      <th></th>\n",
       "      <th></th>\n",
       "      <th></th>\n",
       "    </tr>\n",
       "  </thead>\n",
       "  <tbody>\n",
       "    <tr>\n",
       "      <th>A</th>\n",
       "      <td>25</td>\n",
       "      <td>2.0</td>\n",
       "      <td>0.080000</td>\n",
       "    </tr>\n",
       "    <tr>\n",
       "      <th>B</th>\n",
       "      <td>5511</td>\n",
       "      <td>384.0</td>\n",
       "      <td>0.069679</td>\n",
       "    </tr>\n",
       "    <tr>\n",
       "      <th>C</th>\n",
       "      <td>15424</td>\n",
       "      <td>1323.0</td>\n",
       "      <td>0.085775</td>\n",
       "    </tr>\n",
       "    <tr>\n",
       "      <th>D</th>\n",
       "      <td>349</td>\n",
       "      <td>21.0</td>\n",
       "      <td>0.060172</td>\n",
       "    </tr>\n",
       "    <tr>\n",
       "      <th>E</th>\n",
       "      <td>22</td>\n",
       "      <td>2.0</td>\n",
       "      <td>0.090909</td>\n",
       "    </tr>\n",
       "  </tbody>\n",
       "</table>\n",
       "</div>"
      ],
      "text/plain": [
       "                       Кол-во заемщиков  Кол-во должников  Доля должников\n",
       "total_income_category                                                    \n",
       "A                                    25               2.0        0.080000\n",
       "B                                  5511             384.0        0.069679\n",
       "C                                 15424            1323.0        0.085775\n",
       "D                                   349              21.0        0.060172\n",
       "E                                    22               2.0        0.090909"
      ]
     },
     "metadata": {},
     "output_type": "display_data"
    }
   ],
   "source": [
    "total_income_pivot = data.pivot_table(index=['total_income_category'], values='debt', aggfunc=['count', 'sum', 'mean'])\n",
    "total_income_pivot.columns = ['Кол-во заемщиков', 'Кол-во должников', 'Доля должников']\n",
    "display(total_income_pivot)"
   ]
  },
  {
   "cell_type": "markdown",
   "id": "c25d6ce2",
   "metadata": {},
   "source": [
    "**Вывод:\n",
    "Если исключить из рассмотрения категрии дохода 'А' (>1 000 000) и 'Е' (<30 000), каждая из которых составляет по кол-ву заемщиков около 0.1%, то\n",
    "1.Очевидно увеличение доли должников для категории 'C' (200 000 - 1 000 000) по сравнению с категориями 'B' и 'D'.**"
   ]
  },
  {
   "cell_type": "markdown",
   "id": "8520f0ef",
   "metadata": {},
   "source": [
    "#### 3.4 Как разные цели кредита влияют на его возврат в срок?"
   ]
  },
  {
   "cell_type": "markdown",
   "id": "144631d6",
   "metadata": {},
   "source": [
    "Определим долю должников на разные цели через pivot_table"
   ]
  },
  {
   "cell_type": "code",
   "execution_count": 123,
   "id": "1f3349fc",
   "metadata": {},
   "outputs": [
    {
     "data": {
      "text/html": [
       "<div>\n",
       "<style scoped>\n",
       "    .dataframe tbody tr th:only-of-type {\n",
       "        vertical-align: middle;\n",
       "    }\n",
       "\n",
       "    .dataframe tbody tr th {\n",
       "        vertical-align: top;\n",
       "    }\n",
       "\n",
       "    .dataframe thead th {\n",
       "        text-align: right;\n",
       "    }\n",
       "</style>\n",
       "<table border=\"1\" class=\"dataframe\">\n",
       "  <thead>\n",
       "    <tr style=\"text-align: right;\">\n",
       "      <th></th>\n",
       "      <th>Кол-во заемщиков</th>\n",
       "      <th>Кол-во должников</th>\n",
       "      <th>Доля должников</th>\n",
       "    </tr>\n",
       "    <tr>\n",
       "      <th>purpose_category</th>\n",
       "      <th></th>\n",
       "      <th></th>\n",
       "      <th></th>\n",
       "    </tr>\n",
       "  </thead>\n",
       "  <tbody>\n",
       "    <tr>\n",
       "      <th>операции с автомобилем</th>\n",
       "      <td>4279</td>\n",
       "      <td>400.0</td>\n",
       "      <td>0.093480</td>\n",
       "    </tr>\n",
       "    <tr>\n",
       "      <th>операции с недвижимостью</th>\n",
       "      <td>10751</td>\n",
       "      <td>780.0</td>\n",
       "      <td>0.072551</td>\n",
       "    </tr>\n",
       "    <tr>\n",
       "      <th>получение образования</th>\n",
       "      <td>3988</td>\n",
       "      <td>369.0</td>\n",
       "      <td>0.092528</td>\n",
       "    </tr>\n",
       "    <tr>\n",
       "      <th>проведение свадьбы</th>\n",
       "      <td>2313</td>\n",
       "      <td>183.0</td>\n",
       "      <td>0.079118</td>\n",
       "    </tr>\n",
       "  </tbody>\n",
       "</table>\n",
       "</div>"
      ],
      "text/plain": [
       "                          Кол-во заемщиков  Кол-во должников  Доля должников\n",
       "purpose_category                                                            \n",
       "операции с автомобилем                4279             400.0        0.093480\n",
       "операции с недвижимостью             10751             780.0        0.072551\n",
       "получение образования                 3988             369.0        0.092528\n",
       "проведение свадьбы                    2313             183.0        0.079118"
      ]
     },
     "metadata": {},
     "output_type": "display_data"
    }
   ],
   "source": [
    "purpose_pivot = data.pivot_table(index=['purpose_category'], values='debt', aggfunc=['count', 'sum', 'mean'])\n",
    "purpose_pivot.columns = ['Кол-во заемщиков', 'Кол-во должников', 'Доля должников']\n",
    "display(purpose_pivot)"
   ]
  },
  {
   "cell_type": "markdown",
   "id": "943f906d",
   "metadata": {},
   "source": [
    "**Вывод:\n",
    "1.Доля должников по категориям 'операции с автомобилем' и 'получение образования' выше чем по другим категориям.** "
   ]
  },
  {
   "cell_type": "markdown",
   "id": "dded0a7b",
   "metadata": {},
   "source": [
    "#### 3.5 Приведите возможные причины появления пропусков в исходных данных."
   ]
  },
  {
   "cell_type": "markdown",
   "id": "0ed220d9",
   "metadata": {},
   "source": [
    "*Ответ:\n",
    "1.Разные источники данных, часть из которых допускает вводить не все данные\n",
    "2.Ручной ввод данных, как следствие ошибки ввода\n",
    "3.Ошибки при загрузке данных из других информационных систем* "
   ]
  },
  {
   "cell_type": "markdown",
   "id": "3d4364cd",
   "metadata": {},
   "source": [
    "#### 3.6 Объясните, почему заполнить пропуски медианным значением — лучшее решение для количественных переменных."
   ]
  },
  {
   "cell_type": "markdown",
   "id": "cd386ddc",
   "metadata": {},
   "source": [
    "*Ответ:\n",
    "Заполненние пропусков данных в количественных переменных значением медианы не вносит искажения в данные.* "
   ]
  },
  {
   "cell_type": "markdown",
   "id": "b1fd96ab",
   "metadata": {},
   "source": [
    "### Шаг 4: общий вывод."
   ]
  },
  {
   "cell_type": "markdown",
   "id": "3773118f",
   "metadata": {},
   "source": [
    "**Обработав полученные данные можно сформулировать следующие критерии наименее рискованных заемщиков:\n",
    "1.Отсутствие детей.\n",
    "2.Заемщики бывшие в браке и находящиеся в нем.\n",
    "3.Цель кредита 'операции с недвижимостью' или 'проведение свадьбы'.\n",
    "4.Ограничивать получение кредита по совокупному доходу для более рисковой категории с доходом от 200 000 до 1 000 000 не имеет смысла, т к эта категория покрывает более 75% заемщиков.**"
   ]
  }
 ],
 "metadata": {
  "ExecuteTimeLog": [
   {
    "duration": 469,
    "start_time": "2022-10-19T16:13:27.349Z"
   },
   {
    "duration": 25,
    "start_time": "2022-10-19T16:13:43.983Z"
   },
   {
    "duration": 17,
    "start_time": "2022-10-19T16:13:55.319Z"
   },
   {
    "duration": 13,
    "start_time": "2022-10-19T16:14:05.349Z"
   },
   {
    "duration": 33,
    "start_time": "2022-10-19T16:14:12.554Z"
   },
   {
    "duration": 4,
    "start_time": "2022-10-19T16:14:17.961Z"
   },
   {
    "duration": 8,
    "start_time": "2022-10-19T16:14:20.529Z"
   },
   {
    "duration": 5,
    "start_time": "2022-10-19T16:14:24.977Z"
   },
   {
    "duration": 8,
    "start_time": "2022-10-19T16:14:27.207Z"
   },
   {
    "duration": 4,
    "start_time": "2022-10-19T16:14:30.153Z"
   },
   {
    "duration": 34,
    "start_time": "2022-10-19T16:14:52.711Z"
   },
   {
    "duration": 11,
    "start_time": "2022-10-19T16:14:55.111Z"
   },
   {
    "duration": 4,
    "start_time": "2022-10-19T16:15:02.531Z"
   },
   {
    "duration": 11,
    "start_time": "2022-10-19T16:15:05.658Z"
   },
   {
    "duration": 29,
    "start_time": "2022-10-19T16:15:07.904Z"
   },
   {
    "duration": 18,
    "start_time": "2022-10-19T16:15:15.357Z"
   },
   {
    "duration": 8,
    "start_time": "2022-10-19T16:15:57.392Z"
   },
   {
    "duration": 12,
    "start_time": "2022-10-19T16:16:00.010Z"
   },
   {
    "duration": 6,
    "start_time": "2022-10-19T16:16:06.535Z"
   },
   {
    "duration": 6,
    "start_time": "2022-10-19T16:16:10.912Z"
   },
   {
    "duration": 12,
    "start_time": "2022-10-19T16:16:13.022Z"
   },
   {
    "duration": 66,
    "start_time": "2022-10-19T16:46:37.791Z"
   },
   {
    "duration": 9,
    "start_time": "2022-10-19T16:46:52.315Z"
   },
   {
    "duration": 8,
    "start_time": "2022-10-19T16:49:41.388Z"
   },
   {
    "duration": 8,
    "start_time": "2022-10-19T16:56:21.616Z"
   },
   {
    "duration": 22,
    "start_time": "2022-10-19T16:58:11.232Z"
   },
   {
    "duration": 18,
    "start_time": "2022-10-19T17:03:04.947Z"
   },
   {
    "duration": 14,
    "start_time": "2022-10-19T17:03:16.766Z"
   },
   {
    "duration": 18,
    "start_time": "2022-10-19T17:08:16.905Z"
   },
   {
    "duration": 7,
    "start_time": "2022-10-19T17:11:30.885Z"
   },
   {
    "duration": 10,
    "start_time": "2022-10-19T17:12:05.114Z"
   },
   {
    "duration": 7,
    "start_time": "2022-10-19T17:12:31.746Z"
   },
   {
    "duration": 12,
    "start_time": "2022-10-19T17:12:46.461Z"
   },
   {
    "duration": 8,
    "start_time": "2022-10-19T17:13:11.502Z"
   },
   {
    "duration": 10,
    "start_time": "2022-10-19T17:13:46.142Z"
   },
   {
    "duration": 7,
    "start_time": "2022-10-19T17:13:52.378Z"
   },
   {
    "duration": 18,
    "start_time": "2022-10-19T17:14:34.831Z"
   },
   {
    "duration": 16,
    "start_time": "2022-10-19T17:18:41.922Z"
   },
   {
    "duration": 13,
    "start_time": "2022-10-19T17:21:20.849Z"
   },
   {
    "duration": 15,
    "start_time": "2022-10-19T17:23:23.371Z"
   },
   {
    "duration": 8,
    "start_time": "2022-10-19T17:23:34.440Z"
   },
   {
    "duration": 7,
    "start_time": "2022-10-19T17:30:34.781Z"
   },
   {
    "duration": 8,
    "start_time": "2022-10-19T17:31:57.853Z"
   },
   {
    "duration": 3,
    "start_time": "2022-10-19T17:32:39.179Z"
   },
   {
    "duration": 6,
    "start_time": "2022-10-19T17:33:30.010Z"
   },
   {
    "duration": 7,
    "start_time": "2022-10-19T17:40:09.619Z"
   },
   {
    "duration": 13,
    "start_time": "2022-10-19T17:48:33.859Z"
   },
   {
    "duration": 16,
    "start_time": "2022-10-19T18:01:37.411Z"
   },
   {
    "duration": 12,
    "start_time": "2022-10-19T18:02:28.791Z"
   },
   {
    "duration": 7,
    "start_time": "2022-10-19T18:06:41.713Z"
   },
   {
    "duration": 11,
    "start_time": "2022-10-19T18:06:43.600Z"
   },
   {
    "duration": 5,
    "start_time": "2022-10-19T18:11:00.000Z"
   },
   {
    "duration": 5,
    "start_time": "2022-10-19T18:11:07.749Z"
   },
   {
    "duration": 11,
    "start_time": "2022-10-19T18:11:12.626Z"
   },
   {
    "duration": 12,
    "start_time": "2022-10-19T18:17:00.803Z"
   },
   {
    "duration": 11,
    "start_time": "2022-10-19T18:19:07.480Z"
   },
   {
    "duration": 6,
    "start_time": "2022-10-19T18:23:32.738Z"
   },
   {
    "duration": 22,
    "start_time": "2022-10-19T18:55:37.272Z"
   },
   {
    "duration": 21,
    "start_time": "2022-10-19T18:56:48.158Z"
   },
   {
    "duration": 22,
    "start_time": "2022-10-19T18:58:18.960Z"
   },
   {
    "duration": 5,
    "start_time": "2022-10-19T19:16:37.918Z"
   },
   {
    "duration": 17,
    "start_time": "2022-10-19T19:22:39.882Z"
   },
   {
    "duration": 28,
    "start_time": "2022-10-19T19:23:01.706Z"
   },
   {
    "duration": 28,
    "start_time": "2022-10-19T19:23:31.740Z"
   },
   {
    "duration": 5,
    "start_time": "2022-10-19T19:26:57.957Z"
   },
   {
    "duration": 24,
    "start_time": "2022-10-19T19:27:02.615Z"
   },
   {
    "duration": 6,
    "start_time": "2022-10-19T19:30:57.054Z"
   },
   {
    "duration": 7,
    "start_time": "2022-10-19T19:31:15.097Z"
   },
   {
    "duration": 9,
    "start_time": "2022-10-19T19:31:32.408Z"
   },
   {
    "duration": 5,
    "start_time": "2022-10-19T19:32:04.348Z"
   },
   {
    "duration": 17,
    "start_time": "2022-10-19T19:43:13.714Z"
   },
   {
    "duration": 24,
    "start_time": "2022-10-19T19:45:20.484Z"
   },
   {
    "duration": 7,
    "start_time": "2022-10-19T19:58:10.133Z"
   },
   {
    "duration": 31,
    "start_time": "2022-10-19T19:59:04.593Z"
   },
   {
    "duration": 30,
    "start_time": "2022-10-19T19:59:50.900Z"
   },
   {
    "duration": 55,
    "start_time": "2022-10-31T20:18:14.954Z"
   },
   {
    "duration": 5,
    "start_time": "2022-10-31T20:18:26.742Z"
   },
   {
    "duration": 388,
    "start_time": "2022-10-31T20:18:55.316Z"
   },
   {
    "duration": 72,
    "start_time": "2022-10-31T20:18:57.626Z"
   },
   {
    "duration": 20,
    "start_time": "2022-10-31T20:19:06.140Z"
   },
   {
    "duration": 38,
    "start_time": "2022-10-31T20:19:13.642Z"
   },
   {
    "duration": 57,
    "start_time": "2022-10-31T20:19:48.585Z"
   },
   {
    "duration": 42,
    "start_time": "2022-10-31T20:19:57.224Z"
   },
   {
    "duration": 39,
    "start_time": "2022-10-31T20:20:38.460Z"
   },
   {
    "duration": 10,
    "start_time": "2022-10-31T20:35:11.119Z"
   },
   {
    "duration": 31,
    "start_time": "2022-10-31T20:35:19.841Z"
   },
   {
    "duration": 4,
    "start_time": "2022-10-31T20:36:08.676Z"
   },
   {
    "duration": 10,
    "start_time": "2022-10-31T20:37:29.985Z"
   },
   {
    "duration": 2,
    "start_time": "2022-10-31T20:37:42.245Z"
   },
   {
    "duration": 67,
    "start_time": "2022-10-31T20:37:42.775Z"
   },
   {
    "duration": 14,
    "start_time": "2022-10-31T20:37:45.025Z"
   },
   {
    "duration": 39,
    "start_time": "2022-10-31T20:37:47.961Z"
   },
   {
    "duration": 9,
    "start_time": "2022-10-31T20:37:54.715Z"
   },
   {
    "duration": 112,
    "start_time": "2022-10-31T20:39:56.762Z"
   },
   {
    "duration": 26,
    "start_time": "2022-10-31T20:40:18.791Z"
   },
   {
    "duration": 19,
    "start_time": "2022-10-31T20:41:15.218Z"
   },
   {
    "duration": 5,
    "start_time": "2022-10-31T20:41:44.683Z"
   },
   {
    "duration": 6,
    "start_time": "2022-10-31T20:41:59.105Z"
   },
   {
    "duration": 20,
    "start_time": "2022-10-31T20:42:22.833Z"
   },
   {
    "duration": 23,
    "start_time": "2022-10-31T20:55:29.157Z"
   },
   {
    "duration": 25,
    "start_time": "2022-10-31T20:56:50.715Z"
   },
   {
    "duration": 24,
    "start_time": "2022-10-31T20:57:48.779Z"
   },
   {
    "duration": 13,
    "start_time": "2022-10-31T21:00:16.063Z"
   },
   {
    "duration": 12,
    "start_time": "2022-10-31T21:01:36.640Z"
   },
   {
    "duration": 51,
    "start_time": "2022-10-31T21:03:08.241Z"
   },
   {
    "duration": 237,
    "start_time": "2022-10-31T21:05:03.064Z"
   },
   {
    "duration": 9,
    "start_time": "2022-10-31T21:06:51.051Z"
   },
   {
    "duration": 10,
    "start_time": "2022-10-31T21:07:26.790Z"
   },
   {
    "duration": 2,
    "start_time": "2022-10-31T21:07:36.740Z"
   },
   {
    "duration": 73,
    "start_time": "2022-10-31T21:07:37.223Z"
   },
   {
    "duration": 16,
    "start_time": "2022-10-31T21:07:38.835Z"
   },
   {
    "duration": 40,
    "start_time": "2022-10-31T21:07:41.463Z"
   },
   {
    "duration": 11,
    "start_time": "2022-10-31T21:07:46.931Z"
   },
   {
    "duration": 29,
    "start_time": "2022-10-31T21:07:51.848Z"
   },
   {
    "duration": 2,
    "start_time": "2022-10-31T21:10:55.064Z"
   },
   {
    "duration": 10,
    "start_time": "2022-10-31T21:11:00.877Z"
   },
   {
    "duration": 4,
    "start_time": "2022-10-31T21:11:28.724Z"
   },
   {
    "duration": 9,
    "start_time": "2022-10-31T21:11:40.722Z"
   },
   {
    "duration": 5,
    "start_time": "2022-10-31T21:11:50.429Z"
   },
   {
    "duration": 7,
    "start_time": "2022-10-31T21:11:59.855Z"
   },
   {
    "duration": 4,
    "start_time": "2022-10-31T21:12:08.640Z"
   },
   {
    "duration": 33,
    "start_time": "2022-10-31T21:14:45.989Z"
   },
   {
    "duration": 11,
    "start_time": "2022-10-31T21:15:21.545Z"
   },
   {
    "duration": 39,
    "start_time": "2022-10-31T21:23:52.282Z"
   },
   {
    "duration": 8,
    "start_time": "2022-10-31T21:27:47.799Z"
   },
   {
    "duration": 37,
    "start_time": "2022-10-31T21:28:10.528Z"
   },
   {
    "duration": 3,
    "start_time": "2022-10-31T21:29:39.465Z"
   },
   {
    "duration": 6,
    "start_time": "2022-10-31T21:30:48.057Z"
   },
   {
    "duration": 7,
    "start_time": "2022-10-31T21:32:14.127Z"
   },
   {
    "duration": 42,
    "start_time": "2022-10-31T21:32:21.621Z"
   },
   {
    "duration": 41,
    "start_time": "2022-10-31T21:33:21.131Z"
   },
   {
    "duration": 815,
    "start_time": "2022-10-31T21:36:21.411Z"
   },
   {
    "duration": 45,
    "start_time": "2022-10-31T21:36:32.953Z"
   },
   {
    "duration": 44,
    "start_time": "2022-10-31T21:41:53.290Z"
   },
   {
    "duration": 3,
    "start_time": "2022-10-31T21:43:02.886Z"
   },
   {
    "duration": 75,
    "start_time": "2022-10-31T21:43:04.208Z"
   },
   {
    "duration": 14,
    "start_time": "2022-10-31T21:43:06.837Z"
   },
   {
    "duration": 39,
    "start_time": "2022-10-31T21:43:17.894Z"
   },
   {
    "duration": 9,
    "start_time": "2022-10-31T21:43:26.525Z"
   },
   {
    "duration": 2,
    "start_time": "2022-10-31T21:43:31.144Z"
   },
   {
    "duration": 11,
    "start_time": "2022-10-31T21:43:54.147Z"
   },
   {
    "duration": 3,
    "start_time": "2022-10-31T21:44:06.119Z"
   },
   {
    "duration": 7,
    "start_time": "2022-10-31T21:44:08.652Z"
   },
   {
    "duration": 4,
    "start_time": "2022-10-31T21:44:15.228Z"
   },
   {
    "duration": 5,
    "start_time": "2022-10-31T21:44:16.594Z"
   },
   {
    "duration": 4,
    "start_time": "2022-10-31T21:44:18.294Z"
   },
   {
    "duration": 30,
    "start_time": "2022-10-31T21:44:27.679Z"
   },
   {
    "duration": 10,
    "start_time": "2022-10-31T21:44:39.153Z"
   },
   {
    "duration": 18,
    "start_time": "2022-10-31T21:44:50.277Z"
   },
   {
    "duration": 10,
    "start_time": "2022-10-31T21:47:45.345Z"
   },
   {
    "duration": 17,
    "start_time": "2022-10-31T21:47:47.823Z"
   },
   {
    "duration": 16,
    "start_time": "2022-10-31T21:47:51.765Z"
   },
   {
    "duration": 4,
    "start_time": "2022-10-31T21:47:59.014Z"
   },
   {
    "duration": 10,
    "start_time": "2022-10-31T21:48:05.305Z"
   },
   {
    "duration": 6,
    "start_time": "2022-10-31T21:48:08.176Z"
   },
   {
    "duration": 3,
    "start_time": "2022-10-31T21:48:12.419Z"
   },
   {
    "duration": 7,
    "start_time": "2022-10-31T21:48:23.087Z"
   },
   {
    "duration": 6,
    "start_time": "2022-10-31T21:48:29.318Z"
   },
   {
    "duration": 24,
    "start_time": "2022-10-31T21:48:35.180Z"
   },
   {
    "duration": 22,
    "start_time": "2022-10-31T21:48:56.070Z"
   },
   {
    "duration": 2,
    "start_time": "2022-10-31T21:53:31.161Z"
   },
   {
    "duration": 104,
    "start_time": "2022-10-31T21:53:31.923Z"
   },
   {
    "duration": 14,
    "start_time": "2022-10-31T21:53:33.415Z"
   },
   {
    "duration": 48,
    "start_time": "2022-10-31T21:53:34.438Z"
   },
   {
    "duration": 9,
    "start_time": "2022-10-31T21:53:37.431Z"
   },
   {
    "duration": 2,
    "start_time": "2022-10-31T21:53:38.582Z"
   },
   {
    "duration": 10,
    "start_time": "2022-10-31T21:53:39.516Z"
   },
   {
    "duration": 4,
    "start_time": "2022-10-31T21:53:41.062Z"
   },
   {
    "duration": 7,
    "start_time": "2022-10-31T21:53:42.176Z"
   },
   {
    "duration": 3,
    "start_time": "2022-10-31T21:53:43.352Z"
   },
   {
    "duration": 5,
    "start_time": "2022-10-31T21:53:44.589Z"
   },
   {
    "duration": 4,
    "start_time": "2022-10-31T21:53:46.355Z"
   },
   {
    "duration": 34,
    "start_time": "2022-10-31T21:53:49.288Z"
   },
   {
    "duration": 9,
    "start_time": "2022-10-31T21:53:52.761Z"
   },
   {
    "duration": 18,
    "start_time": "2022-10-31T21:53:54.865Z"
   },
   {
    "duration": 11,
    "start_time": "2022-10-31T21:53:59.798Z"
   },
   {
    "duration": 18,
    "start_time": "2022-10-31T21:54:01.405Z"
   },
   {
    "duration": 17,
    "start_time": "2022-10-31T21:54:02.207Z"
   },
   {
    "duration": 3,
    "start_time": "2022-10-31T21:54:04.248Z"
   },
   {
    "duration": 10,
    "start_time": "2022-10-31T21:54:05.233Z"
   },
   {
    "duration": 5,
    "start_time": "2022-10-31T21:54:05.914Z"
   },
   {
    "duration": 3,
    "start_time": "2022-10-31T21:54:07.291Z"
   },
   {
    "duration": 7,
    "start_time": "2022-10-31T21:54:08.479Z"
   },
   {
    "duration": 6,
    "start_time": "2022-10-31T21:54:11.204Z"
   },
   {
    "duration": 6,
    "start_time": "2022-10-31T22:02:12.566Z"
   },
   {
    "duration": 6,
    "start_time": "2022-10-31T22:02:27.245Z"
   },
   {
    "duration": 7,
    "start_time": "2022-10-31T22:05:15.247Z"
   },
   {
    "duration": 28,
    "start_time": "2022-10-31T22:05:50.869Z"
   },
   {
    "duration": 185,
    "start_time": "2022-10-31T22:08:17.470Z"
   },
   {
    "duration": 24,
    "start_time": "2022-10-31T22:08:53.760Z"
   },
   {
    "duration": 4,
    "start_time": "2022-10-31T22:09:11.748Z"
   },
   {
    "duration": 24,
    "start_time": "2022-10-31T22:09:12.796Z"
   },
   {
    "duration": 23,
    "start_time": "2022-10-31T22:10:24.937Z"
   },
   {
    "duration": 25,
    "start_time": "2022-10-31T22:10:45.744Z"
   },
   {
    "duration": 5,
    "start_time": "2022-10-31T22:27:25.098Z"
   },
   {
    "duration": 28,
    "start_time": "2022-10-31T22:27:57.879Z"
   },
   {
    "duration": 24,
    "start_time": "2022-10-31T22:28:36.796Z"
   },
   {
    "duration": 27,
    "start_time": "2022-10-31T22:29:10.880Z"
   },
   {
    "duration": 6,
    "start_time": "2022-10-31T22:30:03.837Z"
   }
  ],
  "celltoolbar": "Edit Metadata",
  "colab": {
   "name": "dpp_template_part2.ipynb",
   "provenance": []
  },
  "kernelspec": {
   "display_name": "Python 3 (ipykernel)",
   "language": "python",
   "name": "python3"
  },
  "language_info": {
   "codemirror_mode": {
    "name": "ipython",
    "version": 3
   },
   "file_extension": ".py",
   "mimetype": "text/x-python",
   "name": "python",
   "nbconvert_exporter": "python",
   "pygments_lexer": "ipython3",
   "version": "3.9.13"
  },
  "toc": {
   "base_numbering": 1,
   "nav_menu": {},
   "number_sections": true,
   "sideBar": true,
   "skip_h1_title": true,
   "title_cell": "Table of Contents",
   "title_sidebar": "Contents",
   "toc_cell": false,
   "toc_position": {},
   "toc_section_display": true,
   "toc_window_display": false
  }
 },
 "nbformat": 4,
 "nbformat_minor": 5
}
