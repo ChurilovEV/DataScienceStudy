{
 "cells": [
  {
   "cell_type": "markdown",
   "metadata": {},
   "source": [
    "# Отток клиентов из банка"
   ]
  },
  {
   "cell_type": "markdown",
   "metadata": {},
   "source": [
    "<a id=0></a>\n",
    "[Содержание](#0)\n",
    "\n",
    "[1. Описание проекта](#1)\n",
    "\n",
    "[2. Анализ данных](#2)\n",
    "\n",
    "[3. Подготовка данных](#3)\n",
    "\n",
    "[4. Исследование задачи](#4)\n",
    "\n",
    "[5. Борьба с дисбаллансом](#5)\n",
    "\n",
    "[6. Тестирование модели](#6)\n",
    "\n",
    "[7. Общий вывод](#7)"
   ]
  },
  {
   "cell_type": "markdown",
   "metadata": {},
   "source": [
    "<a id=1></a>\n",
    "## 1. Описание проекта\n",
    "\n",
    "Из «Бета-Банка» стали уходить клиенты. Каждый месяц. Немного, но заметно.\n",
    "\n",
    "Банковские маркетологи посчитали: сохранять текущих клиентов дешевле, чем привлекать новых.\n",
    "\n",
    "Нужно спрогнозировать, уйдёт клиент из банка в ближайшее время или нет.\n",
    "\n",
    "**Цель проекта:**\n",
    "\n",
    "Построить модель с предельно большим значением *F1*-меры.\n",
    "\n",
    "Довести метрику до 0.59.\n",
    "\n",
    "Проверить *F1*-меру на тестовой выборке.\n",
    "\n",
    "Дополнительно измерить *AUC-ROC*, сравнить её значение с *F1*-мерой.\n",
    "\n",
    "**Данные:**\n",
    "\n",
    "Предоставлены исторические данные о поведении клиентов и расторжении договоров с банком. \n",
    "\n",
    "`/datasets/Churn.csv` ([ссылка](https://www.kaggle.com/barelydedicated/bank-customer-churn-modeling))\n",
    "\n",
    "Признаки:\n",
    "- `RowNumber` — индекс строки в данных\n",
    "- `CustomerId` — уникальный идентификатор клиента\n",
    "- `Surname` — фамилия\n",
    "- `CreditScore` — кредитный рейтинг\n",
    "- `Geography` — страна проживания\n",
    "- `Gender` — пол\n",
    "- `Age` — возраст\n",
    "- `Tenure` — сколько лет человек является клиентом банка\n",
    "- `Balance` — баланс на счёте\n",
    "- `NumOfProducts` — количество продуктов банка, используемых клиентом\n",
    "- `HasCrCard` — наличие кредитной карты\n",
    "- `IsActiveMember` — активность клиента\n",
    "- `EstimatedSalary` — предполагаемая зарплата\n",
    "\n",
    "Целевой признак:\n",
    "- `Exited` — факт ухода клиента"
   ]
  },
  {
   "cell_type": "markdown",
   "metadata": {},
   "source": [
    "<a id=2></a>\n",
    "[Содержание](#0)\n",
    "## 2. Анализ данных"
   ]
  },
  {
   "cell_type": "code",
   "execution_count": 1,
   "metadata": {},
   "outputs": [],
   "source": [
    "import pandas as pd\n",
    "from sklearn.model_selection import train_test_split\n",
    "from sklearn.ensemble import RandomForestClassifier\n",
    "from sklearn.linear_model import LogisticRegression\n",
    "from sklearn.metrics import f1_score, precision_score, recall_score, accuracy_score, roc_auc_score, roc_curve\n",
    "from sklearn.utils import shuffle\n",
    "from sklearn.preprocessing import StandardScaler\n",
    "import matplotlib.pyplot as plt\n",
    "import random\n",
    "import numpy as np\n",
    "import warnings\n",
    "warnings.filterwarnings('ignore')\n",
    "pd.options.mode.chained_assignment = None"
   ]
  },
  {
   "cell_type": "code",
   "execution_count": 2,
   "metadata": {},
   "outputs": [],
   "source": [
    "try:\n",
    "    df = pd.read_csv('/datasets/Churn.csv')\n",
    "except:\n",
    "    df = pd.read_csv('https://code.s3.yandex.net/datasets/Churn.csv')"
   ]
  },
  {
   "cell_type": "code",
   "execution_count": 3,
   "metadata": {},
   "outputs": [
    {
     "name": "stdout",
     "output_type": "stream",
     "text": [
      "<class 'pandas.core.frame.DataFrame'>\n",
      "RangeIndex: 10000 entries, 0 to 9999\n",
      "Data columns (total 14 columns):\n",
      " #   Column           Non-Null Count  Dtype  \n",
      "---  ------           --------------  -----  \n",
      " 0   RowNumber        10000 non-null  int64  \n",
      " 1   CustomerId       10000 non-null  int64  \n",
      " 2   Surname          10000 non-null  object \n",
      " 3   CreditScore      10000 non-null  int64  \n",
      " 4   Geography        10000 non-null  object \n",
      " 5   Gender           10000 non-null  object \n",
      " 6   Age              10000 non-null  int64  \n",
      " 7   Tenure           9091 non-null   float64\n",
      " 8   Balance          10000 non-null  float64\n",
      " 9   NumOfProducts    10000 non-null  int64  \n",
      " 10  HasCrCard        10000 non-null  int64  \n",
      " 11  IsActiveMember   10000 non-null  int64  \n",
      " 12  EstimatedSalary  10000 non-null  float64\n",
      " 13  Exited           10000 non-null  int64  \n",
      "dtypes: float64(3), int64(8), object(3)\n",
      "memory usage: 1.1+ MB\n"
     ]
    }
   ],
   "source": [
    "df.info()"
   ]
  },
  {
   "cell_type": "code",
   "execution_count": 4,
   "metadata": {},
   "outputs": [
    {
     "data": {
      "text/html": [
       "<div>\n",
       "<style scoped>\n",
       "    .dataframe tbody tr th:only-of-type {\n",
       "        vertical-align: middle;\n",
       "    }\n",
       "\n",
       "    .dataframe tbody tr th {\n",
       "        vertical-align: top;\n",
       "    }\n",
       "\n",
       "    .dataframe thead th {\n",
       "        text-align: right;\n",
       "    }\n",
       "</style>\n",
       "<table border=\"1\" class=\"dataframe\">\n",
       "  <thead>\n",
       "    <tr style=\"text-align: right;\">\n",
       "      <th></th>\n",
       "      <th>RowNumber</th>\n",
       "      <th>CustomerId</th>\n",
       "      <th>Surname</th>\n",
       "      <th>CreditScore</th>\n",
       "      <th>Geography</th>\n",
       "      <th>Gender</th>\n",
       "      <th>Age</th>\n",
       "      <th>Tenure</th>\n",
       "      <th>Balance</th>\n",
       "      <th>NumOfProducts</th>\n",
       "      <th>HasCrCard</th>\n",
       "      <th>IsActiveMember</th>\n",
       "      <th>EstimatedSalary</th>\n",
       "      <th>Exited</th>\n",
       "    </tr>\n",
       "  </thead>\n",
       "  <tbody>\n",
       "    <tr>\n",
       "      <th>0</th>\n",
       "      <td>1</td>\n",
       "      <td>15634602</td>\n",
       "      <td>Hargrave</td>\n",
       "      <td>619</td>\n",
       "      <td>France</td>\n",
       "      <td>Female</td>\n",
       "      <td>42</td>\n",
       "      <td>2.0</td>\n",
       "      <td>0.00</td>\n",
       "      <td>1</td>\n",
       "      <td>1</td>\n",
       "      <td>1</td>\n",
       "      <td>101348.88</td>\n",
       "      <td>1</td>\n",
       "    </tr>\n",
       "    <tr>\n",
       "      <th>1</th>\n",
       "      <td>2</td>\n",
       "      <td>15647311</td>\n",
       "      <td>Hill</td>\n",
       "      <td>608</td>\n",
       "      <td>Spain</td>\n",
       "      <td>Female</td>\n",
       "      <td>41</td>\n",
       "      <td>1.0</td>\n",
       "      <td>83807.86</td>\n",
       "      <td>1</td>\n",
       "      <td>0</td>\n",
       "      <td>1</td>\n",
       "      <td>112542.58</td>\n",
       "      <td>0</td>\n",
       "    </tr>\n",
       "    <tr>\n",
       "      <th>2</th>\n",
       "      <td>3</td>\n",
       "      <td>15619304</td>\n",
       "      <td>Onio</td>\n",
       "      <td>502</td>\n",
       "      <td>France</td>\n",
       "      <td>Female</td>\n",
       "      <td>42</td>\n",
       "      <td>8.0</td>\n",
       "      <td>159660.80</td>\n",
       "      <td>3</td>\n",
       "      <td>1</td>\n",
       "      <td>0</td>\n",
       "      <td>113931.57</td>\n",
       "      <td>1</td>\n",
       "    </tr>\n",
       "    <tr>\n",
       "      <th>3</th>\n",
       "      <td>4</td>\n",
       "      <td>15701354</td>\n",
       "      <td>Boni</td>\n",
       "      <td>699</td>\n",
       "      <td>France</td>\n",
       "      <td>Female</td>\n",
       "      <td>39</td>\n",
       "      <td>1.0</td>\n",
       "      <td>0.00</td>\n",
       "      <td>2</td>\n",
       "      <td>0</td>\n",
       "      <td>0</td>\n",
       "      <td>93826.63</td>\n",
       "      <td>0</td>\n",
       "    </tr>\n",
       "    <tr>\n",
       "      <th>4</th>\n",
       "      <td>5</td>\n",
       "      <td>15737888</td>\n",
       "      <td>Mitchell</td>\n",
       "      <td>850</td>\n",
       "      <td>Spain</td>\n",
       "      <td>Female</td>\n",
       "      <td>43</td>\n",
       "      <td>2.0</td>\n",
       "      <td>125510.82</td>\n",
       "      <td>1</td>\n",
       "      <td>1</td>\n",
       "      <td>1</td>\n",
       "      <td>79084.10</td>\n",
       "      <td>0</td>\n",
       "    </tr>\n",
       "  </tbody>\n",
       "</table>\n",
       "</div>"
      ],
      "text/plain": [
       "   RowNumber  CustomerId   Surname  CreditScore Geography  Gender  Age  \\\n",
       "0          1    15634602  Hargrave          619    France  Female   42   \n",
       "1          2    15647311      Hill          608     Spain  Female   41   \n",
       "2          3    15619304      Onio          502    France  Female   42   \n",
       "3          4    15701354      Boni          699    France  Female   39   \n",
       "4          5    15737888  Mitchell          850     Spain  Female   43   \n",
       "\n",
       "   Tenure    Balance  NumOfProducts  HasCrCard  IsActiveMember  \\\n",
       "0     2.0       0.00              1          1               1   \n",
       "1     1.0   83807.86              1          0               1   \n",
       "2     8.0  159660.80              3          1               0   \n",
       "3     1.0       0.00              2          0               0   \n",
       "4     2.0  125510.82              1          1               1   \n",
       "\n",
       "   EstimatedSalary  Exited  \n",
       "0        101348.88       1  \n",
       "1        112542.58       0  \n",
       "2        113931.57       1  \n",
       "3         93826.63       0  \n",
       "4         79084.10       0  "
      ]
     },
     "execution_count": 4,
     "metadata": {},
     "output_type": "execute_result"
    }
   ],
   "source": [
    "df.head(5)"
   ]
  },
  {
   "cell_type": "markdown",
   "metadata": {},
   "source": [
    "<a id=3></a>\n",
    "[Содержание](#0)\n",
    "## 3. Подготовка данных\n",
    "\n",
    "Удалим колонки, которые не несут полезной информации для обучения модели"
   ]
  },
  {
   "cell_type": "code",
   "execution_count": 5,
   "metadata": {},
   "outputs": [],
   "source": [
    "df = df.drop(['RowNumber', 'CustomerId', 'Surname'], axis = 1)"
   ]
  },
  {
   "cell_type": "markdown",
   "metadata": {},
   "source": [
    "В данных есть пропуски в столбце: `Tenure`\n",
    "\n",
    "Посмотрим распределение данных в столбце"
   ]
  },
  {
   "cell_type": "code",
   "execution_count": 6,
   "metadata": {},
   "outputs": [
    {
     "data": {
      "text/plain": [
       "1.0     952\n",
       "2.0     950\n",
       "8.0     933\n",
       "3.0     928\n",
       "5.0     927\n",
       "7.0     925\n",
       "4.0     885\n",
       "9.0     882\n",
       "6.0     881\n",
       "10.0    446\n",
       "0.0     382\n",
       "Name: Tenure, dtype: int64"
      ]
     },
     "execution_count": 6,
     "metadata": {},
     "output_type": "execute_result"
    }
   ],
   "source": [
    "df['Tenure'].value_counts()"
   ]
  },
  {
   "cell_type": "markdown",
   "metadata": {},
   "source": [
    "Рассмотрим варианты работы с пропусками:\n",
    "\n",
    "1. Распределение по годам использования банка практически ровное, если заменить 909 пропусков медианой, то мы увеличим в 2 раза значение для 5 лет, это некорректно.\n",
    "\n",
    "*df['Tenure'] = df['Tenure'].fillna(round(df['Tenure'].mean()))*\n",
    "\n",
    "2. Можно сделать заполнение пропусков случайными числами, тогда мы снизим влияние на наше распределение.\n",
    "\n",
    "3. Так как значений в этом признаке ограниченное количество, можно сделать его категориальным признаком. Пропуски можно считать как за отдельную категорию (заполнить значением -1). Затем заменить тип данных `Tenure` на object и применить технику OHE.\n",
    "\n",
    "4. Заполнить '0', считая, что это новые клиенты.\n",
    "\n",
    "Заполним пропуски случайными значениями в интервале от 0 до 10"
   ]
  },
  {
   "cell_type": "code",
   "execution_count": 7,
   "metadata": {},
   "outputs": [
    {
     "data": {
      "text/plain": [
       "1.0     1039\n",
       "2.0     1025\n",
       "7.0     1017\n",
       "8.0     1011\n",
       "5.0     1005\n",
       "3.0     1001\n",
       "4.0      967\n",
       "6.0      965\n",
       "9.0      963\n",
       "10.0     534\n",
       "0.0      473\n",
       "Name: Tenure, dtype: int64"
      ]
     },
     "execution_count": 7,
     "metadata": {},
     "output_type": "execute_result"
    }
   ],
   "source": [
    "def fill_rnd(val):\n",
    "    if np.isnan(val):\n",
    "        return random.randint(0, 10)\n",
    "    else:\n",
    "        return val\n",
    "\n",
    "df['Tenure'] = df['Tenure'].apply(fill_rnd)\n",
    "df['Tenure'].value_counts()"
   ]
  },
  {
   "cell_type": "code",
   "execution_count": 8,
   "metadata": {},
   "outputs": [
    {
     "data": {
      "text/html": [
       "<div>\n",
       "<style scoped>\n",
       "    .dataframe tbody tr th:only-of-type {\n",
       "        vertical-align: middle;\n",
       "    }\n",
       "\n",
       "    .dataframe tbody tr th {\n",
       "        vertical-align: top;\n",
       "    }\n",
       "\n",
       "    .dataframe thead th {\n",
       "        text-align: right;\n",
       "    }\n",
       "</style>\n",
       "<table border=\"1\" class=\"dataframe\">\n",
       "  <thead>\n",
       "    <tr style=\"text-align: right;\">\n",
       "      <th></th>\n",
       "      <th>CreditScore</th>\n",
       "      <th>Age</th>\n",
       "      <th>Tenure</th>\n",
       "      <th>Balance</th>\n",
       "      <th>NumOfProducts</th>\n",
       "      <th>HasCrCard</th>\n",
       "      <th>IsActiveMember</th>\n",
       "      <th>EstimatedSalary</th>\n",
       "      <th>Exited</th>\n",
       "    </tr>\n",
       "  </thead>\n",
       "  <tbody>\n",
       "    <tr>\n",
       "      <th>count</th>\n",
       "      <td>10000.000000</td>\n",
       "      <td>10000.000000</td>\n",
       "      <td>10000.000000</td>\n",
       "      <td>10000.000000</td>\n",
       "      <td>10000.000000</td>\n",
       "      <td>10000.00000</td>\n",
       "      <td>10000.000000</td>\n",
       "      <td>10000.000000</td>\n",
       "      <td>10000.000000</td>\n",
       "    </tr>\n",
       "    <tr>\n",
       "      <th>mean</th>\n",
       "      <td>650.528800</td>\n",
       "      <td>38.921800</td>\n",
       "      <td>4.998900</td>\n",
       "      <td>76485.889288</td>\n",
       "      <td>1.530200</td>\n",
       "      <td>0.70550</td>\n",
       "      <td>0.515100</td>\n",
       "      <td>100090.239881</td>\n",
       "      <td>0.203700</td>\n",
       "    </tr>\n",
       "    <tr>\n",
       "      <th>std</th>\n",
       "      <td>96.653299</td>\n",
       "      <td>10.487806</td>\n",
       "      <td>2.924783</td>\n",
       "      <td>62397.405202</td>\n",
       "      <td>0.581654</td>\n",
       "      <td>0.45584</td>\n",
       "      <td>0.499797</td>\n",
       "      <td>57510.492818</td>\n",
       "      <td>0.402769</td>\n",
       "    </tr>\n",
       "    <tr>\n",
       "      <th>min</th>\n",
       "      <td>350.000000</td>\n",
       "      <td>18.000000</td>\n",
       "      <td>0.000000</td>\n",
       "      <td>0.000000</td>\n",
       "      <td>1.000000</td>\n",
       "      <td>0.00000</td>\n",
       "      <td>0.000000</td>\n",
       "      <td>11.580000</td>\n",
       "      <td>0.000000</td>\n",
       "    </tr>\n",
       "    <tr>\n",
       "      <th>25%</th>\n",
       "      <td>584.000000</td>\n",
       "      <td>32.000000</td>\n",
       "      <td>2.000000</td>\n",
       "      <td>0.000000</td>\n",
       "      <td>1.000000</td>\n",
       "      <td>0.00000</td>\n",
       "      <td>0.000000</td>\n",
       "      <td>51002.110000</td>\n",
       "      <td>0.000000</td>\n",
       "    </tr>\n",
       "    <tr>\n",
       "      <th>50%</th>\n",
       "      <td>652.000000</td>\n",
       "      <td>37.000000</td>\n",
       "      <td>5.000000</td>\n",
       "      <td>97198.540000</td>\n",
       "      <td>1.000000</td>\n",
       "      <td>1.00000</td>\n",
       "      <td>1.000000</td>\n",
       "      <td>100193.915000</td>\n",
       "      <td>0.000000</td>\n",
       "    </tr>\n",
       "    <tr>\n",
       "      <th>75%</th>\n",
       "      <td>718.000000</td>\n",
       "      <td>44.000000</td>\n",
       "      <td>8.000000</td>\n",
       "      <td>127644.240000</td>\n",
       "      <td>2.000000</td>\n",
       "      <td>1.00000</td>\n",
       "      <td>1.000000</td>\n",
       "      <td>149388.247500</td>\n",
       "      <td>0.000000</td>\n",
       "    </tr>\n",
       "    <tr>\n",
       "      <th>max</th>\n",
       "      <td>850.000000</td>\n",
       "      <td>92.000000</td>\n",
       "      <td>10.000000</td>\n",
       "      <td>250898.090000</td>\n",
       "      <td>4.000000</td>\n",
       "      <td>1.00000</td>\n",
       "      <td>1.000000</td>\n",
       "      <td>199992.480000</td>\n",
       "      <td>1.000000</td>\n",
       "    </tr>\n",
       "  </tbody>\n",
       "</table>\n",
       "</div>"
      ],
      "text/plain": [
       "        CreditScore           Age        Tenure        Balance  NumOfProducts  \\\n",
       "count  10000.000000  10000.000000  10000.000000   10000.000000   10000.000000   \n",
       "mean     650.528800     38.921800      4.998900   76485.889288       1.530200   \n",
       "std       96.653299     10.487806      2.924783   62397.405202       0.581654   \n",
       "min      350.000000     18.000000      0.000000       0.000000       1.000000   \n",
       "25%      584.000000     32.000000      2.000000       0.000000       1.000000   \n",
       "50%      652.000000     37.000000      5.000000   97198.540000       1.000000   \n",
       "75%      718.000000     44.000000      8.000000  127644.240000       2.000000   \n",
       "max      850.000000     92.000000     10.000000  250898.090000       4.000000   \n",
       "\n",
       "         HasCrCard  IsActiveMember  EstimatedSalary        Exited  \n",
       "count  10000.00000    10000.000000     10000.000000  10000.000000  \n",
       "mean       0.70550        0.515100    100090.239881      0.203700  \n",
       "std        0.45584        0.499797     57510.492818      0.402769  \n",
       "min        0.00000        0.000000        11.580000      0.000000  \n",
       "25%        0.00000        0.000000     51002.110000      0.000000  \n",
       "50%        1.00000        1.000000    100193.915000      0.000000  \n",
       "75%        1.00000        1.000000    149388.247500      0.000000  \n",
       "max        1.00000        1.000000    199992.480000      1.000000  "
      ]
     },
     "execution_count": 8,
     "metadata": {},
     "output_type": "execute_result"
    }
   ],
   "source": [
    "df.describe()"
   ]
  },
  {
   "cell_type": "markdown",
   "metadata": {},
   "source": [
    "Типы данных в столбцах:\n",
    "\n",
    "Категориальный: `Geography`, `Gender`, `HasCrCard`, `IsActiveMember`, `Exited`\n",
    "\n",
    "Количественный: `CreditScore`, `Age`, `Tenure`, `Balance`, `NumOfProducts`, `EstimatedSalary`\n",
    "\n",
    "Разобъем данные в соотношениях 60/20/20:"
   ]
  },
  {
   "cell_type": "code",
   "execution_count": 9,
   "metadata": {},
   "outputs": [
    {
     "name": "stdout",
     "output_type": "stream",
     "text": [
      "Размер тренерующей  выборки: (6000, 10)\n",
      "Размер валидационной выборки: (2000, 10)\n",
      "Размер тестовой     выборки: (2000, 10)\n"
     ]
    }
   ],
   "source": [
    "df_x = df.drop(columns = ['Exited']).copy()\n",
    "df_y = df['Exited']\n",
    "\n",
    "# Выделим 60% под тренировочные данные и 40% под валидационные и тестовые\n",
    "x_train, x_rest, y_train, y_rest = train_test_split(df_x, df_y, train_size = 0.6,\n",
    "                                                    random_state = 22122022, stratify = df_y)\n",
    "\n",
    "# Разделим данные по 50% под валидационные и тестовые\n",
    "x_valid, x_test, y_valid, y_test = train_test_split(x_rest, y_rest, test_size = 0.5,\n",
    "                                                    random_state = 22122022, stratify = y_rest)\n",
    "\n",
    "print('Размер тренерующей  выборки:', x_train.shape)\n",
    "print('Размер валидационной выборки:', x_valid.shape)\n",
    "print('Размер тестовой     выборки:', x_test.shape)"
   ]
  },
  {
   "cell_type": "markdown",
   "metadata": {},
   "source": [
    "Кодируем данные после разбиения, чтобы не было \"утечки данных\".\n",
    "\n",
    "Подробнее по [ссылке](https://datascience.stackexchange.com/questions/108663/why-label-encoding-before-split-is-data-leakage)"
   ]
  },
  {
   "cell_type": "code",
   "execution_count": 10,
   "metadata": {},
   "outputs": [
    {
     "name": "stdout",
     "output_type": "stream",
     "text": [
      "<class 'pandas.core.frame.DataFrame'>\n",
      "Int64Index: 6000 entries, 3770 to 5543\n",
      "Data columns (total 11 columns):\n",
      " #   Column             Non-Null Count  Dtype  \n",
      "---  ------             --------------  -----  \n",
      " 0   CreditScore        6000 non-null   int64  \n",
      " 1   Age                6000 non-null   int64  \n",
      " 2   Tenure             6000 non-null   float64\n",
      " 3   Balance            6000 non-null   float64\n",
      " 4   NumOfProducts      6000 non-null   int64  \n",
      " 5   HasCrCard          6000 non-null   int64  \n",
      " 6   IsActiveMember     6000 non-null   int64  \n",
      " 7   EstimatedSalary    6000 non-null   float64\n",
      " 8   Geography_Germany  6000 non-null   uint8  \n",
      " 9   Geography_Spain    6000 non-null   uint8  \n",
      " 10  Gender_Male        6000 non-null   uint8  \n",
      "dtypes: float64(3), int64(5), uint8(3)\n",
      "memory usage: 439.5 KB\n"
     ]
    }
   ],
   "source": [
    "x_train = pd.get_dummies(x_train, drop_first = True)\n",
    "x_valid = pd.get_dummies(x_valid, drop_first = True)\n",
    "x_test  = pd.get_dummies(x_test,  drop_first = True)\n",
    "\n",
    "x_train.info()"
   ]
  },
  {
   "cell_type": "markdown",
   "metadata": {},
   "source": [
    "**Вывод:**\n",
    "\n",
    "Удалены не влияющие на обучение модели данные.\n",
    "\n",
    "Пропуски заполнены.\n",
    "\n",
    "Данные разделены на тренировочную, валидационную и тестовую части в пропорциях 60/20/20.\n",
    "\n",
    "Обучение пройдет на данных: x_train -> y_train\n",
    "\n",
    "Валидация модели на данных: x_valid -> y_valid\n",
    "\n",
    "Лучшая модель по результатам валидации будет проверена на тестовых данных: x_test -> y_test\n"
   ]
  },
  {
   "cell_type": "markdown",
   "metadata": {},
   "source": [
    "<a id=4></a>\n",
    "[Содержание](#0)\n",
    "## 4. Исследование задачи"
   ]
  },
  {
   "cell_type": "markdown",
   "metadata": {},
   "source": [
    "Будем использовать следующие модели:\n",
    "\n",
    "- Логистическая регрессия\n",
    "\n",
    "- Случайный лес"
   ]
  },
  {
   "cell_type": "markdown",
   "metadata": {},
   "source": [
    "Для линейных моделей улучшает результат масштабирование численных признаков"
   ]
  },
  {
   "cell_type": "code",
   "execution_count": 11,
   "metadata": {},
   "outputs": [
    {
     "data": {
      "text/html": [
       "<style>#sk-container-id-1 {color: black;background-color: white;}#sk-container-id-1 pre{padding: 0;}#sk-container-id-1 div.sk-toggleable {background-color: white;}#sk-container-id-1 label.sk-toggleable__label {cursor: pointer;display: block;width: 100%;margin-bottom: 0;padding: 0.3em;box-sizing: border-box;text-align: center;}#sk-container-id-1 label.sk-toggleable__label-arrow:before {content: \"▸\";float: left;margin-right: 0.25em;color: #696969;}#sk-container-id-1 label.sk-toggleable__label-arrow:hover:before {color: black;}#sk-container-id-1 div.sk-estimator:hover label.sk-toggleable__label-arrow:before {color: black;}#sk-container-id-1 div.sk-toggleable__content {max-height: 0;max-width: 0;overflow: hidden;text-align: left;background-color: #f0f8ff;}#sk-container-id-1 div.sk-toggleable__content pre {margin: 0.2em;color: black;border-radius: 0.25em;background-color: #f0f8ff;}#sk-container-id-1 input.sk-toggleable__control:checked~div.sk-toggleable__content {max-height: 200px;max-width: 100%;overflow: auto;}#sk-container-id-1 input.sk-toggleable__control:checked~label.sk-toggleable__label-arrow:before {content: \"▾\";}#sk-container-id-1 div.sk-estimator input.sk-toggleable__control:checked~label.sk-toggleable__label {background-color: #d4ebff;}#sk-container-id-1 div.sk-label input.sk-toggleable__control:checked~label.sk-toggleable__label {background-color: #d4ebff;}#sk-container-id-1 input.sk-hidden--visually {border: 0;clip: rect(1px 1px 1px 1px);clip: rect(1px, 1px, 1px, 1px);height: 1px;margin: -1px;overflow: hidden;padding: 0;position: absolute;width: 1px;}#sk-container-id-1 div.sk-estimator {font-family: monospace;background-color: #f0f8ff;border: 1px dotted black;border-radius: 0.25em;box-sizing: border-box;margin-bottom: 0.5em;}#sk-container-id-1 div.sk-estimator:hover {background-color: #d4ebff;}#sk-container-id-1 div.sk-parallel-item::after {content: \"\";width: 100%;border-bottom: 1px solid gray;flex-grow: 1;}#sk-container-id-1 div.sk-label:hover label.sk-toggleable__label {background-color: #d4ebff;}#sk-container-id-1 div.sk-serial::before {content: \"\";position: absolute;border-left: 1px solid gray;box-sizing: border-box;top: 0;bottom: 0;left: 50%;z-index: 0;}#sk-container-id-1 div.sk-serial {display: flex;flex-direction: column;align-items: center;background-color: white;padding-right: 0.2em;padding-left: 0.2em;position: relative;}#sk-container-id-1 div.sk-item {position: relative;z-index: 1;}#sk-container-id-1 div.sk-parallel {display: flex;align-items: stretch;justify-content: center;background-color: white;position: relative;}#sk-container-id-1 div.sk-item::before, #sk-container-id-1 div.sk-parallel-item::before {content: \"\";position: absolute;border-left: 1px solid gray;box-sizing: border-box;top: 0;bottom: 0;left: 50%;z-index: -1;}#sk-container-id-1 div.sk-parallel-item {display: flex;flex-direction: column;z-index: 1;position: relative;background-color: white;}#sk-container-id-1 div.sk-parallel-item:first-child::after {align-self: flex-end;width: 50%;}#sk-container-id-1 div.sk-parallel-item:last-child::after {align-self: flex-start;width: 50%;}#sk-container-id-1 div.sk-parallel-item:only-child::after {width: 0;}#sk-container-id-1 div.sk-dashed-wrapped {border: 1px dashed gray;margin: 0 0.4em 0.5em 0.4em;box-sizing: border-box;padding-bottom: 0.4em;background-color: white;}#sk-container-id-1 div.sk-label label {font-family: monospace;font-weight: bold;display: inline-block;line-height: 1.2em;}#sk-container-id-1 div.sk-label-container {text-align: center;}#sk-container-id-1 div.sk-container {/* jupyter's `normalize.less` sets `[hidden] { display: none; }` but bootstrap.min.css set `[hidden] { display: none !important; }` so we also need the `!important` here to be able to override the default hidden behavior on the sphinx rendered scikit-learn.org. See: https://github.com/scikit-learn/scikit-learn/issues/21755 */display: inline-block !important;position: relative;}#sk-container-id-1 div.sk-text-repr-fallback {display: none;}</style><div id=\"sk-container-id-1\" class=\"sk-top-container\"><div class=\"sk-text-repr-fallback\"><pre>StandardScaler()</pre><b>In a Jupyter environment, please rerun this cell to show the HTML representation or trust the notebook. <br />On GitHub, the HTML representation is unable to render, please try loading this page with nbviewer.org.</b></div><div class=\"sk-container\" hidden><div class=\"sk-item\"><div class=\"sk-estimator sk-toggleable\"><input class=\"sk-toggleable__control sk-hidden--visually\" id=\"sk-estimator-id-1\" type=\"checkbox\" checked><label for=\"sk-estimator-id-1\" class=\"sk-toggleable__label sk-toggleable__label-arrow\">StandardScaler</label><div class=\"sk-toggleable__content\"><pre>StandardScaler()</pre></div></div></div></div></div>"
      ],
      "text/plain": [
       "StandardScaler()"
      ]
     },
     "execution_count": 11,
     "metadata": {},
     "output_type": "execute_result"
    }
   ],
   "source": [
    "numeric = ['CreditScore', 'Age', 'Tenure', 'Balance', 'NumOfProducts', 'EstimatedSalary']\n",
    "\n",
    "scaler = StandardScaler()\n",
    "scaler.fit(x_train[numeric])"
   ]
  },
  {
   "cell_type": "markdown",
   "metadata": {},
   "source": [
    "Посмотрим, какой существует дисбаланс классов"
   ]
  },
  {
   "cell_type": "code",
   "execution_count": 12,
   "metadata": {},
   "outputs": [],
   "source": [
    "x_train[numeric] = scaler.transform(x_train[numeric])\n",
    "x_valid[numeric] = scaler.transform(x_valid[numeric])\n",
    "x_test[numeric]  = scaler.transform(x_test[numeric])"
   ]
  },
  {
   "cell_type": "code",
   "execution_count": 14,
   "metadata": {},
   "outputs": [
    {
     "data": {
      "image/png": "[encoded data removed]",
      "text/plain": [
       "<Figure size 640x480 with 1 Axes>"
      ]
     },
     "metadata": {},
     "output_type": "display_data"
    }
   ],
   "source": [
    "y_train.value_counts().plot(kind = 'bar', label = 'train')\n",
    "plt.show()"
   ]
  },
  {
   "cell_type": "markdown",
   "metadata": {},
   "source": [
    "Соотношение классов 1:4. Изучим модели без исправление баланса.\n",
    "\n",
    "Для каждого алгоритма подберем лучшие гиперпарамерты поиском по сетке по метрике f1.\n"
   ]
  },
  {
   "cell_type": "markdown",
   "metadata": {},
   "source": [
    "### Cлучайный лес\n",
    "\n",
    "Проведем исследование на разное количество деревьев с шагом 10"
   ]
  },
  {
   "cell_type": "code",
   "execution_count": 100,
   "metadata": {},
   "outputs": [
    {
     "name": "stdout",
     "output_type": "stream",
     "text": [
      "Лучшее количество деревьев: 61 Лучшая F1: 0.5987841945288753\n"
     ]
    }
   ],
   "source": [
    "best_est = 0\n",
    "best_f1 = 0\n",
    "\n",
    "for est in range(1, 300, 10):\n",
    "    model = RandomForestClassifier(random_state = 22122022, n_estimators = est)\n",
    "    model.fit(x_train, y_train)\n",
    "    valid_predictions = model.predict(x_valid)\n",
    "    f1 = f1_score(y_valid, valid_predictions)\n",
    "#    print('Количество деревьев:', est,'F1:', f1)\n",
    "    \n",
    "    if f1 > best_f1:\n",
    "        best_est = est\n",
    "        best_f1 = f1\n",
    "\n",
    "print('Лучшее количество деревьев:', best_est, 'Лучшая F1:', best_f1)"
   ]
  },
  {
   "cell_type": "markdown",
   "metadata": {},
   "source": [
    "Лучший результат лежит в диапазоне 50-70, рассмотрим его более детально с шагом 1"
   ]
  },
  {
   "cell_type": "code",
   "execution_count": 16,
   "metadata": {},
   "outputs": [
    {
     "name": "stdout",
     "output_type": "stream",
     "text": [
      "Лучшее количество деревьев: 67 Лучшая F1: 0.5981873111782477\n"
     ]
    }
   ],
   "source": [
    "best_est = 0\n",
    "best_f1 = 0\n",
    "\n",
    "for est in range(50, 70):\n",
    "    model = RandomForestClassifier(random_state = 22122022, n_estimators = est)\n",
    "    model.fit(x_train, y_train)\n",
    "    valid_predictions = model.predict(x_valid)\n",
    "    f1 = f1_score(y_valid, valid_predictions)\n",
    "#    print('Количество деревьев:', est,'F1:', f1)\n",
    "    \n",
    "    if f1 > best_f1:\n",
    "        best_est = est\n",
    "        best_f1 = f1\n",
    "\n",
    "print('Лучшее количество деревьев:', best_est, 'Лучшая F1:', best_f1)"
   ]
  },
  {
   "cell_type": "markdown",
   "metadata": {},
   "source": [
    "**Вывод:**\n",
    "\n",
    "При 67 деревьях F1 достигает 0.5981"
   ]
  },
  {
   "cell_type": "markdown",
   "metadata": {},
   "source": [
    "### Логистическая регрессия"
   ]
  },
  {
   "cell_type": "code",
   "execution_count": 17,
   "metadata": {},
   "outputs": [
    {
     "name": "stdout",
     "output_type": "stream",
     "text": [
      "Лучшее количество итераций: 6 Лучшая F1: 0.3623445825932505\n"
     ]
    }
   ],
   "source": [
    "best_max_iter = 0\n",
    "best_f1 = 0\n",
    "\n",
    "for max_iter in range(1, 50):\n",
    "    model = LogisticRegression(random_state = 22122022, max_iter = max_iter)\n",
    "    model.fit(x_train, y_train)\n",
    "    valid_predictions = model.predict(x_valid)\n",
    "    f1 = f1_score(y_valid, valid_predictions)\n",
    "#    print('Количество деревьев:', max_iter,'F1:', f1)\n",
    "    \n",
    "    if f1 > best_f1:\n",
    "        best_max_iter = max_iter\n",
    "        best_f1 = f1\n",
    "\n",
    "print('Лучшее количество итераций:', best_max_iter, 'Лучшая F1:', best_f1)"
   ]
  },
  {
   "cell_type": "markdown",
   "metadata": {},
   "source": [
    "**Вывод:**\n",
    "\n",
    "Результаты довольно низкие, F1 = 0.3623 при 6 итерациях.\n",
    "\n",
    "Возможно Precision или Recall низкие и близки к 0.\n",
    "\n",
    "Проведем оценку Accuracy, Precision и Recall, также покажем F-метрику."
   ]
  },
  {
   "cell_type": "code",
   "execution_count": 18,
   "metadata": {},
   "outputs": [
    {
     "name": "stdout",
     "output_type": "stream",
     "text": [
      "- Случайный лес -\n",
      "Accuracy 0.8665\n",
      "Precision 0.7777777777777778\n",
      "Recall 0.48157248157248156\n",
      "F1 0.5948406676783003\n",
      "CPU times: user 334 ms, sys: 4.75 ms, total: 338 ms\n",
      "Wall time: 338 ms\n"
     ]
    }
   ],
   "source": [
    "%%time\n",
    "\n",
    "model_RFC = RandomForestClassifier(random_state = 22122022, n_estimators = 65)\n",
    "model_RFC.fit(x_train, y_train)\n",
    "valid_predictions_RFC = model_RFC.predict(x_valid)\n",
    "print('- Случайный лес -')\n",
    "print('Accuracy', accuracy_score(y_valid, valid_predictions_RFC))\n",
    "print('Precision', precision_score(y_valid, valid_predictions_RFC))\n",
    "print('Recall', recall_score(y_valid, valid_predictions_RFC))\n",
    "print('F1', f1_score(y_valid, valid_predictions_RFC))"
   ]
  },
  {
   "cell_type": "code",
   "execution_count": 19,
   "metadata": {},
   "outputs": [
    {
     "name": "stdout",
     "output_type": "stream",
     "text": [
      "- Логистическая регрессия -\n",
      "Accuracy 0.8205\n",
      "Precision 0.6538461538461539\n",
      "Recall 0.25061425061425063\n",
      "F1 0.3623445825932505\n",
      "CPU times: user 76.7 ms, sys: 63.6 ms, total: 140 ms\n",
      "Wall time: 29.5 ms\n"
     ]
    }
   ],
   "source": [
    "%%time\n",
    "\n",
    "model_LR = LogisticRegression(random_state = 22122022, max_iter = 6)\n",
    "model_LR.fit(x_train, y_train)\n",
    "valid_predictions_LR = model_LR.predict(x_valid)\n",
    "print('- Логистическая регрессия -')\n",
    "print('Accuracy', accuracy_score(y_valid, valid_predictions_LR))\n",
    "print('Precision', precision_score(y_valid, valid_predictions_LR))\n",
    "print('Recall', recall_score(y_valid, valid_predictions_LR))\n",
    "print('F1', f1_score(y_valid, valid_predictions_LR))"
   ]
  },
  {
   "cell_type": "markdown",
   "metadata": {},
   "source": [
    "Проведем построение ROC-кривой для каждой модели и выведем показатель AUC-ROC."
   ]
  },
  {
   "cell_type": "code",
   "execution_count": 20,
   "metadata": {},
   "outputs": [
    {
     "name": "stdout",
     "output_type": "stream",
     "text": [
      "AUC-ROC RandomForestClassifier 0.85282277655159\n",
      "AUC-ROC LogisticRegression 0.7687996162572434\n"
     ]
    },
    {
     "data": {
      "image/png": "[encoded data removed]",
      "text/plain": [
       "<Figure size 1200x900 with 1 Axes>"
      ]
     },
     "metadata": {},
     "output_type": "display_data"
    }
   ],
   "source": [
    "plt.figure(figsize=[12,9])\n",
    "plt.plot([0, 1], [0, 1], linestyle = '--', label = 'RandomModel')\n",
    "\n",
    "probabilities_valid = model_RFC.predict_proba(x_valid)\n",
    "probabilities_one_valid = probabilities_valid[:, 1]\n",
    "fpr, tpr, thresholds = roc_curve(y_valid, probabilities_one_valid)\n",
    "auc_roc = roc_auc_score(y_valid, probabilities_one_valid)\n",
    "print('AUC-ROC RandomForestClassifier', auc_roc)\n",
    "plt.plot(fpr, tpr, label = 'RandomForestClassifier')\n",
    "\n",
    "probabilities_valid = model_LR.predict_proba(x_valid)\n",
    "probabilities_one_valid = probabilities_valid[:, 1]\n",
    "fpr, tpr, thresholds = roc_curve(y_valid, probabilities_one_valid)\n",
    "auc_roc = roc_auc_score(y_valid, probabilities_one_valid)\n",
    "print('AUC-ROC LogisticRegression', auc_roc)\n",
    "plt.plot(fpr, tpr, label = 'LogisticRegression')\n",
    "\n",
    "plt.xlim([0, 1])\n",
    "plt.ylim([0, 1])\n",
    "\n",
    "plt.xlabel('False Positive Rate')\n",
    "plt.ylabel('True Positive Rate')\n",
    "\n",
    "plt.legend(loc = 'lower right', fontsize = 'x-large')\n",
    "\n",
    "plt.title('ROC-кривая')\n",
    "plt.show()"
   ]
  },
  {
   "cell_type": "markdown",
   "metadata": {},
   "source": [
    "**Вывод:**\n",
    "\n",
    "По полученным результатам можно заменить, что метрика F1 и AUC-ROC лучшая на случаном лесе.\n",
    "\n",
    "В данных сущестует дисбаланс классов в отношении 1:4.\n",
    "\n",
    "Возможно он влияет на качество изучаемых моделей.\n",
    "\n",
    "Все модели имеют Recall ниже, чем Percision, из-за перекоса данных, что влияет на F1."
   ]
  },
  {
   "cell_type": "markdown",
   "metadata": {},
   "source": [
    "<a id=5></a>\n",
    "[Содержание](#0)\n",
    "## 5. Борьба с дисбалансом"
   ]
  },
  {
   "cell_type": "markdown",
   "metadata": {},
   "source": [
    "Для борьбы с дисбалансом выполним сравнение моделей:\n",
    "\n",
    "- С взвешенными классами\n",
    "- С уменьшенной выборкой\n",
    "- С увеличенной выборкой\n",
    "\n",
    "Изучим возможности моделей по взвешиванию классов."
   ]
  },
  {
   "cell_type": "code",
   "execution_count": 21,
   "metadata": {},
   "outputs": [
    {
     "name": "stdout",
     "output_type": "stream",
     "text": [
      "- Случайный лес -\n",
      "Accuracy 0.8645\n",
      "Precision 0.772\n",
      "Recall 0.4742014742014742\n",
      "F1 0.5875190258751902\n",
      "CPU times: user 323 ms, sys: 6.77 ms, total: 330 ms\n",
      "Wall time: 329 ms\n"
     ]
    }
   ],
   "source": [
    "%%time\n",
    "\n",
    "model_RFC = RandomForestClassifier(random_state = 22122022, n_estimators = 65, class_weight = 'balanced')\n",
    "model_RFC.fit(x_train, y_train)\n",
    "valid_predictions_RFC = model_RFC.predict(x_valid)\n",
    "print('- Случайный лес -')\n",
    "print('Accuracy', accuracy_score(y_valid, valid_predictions_RFC))\n",
    "print('Precision', precision_score(y_valid, valid_predictions_RFC))\n",
    "print('Recall', recall_score(y_valid, valid_predictions_RFC))\n",
    "print('F1', f1_score(y_valid, valid_predictions_RFC))"
   ]
  },
  {
   "cell_type": "code",
   "execution_count": 22,
   "metadata": {},
   "outputs": [
    {
     "name": "stdout",
     "output_type": "stream",
     "text": [
      "- Логистическая регрессия -\n",
      "Accuracy 0.7205\n",
      "Precision 0.39473684210526316\n",
      "Recall 0.7002457002457002\n",
      "F1 0.5048715677590788\n",
      "CPU times: user 103 ms, sys: 56.6 ms, total: 159 ms\n",
      "Wall time: 32.4 ms\n"
     ]
    }
   ],
   "source": [
    "%%time\n",
    "\n",
    "model_LR = LogisticRegression(random_state = 22122022, max_iter = 6, class_weight = 'balanced')\n",
    "model_LR.fit(x_train, y_train)\n",
    "valid_predictions_LR = model_LR.predict(x_valid)\n",
    "print('- Логистическая регрессия -')\n",
    "print('Accuracy', accuracy_score(y_valid, valid_predictions_LR))\n",
    "print('Precision', precision_score(y_valid, valid_predictions_LR))\n",
    "print('Recall', recall_score(y_valid, valid_predictions_LR))\n",
    "print('F1', f1_score(y_valid, valid_predictions_LR))"
   ]
  },
  {
   "cell_type": "markdown",
   "metadata": {},
   "source": [
    "F-мера упала у случайного леса, но выросла у логистической регресии.\n",
    "\n",
    "Исследуем способ уменьшения значений класса 0."
   ]
  },
  {
   "cell_type": "code",
   "execution_count": 23,
   "metadata": {},
   "outputs": [
    {
     "name": "stdout",
     "output_type": "stream",
     "text": [
      "1    1222\n",
      "0    1194\n",
      "Name: Exited, dtype: int64\n"
     ]
    }
   ],
   "source": [
    "def downsample(features, target, fraction):\n",
    "    features_zeros = features[target == 0]\n",
    "    features_ones = features[target == 1]\n",
    "    target_zeros = target[target == 0]\n",
    "    target_ones = target[target == 1]\n",
    "\n",
    "    features_downsampled = pd.concat(\n",
    "        [features_zeros.sample(frac = fraction, random_state = 22122022)] + [features_ones])\n",
    "    target_downsampled = pd.concat(\n",
    "        [target_zeros.sample(frac = fraction, random_state = 22122022)] + [target_ones])\n",
    "    \n",
    "    features_downsampled, target_downsampled = shuffle(\n",
    "        features_downsampled, target_downsampled, random_state = 22122022)\n",
    "    \n",
    "    return features_downsampled, target_downsampled\n",
    "\n",
    "\n",
    "x_downsampled, y_downsampled = downsample(x_train, y_train, 0.25)\n",
    "\n",
    "print(y_downsampled.value_counts())"
   ]
  },
  {
   "cell_type": "code",
   "execution_count": 24,
   "metadata": {},
   "outputs": [
    {
     "name": "stdout",
     "output_type": "stream",
     "text": [
      "- Случайный лес -\n",
      "Accuracy 0.783\n",
      "Precision 0.4786729857819905\n",
      "Recall 0.7444717444717445\n",
      "F1 0.5826923076923076\n",
      "CPU times: user 166 ms, sys: 4.2 ms, total: 170 ms\n",
      "Wall time: 169 ms\n"
     ]
    }
   ],
   "source": [
    "%%time\n",
    "\n",
    "model_RFC = RandomForestClassifier(random_state = 22122022, n_estimators = 65)\n",
    "model_RFC.fit(x_downsampled, y_downsampled)\n",
    "valid_predictions_RFC = model_RFC.predict(x_valid)\n",
    "print('- Случайный лес -')\n",
    "print('Accuracy', accuracy_score(y_valid, valid_predictions_RFC))\n",
    "print('Precision', precision_score(y_valid, valid_predictions_RFC))\n",
    "print('Recall', recall_score(y_valid, valid_predictions_RFC))\n",
    "print('F1', f1_score(y_valid, valid_predictions_RFC))"
   ]
  },
  {
   "cell_type": "code",
   "execution_count": 25,
   "metadata": {},
   "outputs": [
    {
     "name": "stdout",
     "output_type": "stream",
     "text": [
      " -Логистическая регрессия -\n",
      "Accuracy 0.717\n",
      "Precision 0.3912448700410397\n",
      "Recall 0.7027027027027027\n",
      "F1 0.5026362038664324\n",
      "CPU times: user 102 ms, sys: 75.4 ms, total: 177 ms\n",
      "Wall time: 33 ms\n"
     ]
    }
   ],
   "source": [
    "%%time\n",
    "\n",
    "model_LR = LogisticRegression(random_state = 22122022, max_iter = 6)\n",
    "model_LR.fit(x_downsampled, y_downsampled)\n",
    "valid_predictions_LR = model_LR.predict(x_valid)\n",
    "print(' -Логистическая регрессия -')\n",
    "print('Accuracy', accuracy_score(y_valid, valid_predictions_LR))\n",
    "print('Precision', precision_score(y_valid, valid_predictions_LR))\n",
    "print('Recall', recall_score(y_valid, valid_predictions_LR))\n",
    "print('F1', f1_score(y_valid, valid_predictions_LR))"
   ]
  },
  {
   "cell_type": "markdown",
   "metadata": {},
   "source": [
    "Показатели случайного леса немного выросли.\n",
    "\n",
    "Логистическая регрессия почти не изменилась.\n",
    "\n",
    "Исследуем методы увеличения класса 1."
   ]
  },
  {
   "cell_type": "code",
   "execution_count": 26,
   "metadata": {},
   "outputs": [
    {
     "name": "stdout",
     "output_type": "stream",
     "text": [
      "1    4888\n",
      "0    4778\n",
      "Name: Exited, dtype: int64\n"
     ]
    }
   ],
   "source": [
    "def upsample(features, target, repeat):\n",
    "    features_zeros = features[target == 0]\n",
    "    features_ones = features[target == 1]\n",
    "    target_zeros = target[target == 0]\n",
    "    target_ones = target[target == 1]\n",
    "\n",
    "    features_upsampled = pd.concat([features_zeros] + [features_ones] * repeat)\n",
    "    target_upsampled = pd.concat([target_zeros] + [target_ones] * repeat)\n",
    "    \n",
    "    features_upsampled, target_upsampled = shuffle(\n",
    "        features_upsampled, target_upsampled, random_state = 22122022)\n",
    "    \n",
    "    return features_upsampled, target_upsampled\n",
    "\n",
    "\n",
    "x_upsampled, y_upsampled = upsample(x_train, y_train, 4)\n",
    "\n",
    "print(y_upsampled.value_counts())"
   ]
  },
  {
   "cell_type": "code",
   "execution_count": 27,
   "metadata": {},
   "outputs": [
    {
     "name": "stdout",
     "output_type": "stream",
     "text": [
      "- Случайный лес -\n",
      "Accuracy 0.856\n",
      "Precision 0.673469387755102\n",
      "Recall 0.5675675675675675\n",
      "F1 0.6159999999999999\n",
      "CPU times: user 478 ms, sys: 7.49 ms, total: 485 ms\n",
      "Wall time: 486 ms\n"
     ]
    }
   ],
   "source": [
    "%%time\n",
    "\n",
    "model_RFC = RandomForestClassifier(random_state = 22122022, n_estimators = 65)\n",
    "model_RFC.fit(x_upsampled, y_upsampled)\n",
    "valid_predictions_RFC = model_RFC.predict(x_valid)\n",
    "print('- Случайный лес -')\n",
    "print('Accuracy', accuracy_score(y_valid, valid_predictions_RFC))\n",
    "print('Precision', precision_score(y_valid, valid_predictions_RFC))\n",
    "print('Recall', recall_score(y_valid, valid_predictions_RFC))\n",
    "print('F1', f1_score(y_valid, valid_predictions_RFC))"
   ]
  },
  {
   "cell_type": "code",
   "execution_count": 28,
   "metadata": {},
   "outputs": [
    {
     "name": "stdout",
     "output_type": "stream",
     "text": [
      "- Логистическая регрессия -\n",
      "Accuracy 0.718\n",
      "Precision 0.3917241379310345\n",
      "Recall 0.6977886977886978\n",
      "F1 0.5017667844522968\n",
      "CPU times: user 133 ms, sys: 128 ms, total: 261 ms\n",
      "Wall time: 41.7 ms\n"
     ]
    }
   ],
   "source": [
    "%%time\n",
    "\n",
    "model_LR = LogisticRegression(random_state = 22122022, max_iter = 6)\n",
    "model_LR.fit(x_upsampled, y_upsampled)\n",
    "valid_predictions_LR = model_LR.predict(x_valid)\n",
    "print('- Логистическая регрессия -')\n",
    "print('Accuracy', accuracy_score(y_valid, valid_predictions_LR))\n",
    "print('Precision', precision_score(y_valid, valid_predictions_LR))\n",
    "print('Recall', recall_score(y_valid, valid_predictions_LR))\n",
    "print('F1', f1_score(y_valid, valid_predictions_LR))"
   ]
  },
  {
   "cell_type": "markdown",
   "metadata": {},
   "source": [
    "**Вывод:**\n",
    "\n",
    "F-мера случайного леса с увеличенным классом 1 практически идентична F-мере дисбалансных данных.\n",
    "\n",
    "Выведем ROC-кривую и AUC-ROC для последнего измененного баланса."
   ]
  },
  {
   "cell_type": "code",
   "execution_count": 29,
   "metadata": {},
   "outputs": [
    {
     "name": "stdout",
     "output_type": "stream",
     "text": [
      "AUC-ROC RandomForestClassifier 0.8520199706640383\n",
      "AUC-ROC LogisticRegression 0.7745557576066051\n"
     ]
    },
    {
     "data": {
      "image/png": "[encoded data removed]",
      "text/plain": [
       "<Figure size 1200x900 with 1 Axes>"
      ]
     },
     "metadata": {},
     "output_type": "display_data"
    }
   ],
   "source": [
    "plt.figure(figsize=[12,9])\n",
    "plt.plot([0, 1], [0, 1], linestyle = '--', label = 'RandomModel')\n",
    "\n",
    "probabilities_valid = model_RFC.predict_proba(x_valid)\n",
    "probabilities_one_valid = probabilities_valid[:, 1]\n",
    "fpr, tpr, thresholds = roc_curve(y_valid, probabilities_one_valid)\n",
    "auc_roc = roc_auc_score(y_valid, probabilities_one_valid)\n",
    "print('AUC-ROC RandomForestClassifier', auc_roc)\n",
    "plt.plot(fpr, tpr, label='RandomForestClassifier')\n",
    "\n",
    "probabilities_valid = model_LR.predict_proba(x_valid)\n",
    "probabilities_one_valid = probabilities_valid[:, 1]\n",
    "fpr, tpr, thresholds = roc_curve(y_valid, probabilities_one_valid)\n",
    "auc_roc = roc_auc_score(y_valid, probabilities_one_valid)\n",
    "print('AUC-ROC LogisticRegression', auc_roc)\n",
    "plt.plot(fpr, tpr, label='LogisticRegression')\n",
    "\n",
    "plt.xlim([0,1])\n",
    "plt.ylim([0,1])\n",
    "\n",
    "plt.xlabel('False Positive Rate')\n",
    "plt.ylabel('True Positive Rate')\n",
    "\n",
    "plt.legend(loc = 'lower right', fontsize = 'x-large')\n",
    "\n",
    "plt.title('ROC-кривая')\n",
    "plt.show()"
   ]
  },
  {
   "cell_type": "markdown",
   "metadata": {},
   "source": [
    "**Вывод:**\n",
    "\n",
    "F-мера случайного леса с увеличенным классом 1 практически идентична F-мере дисбалансных данных.\n",
    "\n",
    "Аналогиная картина с показателем AUC-ROC.\n"
   ]
  },
  {
   "cell_type": "markdown",
   "metadata": {},
   "source": [
    "<a id=6></a>\n",
    "[Содержание](#0)\n",
    "## 6. Тестирование модели"
   ]
  },
  {
   "cell_type": "markdown",
   "metadata": {},
   "source": [
    "К тестовой выборке применим модель Случайного леса. \n",
    "\n",
    "Исследуем гиперпараметры и улучшим F-меру модели.\n",
    "\n",
    "Начнем с гиперпараметра n_estimators.\n",
    "\n",
    "Проведем исследование на оптимальное количество деревьев."
   ]
  },
  {
   "cell_type": "code",
   "execution_count": 30,
   "metadata": {},
   "outputs": [
    {
     "name": "stdout",
     "output_type": "stream",
     "text": [
      "Лучшее количество деревьев: 131 Лучшая F1: 0.6344086021505376\n"
     ]
    }
   ],
   "source": [
    "best_est = 0\n",
    "best_f1 = 0\n",
    "\n",
    "for est in range(1, 300, 10):\n",
    "    model_RFC = RandomForestClassifier(random_state = 22122022, n_estimators = est)\n",
    "    model_RFC.fit(x_upsampled, y_upsampled)\n",
    "    valid_predictions_RFC = model_RFC.predict(x_valid)\n",
    "    f1 = f1_score(y_valid, valid_predictions_RFC)\n",
    "#    print('Количество деревьев:', est,'F1:', f1)\n",
    "\n",
    "    if f1 > best_f1:\n",
    "        best_est = est\n",
    "        best_f1 = f1\n",
    "\n",
    "print('Лучшее количество деревьев:', best_est, 'Лучшая F1:', best_f1)"
   ]
  },
  {
   "cell_type": "markdown",
   "metadata": {},
   "source": [
    "Лучший результат лежит в диапазоне 120-140."
   ]
  },
  {
   "cell_type": "code",
   "execution_count": 31,
   "metadata": {},
   "outputs": [
    {
     "name": "stdout",
     "output_type": "stream",
     "text": [
      "Лучшее количество деревьев: 134 Лучшая F1: 0.6369770580296896\n"
     ]
    }
   ],
   "source": [
    "best_est = 0\n",
    "best_f1 = 0\n",
    "\n",
    "for est in range(120, 140):\n",
    "    model_RFC = RandomForestClassifier(random_state = 22122022, n_estimators = est)\n",
    "    model_RFC.fit(x_upsampled, y_upsampled)\n",
    "    valid_predictions_RFC = model_RFC.predict(x_valid)\n",
    "    f1 = f1_score(y_valid, valid_predictions_RFC)\n",
    "#    print('Количество деревьев:', est,'F1:', f1)\n",
    "    \n",
    "    if f1 > best_f1:\n",
    "        best_est = est\n",
    "        best_f1 = f1\n",
    "\n",
    "print('Лучшее количество деревьев:', best_est, 'Лучшая F1:', best_f1)"
   ]
  },
  {
   "cell_type": "markdown",
   "metadata": {},
   "source": [
    "F1 достигла 0.6369 при 134 деревьях\n",
    "\n",
    "Изменим гиперпараметр min_samples_split."
   ]
  },
  {
   "cell_type": "code",
   "execution_count": 32,
   "metadata": {},
   "outputs": [
    {
     "name": "stdout",
     "output_type": "stream",
     "text": [
      "Samples_split 0.1 F1 0.5906932573599241\n",
      "Samples_split 0.2 F1 0.5668849391955099\n",
      "Samples_split 0.3 F1 0.5387323943661971\n",
      "Samples_split 0.4 F1 0.5291970802919708\n",
      "Samples_split 0.5 F1 0.5318761384335156\n",
      "Samples_split 0.6 F1 0.5263157894736842\n",
      "Samples_split 0.7 F1 0.3381803074366431\n",
      "Samples_split 0.8 F1 0.3381803074366431\n",
      "Samples_split 0.9 F1 0.3381803074366431\n",
      "Samples_split 1.0 F1 0.3381803074366431\n",
      "Samples_split 2 F1 0.6369770580296896\n",
      "Samples_split 3 F1 0.6201342281879194\n",
      "Samples_split 4 F1 0.6273458445040214\n",
      "Samples_split 5 F1 0.6205059920106525\n",
      "Samples_split 6 F1 0.6312997347480107\n",
      "Samples_split 7 F1 0.6355382619974062\n",
      "Samples_split 8 F1 0.6425806451612903\n",
      "Samples_split 9 F1 0.6377551020408163\n",
      "Samples_split 10 F1 0.6456494325346784\n",
      "Лучшее Samples_split: 10 Лучшая F1: 0.6456494325346784\n"
     ]
    }
   ],
   "source": [
    "best_min_ssplit = 0\n",
    "best_f1 = 0\n",
    "\n",
    "for samples_split in range(1, 11):\n",
    "    model_RFC = RandomForestClassifier(random_state = 22122022, n_estimators = 134,\n",
    "                                       min_samples_split = samples_split / 10)\n",
    "    model_RFC.fit(x_upsampled, y_upsampled)\n",
    "    valid_predictions_RFC = model_RFC.predict(x_valid)\n",
    "    f1 = f1_score(y_valid, valid_predictions_RFC)\n",
    "    print('Samples_split', samples_split / 10, 'F1', f1)\n",
    "\n",
    "    if f1 > best_f1:\n",
    "        best_min_ssplit = samples_split\n",
    "        best_f1 = f1\n",
    "\n",
    "for samples_split in range(2, 11):\n",
    "    model_RFC = RandomForestClassifier(random_state = 22122022, n_estimators = 134,\n",
    "                                       min_samples_split = samples_split)\n",
    "    model_RFC.fit(x_upsampled, y_upsampled)\n",
    "    valid_predictions_RFC = model_RFC.predict(x_valid)\n",
    "    f1 = f1_score(y_valid, valid_predictions_RFC)\n",
    "    print('Samples_split', samples_split, 'F1', f1)\n",
    "\n",
    "    if f1 > best_f1:\n",
    "        best_min_ssplit = samples_split\n",
    "        best_f1 = f1\n",
    "\n",
    "print('Лучшее Samples_split:', best_min_ssplit, 'Лучшая F1:', best_f1)\n"
   ]
  },
  {
   "cell_type": "markdown",
   "metadata": {},
   "source": [
    "F1 достигла 0.6456 при Samples_split: 10\n",
    "\n",
    "Изменим гиперпараметр min_samples_leaf."
   ]
  },
  {
   "cell_type": "code",
   "execution_count": 33,
   "metadata": {},
   "outputs": [
    {
     "name": "stdout",
     "output_type": "stream",
     "text": [
      "Samples_leaf 0.1 F1 0.5340699815837937\n",
      "Samples_leaf 0.2 F1 0.5074365704286964\n",
      "Samples_leaf 0.3 F1 0.47368421052631576\n",
      "Samples_leaf 0.4 F1 0.3381803074366431\n",
      "Samples_leaf 0.5 F1 0.3381803074366431\n",
      "Samples_leaf 1 F1 0.6425\n",
      "Samples_leaf 2 F1 0.6254635352286774\n",
      "Samples_leaf 3 F1 0.6266506602641057\n",
      "Samples_leaf 4 F1 0.6261904761904761\n",
      "Samples_leaf 5 F1 0.6351039260969977\n",
      "Лучшее Samples_leaf: 1 Лучшая F1: 0.6425\n"
     ]
    }
   ],
   "source": [
    "best_min_sleaf = 0\n",
    "best_f1 = 0\n",
    "\n",
    "for samples_leaf in range(1, 6):\n",
    "    model_RFC = RandomForestClassifier(random_state = 22122022, n_estimators = 134, min_samples_split = 10,\n",
    "                                      min_samples_leaf= samples_leaf / 10)\n",
    "    model_RFC.fit(x_upsampled, y_upsampled)\n",
    "    valid_predictions_RFC = model_RFC.predict(x_valid)\n",
    "    f1 = f1_score(y_valid, valid_predictions_RFC)\n",
    "    print('Samples_leaf', samples_leaf / 10, 'F1', f1)\n",
    "\n",
    "    if f1 > best_f1:\n",
    "        best_min_sleaf = samples_leaf\n",
    "        best_f1 = f1\n",
    "\n",
    "for samples_leaf in range(1, 6):\n",
    "    model_RFC = RandomForestClassifier(random_state = 22122022, n_estimators = 119, min_samples_split = 10,\n",
    "                                      min_samples_leaf = samples_leaf)\n",
    "    model_RFC.fit(x_upsampled, y_upsampled)\n",
    "    valid_predictions_RFC = model_RFC.predict(x_valid)\n",
    "    f1 = f1_score(y_valid, valid_predictions_RFC)\n",
    "    print('Samples_leaf', samples_leaf, 'F1', f1)\n",
    "\n",
    "    if f1 > best_f1:\n",
    "        best_min_sleaf = samples_leaf\n",
    "        best_f1 = f1\n",
    "\n",
    "print('Лучшее Samples_leaf:', best_min_sleaf, 'Лучшая F1:', best_f1)\n"
   ]
  },
  {
   "cell_type": "code",
   "execution_count": 34,
   "metadata": {},
   "outputs": [
    {
     "name": "stdout",
     "output_type": "stream",
     "text": [
      "Accuracy 0.8595\n",
      "Precision 0.6632124352331606\n",
      "Recall 0.628992628992629\n",
      "F1 0.6456494325346784\n",
      "CPU times: user 936 ms, sys: 23.3 ms, total: 960 ms\n",
      "Wall time: 959 ms\n"
     ]
    }
   ],
   "source": [
    "%%time\n",
    "\n",
    "model_RFC = RandomForestClassifier(random_state = 22122022, n_estimators = 134, min_samples_split = 10,\n",
    "                                  min_samples_leaf = 1)\n",
    "model_RFC.fit(x_upsampled, y_upsampled)\n",
    "valid_predictions_RFC = model_RFC.predict(x_valid)\n",
    "\n",
    "print('Accuracy', accuracy_score(y_valid, valid_predictions_RFC))\n",
    "print('Precision', precision_score(y_valid, valid_predictions_RFC))\n",
    "print('Recall', recall_score(y_valid, valid_predictions_RFC))\n",
    "print('F1', f1_score(y_valid, valid_predictions_RFC))"
   ]
  },
  {
   "cell_type": "markdown",
   "metadata": {},
   "source": [
    "F1 достигла 0.6456.\n",
    "\n",
    "Модель обучена, переходим к тестированию."
   ]
  },
  {
   "cell_type": "code",
   "execution_count": 35,
   "metadata": {},
   "outputs": [
    {
     "name": "stdout",
     "output_type": "stream",
     "text": [
      "Accuracy 0.8395\n",
      "Precision 0.6112531969309463\n",
      "Recall 0.5857843137254902\n",
      "F1 0.5982478097622027\n"
     ]
    }
   ],
   "source": [
    "test_predictions_RFC = model_RFC.predict(x_test)\n",
    "\n",
    "print('Accuracy', accuracy_score(y_test, test_predictions_RFC))\n",
    "print('Precision', precision_score(y_test, test_predictions_RFC))\n",
    "print('Recall', recall_score(y_test, test_predictions_RFC))\n",
    "print('F1', f1_score(y_test, test_predictions_RFC))"
   ]
  },
  {
   "cell_type": "code",
   "execution_count": 36,
   "metadata": {},
   "outputs": [
    {
     "name": "stdout",
     "output_type": "stream",
     "text": [
      "AUC-ROC RandomForestClassifier - valid 0.8562229409687035\n",
      "AUC-ROC RandomForestClassifier - test 0.8481392871218838\n"
     ]
    },
    {
     "data": {
      "image/png": "[encoded data removed]",
      "text/plain": [
       "<Figure size 1200x900 with 1 Axes>"
      ]
     },
     "metadata": {},
     "output_type": "display_data"
    }
   ],
   "source": [
    "plt.figure(figsize=[12,9])\n",
    "plt.plot([0, 1], [0, 1], linestyle= '--', label = 'RandomModel')\n",
    "\n",
    "probabilities_valid = model_RFC.predict_proba(x_valid)\n",
    "probabilities_one_valid = probabilities_valid[:, 1]\n",
    "fpr, tpr, thresholds = roc_curve(y_valid, probabilities_one_valid)\n",
    "auc_roc = roc_auc_score(y_valid, probabilities_one_valid)\n",
    "print('AUC-ROC RandomForestClassifier - valid', auc_roc)\n",
    "plt.plot(fpr, tpr, label = 'RandomForestClassifier - valid')\n",
    "\n",
    "probabilities_test = model_RFC.predict_proba(x_test)\n",
    "probabilities_one_test = probabilities_test[:, 1]\n",
    "fpr, tpr, thresholds = roc_curve(y_test, probabilities_one_test)\n",
    "auc_roc = roc_auc_score(y_test, probabilities_one_test)\n",
    "print('AUC-ROC RandomForestClassifier - test', auc_roc)\n",
    "plt.plot(fpr, tpr, label = 'RandomForestClassifier - test')\n",
    "\n",
    "plt.xlim([0,1])\n",
    "plt.ylim([0,1])\n",
    "\n",
    "plt.xlabel('False Positive Rate')\n",
    "plt.ylabel('True Positive Rate')\n",
    "\n",
    "plt.legend(loc='lower right', fontsize = 'x-large')\n",
    "\n",
    "plt.title('ROC-кривая')\n",
    "plt.show()"
   ]
  },
  {
   "cell_type": "markdown",
   "metadata": {},
   "source": [
    "**Вывод:**\n",
    "\n",
    "Модель случайного леса с увеличенным количеством класса 1 достигла требуемого значения 0.6456.(> 0.59) F-меры на тестовых данных.\n",
    "\n",
    "Баланс классов повышает охват необходимых данных, F-мера имеет небольшой прирост.\n",
    "\n",
    "В результате исследования была получена модель с лучшими показателями как по F1-мере,\n",
    "\n",
    "так и по AUC-ROC - Случайный лес с увеличенным количеством класса 1.\n"
   ]
  },
  {
   "cell_type": "markdown",
   "metadata": {},
   "source": [
    "<a id=7></a>\n",
    "[Содержание](#0)\n",
    "## 7. Общий вывод"
   ]
  },
  {
   "cell_type": "markdown",
   "metadata": {},
   "source": [
    "#### Было выполнено:\n",
    "\n",
    "- Просмотрена таблица, найдены пропущенные значения.\n",
    "- Проведена предобработка таблицы: заполнение пропусков, удаление ненужных признаков.\n",
    "- Проведен анализ по данным и подготовлены актуальные данные.\n",
    "- Для борьбы с дисбалансом сравнили модели: с взвешенными классами, с уменьшенной выборкой, с увеличенной выборкой.\n",
    "- Выполнено тестирование модели Случайного леса, построена построена ROC-кривая.\n",
    "\n",
    "Сотрудникам «Бета-Банка» рекомендуется использовать подготовленную модель Случайного леса с F1 = 0.6456 для прогнозирования возможного ухода клиент из банка в ближайшее время."
   ]
  },
  {
   "cell_type": "code",
   "execution_count": null,
   "metadata": {},
   "outputs": [],
   "source": []
  }
 ],
 "metadata": {
  "ExecuteTimeLog": [
   {
    "duration": 45,
    "start_time": "2022-12-26T19:10:31.808Z"
   },
   {
    "duration": 1044,
    "start_time": "2022-12-26T19:11:43.194Z"
   },
   {
    "duration": 164,
    "start_time": "2022-12-26T19:11:44.247Z"
   },
   {
    "duration": 64,
    "start_time": "2022-12-26T19:12:03.518Z"
   },
   {
    "duration": 40,
    "start_time": "2022-12-26T19:12:16.968Z"
   },
   {
    "duration": 14,
    "start_time": "2022-12-26T19:12:18.290Z"
   },
   {
    "duration": 21,
    "start_time": "2022-12-26T19:12:52.918Z"
   },
   {
    "duration": 38,
    "start_time": "2022-12-26T19:23:44.425Z"
   },
   {
    "duration": 5,
    "start_time": "2022-12-26T20:05:32.401Z"
   },
   {
    "duration": 6,
    "start_time": "2022-12-26T20:05:35.318Z"
   },
   {
    "duration": 35,
    "start_time": "2022-12-26T20:05:45.674Z"
   },
   {
    "duration": 33,
    "start_time": "2022-12-26T20:06:35.612Z"
   },
   {
    "duration": 5,
    "start_time": "2022-12-26T20:06:44.298Z"
   },
   {
    "duration": 5,
    "start_time": "2022-12-26T20:07:11.698Z"
   },
   {
    "duration": 46,
    "start_time": "2022-12-26T20:07:13.247Z"
   },
   {
    "duration": 6,
    "start_time": "2022-12-26T20:08:11.065Z"
   },
   {
    "duration": 40,
    "start_time": "2022-12-26T20:10:17.507Z"
   },
   {
    "duration": 21,
    "start_time": "2022-12-26T20:10:18.061Z"
   },
   {
    "duration": 13,
    "start_time": "2022-12-26T20:10:19.467Z"
   },
   {
    "duration": 5,
    "start_time": "2022-12-26T20:10:21.446Z"
   },
   {
    "duration": 6,
    "start_time": "2022-12-26T20:10:22.665Z"
   },
   {
    "duration": 4,
    "start_time": "2022-12-26T20:10:25.796Z"
   },
   {
    "duration": 36,
    "start_time": "2022-12-26T20:10:27.566Z"
   },
   {
    "duration": 67,
    "start_time": "2022-12-26T20:10:28.880Z"
   },
   {
    "duration": 4,
    "start_time": "2022-12-26T20:10:59.867Z"
   },
   {
    "duration": 4,
    "start_time": "2022-12-26T20:11:01.488Z"
   },
   {
    "duration": 6,
    "start_time": "2022-12-26T20:11:04.182Z"
   },
   {
    "duration": 40,
    "start_time": "2022-12-26T20:11:42.474Z"
   },
   {
    "duration": 4,
    "start_time": "2022-12-26T20:12:30.072Z"
   },
   {
    "duration": 41,
    "start_time": "2022-12-26T20:12:35.795Z"
   },
   {
    "duration": 14,
    "start_time": "2022-12-26T20:12:36.241Z"
   },
   {
    "duration": 27,
    "start_time": "2022-12-26T20:12:37.344Z"
   },
   {
    "duration": 3,
    "start_time": "2022-12-26T20:12:38.469Z"
   },
   {
    "duration": 6,
    "start_time": "2022-12-26T20:12:39.016Z"
   },
   {
    "duration": 6,
    "start_time": "2022-12-26T20:12:39.652Z"
   },
   {
    "duration": 34,
    "start_time": "2022-12-26T20:12:40.807Z"
   },
   {
    "duration": 4,
    "start_time": "2022-12-26T20:12:41.868Z"
   },
   {
    "duration": 6,
    "start_time": "2022-12-26T20:12:42.608Z"
   },
   {
    "duration": 7,
    "start_time": "2022-12-26T20:12:47.292Z"
   },
   {
    "duration": 8,
    "start_time": "2022-12-26T20:22:01.317Z"
   },
   {
    "duration": 3,
    "start_time": "2022-12-26T20:22:09.634Z"
   },
   {
    "duration": 39,
    "start_time": "2022-12-26T20:22:10.190Z"
   },
   {
    "duration": 11,
    "start_time": "2022-12-26T20:22:10.898Z"
   },
   {
    "duration": 14,
    "start_time": "2022-12-26T20:22:14.222Z"
   },
   {
    "duration": 4,
    "start_time": "2022-12-26T20:22:15.868Z"
   },
   {
    "duration": 10,
    "start_time": "2022-12-26T20:22:21.967Z"
   },
   {
    "duration": 35,
    "start_time": "2022-12-26T20:22:33.284Z"
   },
   {
    "duration": 18,
    "start_time": "2022-12-26T20:53:03.696Z"
   },
   {
    "duration": 12,
    "start_time": "2022-12-26T20:54:46.766Z"
   },
   {
    "duration": 16,
    "start_time": "2022-12-26T21:00:26.867Z"
   },
   {
    "duration": 1615,
    "start_time": "2022-12-26T21:11:34.840Z"
   },
   {
    "duration": 81,
    "start_time": "2022-12-26T21:11:36.821Z"
   },
   {
    "duration": 14,
    "start_time": "2022-12-26T21:11:38.405Z"
   },
   {
    "duration": 17,
    "start_time": "2022-12-26T21:11:40.114Z"
   },
   {
    "duration": 4,
    "start_time": "2022-12-26T21:11:41.101Z"
   },
   {
    "duration": 7,
    "start_time": "2022-12-26T21:11:42.137Z"
   },
   {
    "duration": 35,
    "start_time": "2022-12-26T21:11:42.998Z"
   },
   {
    "duration": 14,
    "start_time": "2022-12-26T21:11:59.780Z"
   },
   {
    "duration": 17,
    "start_time": "2022-12-26T21:26:41.120Z"
   },
   {
    "duration": 4,
    "start_time": "2022-12-26T21:27:15.111Z"
   },
   {
    "duration": 41,
    "start_time": "2022-12-26T21:27:15.658Z"
   },
   {
    "duration": 13,
    "start_time": "2022-12-26T21:27:16.585Z"
   },
   {
    "duration": 11,
    "start_time": "2022-12-26T21:27:18.477Z"
   },
   {
    "duration": 5,
    "start_time": "2022-12-26T21:27:19.052Z"
   },
   {
    "duration": 7,
    "start_time": "2022-12-26T21:27:20.186Z"
   },
   {
    "duration": 34,
    "start_time": "2022-12-26T21:27:21.895Z"
   },
   {
    "duration": 17,
    "start_time": "2022-12-26T21:27:24.836Z"
   },
   {
    "duration": 17,
    "start_time": "2022-12-26T21:28:06.179Z"
   },
   {
    "duration": 261,
    "start_time": "2022-12-26T21:29:32.417Z"
   },
   {
    "duration": 140,
    "start_time": "2022-12-26T21:30:26.536Z"
   },
   {
    "duration": 179,
    "start_time": "2022-12-26T21:30:43.810Z"
   },
   {
    "duration": 192,
    "start_time": "2022-12-26T21:32:48.577Z"
   },
   {
    "duration": 338,
    "start_time": "2022-12-26T21:33:04.426Z"
   },
   {
    "duration": 97,
    "start_time": "2022-12-26T21:33:30.101Z"
   },
   {
    "duration": 57,
    "start_time": "2022-12-26T21:42:38.136Z"
   },
   {
    "duration": 9,
    "start_time": "2022-12-26T21:49:55.201Z"
   },
   {
    "duration": 47,
    "start_time": "2022-12-26T22:00:50.684Z"
   },
   {
    "duration": 1670,
    "start_time": "2022-12-26T22:01:19.805Z"
   },
   {
    "duration": 163,
    "start_time": "2022-12-26T22:01:21.478Z"
   },
   {
    "duration": 14,
    "start_time": "2022-12-26T22:01:21.688Z"
   },
   {
    "duration": 20,
    "start_time": "2022-12-26T22:01:23.981Z"
   },
   {
    "duration": 4,
    "start_time": "2022-12-26T22:01:24.789Z"
   },
   {
    "duration": 9,
    "start_time": "2022-12-26T22:01:25.527Z"
   },
   {
    "duration": 34,
    "start_time": "2022-12-26T22:01:26.227Z"
   },
   {
    "duration": 17,
    "start_time": "2022-12-26T22:01:28.462Z"
   },
   {
    "duration": 16,
    "start_time": "2022-12-26T22:01:45.680Z"
   },
   {
    "duration": 109,
    "start_time": "2022-12-26T22:01:58.380Z"
   },
   {
    "duration": 97,
    "start_time": "2022-12-26T22:02:04.330Z"
   },
   {
    "duration": 34317,
    "start_time": "2022-12-26T22:02:15.945Z"
   },
   {
    "duration": 32708,
    "start_time": "2022-12-26T22:08:31.724Z"
   },
   {
    "duration": 77,
    "start_time": "2022-12-26T22:12:25.895Z"
   },
   {
    "duration": 118,
    "start_time": "2022-12-26T22:18:20.419Z"
   },
   {
    "duration": 3,
    "start_time": "2022-12-26T22:18:36.155Z"
   },
   {
    "duration": 606,
    "start_time": "2022-12-26T22:18:42.724Z"
   },
   {
    "duration": 110,
    "start_time": "2022-12-26T22:19:54.278Z"
   },
   {
    "duration": 493,
    "start_time": "2022-12-26T22:19:57.034Z"
   },
   {
    "duration": 140,
    "start_time": "2022-12-26T22:31:59.598Z"
   },
   {
    "duration": 109,
    "start_time": "2022-12-26T22:32:13.905Z"
   },
   {
    "duration": 367,
    "start_time": "2022-12-26T22:32:15.268Z"
   },
   {
    "duration": 168,
    "start_time": "2022-12-26T22:32:17.727Z"
   },
   {
    "duration": 4,
    "start_time": "2022-12-26T22:33:34.984Z"
   },
   {
    "duration": 403,
    "start_time": "2022-12-26T22:33:49.192Z"
   },
   {
    "duration": 370,
    "start_time": "2022-12-26T22:34:04.115Z"
   },
   {
    "duration": 373,
    "start_time": "2022-12-26T22:34:17.791Z"
   },
   {
    "duration": 1737,
    "start_time": "2022-12-27T19:53:16.666Z"
   },
   {
    "duration": 103,
    "start_time": "2022-12-27T19:53:18.408Z"
   },
   {
    "duration": 15,
    "start_time": "2022-12-27T19:53:19.936Z"
   },
   {
    "duration": 18,
    "start_time": "2022-12-27T19:53:31.357Z"
   },
   {
    "duration": 4,
    "start_time": "2022-12-27T19:53:32.946Z"
   },
   {
    "duration": 8,
    "start_time": "2022-12-27T19:53:33.654Z"
   },
   {
    "duration": 35,
    "start_time": "2022-12-27T19:53:34.531Z"
   },
   {
    "duration": 19,
    "start_time": "2022-12-27T19:53:36.614Z"
   },
   {
    "duration": 20,
    "start_time": "2022-12-27T19:53:53.839Z"
   },
   {
    "duration": 136,
    "start_time": "2022-12-27T19:54:23.457Z"
   },
   {
    "duration": 37311,
    "start_time": "2022-12-27T19:54:58.455Z"
   },
   {
    "duration": 122540,
    "start_time": "2022-12-27T19:56:09.542Z"
   },
   {
    "duration": 120042,
    "start_time": "2022-12-27T19:58:56.740Z"
   },
   {
    "duration": 134,
    "start_time": "2022-12-27T20:01:26.001Z"
   },
   {
    "duration": 1658,
    "start_time": "2022-12-27T20:01:28.722Z"
   },
   {
    "duration": 1743,
    "start_time": "2022-12-27T20:03:04.664Z"
   },
   {
    "duration": 124,
    "start_time": "2022-12-27T20:04:10.005Z"
   },
   {
    "duration": 1954,
    "start_time": "2022-12-27T20:04:12.240Z"
   },
   {
    "duration": 353,
    "start_time": "2022-12-27T20:05:37.902Z"
   },
   {
    "duration": 124,
    "start_time": "2022-12-27T20:11:12.247Z"
   },
   {
    "duration": 2748,
    "start_time": "2022-12-27T20:12:09.354Z"
   },
   {
    "duration": 5,
    "start_time": "2022-12-27T20:16:10.497Z"
   },
   {
    "duration": 18,
    "start_time": "2022-12-27T20:16:27.097Z"
   },
   {
    "duration": 71,
    "start_time": "2022-12-27T20:18:36.198Z"
   },
   {
    "duration": 883,
    "start_time": "2022-12-27T20:19:05.321Z"
   },
   {
    "duration": 117,
    "start_time": "2022-12-27T20:21:59.112Z"
   },
   {
    "duration": 171,
    "start_time": "2022-12-27T20:22:53.073Z"
   },
   {
    "duration": 634,
    "start_time": "2022-12-27T20:23:18.256Z"
   },
   {
    "duration": 358,
    "start_time": "2022-12-27T20:30:49.103Z"
   },
   {
    "duration": 32295,
    "start_time": "2022-12-27T20:39:13.456Z"
   },
   {
    "duration": 30132,
    "start_time": "2022-12-27T20:40:45.042Z"
   },
   {
    "duration": 9551,
    "start_time": "2022-12-27T20:42:14.699Z"
   },
   {
    "duration": 9202,
    "start_time": "2022-12-27T20:43:12.804Z"
   },
   {
    "duration": 65,
    "start_time": "2022-12-27T20:59:44.178Z"
   },
   {
    "duration": 856,
    "start_time": "2022-12-27T21:00:12.297Z"
   },
   {
    "duration": 876,
    "start_time": "2022-12-27T21:00:57.844Z"
   },
   {
    "duration": 819,
    "start_time": "2022-12-27T21:01:13.421Z"
   },
   {
    "duration": 802,
    "start_time": "2022-12-27T21:01:30.101Z"
   },
   {
    "duration": 25,
    "start_time": "2022-12-27T21:17:00.379Z"
   },
   {
    "duration": 169,
    "start_time": "2022-12-27T21:18:08.051Z"
   },
   {
    "duration": 32348,
    "start_time": "2022-12-27T21:21:17.110Z"
   },
   {
    "duration": 32310,
    "start_time": "2022-12-27T21:25:42.235Z"
   },
   {
    "duration": 28482,
    "start_time": "2022-12-27T21:26:36.670Z"
   },
   {
    "duration": 44477,
    "start_time": "2022-12-27T21:30:30.150Z"
   },
   {
    "duration": 91648,
    "start_time": "2022-12-27T21:32:56.477Z"
   },
   {
    "duration": 70,
    "start_time": "2022-12-27T21:36:49.293Z"
   },
   {
    "duration": 42918,
    "start_time": "2022-12-27T21:37:02.193Z"
   },
   {
    "duration": 56610,
    "start_time": "2022-12-27T21:38:13.332Z"
   },
   {
    "duration": 2767,
    "start_time": "2022-12-27T21:39:52.460Z"
   },
   {
    "duration": 31057,
    "start_time": "2022-12-27T21:44:03.229Z"
   },
   {
    "duration": 28574,
    "start_time": "2022-12-27T21:45:41.892Z"
   },
   {
    "duration": 5,
    "start_time": "2022-12-27T21:53:40.925Z"
   },
   {
    "duration": 39,
    "start_time": "2022-12-27T21:53:41.636Z"
   },
   {
    "duration": 13,
    "start_time": "2022-12-27T21:53:42.346Z"
   },
   {
    "duration": 14,
    "start_time": "2022-12-27T21:53:43.901Z"
   },
   {
    "duration": 4,
    "start_time": "2022-12-27T21:53:44.863Z"
   },
   {
    "duration": 8,
    "start_time": "2022-12-27T21:53:45.530Z"
   },
   {
    "duration": 36,
    "start_time": "2022-12-27T21:53:46.393Z"
   },
   {
    "duration": 21,
    "start_time": "2022-12-27T21:53:48.934Z"
   },
   {
    "duration": 24,
    "start_time": "2022-12-27T21:53:53.062Z"
   },
   {
    "duration": 115,
    "start_time": "2022-12-27T21:53:55.375Z"
   },
   {
    "duration": 33321,
    "start_time": "2022-12-27T21:53:59.004Z"
   },
   {
    "duration": 29954,
    "start_time": "2022-12-27T21:54:43.105Z"
   },
   {
    "duration": 150065,
    "start_time": "2022-12-27T21:55:33.120Z"
   },
   {
    "duration": 1491,
    "start_time": "2022-12-27T21:59:13.728Z"
   },
   {
    "duration": 1794,
    "start_time": "2022-12-27T21:59:23.193Z"
   },
   {
    "duration": 435,
    "start_time": "2022-12-27T21:59:47.230Z"
   },
   {
    "duration": 1457,
    "start_time": "2022-12-27T22:00:26.245Z"
   },
   {
    "duration": 1291,
    "start_time": "2022-12-27T22:00:33.791Z"
   },
   {
    "duration": 15,
    "start_time": "2022-12-27T22:00:58.401Z"
   },
   {
    "duration": 799,
    "start_time": "2022-12-27T22:01:18.792Z"
   },
   {
    "duration": 271,
    "start_time": "2022-12-27T22:01:25.620Z"
   },
   {
    "duration": 17,
    "start_time": "2022-12-27T22:03:23.878Z"
   },
   {
    "duration": 2019,
    "start_time": "2022-12-27T22:03:28.717Z"
   },
   {
    "duration": 1320,
    "start_time": "2022-12-27T22:03:35.378Z"
   },
   {
    "duration": 478,
    "start_time": "2022-12-27T22:04:13.761Z"
   },
   {
    "duration": 45167,
    "start_time": "2022-12-27T22:05:57.550Z"
   },
   {
    "duration": 45361,
    "start_time": "2022-12-27T22:08:03.029Z"
   },
   {
    "duration": 52,
    "start_time": "2022-12-27T22:09:03.711Z"
   },
   {
    "duration": 8,
    "start_time": "2022-12-27T22:09:12.101Z"
   },
   {
    "duration": 1449,
    "start_time": "2022-12-27T22:09:21.673Z"
   },
   {
    "duration": 42,
    "start_time": "2022-12-27T22:09:23.124Z"
   },
   {
    "duration": 20,
    "start_time": "2022-12-27T22:09:23.167Z"
   },
   {
    "duration": 19,
    "start_time": "2022-12-27T22:09:24.579Z"
   },
   {
    "duration": 8,
    "start_time": "2022-12-27T22:09:25.277Z"
   },
   {
    "duration": 9,
    "start_time": "2022-12-27T22:09:25.933Z"
   },
   {
    "duration": 41,
    "start_time": "2022-12-27T22:09:26.567Z"
   },
   {
    "duration": 19,
    "start_time": "2022-12-27T22:09:28.194Z"
   },
   {
    "duration": 22,
    "start_time": "2022-12-27T22:09:31.063Z"
   },
   {
    "duration": 114,
    "start_time": "2022-12-27T22:09:32.840Z"
   },
   {
    "duration": 30635,
    "start_time": "2022-12-27T22:09:36.088Z"
   },
   {
    "duration": 28842,
    "start_time": "2022-12-27T22:10:06.725Z"
   },
   {
    "duration": 146072,
    "start_time": "2022-12-27T22:10:43.327Z"
   },
   {
    "duration": 1474,
    "start_time": "2022-12-27T22:13:19.444Z"
   },
   {
    "duration": 1190,
    "start_time": "2022-12-27T22:13:23.389Z"
   },
   {
    "duration": 562,
    "start_time": "2022-12-27T22:13:30.753Z"
   },
   {
    "duration": 1404,
    "start_time": "2022-12-27T22:13:39.602Z"
   },
   {
    "duration": 968,
    "start_time": "2022-12-27T22:13:52.026Z"
   },
   {
    "duration": 13,
    "start_time": "2022-12-27T22:14:03.016Z"
   },
   {
    "duration": 792,
    "start_time": "2022-12-27T22:14:09.207Z"
   },
   {
    "duration": 328,
    "start_time": "2022-12-27T22:14:14.963Z"
   },
   {
    "duration": 14,
    "start_time": "2022-12-27T22:14:44.640Z"
   },
   {
    "duration": 1981,
    "start_time": "2022-12-27T22:14:49.334Z"
   },
   {
    "duration": 1436,
    "start_time": "2022-12-27T22:14:56.854Z"
   },
   {
    "duration": 439,
    "start_time": "2022-12-27T22:15:05.218Z"
   },
   {
    "duration": 45258,
    "start_time": "2022-12-27T22:15:22.729Z"
   },
   {
    "duration": 43506,
    "start_time": "2022-12-27T22:21:41.565Z"
   },
   {
    "duration": 56638,
    "start_time": "2022-12-27T22:22:40.392Z"
   },
   {
    "duration": 2756,
    "start_time": "2022-12-27T22:24:06.602Z"
   },
   {
    "duration": 56,
    "start_time": "2022-12-27T22:32:25.077Z"
   },
   {
    "duration": 82,
    "start_time": "2022-12-27T22:33:52.928Z"
   },
   {
    "duration": 32987,
    "start_time": "2022-12-27T22:35:51.057Z"
   },
   {
    "duration": 2666,
    "start_time": "2022-12-27T22:37:35.608Z"
   },
   {
    "duration": 16847,
    "start_time": "2022-12-27T22:44:09.356Z"
   },
   {
    "duration": 2645,
    "start_time": "2022-12-27T22:47:27.974Z"
   },
   {
    "duration": 2667,
    "start_time": "2022-12-27T22:49:15.124Z"
   },
   {
    "duration": 2658,
    "start_time": "2022-12-27T22:49:25.607Z"
   },
   {
    "duration": 2658,
    "start_time": "2022-12-27T22:49:49.773Z"
   },
   {
    "duration": 150,
    "start_time": "2022-12-27T22:50:01.902Z"
   },
   {
    "duration": 2723,
    "start_time": "2022-12-27T22:50:47.575Z"
   },
   {
    "duration": 2549,
    "start_time": "2022-12-27T22:52:13.789Z"
   },
   {
    "duration": 154,
    "start_time": "2022-12-27T22:52:40.770Z"
   },
   {
    "duration": 84,
    "start_time": "2022-12-27T22:53:28.473Z"
   },
   {
    "duration": 11,
    "start_time": "2022-12-27T22:54:05.811Z"
   },
   {
    "duration": 317,
    "start_time": "2022-12-27T22:57:26.527Z"
   },
   {
    "duration": 489,
    "start_time": "2022-12-27T22:58:35.566Z"
   },
   {
    "duration": 482,
    "start_time": "2022-12-27T22:59:16.656Z"
   },
   {
    "duration": 55,
    "start_time": "2022-12-27T23:05:57.294Z"
   },
   {
    "duration": 2698,
    "start_time": "2022-12-27T23:08:14.657Z"
   },
   {
    "duration": 150,
    "start_time": "2022-12-27T23:08:26.100Z"
   },
   {
    "duration": 496,
    "start_time": "2022-12-27T23:08:28.489Z"
   },
   {
    "duration": 1551,
    "start_time": "2022-12-28T13:19:33.051Z"
   },
   {
    "duration": 148,
    "start_time": "2022-12-28T13:19:34.604Z"
   },
   {
    "duration": 14,
    "start_time": "2022-12-28T13:19:34.754Z"
   },
   {
    "duration": 16,
    "start_time": "2022-12-28T13:19:35.108Z"
   },
   {
    "duration": 4,
    "start_time": "2022-12-28T13:19:38.688Z"
   },
   {
    "duration": 9,
    "start_time": "2022-12-28T13:19:41.818Z"
   },
   {
    "duration": 111,
    "start_time": "2022-12-28T13:20:30.318Z"
   },
   {
    "duration": 6,
    "start_time": "2022-12-28T13:20:46.058Z"
   },
   {
    "duration": 7,
    "start_time": "2022-12-28T13:21:13.638Z"
   },
   {
    "duration": 9,
    "start_time": "2022-12-28T13:21:21.068Z"
   },
   {
    "duration": 4,
    "start_time": "2022-12-28T13:35:13.522Z"
   },
   {
    "duration": 40,
    "start_time": "2022-12-28T13:35:14.064Z"
   },
   {
    "duration": 11,
    "start_time": "2022-12-28T13:35:15.525Z"
   },
   {
    "duration": 12,
    "start_time": "2022-12-28T13:35:16.764Z"
   },
   {
    "duration": 6,
    "start_time": "2022-12-28T13:35:18.002Z"
   },
   {
    "duration": 7,
    "start_time": "2022-12-28T13:35:25.066Z"
   },
   {
    "duration": 8,
    "start_time": "2022-12-28T13:35:32.474Z"
   },
   {
    "duration": 90,
    "start_time": "2022-12-28T13:36:31.053Z"
   },
   {
    "duration": 5,
    "start_time": "2022-12-28T13:36:37.444Z"
   },
   {
    "duration": 37,
    "start_time": "2022-12-28T13:39:53.061Z"
   },
   {
    "duration": 11,
    "start_time": "2022-12-28T13:39:53.631Z"
   },
   {
    "duration": 13,
    "start_time": "2022-12-28T13:39:54.070Z"
   },
   {
    "duration": 4,
    "start_time": "2022-12-28T13:39:54.875Z"
   },
   {
    "duration": 7,
    "start_time": "2022-12-28T13:40:00.512Z"
   },
   {
    "duration": 4,
    "start_time": "2022-12-28T13:40:04.130Z"
   },
   {
    "duration": 7,
    "start_time": "2022-12-28T13:40:13.215Z"
   },
   {
    "duration": 39,
    "start_time": "2022-12-28T13:41:24.765Z"
   },
   {
    "duration": 11,
    "start_time": "2022-12-28T13:41:25.516Z"
   },
   {
    "duration": 12,
    "start_time": "2022-12-28T13:41:26.511Z"
   },
   {
    "duration": 4,
    "start_time": "2022-12-28T13:41:26.851Z"
   },
   {
    "duration": 6,
    "start_time": "2022-12-28T13:41:28.581Z"
   },
   {
    "duration": 69,
    "start_time": "2022-12-28T13:41:33.130Z"
   },
   {
    "duration": 10,
    "start_time": "2022-12-28T13:42:07.170Z"
   },
   {
    "duration": 3,
    "start_time": "2022-12-28T13:47:33.624Z"
   },
   {
    "duration": 39,
    "start_time": "2022-12-28T13:47:34.048Z"
   },
   {
    "duration": 13,
    "start_time": "2022-12-28T13:47:35.044Z"
   },
   {
    "duration": 12,
    "start_time": "2022-12-28T13:47:36.107Z"
   },
   {
    "duration": 5,
    "start_time": "2022-12-28T13:47:36.519Z"
   },
   {
    "duration": 7,
    "start_time": "2022-12-28T13:47:37.734Z"
   },
   {
    "duration": 2,
    "start_time": "2022-12-28T13:47:44.610Z"
   },
   {
    "duration": 12,
    "start_time": "2022-12-28T13:47:46.379Z"
   },
   {
    "duration": 10,
    "start_time": "2022-12-28T13:48:36.059Z"
   },
   {
    "duration": 40,
    "start_time": "2022-12-28T13:54:29.449Z"
   },
   {
    "duration": 11,
    "start_time": "2022-12-28T13:54:30.144Z"
   },
   {
    "duration": 12,
    "start_time": "2022-12-28T13:54:31.034Z"
   },
   {
    "duration": 5,
    "start_time": "2022-12-28T13:54:31.292Z"
   },
   {
    "duration": 6,
    "start_time": "2022-12-28T13:54:33.095Z"
   },
   {
    "duration": 19,
    "start_time": "2022-12-28T13:54:38.169Z"
   },
   {
    "duration": 6,
    "start_time": "2022-12-28T13:54:43.998Z"
   },
   {
    "duration": 4,
    "start_time": "2022-12-28T13:57:24.308Z"
   },
   {
    "duration": 39,
    "start_time": "2022-12-28T13:57:27.843Z"
   },
   {
    "duration": 12,
    "start_time": "2022-12-28T13:57:28.913Z"
   },
   {
    "duration": 12,
    "start_time": "2022-12-28T13:57:33.918Z"
   },
   {
    "duration": 4,
    "start_time": "2022-12-28T13:57:34.218Z"
   },
   {
    "duration": 6,
    "start_time": "2022-12-28T13:57:35.948Z"
   },
   {
    "duration": 24,
    "start_time": "2022-12-28T13:58:12.714Z"
   },
   {
    "duration": 34,
    "start_time": "2022-12-28T14:00:24.959Z"
   },
   {
    "duration": 10,
    "start_time": "2022-12-28T14:06:50.833Z"
   },
   {
    "duration": 15,
    "start_time": "2022-12-28T14:07:33.973Z"
   },
   {
    "duration": 28,
    "start_time": "2022-12-28T14:10:44.494Z"
   },
   {
    "duration": 4,
    "start_time": "2022-12-28T14:21:41.679Z"
   },
   {
    "duration": 4,
    "start_time": "2022-12-28T14:23:10.202Z"
   },
   {
    "duration": 4,
    "start_time": "2022-12-28T14:27:40.007Z"
   },
   {
    "duration": 39,
    "start_time": "2022-12-28T14:27:41.052Z"
   },
   {
    "duration": 12,
    "start_time": "2022-12-28T14:27:42.312Z"
   },
   {
    "duration": 11,
    "start_time": "2022-12-28T14:27:43.496Z"
   },
   {
    "duration": 4,
    "start_time": "2022-12-28T14:27:44.031Z"
   },
   {
    "duration": 5,
    "start_time": "2022-12-28T14:27:45.295Z"
   },
   {
    "duration": 22,
    "start_time": "2022-12-28T14:27:47.551Z"
   },
   {
    "duration": 34,
    "start_time": "2022-12-28T14:27:49.932Z"
   },
   {
    "duration": 14,
    "start_time": "2022-12-28T14:27:59.095Z"
   },
   {
    "duration": 24,
    "start_time": "2022-12-28T14:28:02.832Z"
   },
   {
    "duration": 9,
    "start_time": "2022-12-28T14:29:00.651Z"
   },
   {
    "duration": 9,
    "start_time": "2022-12-28T14:29:12.691Z"
   },
   {
    "duration": 120,
    "start_time": "2022-12-28T14:29:23.091Z"
   },
   {
    "duration": 8,
    "start_time": "2022-12-28T14:30:43.595Z"
   },
   {
    "duration": 92,
    "start_time": "2022-12-28T14:31:15.207Z"
   },
   {
    "duration": 27687,
    "start_time": "2022-12-28T14:31:24.516Z"
   },
   {
    "duration": 10370,
    "start_time": "2022-12-28T14:32:58.787Z"
   },
   {
    "duration": 11370,
    "start_time": "2022-12-28T14:34:39.383Z"
   },
   {
    "duration": 468,
    "start_time": "2022-12-28T14:41:37.236Z"
   },
   {
    "duration": 103,
    "start_time": "2022-12-28T14:41:47.251Z"
   },
   {
    "duration": 381,
    "start_time": "2022-12-28T14:42:06.811Z"
   },
   {
    "duration": 513,
    "start_time": "2022-12-28T14:42:29.256Z"
   },
   {
    "duration": 17,
    "start_time": "2022-12-28T14:42:45.986Z"
   },
   {
    "duration": 19,
    "start_time": "2022-12-28T14:42:58.886Z"
   },
   {
    "duration": 8,
    "start_time": "2022-12-28T14:53:36.121Z"
   },
   {
    "duration": 36,
    "start_time": "2022-12-28T14:55:39.262Z"
   },
   {
    "duration": 12,
    "start_time": "2022-12-28T14:55:39.966Z"
   },
   {
    "duration": 12,
    "start_time": "2022-12-28T14:55:40.863Z"
   },
   {
    "duration": 4,
    "start_time": "2022-12-28T14:55:41.381Z"
   },
   {
    "duration": 9,
    "start_time": "2022-12-28T14:55:42.390Z"
   },
   {
    "duration": 29,
    "start_time": "2022-12-28T14:55:44.222Z"
   },
   {
    "duration": 32,
    "start_time": "2022-12-28T14:55:46.321Z"
   },
   {
    "duration": 14,
    "start_time": "2022-12-28T14:55:48.061Z"
   },
   {
    "duration": 24,
    "start_time": "2022-12-28T14:55:56.810Z"
   },
   {
    "duration": 8,
    "start_time": "2022-12-28T14:56:04.743Z"
   },
   {
    "duration": 9,
    "start_time": "2022-12-28T14:56:05.996Z"
   },
   {
    "duration": 11,
    "start_time": "2022-12-28T14:56:28.528Z"
   },
   {
    "duration": 10,
    "start_time": "2022-12-28T14:56:34.415Z"
   },
   {
    "duration": 10,
    "start_time": "2022-12-28T14:56:35.335Z"
   },
   {
    "duration": 5,
    "start_time": "2022-12-28T15:01:09.820Z"
   },
   {
    "duration": 39,
    "start_time": "2022-12-28T15:01:10.371Z"
   },
   {
    "duration": 18,
    "start_time": "2022-12-28T15:01:11.715Z"
   },
   {
    "duration": 12,
    "start_time": "2022-12-28T15:01:12.825Z"
   },
   {
    "duration": 4,
    "start_time": "2022-12-28T15:01:13.440Z"
   },
   {
    "duration": 6,
    "start_time": "2022-12-28T15:01:14.815Z"
   },
   {
    "duration": 22,
    "start_time": "2022-12-28T15:01:16.540Z"
   },
   {
    "duration": 33,
    "start_time": "2022-12-28T15:01:19.215Z"
   },
   {
    "duration": 13,
    "start_time": "2022-12-28T15:01:24.495Z"
   },
   {
    "duration": 24,
    "start_time": "2022-12-28T15:01:27.625Z"
   },
   {
    "duration": 8,
    "start_time": "2022-12-28T15:01:39.201Z"
   },
   {
    "duration": 11,
    "start_time": "2022-12-28T15:01:42.561Z"
   },
   {
    "duration": 24,
    "start_time": "2022-12-28T15:01:47.775Z"
   },
   {
    "duration": 10,
    "start_time": "2022-12-28T15:01:49.236Z"
   },
   {
    "duration": 101,
    "start_time": "2022-12-28T15:02:08.900Z"
   },
   {
    "duration": 7,
    "start_time": "2022-12-28T15:02:45.506Z"
   },
   {
    "duration": 20,
    "start_time": "2022-12-28T15:02:46.678Z"
   },
   {
    "duration": 85,
    "start_time": "2022-12-28T15:02:48.380Z"
   },
   {
    "duration": 21,
    "start_time": "2022-12-28T15:02:59.045Z"
   },
   {
    "duration": 11,
    "start_time": "2022-12-28T15:03:55.173Z"
   },
   {
    "duration": 12,
    "start_time": "2022-12-28T15:06:00.475Z"
   },
   {
    "duration": 3,
    "start_time": "2022-12-28T15:06:33.220Z"
   },
   {
    "duration": 38,
    "start_time": "2022-12-28T15:06:33.835Z"
   },
   {
    "duration": 12,
    "start_time": "2022-12-28T15:06:35.594Z"
   },
   {
    "duration": 13,
    "start_time": "2022-12-28T15:06:39.394Z"
   },
   {
    "duration": 4,
    "start_time": "2022-12-28T15:06:40.343Z"
   },
   {
    "duration": 7,
    "start_time": "2022-12-28T15:06:41.916Z"
   },
   {
    "duration": 23,
    "start_time": "2022-12-28T15:06:43.535Z"
   },
   {
    "duration": 33,
    "start_time": "2022-12-28T15:06:45.472Z"
   },
   {
    "duration": 14,
    "start_time": "2022-12-28T15:06:52.899Z"
   },
   {
    "duration": 27,
    "start_time": "2022-12-28T15:06:55.440Z"
   },
   {
    "duration": 8,
    "start_time": "2022-12-28T15:07:11.900Z"
   },
   {
    "duration": 24,
    "start_time": "2022-12-28T15:07:13.473Z"
   },
   {
    "duration": 12,
    "start_time": "2022-12-28T15:07:14.181Z"
   },
   {
    "duration": 12,
    "start_time": "2022-12-28T15:07:28.735Z"
   },
   {
    "duration": 11,
    "start_time": "2022-12-28T15:09:32.424Z"
   },
   {
    "duration": 14,
    "start_time": "2022-12-28T15:09:33.485Z"
   },
   {
    "duration": 7,
    "start_time": "2022-12-28T15:10:14.639Z"
   },
   {
    "duration": 10,
    "start_time": "2022-12-28T15:10:16.289Z"
   },
   {
    "duration": 8,
    "start_time": "2022-12-28T15:10:18.068Z"
   },
   {
    "duration": 9,
    "start_time": "2022-12-28T15:11:22.300Z"
   },
   {
    "duration": 10,
    "start_time": "2022-12-28T15:11:23.342Z"
   },
   {
    "duration": 14,
    "start_time": "2022-12-28T15:13:28.734Z"
   },
   {
    "duration": 13,
    "start_time": "2022-12-28T15:13:54.411Z"
   },
   {
    "duration": 9,
    "start_time": "2022-12-28T15:17:22.774Z"
   },
   {
    "duration": 10,
    "start_time": "2022-12-28T15:17:25.995Z"
   },
   {
    "duration": 14,
    "start_time": "2022-12-28T15:17:47.599Z"
   },
   {
    "duration": 87,
    "start_time": "2022-12-28T15:18:30.815Z"
   },
   {
    "duration": 27911,
    "start_time": "2022-12-28T15:18:37.930Z"
   },
   {
    "duration": 12681,
    "start_time": "2022-12-28T15:19:37.832Z"
   },
   {
    "duration": 12678,
    "start_time": "2022-12-28T15:20:24.575Z"
   },
   {
    "duration": 639,
    "start_time": "2022-12-28T15:21:46.117Z"
   },
   {
    "duration": 101,
    "start_time": "2022-12-28T15:21:50.153Z"
   },
   {
    "duration": 345,
    "start_time": "2022-12-28T15:21:57.853Z"
   },
   {
    "duration": 638,
    "start_time": "2022-12-28T15:22:12.825Z"
   },
   {
    "duration": 96,
    "start_time": "2022-12-28T15:22:14.757Z"
   },
   {
    "duration": 10,
    "start_time": "2022-12-28T15:22:24.158Z"
   },
   {
    "duration": 19,
    "start_time": "2022-12-28T15:22:24.886Z"
   },
   {
    "duration": 1457,
    "start_time": "2022-12-28T18:35:26.765Z"
   },
   {
    "duration": 80,
    "start_time": "2022-12-28T18:35:28.224Z"
   },
   {
    "duration": 13,
    "start_time": "2022-12-28T18:35:28.720Z"
   },
   {
    "duration": 16,
    "start_time": "2022-12-28T18:35:31.289Z"
   },
   {
    "duration": 4,
    "start_time": "2022-12-28T18:35:31.776Z"
   },
   {
    "duration": 6,
    "start_time": "2022-12-28T18:35:35.597Z"
   },
   {
    "duration": 22,
    "start_time": "2022-12-28T18:35:37.020Z"
   },
   {
    "duration": 32,
    "start_time": "2022-12-28T18:35:39.935Z"
   },
   {
    "duration": 15,
    "start_time": "2022-12-28T18:37:19.497Z"
   },
   {
    "duration": 118,
    "start_time": "2022-12-28T18:37:23.014Z"
   },
   {
    "duration": 23,
    "start_time": "2022-12-28T18:37:30.656Z"
   },
   {
    "duration": 14,
    "start_time": "2022-12-28T18:51:02.081Z"
   },
   {
    "duration": 16,
    "start_time": "2022-12-28T18:51:10.617Z"
   },
   {
    "duration": 15,
    "start_time": "2022-12-28T18:52:58.620Z"
   },
   {
    "duration": 14,
    "start_time": "2022-12-28T18:53:31.768Z"
   },
   {
    "duration": 14,
    "start_time": "2022-12-28T18:53:32.545Z"
   },
   {
    "duration": 28,
    "start_time": "2022-12-28T18:53:48.930Z"
   },
   {
    "duration": 114,
    "start_time": "2022-12-28T18:55:24.914Z"
   },
   {
    "duration": 1941,
    "start_time": "2022-12-28T18:55:37.045Z"
   },
   {
    "duration": 4,
    "start_time": "2022-12-28T18:56:00.272Z"
   },
   {
    "duration": 40,
    "start_time": "2022-12-28T18:56:01.187Z"
   },
   {
    "duration": 12,
    "start_time": "2022-12-28T18:56:02.806Z"
   },
   {
    "duration": 12,
    "start_time": "2022-12-28T18:56:04.463Z"
   },
   {
    "duration": 4,
    "start_time": "2022-12-28T18:56:05.364Z"
   },
   {
    "duration": 7,
    "start_time": "2022-12-28T18:56:07.078Z"
   },
   {
    "duration": 23,
    "start_time": "2022-12-28T18:56:08.421Z"
   },
   {
    "duration": 35,
    "start_time": "2022-12-28T18:56:10.187Z"
   },
   {
    "duration": 14,
    "start_time": "2022-12-28T18:56:20.963Z"
   },
   {
    "duration": 27,
    "start_time": "2022-12-28T18:56:25.753Z"
   },
   {
    "duration": 8,
    "start_time": "2022-12-28T18:56:50.911Z"
   },
   {
    "duration": 22,
    "start_time": "2022-12-28T18:56:57.580Z"
   },
   {
    "duration": 90,
    "start_time": "2022-12-28T18:57:01.146Z"
   },
   {
    "duration": 28314,
    "start_time": "2022-12-28T18:57:25.515Z"
   },
   {
    "duration": 20429,
    "start_time": "2022-12-28T18:58:28.947Z"
   },
   {
    "duration": 19815,
    "start_time": "2022-12-28T18:59:43.006Z"
   },
   {
    "duration": 1089,
    "start_time": "2022-12-28T19:00:53.177Z"
   },
   {
    "duration": 24,
    "start_time": "2022-12-28T19:00:55.299Z"
   },
   {
    "duration": 431,
    "start_time": "2022-12-28T19:01:02.535Z"
   },
   {
    "duration": 1034,
    "start_time": "2022-12-28T19:01:28.458Z"
   },
   {
    "duration": 78,
    "start_time": "2022-12-28T19:01:30.743Z"
   },
   {
    "duration": 10,
    "start_time": "2022-12-28T19:01:38.727Z"
   },
   {
    "duration": 15,
    "start_time": "2022-12-28T19:01:52.614Z"
   },
   {
    "duration": 617,
    "start_time": "2022-12-28T19:02:05.969Z"
   },
   {
    "duration": 98,
    "start_time": "2022-12-28T19:02:07.616Z"
   },
   {
    "duration": 14,
    "start_time": "2022-12-28T19:02:14.302Z"
   },
   {
    "duration": 1519,
    "start_time": "2022-12-28T19:02:38.012Z"
   },
   {
    "duration": 46,
    "start_time": "2022-12-28T19:02:39.771Z"
   },
   {
    "duration": 445,
    "start_time": "2022-12-28T19:02:56.716Z"
   },
   {
    "duration": 40500,
    "start_time": "2022-12-28T19:03:22.691Z"
   },
   {
    "duration": 50323,
    "start_time": "2022-12-28T19:05:34.786Z"
   },
   {
    "duration": 49428,
    "start_time": "2022-12-28T19:08:02.951Z"
   },
   {
    "duration": 30793,
    "start_time": "2022-12-28T19:10:00.908Z"
   },
   {
    "duration": 16237,
    "start_time": "2022-12-28T19:11:39.081Z"
   },
   {
    "duration": 2518,
    "start_time": "2022-12-28T19:12:19.021Z"
   },
   {
    "duration": 147,
    "start_time": "2022-12-28T19:12:49.674Z"
   },
   {
    "duration": 505,
    "start_time": "2022-12-28T19:12:56.361Z"
   },
   {
    "duration": 4,
    "start_time": "2022-12-28T19:19:31.987Z"
   },
   {
    "duration": 49,
    "start_time": "2022-12-28T19:19:33.825Z"
   },
   {
    "duration": 16,
    "start_time": "2022-12-28T19:19:35.354Z"
   },
   {
    "duration": 18,
    "start_time": "2022-12-28T19:19:38.488Z"
   },
   {
    "duration": 5,
    "start_time": "2022-12-28T19:19:41.385Z"
   },
   {
    "duration": 7,
    "start_time": "2022-12-28T19:19:47.301Z"
   },
   {
    "duration": 29,
    "start_time": "2022-12-28T19:19:51.049Z"
   },
   {
    "duration": 36,
    "start_time": "2022-12-28T19:19:55.177Z"
   },
   {
    "duration": 14,
    "start_time": "2022-12-28T19:20:15.436Z"
   },
   {
    "duration": 27,
    "start_time": "2022-12-28T19:20:21.919Z"
   },
   {
    "duration": 8,
    "start_time": "2022-12-28T19:21:23.011Z"
   },
   {
    "duration": 26,
    "start_time": "2022-12-28T19:21:24.272Z"
   },
   {
    "duration": 199,
    "start_time": "2022-12-28T19:21:26.379Z"
   },
   {
    "duration": 30088,
    "start_time": "2022-12-28T19:22:04.315Z"
   },
   {
    "duration": 21920,
    "start_time": "2022-12-28T19:22:34.404Z"
   },
   {
    "duration": 29530,
    "start_time": "2022-12-28T19:23:19.125Z"
   },
   {
    "duration": 4,
    "start_time": "2022-12-28T19:24:35.883Z"
   },
   {
    "duration": 45,
    "start_time": "2022-12-28T19:24:36.649Z"
   },
   {
    "duration": 12,
    "start_time": "2022-12-28T19:24:37.776Z"
   },
   {
    "duration": 11,
    "start_time": "2022-12-28T19:24:39.154Z"
   },
   {
    "duration": 4,
    "start_time": "2022-12-28T19:24:39.838Z"
   },
   {
    "duration": 6,
    "start_time": "2022-12-28T19:24:41.260Z"
   },
   {
    "duration": 23,
    "start_time": "2022-12-28T19:24:42.608Z"
   },
   {
    "duration": 33,
    "start_time": "2022-12-28T19:24:44.019Z"
   },
   {
    "duration": 14,
    "start_time": "2022-12-28T19:24:45.902Z"
   },
   {
    "duration": 24,
    "start_time": "2022-12-28T19:24:48.073Z"
   },
   {
    "duration": 12,
    "start_time": "2022-12-28T19:24:54.329Z"
   },
   {
    "duration": 23,
    "start_time": "2022-12-28T19:24:56.108Z"
   },
   {
    "duration": 86,
    "start_time": "2022-12-28T19:24:58.676Z"
   },
   {
    "duration": 29450,
    "start_time": "2022-12-28T19:25:04.297Z"
   },
   {
    "duration": 4,
    "start_time": "2022-12-28T19:26:47.818Z"
   },
   {
    "duration": 39,
    "start_time": "2022-12-28T19:26:48.420Z"
   },
   {
    "duration": 12,
    "start_time": "2022-12-28T19:26:49.495Z"
   },
   {
    "duration": 12,
    "start_time": "2022-12-28T19:26:50.732Z"
   },
   {
    "duration": 4,
    "start_time": "2022-12-28T19:26:51.384Z"
   },
   {
    "duration": 6,
    "start_time": "2022-12-28T19:26:52.881Z"
   },
   {
    "duration": 31,
    "start_time": "2022-12-28T19:26:54.169Z"
   },
   {
    "duration": 31,
    "start_time": "2022-12-28T19:26:56.004Z"
   },
   {
    "duration": 14,
    "start_time": "2022-12-28T19:26:58.488Z"
   },
   {
    "duration": 25,
    "start_time": "2022-12-28T19:26:59.005Z"
   },
   {
    "duration": 8,
    "start_time": "2022-12-28T19:27:22.138Z"
   },
   {
    "duration": 23,
    "start_time": "2022-12-28T19:27:23.904Z"
   },
   {
    "duration": 85,
    "start_time": "2022-12-28T19:27:25.791Z"
   },
   {
    "duration": 28188,
    "start_time": "2022-12-28T19:27:28.788Z"
   },
   {
    "duration": 8122,
    "start_time": "2022-12-28T19:28:25.945Z"
   },
   {
    "duration": 22873,
    "start_time": "2022-12-28T19:29:32.847Z"
   },
   {
    "duration": 9110,
    "start_time": "2022-12-28T19:30:41.811Z"
   },
   {
    "duration": 418,
    "start_time": "2022-12-28T19:32:26.696Z"
   },
   {
    "duration": 64,
    "start_time": "2022-12-28T19:32:28.153Z"
   },
   {
    "duration": 393,
    "start_time": "2022-12-28T19:32:32.577Z"
   },
   {
    "duration": 417,
    "start_time": "2022-12-28T19:32:48.036Z"
   },
   {
    "duration": 108,
    "start_time": "2022-12-28T19:32:49.507Z"
   },
   {
    "duration": 12,
    "start_time": "2022-12-28T19:32:57.452Z"
   },
   {
    "duration": 272,
    "start_time": "2022-12-28T19:33:06.401Z"
   },
   {
    "duration": 47,
    "start_time": "2022-12-28T19:33:07.780Z"
   },
   {
    "duration": 12,
    "start_time": "2022-12-28T19:33:14.489Z"
   },
   {
    "duration": 556,
    "start_time": "2022-12-28T19:33:53.152Z"
   },
   {
    "duration": 35,
    "start_time": "2022-12-28T19:33:54.479Z"
   },
   {
    "duration": 373,
    "start_time": "2022-12-28T19:34:12.583Z"
   },
   {
    "duration": 39792,
    "start_time": "2022-12-28T19:34:45.160Z"
   },
   {
    "duration": 21508,
    "start_time": "2022-12-28T19:35:45.089Z"
   },
   {
    "duration": 12576,
    "start_time": "2022-12-28T19:36:43.416Z"
   },
   {
    "duration": 6361,
    "start_time": "2022-12-28T19:37:50.845Z"
   },
   {
    "duration": 997,
    "start_time": "2022-12-28T19:39:17.204Z"
   },
   {
    "duration": 66,
    "start_time": "2022-12-28T19:39:41.517Z"
   },
   {
    "duration": 286,
    "start_time": "2022-12-28T19:39:55.740Z"
   },
   {
    "duration": 401,
    "start_time": "2022-12-28T19:55:31.411Z"
   }
  ],
  "kernelspec": {
   "display_name": "Python 3 (ipykernel)",
   "language": "python",
   "name": "python3"
  },
  "language_info": {
   "codemirror_mode": {
    "name": "ipython",
    "version": 3
   },
   "file_extension": ".py",
   "mimetype": "text/x-python",
   "name": "python",
   "nbconvert_exporter": "python",
   "pygments_lexer": "ipython3",
   "version": "3.9.13"
  },
  "toc": {
   "base_numbering": 1,
   "nav_menu": {},
   "number_sections": true,
   "sideBar": true,
   "skip_h1_title": true,
   "title_cell": "Содержание",
   "title_sidebar": "Contents",
   "toc_cell": true,
   "toc_position": {
    "height": "calc(100% - 180px)",
    "left": "10px",
    "top": "150px",
    "width": "165px"
   },
   "toc_section_display": true,
   "toc_window_display": true
  }
 },
 "nbformat": 4,
 "nbformat_minor": 2
}
