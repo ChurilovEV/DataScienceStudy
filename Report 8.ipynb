{
 "cells": [
  {
   "cell_type": "markdown",
   "metadata": {},
   "source": [
    "# Выбор локации для скважины"
   ]
  },
  {
   "cell_type": "markdown",
   "metadata": {},
   "source": [
    "<a id=0></a>\n",
    "[Содержание](#0)\n",
    "\n",
    "[1. Описание проекта](#1)\n",
    "\n",
    "[2. Анализ данных](#2)\n",
    "\n",
    "[3. Подготовка данных](#3)\n",
    "\n",
    "[4. Обучение и проверка модели](#4)\n",
    "\n",
    "[5. Подготовка к расчёту прибыли](#5)\n",
    "\n",
    "[6. Расчёт прибыли и рисков](#6)\n",
    "\n",
    "[7. Общий вывод](#7)"
   ]
  },
  {
   "cell_type": "markdown",
   "metadata": {},
   "source": [
    "<a id=1></a>\n",
    "## 1. Описание проекта\n",
    "\n",
    "Допустим, вы работаете в добывающей компании «ГлавРосГосНефть». Нужно решить, где бурить новую скважину.\n",
    "\n",
    "Шаги для выбора локации:\n",
    "\n",
    "- В избранном регионе ищут месторождения, для каждого определяют значения признаков;\n",
    "- Строят модель и оценивают объём запасов;\n",
    "- Выбирают месторождения с самым высокими оценками значений. Количество месторождений зависит от бюджета компании и стоимости разработки одной скважины;\n",
    "- Прибыль равна суммарной прибыли отобранных месторождений.\n",
    "\n",
    "Вам предоставлены пробы нефти в трёх регионах: в каждом 10 000 месторождений, где измерили качество нефти и объём её запасов. \n",
    "\n",
    "**Цель проекта:**\n",
    "\n",
    "Построить модель машинного обучения, которая поможет определить регион, где добыча принесёт наибольшую прибыль. Проанализировать возможную прибыль и риски техникой *Bootstrap.*\n",
    "\n",
    "**Данные:**\n",
    "\n",
    "Данные геологоразведки трёх регионов находятся в файлах:\n",
    "- [geo_data_0.csv](https://code.s3.yandex.net/datasets/geo_data_0.csv)\n",
    "- [geo_data_1.csv](https://code.s3.yandex.net/datasets/geo_data_1.csv)\n",
    "- [geo_data_2.csv](https://code.s3.yandex.net/datasets/geo_data_2.csv)\n",
    "\n",
    "`id` — уникальный идентификатор месторождения;\n",
    "\n",
    "`f0`, `f1`, `f2` — три признака точек (неважно, что они означают, но сами признаки значимы);\n",
    "\n",
    "`product` — объём запасов в месторождении (тыс. баррелей).\n",
    "\n",
    "**Условия задачи:**\n",
    "\n",
    "- Для обучения модели подходит только линейная регрессия (остальные — недостаточно предсказуемые).\n",
    "- При разведке региона исследуют 500 точек, из которых с помощью машинного обучения выбирают 200 лучших для разработки.\n",
    "- Бюджет на разработку месторождений — 10 млрд рублей, стоимость бурения одной скважины — 50 млн рублей.\n",
    "- При нынешних ценах один баррель сырья приносит 450 рублей дохода. Доход с каждой единицы продукта составляет 450 тыс. рублей, поскольку объём указан в тысячах баррелей.\n",
    "- После оценки рисков нужно оставить лишь те регионы, в которых вероятность убытков меньше 2.5%. Среди них выбирают регион с наибольшей средней прибылью.\n",
    "\n",
    "**План работы:**\n",
    "\n",
    "1. Изучить данные и подготовить их к моделированию.\n",
    "\n",
    "2. Обучить модель для каждого региона.\n",
    "\n",
    "3. Составить функцию расчета прибыли в регионе.\n",
    "\n",
    "4. Посчитать прибыль и риски за каждый регион и обосновать выбор региона.\n",
    "\n",
    "5. Сделать выводы, оформить проект."
   ]
  },
  {
   "cell_type": "markdown",
   "metadata": {},
   "source": [
    "<a id=2></a>\n",
    "[Содержание](#0)\n",
    "## 2. Анализ данных"
   ]
  },
  {
   "cell_type": "code",
   "execution_count": 2,
   "metadata": {},
   "outputs": [],
   "source": [
    "import matplotlib.pyplot as plt\n",
    "import numpy as np\n",
    "import pandas as pd\n",
    "from sklearn.model_selection import train_test_split\n",
    "from sklearn.linear_model import LinearRegression\n",
    "from sklearn.metrics import mean_squared_error\n",
    "from sklearn.preprocessing import StandardScaler\n",
    "from sklearn.utils import shuffle\n",
    "import warnings\n",
    "warnings.filterwarnings('ignore')\n",
    "\n",
    "RND_STATE = 12012022"
   ]
  },
  {
   "cell_type": "markdown",
   "metadata": {},
   "source": [
    "Загрузим каждый регион в отдельный датафрейм"
   ]
  },
  {
   "cell_type": "code",
   "execution_count": 3,
   "metadata": {},
   "outputs": [
    {
     "name": "stdout",
     "output_type": "stream",
     "text": [
      "<class 'pandas.core.frame.DataFrame'>\n",
      "RangeIndex: 100000 entries, 0 to 99999\n",
      "Data columns (total 5 columns):\n",
      " #   Column   Non-Null Count   Dtype  \n",
      "---  ------   --------------   -----  \n",
      " 0   id       100000 non-null  object \n",
      " 1   f0       100000 non-null  float64\n",
      " 2   f1       100000 non-null  float64\n",
      " 3   f2       100000 non-null  float64\n",
      " 4   product  100000 non-null  float64\n",
      "dtypes: float64(4), object(1)\n",
      "memory usage: 3.8+ MB\n"
     ]
    }
   ],
   "source": [
    "try:\n",
    "    df_0 = pd.read_csv('/datasets/geo_data_0.csv')\n",
    "except:\n",
    "    df_0 = pd.read_csv('https://code.s3.yandex.net/datasets/geo_data_0.csv')\n",
    "\n",
    "df_0.info()"
   ]
  },
  {
   "cell_type": "code",
   "execution_count": 4,
   "metadata": {},
   "outputs": [
    {
     "name": "stdout",
     "output_type": "stream",
     "text": [
      "<class 'pandas.core.frame.DataFrame'>\n",
      "RangeIndex: 100000 entries, 0 to 99999\n",
      "Data columns (total 5 columns):\n",
      " #   Column   Non-Null Count   Dtype  \n",
      "---  ------   --------------   -----  \n",
      " 0   id       100000 non-null  object \n",
      " 1   f0       100000 non-null  float64\n",
      " 2   f1       100000 non-null  float64\n",
      " 3   f2       100000 non-null  float64\n",
      " 4   product  100000 non-null  float64\n",
      "dtypes: float64(4), object(1)\n",
      "memory usage: 3.8+ MB\n"
     ]
    }
   ],
   "source": [
    "try:\n",
    "    df_1 = pd.read_csv('/datasets/geo_data_1.csv')\n",
    "except:\n",
    "    df_1 = pd.read_csv('https://code.s3.yandex.net/datasets/geo_data_1.csv')\n",
    "\n",
    "df_1.info()"
   ]
  },
  {
   "cell_type": "code",
   "execution_count": 5,
   "metadata": {},
   "outputs": [
    {
     "name": "stdout",
     "output_type": "stream",
     "text": [
      "<class 'pandas.core.frame.DataFrame'>\n",
      "RangeIndex: 100000 entries, 0 to 99999\n",
      "Data columns (total 5 columns):\n",
      " #   Column   Non-Null Count   Dtype  \n",
      "---  ------   --------------   -----  \n",
      " 0   id       100000 non-null  object \n",
      " 1   f0       100000 non-null  float64\n",
      " 2   f1       100000 non-null  float64\n",
      " 3   f2       100000 non-null  float64\n",
      " 4   product  100000 non-null  float64\n",
      "dtypes: float64(4), object(1)\n",
      "memory usage: 3.8+ MB\n"
     ]
    }
   ],
   "source": [
    "try:\n",
    "    df_2 = pd.read_csv('/datasets/geo_data_2.csv')\n",
    "except:\n",
    "    df_2 = pd.read_csv('https://code.s3.yandex.net/datasets/geo_data_2.csv')\n",
    "\n",
    "df_2.info()"
   ]
  },
  {
   "cell_type": "markdown",
   "metadata": {},
   "source": [
    "**Вывод:**\n",
    "    \n",
    "В данных отсутсвуют пропуски."
   ]
  },
  {
   "cell_type": "markdown",
   "metadata": {},
   "source": [
    "<a id=3></a>\n",
    "[Содержание](#0)\n",
    "## 3. Подготовка данных\n",
    "\n",
    "Удалим из каждого датафрейма столбец id. Он не несет значимости для для модели."
   ]
  },
  {
   "cell_type": "code",
   "execution_count": 6,
   "metadata": {},
   "outputs": [],
   "source": [
    "df_0 = df_0.drop(['id'], axis = 1)\n",
    "df_1 = df_1.drop(['id'], axis = 1)\n",
    "df_2 = df_2.drop(['id'], axis = 1)"
   ]
  },
  {
   "cell_type": "markdown",
   "metadata": {},
   "source": [
    "Посмотрим граничные значения по столбцам"
   ]
  },
  {
   "cell_type": "code",
   "execution_count": 7,
   "metadata": {},
   "outputs": [
    {
     "data": {
      "text/html": [
       "<div>\n",
       "<style scoped>\n",
       "    .dataframe tbody tr th:only-of-type {\n",
       "        vertical-align: middle;\n",
       "    }\n",
       "\n",
       "    .dataframe tbody tr th {\n",
       "        vertical-align: top;\n",
       "    }\n",
       "\n",
       "    .dataframe thead th {\n",
       "        text-align: right;\n",
       "    }\n",
       "</style>\n",
       "<table border=\"1\" class=\"dataframe\">\n",
       "  <thead>\n",
       "    <tr style=\"text-align: right;\">\n",
       "      <th></th>\n",
       "      <th>f0</th>\n",
       "      <th>f1</th>\n",
       "      <th>f2</th>\n",
       "      <th>product</th>\n",
       "    </tr>\n",
       "  </thead>\n",
       "  <tbody>\n",
       "    <tr>\n",
       "      <th>count</th>\n",
       "      <td>100000.000000</td>\n",
       "      <td>100000.000000</td>\n",
       "      <td>100000.000000</td>\n",
       "      <td>100000.000000</td>\n",
       "    </tr>\n",
       "    <tr>\n",
       "      <th>mean</th>\n",
       "      <td>0.500419</td>\n",
       "      <td>0.250143</td>\n",
       "      <td>2.502647</td>\n",
       "      <td>92.500000</td>\n",
       "    </tr>\n",
       "    <tr>\n",
       "      <th>std</th>\n",
       "      <td>0.871832</td>\n",
       "      <td>0.504433</td>\n",
       "      <td>3.248248</td>\n",
       "      <td>44.288691</td>\n",
       "    </tr>\n",
       "    <tr>\n",
       "      <th>min</th>\n",
       "      <td>-1.408605</td>\n",
       "      <td>-0.848218</td>\n",
       "      <td>-12.088328</td>\n",
       "      <td>0.000000</td>\n",
       "    </tr>\n",
       "    <tr>\n",
       "      <th>25%</th>\n",
       "      <td>-0.072580</td>\n",
       "      <td>-0.200881</td>\n",
       "      <td>0.287748</td>\n",
       "      <td>56.497507</td>\n",
       "    </tr>\n",
       "    <tr>\n",
       "      <th>50%</th>\n",
       "      <td>0.502360</td>\n",
       "      <td>0.250252</td>\n",
       "      <td>2.515969</td>\n",
       "      <td>91.849972</td>\n",
       "    </tr>\n",
       "    <tr>\n",
       "      <th>75%</th>\n",
       "      <td>1.073581</td>\n",
       "      <td>0.700646</td>\n",
       "      <td>4.715088</td>\n",
       "      <td>128.564089</td>\n",
       "    </tr>\n",
       "    <tr>\n",
       "      <th>max</th>\n",
       "      <td>2.362331</td>\n",
       "      <td>1.343769</td>\n",
       "      <td>16.003790</td>\n",
       "      <td>185.364347</td>\n",
       "    </tr>\n",
       "  </tbody>\n",
       "</table>\n",
       "</div>"
      ],
      "text/plain": [
       "                  f0             f1             f2        product\n",
       "count  100000.000000  100000.000000  100000.000000  100000.000000\n",
       "mean        0.500419       0.250143       2.502647      92.500000\n",
       "std         0.871832       0.504433       3.248248      44.288691\n",
       "min        -1.408605      -0.848218     -12.088328       0.000000\n",
       "25%        -0.072580      -0.200881       0.287748      56.497507\n",
       "50%         0.502360       0.250252       2.515969      91.849972\n",
       "75%         1.073581       0.700646       4.715088     128.564089\n",
       "max         2.362331       1.343769      16.003790     185.364347"
      ]
     },
     "execution_count": 7,
     "metadata": {},
     "output_type": "execute_result"
    }
   ],
   "source": [
    "df_0.describe()"
   ]
  },
  {
   "cell_type": "code",
   "execution_count": 8,
   "metadata": {},
   "outputs": [
    {
     "data": {
      "text/html": [
       "<div>\n",
       "<style scoped>\n",
       "    .dataframe tbody tr th:only-of-type {\n",
       "        vertical-align: middle;\n",
       "    }\n",
       "\n",
       "    .dataframe tbody tr th {\n",
       "        vertical-align: top;\n",
       "    }\n",
       "\n",
       "    .dataframe thead th {\n",
       "        text-align: right;\n",
       "    }\n",
       "</style>\n",
       "<table border=\"1\" class=\"dataframe\">\n",
       "  <thead>\n",
       "    <tr style=\"text-align: right;\">\n",
       "      <th></th>\n",
       "      <th>f0</th>\n",
       "      <th>f1</th>\n",
       "      <th>f2</th>\n",
       "      <th>product</th>\n",
       "    </tr>\n",
       "  </thead>\n",
       "  <tbody>\n",
       "    <tr>\n",
       "      <th>count</th>\n",
       "      <td>100000.000000</td>\n",
       "      <td>100000.000000</td>\n",
       "      <td>100000.000000</td>\n",
       "      <td>100000.000000</td>\n",
       "    </tr>\n",
       "    <tr>\n",
       "      <th>mean</th>\n",
       "      <td>1.141296</td>\n",
       "      <td>-4.796579</td>\n",
       "      <td>2.494541</td>\n",
       "      <td>68.825000</td>\n",
       "    </tr>\n",
       "    <tr>\n",
       "      <th>std</th>\n",
       "      <td>8.965932</td>\n",
       "      <td>5.119872</td>\n",
       "      <td>1.703572</td>\n",
       "      <td>45.944423</td>\n",
       "    </tr>\n",
       "    <tr>\n",
       "      <th>min</th>\n",
       "      <td>-31.609576</td>\n",
       "      <td>-26.358598</td>\n",
       "      <td>-0.018144</td>\n",
       "      <td>0.000000</td>\n",
       "    </tr>\n",
       "    <tr>\n",
       "      <th>25%</th>\n",
       "      <td>-6.298551</td>\n",
       "      <td>-8.267985</td>\n",
       "      <td>1.000021</td>\n",
       "      <td>26.953261</td>\n",
       "    </tr>\n",
       "    <tr>\n",
       "      <th>50%</th>\n",
       "      <td>1.153055</td>\n",
       "      <td>-4.813172</td>\n",
       "      <td>2.011479</td>\n",
       "      <td>57.085625</td>\n",
       "    </tr>\n",
       "    <tr>\n",
       "      <th>75%</th>\n",
       "      <td>8.621015</td>\n",
       "      <td>-1.332816</td>\n",
       "      <td>3.999904</td>\n",
       "      <td>107.813044</td>\n",
       "    </tr>\n",
       "    <tr>\n",
       "      <th>max</th>\n",
       "      <td>29.421755</td>\n",
       "      <td>18.734063</td>\n",
       "      <td>5.019721</td>\n",
       "      <td>137.945408</td>\n",
       "    </tr>\n",
       "  </tbody>\n",
       "</table>\n",
       "</div>"
      ],
      "text/plain": [
       "                  f0             f1             f2        product\n",
       "count  100000.000000  100000.000000  100000.000000  100000.000000\n",
       "mean        1.141296      -4.796579       2.494541      68.825000\n",
       "std         8.965932       5.119872       1.703572      45.944423\n",
       "min       -31.609576     -26.358598      -0.018144       0.000000\n",
       "25%        -6.298551      -8.267985       1.000021      26.953261\n",
       "50%         1.153055      -4.813172       2.011479      57.085625\n",
       "75%         8.621015      -1.332816       3.999904     107.813044\n",
       "max        29.421755      18.734063       5.019721     137.945408"
      ]
     },
     "execution_count": 8,
     "metadata": {},
     "output_type": "execute_result"
    }
   ],
   "source": [
    "df_1.describe()"
   ]
  },
  {
   "cell_type": "code",
   "execution_count": 9,
   "metadata": {},
   "outputs": [
    {
     "data": {
      "text/html": [
       "<div>\n",
       "<style scoped>\n",
       "    .dataframe tbody tr th:only-of-type {\n",
       "        vertical-align: middle;\n",
       "    }\n",
       "\n",
       "    .dataframe tbody tr th {\n",
       "        vertical-align: top;\n",
       "    }\n",
       "\n",
       "    .dataframe thead th {\n",
       "        text-align: right;\n",
       "    }\n",
       "</style>\n",
       "<table border=\"1\" class=\"dataframe\">\n",
       "  <thead>\n",
       "    <tr style=\"text-align: right;\">\n",
       "      <th></th>\n",
       "      <th>f0</th>\n",
       "      <th>f1</th>\n",
       "      <th>f2</th>\n",
       "      <th>product</th>\n",
       "    </tr>\n",
       "  </thead>\n",
       "  <tbody>\n",
       "    <tr>\n",
       "      <th>count</th>\n",
       "      <td>100000.000000</td>\n",
       "      <td>100000.000000</td>\n",
       "      <td>100000.000000</td>\n",
       "      <td>100000.000000</td>\n",
       "    </tr>\n",
       "    <tr>\n",
       "      <th>mean</th>\n",
       "      <td>0.002023</td>\n",
       "      <td>-0.002081</td>\n",
       "      <td>2.495128</td>\n",
       "      <td>95.000000</td>\n",
       "    </tr>\n",
       "    <tr>\n",
       "      <th>std</th>\n",
       "      <td>1.732045</td>\n",
       "      <td>1.730417</td>\n",
       "      <td>3.473445</td>\n",
       "      <td>44.749921</td>\n",
       "    </tr>\n",
       "    <tr>\n",
       "      <th>min</th>\n",
       "      <td>-8.760004</td>\n",
       "      <td>-7.084020</td>\n",
       "      <td>-11.970335</td>\n",
       "      <td>0.000000</td>\n",
       "    </tr>\n",
       "    <tr>\n",
       "      <th>25%</th>\n",
       "      <td>-1.162288</td>\n",
       "      <td>-1.174820</td>\n",
       "      <td>0.130359</td>\n",
       "      <td>59.450441</td>\n",
       "    </tr>\n",
       "    <tr>\n",
       "      <th>50%</th>\n",
       "      <td>0.009424</td>\n",
       "      <td>-0.009482</td>\n",
       "      <td>2.484236</td>\n",
       "      <td>94.925613</td>\n",
       "    </tr>\n",
       "    <tr>\n",
       "      <th>75%</th>\n",
       "      <td>1.158535</td>\n",
       "      <td>1.163678</td>\n",
       "      <td>4.858794</td>\n",
       "      <td>130.595027</td>\n",
       "    </tr>\n",
       "    <tr>\n",
       "      <th>max</th>\n",
       "      <td>7.238262</td>\n",
       "      <td>7.844801</td>\n",
       "      <td>16.739402</td>\n",
       "      <td>190.029838</td>\n",
       "    </tr>\n",
       "  </tbody>\n",
       "</table>\n",
       "</div>"
      ],
      "text/plain": [
       "                  f0             f1             f2        product\n",
       "count  100000.000000  100000.000000  100000.000000  100000.000000\n",
       "mean        0.002023      -0.002081       2.495128      95.000000\n",
       "std         1.732045       1.730417       3.473445      44.749921\n",
       "min        -8.760004      -7.084020     -11.970335       0.000000\n",
       "25%        -1.162288      -1.174820       0.130359      59.450441\n",
       "50%         0.009424      -0.009482       2.484236      94.925613\n",
       "75%         1.158535       1.163678       4.858794     130.595027\n",
       "max         7.238262       7.844801      16.739402     190.029838"
      ]
     },
     "execution_count": 9,
     "metadata": {},
     "output_type": "execute_result"
    }
   ],
   "source": [
    "df_2.describe()"
   ]
  },
  {
   "cell_type": "markdown",
   "metadata": {},
   "source": [
    "**Вывод:**\n",
    "    \n",
    "В 0 и 2 регионе средние значение объема в месторождении примерно одинаковые, значения mean и median одинаковые - 95.\n",
    "\n",
    "В 1 регионе средние запасы нефти в месторождениях ниже, значения mean - 69, median - 57.\n",
    "\n",
    "Посмотрим кол-во нулевых значений в `product` — объём запасов в месторождении."
   ]
  },
  {
   "cell_type": "code",
   "execution_count": 10,
   "metadata": {},
   "outputs": [
    {
     "name": "stdout",
     "output_type": "stream",
     "text": [
      "Количество нулевых значений df_0[product] - 1\n",
      "Количество нулевых значений df_1[product] - 8235\n",
      "Количество нулевых значений df_2[product] - 1\n"
     ]
    }
   ],
   "source": [
    "print('Количество нулевых значений df_0[''product''] -', df_0[df_0['product'] == 0]['product'].count())\n",
    "print('Количество нулевых значений df_1[''product''] -', df_1[df_1['product'] == 0]['product'].count())\n",
    "print('Количество нулевых значений df_2[''product''] -', df_2[df_2['product'] == 0]['product'].count())"
   ]
  },
  {
   "cell_type": "markdown",
   "metadata": {},
   "source": [
    "Посмотрим гистограммы по столбцу product по регионам, для этого напишем функцию `hist_oil`"
   ]
  },
  {
   "cell_type": "code",
   "execution_count": 12,
   "metadata": {},
   "outputs": [],
   "source": [
    "def hist_oil(seria, bins, xlim_max, ylim_max, name_hist):\n",
    "\n",
    "    plt.figure(figsize=[15, 8])\n",
    "    plt.hist(seria, bins = bins)\n",
    "\n",
    "    plt.xlim([0, xlim_max])\n",
    "    plt.ylim([0, ylim_max])\n",
    "\n",
    "    plt.title(name_hist)\n",
    "    plt.xlabel('Объем нефти на скважину, тыс. барелей')\n",
    "    plt.ylabel('Количество скважин')\n",
    "    plt.show()"
   ]
  },
  {
   "cell_type": "code",
   "execution_count": 13,
   "metadata": {},
   "outputs": [
    {
     "data": {
      "image/png": "[encoded data removed]",
      "text/plain": [
       "<Figure size 1500x800 with 1 Axes>"
      ]
     },
     "metadata": {},
     "output_type": "display_data"
    },
    {
     "data": {
      "image/png": "[encoded data removed]",
      "text/plain": [
       "<Figure size 1500x1500 with 4 Axes>"
      ]
     },
     "metadata": {},
     "output_type": "display_data"
    }
   ],
   "source": [
    "hist_oil(df_0['product'], 200, 200, 850, 'Гистограмма распределения по объему скважин. Регион 0')\n",
    "df_0.hist(figsize = (15, 15))\n",
    "plt.show()"
   ]
  },
  {
   "cell_type": "code",
   "execution_count": 14,
   "metadata": {},
   "outputs": [
    {
     "data": {
      "image/png": "[encoded data removed]",
      "text/plain": [
       "<Figure size 1500x800 with 1 Axes>"
      ]
     },
     "metadata": {},
     "output_type": "display_data"
    },
    {
     "data": {
      "image/png": "[encoded data removed]",
      "text/plain": [
       "<Figure size 1500x1500 with 4 Axes>"
      ]
     },
     "metadata": {},
     "output_type": "display_data"
    }
   ],
   "source": [
    "hist_oil(df_1['product'], 200, 190, 850, 'Гистограмма распределения по объему скважин. Регион 1')\n",
    "df_1.hist(figsize = (15, 15))\n",
    "plt.show()"
   ]
  },
  {
   "cell_type": "code",
   "execution_count": 15,
   "metadata": {},
   "outputs": [
    {
     "data": {
      "image/png": "[encoded data removed]",
      "text/plain": [
       "<Figure size 1500x800 with 1 Axes>"
      ]
     },
     "metadata": {},
     "output_type": "display_data"
    }
   ],
   "source": [
    "# Подберем масштаб\n",
    "hist_oil(df_1['product'], 200, 150, 9000, 'Гистограмма распределения по объему скважин. Регион 1')"
   ]
  },
  {
   "cell_type": "code",
   "execution_count": 16,
   "metadata": {},
   "outputs": [
    {
     "data": {
      "image/png": "[encoded data removed]",
      "text/plain": [
       "<Figure size 1500x800 with 1 Axes>"
      ]
     },
     "metadata": {},
     "output_type": "display_data"
    },
    {
     "data": {
      "image/png": "[encoded data removed]",
      "text/plain": [
       "<Figure size 1500x1500 with 4 Axes>"
      ]
     },
     "metadata": {},
     "output_type": "display_data"
    }
   ],
   "source": [
    "hist_oil(df_2['product'], 200, 200, 850, 'Гистограмма распределения по объему скважин. Регион 2')\n",
    "df_2.hist(figsize = (15, 15))\n",
    "plt.show()"
   ]
  },
  {
   "cell_type": "code",
   "execution_count": 17,
   "metadata": {},
   "outputs": [
    {
     "data": {
      "text/plain": [
       "'Регион 0'"
      ]
     },
     "metadata": {},
     "output_type": "display_data"
    },
    {
     "data": {
      "text/plain": [
       "105.280062    1\n",
       "122.799517    1\n",
       "61.817308     1\n",
       "37.155071     1\n",
       "73.090084     1\n",
       "             ..\n",
       "154.694803    1\n",
       "79.818082     1\n",
       "138.609486    1\n",
       "62.540393     1\n",
       "149.633246    1\n",
       "Name: product, Length: 100000, dtype: int64"
      ]
     },
     "metadata": {},
     "output_type": "display_data"
    },
    {
     "data": {
      "text/plain": [
       "'Регион 1'"
      ]
     },
     "metadata": {},
     "output_type": "display_data"
    },
    {
     "data": {
      "text/plain": [
       "53.906522     8472\n",
       "26.953261     8468\n",
       "84.038886     8431\n",
       "57.085625     8390\n",
       "3.179103      8337\n",
       "80.859783     8320\n",
       "30.132364     8306\n",
       "134.766305    8304\n",
       "110.992147    8303\n",
       "0.000000      8235\n",
       "137.945408    8233\n",
       "107.813044    8201\n",
       "Name: product, dtype: int64"
      ]
     },
     "metadata": {},
     "output_type": "display_data"
    },
    {
     "data": {
      "text/plain": [
       "'Регион 2'"
      ]
     },
     "metadata": {},
     "output_type": "display_data"
    },
    {
     "data": {
      "text/plain": [
       "27.758673     1\n",
       "145.850966    1\n",
       "51.061821     1\n",
       "51.767755     1\n",
       "127.557176    1\n",
       "             ..\n",
       "138.662027    1\n",
       "171.123264    1\n",
       "102.381336    1\n",
       "140.622292    1\n",
       "102.775767    1\n",
       "Name: product, Length: 100000, dtype: int64"
      ]
     },
     "metadata": {},
     "output_type": "display_data"
    }
   ],
   "source": [
    "display('Регион 0', df_0['product'].value_counts())\n",
    "display('Регион 1', df_1['product'].value_counts())\n",
    "display('Регион 2', df_2['product'].value_counts())"
   ]
  },
  {
   "cell_type": "code",
   "execution_count": 18,
   "metadata": {},
   "outputs": [
    {
     "data": {
      "text/plain": [
       "'Регион 0'"
      ]
     },
     "metadata": {},
     "output_type": "display_data"
    },
    {
     "data": {
      "text/html": [
       "<div>\n",
       "<style scoped>\n",
       "    .dataframe tbody tr th:only-of-type {\n",
       "        vertical-align: middle;\n",
       "    }\n",
       "\n",
       "    .dataframe tbody tr th {\n",
       "        vertical-align: top;\n",
       "    }\n",
       "\n",
       "    .dataframe thead th {\n",
       "        text-align: right;\n",
       "    }\n",
       "</style>\n",
       "<table border=\"1\" class=\"dataframe\">\n",
       "  <thead>\n",
       "    <tr style=\"text-align: right;\">\n",
       "      <th></th>\n",
       "      <th>f0</th>\n",
       "      <th>f1</th>\n",
       "      <th>f2</th>\n",
       "      <th>product</th>\n",
       "    </tr>\n",
       "  </thead>\n",
       "  <tbody>\n",
       "    <tr>\n",
       "      <th>f0</th>\n",
       "      <td>1.000000</td>\n",
       "      <td>-0.440723</td>\n",
       "      <td>-0.003153</td>\n",
       "      <td>0.143536</td>\n",
       "    </tr>\n",
       "    <tr>\n",
       "      <th>f1</th>\n",
       "      <td>-0.440723</td>\n",
       "      <td>1.000000</td>\n",
       "      <td>0.001724</td>\n",
       "      <td>-0.192356</td>\n",
       "    </tr>\n",
       "    <tr>\n",
       "      <th>f2</th>\n",
       "      <td>-0.003153</td>\n",
       "      <td>0.001724</td>\n",
       "      <td>1.000000</td>\n",
       "      <td>0.483663</td>\n",
       "    </tr>\n",
       "    <tr>\n",
       "      <th>product</th>\n",
       "      <td>0.143536</td>\n",
       "      <td>-0.192356</td>\n",
       "      <td>0.483663</td>\n",
       "      <td>1.000000</td>\n",
       "    </tr>\n",
       "  </tbody>\n",
       "</table>\n",
       "</div>"
      ],
      "text/plain": [
       "               f0        f1        f2   product\n",
       "f0       1.000000 -0.440723 -0.003153  0.143536\n",
       "f1      -0.440723  1.000000  0.001724 -0.192356\n",
       "f2      -0.003153  0.001724  1.000000  0.483663\n",
       "product  0.143536 -0.192356  0.483663  1.000000"
      ]
     },
     "metadata": {},
     "output_type": "display_data"
    },
    {
     "data": {
      "text/plain": [
       "'Регион 1'"
      ]
     },
     "metadata": {},
     "output_type": "display_data"
    },
    {
     "data": {
      "text/html": [
       "<div>\n",
       "<style scoped>\n",
       "    .dataframe tbody tr th:only-of-type {\n",
       "        vertical-align: middle;\n",
       "    }\n",
       "\n",
       "    .dataframe tbody tr th {\n",
       "        vertical-align: top;\n",
       "    }\n",
       "\n",
       "    .dataframe thead th {\n",
       "        text-align: right;\n",
       "    }\n",
       "</style>\n",
       "<table border=\"1\" class=\"dataframe\">\n",
       "  <thead>\n",
       "    <tr style=\"text-align: right;\">\n",
       "      <th></th>\n",
       "      <th>f0</th>\n",
       "      <th>f1</th>\n",
       "      <th>f2</th>\n",
       "      <th>product</th>\n",
       "    </tr>\n",
       "  </thead>\n",
       "  <tbody>\n",
       "    <tr>\n",
       "      <th>f0</th>\n",
       "      <td>1.000000</td>\n",
       "      <td>0.182287</td>\n",
       "      <td>-0.001777</td>\n",
       "      <td>-0.030491</td>\n",
       "    </tr>\n",
       "    <tr>\n",
       "      <th>f1</th>\n",
       "      <td>0.182287</td>\n",
       "      <td>1.000000</td>\n",
       "      <td>-0.002595</td>\n",
       "      <td>-0.010155</td>\n",
       "    </tr>\n",
       "    <tr>\n",
       "      <th>f2</th>\n",
       "      <td>-0.001777</td>\n",
       "      <td>-0.002595</td>\n",
       "      <td>1.000000</td>\n",
       "      <td>0.999397</td>\n",
       "    </tr>\n",
       "    <tr>\n",
       "      <th>product</th>\n",
       "      <td>-0.030491</td>\n",
       "      <td>-0.010155</td>\n",
       "      <td>0.999397</td>\n",
       "      <td>1.000000</td>\n",
       "    </tr>\n",
       "  </tbody>\n",
       "</table>\n",
       "</div>"
      ],
      "text/plain": [
       "               f0        f1        f2   product\n",
       "f0       1.000000  0.182287 -0.001777 -0.030491\n",
       "f1       0.182287  1.000000 -0.002595 -0.010155\n",
       "f2      -0.001777 -0.002595  1.000000  0.999397\n",
       "product -0.030491 -0.010155  0.999397  1.000000"
      ]
     },
     "metadata": {},
     "output_type": "display_data"
    },
    {
     "data": {
      "text/plain": [
       "'Регион 2'"
      ]
     },
     "metadata": {},
     "output_type": "display_data"
    },
    {
     "data": {
      "text/html": [
       "<div>\n",
       "<style scoped>\n",
       "    .dataframe tbody tr th:only-of-type {\n",
       "        vertical-align: middle;\n",
       "    }\n",
       "\n",
       "    .dataframe tbody tr th {\n",
       "        vertical-align: top;\n",
       "    }\n",
       "\n",
       "    .dataframe thead th {\n",
       "        text-align: right;\n",
       "    }\n",
       "</style>\n",
       "<table border=\"1\" class=\"dataframe\">\n",
       "  <thead>\n",
       "    <tr style=\"text-align: right;\">\n",
       "      <th></th>\n",
       "      <th>f0</th>\n",
       "      <th>f1</th>\n",
       "      <th>f2</th>\n",
       "      <th>product</th>\n",
       "    </tr>\n",
       "  </thead>\n",
       "  <tbody>\n",
       "    <tr>\n",
       "      <th>f0</th>\n",
       "      <td>1.000000</td>\n",
       "      <td>0.000528</td>\n",
       "      <td>-0.000448</td>\n",
       "      <td>-0.001987</td>\n",
       "    </tr>\n",
       "    <tr>\n",
       "      <th>f1</th>\n",
       "      <td>0.000528</td>\n",
       "      <td>1.000000</td>\n",
       "      <td>0.000779</td>\n",
       "      <td>-0.001012</td>\n",
       "    </tr>\n",
       "    <tr>\n",
       "      <th>f2</th>\n",
       "      <td>-0.000448</td>\n",
       "      <td>0.000779</td>\n",
       "      <td>1.000000</td>\n",
       "      <td>0.445871</td>\n",
       "    </tr>\n",
       "    <tr>\n",
       "      <th>product</th>\n",
       "      <td>-0.001987</td>\n",
       "      <td>-0.001012</td>\n",
       "      <td>0.445871</td>\n",
       "      <td>1.000000</td>\n",
       "    </tr>\n",
       "  </tbody>\n",
       "</table>\n",
       "</div>"
      ],
      "text/plain": [
       "               f0        f1        f2   product\n",
       "f0       1.000000  0.000528 -0.000448 -0.001987\n",
       "f1       0.000528  1.000000  0.000779 -0.001012\n",
       "f2      -0.000448  0.000779  1.000000  0.445871\n",
       "product -0.001987 -0.001012  0.445871  1.000000"
      ]
     },
     "metadata": {},
     "output_type": "display_data"
    }
   ],
   "source": [
    "display('Регион 0', df_0.corr())\n",
    "display('Регион 1', df_1.corr())\n",
    "display('Регион 2', df_2.corr())"
   ]
  },
  {
   "cell_type": "markdown",
   "metadata": {},
   "source": [
    "**Вывод:**\n",
    "\n",
    "В 1 регионе около 8,2% месторождений не имеют значения в столбце `product`.\n",
    "\n",
    "При сравнении с такими же значениями из 0 и 2 региона можно предположить, что данные были утеряны или месторождения не исследованы. По гистограммам можно увидеть, что у 0 и 2 региона распределение скважин близко к нормальному.\n",
    "\n",
    "В 1 регионе данные имеют странное распределение: с шагом по 15-30 равномерно распределены 100000 значений. Данные не подчиняются закону больших чисел и похоже были введены искуственно.\n",
    "\n",
    "Корреляция показывает, что данные в столбцах `f0` и `f1` слабо влияют на product, а вот `f2` положительно корелирует с `product`. Коэффициет корреляции `f2` равен 0,48 и 0,45 для регионов 0 и 2, а для региона 1 он равен 0,99.\n",
    "\n",
    "Данные готовы к обучению."
   ]
  },
  {
   "cell_type": "code",
   "execution_count": 19,
   "metadata": {},
   "outputs": [],
   "source": [
    "# Для более тщательного EDA анализа можно использовать библиотеки sweetviz или pandas_profiling.\n",
    "# Данные библиотеки хороши для максимизации комфорта презентации результатов анализа бизнес-пользователям.\n",
    "# Они просты в использоовании, на вход подается датафрейм: pandas_profiling.ProfileReport(df)\n",
    "#!pip install pandas-profiling\n",
    "#import pandas_profiling\n",
    "#pandas_profiling.ProfileReport(df_0)"
   ]
  },
  {
   "cell_type": "markdown",
   "metadata": {},
   "source": [
    "<a id=4></a>\n",
    "[Содержание](#0)\n",
    "## 4. Обучение и проверка модели"
   ]
  },
  {
   "cell_type": "markdown",
   "metadata": {},
   "source": [
    "Создадим функцию разбивки датафреймов на 75% под тренировочные данные и 25% под валидационные"
   ]
  },
  {
   "cell_type": "code",
   "execution_count": 20,
   "metadata": {},
   "outputs": [],
   "source": [
    "def split_df(df, target):\n",
    "    df_x = df.drop([target] , axis=1)\n",
    "    df_y = df[target]\n",
    "\n",
    "    x_train, x_valid, y_train, y_valid = train_test_split(df_x, df_y, train_size = 0.75, random_state = RND_STATE)\n",
    "\n",
    "    print('Размер тренерующей  выборки:', x_train.shape)\n",
    "    print('Размер валидационной выборки:', x_valid.shape)\n",
    "    display(df.head(3))\n",
    "    \n",
    "    return x_train, x_valid, y_train, y_valid"
   ]
  },
  {
   "cell_type": "code",
   "execution_count": 21,
   "metadata": {},
   "outputs": [
    {
     "name": "stdout",
     "output_type": "stream",
     "text": [
      "Регион 0\n",
      "Размер тренерующей  выборки: (75000, 3)\n",
      "Размер валидационной выборки: (25000, 3)\n"
     ]
    },
    {
     "data": {
      "text/html": [
       "<div>\n",
       "<style scoped>\n",
       "    .dataframe tbody tr th:only-of-type {\n",
       "        vertical-align: middle;\n",
       "    }\n",
       "\n",
       "    .dataframe tbody tr th {\n",
       "        vertical-align: top;\n",
       "    }\n",
       "\n",
       "    .dataframe thead th {\n",
       "        text-align: right;\n",
       "    }\n",
       "</style>\n",
       "<table border=\"1\" class=\"dataframe\">\n",
       "  <thead>\n",
       "    <tr style=\"text-align: right;\">\n",
       "      <th></th>\n",
       "      <th>f0</th>\n",
       "      <th>f1</th>\n",
       "      <th>f2</th>\n",
       "      <th>product</th>\n",
       "    </tr>\n",
       "  </thead>\n",
       "  <tbody>\n",
       "    <tr>\n",
       "      <th>0</th>\n",
       "      <td>0.705745</td>\n",
       "      <td>-0.497823</td>\n",
       "      <td>1.221170</td>\n",
       "      <td>105.280062</td>\n",
       "    </tr>\n",
       "    <tr>\n",
       "      <th>1</th>\n",
       "      <td>1.334711</td>\n",
       "      <td>-0.340164</td>\n",
       "      <td>4.365080</td>\n",
       "      <td>73.037750</td>\n",
       "    </tr>\n",
       "    <tr>\n",
       "      <th>2</th>\n",
       "      <td>1.022732</td>\n",
       "      <td>0.151990</td>\n",
       "      <td>1.419926</td>\n",
       "      <td>85.265647</td>\n",
       "    </tr>\n",
       "  </tbody>\n",
       "</table>\n",
       "</div>"
      ],
      "text/plain": [
       "         f0        f1        f2     product\n",
       "0  0.705745 -0.497823  1.221170  105.280062\n",
       "1  1.334711 -0.340164  4.365080   73.037750\n",
       "2  1.022732  0.151990  1.419926   85.265647"
      ]
     },
     "metadata": {},
     "output_type": "display_data"
    },
    {
     "name": "stdout",
     "output_type": "stream",
     "text": [
      "Регион 1\n",
      "Размер тренерующей  выборки: (75000, 3)\n",
      "Размер валидационной выборки: (25000, 3)\n"
     ]
    },
    {
     "data": {
      "text/html": [
       "<div>\n",
       "<style scoped>\n",
       "    .dataframe tbody tr th:only-of-type {\n",
       "        vertical-align: middle;\n",
       "    }\n",
       "\n",
       "    .dataframe tbody tr th {\n",
       "        vertical-align: top;\n",
       "    }\n",
       "\n",
       "    .dataframe thead th {\n",
       "        text-align: right;\n",
       "    }\n",
       "</style>\n",
       "<table border=\"1\" class=\"dataframe\">\n",
       "  <thead>\n",
       "    <tr style=\"text-align: right;\">\n",
       "      <th></th>\n",
       "      <th>f0</th>\n",
       "      <th>f1</th>\n",
       "      <th>f2</th>\n",
       "      <th>product</th>\n",
       "    </tr>\n",
       "  </thead>\n",
       "  <tbody>\n",
       "    <tr>\n",
       "      <th>0</th>\n",
       "      <td>-15.001348</td>\n",
       "      <td>-8.276000</td>\n",
       "      <td>-0.005876</td>\n",
       "      <td>3.179103</td>\n",
       "    </tr>\n",
       "    <tr>\n",
       "      <th>1</th>\n",
       "      <td>14.272088</td>\n",
       "      <td>-3.475083</td>\n",
       "      <td>0.999183</td>\n",
       "      <td>26.953261</td>\n",
       "    </tr>\n",
       "    <tr>\n",
       "      <th>2</th>\n",
       "      <td>6.263187</td>\n",
       "      <td>-5.948386</td>\n",
       "      <td>5.001160</td>\n",
       "      <td>134.766305</td>\n",
       "    </tr>\n",
       "  </tbody>\n",
       "</table>\n",
       "</div>"
      ],
      "text/plain": [
       "          f0        f1        f2     product\n",
       "0 -15.001348 -8.276000 -0.005876    3.179103\n",
       "1  14.272088 -3.475083  0.999183   26.953261\n",
       "2   6.263187 -5.948386  5.001160  134.766305"
      ]
     },
     "metadata": {},
     "output_type": "display_data"
    },
    {
     "name": "stdout",
     "output_type": "stream",
     "text": [
      "Регион 2\n",
      "Размер тренерующей  выборки: (75000, 3)\n",
      "Размер валидационной выборки: (25000, 3)\n"
     ]
    },
    {
     "data": {
      "text/html": [
       "<div>\n",
       "<style scoped>\n",
       "    .dataframe tbody tr th:only-of-type {\n",
       "        vertical-align: middle;\n",
       "    }\n",
       "\n",
       "    .dataframe tbody tr th {\n",
       "        vertical-align: top;\n",
       "    }\n",
       "\n",
       "    .dataframe thead th {\n",
       "        text-align: right;\n",
       "    }\n",
       "</style>\n",
       "<table border=\"1\" class=\"dataframe\">\n",
       "  <thead>\n",
       "    <tr style=\"text-align: right;\">\n",
       "      <th></th>\n",
       "      <th>f0</th>\n",
       "      <th>f1</th>\n",
       "      <th>f2</th>\n",
       "      <th>product</th>\n",
       "    </tr>\n",
       "  </thead>\n",
       "  <tbody>\n",
       "    <tr>\n",
       "      <th>0</th>\n",
       "      <td>-1.146987</td>\n",
       "      <td>0.963328</td>\n",
       "      <td>-0.828965</td>\n",
       "      <td>27.758673</td>\n",
       "    </tr>\n",
       "    <tr>\n",
       "      <th>1</th>\n",
       "      <td>0.262778</td>\n",
       "      <td>0.269839</td>\n",
       "      <td>-2.530187</td>\n",
       "      <td>56.069697</td>\n",
       "    </tr>\n",
       "    <tr>\n",
       "      <th>2</th>\n",
       "      <td>0.194587</td>\n",
       "      <td>0.289035</td>\n",
       "      <td>-5.586433</td>\n",
       "      <td>62.871910</td>\n",
       "    </tr>\n",
       "  </tbody>\n",
       "</table>\n",
       "</div>"
      ],
      "text/plain": [
       "         f0        f1        f2    product\n",
       "0 -1.146987  0.963328 -0.828965  27.758673\n",
       "1  0.262778  0.269839 -2.530187  56.069697\n",
       "2  0.194587  0.289035 -5.586433  62.871910"
      ]
     },
     "metadata": {},
     "output_type": "display_data"
    }
   ],
   "source": [
    "print('Регион 0')\n",
    "x_0_train, x_0_valid, y_0_train, y_0_valid = split_df(df_0, 'product')\n",
    "\n",
    "print('Регион 1')\n",
    "x_1_train, x_1_valid, y_1_train, y_1_valid = split_df(df_1, 'product')\n",
    "\n",
    "print('Регион 2')\n",
    "x_2_train, x_2_valid, y_2_train, y_2_valid = split_df(df_2, 'product')"
   ]
  },
  {
   "cell_type": "markdown",
   "metadata": {},
   "source": [
    "Обучим модель для региона 0"
   ]
  },
  {
   "cell_type": "code",
   "execution_count": 22,
   "metadata": {},
   "outputs": [
    {
     "name": "stdout",
     "output_type": "stream",
     "text": [
      "RMSE - 37.76915718722078\n"
     ]
    }
   ],
   "source": [
    "model = LinearRegression()\n",
    "model.fit(x_0_train, y_0_train)\n",
    "predicted_y_0 = model.predict(x_0_valid)\n",
    "print('RMSE -', mean_squared_error(y_0_valid, predicted_y_0) ** 0.5)"
   ]
  },
  {
   "cell_type": "markdown",
   "metadata": {},
   "source": [
    "Проверим качество модели линейной регрессии с масштабируемыми данными"
   ]
  },
  {
   "cell_type": "code",
   "execution_count": 23,
   "metadata": {},
   "outputs": [
    {
     "name": "stdout",
     "output_type": "stream",
     "text": [
      "Размер тренерующей  выборки: (75000, 3)\n",
      "Размер валидационной выборки: (25000, 3)\n"
     ]
    },
    {
     "data": {
      "text/html": [
       "<div>\n",
       "<style scoped>\n",
       "    .dataframe tbody tr th:only-of-type {\n",
       "        vertical-align: middle;\n",
       "    }\n",
       "\n",
       "    .dataframe tbody tr th {\n",
       "        vertical-align: top;\n",
       "    }\n",
       "\n",
       "    .dataframe thead th {\n",
       "        text-align: right;\n",
       "    }\n",
       "</style>\n",
       "<table border=\"1\" class=\"dataframe\">\n",
       "  <thead>\n",
       "    <tr style=\"text-align: right;\">\n",
       "      <th></th>\n",
       "      <th>f0</th>\n",
       "      <th>f1</th>\n",
       "      <th>f2</th>\n",
       "      <th>product</th>\n",
       "    </tr>\n",
       "  </thead>\n",
       "  <tbody>\n",
       "    <tr>\n",
       "      <th>0</th>\n",
       "      <td>0.705745</td>\n",
       "      <td>-0.497823</td>\n",
       "      <td>1.221170</td>\n",
       "      <td>105.280062</td>\n",
       "    </tr>\n",
       "    <tr>\n",
       "      <th>1</th>\n",
       "      <td>1.334711</td>\n",
       "      <td>-0.340164</td>\n",
       "      <td>4.365080</td>\n",
       "      <td>73.037750</td>\n",
       "    </tr>\n",
       "    <tr>\n",
       "      <th>2</th>\n",
       "      <td>1.022732</td>\n",
       "      <td>0.151990</td>\n",
       "      <td>1.419926</td>\n",
       "      <td>85.265647</td>\n",
       "    </tr>\n",
       "  </tbody>\n",
       "</table>\n",
       "</div>"
      ],
      "text/plain": [
       "         f0        f1        f2     product\n",
       "0  0.705745 -0.497823  1.221170  105.280062\n",
       "1  1.334711 -0.340164  4.365080   73.037750\n",
       "2  1.022732  0.151990  1.419926   85.265647"
      ]
     },
     "metadata": {},
     "output_type": "display_data"
    }
   ],
   "source": [
    "x_0_train_s, x_0_valid_s, y_0_train_s, y_0_valid_s = split_df(df_0, 'product')\n",
    "numeric = ['f0', 'f1', 'f2']\n",
    "\n",
    "scaler = StandardScaler()\n",
    "scaler.fit(x_0_train_s[numeric])\n",
    "x_0_train_s[numeric] = scaler.transform(x_0_train_s[numeric])\n",
    "x_0_valid_s[numeric] = scaler.transform(x_0_valid_s[numeric])"
   ]
  },
  {
   "cell_type": "markdown",
   "metadata": {},
   "source": [
    "Обучим модель для региона 0"
   ]
  },
  {
   "cell_type": "code",
   "execution_count": 24,
   "metadata": {},
   "outputs": [
    {
     "name": "stdout",
     "output_type": "stream",
     "text": [
      "RMSE - 37.76915718722078\n"
     ]
    }
   ],
   "source": [
    "model = LinearRegression()\n",
    "model.fit(x_0_train_s, y_0_train_s)\n",
    "predicted_y_0_s = model.predict(x_0_valid_s)\n",
    "print('RMSE -', mean_squared_error(y_0_valid_s, predicted_y_0_s) ** 0.5)"
   ]
  },
  {
   "cell_type": "markdown",
   "metadata": {},
   "source": [
    "**Вывод:**\n",
    "\n",
    "Масштабирование данных не требуется.\n",
    "\n",
    "Проверим показатель RMSE при других гиперпараметрах модели."
   ]
  },
  {
   "cell_type": "code",
   "execution_count": 25,
   "metadata": {},
   "outputs": [
    {
     "name": "stdout",
     "output_type": "stream",
     "text": [
      "RMSE - 37.76915718722078\n"
     ]
    }
   ],
   "source": [
    "model = LinearRegression(normalize=True)\n",
    "model.fit(x_0_train, y_0_train)\n",
    "predicted_y_0 = model.predict(x_0_valid)\n",
    "print('RMSE -', mean_squared_error(y_0_valid, predicted_y_0) ** 0.5)"
   ]
  },
  {
   "cell_type": "code",
   "execution_count": 26,
   "metadata": {},
   "outputs": [
    {
     "name": "stdout",
     "output_type": "stream",
     "text": [
      "RMSE - 60.969393644677126\n"
     ]
    }
   ],
   "source": [
    "model = LinearRegression(fit_intercept=False)\n",
    "model.fit(x_0_train, y_0_train)\n",
    "predicted_y_0 = model.predict(x_0_valid)\n",
    "print('RMSE -', mean_squared_error(y_0_valid, predicted_y_0) ** 0.5)"
   ]
  },
  {
   "cell_type": "markdown",
   "metadata": {},
   "source": [
    "**Вывод:**\n",
    "\n",
    "Изменение стандартных значений гиперпараметров не улучшило модель.\n",
    "\n",
    "Произведем вывод предсказанного запаса с реальным и выведем RMSE."
   ]
  },
  {
   "cell_type": "code",
   "execution_count": 27,
   "metadata": {},
   "outputs": [],
   "source": [
    "model = LinearRegression()\n",
    "\n",
    "def predict_oil(x_train, y_train, x_valid, y_valid):\n",
    "    \n",
    "    model.fit(x_train, y_train)\n",
    "    predicted_y = model.predict(x_valid)\n",
    "\n",
    "    data = {'Product (Real)' : y_valid, 'Product (Predicted)' : predicted_y}\n",
    "    df = pd.DataFrame(data, columns = ['Product (Real)', 'Product (Predicted)'])\n",
    "    rmse = mean_squared_error(y_valid, predicted_y) ** 0.5\n",
    "    mean = df['Product (Predicted)'].mean()\n",
    "\n",
    "    print('RMSE -', round(rmse, 4))\n",
    "    print('Средний запас сырья -', round(mean, 4))\n",
    "    display(df.head(5))\n",
    "\n",
    "    return df, rmse, mean"
   ]
  },
  {
   "cell_type": "code",
   "execution_count": 28,
   "metadata": {},
   "outputs": [
    {
     "name": "stdout",
     "output_type": "stream",
     "text": [
      "Регион 0\n",
      "RMSE - 37.7692\n",
      "Средний запас сырья - 92.4391\n"
     ]
    },
    {
     "data": {
      "text/html": [
       "<div>\n",
       "<style scoped>\n",
       "    .dataframe tbody tr th:only-of-type {\n",
       "        vertical-align: middle;\n",
       "    }\n",
       "\n",
       "    .dataframe tbody tr th {\n",
       "        vertical-align: top;\n",
       "    }\n",
       "\n",
       "    .dataframe thead th {\n",
       "        text-align: right;\n",
       "    }\n",
       "</style>\n",
       "<table border=\"1\" class=\"dataframe\">\n",
       "  <thead>\n",
       "    <tr style=\"text-align: right;\">\n",
       "      <th></th>\n",
       "      <th>Product (Real)</th>\n",
       "      <th>Product (Predicted)</th>\n",
       "    </tr>\n",
       "  </thead>\n",
       "  <tbody>\n",
       "    <tr>\n",
       "      <th>40730</th>\n",
       "      <td>133.673581</td>\n",
       "      <td>108.004139</td>\n",
       "    </tr>\n",
       "    <tr>\n",
       "      <th>22271</th>\n",
       "      <td>165.900706</td>\n",
       "      <td>108.788880</td>\n",
       "    </tr>\n",
       "    <tr>\n",
       "      <th>43190</th>\n",
       "      <td>87.187893</td>\n",
       "      <td>61.060038</td>\n",
       "    </tr>\n",
       "    <tr>\n",
       "      <th>88313</th>\n",
       "      <td>109.475449</td>\n",
       "      <td>83.458560</td>\n",
       "    </tr>\n",
       "    <tr>\n",
       "      <th>50813</th>\n",
       "      <td>62.638379</td>\n",
       "      <td>77.361075</td>\n",
       "    </tr>\n",
       "  </tbody>\n",
       "</table>\n",
       "</div>"
      ],
      "text/plain": [
       "       Product (Real)  Product (Predicted)\n",
       "40730      133.673581           108.004139\n",
       "22271      165.900706           108.788880\n",
       "43190       87.187893            61.060038\n",
       "88313      109.475449            83.458560\n",
       "50813       62.638379            77.361075"
      ]
     },
     "metadata": {},
     "output_type": "display_data"
    },
    {
     "name": "stdout",
     "output_type": "stream",
     "text": [
      "Регион 1\n",
      "RMSE - 0.8887\n",
      "Средний запас сырья - 69.194\n"
     ]
    },
    {
     "data": {
      "text/html": [
       "<div>\n",
       "<style scoped>\n",
       "    .dataframe tbody tr th:only-of-type {\n",
       "        vertical-align: middle;\n",
       "    }\n",
       "\n",
       "    .dataframe tbody tr th {\n",
       "        vertical-align: top;\n",
       "    }\n",
       "\n",
       "    .dataframe thead th {\n",
       "        text-align: right;\n",
       "    }\n",
       "</style>\n",
       "<table border=\"1\" class=\"dataframe\">\n",
       "  <thead>\n",
       "    <tr style=\"text-align: right;\">\n",
       "      <th></th>\n",
       "      <th>Product (Real)</th>\n",
       "      <th>Product (Predicted)</th>\n",
       "    </tr>\n",
       "  </thead>\n",
       "  <tbody>\n",
       "    <tr>\n",
       "      <th>40730</th>\n",
       "      <td>134.766305</td>\n",
       "      <td>135.919159</td>\n",
       "    </tr>\n",
       "    <tr>\n",
       "      <th>22271</th>\n",
       "      <td>107.813044</td>\n",
       "      <td>107.633564</td>\n",
       "    </tr>\n",
       "    <tr>\n",
       "      <th>43190</th>\n",
       "      <td>26.953261</td>\n",
       "      <td>27.495292</td>\n",
       "    </tr>\n",
       "    <tr>\n",
       "      <th>88313</th>\n",
       "      <td>110.992147</td>\n",
       "      <td>110.734076</td>\n",
       "    </tr>\n",
       "    <tr>\n",
       "      <th>50813</th>\n",
       "      <td>30.132364</td>\n",
       "      <td>29.653630</td>\n",
       "    </tr>\n",
       "  </tbody>\n",
       "</table>\n",
       "</div>"
      ],
      "text/plain": [
       "       Product (Real)  Product (Predicted)\n",
       "40730      134.766305           135.919159\n",
       "22271      107.813044           107.633564\n",
       "43190       26.953261            27.495292\n",
       "88313      110.992147           110.734076\n",
       "50813       30.132364            29.653630"
      ]
     },
     "metadata": {},
     "output_type": "display_data"
    },
    {
     "name": "stdout",
     "output_type": "stream",
     "text": [
      "Регион 2\n",
      "RMSE - 40.1317\n",
      "Средний запас сырья - 94.9592\n"
     ]
    },
    {
     "data": {
      "text/html": [
       "<div>\n",
       "<style scoped>\n",
       "    .dataframe tbody tr th:only-of-type {\n",
       "        vertical-align: middle;\n",
       "    }\n",
       "\n",
       "    .dataframe tbody tr th {\n",
       "        vertical-align: top;\n",
       "    }\n",
       "\n",
       "    .dataframe thead th {\n",
       "        text-align: right;\n",
       "    }\n",
       "</style>\n",
       "<table border=\"1\" class=\"dataframe\">\n",
       "  <thead>\n",
       "    <tr style=\"text-align: right;\">\n",
       "      <th></th>\n",
       "      <th>Product (Real)</th>\n",
       "      <th>Product (Predicted)</th>\n",
       "    </tr>\n",
       "  </thead>\n",
       "  <tbody>\n",
       "    <tr>\n",
       "      <th>40730</th>\n",
       "      <td>63.620706</td>\n",
       "      <td>64.604436</td>\n",
       "    </tr>\n",
       "    <tr>\n",
       "      <th>22271</th>\n",
       "      <td>88.246671</td>\n",
       "      <td>83.665566</td>\n",
       "    </tr>\n",
       "    <tr>\n",
       "      <th>43190</th>\n",
       "      <td>106.572266</td>\n",
       "      <td>91.294771</td>\n",
       "    </tr>\n",
       "    <tr>\n",
       "      <th>88313</th>\n",
       "      <td>162.183616</td>\n",
       "      <td>102.539679</td>\n",
       "    </tr>\n",
       "    <tr>\n",
       "      <th>50813</th>\n",
       "      <td>53.580507</td>\n",
       "      <td>74.957693</td>\n",
       "    </tr>\n",
       "  </tbody>\n",
       "</table>\n",
       "</div>"
      ],
      "text/plain": [
       "       Product (Real)  Product (Predicted)\n",
       "40730       63.620706            64.604436\n",
       "22271       88.246671            83.665566\n",
       "43190      106.572266            91.294771\n",
       "88313      162.183616           102.539679\n",
       "50813       53.580507            74.957693"
      ]
     },
     "metadata": {},
     "output_type": "display_data"
    }
   ],
   "source": [
    "print('Регион 0')\n",
    "df_0_predicted, df_0_rmse, df_0_predicted_mean = predict_oil(x_0_train, y_0_train, x_0_valid, y_0_valid)\n",
    "\n",
    "print('Регион 1')\n",
    "df_1_predicted, df_1_rmse, df_1_predicted_mean = predict_oil(x_1_train, y_1_train, x_1_valid, y_1_valid)\n",
    "\n",
    "print('Регион 2')\n",
    "df_2_predicted, df_2_rmse, df_2_predicted_mean = predict_oil(x_2_train, y_2_train, x_2_valid, y_2_valid)\n"
   ]
  },
  {
   "cell_type": "markdown",
   "metadata": {},
   "source": [
    "Оценим общие запасы по регионам по предсказанным данным"
   ]
  },
  {
   "cell_type": "code",
   "execution_count": 29,
   "metadata": {},
   "outputs": [
    {
     "name": "stdout",
     "output_type": "stream",
     "text": [
      "Регион 0\n",
      "Суммарный предсказанный запас - 2310976.57\n",
      "Суммарный реальный запас     - 2310731.75\n",
      "\n",
      "Регион 1\n",
      "Суммарный предсказанный запас - 1729849.57\n",
      "Суммарный реальный запас     - 1729498.57\n",
      "\n",
      "Регион 2\n",
      "Суммарный предсказанный запас - 2373980.89\n",
      "Суммарный реальный запас     - 2373027.03\n"
     ]
    }
   ],
   "source": [
    "print('Регион 0')\n",
    "print('Суммарный предсказанный запас -', round(df_0_predicted['Product (Predicted)'].sum(), 2))\n",
    "print('Суммарный реальный запас     -', round(df_0_predicted['Product (Real)'].sum(), 2))\n",
    "print()\n",
    "print('Регион 1')\n",
    "print('Суммарный предсказанный запас -', round(df_1_predicted['Product (Predicted)'].sum(), 2))\n",
    "print('Суммарный реальный запас     -', round(df_1_predicted['Product (Real)'].sum(), 2))\n",
    "print()\n",
    "print('Регион 2')\n",
    "print('Суммарный предсказанный запас -', round(df_2_predicted['Product (Predicted)'].sum(), 2))\n",
    "print('Суммарный реальный запас     -', round(df_2_predicted['Product (Real)'].sum(), 2))"
   ]
  },
  {
   "cell_type": "markdown",
   "metadata": {},
   "source": [
    "**Вывод:**\n",
    "\n",
    "Данные предсказаний о количестве нефти примерно совпадают по сумме с предсказанными значениями.\n",
    "\n",
    "Лучше всего модель предсказала запасы в регионе 1 (RMSE - 0.88), далее в регионе 0 и 2.\n",
    "\n",
    "Возможно утеряные данные из региона 1 сказались на модели и она переобучилась.\n",
    "\n",
    "Но из-за утери данных и малого запаса в среднем на меторождение не имеет смысла рассматривать регион 1 как прибыльный.\n",
    "\n",
    "Изучим все регионы на риски и прибыль."
   ]
  },
  {
   "cell_type": "markdown",
   "metadata": {},
   "source": [
    "<a id=5></a>\n",
    "[Содержание](#0)\n",
    "## 5. Подготовка к расчёту прибыли\n",
    "\n",
    "Создадим переменные для расчета"
   ]
  },
  {
   "cell_type": "code",
   "execution_count": 30,
   "metadata": {},
   "outputs": [],
   "source": [
    "BUDGET = 1e+07\n",
    "CHOSEN_POINTS = 500\n",
    "BEST_POINTS = 200\n",
    "PRICE_BARREL = 450"
   ]
  },
  {
   "cell_type": "markdown",
   "metadata": {},
   "source": [
    "Расчитаем безубыточную разработку сырья на 200 месторождениях.\n",
    "И найдем среднее количество продукта в месторождениях необходимое для этого."
   ]
  },
  {
   "cell_type": "code",
   "execution_count": 31,
   "metadata": {},
   "outputs": [
    {
     "name": "stdout",
     "output_type": "stream",
     "text": [
      "Средняя прибыль на лучшую точку - 50000.0 тыс.руб.\n",
      "Средний объем нефти на точку    - 111.11 тыс. барелей\n",
      "Средний объем нефти на регион   - 22222.22 тыс. барелей\n"
     ]
    }
   ],
   "source": [
    "average_profit_point = round(BUDGET / BEST_POINTS, 2)\n",
    "print('Средняя прибыль на лучшую точку -', average_profit_point, 'тыс.руб.')\n",
    "\n",
    "average_barrels_point = round(average_profit_point  / PRICE_BARREL, 2)\n",
    "print('Средний объем нефти на точку    -', average_barrels_point, 'тыс. барелей')\n",
    "\n",
    "average_barrels = round(BUDGET / PRICE_BARREL, 2)\n",
    "print('Средний объем нефти на регион   -', average_barrels, 'тыс. барелей')"
   ]
  },
  {
   "cell_type": "markdown",
   "metadata": {},
   "source": [
    "Посмотрим распределение предсказанных значений"
   ]
  },
  {
   "cell_type": "code",
   "execution_count": 32,
   "metadata": {},
   "outputs": [
    {
     "data": {
      "image/png": "[encoded data removed]",
      "text/plain": [
       "<Figure size 1500x800 with 1 Axes>"
      ]
     },
     "metadata": {},
     "output_type": "display_data"
    }
   ],
   "source": [
    "hist_oil(df_0_predicted['Product (Predicted)'], 200, 175, 400, \n",
    "         'Гистограмма предсказанного распределения по объему скважин. Регион 0')"
   ]
  },
  {
   "cell_type": "code",
   "execution_count": 33,
   "metadata": {},
   "outputs": [
    {
     "data": {
      "image/png": "[encoded data removed]",
      "text/plain": [
       "<Figure size 1500x800 with 1 Axes>"
      ]
     },
     "metadata": {},
     "output_type": "display_data"
    }
   ],
   "source": [
    "hist_oil(df_1_predicted['Product (Predicted)'], 200, 150, 850,\n",
    "         'Гистограмма предсказанного распределения по объему скважин. Регион 1')"
   ]
  },
  {
   "cell_type": "code",
   "execution_count": 34,
   "metadata": {},
   "outputs": [
    {
     "data": {
      "image/png": "[encoded data removed]",
      "text/plain": [
       "<Figure size 1500x800 with 1 Axes>"
      ]
     },
     "metadata": {},
     "output_type": "display_data"
    }
   ],
   "source": [
    "hist_oil(df_2_predicted['Product (Predicted)'], 200, 175, 400,\n",
    "         'Гистограмма предсказанного распределения по объему скважин. Регион 2')"
   ]
  },
  {
   "cell_type": "markdown",
   "metadata": {},
   "source": [
    "**Вывод:**\n",
    "\n",
    "Была подготовлена средняя оценка прибили за скважину и средний объем на скважину.\n",
    "\n",
    "Анализ средних объемов на скважину для каждого региона следующий:\n",
    "- для региона 0 - 92.4391\n",
    "- для региона 1 - 69.194\n",
    "- для региона 2 - 94.9592\n",
    "\n",
    "Изучены средние фактические запасы:\n",
    "- Для регионов 0 и 2 - высокая вероятность окупить затраты. Разброс значений вокруг среднего 92.5 и 95 говорит нам о том, что существует достаточно много скважин, где запасы больше необходимого среднего.\n",
    "- В данных региона 1 достаточно много значений больше 111 и при определенной доли везения можно выбрать только лучшие в этой выборке, хотя и среднее значение 68.8.\n",
    "\n",
    "Создана функция по расчету прибыли."
   ]
  },
  {
   "cell_type": "markdown",
   "metadata": {},
   "source": [
    "<a id=6></a>\n",
    "[Содержание](#0)\n",
    "## 6. Расчёт прибыли и рисков\n",
    "\n",
    "Создадим функцию для расчета приыли на 500 разведанных точек"
   ]
  },
  {
   "cell_type": "code",
   "execution_count": 35,
   "metadata": {},
   "outputs": [],
   "source": [
    "def revenue(target, probabilities, count):\n",
    "    probs_sorted = probabilities.sort_values(ascending = False)\n",
    "    selected = target[probs_sorted.index][:count]\n",
    "    return PRICE_BARREL * selected.sum() - BUDGET"
   ]
  },
  {
   "cell_type": "code",
   "execution_count": 36,
   "metadata": {},
   "outputs": [],
   "source": [
    "state = np.random.RandomState(RND_STATE)\n",
    "\n",
    "def bootstrap_n(target, probs, count):\n",
    "    values = []\n",
    "\n",
    "    for i in range(count):\n",
    "        target_sample = target.sample(replace = True, random_state=state, n = CHOSEN_POINTS)\n",
    "        probs_sample = probs[target_sample.index]\n",
    "        profit = revenue(target_sample, probs_sample, BEST_POINTS)\n",
    "        values.append(profit)\n",
    "    \n",
    "    values = pd.Series(values)\n",
    "    lower = values.quantile(0.025)\n",
    "    upper = values.quantile(0.975)\n",
    "    average = values.mean()\n",
    "    risk = (values < 0).mean()\n",
    "\n",
    "    print('Средняя прибыль по региону = {:.2f} тыс.руб.'.format(average))\n",
    "    print('95% доверительный интервал от {:.2f} до {:.2f} тыс.руб.'.format(lower, upper))\n",
    "    print('Процент риска = {:.2%}'.format(risk))\n",
    "    print()\n",
    "\n",
    "    return # average, lower, upper, risk"
   ]
  },
  {
   "cell_type": "code",
   "execution_count": 37,
   "metadata": {},
   "outputs": [
    {
     "name": "stdout",
     "output_type": "stream",
     "text": [
      "Регион 0\n",
      "Средняя прибыль по региону = 442510.66 тыс.руб.\n",
      "95% доверительный интервал от -109240.18 до 951892.73 тыс.руб.\n",
      "Процент риска = 5.70%\n",
      "\n",
      "Регион 1\n",
      "Средняя прибыль по региону = 510139.37 тыс.руб.\n",
      "95% доверительный интервал от 112333.80 до 919401.52 тыс.руб.\n",
      "Процент риска = 0.50%\n",
      "\n",
      "Регион 2\n",
      "Средняя прибыль по региону = 420842.08 тыс.руб.\n",
      "95% доверительный интервал от -152448.65 до 972414.81 тыс.руб.\n",
      "Процент риска = 7.10%\n",
      "\n"
     ]
    }
   ],
   "source": [
    "print('Регион 0')\n",
    "# average_0, lower_0, upper_0, risk_0 = \n",
    "bootstrap_n(df_0_predicted['Product (Real)'], df_0_predicted['Product (Predicted)'], 1000)\n",
    "\n",
    "print('Регион 1')\n",
    "bootstrap_n(df_1_predicted['Product (Real)'], df_1_predicted['Product (Predicted)'], 1000)\n",
    "\n",
    "print('Регион 2')\n",
    "bootstrap_n(df_2_predicted['Product (Real)'], df_2_predicted['Product (Predicted)'], 1000)"
   ]
  },
  {
   "cell_type": "markdown",
   "metadata": {},
   "source": [
    "**Вывод:**\n",
    "\n",
    "Данные были обработаны и рассчитаны для каждого региона прибыль, доверительный интервал и риск.\n",
    "\n",
    "Мы отсеиваем регионы 0 и 2, так как риски достаточно велики.\n",
    "\n",
    "Остается регион 1, чей риск ниже требуемого.\n",
    "\n",
    "Кроме того доверительный интервал показывает, что даже при не очень удачном выборе разработка скважин окупится."
   ]
  },
  {
   "cell_type": "markdown",
   "metadata": {},
   "source": [
    "<a id=7></a>\n",
    "[Содержание](#0)\n",
    "## 7. Общий вывод"
   ]
  },
  {
   "cell_type": "markdown",
   "metadata": {},
   "source": [
    "#### Было выполнено:\n",
    "\n",
    "- Изучены данные и подготлены к моделированию.\n",
    "\n",
    "- Обучены модели для каждого региона.\n",
    "\n",
    "- Составлена функция расчета прибыли в регионе.\n",
    "\n",
    "- Посчитана прибыль и риски за каждый регион, обоснован выбор региона.\n",
    "\n",
    "Добывающей компании «ГлавРосГосНефть» нужно бурить новую скважину в регионе 1.\n",
    "\n",
    "Для регионов 0 и 2 риски достаточно велики.\n",
    "\n",
    "Кроме того доверительный интервал показывает, что даже при не очень удачном выборе разработка скважин в регионе 1 окупится."
   ]
  },
  {
   "cell_type": "code",
   "execution_count": null,
   "metadata": {},
   "outputs": [],
   "source": []
  }
 ],
 "metadata": {
  "ExecuteTimeLog": [
   {
    "duration": 3,
    "start_time": "2023-01-11T13:36:41.246Z"
   },
   {
    "duration": 1514,
    "start_time": "2023-01-11T13:50:18.962Z"
   },
   {
    "duration": 590,
    "start_time": "2023-01-11T13:50:20.714Z"
   },
   {
    "duration": 594,
    "start_time": "2023-01-11T13:50:52.141Z"
   },
   {
    "duration": 586,
    "start_time": "2023-01-11T13:51:29.541Z"
   },
   {
    "duration": 20,
    "start_time": "2023-01-11T13:57:37.261Z"
   },
   {
    "duration": 89,
    "start_time": "2023-01-11T14:00:43.141Z"
   },
   {
    "duration": 7,
    "start_time": "2023-01-11T14:00:57.391Z"
   },
   {
    "duration": 9,
    "start_time": "2023-01-11T14:01:26.981Z"
   },
   {
    "duration": 419,
    "start_time": "2023-01-11T14:18:00.592Z"
   },
   {
    "duration": 919,
    "start_time": "2023-01-11T14:18:36.986Z"
   },
   {
    "duration": 862,
    "start_time": "2023-01-11T14:18:49.825Z"
   },
   {
    "duration": 549,
    "start_time": "2023-01-11T14:19:23.282Z"
   },
   {
    "duration": 370,
    "start_time": "2023-01-11T14:19:30.982Z"
   },
   {
    "duration": 389,
    "start_time": "2023-01-11T14:19:38.462Z"
   },
   {
    "duration": 39,
    "start_time": "2023-01-11T14:20:52.723Z"
   },
   {
    "duration": 83,
    "start_time": "2023-01-11T14:21:21.307Z"
   },
   {
    "duration": 34,
    "start_time": "2023-01-11T14:21:49.472Z"
   },
   {
    "duration": 38,
    "start_time": "2023-01-11T14:22:18.127Z"
   },
   {
    "duration": 10,
    "start_time": "2023-01-11T14:24:05.453Z"
   },
   {
    "duration": 519,
    "start_time": "2023-01-11T14:24:14.505Z"
   },
   {
    "duration": 399,
    "start_time": "2023-01-11T14:24:36.907Z"
   },
   {
    "duration": 877,
    "start_time": "2023-01-11T14:25:24.068Z"
   },
   {
    "duration": 10,
    "start_time": "2023-01-11T14:34:48.532Z"
   },
   {
    "duration": 551,
    "start_time": "2023-01-11T14:35:48.582Z"
   },
   {
    "duration": 423,
    "start_time": "2023-01-11T14:35:55.863Z"
   },
   {
    "duration": 510,
    "start_time": "2023-01-11T14:36:18.343Z"
   },
   {
    "duration": 492,
    "start_time": "2023-01-11T14:36:36.183Z"
   },
   {
    "duration": 452,
    "start_time": "2023-01-11T14:36:46.638Z"
   },
   {
    "duration": 393,
    "start_time": "2023-01-11T14:36:55.732Z"
   },
   {
    "duration": 415,
    "start_time": "2023-01-11T14:37:03.182Z"
   },
   {
    "duration": 513,
    "start_time": "2023-01-11T14:37:21.483Z"
   },
   {
    "duration": 472,
    "start_time": "2023-01-11T14:37:37.642Z"
   },
   {
    "duration": 411,
    "start_time": "2023-01-11T14:37:51.403Z"
   },
   {
    "duration": 406,
    "start_time": "2023-01-11T14:38:30.243Z"
   },
   {
    "duration": 525,
    "start_time": "2023-01-11T14:39:05.367Z"
   },
   {
    "duration": 405,
    "start_time": "2023-01-11T14:39:41.083Z"
   },
   {
    "duration": 477,
    "start_time": "2023-01-11T14:40:18.827Z"
   },
   {
    "duration": 534,
    "start_time": "2023-01-11T14:40:30.264Z"
   },
   {
    "duration": 541,
    "start_time": "2023-01-11T14:41:18.982Z"
   },
   {
    "duration": 409,
    "start_time": "2023-01-11T14:41:20.604Z"
   },
   {
    "duration": 544,
    "start_time": "2023-01-11T14:41:22.168Z"
   },
   {
    "duration": 645,
    "start_time": "2023-01-11T14:41:24.231Z"
   },
   {
    "duration": 464,
    "start_time": "2023-01-11T14:42:05.682Z"
   },
   {
    "duration": 422,
    "start_time": "2023-01-11T14:42:13.468Z"
   },
   {
    "duration": 442,
    "start_time": "2023-01-11T14:42:24.158Z"
   },
   {
    "duration": 586,
    "start_time": "2023-01-11T14:42:30.942Z"
   },
   {
    "duration": 405,
    "start_time": "2023-01-11T14:42:43.527Z"
   },
   {
    "duration": 7,
    "start_time": "2023-01-11T14:54:52.532Z"
   },
   {
    "duration": 5,
    "start_time": "2023-01-11T14:55:57.057Z"
   },
   {
    "duration": 6,
    "start_time": "2023-01-11T14:57:37.443Z"
   },
   {
    "duration": 131,
    "start_time": "2023-01-11T15:00:19.267Z"
   },
   {
    "duration": 5,
    "start_time": "2023-01-11T15:01:47.158Z"
   },
   {
    "duration": 5,
    "start_time": "2023-01-11T15:02:08.062Z"
   },
   {
    "duration": 73,
    "start_time": "2023-01-11T15:02:09.163Z"
   },
   {
    "duration": 1444,
    "start_time": "2023-01-12T19:08:23.570Z"
   },
   {
    "duration": 612,
    "start_time": "2023-01-12T19:08:25.016Z"
   },
   {
    "duration": 229,
    "start_time": "2023-01-12T19:08:25.630Z"
   },
   {
    "duration": 224,
    "start_time": "2023-01-12T19:08:25.861Z"
   },
   {
    "duration": 16,
    "start_time": "2023-01-12T19:08:28.632Z"
   },
   {
    "duration": 50,
    "start_time": "2023-01-12T19:08:29.611Z"
   },
   {
    "duration": 38,
    "start_time": "2023-01-12T19:08:30.728Z"
   },
   {
    "duration": 46,
    "start_time": "2023-01-12T19:08:31.528Z"
   },
   {
    "duration": 10,
    "start_time": "2023-01-12T19:08:33.156Z"
   },
   {
    "duration": 486,
    "start_time": "2023-01-12T19:08:34.221Z"
   },
   {
    "duration": 453,
    "start_time": "2023-01-12T19:08:35.248Z"
   },
   {
    "duration": 624,
    "start_time": "2023-01-12T19:08:36.232Z"
   },
   {
    "duration": 448,
    "start_time": "2023-01-12T19:08:37.208Z"
   },
   {
    "duration": 6,
    "start_time": "2023-01-12T19:08:45.001Z"
   },
   {
    "duration": 10,
    "start_time": "2023-01-12T19:09:01.240Z"
   },
   {
    "duration": 6,
    "start_time": "2023-01-12T19:09:11.150Z"
   },
   {
    "duration": 5,
    "start_time": "2023-01-12T19:09:29.404Z"
   },
   {
    "duration": 5,
    "start_time": "2023-01-12T19:10:06.678Z"
   },
   {
    "duration": 7,
    "start_time": "2023-01-12T19:10:25.859Z"
   },
   {
    "duration": 124,
    "start_time": "2023-01-12T19:10:46.551Z"
   },
   {
    "duration": 5,
    "start_time": "2023-01-12T19:10:59.539Z"
   },
   {
    "duration": 5,
    "start_time": "2023-01-12T19:11:10.481Z"
   },
   {
    "duration": 6,
    "start_time": "2023-01-12T19:11:44.375Z"
   },
   {
    "duration": 43,
    "start_time": "2023-01-12T19:34:45.274Z"
   },
   {
    "duration": 3,
    "start_time": "2023-01-12T19:34:48.699Z"
   },
   {
    "duration": 49,
    "start_time": "2023-01-12T19:41:55.087Z"
   },
   {
    "duration": 39,
    "start_time": "2023-01-12T19:42:53.781Z"
   },
   {
    "duration": 6,
    "start_time": "2023-01-12T19:44:30.654Z"
   },
   {
    "duration": 23,
    "start_time": "2023-01-12T19:45:00.262Z"
   },
   {
    "duration": 15,
    "start_time": "2023-01-12T19:47:08.708Z"
   },
   {
    "duration": 25,
    "start_time": "2023-01-12T19:47:24.131Z"
   },
   {
    "duration": 12,
    "start_time": "2023-01-12T19:47:47.861Z"
   },
   {
    "duration": 6,
    "start_time": "2023-01-12T19:48:23.143Z"
   },
   {
    "duration": 27,
    "start_time": "2023-01-12T19:48:24.483Z"
   },
   {
    "duration": 5,
    "start_time": "2023-01-12T19:56:53.249Z"
   },
   {
    "duration": 23,
    "start_time": "2023-01-12T19:56:54.951Z"
   },
   {
    "duration": 13,
    "start_time": "2023-01-12T20:00:20.444Z"
   },
   {
    "duration": 30,
    "start_time": "2023-01-12T20:01:31.189Z"
   },
   {
    "duration": 33,
    "start_time": "2023-01-12T20:04:26.246Z"
   },
   {
    "duration": 26,
    "start_time": "2023-01-12T20:12:14.751Z"
   },
   {
    "duration": 43,
    "start_time": "2023-01-12T20:25:26.421Z"
   },
   {
    "duration": 24,
    "start_time": "2023-01-12T20:27:08.564Z"
   },
   {
    "duration": 405,
    "start_time": "2023-01-12T20:27:33.174Z"
   },
   {
    "duration": 46,
    "start_time": "2023-01-12T20:28:50.080Z"
   },
   {
    "duration": 33,
    "start_time": "2023-01-12T20:32:33.899Z"
   },
   {
    "duration": 31,
    "start_time": "2023-01-12T20:32:36.408Z"
   },
   {
    "duration": 5,
    "start_time": "2023-01-12T20:47:53.301Z"
   },
   {
    "duration": 30,
    "start_time": "2023-01-12T20:47:54.784Z"
   },
   {
    "duration": 5,
    "start_time": "2023-01-12T20:49:03.750Z"
   },
   {
    "duration": 32,
    "start_time": "2023-01-12T20:49:05.887Z"
   },
   {
    "duration": 5,
    "start_time": "2023-01-12T20:49:24.168Z"
   },
   {
    "duration": 22,
    "start_time": "2023-01-12T20:49:25.191Z"
   },
   {
    "duration": 4,
    "start_time": "2023-01-12T20:55:22.258Z"
   },
   {
    "duration": 33,
    "start_time": "2023-01-12T20:55:23.198Z"
   },
   {
    "duration": 6,
    "start_time": "2023-01-12T20:56:18.241Z"
   },
   {
    "duration": 26,
    "start_time": "2023-01-12T20:56:19.129Z"
   },
   {
    "duration": 22,
    "start_time": "2023-01-12T20:56:58.473Z"
   },
   {
    "duration": 24,
    "start_time": "2023-01-12T20:57:18.911Z"
   },
   {
    "duration": 20,
    "start_time": "2023-01-12T20:57:41.728Z"
   },
   {
    "duration": 31,
    "start_time": "2023-01-12T20:58:48.496Z"
   },
   {
    "duration": 71,
    "start_time": "2023-01-12T20:59:03.862Z"
   },
   {
    "duration": 78,
    "start_time": "2023-01-12T20:59:10.446Z"
   },
   {
    "duration": 21,
    "start_time": "2023-01-12T20:59:26.557Z"
   },
   {
    "duration": 19,
    "start_time": "2023-01-12T20:59:37.481Z"
   },
   {
    "duration": 4,
    "start_time": "2023-01-12T21:01:21.774Z"
   },
   {
    "duration": 76,
    "start_time": "2023-01-12T21:01:22.752Z"
   },
   {
    "duration": 105,
    "start_time": "2023-01-12T21:03:10.008Z"
   },
   {
    "duration": 224,
    "start_time": "2023-01-12T21:05:00.696Z"
   },
   {
    "duration": 5,
    "start_time": "2023-01-12T21:05:28.024Z"
   },
   {
    "duration": 283,
    "start_time": "2023-01-12T21:05:28.639Z"
   },
   {
    "duration": 10,
    "start_time": "2023-01-12T21:19:37.483Z"
   },
   {
    "duration": 10,
    "start_time": "2023-01-12T21:20:07.154Z"
   },
   {
    "duration": 5,
    "start_time": "2023-01-12T21:22:24.670Z"
   },
   {
    "duration": 207,
    "start_time": "2023-01-12T21:22:26.127Z"
   },
   {
    "duration": 9,
    "start_time": "2023-01-12T21:22:27.524Z"
   },
   {
    "duration": 2,
    "start_time": "2023-01-12T21:36:17.657Z"
   },
   {
    "duration": 3,
    "start_time": "2023-01-12T21:38:19.311Z"
   },
   {
    "duration": 4,
    "start_time": "2023-01-12T21:38:20.208Z"
   },
   {
    "duration": 6,
    "start_time": "2023-01-12T21:39:32.023Z"
   },
   {
    "duration": 4,
    "start_time": "2023-01-12T21:49:37.101Z"
   },
   {
    "duration": 441,
    "start_time": "2023-01-12T21:49:38.858Z"
   },
   {
    "duration": 554,
    "start_time": "2023-01-12T21:50:44.079Z"
   },
   {
    "duration": 4,
    "start_time": "2023-01-12T21:51:43.448Z"
   },
   {
    "duration": 484,
    "start_time": "2023-01-12T21:51:44.472Z"
   },
   {
    "duration": 529,
    "start_time": "2023-01-12T21:51:46.035Z"
   },
   {
    "duration": 468,
    "start_time": "2023-01-12T21:52:14.862Z"
   },
   {
    "duration": 604,
    "start_time": "2023-01-12T21:52:36.556Z"
   },
   {
    "duration": 6,
    "start_time": "2023-01-12T21:52:47.126Z"
   },
   {
    "duration": 407,
    "start_time": "2023-01-12T21:55:06.762Z"
   },
   {
    "duration": 386,
    "start_time": "2023-01-12T21:55:57.524Z"
   },
   {
    "duration": 377,
    "start_time": "2023-01-12T21:56:27.962Z"
   },
   {
    "duration": 533,
    "start_time": "2023-01-12T21:56:29.797Z"
   },
   {
    "duration": 394,
    "start_time": "2023-01-12T21:56:48.287Z"
   },
   {
    "duration": 399,
    "start_time": "2023-01-12T21:56:49.548Z"
   },
   {
    "duration": 577,
    "start_time": "2023-01-12T21:57:05.862Z"
   },
   {
    "duration": 416,
    "start_time": "2023-01-12T21:57:22.305Z"
   },
   {
    "duration": 476,
    "start_time": "2023-01-12T21:57:31.176Z"
   },
   {
    "duration": 415,
    "start_time": "2023-01-12T21:58:58.815Z"
   },
   {
    "duration": 538,
    "start_time": "2023-01-12T22:00:04.884Z"
   },
   {
    "duration": 426,
    "start_time": "2023-01-12T22:00:15.067Z"
   },
   {
    "duration": 483,
    "start_time": "2023-01-12T22:00:29.051Z"
   },
   {
    "duration": 449,
    "start_time": "2023-01-12T22:00:37.241Z"
   },
   {
    "duration": 436,
    "start_time": "2023-01-12T22:01:23.137Z"
   },
   {
    "duration": 313,
    "start_time": "2023-01-12T22:01:33.004Z"
   },
   {
    "duration": 313,
    "start_time": "2023-01-12T22:01:40.229Z"
   },
   {
    "duration": 405,
    "start_time": "2023-01-12T22:02:14.941Z"
   },
   {
    "duration": 492,
    "start_time": "2023-01-12T22:02:29.461Z"
   },
   {
    "duration": 488,
    "start_time": "2023-01-12T22:02:36.955Z"
   },
   {
    "duration": 321,
    "start_time": "2023-01-12T22:02:44.332Z"
   },
   {
    "duration": 444,
    "start_time": "2023-01-12T22:02:55.536Z"
   },
   {
    "duration": 562,
    "start_time": "2023-01-12T22:03:00.891Z"
   },
   {
    "duration": 459,
    "start_time": "2023-01-12T22:03:08.671Z"
   },
   {
    "duration": 433,
    "start_time": "2023-01-12T22:03:14.829Z"
   },
   {
    "duration": 442,
    "start_time": "2023-01-12T22:03:29.839Z"
   },
   {
    "duration": 49,
    "start_time": "2023-01-13T10:17:30.805Z"
   },
   {
    "duration": 1247,
    "start_time": "2023-01-13T10:17:40.830Z"
   },
   {
    "duration": 138,
    "start_time": "2023-01-13T10:17:42.079Z"
   },
   {
    "duration": 121,
    "start_time": "2023-01-13T10:17:42.729Z"
   },
   {
    "duration": 139,
    "start_time": "2023-01-13T10:17:43.760Z"
   },
   {
    "duration": 17,
    "start_time": "2023-01-13T10:17:53.006Z"
   },
   {
    "duration": 46,
    "start_time": "2023-01-13T10:17:54.350Z"
   },
   {
    "duration": 44,
    "start_time": "2023-01-13T10:17:55.705Z"
   },
   {
    "duration": 37,
    "start_time": "2023-01-13T10:17:56.870Z"
   },
   {
    "duration": 11,
    "start_time": "2023-01-13T10:18:00.886Z"
   },
   {
    "duration": 5,
    "start_time": "2023-01-13T10:18:02.605Z"
   },
   {
    "duration": 526,
    "start_time": "2023-01-13T10:18:03.972Z"
   },
   {
    "duration": 495,
    "start_time": "2023-01-13T10:18:05.656Z"
   },
   {
    "duration": 493,
    "start_time": "2023-01-13T10:18:07.365Z"
   },
   {
    "duration": 404,
    "start_time": "2023-01-13T10:18:09.336Z"
   },
   {
    "duration": 6,
    "start_time": "2023-01-13T10:18:11.315Z"
   },
   {
    "duration": 40,
    "start_time": "2023-01-13T10:18:17.225Z"
   },
   {
    "duration": 20,
    "start_time": "2023-01-13T10:18:18.980Z"
   },
   {
    "duration": 35,
    "start_time": "2023-01-13T10:18:21.466Z"
   },
   {
    "duration": 13,
    "start_time": "2023-01-13T10:18:24.235Z"
   },
   {
    "duration": 16,
    "start_time": "2023-01-13T10:18:31.475Z"
   },
   {
    "duration": 5,
    "start_time": "2023-01-13T10:18:41.596Z"
   },
   {
    "duration": 174,
    "start_time": "2023-01-13T10:18:45.521Z"
   },
   {
    "duration": 10,
    "start_time": "2023-01-13T10:19:02.897Z"
   },
   {
    "duration": 2,
    "start_time": "2023-01-13T10:19:17.471Z"
   },
   {
    "duration": 5,
    "start_time": "2023-01-13T10:19:18.905Z"
   },
   {
    "duration": 463,
    "start_time": "2023-01-13T10:19:25.895Z"
   },
   {
    "duration": 509,
    "start_time": "2023-01-13T10:19:28.185Z"
   },
   {
    "duration": 428,
    "start_time": "2023-01-13T10:19:30.881Z"
   },
   {
    "duration": 6,
    "start_time": "2023-01-13T10:43:06.525Z"
   },
   {
    "duration": 70,
    "start_time": "2023-01-13T10:43:08.910Z"
   },
   {
    "duration": 3,
    "start_time": "2023-01-13T10:43:46.150Z"
   },
   {
    "duration": 5,
    "start_time": "2023-01-13T10:43:49.821Z"
   },
   {
    "duration": 18,
    "start_time": "2023-01-13T10:43:50.970Z"
   },
   {
    "duration": 4,
    "start_time": "2023-01-13T10:44:23.080Z"
   },
   {
    "duration": 6,
    "start_time": "2023-01-13T10:44:26.701Z"
   },
   {
    "duration": 954,
    "start_time": "2023-01-13T10:44:27.626Z"
   },
   {
    "duration": 6,
    "start_time": "2023-01-13T10:44:40.310Z"
   },
   {
    "duration": 860,
    "start_time": "2023-01-13T10:44:42.601Z"
   },
   {
    "duration": 5,
    "start_time": "2023-01-13T10:45:24.486Z"
   },
   {
    "duration": 919,
    "start_time": "2023-01-13T10:45:25.260Z"
   },
   {
    "duration": 2540,
    "start_time": "2023-01-13T10:49:42.946Z"
   },
   {
    "duration": 7,
    "start_time": "2023-01-13T10:50:04.032Z"
   },
   {
    "duration": 2674,
    "start_time": "2023-01-13T10:50:04.805Z"
   },
   {
    "duration": 1530,
    "start_time": "2023-01-14T11:19:46.926Z"
   },
   {
    "duration": 168,
    "start_time": "2023-01-14T11:19:48.458Z"
   },
   {
    "duration": 136,
    "start_time": "2023-01-14T11:19:48.627Z"
   },
   {
    "duration": 166,
    "start_time": "2023-01-14T11:19:48.978Z"
   },
   {
    "duration": 18,
    "start_time": "2023-01-14T11:20:10.102Z"
   },
   {
    "duration": 49,
    "start_time": "2023-01-14T11:20:28.099Z"
   },
   {
    "duration": 35,
    "start_time": "2023-01-14T11:20:29.350Z"
   },
   {
    "duration": 36,
    "start_time": "2023-01-14T11:20:51.052Z"
   },
   {
    "duration": 11,
    "start_time": "2023-01-14T11:20:52.406Z"
   },
   {
    "duration": 4,
    "start_time": "2023-01-14T11:20:52.925Z"
   },
   {
    "duration": 463,
    "start_time": "2023-01-14T11:20:53.616Z"
   },
   {
    "duration": 467,
    "start_time": "2023-01-14T11:20:54.113Z"
   },
   {
    "duration": 563,
    "start_time": "2023-01-14T11:20:55.449Z"
   },
   {
    "duration": 505,
    "start_time": "2023-01-14T11:20:56.015Z"
   },
   {
    "duration": 6,
    "start_time": "2023-01-14T11:20:56.875Z"
   },
   {
    "duration": 53,
    "start_time": "2023-01-14T11:21:03.783Z"
   },
   {
    "duration": 17,
    "start_time": "2023-01-14T11:21:04.961Z"
   },
   {
    "duration": 47,
    "start_time": "2023-01-14T11:21:37.952Z"
   },
   {
    "duration": 17,
    "start_time": "2023-01-14T11:21:40.446Z"
   },
   {
    "duration": 16,
    "start_time": "2023-01-14T11:21:41.570Z"
   },
   {
    "duration": 5,
    "start_time": "2023-01-14T11:21:47.624Z"
   },
   {
    "duration": 233,
    "start_time": "2023-01-14T11:21:48.920Z"
   },
   {
    "duration": 10,
    "start_time": "2023-01-14T11:21:54.908Z"
   },
   {
    "duration": 3,
    "start_time": "2023-01-14T11:21:58.223Z"
   },
   {
    "duration": 6,
    "start_time": "2023-01-14T11:22:01.578Z"
   },
   {
    "duration": 443,
    "start_time": "2023-01-14T11:22:02.321Z"
   },
   {
    "duration": 526,
    "start_time": "2023-01-14T11:22:02.867Z"
   },
   {
    "duration": 442,
    "start_time": "2023-01-14T11:22:03.395Z"
   },
   {
    "duration": 3,
    "start_time": "2023-01-14T11:22:04.101Z"
   },
   {
    "duration": 6,
    "start_time": "2023-01-14T11:22:41.640Z"
   },
   {
    "duration": 2830,
    "start_time": "2023-01-14T11:22:44.282Z"
   },
   {
    "duration": 6,
    "start_time": "2023-01-14T11:23:54.700Z"
   },
   {
    "duration": 4121,
    "start_time": "2023-01-14T11:23:56.409Z"
   },
   {
    "duration": 6,
    "start_time": "2023-01-14T11:29:43.655Z"
   },
   {
    "duration": 4304,
    "start_time": "2023-01-14T11:29:44.569Z"
   },
   {
    "duration": 11,
    "start_time": "2023-01-14T11:32:09.709Z"
   },
   {
    "duration": 18,
    "start_time": "2023-01-14T11:33:17.776Z"
   },
   {
    "duration": 5,
    "start_time": "2023-01-14T11:41:07.964Z"
   },
   {
    "duration": 212,
    "start_time": "2023-01-14T11:41:08.870Z"
   },
   {
    "duration": 152,
    "start_time": "2023-01-14T11:41:09.919Z"
   },
   {
    "duration": 150,
    "start_time": "2023-01-14T11:41:10.941Z"
   },
   {
    "duration": 15,
    "start_time": "2023-01-14T11:41:13.041Z"
   },
   {
    "duration": 56,
    "start_time": "2023-01-14T11:41:13.979Z"
   },
   {
    "duration": 54,
    "start_time": "2023-01-14T11:41:14.997Z"
   },
   {
    "duration": 46,
    "start_time": "2023-01-14T11:41:15.844Z"
   },
   {
    "duration": 11,
    "start_time": "2023-01-14T11:41:17.443Z"
   },
   {
    "duration": 4,
    "start_time": "2023-01-14T11:41:18.304Z"
   },
   {
    "duration": 509,
    "start_time": "2023-01-14T11:41:19.321Z"
   },
   {
    "duration": 456,
    "start_time": "2023-01-14T11:41:20.085Z"
   },
   {
    "duration": 630,
    "start_time": "2023-01-14T11:41:21.287Z"
   },
   {
    "duration": 436,
    "start_time": "2023-01-14T11:41:21.953Z"
   },
   {
    "duration": 7,
    "start_time": "2023-01-14T11:41:22.992Z"
   },
   {
    "duration": 53,
    "start_time": "2023-01-14T11:41:25.821Z"
   },
   {
    "duration": 17,
    "start_time": "2023-01-14T11:41:26.761Z"
   },
   {
    "duration": 82,
    "start_time": "2023-01-14T11:41:27.760Z"
   },
   {
    "duration": 37,
    "start_time": "2023-01-14T11:41:29.676Z"
   },
   {
    "duration": 14,
    "start_time": "2023-01-14T11:41:30.624Z"
   },
   {
    "duration": 7,
    "start_time": "2023-01-14T11:41:32.822Z"
   },
   {
    "duration": 150,
    "start_time": "2023-01-14T11:41:34.200Z"
   },
   {
    "duration": 12,
    "start_time": "2023-01-14T11:41:34.776Z"
   },
   {
    "duration": 3,
    "start_time": "2023-01-14T11:41:37.158Z"
   },
   {
    "duration": 7,
    "start_time": "2023-01-14T11:41:38.197Z"
   },
   {
    "duration": 510,
    "start_time": "2023-01-14T11:41:39.068Z"
   },
   {
    "duration": 431,
    "start_time": "2023-01-14T11:41:40.052Z"
   },
   {
    "duration": 564,
    "start_time": "2023-01-14T11:41:41.110Z"
   },
   {
    "duration": 6,
    "start_time": "2023-01-14T11:41:42.288Z"
   },
   {
    "duration": 11,
    "start_time": "2023-01-14T11:41:45.848Z"
   },
   {
    "duration": 22,
    "start_time": "2023-01-14T11:41:47.287Z"
   },
   {
    "duration": 4708,
    "start_time": "2023-01-14T11:41:48.763Z"
   },
   {
    "duration": 6,
    "start_time": "2023-01-14T11:47:27.882Z"
   },
   {
    "duration": 43,
    "start_time": "2023-01-14T11:47:29.709Z"
   },
   {
    "duration": 20,
    "start_time": "2023-01-14T11:47:36.756Z"
   },
   {
    "duration": 64,
    "start_time": "2023-01-14T11:47:38.709Z"
   },
   {
    "duration": 17,
    "start_time": "2023-01-14T11:47:40.255Z"
   },
   {
    "duration": 13,
    "start_time": "2023-01-14T11:47:40.881Z"
   },
   {
    "duration": 6,
    "start_time": "2023-01-14T11:47:42.377Z"
   },
   {
    "duration": 202,
    "start_time": "2023-01-14T11:47:43.256Z"
   },
   {
    "duration": 11,
    "start_time": "2023-01-14T11:47:44.628Z"
   },
   {
    "duration": 4,
    "start_time": "2023-01-14T11:47:47.672Z"
   },
   {
    "duration": 5,
    "start_time": "2023-01-14T11:47:48.206Z"
   },
   {
    "duration": 656,
    "start_time": "2023-01-14T11:47:48.804Z"
   },
   {
    "duration": 525,
    "start_time": "2023-01-14T11:47:49.465Z"
   },
   {
    "duration": 644,
    "start_time": "2023-01-14T11:47:50.022Z"
   },
   {
    "duration": 4,
    "start_time": "2023-01-14T11:47:50.668Z"
   },
   {
    "duration": 8,
    "start_time": "2023-01-14T11:47:54.958Z"
   },
   {
    "duration": 19,
    "start_time": "2023-01-14T11:47:56.098Z"
   },
   {
    "duration": 4815,
    "start_time": "2023-01-14T11:47:57.211Z"
   },
   {
    "duration": 6,
    "start_time": "2023-01-14T11:49:33.925Z"
   },
   {
    "duration": 4269,
    "start_time": "2023-01-14T11:49:35.398Z"
   },
   {
    "duration": 4,
    "start_time": "2023-01-14T11:50:15.698Z"
   },
   {
    "duration": 8,
    "start_time": "2023-01-14T11:50:16.254Z"
   },
   {
    "duration": 4371,
    "start_time": "2023-01-14T11:50:17.373Z"
   },
   {
    "duration": 6,
    "start_time": "2023-01-14T11:52:27.197Z"
   },
   {
    "duration": 145,
    "start_time": "2023-01-14T11:52:28.246Z"
   },
   {
    "duration": 145,
    "start_time": "2023-01-14T11:52:29.425Z"
   },
   {
    "duration": 171,
    "start_time": "2023-01-14T11:52:30.666Z"
   },
   {
    "duration": 15,
    "start_time": "2023-01-14T11:52:33.318Z"
   },
   {
    "duration": 39,
    "start_time": "2023-01-14T11:52:35.587Z"
   },
   {
    "duration": 48,
    "start_time": "2023-01-14T11:52:36.765Z"
   },
   {
    "duration": 44,
    "start_time": "2023-01-14T11:52:42.074Z"
   },
   {
    "duration": 11,
    "start_time": "2023-01-14T11:52:46.562Z"
   },
   {
    "duration": 5,
    "start_time": "2023-01-14T11:52:47.776Z"
   },
   {
    "duration": 453,
    "start_time": "2023-01-14T11:52:49.364Z"
   },
   {
    "duration": 428,
    "start_time": "2023-01-14T11:52:50.588Z"
   },
   {
    "duration": 436,
    "start_time": "2023-01-14T11:52:51.968Z"
   },
   {
    "duration": 587,
    "start_time": "2023-01-14T11:52:53.544Z"
   },
   {
    "duration": 7,
    "start_time": "2023-01-14T11:52:55.507Z"
   },
   {
    "duration": 4,
    "start_time": "2023-01-14T11:53:05.603Z"
   },
   {
    "duration": 46,
    "start_time": "2023-01-14T11:53:10.993Z"
   },
   {
    "duration": 118,
    "start_time": "2023-01-14T11:53:19.230Z"
   },
   {
    "duration": 43,
    "start_time": "2023-01-14T11:53:22.798Z"
   },
   {
    "duration": 48,
    "start_time": "2023-01-14T11:54:06.607Z"
   },
   {
    "duration": 15,
    "start_time": "2023-01-14T11:54:10.613Z"
   },
   {
    "duration": 13,
    "start_time": "2023-01-14T11:54:11.446Z"
   },
   {
    "duration": 5,
    "start_time": "2023-01-14T11:54:13.865Z"
   },
   {
    "duration": 145,
    "start_time": "2023-01-14T11:54:14.806Z"
   },
   {
    "duration": 14,
    "start_time": "2023-01-14T11:54:15.852Z"
   },
   {
    "duration": 2,
    "start_time": "2023-01-14T11:54:18.682Z"
   },
   {
    "duration": 6,
    "start_time": "2023-01-14T11:54:19.521Z"
   },
   {
    "duration": 463,
    "start_time": "2023-01-14T11:54:20.147Z"
   },
   {
    "duration": 437,
    "start_time": "2023-01-14T11:54:20.945Z"
   },
   {
    "duration": 434,
    "start_time": "2023-01-14T11:54:21.882Z"
   },
   {
    "duration": 4,
    "start_time": "2023-01-14T11:54:24.244Z"
   },
   {
    "duration": 6,
    "start_time": "2023-01-14T11:54:25.322Z"
   },
   {
    "duration": 4491,
    "start_time": "2023-01-14T11:54:26.510Z"
   },
   {
    "duration": 52,
    "start_time": "2023-01-14T11:54:52.951Z"
   },
   {
    "duration": 1370,
    "start_time": "2023-01-14T11:54:55.853Z"
   },
   {
    "duration": 168,
    "start_time": "2023-01-14T11:54:57.225Z"
   },
   {
    "duration": 154,
    "start_time": "2023-01-14T11:54:58.195Z"
   },
   {
    "duration": 175,
    "start_time": "2023-01-14T11:54:58.997Z"
   },
   {
    "duration": 19,
    "start_time": "2023-01-14T11:55:01.002Z"
   },
   {
    "duration": 44,
    "start_time": "2023-01-14T11:55:01.944Z"
   },
   {
    "duration": 44,
    "start_time": "2023-01-14T11:55:02.927Z"
   },
   {
    "duration": 36,
    "start_time": "2023-01-14T11:55:03.957Z"
   },
   {
    "duration": 12,
    "start_time": "2023-01-14T11:55:05.809Z"
   },
   {
    "duration": 5,
    "start_time": "2023-01-14T11:55:06.781Z"
   },
   {
    "duration": 502,
    "start_time": "2023-01-14T11:55:07.829Z"
   },
   {
    "duration": 561,
    "start_time": "2023-01-14T11:55:09.091Z"
   },
   {
    "duration": 590,
    "start_time": "2023-01-14T11:55:10.552Z"
   },
   {
    "duration": 464,
    "start_time": "2023-01-14T11:55:12.044Z"
   },
   {
    "duration": 7,
    "start_time": "2023-01-14T11:55:13.261Z"
   },
   {
    "duration": 7,
    "start_time": "2023-01-14T11:55:16.747Z"
   },
   {
    "duration": 67,
    "start_time": "2023-01-14T11:55:17.849Z"
   },
   {
    "duration": 102,
    "start_time": "2023-01-14T11:55:19.162Z"
   },
   {
    "duration": 54,
    "start_time": "2023-01-14T11:55:20.213Z"
   },
   {
    "duration": 23,
    "start_time": "2023-01-14T11:55:22.306Z"
   },
   {
    "duration": 20,
    "start_time": "2023-01-14T11:55:23.355Z"
   },
   {
    "duration": 6,
    "start_time": "2023-01-14T11:55:25.053Z"
   },
   {
    "duration": 491,
    "start_time": "2023-01-14T11:55:26.254Z"
   },
   {
    "duration": 10,
    "start_time": "2023-01-14T11:55:28.076Z"
   },
   {
    "duration": 3,
    "start_time": "2023-01-14T11:55:30.999Z"
   },
   {
    "duration": 6,
    "start_time": "2023-01-14T11:55:31.943Z"
   },
   {
    "duration": 466,
    "start_time": "2023-01-14T11:55:32.852Z"
   },
   {
    "duration": 614,
    "start_time": "2023-01-14T11:55:34.556Z"
   },
   {
    "duration": 460,
    "start_time": "2023-01-14T11:55:35.286Z"
   },
   {
    "duration": 6,
    "start_time": "2023-01-14T11:55:41.852Z"
   },
   {
    "duration": 6,
    "start_time": "2023-01-14T11:55:42.753Z"
   },
   {
    "duration": 4895,
    "start_time": "2023-01-14T11:55:44.006Z"
   },
   {
    "duration": 153,
    "start_time": "2023-01-14T11:59:30.619Z"
   },
   {
    "duration": 173,
    "start_time": "2023-01-14T11:59:31.797Z"
   },
   {
    "duration": 152,
    "start_time": "2023-01-14T11:59:32.313Z"
   },
   {
    "duration": 17,
    "start_time": "2023-01-14T11:59:33.860Z"
   },
   {
    "duration": 46,
    "start_time": "2023-01-14T11:59:34.756Z"
   },
   {
    "duration": 40,
    "start_time": "2023-01-14T11:59:35.108Z"
   },
   {
    "duration": 45,
    "start_time": "2023-01-14T11:59:35.791Z"
   },
   {
    "duration": 11,
    "start_time": "2023-01-14T11:59:36.858Z"
   },
   {
    "duration": 7,
    "start_time": "2023-01-14T11:59:37.398Z"
   },
   {
    "duration": 446,
    "start_time": "2023-01-14T11:59:38.061Z"
   },
   {
    "duration": 520,
    "start_time": "2023-01-14T11:59:38.580Z"
   },
   {
    "duration": 592,
    "start_time": "2023-01-14T11:59:39.167Z"
   },
   {
    "duration": 476,
    "start_time": "2023-01-14T11:59:39.761Z"
   },
   {
    "duration": 6,
    "start_time": "2023-01-14T11:59:41.032Z"
   },
   {
    "duration": 70,
    "start_time": "2023-01-14T12:02:46.751Z"
   },
   {
    "duration": 20,
    "start_time": "2023-01-14T12:02:55.416Z"
   },
   {
    "duration": 15,
    "start_time": "2023-01-14T12:02:55.964Z"
   },
   {
    "duration": 5,
    "start_time": "2023-01-14T12:03:13.954Z"
   },
   {
    "duration": 253,
    "start_time": "2023-01-14T12:03:14.289Z"
   },
   {
    "duration": 9,
    "start_time": "2023-01-14T12:03:15.201Z"
   },
   {
    "duration": 3,
    "start_time": "2023-01-14T12:03:37.486Z"
   },
   {
    "duration": 6,
    "start_time": "2023-01-14T12:03:38.128Z"
   },
   {
    "duration": 435,
    "start_time": "2023-01-14T12:04:42.267Z"
   },
   {
    "duration": 431,
    "start_time": "2023-01-14T12:04:43.487Z"
   },
   {
    "duration": 565,
    "start_time": "2023-01-14T12:04:44.648Z"
   },
   {
    "duration": 3,
    "start_time": "2023-01-14T12:05:06.478Z"
   },
   {
    "duration": 6,
    "start_time": "2023-01-14T12:05:08.258Z"
   },
   {
    "duration": 4233,
    "start_time": "2023-01-14T12:05:18.860Z"
   },
   {
    "duration": 89,
    "start_time": "2023-01-14T12:06:04.560Z"
   },
   {
    "duration": 1294,
    "start_time": "2023-01-14T12:10:05.286Z"
   },
   {
    "duration": 4940,
    "start_time": "2023-01-14T12:10:19.054Z"
   },
   {
    "duration": 586,
    "start_time": "2023-01-14T12:13:30.294Z"
   },
   {
    "duration": 71,
    "start_time": "2023-01-14T12:16:53.856Z"
   },
   {
    "duration": 11,
    "start_time": "2023-01-14T12:17:00.369Z"
   },
   {
    "duration": 14,
    "start_time": "2023-01-14T12:17:38.480Z"
   },
   {
    "duration": 15622,
    "start_time": "2023-01-14T12:23:08.689Z"
   },
   {
    "duration": 8633,
    "start_time": "2023-01-14T12:23:28.878Z"
   },
   {
    "duration": 17,
    "start_time": "2023-01-14T12:39:22.222Z"
   },
   {
    "duration": 19,
    "start_time": "2023-01-14T12:39:47.388Z"
   },
   {
    "duration": 18,
    "start_time": "2023-01-14T12:40:08.696Z"
   },
   {
    "duration": 22,
    "start_time": "2023-01-14T12:40:32.037Z"
   },
   {
    "duration": 25,
    "start_time": "2023-01-14T12:40:47.309Z"
   },
   {
    "duration": 25,
    "start_time": "2023-01-14T12:41:17.717Z"
   },
   {
    "duration": 30,
    "start_time": "2023-01-14T12:41:54.832Z"
   },
   {
    "duration": 45,
    "start_time": "2023-01-14T12:42:24.714Z"
   },
   {
    "duration": 41,
    "start_time": "2023-01-14T12:42:51.533Z"
   },
   {
    "duration": 33,
    "start_time": "2023-01-14T12:43:10.041Z"
   },
   {
    "duration": 40,
    "start_time": "2023-01-14T12:43:41.756Z"
   },
   {
    "duration": 67,
    "start_time": "2023-01-14T12:44:33.351Z"
   },
   {
    "duration": 7,
    "start_time": "2023-01-14T12:45:51.389Z"
   },
   {
    "duration": 4,
    "start_time": "2023-01-14T12:46:08.349Z"
   },
   {
    "duration": 84,
    "start_time": "2023-01-14T12:46:09.590Z"
   },
   {
    "duration": 195,
    "start_time": "2023-01-14T12:46:59.651Z"
   },
   {
    "duration": 33,
    "start_time": "2023-01-14T12:47:11.139Z"
   },
   {
    "duration": 114,
    "start_time": "2023-01-14T12:47:38.124Z"
   },
   {
    "duration": 5,
    "start_time": "2023-01-14T12:50:12.580Z"
   },
   {
    "duration": 425,
    "start_time": "2023-01-14T12:50:13.528Z"
   },
   {
    "duration": 6,
    "start_time": "2023-01-14T12:50:55.825Z"
   },
   {
    "duration": 375,
    "start_time": "2023-01-14T12:50:57.064Z"
   },
   {
    "duration": 5,
    "start_time": "2023-01-14T12:52:44.355Z"
   },
   {
    "duration": 54,
    "start_time": "2023-01-14T12:52:45.062Z"
   },
   {
    "duration": 3,
    "start_time": "2023-01-14T12:53:38.470Z"
   },
   {
    "duration": 7,
    "start_time": "2023-01-14T12:53:39.175Z"
   },
   {
    "duration": 1686,
    "start_time": "2023-01-14T13:01:33.406Z"
   },
   {
    "duration": 609,
    "start_time": "2023-01-14T13:02:42.706Z"
   },
   {
    "duration": 636,
    "start_time": "2023-01-14T13:02:43.945Z"
   },
   {
    "duration": 958,
    "start_time": "2023-01-14T13:02:45.492Z"
   },
   {
    "duration": 361,
    "start_time": "2023-01-14T13:03:46.569Z"
   },
   {
    "duration": 606,
    "start_time": "2023-01-14T13:04:01.335Z"
   },
   {
    "duration": 1418,
    "start_time": "2023-01-14T13:15:36.254Z"
   },
   {
    "duration": 164,
    "start_time": "2023-01-14T13:15:38.094Z"
   },
   {
    "duration": 150,
    "start_time": "2023-01-14T13:15:39.142Z"
   },
   {
    "duration": 153,
    "start_time": "2023-01-14T13:15:40.161Z"
   },
   {
    "duration": 20,
    "start_time": "2023-01-14T13:15:42.775Z"
   },
   {
    "duration": 48,
    "start_time": "2023-01-14T13:15:44.303Z"
   },
   {
    "duration": 37,
    "start_time": "2023-01-14T13:15:45.668Z"
   },
   {
    "duration": 39,
    "start_time": "2023-01-14T13:15:46.765Z"
   },
   {
    "duration": 13,
    "start_time": "2023-01-14T13:15:51.254Z"
   },
   {
    "duration": 4,
    "start_time": "2023-01-14T13:15:52.325Z"
   },
   {
    "duration": 462,
    "start_time": "2023-01-14T13:15:53.575Z"
   },
   {
    "duration": 430,
    "start_time": "2023-01-14T13:15:55.100Z"
   },
   {
    "duration": 538,
    "start_time": "2023-01-14T13:15:56.762Z"
   },
   {
    "duration": 522,
    "start_time": "2023-01-14T13:15:58.588Z"
   },
   {
    "duration": 31,
    "start_time": "2023-01-14T13:16:00.762Z"
   },
   {
    "duration": 48,
    "start_time": "2023-01-14T13:16:02.996Z"
   },
   {
    "duration": 574,
    "start_time": "2023-01-14T13:17:07.063Z"
   },
   {
    "duration": 540,
    "start_time": "2023-01-14T13:17:20.601Z"
   },
   {
    "duration": 680,
    "start_time": "2023-01-14T13:17:26.244Z"
   },
   {
    "duration": 1030,
    "start_time": "2023-01-14T13:18:45.271Z"
   },
   {
    "duration": 6,
    "start_time": "2023-01-14T13:23:56.505Z"
   },
   {
    "duration": 1266,
    "start_time": "2023-01-14T13:23:57.652Z"
   },
   {
    "duration": 955,
    "start_time": "2023-01-14T13:24:40.346Z"
   },
   {
    "duration": 582,
    "start_time": "2023-01-14T13:24:52.487Z"
   },
   {
    "duration": 1018,
    "start_time": "2023-01-14T13:25:15.680Z"
   },
   {
    "duration": 1140,
    "start_time": "2023-01-14T13:25:23.302Z"
   },
   {
    "duration": 1001,
    "start_time": "2023-01-14T13:25:32.941Z"
   },
   {
    "duration": 483,
    "start_time": "2023-01-14T13:25:57.054Z"
   },
   {
    "duration": 567,
    "start_time": "2023-01-14T13:26:07.741Z"
   },
   {
    "duration": 423,
    "start_time": "2023-01-14T13:26:21.801Z"
   },
   {
    "duration": 1080,
    "start_time": "2023-01-14T13:26:38.899Z"
   },
   {
    "duration": 1104,
    "start_time": "2023-01-14T13:27:03.836Z"
   },
   {
    "duration": 29,
    "start_time": "2023-01-14T13:27:09.574Z"
   },
   {
    "duration": 45,
    "start_time": "2023-01-14T13:27:13.637Z"
   },
   {
    "duration": 1449,
    "start_time": "2023-01-14T13:28:43.010Z"
   },
   {
    "duration": 163,
    "start_time": "2023-01-14T13:28:45.637Z"
   },
   {
    "duration": 150,
    "start_time": "2023-01-14T13:28:46.687Z"
   },
   {
    "duration": 153,
    "start_time": "2023-01-14T13:28:47.936Z"
   },
   {
    "duration": 18,
    "start_time": "2023-01-14T13:28:50.552Z"
   },
   {
    "duration": 44,
    "start_time": "2023-01-14T13:28:52.969Z"
   },
   {
    "duration": 49,
    "start_time": "2023-01-14T13:28:54.670Z"
   },
   {
    "duration": 40,
    "start_time": "2023-01-14T13:28:56.390Z"
   },
   {
    "duration": 14,
    "start_time": "2023-01-14T13:28:58.931Z"
   },
   {
    "duration": 4,
    "start_time": "2023-01-14T13:28:59.793Z"
   },
   {
    "duration": 1132,
    "start_time": "2023-01-14T13:29:00.837Z"
   },
   {
    "duration": 1070,
    "start_time": "2023-01-14T13:29:06.236Z"
   },
   {
    "duration": 426,
    "start_time": "2023-01-14T13:29:10.338Z"
   },
   {
    "duration": 1166,
    "start_time": "2023-01-14T13:29:14.896Z"
   },
   {
    "duration": 43,
    "start_time": "2023-01-14T13:29:19.059Z"
   },
   {
    "duration": 62,
    "start_time": "2023-01-14T13:29:22.596Z"
   },
   {
    "duration": 8944,
    "start_time": "2023-01-14T13:29:37.136Z"
   },
   {
    "duration": 5,
    "start_time": "2023-01-14T13:29:59.493Z"
   },
   {
    "duration": 80,
    "start_time": "2023-01-14T13:30:00.783Z"
   },
   {
    "duration": 138,
    "start_time": "2023-01-14T13:30:13.900Z"
   },
   {
    "duration": 148,
    "start_time": "2023-01-14T13:30:21.493Z"
   },
   {
    "duration": 25,
    "start_time": "2023-01-14T13:31:14.694Z"
   },
   {
    "duration": 13,
    "start_time": "2023-01-14T13:31:16.135Z"
   },
   {
    "duration": 7,
    "start_time": "2023-01-14T13:31:20.637Z"
   },
   {
    "duration": 504,
    "start_time": "2023-01-14T13:31:39.038Z"
   },
   {
    "duration": 13,
    "start_time": "2023-01-14T13:32:09.796Z"
   },
   {
    "duration": 4,
    "start_time": "2023-01-14T13:32:17.675Z"
   },
   {
    "duration": 5,
    "start_time": "2023-01-14T13:32:25.789Z"
   },
   {
    "duration": 546,
    "start_time": "2023-01-14T13:32:33.090Z"
   },
   {
    "duration": 779,
    "start_time": "2023-01-14T13:32:37.627Z"
   },
   {
    "duration": 563,
    "start_time": "2023-01-14T13:32:43.331Z"
   },
   {
    "duration": 4,
    "start_time": "2023-01-14T13:32:59.308Z"
   },
   {
    "duration": 5,
    "start_time": "2023-01-14T13:33:21.502Z"
   },
   {
    "duration": 6,
    "start_time": "2023-01-14T13:33:22.522Z"
   },
   {
    "duration": 4565,
    "start_time": "2023-01-14T13:33:29.247Z"
   },
   {
    "duration": 1451,
    "start_time": "2023-01-17T08:28:30.974Z"
   },
   {
    "duration": 393,
    "start_time": "2023-01-17T08:28:44.819Z"
   },
   {
    "duration": 601,
    "start_time": "2023-01-17T08:28:55.595Z"
   },
   {
    "duration": 633,
    "start_time": "2023-01-17T08:29:10.335Z"
   },
   {
    "duration": 15,
    "start_time": "2023-01-17T08:29:28.362Z"
   },
   {
    "duration": 45,
    "start_time": "2023-01-17T08:29:29.774Z"
   },
   {
    "duration": 35,
    "start_time": "2023-01-17T08:29:30.939Z"
   },
   {
    "duration": 35,
    "start_time": "2023-01-17T08:29:31.877Z"
   },
   {
    "duration": 22,
    "start_time": "2023-01-17T08:29:42.210Z"
   },
   {
    "duration": 4,
    "start_time": "2023-01-17T08:29:47.375Z"
   },
   {
    "duration": 899,
    "start_time": "2023-01-17T08:29:49.051Z"
   },
   {
    "duration": 925,
    "start_time": "2023-01-17T08:29:51.600Z"
   },
   {
    "duration": 378,
    "start_time": "2023-01-17T08:29:53.979Z"
   },
   {
    "duration": 964,
    "start_time": "2023-01-17T08:29:58.780Z"
   },
   {
    "duration": 31,
    "start_time": "2023-01-17T08:30:01.267Z"
   },
   {
    "duration": 42,
    "start_time": "2023-01-17T08:30:05.205Z"
   },
   {
    "duration": 97,
    "start_time": "2023-01-17T08:30:35.085Z"
   },
   {
    "duration": 20870,
    "start_time": "2023-01-17T08:30:42.295Z"
   },
   {
    "duration": 6758,
    "start_time": "2023-01-17T08:31:31.394Z"
   },
   {
    "duration": 6,
    "start_time": "2023-01-17T08:32:17.635Z"
   },
   {
    "duration": 43,
    "start_time": "2023-01-17T08:32:23.615Z"
   },
   {
    "duration": 178,
    "start_time": "2023-01-17T08:32:31.174Z"
   },
   {
    "duration": 40,
    "start_time": "2023-01-17T08:32:32.720Z"
   },
   {
    "duration": 13,
    "start_time": "2023-01-17T08:32:41.174Z"
   },
   {
    "duration": 13,
    "start_time": "2023-01-17T08:32:43.775Z"
   },
   {
    "duration": 4,
    "start_time": "2023-01-17T08:32:47.595Z"
   },
   {
    "duration": 348,
    "start_time": "2023-01-17T08:32:49.106Z"
   },
   {
    "duration": 11,
    "start_time": "2023-01-17T08:32:53.936Z"
   },
   {
    "duration": 3,
    "start_time": "2023-01-17T08:44:44.775Z"
   },
   {
    "duration": 5,
    "start_time": "2023-01-17T08:44:47.625Z"
   },
   {
    "duration": 429,
    "start_time": "2023-01-17T08:44:49.196Z"
   },
   {
    "duration": 379,
    "start_time": "2023-01-17T08:44:50.115Z"
   },
   {
    "duration": 410,
    "start_time": "2023-01-17T08:44:51.416Z"
   },
   {
    "duration": 3,
    "start_time": "2023-01-17T08:44:56.326Z"
   },
   {
    "duration": 5,
    "start_time": "2023-01-17T08:44:58.206Z"
   },
   {
    "duration": 4119,
    "start_time": "2023-01-17T08:45:03.195Z"
   },
   {
    "duration": 68,
    "start_time": "2023-01-17T08:46:12.971Z"
   },
   {
    "duration": 9,
    "start_time": "2023-01-17T08:46:46.540Z"
   },
   {
    "duration": 4091,
    "start_time": "2023-01-17T08:47:26.875Z"
   },
   {
    "duration": 5,
    "start_time": "2023-01-17T08:48:39.876Z"
   },
   {
    "duration": 4166,
    "start_time": "2023-01-17T08:48:42.305Z"
   },
   {
    "duration": 5,
    "start_time": "2023-01-17T08:50:56.285Z"
   },
   {
    "duration": 3940,
    "start_time": "2023-01-17T08:50:57.864Z"
   },
   {
    "duration": 6,
    "start_time": "2023-01-17T08:52:51.129Z"
   },
   {
    "duration": 3908,
    "start_time": "2023-01-17T08:52:53.419Z"
   }
  ],
  "kernelspec": {
   "display_name": "Python 3 (ipykernel)",
   "language": "python",
   "name": "python3"
  },
  "language_info": {
   "codemirror_mode": {
    "name": "ipython",
    "version": 3
   },
   "file_extension": ".py",
   "mimetype": "text/x-python",
   "name": "python",
   "nbconvert_exporter": "python",
   "pygments_lexer": "ipython3",
   "version": "3.9.13"
  },
  "toc": {
   "base_numbering": 1,
   "nav_menu": {},
   "number_sections": true,
   "sideBar": true,
   "skip_h1_title": true,
   "title_cell": "Table of Contents",
   "title_sidebar": "Contents",
   "toc_cell": false,
   "toc_position": {},
   "toc_section_display": true,
   "toc_window_display": false
  }
 },
 "nbformat": 4,
 "nbformat_minor": 2
}
