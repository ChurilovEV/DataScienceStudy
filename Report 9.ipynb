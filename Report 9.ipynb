{
 "cells": [
  {
   "cell_type": "markdown",
   "metadata": {},
   "source": [
    "# Восстановление золота из руды"
   ]
  },
  {
   "cell_type": "markdown",
   "metadata": {},
   "source": [
    "<a id=0></a>\n",
    "[Содержание](#0)\n",
    "\n",
    "[1. Описание проекта](#1)\n",
    "\n",
    "[2. Подготовка данных](#2)\n",
    "\n",
    "[3. Исследовательский анализ данных](#3)\n",
    "\n",
    "[4. Обучение модели](#4)\n",
    "\n",
    "[5. Общий вывод](#5)"
   ]
  },
  {
   "cell_type": "markdown",
   "metadata": {},
   "source": [
    "<a id=1></a>\n",
    "## 1. Описание проекта\n",
    "\n",
    "Компания «Цифры» разрабатывает решения для эффективной работы промышленных предприятий.\n",
    "\n",
    "**Цель проекта:**\n",
    "\n",
    "Подготовьте прототип модели машинного обучения, которая должна предсказать коэффициент восстановления золота из золотосодержащей руды. Модель поможет оптимизировать производство, чтобы не запускать предприятие с убыточными характеристиками.\n",
    "\n",
    "**Данные:**\n",
    "\n",
    "Данные с параметрами добычи и очистки находятся в трёх файлах:\n",
    "- gold_recovery_train_new.csv — обучающая выборка;\n",
    "- gold_recovery_test_new.csv — тестовая выборка;\n",
    "- gold_recovery_full_new.csv — исходные данные.\n",
    "\n",
    "Исходный датасет содержит обучающую и тестовую выборки со всеми признаками.\n",
    "\n",
    "Данные индексируются датой и временем получения информации (признак `date`).\n",
    "\n",
    "Некоторые параметры недоступны, потому что замеряются и/или рассчитываются значительно позже. Из-за этого в тестовой выборке отсутствуют некоторые признаки, которые могут быть в обучающей. Также в тестовом наборе нет целевых признаков.\n",
    "\n",
    "В проекте используем библиотеки `pandas`, `matplotlib` и `sklearn`."
   ]
  },
  {
   "cell_type": "markdown",
   "metadata": {},
   "source": [
    "**Технологический процесс:**\n",
    "\n",
    "- `Rougher feed` — исходное сырье\n",
    "- `Rougher additions` (или reagent additions) — флотационные реагенты: Xanthate, Sulphate, Depressant\n",
    "  - `Xanthate` — ксантогенат (промотер, или активатор флотации);\n",
    "  - `Sulphate` — сульфат (на данном производстве сульфид натрия);\n",
    "  - `Depressant` — депрессант (силикат натрия).\n",
    "- `Rougher process` (англ. «грубый процесс») — флотация\n",
    "- `Rougher tails` — отвальные хвосты\n",
    "- `Float banks` — флотационная установка\n",
    "- `Cleaner process` — очистка\n",
    "- `Rougher Au` — черновой концентрат золота\n",
    "- `Final Au` — финальный концентрат золота\n",
    "\n",
    "\n",
    "Параметры этапов:\n",
    "\n",
    "- `air amount` — объём воздуха\n",
    "- `fluid levels` — уровень жидкости\n",
    "- `feed size` — размер гранул сырья\n",
    "- `feed rate` — скорость подачи\n",
    "\n",
    "\n",
    "Формат наименование признаков:\n",
    "\n",
    "`[этап].[тип_параметра].[название_параметра]`\n",
    "\n",
    "Пример: `rougher.input.feed_ag`\n",
    "\n",
    "\n",
    "Возможные значения для блока (этап):\n",
    "\n",
    "- `rougher` — флотация\n",
    "- `primary_cleaner` — первичная очистка\n",
    "- `secondary_cleaner` — вторичная очистка\n",
    "- `final` — финальные характеристики\n",
    "\n",
    "\n",
    "Возможные значения для блока (тип_параметра):\n",
    "\n",
    "- `input` — параметры сырья\n",
    "- `output` — параметры продукта\n",
    "- `state` — параметры, характеризующие текущее состояние этапа\n",
    "- `calculation` — расчётные характеристики"
   ]
  },
  {
   "cell_type": "markdown",
   "metadata": {},
   "source": [
    "**Метрика качества**\n",
    "\n",
    "Для решения задачи введём новую метрику качества — sMAPE (англ. Symmetric Mean Absolute Percentage Error, «симметричное среднее абсолютное процентное отклонение»).\n",
    "\n",
    "Метрика sMAPE вычисляется так:"
   ]
  },
  {
   "cell_type": "markdown",
   "metadata": {},
   "source": [
    "<img src=\"https://pictures.s3.yandex.net/resources/smape_1576239058.jpg\">"
   ]
  },
  {
   "cell_type": "markdown",
   "metadata": {},
   "source": [
    "Нужно спрогнозировать сразу две величины:\n",
    "\n",
    "- эффективность обогащения чернового концентрата `rougher.output.recovery`;\n",
    "- эффективность обогащения финального концентрата `final.output.recovery`.\n",
    "\n",
    "Итоговая метрика складывается из двух величин:"
   ]
  },
  {
   "cell_type": "markdown",
   "metadata": {},
   "source": [
    "<img src=\"https://pictures.s3.yandex.net/resources/_smape_1576239054.jpg\">"
   ]
  },
  {
   "cell_type": "markdown",
   "metadata": {},
   "source": [
    "**План работы:**\n",
    "\n",
    "- Подготовить данные.\n",
    "- Провести исследовательский анализ данных.\n",
    "- Построить и обучить модель.\n",
    "- Написать вывод."
   ]
  },
  {
   "cell_type": "markdown",
   "metadata": {},
   "source": [
    "<a id=2></a>\n",
    "[Содержание](#0)\n",
    "## 2. Подготовка данных"
   ]
  },
  {
   "cell_type": "code",
   "execution_count": 1,
   "metadata": {},
   "outputs": [],
   "source": [
    "import matplotlib.pyplot as plt\n",
    "import numpy as np\n",
    "import pandas as pd\n",
    "import warnings\n",
    "from sklearn.preprocessing import StandardScaler, PolynomialFeatures\n",
    "from sklearn.metrics import make_scorer, mean_absolute_error, r2_score\n",
    "from sklearn.linear_model import LinearRegression, Ridge\n",
    "from sklearn.tree import DecisionTreeRegressor\n",
    "from sklearn.ensemble import RandomForestRegressor\n",
    "from sklearn.model_selection import cross_val_score, GridSearchCV\n",
    "from sklearn.pipeline import Pipeline\n",
    "warnings.filterwarnings('ignore')\n",
    "\n",
    "RND_STATE = 21012022"
   ]
  },
  {
   "cell_type": "markdown",
   "metadata": {},
   "source": [
    "Загрузим отдельно каждый датафрейм и посмотрим структуру:"
   ]
  },
  {
   "cell_type": "code",
   "execution_count": 2,
   "metadata": {
    "scrolled": true
   },
   "outputs": [
    {
     "name": "stdout",
     "output_type": "stream",
     "text": [
      "<class 'pandas.core.frame.DataFrame'>\n",
      "RangeIndex: 14149 entries, 0 to 14148\n",
      "Data columns (total 87 columns):\n",
      " #   Column                                              Non-Null Count  Dtype  \n",
      "---  ------                                              --------------  -----  \n",
      " 0   date                                                14149 non-null  object \n",
      " 1   final.output.concentrate_ag                         14148 non-null  float64\n",
      " 2   final.output.concentrate_pb                         14148 non-null  float64\n",
      " 3   final.output.concentrate_sol                        13938 non-null  float64\n",
      " 4   final.output.concentrate_au                         14149 non-null  float64\n",
      " 5   final.output.recovery                               14149 non-null  float64\n",
      " 6   final.output.tail_ag                                14149 non-null  float64\n",
      " 7   final.output.tail_pb                                14049 non-null  float64\n",
      " 8   final.output.tail_sol                               14144 non-null  float64\n",
      " 9   final.output.tail_au                                14149 non-null  float64\n",
      " 10  primary_cleaner.input.sulfate                       14129 non-null  float64\n",
      " 11  primary_cleaner.input.depressant                    14117 non-null  float64\n",
      " 12  primary_cleaner.input.feed_size                     14149 non-null  float64\n",
      " 13  primary_cleaner.input.xanthate                      14049 non-null  float64\n",
      " 14  primary_cleaner.output.concentrate_ag               14149 non-null  float64\n",
      " 15  primary_cleaner.output.concentrate_pb               14063 non-null  float64\n",
      " 16  primary_cleaner.output.concentrate_sol              13863 non-null  float64\n",
      " 17  primary_cleaner.output.concentrate_au               14149 non-null  float64\n",
      " 18  primary_cleaner.output.tail_ag                      14148 non-null  float64\n",
      " 19  primary_cleaner.output.tail_pb                      14134 non-null  float64\n",
      " 20  primary_cleaner.output.tail_sol                     14103 non-null  float64\n",
      " 21  primary_cleaner.output.tail_au                      14149 non-null  float64\n",
      " 22  primary_cleaner.state.floatbank8_a_air              14145 non-null  float64\n",
      " 23  primary_cleaner.state.floatbank8_a_level            14148 non-null  float64\n",
      " 24  primary_cleaner.state.floatbank8_b_air              14145 non-null  float64\n",
      " 25  primary_cleaner.state.floatbank8_b_level            14148 non-null  float64\n",
      " 26  primary_cleaner.state.floatbank8_c_air              14147 non-null  float64\n",
      " 27  primary_cleaner.state.floatbank8_c_level            14148 non-null  float64\n",
      " 28  primary_cleaner.state.floatbank8_d_air              14146 non-null  float64\n",
      " 29  primary_cleaner.state.floatbank8_d_level            14148 non-null  float64\n",
      " 30  rougher.calculation.sulfate_to_au_concentrate       14148 non-null  float64\n",
      " 31  rougher.calculation.floatbank10_sulfate_to_au_feed  14148 non-null  float64\n",
      " 32  rougher.calculation.floatbank11_sulfate_to_au_feed  14148 non-null  float64\n",
      " 33  rougher.calculation.au_pb_ratio                     14149 non-null  float64\n",
      " 34  rougher.input.feed_ag                               14149 non-null  float64\n",
      " 35  rougher.input.feed_pb                               14049 non-null  float64\n",
      " 36  rougher.input.feed_rate                             14141 non-null  float64\n",
      " 37  rougher.input.feed_size                             14005 non-null  float64\n",
      " 38  rougher.input.feed_sol                              14071 non-null  float64\n",
      " 39  rougher.input.feed_au                               14149 non-null  float64\n",
      " 40  rougher.input.floatbank10_sulfate                   14120 non-null  float64\n",
      " 41  rougher.input.floatbank10_xanthate                  14141 non-null  float64\n",
      " 42  rougher.input.floatbank11_sulfate                   14113 non-null  float64\n",
      " 43  rougher.input.floatbank11_xanthate                  13721 non-null  float64\n",
      " 44  rougher.output.concentrate_ag                       14149 non-null  float64\n",
      " 45  rougher.output.concentrate_pb                       14149 non-null  float64\n",
      " 46  rougher.output.concentrate_sol                      14127 non-null  float64\n",
      " 47  rougher.output.concentrate_au                       14149 non-null  float64\n",
      " 48  rougher.output.recovery                             14149 non-null  float64\n",
      " 49  rougher.output.tail_ag                              14148 non-null  float64\n",
      " 50  rougher.output.tail_pb                              14149 non-null  float64\n",
      " 51  rougher.output.tail_sol                             14149 non-null  float64\n",
      " 52  rougher.output.tail_au                              14149 non-null  float64\n",
      " 53  rougher.state.floatbank10_a_air                     14148 non-null  float64\n",
      " 54  rougher.state.floatbank10_a_level                   14148 non-null  float64\n",
      " 55  rougher.state.floatbank10_b_air                     14148 non-null  float64\n",
      " 56  rougher.state.floatbank10_b_level                   14148 non-null  float64\n",
      " 57  rougher.state.floatbank10_c_air                     14148 non-null  float64\n",
      " 58  rougher.state.floatbank10_c_level                   14148 non-null  float64\n",
      " 59  rougher.state.floatbank10_d_air                     14149 non-null  float64\n",
      " 60  rougher.state.floatbank10_d_level                   14149 non-null  float64\n",
      " 61  rougher.state.floatbank10_e_air                     13713 non-null  float64\n",
      " 62  rougher.state.floatbank10_e_level                   14149 non-null  float64\n",
      " 63  rougher.state.floatbank10_f_air                     14149 non-null  float64\n",
      " 64  rougher.state.floatbank10_f_level                   14149 non-null  float64\n",
      " 65  secondary_cleaner.output.tail_ag                    14147 non-null  float64\n",
      " 66  secondary_cleaner.output.tail_pb                    14139 non-null  float64\n",
      " 67  secondary_cleaner.output.tail_sol                   12544 non-null  float64\n",
      " 68  secondary_cleaner.output.tail_au                    14149 non-null  float64\n",
      " 69  secondary_cleaner.state.floatbank2_a_air            13932 non-null  float64\n",
      " 70  secondary_cleaner.state.floatbank2_a_level          14148 non-null  float64\n",
      " 71  secondary_cleaner.state.floatbank2_b_air            14128 non-null  float64\n",
      " 72  secondary_cleaner.state.floatbank2_b_level          14148 non-null  float64\n",
      " 73  secondary_cleaner.state.floatbank3_a_air            14145 non-null  float64\n",
      " 74  secondary_cleaner.state.floatbank3_a_level          14148 non-null  float64\n",
      " 75  secondary_cleaner.state.floatbank3_b_air            14148 non-null  float64\n",
      " 76  secondary_cleaner.state.floatbank3_b_level          14148 non-null  float64\n",
      " 77  secondary_cleaner.state.floatbank4_a_air            14143 non-null  float64\n",
      " 78  secondary_cleaner.state.floatbank4_a_level          14148 non-null  float64\n",
      " 79  secondary_cleaner.state.floatbank4_b_air            14148 non-null  float64\n",
      " 80  secondary_cleaner.state.floatbank4_b_level          14148 non-null  float64\n",
      " 81  secondary_cleaner.state.floatbank5_a_air            14148 non-null  float64\n",
      " 82  secondary_cleaner.state.floatbank5_a_level          14148 non-null  float64\n",
      " 83  secondary_cleaner.state.floatbank5_b_air            14148 non-null  float64\n",
      " 84  secondary_cleaner.state.floatbank5_b_level          14148 non-null  float64\n",
      " 85  secondary_cleaner.state.floatbank6_a_air            14147 non-null  float64\n",
      " 86  secondary_cleaner.state.floatbank6_a_level          14148 non-null  float64\n",
      "dtypes: float64(86), object(1)\n",
      "memory usage: 9.4+ MB\n"
     ]
    }
   ],
   "source": [
    "try:\n",
    "    df_train = pd.read_csv('/datasets/gold_recovery_train_new.csv')\n",
    "except:\n",
    "    df_train = pd.read_csv('https://code.s3.yandex.net/datasets/gold_recovery_train_new.csv')\n",
    "\n",
    "df_train.info()"
   ]
  },
  {
   "cell_type": "code",
   "execution_count": 3,
   "metadata": {
    "scrolled": true
   },
   "outputs": [
    {
     "name": "stdout",
     "output_type": "stream",
     "text": [
      "<class 'pandas.core.frame.DataFrame'>\n",
      "RangeIndex: 5290 entries, 0 to 5289\n",
      "Data columns (total 53 columns):\n",
      " #   Column                                      Non-Null Count  Dtype  \n",
      "---  ------                                      --------------  -----  \n",
      " 0   date                                        5290 non-null   object \n",
      " 1   primary_cleaner.input.sulfate               5286 non-null   float64\n",
      " 2   primary_cleaner.input.depressant            5285 non-null   float64\n",
      " 3   primary_cleaner.input.feed_size             5290 non-null   float64\n",
      " 4   primary_cleaner.input.xanthate              5286 non-null   float64\n",
      " 5   primary_cleaner.state.floatbank8_a_air      5290 non-null   float64\n",
      " 6   primary_cleaner.state.floatbank8_a_level    5290 non-null   float64\n",
      " 7   primary_cleaner.state.floatbank8_b_air      5290 non-null   float64\n",
      " 8   primary_cleaner.state.floatbank8_b_level    5290 non-null   float64\n",
      " 9   primary_cleaner.state.floatbank8_c_air      5290 non-null   float64\n",
      " 10  primary_cleaner.state.floatbank8_c_level    5290 non-null   float64\n",
      " 11  primary_cleaner.state.floatbank8_d_air      5290 non-null   float64\n",
      " 12  primary_cleaner.state.floatbank8_d_level    5290 non-null   float64\n",
      " 13  rougher.input.feed_ag                       5290 non-null   float64\n",
      " 14  rougher.input.feed_pb                       5290 non-null   float64\n",
      " 15  rougher.input.feed_rate                     5287 non-null   float64\n",
      " 16  rougher.input.feed_size                     5289 non-null   float64\n",
      " 17  rougher.input.feed_sol                      5269 non-null   float64\n",
      " 18  rougher.input.feed_au                       5290 non-null   float64\n",
      " 19  rougher.input.floatbank10_sulfate           5285 non-null   float64\n",
      " 20  rougher.input.floatbank10_xanthate          5290 non-null   float64\n",
      " 21  rougher.input.floatbank11_sulfate           5282 non-null   float64\n",
      " 22  rougher.input.floatbank11_xanthate          5265 non-null   float64\n",
      " 23  rougher.state.floatbank10_a_air             5290 non-null   float64\n",
      " 24  rougher.state.floatbank10_a_level           5290 non-null   float64\n",
      " 25  rougher.state.floatbank10_b_air             5290 non-null   float64\n",
      " 26  rougher.state.floatbank10_b_level           5290 non-null   float64\n",
      " 27  rougher.state.floatbank10_c_air             5290 non-null   float64\n",
      " 28  rougher.state.floatbank10_c_level           5290 non-null   float64\n",
      " 29  rougher.state.floatbank10_d_air             5290 non-null   float64\n",
      " 30  rougher.state.floatbank10_d_level           5290 non-null   float64\n",
      " 31  rougher.state.floatbank10_e_air             5290 non-null   float64\n",
      " 32  rougher.state.floatbank10_e_level           5290 non-null   float64\n",
      " 33  rougher.state.floatbank10_f_air             5290 non-null   float64\n",
      " 34  rougher.state.floatbank10_f_level           5290 non-null   float64\n",
      " 35  secondary_cleaner.state.floatbank2_a_air    5287 non-null   float64\n",
      " 36  secondary_cleaner.state.floatbank2_a_level  5290 non-null   float64\n",
      " 37  secondary_cleaner.state.floatbank2_b_air    5288 non-null   float64\n",
      " 38  secondary_cleaner.state.floatbank2_b_level  5290 non-null   float64\n",
      " 39  secondary_cleaner.state.floatbank3_a_air    5281 non-null   float64\n",
      " 40  secondary_cleaner.state.floatbank3_a_level  5290 non-null   float64\n",
      " 41  secondary_cleaner.state.floatbank3_b_air    5290 non-null   float64\n",
      " 42  secondary_cleaner.state.floatbank3_b_level  5290 non-null   float64\n",
      " 43  secondary_cleaner.state.floatbank4_a_air    5290 non-null   float64\n",
      " 44  secondary_cleaner.state.floatbank4_a_level  5290 non-null   float64\n",
      " 45  secondary_cleaner.state.floatbank4_b_air    5290 non-null   float64\n",
      " 46  secondary_cleaner.state.floatbank4_b_level  5290 non-null   float64\n",
      " 47  secondary_cleaner.state.floatbank5_a_air    5290 non-null   float64\n",
      " 48  secondary_cleaner.state.floatbank5_a_level  5290 non-null   float64\n",
      " 49  secondary_cleaner.state.floatbank5_b_air    5290 non-null   float64\n",
      " 50  secondary_cleaner.state.floatbank5_b_level  5290 non-null   float64\n",
      " 51  secondary_cleaner.state.floatbank6_a_air    5290 non-null   float64\n",
      " 52  secondary_cleaner.state.floatbank6_a_level  5290 non-null   float64\n",
      "dtypes: float64(52), object(1)\n",
      "memory usage: 2.1+ MB\n"
     ]
    }
   ],
   "source": [
    "try:\n",
    "    df_test = pd.read_csv('/datasets/gold_recovery_test_new.csv')\n",
    "except:\n",
    "    df_test = pd.read_csv('https://code.s3.yandex.net/datasets/gold_recovery_test_new.csv')\n",
    "\n",
    "df_test.info()"
   ]
  },
  {
   "cell_type": "code",
   "execution_count": 4,
   "metadata": {
    "scrolled": true
   },
   "outputs": [
    {
     "name": "stdout",
     "output_type": "stream",
     "text": [
      "<class 'pandas.core.frame.DataFrame'>\n",
      "RangeIndex: 19439 entries, 0 to 19438\n",
      "Data columns (total 87 columns):\n",
      " #   Column                                              Non-Null Count  Dtype  \n",
      "---  ------                                              --------------  -----  \n",
      " 0   date                                                19439 non-null  object \n",
      " 1   final.output.concentrate_ag                         19438 non-null  float64\n",
      " 2   final.output.concentrate_pb                         19438 non-null  float64\n",
      " 3   final.output.concentrate_sol                        19228 non-null  float64\n",
      " 4   final.output.concentrate_au                         19439 non-null  float64\n",
      " 5   final.output.recovery                               19439 non-null  float64\n",
      " 6   final.output.tail_ag                                19438 non-null  float64\n",
      " 7   final.output.tail_pb                                19338 non-null  float64\n",
      " 8   final.output.tail_sol                               19433 non-null  float64\n",
      " 9   final.output.tail_au                                19439 non-null  float64\n",
      " 10  primary_cleaner.input.sulfate                       19415 non-null  float64\n",
      " 11  primary_cleaner.input.depressant                    19402 non-null  float64\n",
      " 12  primary_cleaner.input.feed_size                     19439 non-null  float64\n",
      " 13  primary_cleaner.input.xanthate                      19335 non-null  float64\n",
      " 14  primary_cleaner.output.concentrate_ag               19439 non-null  float64\n",
      " 15  primary_cleaner.output.concentrate_pb               19323 non-null  float64\n",
      " 16  primary_cleaner.output.concentrate_sol              19069 non-null  float64\n",
      " 17  primary_cleaner.output.concentrate_au               19439 non-null  float64\n",
      " 18  primary_cleaner.output.tail_ag                      19435 non-null  float64\n",
      " 19  primary_cleaner.output.tail_pb                      19418 non-null  float64\n",
      " 20  primary_cleaner.output.tail_sol                     19377 non-null  float64\n",
      " 21  primary_cleaner.output.tail_au                      19439 non-null  float64\n",
      " 22  primary_cleaner.state.floatbank8_a_air              19435 non-null  float64\n",
      " 23  primary_cleaner.state.floatbank8_a_level            19438 non-null  float64\n",
      " 24  primary_cleaner.state.floatbank8_b_air              19435 non-null  float64\n",
      " 25  primary_cleaner.state.floatbank8_b_level            19438 non-null  float64\n",
      " 26  primary_cleaner.state.floatbank8_c_air              19437 non-null  float64\n",
      " 27  primary_cleaner.state.floatbank8_c_level            19438 non-null  float64\n",
      " 28  primary_cleaner.state.floatbank8_d_air              19436 non-null  float64\n",
      " 29  primary_cleaner.state.floatbank8_d_level            19438 non-null  float64\n",
      " 30  rougher.calculation.sulfate_to_au_concentrate       19437 non-null  float64\n",
      " 31  rougher.calculation.floatbank10_sulfate_to_au_feed  19437 non-null  float64\n",
      " 32  rougher.calculation.floatbank11_sulfate_to_au_feed  19437 non-null  float64\n",
      " 33  rougher.calculation.au_pb_ratio                     19439 non-null  float64\n",
      " 34  rougher.input.feed_ag                               19439 non-null  float64\n",
      " 35  rougher.input.feed_pb                               19339 non-null  float64\n",
      " 36  rougher.input.feed_rate                             19428 non-null  float64\n",
      " 37  rougher.input.feed_size                             19294 non-null  float64\n",
      " 38  rougher.input.feed_sol                              19340 non-null  float64\n",
      " 39  rougher.input.feed_au                               19439 non-null  float64\n",
      " 40  rougher.input.floatbank10_sulfate                   19405 non-null  float64\n",
      " 41  rougher.input.floatbank10_xanthate                  19431 non-null  float64\n",
      " 42  rougher.input.floatbank11_sulfate                   19395 non-null  float64\n",
      " 43  rougher.input.floatbank11_xanthate                  18986 non-null  float64\n",
      " 44  rougher.output.concentrate_ag                       19439 non-null  float64\n",
      " 45  rougher.output.concentrate_pb                       19439 non-null  float64\n",
      " 46  rougher.output.concentrate_sol                      19416 non-null  float64\n",
      " 47  rougher.output.concentrate_au                       19439 non-null  float64\n",
      " 48  rougher.output.recovery                             19439 non-null  float64\n",
      " 49  rougher.output.tail_ag                              19438 non-null  float64\n",
      " 50  rougher.output.tail_pb                              19439 non-null  float64\n",
      " 51  rougher.output.tail_sol                             19439 non-null  float64\n",
      " 52  rougher.output.tail_au                              19439 non-null  float64\n",
      " 53  rougher.state.floatbank10_a_air                     19438 non-null  float64\n",
      " 54  rougher.state.floatbank10_a_level                   19438 non-null  float64\n",
      " 55  rougher.state.floatbank10_b_air                     19438 non-null  float64\n",
      " 56  rougher.state.floatbank10_b_level                   19438 non-null  float64\n",
      " 57  rougher.state.floatbank10_c_air                     19438 non-null  float64\n",
      " 58  rougher.state.floatbank10_c_level                   19438 non-null  float64\n",
      " 59  rougher.state.floatbank10_d_air                     19439 non-null  float64\n",
      " 60  rougher.state.floatbank10_d_level                   19439 non-null  float64\n",
      " 61  rougher.state.floatbank10_e_air                     19003 non-null  float64\n",
      " 62  rougher.state.floatbank10_e_level                   19439 non-null  float64\n",
      " 63  rougher.state.floatbank10_f_air                     19439 non-null  float64\n",
      " 64  rougher.state.floatbank10_f_level                   19439 non-null  float64\n",
      " 65  secondary_cleaner.output.tail_ag                    19437 non-null  float64\n",
      " 66  secondary_cleaner.output.tail_pb                    19427 non-null  float64\n",
      " 67  secondary_cleaner.output.tail_sol                   17691 non-null  float64\n",
      " 68  secondary_cleaner.output.tail_au                    19439 non-null  float64\n",
      " 69  secondary_cleaner.state.floatbank2_a_air            19219 non-null  float64\n",
      " 70  secondary_cleaner.state.floatbank2_a_level          19438 non-null  float64\n",
      " 71  secondary_cleaner.state.floatbank2_b_air            19416 non-null  float64\n",
      " 72  secondary_cleaner.state.floatbank2_b_level          19438 non-null  float64\n",
      " 73  secondary_cleaner.state.floatbank3_a_air            19426 non-null  float64\n",
      " 74  secondary_cleaner.state.floatbank3_a_level          19438 non-null  float64\n",
      " 75  secondary_cleaner.state.floatbank3_b_air            19438 non-null  float64\n",
      " 76  secondary_cleaner.state.floatbank3_b_level          19438 non-null  float64\n",
      " 77  secondary_cleaner.state.floatbank4_a_air            19433 non-null  float64\n",
      " 78  secondary_cleaner.state.floatbank4_a_level          19438 non-null  float64\n",
      " 79  secondary_cleaner.state.floatbank4_b_air            19438 non-null  float64\n",
      " 80  secondary_cleaner.state.floatbank4_b_level          19438 non-null  float64\n",
      " 81  secondary_cleaner.state.floatbank5_a_air            19438 non-null  float64\n",
      " 82  secondary_cleaner.state.floatbank5_a_level          19438 non-null  float64\n",
      " 83  secondary_cleaner.state.floatbank5_b_air            19438 non-null  float64\n",
      " 84  secondary_cleaner.state.floatbank5_b_level          19438 non-null  float64\n",
      " 85  secondary_cleaner.state.floatbank6_a_air            19437 non-null  float64\n",
      " 86  secondary_cleaner.state.floatbank6_a_level          19438 non-null  float64\n",
      "dtypes: float64(86), object(1)\n",
      "memory usage: 12.9+ MB\n"
     ]
    }
   ],
   "source": [
    "try:\n",
    "    df_full = pd.read_csv('/datasets/gold_recovery_full_new.csv')\n",
    "except:\n",
    "    df_full = pd.read_csv('https://code.s3.yandex.net/datasets/gold_recovery_full_new.csv')\n",
    "\n",
    "df_full.info()"
   ]
  },
  {
   "cell_type": "markdown",
   "metadata": {},
   "source": [
    "Посмотрим граничные значения по столбцам:"
   ]
  },
  {
   "cell_type": "code",
   "execution_count": 5,
   "metadata": {},
   "outputs": [
    {
     "data": {
      "text/html": [
       "<div>\n",
       "<style scoped>\n",
       "    .dataframe tbody tr th:only-of-type {\n",
       "        vertical-align: middle;\n",
       "    }\n",
       "\n",
       "    .dataframe tbody tr th {\n",
       "        vertical-align: top;\n",
       "    }\n",
       "\n",
       "    .dataframe thead th {\n",
       "        text-align: right;\n",
       "    }\n",
       "</style>\n",
       "<table border=\"1\" class=\"dataframe\">\n",
       "  <thead>\n",
       "    <tr style=\"text-align: right;\">\n",
       "      <th></th>\n",
       "      <th>final.output.concentrate_ag</th>\n",
       "      <th>final.output.concentrate_pb</th>\n",
       "      <th>final.output.concentrate_sol</th>\n",
       "      <th>final.output.concentrate_au</th>\n",
       "      <th>final.output.recovery</th>\n",
       "      <th>final.output.tail_ag</th>\n",
       "      <th>final.output.tail_pb</th>\n",
       "      <th>final.output.tail_sol</th>\n",
       "      <th>final.output.tail_au</th>\n",
       "      <th>primary_cleaner.input.sulfate</th>\n",
       "      <th>...</th>\n",
       "      <th>secondary_cleaner.state.floatbank4_a_air</th>\n",
       "      <th>secondary_cleaner.state.floatbank4_a_level</th>\n",
       "      <th>secondary_cleaner.state.floatbank4_b_air</th>\n",
       "      <th>secondary_cleaner.state.floatbank4_b_level</th>\n",
       "      <th>secondary_cleaner.state.floatbank5_a_air</th>\n",
       "      <th>secondary_cleaner.state.floatbank5_a_level</th>\n",
       "      <th>secondary_cleaner.state.floatbank5_b_air</th>\n",
       "      <th>secondary_cleaner.state.floatbank5_b_level</th>\n",
       "      <th>secondary_cleaner.state.floatbank6_a_air</th>\n",
       "      <th>secondary_cleaner.state.floatbank6_a_level</th>\n",
       "    </tr>\n",
       "  </thead>\n",
       "  <tbody>\n",
       "    <tr>\n",
       "      <th>count</th>\n",
       "      <td>14148.000000</td>\n",
       "      <td>14148.000000</td>\n",
       "      <td>13938.000000</td>\n",
       "      <td>14149.000000</td>\n",
       "      <td>14149.000000</td>\n",
       "      <td>14149.000000</td>\n",
       "      <td>14049.000000</td>\n",
       "      <td>14144.000000</td>\n",
       "      <td>14149.000000</td>\n",
       "      <td>14129.000000</td>\n",
       "      <td>...</td>\n",
       "      <td>14143.000000</td>\n",
       "      <td>14148.000000</td>\n",
       "      <td>14148.000000</td>\n",
       "      <td>14148.000000</td>\n",
       "      <td>14148.000000</td>\n",
       "      <td>14148.000000</td>\n",
       "      <td>14148.000000</td>\n",
       "      <td>14148.000000</td>\n",
       "      <td>14147.000000</td>\n",
       "      <td>14148.000000</td>\n",
       "    </tr>\n",
       "    <tr>\n",
       "      <th>mean</th>\n",
       "      <td>5.142034</td>\n",
       "      <td>10.132960</td>\n",
       "      <td>9.202849</td>\n",
       "      <td>44.003792</td>\n",
       "      <td>66.518832</td>\n",
       "      <td>9.607035</td>\n",
       "      <td>2.597298</td>\n",
       "      <td>10.512122</td>\n",
       "      <td>2.918421</td>\n",
       "      <td>133.320659</td>\n",
       "      <td>...</td>\n",
       "      <td>19.985454</td>\n",
       "      <td>-478.696836</td>\n",
       "      <td>15.487065</td>\n",
       "      <td>-460.229416</td>\n",
       "      <td>16.775136</td>\n",
       "      <td>-483.956022</td>\n",
       "      <td>13.064590</td>\n",
       "      <td>-483.966564</td>\n",
       "      <td>19.577539</td>\n",
       "      <td>-506.798480</td>\n",
       "    </tr>\n",
       "    <tr>\n",
       "      <th>std</th>\n",
       "      <td>1.369586</td>\n",
       "      <td>1.654930</td>\n",
       "      <td>2.790516</td>\n",
       "      <td>4.905261</td>\n",
       "      <td>10.295402</td>\n",
       "      <td>2.319069</td>\n",
       "      <td>0.971843</td>\n",
       "      <td>3.003617</td>\n",
       "      <td>0.903712</td>\n",
       "      <td>39.431659</td>\n",
       "      <td>...</td>\n",
       "      <td>5.657723</td>\n",
       "      <td>50.736021</td>\n",
       "      <td>5.255655</td>\n",
       "      <td>58.843586</td>\n",
       "      <td>5.831906</td>\n",
       "      <td>37.892788</td>\n",
       "      <td>5.765617</td>\n",
       "      <td>39.207913</td>\n",
       "      <td>5.764417</td>\n",
       "      <td>37.079249</td>\n",
       "    </tr>\n",
       "    <tr>\n",
       "      <th>min</th>\n",
       "      <td>0.000000</td>\n",
       "      <td>0.000000</td>\n",
       "      <td>0.000000</td>\n",
       "      <td>0.000000</td>\n",
       "      <td>0.000000</td>\n",
       "      <td>0.000000</td>\n",
       "      <td>0.000000</td>\n",
       "      <td>0.000000</td>\n",
       "      <td>0.000000</td>\n",
       "      <td>0.003112</td>\n",
       "      <td>...</td>\n",
       "      <td>0.000000</td>\n",
       "      <td>-799.709069</td>\n",
       "      <td>0.000000</td>\n",
       "      <td>-799.889113</td>\n",
       "      <td>-0.372054</td>\n",
       "      <td>-797.142475</td>\n",
       "      <td>0.646208</td>\n",
       "      <td>-800.006180</td>\n",
       "      <td>0.195324</td>\n",
       "      <td>-809.398668</td>\n",
       "    </tr>\n",
       "    <tr>\n",
       "      <th>25%</th>\n",
       "      <td>4.211620</td>\n",
       "      <td>9.297355</td>\n",
       "      <td>7.484645</td>\n",
       "      <td>43.276111</td>\n",
       "      <td>62.545817</td>\n",
       "      <td>7.997429</td>\n",
       "      <td>1.905973</td>\n",
       "      <td>8.811324</td>\n",
       "      <td>2.368607</td>\n",
       "      <td>107.006651</td>\n",
       "      <td>...</td>\n",
       "      <td>14.990775</td>\n",
       "      <td>-500.628656</td>\n",
       "      <td>11.894558</td>\n",
       "      <td>-500.149000</td>\n",
       "      <td>11.083980</td>\n",
       "      <td>-500.363177</td>\n",
       "      <td>8.994405</td>\n",
       "      <td>-500.105994</td>\n",
       "      <td>14.989304</td>\n",
       "      <td>-500.745104</td>\n",
       "    </tr>\n",
       "    <tr>\n",
       "      <th>50%</th>\n",
       "      <td>4.994652</td>\n",
       "      <td>10.297144</td>\n",
       "      <td>8.845462</td>\n",
       "      <td>44.872436</td>\n",
       "      <td>67.432775</td>\n",
       "      <td>9.480270</td>\n",
       "      <td>2.592022</td>\n",
       "      <td>10.514621</td>\n",
       "      <td>2.851025</td>\n",
       "      <td>133.018328</td>\n",
       "      <td>...</td>\n",
       "      <td>20.001789</td>\n",
       "      <td>-499.681450</td>\n",
       "      <td>14.975536</td>\n",
       "      <td>-499.388738</td>\n",
       "      <td>17.932223</td>\n",
       "      <td>-499.702452</td>\n",
       "      <td>11.997547</td>\n",
       "      <td>-499.914556</td>\n",
       "      <td>19.984175</td>\n",
       "      <td>-500.061431</td>\n",
       "    </tr>\n",
       "    <tr>\n",
       "      <th>75%</th>\n",
       "      <td>5.859540</td>\n",
       "      <td>11.170603</td>\n",
       "      <td>10.487508</td>\n",
       "      <td>46.166425</td>\n",
       "      <td>72.346428</td>\n",
       "      <td>11.003707</td>\n",
       "      <td>3.241723</td>\n",
       "      <td>11.933009</td>\n",
       "      <td>3.434764</td>\n",
       "      <td>159.825396</td>\n",
       "      <td>...</td>\n",
       "      <td>24.990826</td>\n",
       "      <td>-477.472413</td>\n",
       "      <td>20.059375</td>\n",
       "      <td>-400.039008</td>\n",
       "      <td>21.346550</td>\n",
       "      <td>-487.712108</td>\n",
       "      <td>17.982903</td>\n",
       "      <td>-453.186936</td>\n",
       "      <td>24.991623</td>\n",
       "      <td>-499.536466</td>\n",
       "    </tr>\n",
       "    <tr>\n",
       "      <th>max</th>\n",
       "      <td>16.001945</td>\n",
       "      <td>17.031899</td>\n",
       "      <td>18.124851</td>\n",
       "      <td>52.756638</td>\n",
       "      <td>100.000000</td>\n",
       "      <td>19.552149</td>\n",
       "      <td>5.639565</td>\n",
       "      <td>22.317730</td>\n",
       "      <td>8.197408</td>\n",
       "      <td>250.127834</td>\n",
       "      <td>...</td>\n",
       "      <td>30.115735</td>\n",
       "      <td>-245.239184</td>\n",
       "      <td>24.007913</td>\n",
       "      <td>-145.071088</td>\n",
       "      <td>43.709931</td>\n",
       "      <td>-275.073125</td>\n",
       "      <td>27.926001</td>\n",
       "      <td>-157.396071</td>\n",
       "      <td>32.188906</td>\n",
       "      <td>-104.427459</td>\n",
       "    </tr>\n",
       "  </tbody>\n",
       "</table>\n",
       "<p>8 rows × 86 columns</p>\n",
       "</div>"
      ],
      "text/plain": [
       "       final.output.concentrate_ag  final.output.concentrate_pb  \\\n",
       "count                 14148.000000                 14148.000000   \n",
       "mean                      5.142034                    10.132960   \n",
       "std                       1.369586                     1.654930   \n",
       "min                       0.000000                     0.000000   \n",
       "25%                       4.211620                     9.297355   \n",
       "50%                       4.994652                    10.297144   \n",
       "75%                       5.859540                    11.170603   \n",
       "max                      16.001945                    17.031899   \n",
       "\n",
       "       final.output.concentrate_sol  final.output.concentrate_au  \\\n",
       "count                  13938.000000                 14149.000000   \n",
       "mean                       9.202849                    44.003792   \n",
       "std                        2.790516                     4.905261   \n",
       "min                        0.000000                     0.000000   \n",
       "25%                        7.484645                    43.276111   \n",
       "50%                        8.845462                    44.872436   \n",
       "75%                       10.487508                    46.166425   \n",
       "max                       18.124851                    52.756638   \n",
       "\n",
       "       final.output.recovery  final.output.tail_ag  final.output.tail_pb  \\\n",
       "count           14149.000000          14149.000000          14049.000000   \n",
       "mean               66.518832              9.607035              2.597298   \n",
       "std                10.295402              2.319069              0.971843   \n",
       "min                 0.000000              0.000000              0.000000   \n",
       "25%                62.545817              7.997429              1.905973   \n",
       "50%                67.432775              9.480270              2.592022   \n",
       "75%                72.346428             11.003707              3.241723   \n",
       "max               100.000000             19.552149              5.639565   \n",
       "\n",
       "       final.output.tail_sol  final.output.tail_au  \\\n",
       "count           14144.000000          14149.000000   \n",
       "mean               10.512122              2.918421   \n",
       "std                 3.003617              0.903712   \n",
       "min                 0.000000              0.000000   \n",
       "25%                 8.811324              2.368607   \n",
       "50%                10.514621              2.851025   \n",
       "75%                11.933009              3.434764   \n",
       "max                22.317730              8.197408   \n",
       "\n",
       "       primary_cleaner.input.sulfate  ...  \\\n",
       "count                   14129.000000  ...   \n",
       "mean                      133.320659  ...   \n",
       "std                        39.431659  ...   \n",
       "min                         0.003112  ...   \n",
       "25%                       107.006651  ...   \n",
       "50%                       133.018328  ...   \n",
       "75%                       159.825396  ...   \n",
       "max                       250.127834  ...   \n",
       "\n",
       "       secondary_cleaner.state.floatbank4_a_air  \\\n",
       "count                              14143.000000   \n",
       "mean                                  19.985454   \n",
       "std                                    5.657723   \n",
       "min                                    0.000000   \n",
       "25%                                   14.990775   \n",
       "50%                                   20.001789   \n",
       "75%                                   24.990826   \n",
       "max                                   30.115735   \n",
       "\n",
       "       secondary_cleaner.state.floatbank4_a_level  \\\n",
       "count                                14148.000000   \n",
       "mean                                  -478.696836   \n",
       "std                                     50.736021   \n",
       "min                                   -799.709069   \n",
       "25%                                   -500.628656   \n",
       "50%                                   -499.681450   \n",
       "75%                                   -477.472413   \n",
       "max                                   -245.239184   \n",
       "\n",
       "       secondary_cleaner.state.floatbank4_b_air  \\\n",
       "count                              14148.000000   \n",
       "mean                                  15.487065   \n",
       "std                                    5.255655   \n",
       "min                                    0.000000   \n",
       "25%                                   11.894558   \n",
       "50%                                   14.975536   \n",
       "75%                                   20.059375   \n",
       "max                                   24.007913   \n",
       "\n",
       "       secondary_cleaner.state.floatbank4_b_level  \\\n",
       "count                                14148.000000   \n",
       "mean                                  -460.229416   \n",
       "std                                     58.843586   \n",
       "min                                   -799.889113   \n",
       "25%                                   -500.149000   \n",
       "50%                                   -499.388738   \n",
       "75%                                   -400.039008   \n",
       "max                                   -145.071088   \n",
       "\n",
       "       secondary_cleaner.state.floatbank5_a_air  \\\n",
       "count                              14148.000000   \n",
       "mean                                  16.775136   \n",
       "std                                    5.831906   \n",
       "min                                   -0.372054   \n",
       "25%                                   11.083980   \n",
       "50%                                   17.932223   \n",
       "75%                                   21.346550   \n",
       "max                                   43.709931   \n",
       "\n",
       "       secondary_cleaner.state.floatbank5_a_level  \\\n",
       "count                                14148.000000   \n",
       "mean                                  -483.956022   \n",
       "std                                     37.892788   \n",
       "min                                   -797.142475   \n",
       "25%                                   -500.363177   \n",
       "50%                                   -499.702452   \n",
       "75%                                   -487.712108   \n",
       "max                                   -275.073125   \n",
       "\n",
       "       secondary_cleaner.state.floatbank5_b_air  \\\n",
       "count                              14148.000000   \n",
       "mean                                  13.064590   \n",
       "std                                    5.765617   \n",
       "min                                    0.646208   \n",
       "25%                                    8.994405   \n",
       "50%                                   11.997547   \n",
       "75%                                   17.982903   \n",
       "max                                   27.926001   \n",
       "\n",
       "       secondary_cleaner.state.floatbank5_b_level  \\\n",
       "count                                14148.000000   \n",
       "mean                                  -483.966564   \n",
       "std                                     39.207913   \n",
       "min                                   -800.006180   \n",
       "25%                                   -500.105994   \n",
       "50%                                   -499.914556   \n",
       "75%                                   -453.186936   \n",
       "max                                   -157.396071   \n",
       "\n",
       "       secondary_cleaner.state.floatbank6_a_air  \\\n",
       "count                              14147.000000   \n",
       "mean                                  19.577539   \n",
       "std                                    5.764417   \n",
       "min                                    0.195324   \n",
       "25%                                   14.989304   \n",
       "50%                                   19.984175   \n",
       "75%                                   24.991623   \n",
       "max                                   32.188906   \n",
       "\n",
       "       secondary_cleaner.state.floatbank6_a_level  \n",
       "count                                14148.000000  \n",
       "mean                                  -506.798480  \n",
       "std                                     37.079249  \n",
       "min                                   -809.398668  \n",
       "25%                                   -500.745104  \n",
       "50%                                   -500.061431  \n",
       "75%                                   -499.536466  \n",
       "max                                   -104.427459  \n",
       "\n",
       "[8 rows x 86 columns]"
      ]
     },
     "execution_count": 5,
     "metadata": {},
     "output_type": "execute_result"
    }
   ],
   "source": [
    "df_train.describe()"
   ]
  },
  {
   "cell_type": "code",
   "execution_count": 6,
   "metadata": {},
   "outputs": [
    {
     "data": {
      "text/html": [
       "<div>\n",
       "<style scoped>\n",
       "    .dataframe tbody tr th:only-of-type {\n",
       "        vertical-align: middle;\n",
       "    }\n",
       "\n",
       "    .dataframe tbody tr th {\n",
       "        vertical-align: top;\n",
       "    }\n",
       "\n",
       "    .dataframe thead th {\n",
       "        text-align: right;\n",
       "    }\n",
       "</style>\n",
       "<table border=\"1\" class=\"dataframe\">\n",
       "  <thead>\n",
       "    <tr style=\"text-align: right;\">\n",
       "      <th></th>\n",
       "      <th>primary_cleaner.input.sulfate</th>\n",
       "      <th>primary_cleaner.input.depressant</th>\n",
       "      <th>primary_cleaner.input.feed_size</th>\n",
       "      <th>primary_cleaner.input.xanthate</th>\n",
       "      <th>primary_cleaner.state.floatbank8_a_air</th>\n",
       "      <th>primary_cleaner.state.floatbank8_a_level</th>\n",
       "      <th>primary_cleaner.state.floatbank8_b_air</th>\n",
       "      <th>primary_cleaner.state.floatbank8_b_level</th>\n",
       "      <th>primary_cleaner.state.floatbank8_c_air</th>\n",
       "      <th>primary_cleaner.state.floatbank8_c_level</th>\n",
       "      <th>...</th>\n",
       "      <th>secondary_cleaner.state.floatbank4_a_air</th>\n",
       "      <th>secondary_cleaner.state.floatbank4_a_level</th>\n",
       "      <th>secondary_cleaner.state.floatbank4_b_air</th>\n",
       "      <th>secondary_cleaner.state.floatbank4_b_level</th>\n",
       "      <th>secondary_cleaner.state.floatbank5_a_air</th>\n",
       "      <th>secondary_cleaner.state.floatbank5_a_level</th>\n",
       "      <th>secondary_cleaner.state.floatbank5_b_air</th>\n",
       "      <th>secondary_cleaner.state.floatbank5_b_level</th>\n",
       "      <th>secondary_cleaner.state.floatbank6_a_air</th>\n",
       "      <th>secondary_cleaner.state.floatbank6_a_level</th>\n",
       "    </tr>\n",
       "  </thead>\n",
       "  <tbody>\n",
       "    <tr>\n",
       "      <th>count</th>\n",
       "      <td>5286.000000</td>\n",
       "      <td>5285.000000</td>\n",
       "      <td>5290.000000</td>\n",
       "      <td>5286.000000</td>\n",
       "      <td>5.290000e+03</td>\n",
       "      <td>5290.000000</td>\n",
       "      <td>5.290000e+03</td>\n",
       "      <td>5290.000000</td>\n",
       "      <td>5.290000e+03</td>\n",
       "      <td>5290.000000</td>\n",
       "      <td>...</td>\n",
       "      <td>5.290000e+03</td>\n",
       "      <td>5290.000000</td>\n",
       "      <td>5.290000e+03</td>\n",
       "      <td>5290.000000</td>\n",
       "      <td>5290.000000</td>\n",
       "      <td>5290.000000</td>\n",
       "      <td>5290.000000</td>\n",
       "      <td>5290.000000</td>\n",
       "      <td>5290.000000</td>\n",
       "      <td>5290.000000</td>\n",
       "    </tr>\n",
       "    <tr>\n",
       "      <th>mean</th>\n",
       "      <td>174.839652</td>\n",
       "      <td>8.683596</td>\n",
       "      <td>7.266339</td>\n",
       "      <td>1.383803</td>\n",
       "      <td>1.539494e+03</td>\n",
       "      <td>-497.665883</td>\n",
       "      <td>1.545174e+03</td>\n",
       "      <td>-500.273098</td>\n",
       "      <td>1.527272e+03</td>\n",
       "      <td>-498.330680</td>\n",
       "      <td>...</td>\n",
       "      <td>1.632007e+01</td>\n",
       "      <td>-505.144570</td>\n",
       "      <td>1.373544e+01</td>\n",
       "      <td>-463.349858</td>\n",
       "      <td>12.804186</td>\n",
       "      <td>-501.329122</td>\n",
       "      <td>9.881145</td>\n",
       "      <td>-495.663398</td>\n",
       "      <td>17.304935</td>\n",
       "      <td>-501.793193</td>\n",
       "    </tr>\n",
       "    <tr>\n",
       "      <th>std</th>\n",
       "      <td>43.027080</td>\n",
       "      <td>3.072050</td>\n",
       "      <td>0.610219</td>\n",
       "      <td>0.643474</td>\n",
       "      <td>1.167979e+02</td>\n",
       "      <td>19.952431</td>\n",
       "      <td>1.222246e+02</td>\n",
       "      <td>32.968307</td>\n",
       "      <td>1.225380e+02</td>\n",
       "      <td>21.964876</td>\n",
       "      <td>...</td>\n",
       "      <td>3.493583e+00</td>\n",
       "      <td>31.427337</td>\n",
       "      <td>3.430484e+00</td>\n",
       "      <td>86.189107</td>\n",
       "      <td>3.026591</td>\n",
       "      <td>17.951495</td>\n",
       "      <td>2.868205</td>\n",
       "      <td>34.535007</td>\n",
       "      <td>4.536544</td>\n",
       "      <td>39.044215</td>\n",
       "    </tr>\n",
       "    <tr>\n",
       "      <th>min</th>\n",
       "      <td>2.566156</td>\n",
       "      <td>0.003839</td>\n",
       "      <td>5.650000</td>\n",
       "      <td>0.004984</td>\n",
       "      <td>5.445860e-32</td>\n",
       "      <td>-795.316337</td>\n",
       "      <td>6.647490e-32</td>\n",
       "      <td>-799.997015</td>\n",
       "      <td>4.033736e-32</td>\n",
       "      <td>-799.960571</td>\n",
       "      <td>...</td>\n",
       "      <td>1.079872e-16</td>\n",
       "      <td>-799.798523</td>\n",
       "      <td>2.489718e-17</td>\n",
       "      <td>-800.836914</td>\n",
       "      <td>0.069227</td>\n",
       "      <td>-797.323986</td>\n",
       "      <td>0.528083</td>\n",
       "      <td>-800.220337</td>\n",
       "      <td>-0.079426</td>\n",
       "      <td>-809.741464</td>\n",
       "    </tr>\n",
       "    <tr>\n",
       "      <th>25%</th>\n",
       "      <td>147.121401</td>\n",
       "      <td>6.489555</td>\n",
       "      <td>6.890000</td>\n",
       "      <td>0.907623</td>\n",
       "      <td>1.498936e+03</td>\n",
       "      <td>-500.357298</td>\n",
       "      <td>1.498971e+03</td>\n",
       "      <td>-500.703002</td>\n",
       "      <td>1.473230e+03</td>\n",
       "      <td>-501.018117</td>\n",
       "      <td>...</td>\n",
       "      <td>1.403618e+01</td>\n",
       "      <td>-500.868258</td>\n",
       "      <td>1.202862e+01</td>\n",
       "      <td>-500.323028</td>\n",
       "      <td>10.914838</td>\n",
       "      <td>-500.726841</td>\n",
       "      <td>8.036719</td>\n",
       "      <td>-500.194668</td>\n",
       "      <td>13.997317</td>\n",
       "      <td>-500.690984</td>\n",
       "    </tr>\n",
       "    <tr>\n",
       "      <th>50%</th>\n",
       "      <td>177.828489</td>\n",
       "      <td>8.052207</td>\n",
       "      <td>7.250000</td>\n",
       "      <td>1.197610</td>\n",
       "      <td>1.585129e+03</td>\n",
       "      <td>-499.969164</td>\n",
       "      <td>1.595622e+03</td>\n",
       "      <td>-500.028514</td>\n",
       "      <td>1.549595e+03</td>\n",
       "      <td>-500.017711</td>\n",
       "      <td>...</td>\n",
       "      <td>1.700847e+01</td>\n",
       "      <td>-500.115727</td>\n",
       "      <td>1.496486e+01</td>\n",
       "      <td>-499.576513</td>\n",
       "      <td>12.954182</td>\n",
       "      <td>-499.990332</td>\n",
       "      <td>10.004301</td>\n",
       "      <td>-499.990535</td>\n",
       "      <td>16.014935</td>\n",
       "      <td>-500.007126</td>\n",
       "    </tr>\n",
       "    <tr>\n",
       "      <th>75%</th>\n",
       "      <td>208.125438</td>\n",
       "      <td>10.027764</td>\n",
       "      <td>7.600000</td>\n",
       "      <td>1.797819</td>\n",
       "      <td>1.602077e+03</td>\n",
       "      <td>-499.568951</td>\n",
       "      <td>1.602324e+03</td>\n",
       "      <td>-499.293257</td>\n",
       "      <td>1.601144e+03</td>\n",
       "      <td>-498.994130</td>\n",
       "      <td>...</td>\n",
       "      <td>1.803862e+01</td>\n",
       "      <td>-499.404224</td>\n",
       "      <td>1.596213e+01</td>\n",
       "      <td>-400.933805</td>\n",
       "      <td>15.097528</td>\n",
       "      <td>-499.283191</td>\n",
       "      <td>11.997467</td>\n",
       "      <td>-499.719913</td>\n",
       "      <td>21.020013</td>\n",
       "      <td>-499.373018</td>\n",
       "    </tr>\n",
       "    <tr>\n",
       "      <th>max</th>\n",
       "      <td>265.983123</td>\n",
       "      <td>40.000000</td>\n",
       "      <td>15.500000</td>\n",
       "      <td>4.102454</td>\n",
       "      <td>2.103104e+03</td>\n",
       "      <td>-57.195404</td>\n",
       "      <td>1.813084e+03</td>\n",
       "      <td>-142.527229</td>\n",
       "      <td>1.715054e+03</td>\n",
       "      <td>-150.937035</td>\n",
       "      <td>...</td>\n",
       "      <td>3.005180e+01</td>\n",
       "      <td>-401.565212</td>\n",
       "      <td>3.126971e+01</td>\n",
       "      <td>-6.506986</td>\n",
       "      <td>25.258848</td>\n",
       "      <td>-244.483566</td>\n",
       "      <td>14.086866</td>\n",
       "      <td>-137.740004</td>\n",
       "      <td>26.705889</td>\n",
       "      <td>-123.307487</td>\n",
       "    </tr>\n",
       "  </tbody>\n",
       "</table>\n",
       "<p>8 rows × 52 columns</p>\n",
       "</div>"
      ],
      "text/plain": [
       "       primary_cleaner.input.sulfate  primary_cleaner.input.depressant  \\\n",
       "count                    5286.000000                       5285.000000   \n",
       "mean                      174.839652                          8.683596   \n",
       "std                        43.027080                          3.072050   \n",
       "min                         2.566156                          0.003839   \n",
       "25%                       147.121401                          6.489555   \n",
       "50%                       177.828489                          8.052207   \n",
       "75%                       208.125438                         10.027764   \n",
       "max                       265.983123                         40.000000   \n",
       "\n",
       "       primary_cleaner.input.feed_size  primary_cleaner.input.xanthate  \\\n",
       "count                      5290.000000                     5286.000000   \n",
       "mean                          7.266339                        1.383803   \n",
       "std                           0.610219                        0.643474   \n",
       "min                           5.650000                        0.004984   \n",
       "25%                           6.890000                        0.907623   \n",
       "50%                           7.250000                        1.197610   \n",
       "75%                           7.600000                        1.797819   \n",
       "max                          15.500000                        4.102454   \n",
       "\n",
       "       primary_cleaner.state.floatbank8_a_air  \\\n",
       "count                            5.290000e+03   \n",
       "mean                             1.539494e+03   \n",
       "std                              1.167979e+02   \n",
       "min                              5.445860e-32   \n",
       "25%                              1.498936e+03   \n",
       "50%                              1.585129e+03   \n",
       "75%                              1.602077e+03   \n",
       "max                              2.103104e+03   \n",
       "\n",
       "       primary_cleaner.state.floatbank8_a_level  \\\n",
       "count                               5290.000000   \n",
       "mean                                -497.665883   \n",
       "std                                   19.952431   \n",
       "min                                 -795.316337   \n",
       "25%                                 -500.357298   \n",
       "50%                                 -499.969164   \n",
       "75%                                 -499.568951   \n",
       "max                                  -57.195404   \n",
       "\n",
       "       primary_cleaner.state.floatbank8_b_air  \\\n",
       "count                            5.290000e+03   \n",
       "mean                             1.545174e+03   \n",
       "std                              1.222246e+02   \n",
       "min                              6.647490e-32   \n",
       "25%                              1.498971e+03   \n",
       "50%                              1.595622e+03   \n",
       "75%                              1.602324e+03   \n",
       "max                              1.813084e+03   \n",
       "\n",
       "       primary_cleaner.state.floatbank8_b_level  \\\n",
       "count                               5290.000000   \n",
       "mean                                -500.273098   \n",
       "std                                   32.968307   \n",
       "min                                 -799.997015   \n",
       "25%                                 -500.703002   \n",
       "50%                                 -500.028514   \n",
       "75%                                 -499.293257   \n",
       "max                                 -142.527229   \n",
       "\n",
       "       primary_cleaner.state.floatbank8_c_air  \\\n",
       "count                            5.290000e+03   \n",
       "mean                             1.527272e+03   \n",
       "std                              1.225380e+02   \n",
       "min                              4.033736e-32   \n",
       "25%                              1.473230e+03   \n",
       "50%                              1.549595e+03   \n",
       "75%                              1.601144e+03   \n",
       "max                              1.715054e+03   \n",
       "\n",
       "       primary_cleaner.state.floatbank8_c_level  ...  \\\n",
       "count                               5290.000000  ...   \n",
       "mean                                -498.330680  ...   \n",
       "std                                   21.964876  ...   \n",
       "min                                 -799.960571  ...   \n",
       "25%                                 -501.018117  ...   \n",
       "50%                                 -500.017711  ...   \n",
       "75%                                 -498.994130  ...   \n",
       "max                                 -150.937035  ...   \n",
       "\n",
       "       secondary_cleaner.state.floatbank4_a_air  \\\n",
       "count                              5.290000e+03   \n",
       "mean                               1.632007e+01   \n",
       "std                                3.493583e+00   \n",
       "min                                1.079872e-16   \n",
       "25%                                1.403618e+01   \n",
       "50%                                1.700847e+01   \n",
       "75%                                1.803862e+01   \n",
       "max                                3.005180e+01   \n",
       "\n",
       "       secondary_cleaner.state.floatbank4_a_level  \\\n",
       "count                                 5290.000000   \n",
       "mean                                  -505.144570   \n",
       "std                                     31.427337   \n",
       "min                                   -799.798523   \n",
       "25%                                   -500.868258   \n",
       "50%                                   -500.115727   \n",
       "75%                                   -499.404224   \n",
       "max                                   -401.565212   \n",
       "\n",
       "       secondary_cleaner.state.floatbank4_b_air  \\\n",
       "count                              5.290000e+03   \n",
       "mean                               1.373544e+01   \n",
       "std                                3.430484e+00   \n",
       "min                                2.489718e-17   \n",
       "25%                                1.202862e+01   \n",
       "50%                                1.496486e+01   \n",
       "75%                                1.596213e+01   \n",
       "max                                3.126971e+01   \n",
       "\n",
       "       secondary_cleaner.state.floatbank4_b_level  \\\n",
       "count                                 5290.000000   \n",
       "mean                                  -463.349858   \n",
       "std                                     86.189107   \n",
       "min                                   -800.836914   \n",
       "25%                                   -500.323028   \n",
       "50%                                   -499.576513   \n",
       "75%                                   -400.933805   \n",
       "max                                     -6.506986   \n",
       "\n",
       "       secondary_cleaner.state.floatbank5_a_air  \\\n",
       "count                               5290.000000   \n",
       "mean                                  12.804186   \n",
       "std                                    3.026591   \n",
       "min                                    0.069227   \n",
       "25%                                   10.914838   \n",
       "50%                                   12.954182   \n",
       "75%                                   15.097528   \n",
       "max                                   25.258848   \n",
       "\n",
       "       secondary_cleaner.state.floatbank5_a_level  \\\n",
       "count                                 5290.000000   \n",
       "mean                                  -501.329122   \n",
       "std                                     17.951495   \n",
       "min                                   -797.323986   \n",
       "25%                                   -500.726841   \n",
       "50%                                   -499.990332   \n",
       "75%                                   -499.283191   \n",
       "max                                   -244.483566   \n",
       "\n",
       "       secondary_cleaner.state.floatbank5_b_air  \\\n",
       "count                               5290.000000   \n",
       "mean                                   9.881145   \n",
       "std                                    2.868205   \n",
       "min                                    0.528083   \n",
       "25%                                    8.036719   \n",
       "50%                                   10.004301   \n",
       "75%                                   11.997467   \n",
       "max                                   14.086866   \n",
       "\n",
       "       secondary_cleaner.state.floatbank5_b_level  \\\n",
       "count                                 5290.000000   \n",
       "mean                                  -495.663398   \n",
       "std                                     34.535007   \n",
       "min                                   -800.220337   \n",
       "25%                                   -500.194668   \n",
       "50%                                   -499.990535   \n",
       "75%                                   -499.719913   \n",
       "max                                   -137.740004   \n",
       "\n",
       "       secondary_cleaner.state.floatbank6_a_air  \\\n",
       "count                               5290.000000   \n",
       "mean                                  17.304935   \n",
       "std                                    4.536544   \n",
       "min                                   -0.079426   \n",
       "25%                                   13.997317   \n",
       "50%                                   16.014935   \n",
       "75%                                   21.020013   \n",
       "max                                   26.705889   \n",
       "\n",
       "       secondary_cleaner.state.floatbank6_a_level  \n",
       "count                                 5290.000000  \n",
       "mean                                  -501.793193  \n",
       "std                                     39.044215  \n",
       "min                                   -809.741464  \n",
       "25%                                   -500.690984  \n",
       "50%                                   -500.007126  \n",
       "75%                                   -499.373018  \n",
       "max                                   -123.307487  \n",
       "\n",
       "[8 rows x 52 columns]"
      ]
     },
     "execution_count": 6,
     "metadata": {},
     "output_type": "execute_result"
    }
   ],
   "source": [
    "df_test.describe()"
   ]
  },
  {
   "cell_type": "code",
   "execution_count": 7,
   "metadata": {},
   "outputs": [
    {
     "data": {
      "text/html": [
       "<div>\n",
       "<style scoped>\n",
       "    .dataframe tbody tr th:only-of-type {\n",
       "        vertical-align: middle;\n",
       "    }\n",
       "\n",
       "    .dataframe tbody tr th {\n",
       "        vertical-align: top;\n",
       "    }\n",
       "\n",
       "    .dataframe thead th {\n",
       "        text-align: right;\n",
       "    }\n",
       "</style>\n",
       "<table border=\"1\" class=\"dataframe\">\n",
       "  <thead>\n",
       "    <tr style=\"text-align: right;\">\n",
       "      <th></th>\n",
       "      <th>final.output.concentrate_ag</th>\n",
       "      <th>final.output.concentrate_pb</th>\n",
       "      <th>final.output.concentrate_sol</th>\n",
       "      <th>final.output.concentrate_au</th>\n",
       "      <th>final.output.recovery</th>\n",
       "      <th>final.output.tail_ag</th>\n",
       "      <th>final.output.tail_pb</th>\n",
       "      <th>final.output.tail_sol</th>\n",
       "      <th>final.output.tail_au</th>\n",
       "      <th>primary_cleaner.input.sulfate</th>\n",
       "      <th>...</th>\n",
       "      <th>secondary_cleaner.state.floatbank4_a_air</th>\n",
       "      <th>secondary_cleaner.state.floatbank4_a_level</th>\n",
       "      <th>secondary_cleaner.state.floatbank4_b_air</th>\n",
       "      <th>secondary_cleaner.state.floatbank4_b_level</th>\n",
       "      <th>secondary_cleaner.state.floatbank5_a_air</th>\n",
       "      <th>secondary_cleaner.state.floatbank5_a_level</th>\n",
       "      <th>secondary_cleaner.state.floatbank5_b_air</th>\n",
       "      <th>secondary_cleaner.state.floatbank5_b_level</th>\n",
       "      <th>secondary_cleaner.state.floatbank6_a_air</th>\n",
       "      <th>secondary_cleaner.state.floatbank6_a_level</th>\n",
       "    </tr>\n",
       "  </thead>\n",
       "  <tbody>\n",
       "    <tr>\n",
       "      <th>count</th>\n",
       "      <td>19438.000000</td>\n",
       "      <td>19438.000000</td>\n",
       "      <td>19228.000000</td>\n",
       "      <td>19439.000000</td>\n",
       "      <td>19439.000000</td>\n",
       "      <td>19438.000000</td>\n",
       "      <td>19338.000000</td>\n",
       "      <td>19433.000000</td>\n",
       "      <td>19439.000000</td>\n",
       "      <td>19415.000000</td>\n",
       "      <td>...</td>\n",
       "      <td>19433.000000</td>\n",
       "      <td>19438.000000</td>\n",
       "      <td>19438.000000</td>\n",
       "      <td>19438.000000</td>\n",
       "      <td>19438.000000</td>\n",
       "      <td>19438.000000</td>\n",
       "      <td>19438.000000</td>\n",
       "      <td>19438.000000</td>\n",
       "      <td>19437.000000</td>\n",
       "      <td>19438.000000</td>\n",
       "    </tr>\n",
       "    <tr>\n",
       "      <th>mean</th>\n",
       "      <td>5.168470</td>\n",
       "      <td>9.978895</td>\n",
       "      <td>9.501224</td>\n",
       "      <td>44.076513</td>\n",
       "      <td>67.050208</td>\n",
       "      <td>9.688589</td>\n",
       "      <td>2.705795</td>\n",
       "      <td>10.583728</td>\n",
       "      <td>3.042467</td>\n",
       "      <td>144.624774</td>\n",
       "      <td>...</td>\n",
       "      <td>18.987674</td>\n",
       "      <td>-485.894516</td>\n",
       "      <td>15.010366</td>\n",
       "      <td>-461.078636</td>\n",
       "      <td>15.694452</td>\n",
       "      <td>-488.684065</td>\n",
       "      <td>12.198224</td>\n",
       "      <td>-487.149827</td>\n",
       "      <td>18.959024</td>\n",
       "      <td>-505.436305</td>\n",
       "    </tr>\n",
       "    <tr>\n",
       "      <th>std</th>\n",
       "      <td>1.372348</td>\n",
       "      <td>1.669240</td>\n",
       "      <td>2.787537</td>\n",
       "      <td>5.129784</td>\n",
       "      <td>10.125840</td>\n",
       "      <td>2.328642</td>\n",
       "      <td>0.949077</td>\n",
       "      <td>2.868782</td>\n",
       "      <td>0.922808</td>\n",
       "      <td>44.464071</td>\n",
       "      <td>...</td>\n",
       "      <td>5.411058</td>\n",
       "      <td>47.758570</td>\n",
       "      <td>4.890228</td>\n",
       "      <td>67.405524</td>\n",
       "      <td>5.510974</td>\n",
       "      <td>34.533396</td>\n",
       "      <td>5.333024</td>\n",
       "      <td>38.347312</td>\n",
       "      <td>5.550498</td>\n",
       "      <td>37.689057</td>\n",
       "    </tr>\n",
       "    <tr>\n",
       "      <th>min</th>\n",
       "      <td>0.000000</td>\n",
       "      <td>0.000000</td>\n",
       "      <td>0.000000</td>\n",
       "      <td>0.000000</td>\n",
       "      <td>0.000000</td>\n",
       "      <td>0.000000</td>\n",
       "      <td>0.000000</td>\n",
       "      <td>0.000000</td>\n",
       "      <td>0.000000</td>\n",
       "      <td>0.003112</td>\n",
       "      <td>...</td>\n",
       "      <td>0.000000</td>\n",
       "      <td>-799.798523</td>\n",
       "      <td>0.000000</td>\n",
       "      <td>-800.836914</td>\n",
       "      <td>-0.372054</td>\n",
       "      <td>-797.323986</td>\n",
       "      <td>0.528083</td>\n",
       "      <td>-800.220337</td>\n",
       "      <td>-0.079426</td>\n",
       "      <td>-809.741464</td>\n",
       "    </tr>\n",
       "    <tr>\n",
       "      <th>25%</th>\n",
       "      <td>4.251240</td>\n",
       "      <td>9.137262</td>\n",
       "      <td>7.722820</td>\n",
       "      <td>43.402215</td>\n",
       "      <td>63.299712</td>\n",
       "      <td>8.062878</td>\n",
       "      <td>2.040119</td>\n",
       "      <td>8.938947</td>\n",
       "      <td>2.461138</td>\n",
       "      <td>114.107029</td>\n",
       "      <td>...</td>\n",
       "      <td>14.975734</td>\n",
       "      <td>-500.704892</td>\n",
       "      <td>11.940294</td>\n",
       "      <td>-500.187742</td>\n",
       "      <td>10.988606</td>\n",
       "      <td>-500.458467</td>\n",
       "      <td>8.971105</td>\n",
       "      <td>-500.129462</td>\n",
       "      <td>14.983037</td>\n",
       "      <td>-500.728067</td>\n",
       "    </tr>\n",
       "    <tr>\n",
       "      <th>50%</th>\n",
       "      <td>5.066094</td>\n",
       "      <td>10.102433</td>\n",
       "      <td>9.218961</td>\n",
       "      <td>45.011244</td>\n",
       "      <td>68.172738</td>\n",
       "      <td>9.743623</td>\n",
       "      <td>2.748730</td>\n",
       "      <td>10.622456</td>\n",
       "      <td>2.984909</td>\n",
       "      <td>143.232103</td>\n",
       "      <td>...</td>\n",
       "      <td>18.017481</td>\n",
       "      <td>-499.837793</td>\n",
       "      <td>14.971014</td>\n",
       "      <td>-499.459786</td>\n",
       "      <td>15.000036</td>\n",
       "      <td>-499.802605</td>\n",
       "      <td>11.019433</td>\n",
       "      <td>-499.935317</td>\n",
       "      <td>19.960541</td>\n",
       "      <td>-500.048400</td>\n",
       "    </tr>\n",
       "    <tr>\n",
       "      <th>75%</th>\n",
       "      <td>5.895527</td>\n",
       "      <td>11.035769</td>\n",
       "      <td>10.947813</td>\n",
       "      <td>46.275313</td>\n",
       "      <td>72.686642</td>\n",
       "      <td>11.134294</td>\n",
       "      <td>3.333216</td>\n",
       "      <td>12.104271</td>\n",
       "      <td>3.571351</td>\n",
       "      <td>175.075656</td>\n",
       "      <td>...</td>\n",
       "      <td>23.012470</td>\n",
       "      <td>-498.249730</td>\n",
       "      <td>19.034162</td>\n",
       "      <td>-400.118106</td>\n",
       "      <td>18.026190</td>\n",
       "      <td>-498.384187</td>\n",
       "      <td>14.019088</td>\n",
       "      <td>-499.436708</td>\n",
       "      <td>24.003170</td>\n",
       "      <td>-499.495378</td>\n",
       "    </tr>\n",
       "    <tr>\n",
       "      <th>max</th>\n",
       "      <td>16.001945</td>\n",
       "      <td>17.031899</td>\n",
       "      <td>19.615720</td>\n",
       "      <td>52.756638</td>\n",
       "      <td>100.000000</td>\n",
       "      <td>19.552149</td>\n",
       "      <td>5.804178</td>\n",
       "      <td>22.317730</td>\n",
       "      <td>8.245022</td>\n",
       "      <td>265.983123</td>\n",
       "      <td>...</td>\n",
       "      <td>30.115735</td>\n",
       "      <td>-245.239184</td>\n",
       "      <td>31.269706</td>\n",
       "      <td>-6.506986</td>\n",
       "      <td>43.709931</td>\n",
       "      <td>-244.483566</td>\n",
       "      <td>27.926001</td>\n",
       "      <td>-137.740004</td>\n",
       "      <td>32.188906</td>\n",
       "      <td>-104.427459</td>\n",
       "    </tr>\n",
       "  </tbody>\n",
       "</table>\n",
       "<p>8 rows × 86 columns</p>\n",
       "</div>"
      ],
      "text/plain": [
       "       final.output.concentrate_ag  final.output.concentrate_pb  \\\n",
       "count                 19438.000000                 19438.000000   \n",
       "mean                      5.168470                     9.978895   \n",
       "std                       1.372348                     1.669240   \n",
       "min                       0.000000                     0.000000   \n",
       "25%                       4.251240                     9.137262   \n",
       "50%                       5.066094                    10.102433   \n",
       "75%                       5.895527                    11.035769   \n",
       "max                      16.001945                    17.031899   \n",
       "\n",
       "       final.output.concentrate_sol  final.output.concentrate_au  \\\n",
       "count                  19228.000000                 19439.000000   \n",
       "mean                       9.501224                    44.076513   \n",
       "std                        2.787537                     5.129784   \n",
       "min                        0.000000                     0.000000   \n",
       "25%                        7.722820                    43.402215   \n",
       "50%                        9.218961                    45.011244   \n",
       "75%                       10.947813                    46.275313   \n",
       "max                       19.615720                    52.756638   \n",
       "\n",
       "       final.output.recovery  final.output.tail_ag  final.output.tail_pb  \\\n",
       "count           19439.000000          19438.000000          19338.000000   \n",
       "mean               67.050208              9.688589              2.705795   \n",
       "std                10.125840              2.328642              0.949077   \n",
       "min                 0.000000              0.000000              0.000000   \n",
       "25%                63.299712              8.062878              2.040119   \n",
       "50%                68.172738              9.743623              2.748730   \n",
       "75%                72.686642             11.134294              3.333216   \n",
       "max               100.000000             19.552149              5.804178   \n",
       "\n",
       "       final.output.tail_sol  final.output.tail_au  \\\n",
       "count           19433.000000          19439.000000   \n",
       "mean               10.583728              3.042467   \n",
       "std                 2.868782              0.922808   \n",
       "min                 0.000000              0.000000   \n",
       "25%                 8.938947              2.461138   \n",
       "50%                10.622456              2.984909   \n",
       "75%                12.104271              3.571351   \n",
       "max                22.317730              8.245022   \n",
       "\n",
       "       primary_cleaner.input.sulfate  ...  \\\n",
       "count                   19415.000000  ...   \n",
       "mean                      144.624774  ...   \n",
       "std                        44.464071  ...   \n",
       "min                         0.003112  ...   \n",
       "25%                       114.107029  ...   \n",
       "50%                       143.232103  ...   \n",
       "75%                       175.075656  ...   \n",
       "max                       265.983123  ...   \n",
       "\n",
       "       secondary_cleaner.state.floatbank4_a_air  \\\n",
       "count                              19433.000000   \n",
       "mean                                  18.987674   \n",
       "std                                    5.411058   \n",
       "min                                    0.000000   \n",
       "25%                                   14.975734   \n",
       "50%                                   18.017481   \n",
       "75%                                   23.012470   \n",
       "max                                   30.115735   \n",
       "\n",
       "       secondary_cleaner.state.floatbank4_a_level  \\\n",
       "count                                19438.000000   \n",
       "mean                                  -485.894516   \n",
       "std                                     47.758570   \n",
       "min                                   -799.798523   \n",
       "25%                                   -500.704892   \n",
       "50%                                   -499.837793   \n",
       "75%                                   -498.249730   \n",
       "max                                   -245.239184   \n",
       "\n",
       "       secondary_cleaner.state.floatbank4_b_air  \\\n",
       "count                              19438.000000   \n",
       "mean                                  15.010366   \n",
       "std                                    4.890228   \n",
       "min                                    0.000000   \n",
       "25%                                   11.940294   \n",
       "50%                                   14.971014   \n",
       "75%                                   19.034162   \n",
       "max                                   31.269706   \n",
       "\n",
       "       secondary_cleaner.state.floatbank4_b_level  \\\n",
       "count                                19438.000000   \n",
       "mean                                  -461.078636   \n",
       "std                                     67.405524   \n",
       "min                                   -800.836914   \n",
       "25%                                   -500.187742   \n",
       "50%                                   -499.459786   \n",
       "75%                                   -400.118106   \n",
       "max                                     -6.506986   \n",
       "\n",
       "       secondary_cleaner.state.floatbank5_a_air  \\\n",
       "count                              19438.000000   \n",
       "mean                                  15.694452   \n",
       "std                                    5.510974   \n",
       "min                                   -0.372054   \n",
       "25%                                   10.988606   \n",
       "50%                                   15.000036   \n",
       "75%                                   18.026190   \n",
       "max                                   43.709931   \n",
       "\n",
       "       secondary_cleaner.state.floatbank5_a_level  \\\n",
       "count                                19438.000000   \n",
       "mean                                  -488.684065   \n",
       "std                                     34.533396   \n",
       "min                                   -797.323986   \n",
       "25%                                   -500.458467   \n",
       "50%                                   -499.802605   \n",
       "75%                                   -498.384187   \n",
       "max                                   -244.483566   \n",
       "\n",
       "       secondary_cleaner.state.floatbank5_b_air  \\\n",
       "count                              19438.000000   \n",
       "mean                                  12.198224   \n",
       "std                                    5.333024   \n",
       "min                                    0.528083   \n",
       "25%                                    8.971105   \n",
       "50%                                   11.019433   \n",
       "75%                                   14.019088   \n",
       "max                                   27.926001   \n",
       "\n",
       "       secondary_cleaner.state.floatbank5_b_level  \\\n",
       "count                                19438.000000   \n",
       "mean                                  -487.149827   \n",
       "std                                     38.347312   \n",
       "min                                   -800.220337   \n",
       "25%                                   -500.129462   \n",
       "50%                                   -499.935317   \n",
       "75%                                   -499.436708   \n",
       "max                                   -137.740004   \n",
       "\n",
       "       secondary_cleaner.state.floatbank6_a_air  \\\n",
       "count                              19437.000000   \n",
       "mean                                  18.959024   \n",
       "std                                    5.550498   \n",
       "min                                   -0.079426   \n",
       "25%                                   14.983037   \n",
       "50%                                   19.960541   \n",
       "75%                                   24.003170   \n",
       "max                                   32.188906   \n",
       "\n",
       "       secondary_cleaner.state.floatbank6_a_level  \n",
       "count                                19438.000000  \n",
       "mean                                  -505.436305  \n",
       "std                                     37.689057  \n",
       "min                                   -809.741464  \n",
       "25%                                   -500.728067  \n",
       "50%                                   -500.048400  \n",
       "75%                                   -499.495378  \n",
       "max                                   -104.427459  \n",
       "\n",
       "[8 rows x 86 columns]"
      ]
     },
     "execution_count": 7,
     "metadata": {},
     "output_type": "execute_result"
    }
   ],
   "source": [
    "df_full.describe()"
   ]
  },
  {
   "cell_type": "markdown",
   "metadata": {},
   "source": [
    "Посмотрим количество пропусков в процентах и в абсолютных величинах:"
   ]
  },
  {
   "cell_type": "code",
   "execution_count": 8,
   "metadata": {
    "scrolled": false
   },
   "outputs": [
    {
     "data": {
      "text/html": [
       "<div>\n",
       "<style scoped>\n",
       "    .dataframe tbody tr th:only-of-type {\n",
       "        vertical-align: middle;\n",
       "    }\n",
       "\n",
       "    .dataframe tbody tr th {\n",
       "        vertical-align: top;\n",
       "    }\n",
       "\n",
       "    .dataframe thead th {\n",
       "        text-align: right;\n",
       "    }\n",
       "</style>\n",
       "<table border=\"1\" class=\"dataframe\">\n",
       "  <thead>\n",
       "    <tr style=\"text-align: right;\">\n",
       "      <th></th>\n",
       "      <th>%</th>\n",
       "      <th>abs</th>\n",
       "    </tr>\n",
       "  </thead>\n",
       "  <tbody>\n",
       "    <tr>\n",
       "      <th>secondary_cleaner.output.tail_sol</th>\n",
       "      <td>0.113436</td>\n",
       "      <td>1605</td>\n",
       "    </tr>\n",
       "    <tr>\n",
       "      <th>rougher.state.floatbank10_e_air</th>\n",
       "      <td>0.030815</td>\n",
       "      <td>436</td>\n",
       "    </tr>\n",
       "    <tr>\n",
       "      <th>rougher.input.floatbank11_xanthate</th>\n",
       "      <td>0.030249</td>\n",
       "      <td>428</td>\n",
       "    </tr>\n",
       "    <tr>\n",
       "      <th>primary_cleaner.output.concentrate_sol</th>\n",
       "      <td>0.020213</td>\n",
       "      <td>286</td>\n",
       "    </tr>\n",
       "    <tr>\n",
       "      <th>secondary_cleaner.state.floatbank2_a_air</th>\n",
       "      <td>0.015337</td>\n",
       "      <td>217</td>\n",
       "    </tr>\n",
       "    <tr>\n",
       "      <th>final.output.concentrate_sol</th>\n",
       "      <td>0.014913</td>\n",
       "      <td>211</td>\n",
       "    </tr>\n",
       "    <tr>\n",
       "      <th>rougher.input.feed_size</th>\n",
       "      <td>0.010177</td>\n",
       "      <td>144</td>\n",
       "    </tr>\n",
       "    <tr>\n",
       "      <th>primary_cleaner.input.xanthate</th>\n",
       "      <td>0.007068</td>\n",
       "      <td>100</td>\n",
       "    </tr>\n",
       "    <tr>\n",
       "      <th>rougher.input.feed_pb</th>\n",
       "      <td>0.007068</td>\n",
       "      <td>100</td>\n",
       "    </tr>\n",
       "    <tr>\n",
       "      <th>final.output.tail_pb</th>\n",
       "      <td>0.007068</td>\n",
       "      <td>100</td>\n",
       "    </tr>\n",
       "  </tbody>\n",
       "</table>\n",
       "</div>"
      ],
      "text/plain": [
       "                                                 %   abs\n",
       "secondary_cleaner.output.tail_sol         0.113436  1605\n",
       "rougher.state.floatbank10_e_air           0.030815   436\n",
       "rougher.input.floatbank11_xanthate        0.030249   428\n",
       "primary_cleaner.output.concentrate_sol    0.020213   286\n",
       "secondary_cleaner.state.floatbank2_a_air  0.015337   217\n",
       "final.output.concentrate_sol              0.014913   211\n",
       "rougher.input.feed_size                   0.010177   144\n",
       "primary_cleaner.input.xanthate            0.007068   100\n",
       "rougher.input.feed_pb                     0.007068   100\n",
       "final.output.tail_pb                      0.007068   100"
      ]
     },
     "execution_count": 8,
     "metadata": {},
     "output_type": "execute_result"
    }
   ],
   "source": [
    "# display(pd.DataFrame(round(df_train.isna().mean()*100,)).style.background_gradient('coolwarm'))\n",
    "def na_info(df):\n",
    "    na_info = (df.isna() | df.isnull()).sum()\n",
    "    res = (pd.concat([na_info / df.shape[0], na_info], axis=1,  keys = ['%', 'abs'])\n",
    "           .sort_values('%', ascending = False))\n",
    "    return res\n",
    "\n",
    "na_info(df_train).head(10)"
   ]
  },
  {
   "cell_type": "code",
   "execution_count": 9,
   "metadata": {
    "scrolled": false
   },
   "outputs": [
    {
     "data": {
      "text/html": [
       "<div>\n",
       "<style scoped>\n",
       "    .dataframe tbody tr th:only-of-type {\n",
       "        vertical-align: middle;\n",
       "    }\n",
       "\n",
       "    .dataframe tbody tr th {\n",
       "        vertical-align: top;\n",
       "    }\n",
       "\n",
       "    .dataframe thead th {\n",
       "        text-align: right;\n",
       "    }\n",
       "</style>\n",
       "<table border=\"1\" class=\"dataframe\">\n",
       "  <thead>\n",
       "    <tr style=\"text-align: right;\">\n",
       "      <th></th>\n",
       "      <th>%</th>\n",
       "      <th>abs</th>\n",
       "    </tr>\n",
       "  </thead>\n",
       "  <tbody>\n",
       "    <tr>\n",
       "      <th>rougher.input.floatbank11_xanthate</th>\n",
       "      <td>0.004726</td>\n",
       "      <td>25</td>\n",
       "    </tr>\n",
       "    <tr>\n",
       "      <th>rougher.input.feed_sol</th>\n",
       "      <td>0.003970</td>\n",
       "      <td>21</td>\n",
       "    </tr>\n",
       "    <tr>\n",
       "      <th>secondary_cleaner.state.floatbank3_a_air</th>\n",
       "      <td>0.001701</td>\n",
       "      <td>9</td>\n",
       "    </tr>\n",
       "    <tr>\n",
       "      <th>rougher.input.floatbank11_sulfate</th>\n",
       "      <td>0.001512</td>\n",
       "      <td>8</td>\n",
       "    </tr>\n",
       "    <tr>\n",
       "      <th>primary_cleaner.input.depressant</th>\n",
       "      <td>0.000945</td>\n",
       "      <td>5</td>\n",
       "    </tr>\n",
       "    <tr>\n",
       "      <th>rougher.input.floatbank10_sulfate</th>\n",
       "      <td>0.000945</td>\n",
       "      <td>5</td>\n",
       "    </tr>\n",
       "    <tr>\n",
       "      <th>primary_cleaner.input.xanthate</th>\n",
       "      <td>0.000756</td>\n",
       "      <td>4</td>\n",
       "    </tr>\n",
       "    <tr>\n",
       "      <th>primary_cleaner.input.sulfate</th>\n",
       "      <td>0.000756</td>\n",
       "      <td>4</td>\n",
       "    </tr>\n",
       "    <tr>\n",
       "      <th>rougher.input.feed_rate</th>\n",
       "      <td>0.000567</td>\n",
       "      <td>3</td>\n",
       "    </tr>\n",
       "    <tr>\n",
       "      <th>secondary_cleaner.state.floatbank2_a_air</th>\n",
       "      <td>0.000567</td>\n",
       "      <td>3</td>\n",
       "    </tr>\n",
       "  </tbody>\n",
       "</table>\n",
       "</div>"
      ],
      "text/plain": [
       "                                                 %  abs\n",
       "rougher.input.floatbank11_xanthate        0.004726   25\n",
       "rougher.input.feed_sol                    0.003970   21\n",
       "secondary_cleaner.state.floatbank3_a_air  0.001701    9\n",
       "rougher.input.floatbank11_sulfate         0.001512    8\n",
       "primary_cleaner.input.depressant          0.000945    5\n",
       "rougher.input.floatbank10_sulfate         0.000945    5\n",
       "primary_cleaner.input.xanthate            0.000756    4\n",
       "primary_cleaner.input.sulfate             0.000756    4\n",
       "rougher.input.feed_rate                   0.000567    3\n",
       "secondary_cleaner.state.floatbank2_a_air  0.000567    3"
      ]
     },
     "execution_count": 9,
     "metadata": {},
     "output_type": "execute_result"
    }
   ],
   "source": [
    "na_info(df_test).head(10)"
   ]
  },
  {
   "cell_type": "code",
   "execution_count": 10,
   "metadata": {
    "scrolled": false
   },
   "outputs": [
    {
     "data": {
      "text/html": [
       "<div>\n",
       "<style scoped>\n",
       "    .dataframe tbody tr th:only-of-type {\n",
       "        vertical-align: middle;\n",
       "    }\n",
       "\n",
       "    .dataframe tbody tr th {\n",
       "        vertical-align: top;\n",
       "    }\n",
       "\n",
       "    .dataframe thead th {\n",
       "        text-align: right;\n",
       "    }\n",
       "</style>\n",
       "<table border=\"1\" class=\"dataframe\">\n",
       "  <thead>\n",
       "    <tr style=\"text-align: right;\">\n",
       "      <th></th>\n",
       "      <th>%</th>\n",
       "      <th>abs</th>\n",
       "    </tr>\n",
       "  </thead>\n",
       "  <tbody>\n",
       "    <tr>\n",
       "      <th>secondary_cleaner.output.tail_sol</th>\n",
       "      <td>0.089922</td>\n",
       "      <td>1748</td>\n",
       "    </tr>\n",
       "    <tr>\n",
       "      <th>rougher.input.floatbank11_xanthate</th>\n",
       "      <td>0.023304</td>\n",
       "      <td>453</td>\n",
       "    </tr>\n",
       "    <tr>\n",
       "      <th>rougher.state.floatbank10_e_air</th>\n",
       "      <td>0.022429</td>\n",
       "      <td>436</td>\n",
       "    </tr>\n",
       "    <tr>\n",
       "      <th>primary_cleaner.output.concentrate_sol</th>\n",
       "      <td>0.019034</td>\n",
       "      <td>370</td>\n",
       "    </tr>\n",
       "    <tr>\n",
       "      <th>secondary_cleaner.state.floatbank2_a_air</th>\n",
       "      <td>0.011317</td>\n",
       "      <td>220</td>\n",
       "    </tr>\n",
       "    <tr>\n",
       "      <th>final.output.concentrate_sol</th>\n",
       "      <td>0.010854</td>\n",
       "      <td>211</td>\n",
       "    </tr>\n",
       "    <tr>\n",
       "      <th>rougher.input.feed_size</th>\n",
       "      <td>0.007459</td>\n",
       "      <td>145</td>\n",
       "    </tr>\n",
       "    <tr>\n",
       "      <th>primary_cleaner.output.concentrate_pb</th>\n",
       "      <td>0.005967</td>\n",
       "      <td>116</td>\n",
       "    </tr>\n",
       "    <tr>\n",
       "      <th>primary_cleaner.input.xanthate</th>\n",
       "      <td>0.005350</td>\n",
       "      <td>104</td>\n",
       "    </tr>\n",
       "    <tr>\n",
       "      <th>final.output.tail_pb</th>\n",
       "      <td>0.005196</td>\n",
       "      <td>101</td>\n",
       "    </tr>\n",
       "  </tbody>\n",
       "</table>\n",
       "</div>"
      ],
      "text/plain": [
       "                                                 %   abs\n",
       "secondary_cleaner.output.tail_sol         0.089922  1748\n",
       "rougher.input.floatbank11_xanthate        0.023304   453\n",
       "rougher.state.floatbank10_e_air           0.022429   436\n",
       "primary_cleaner.output.concentrate_sol    0.019034   370\n",
       "secondary_cleaner.state.floatbank2_a_air  0.011317   220\n",
       "final.output.concentrate_sol              0.010854   211\n",
       "rougher.input.feed_size                   0.007459   145\n",
       "primary_cleaner.output.concentrate_pb     0.005967   116\n",
       "primary_cleaner.input.xanthate            0.005350   104\n",
       "final.output.tail_pb                      0.005196   101"
      ]
     },
     "execution_count": 10,
     "metadata": {},
     "output_type": "execute_result"
    }
   ],
   "source": [
    "na_info(df_full).head(10)"
   ]
  },
  {
   "cell_type": "markdown",
   "metadata": {},
   "source": [
    "Пропуски в df_test незначительны, пропусков в df_train больше.\n",
    "\n",
    "Проверим датафреймы на дубликаты по признаку `date`:"
   ]
  },
  {
   "cell_type": "code",
   "execution_count": 11,
   "metadata": {},
   "outputs": [
    {
     "data": {
      "text/plain": [
       "0"
      ]
     },
     "execution_count": 11,
     "metadata": {},
     "output_type": "execute_result"
    }
   ],
   "source": [
    "df_train['date'].duplicated().sum()"
   ]
  },
  {
   "cell_type": "code",
   "execution_count": 12,
   "metadata": {},
   "outputs": [
    {
     "data": {
      "text/plain": [
       "0"
      ]
     },
     "execution_count": 12,
     "metadata": {},
     "output_type": "execute_result"
    }
   ],
   "source": [
    "df_test['date'].duplicated().sum()"
   ]
  },
  {
   "cell_type": "code",
   "execution_count": 13,
   "metadata": {},
   "outputs": [
    {
     "data": {
      "text/plain": [
       "0"
      ]
     },
     "execution_count": 13,
     "metadata": {},
     "output_type": "execute_result"
    }
   ],
   "source": [
    "df_full['date'].duplicated().sum()"
   ]
  },
  {
   "cell_type": "markdown",
   "metadata": {},
   "source": [
    "Проиндексируем данные по дате и временем получения информации (признак `date`).\n",
    "\n",
    "Заполним пропуски значений используя информацию, что соседние по времени параметры часто похожи.\n",
    "\n",
    "Данные с заполнеными пропусками сохраним в датафремы `good_*`."
   ]
  },
  {
   "cell_type": "code",
   "execution_count": 14,
   "metadata": {},
   "outputs": [
    {
     "data": {
      "text/html": [
       "<div>\n",
       "<style scoped>\n",
       "    .dataframe tbody tr th:only-of-type {\n",
       "        vertical-align: middle;\n",
       "    }\n",
       "\n",
       "    .dataframe tbody tr th {\n",
       "        vertical-align: top;\n",
       "    }\n",
       "\n",
       "    .dataframe thead th {\n",
       "        text-align: right;\n",
       "    }\n",
       "</style>\n",
       "<table border=\"1\" class=\"dataframe\">\n",
       "  <thead>\n",
       "    <tr style=\"text-align: right;\">\n",
       "      <th></th>\n",
       "      <th>%</th>\n",
       "      <th>abs</th>\n",
       "    </tr>\n",
       "  </thead>\n",
       "  <tbody>\n",
       "    <tr>\n",
       "      <th>final.output.concentrate_ag</th>\n",
       "      <td>0.0</td>\n",
       "      <td>0</td>\n",
       "    </tr>\n",
       "    <tr>\n",
       "      <th>rougher.state.floatbank10_b_air</th>\n",
       "      <td>0.0</td>\n",
       "      <td>0</td>\n",
       "    </tr>\n",
       "    <tr>\n",
       "      <th>rougher.state.floatbank10_f_air</th>\n",
       "      <td>0.0</td>\n",
       "      <td>0</td>\n",
       "    </tr>\n",
       "  </tbody>\n",
       "</table>\n",
       "</div>"
      ],
      "text/plain": [
       "                                   %  abs\n",
       "final.output.concentrate_ag      0.0    0\n",
       "rougher.state.floatbank10_b_air  0.0    0\n",
       "rougher.state.floatbank10_f_air  0.0    0"
      ]
     },
     "execution_count": 14,
     "metadata": {},
     "output_type": "execute_result"
    }
   ],
   "source": [
    "df_train.set_index('date', inplace = True)\n",
    "good_df_train = df_train.ffill(axis = 0)\n",
    "na_info(good_df_train).head(3)"
   ]
  },
  {
   "cell_type": "code",
   "execution_count": 15,
   "metadata": {},
   "outputs": [
    {
     "data": {
      "text/html": [
       "<div>\n",
       "<style scoped>\n",
       "    .dataframe tbody tr th:only-of-type {\n",
       "        vertical-align: middle;\n",
       "    }\n",
       "\n",
       "    .dataframe tbody tr th {\n",
       "        vertical-align: top;\n",
       "    }\n",
       "\n",
       "    .dataframe thead th {\n",
       "        text-align: right;\n",
       "    }\n",
       "</style>\n",
       "<table border=\"1\" class=\"dataframe\">\n",
       "  <thead>\n",
       "    <tr style=\"text-align: right;\">\n",
       "      <th></th>\n",
       "      <th>%</th>\n",
       "      <th>abs</th>\n",
       "    </tr>\n",
       "  </thead>\n",
       "  <tbody>\n",
       "    <tr>\n",
       "      <th>primary_cleaner.input.sulfate</th>\n",
       "      <td>0.0</td>\n",
       "      <td>0</td>\n",
       "    </tr>\n",
       "    <tr>\n",
       "      <th>primary_cleaner.input.depressant</th>\n",
       "      <td>0.0</td>\n",
       "      <td>0</td>\n",
       "    </tr>\n",
       "    <tr>\n",
       "      <th>rougher.state.floatbank10_d_air</th>\n",
       "      <td>0.0</td>\n",
       "      <td>0</td>\n",
       "    </tr>\n",
       "  </tbody>\n",
       "</table>\n",
       "</div>"
      ],
      "text/plain": [
       "                                    %  abs\n",
       "primary_cleaner.input.sulfate     0.0    0\n",
       "primary_cleaner.input.depressant  0.0    0\n",
       "rougher.state.floatbank10_d_air   0.0    0"
      ]
     },
     "execution_count": 15,
     "metadata": {},
     "output_type": "execute_result"
    }
   ],
   "source": [
    "df_test.set_index('date', inplace = True)\n",
    "good_df_test = df_test.ffill(axis = 0)\n",
    "na_info(good_df_test).head(3)"
   ]
  },
  {
   "cell_type": "code",
   "execution_count": 16,
   "metadata": {},
   "outputs": [
    {
     "data": {
      "text/html": [
       "<div>\n",
       "<style scoped>\n",
       "    .dataframe tbody tr th:only-of-type {\n",
       "        vertical-align: middle;\n",
       "    }\n",
       "\n",
       "    .dataframe tbody tr th {\n",
       "        vertical-align: top;\n",
       "    }\n",
       "\n",
       "    .dataframe thead th {\n",
       "        text-align: right;\n",
       "    }\n",
       "</style>\n",
       "<table border=\"1\" class=\"dataframe\">\n",
       "  <thead>\n",
       "    <tr style=\"text-align: right;\">\n",
       "      <th></th>\n",
       "      <th>%</th>\n",
       "      <th>abs</th>\n",
       "    </tr>\n",
       "  </thead>\n",
       "  <tbody>\n",
       "    <tr>\n",
       "      <th>final.output.concentrate_ag</th>\n",
       "      <td>0.0</td>\n",
       "      <td>0</td>\n",
       "    </tr>\n",
       "    <tr>\n",
       "      <th>rougher.state.floatbank10_b_air</th>\n",
       "      <td>0.0</td>\n",
       "      <td>0</td>\n",
       "    </tr>\n",
       "    <tr>\n",
       "      <th>rougher.state.floatbank10_f_air</th>\n",
       "      <td>0.0</td>\n",
       "      <td>0</td>\n",
       "    </tr>\n",
       "  </tbody>\n",
       "</table>\n",
       "</div>"
      ],
      "text/plain": [
       "                                   %  abs\n",
       "final.output.concentrate_ag      0.0    0\n",
       "rougher.state.floatbank10_b_air  0.0    0\n",
       "rougher.state.floatbank10_f_air  0.0    0"
      ]
     },
     "execution_count": 16,
     "metadata": {},
     "output_type": "execute_result"
    }
   ],
   "source": [
    "df_full.set_index('date', inplace = True)\n",
    "good_df_full = df_full.ffill(axis = 0)\n",
    "na_info(good_df_full).head(3)"
   ]
  },
  {
   "cell_type": "markdown",
   "metadata": {},
   "source": [
    "Посмотрим какие признаки есть в good_df_train, но нет в good_df_test:"
   ]
  },
  {
   "cell_type": "code",
   "execution_count": 17,
   "metadata": {
    "scrolled": true
   },
   "outputs": [
    {
     "data": {
      "text/plain": [
       "{'final.output.concentrate_ag',\n",
       " 'final.output.concentrate_au',\n",
       " 'final.output.concentrate_pb',\n",
       " 'final.output.concentrate_sol',\n",
       " 'final.output.recovery',\n",
       " 'final.output.tail_ag',\n",
       " 'final.output.tail_au',\n",
       " 'final.output.tail_pb',\n",
       " 'final.output.tail_sol',\n",
       " 'primary_cleaner.output.concentrate_ag',\n",
       " 'primary_cleaner.output.concentrate_au',\n",
       " 'primary_cleaner.output.concentrate_pb',\n",
       " 'primary_cleaner.output.concentrate_sol',\n",
       " 'primary_cleaner.output.tail_ag',\n",
       " 'primary_cleaner.output.tail_au',\n",
       " 'primary_cleaner.output.tail_pb',\n",
       " 'primary_cleaner.output.tail_sol',\n",
       " 'rougher.calculation.au_pb_ratio',\n",
       " 'rougher.calculation.floatbank10_sulfate_to_au_feed',\n",
       " 'rougher.calculation.floatbank11_sulfate_to_au_feed',\n",
       " 'rougher.calculation.sulfate_to_au_concentrate',\n",
       " 'rougher.output.concentrate_ag',\n",
       " 'rougher.output.concentrate_au',\n",
       " 'rougher.output.concentrate_pb',\n",
       " 'rougher.output.concentrate_sol',\n",
       " 'rougher.output.recovery',\n",
       " 'rougher.output.tail_ag',\n",
       " 'rougher.output.tail_au',\n",
       " 'rougher.output.tail_pb',\n",
       " 'rougher.output.tail_sol',\n",
       " 'secondary_cleaner.output.tail_ag',\n",
       " 'secondary_cleaner.output.tail_au',\n",
       " 'secondary_cleaner.output.tail_pb',\n",
       " 'secondary_cleaner.output.tail_sol'}"
      ]
     },
     "execution_count": 17,
     "metadata": {},
     "output_type": "execute_result"
    }
   ],
   "source": [
    "set(good_df_train.columns) - set(good_df_test.columns)"
   ]
  },
  {
   "cell_type": "markdown",
   "metadata": {},
   "source": [
    "В good_df_test нет признаков `.output.`, так как это целевые признаки.\n",
    "\n",
    "В good_df_test нет признаков `.calculation.` для этапа rougher., видимо эти данные рассчитываются позднее и не доступны во время процесса.\n",
    "\n",
    "Рассчитаем эффективность обогащения чернового концентрата `rougher.output.recovery` из обучающей выборки.\n"
   ]
  },
  {
   "cell_type": "code",
   "execution_count": 18,
   "metadata": {},
   "outputs": [
    {
     "name": "stdout",
     "output_type": "stream",
     "text": [
      "Абсолютная средняя ошибка = 1.0748911125799084e-14\n"
     ]
    }
   ],
   "source": [
    "concentrate_au_column = good_df_train['rougher.output.concentrate_au']\n",
    "feed_au_column = good_df_train['rougher.input.feed_au']\n",
    "tail_au_column = good_df_train['rougher.output.tail_au']\n",
    "input_recovery = good_df_train['rougher.output.recovery']\n",
    "calc_recovery = concentrate_au_column * (feed_au_column - tail_au_column) / feed_au_column / (concentrate_au_column - tail_au_column) * 100\n",
    "print('Абсолютная средняя ошибка =', mean_absolute_error(input_recovery, calc_recovery))"
   ]
  },
  {
   "cell_type": "markdown",
   "metadata": {},
   "source": [
    "MAE имеет очень малое отклонение - это значит, что расчетное значение `rougher.output.recovery` совпадает с данными из столбца.\n",
    "\n",
    "**Тестовая выборка.**\n",
    "\n",
    "Отсутствуют столбцы этапов:\n",
    "- `rougher.output`\n",
    "- `rougher.calculation`\n",
    "- `final.output`\n",
    "- `primary_cleaner.output`\n",
    "- `secondary_cleaner.output`\n",
    "\n",
    "Эти данные будут получены по результатам технологического процесса. Это онлайн метрики.\n",
    "\n",
    "Остальные столбцы исторически известны - значит это офлайн метрики.\n",
    "\n",
    "**Обучающая выборка.**\n",
    "\n",
    "Выделим столбцы из тестовой выборки, по которым будет обучаться модель.\n",
    "\n",
    "Для предсказания `rougher.output.recovery` будут использоватся данные из стобцов этапа rougher.\n",
    "\n",
    "Для вычисления `final.output.recovery` будут использованы все столбцы из обучающей выборки.\n"
   ]
  },
  {
   "cell_type": "code",
   "execution_count": 19,
   "metadata": {
    "scrolled": false
   },
   "outputs": [
    {
     "data": {
      "text/plain": [
       "{'rougher.input.feed_ag',\n",
       " 'rougher.input.feed_au',\n",
       " 'rougher.input.feed_pb',\n",
       " 'rougher.input.feed_rate',\n",
       " 'rougher.input.feed_size',\n",
       " 'rougher.input.feed_sol',\n",
       " 'rougher.input.floatbank10_sulfate',\n",
       " 'rougher.input.floatbank10_xanthate',\n",
       " 'rougher.input.floatbank11_sulfate',\n",
       " 'rougher.input.floatbank11_xanthate',\n",
       " 'rougher.state.floatbank10_a_air',\n",
       " 'rougher.state.floatbank10_a_level',\n",
       " 'rougher.state.floatbank10_b_air',\n",
       " 'rougher.state.floatbank10_b_level',\n",
       " 'rougher.state.floatbank10_c_air',\n",
       " 'rougher.state.floatbank10_c_level',\n",
       " 'rougher.state.floatbank10_d_air',\n",
       " 'rougher.state.floatbank10_d_level',\n",
       " 'rougher.state.floatbank10_e_air',\n",
       " 'rougher.state.floatbank10_e_level',\n",
       " 'rougher.state.floatbank10_f_air',\n",
       " 'rougher.state.floatbank10_f_level'}"
      ]
     },
     "metadata": {},
     "output_type": "display_data"
    }
   ],
   "source": [
    "x_columns = good_df_test.columns\n",
    "rougher_x_columns = set(x_columns[12:34])\n",
    "final_x_columns = set(x_columns)\n",
    "display(rougher_x_columns)"
   ]
  },
  {
   "cell_type": "markdown",
   "metadata": {},
   "source": [
    "Посмотрим данные в ключевых столбцах в обучающей выборки:"
   ]
  },
  {
   "cell_type": "code",
   "execution_count": 20,
   "metadata": {},
   "outputs": [
    {
     "data": {
      "image/png": "[encoded data removed]",
      "text/plain": [
       "<Figure size 1500x800 with 1 Axes>"
      ]
     },
     "metadata": {},
     "output_type": "display_data"
    }
   ],
   "source": [
    "plt.figure(figsize = [15, 8])\n",
    "\n",
    "plt.hist(good_df_train['rougher.input.feed_au'], bins = 100)\n",
    "\n",
    "plt.xlim([-1, 30])\n",
    "plt.ylim([0, 550])\n",
    "\n",
    "plt.xlabel('Концентрация вещества на входе')\n",
    "plt.ylabel('Количество результатов')\n",
    "\n",
    "plt.title('Гистограмма распределения концентрации вещества на входе')\n",
    "plt.show()"
   ]
  },
  {
   "cell_type": "code",
   "execution_count": 21,
   "metadata": {},
   "outputs": [
    {
     "data": {
      "image/png": "[encoded data removed]",
      "text/plain": [
       "<Figure size 1500x800 with 1 Axes>"
      ]
     },
     "metadata": {},
     "output_type": "display_data"
    }
   ],
   "source": [
    "plt.figure(figsize = [15, 8])\n",
    "\n",
    "plt.hist(good_df_train['rougher.output.concentrate_au'], bins = 100)\n",
    "\n",
    "plt.xlim([-1, 30])\n",
    "plt.ylim([0, 800])\n",
    "\n",
    "plt.xlabel('Эффективность обогащения концентрата')\n",
    "plt.ylabel('Количество результатов')\n",
    "\n",
    "plt.title('Гистограмма распределения по эффективности обогащения')\n",
    "plt.show()"
   ]
  },
  {
   "cell_type": "code",
   "execution_count": 22,
   "metadata": {},
   "outputs": [
    {
     "data": {
      "image/png": "[encoded data removed]",
      "text/plain": [
       "<Figure size 1500x800 with 1 Axes>"
      ]
     },
     "metadata": {},
     "output_type": "display_data"
    }
   ],
   "source": [
    "plt.figure(figsize = [15, 8])\n",
    "\n",
    "plt.hist(good_df_train['rougher.output.recovery'], bins = 100)\n",
    "\n",
    "plt.xlim([-1, 101])\n",
    "plt.ylim([0, 800])\n",
    "\n",
    "plt.xlabel('Эффективность обогащения чернового концентрата')\n",
    "plt.ylabel('Количество результатов')\n",
    "\n",
    "plt.title('Гистограмма распределения по эффективности обогащения')\n",
    "plt.show()"
   ]
  },
  {
   "cell_type": "code",
   "execution_count": 23,
   "metadata": {},
   "outputs": [
    {
     "data": {
      "image/png": "[encoded data removed]",
      "text/plain": [
       "<Figure size 1500x800 with 1 Axes>"
      ]
     },
     "metadata": {},
     "output_type": "display_data"
    }
   ],
   "source": [
    "plt.figure(figsize = [15, 8])\n",
    "\n",
    "plt.hist(good_df_train['final.output.recovery'], bins = 100)\n",
    "\n",
    "plt.xlim([-1, 101])\n",
    "plt.ylim([0, 850])\n",
    "\n",
    "plt.xlabel('Эффективность обогащения финального концентрата')\n",
    "plt.ylabel('Количество результатов')\n",
    "\n",
    "plt.title('Гистограмма распределения по эффективности обогащения')\n",
    "plt.show()"
   ]
  },
  {
   "cell_type": "markdown",
   "metadata": {},
   "source": [
    "Строки с нулевыми значениями можно считать аномалией.\n",
    "\n",
    "Удалим их, так как они могут исказить обучающие данные:"
   ]
  },
  {
   "cell_type": "code",
   "execution_count": 24,
   "metadata": {},
   "outputs": [
    {
     "data": {
      "text/plain": [
       "0"
      ]
     },
     "execution_count": 24,
     "metadata": {},
     "output_type": "execute_result"
    }
   ],
   "source": [
    "good_df_train = good_df_train.drop(good_df_train[good_df_train['rougher.input.feed_au'] == 0].index)\n",
    "good_df_train[good_df_train['rougher.input.feed_au'] == 0]['rougher.input.feed_au'].count()"
   ]
  },
  {
   "cell_type": "code",
   "execution_count": 25,
   "metadata": {},
   "outputs": [
    {
     "data": {
      "text/plain": [
       "0"
      ]
     },
     "execution_count": 25,
     "metadata": {},
     "output_type": "execute_result"
    }
   ],
   "source": [
    "good_df_train = good_df_train.drop(good_df_train[good_df_train['rougher.output.recovery'] == 0].index)\n",
    "good_df_train[good_df_train['rougher.output.recovery'] == 0]['rougher.output.recovery'].count()"
   ]
  },
  {
   "cell_type": "code",
   "execution_count": 26,
   "metadata": {},
   "outputs": [
    {
     "data": {
      "text/plain": [
       "0"
      ]
     },
     "execution_count": 26,
     "metadata": {},
     "output_type": "execute_result"
    }
   ],
   "source": [
    "good_df_train = good_df_train.drop(good_df_train[good_df_train['rougher.output.concentrate_au'] == 0].index)\n",
    "good_df_train[good_df_train['rougher.output.concentrate_au'] == 0]['rougher.output.concentrate_au'].count()\n"
   ]
  },
  {
   "cell_type": "code",
   "execution_count": 27,
   "metadata": {},
   "outputs": [
    {
     "data": {
      "text/plain": [
       "0"
      ]
     },
     "execution_count": 27,
     "metadata": {},
     "output_type": "execute_result"
    }
   ],
   "source": [
    "good_df_train = good_df_train.drop(good_df_train[good_df_train['final.output.recovery'] == 0].index)\n",
    "good_df_train[good_df_train['final.output.recovery'] == 0]['final.output.recovery'].count()"
   ]
  },
  {
   "cell_type": "markdown",
   "metadata": {},
   "source": [
    "Проверим, есть ли нулевые значения в признаках:\n",
    "- `primary_cleaner.output.concentrate_au`\n",
    "- `secondary_cleaner.output.concentrate_au`"
   ]
  },
  {
   "cell_type": "code",
   "execution_count": 28,
   "metadata": {},
   "outputs": [
    {
     "data": {
      "text/plain": [
       "70"
      ]
     },
     "execution_count": 28,
     "metadata": {},
     "output_type": "execute_result"
    }
   ],
   "source": [
    "good_df_train[good_df_train['primary_cleaner.output.concentrate_au'] == 0]['primary_cleaner.output.concentrate_au'].count()"
   ]
  },
  {
   "cell_type": "code",
   "execution_count": 29,
   "metadata": {},
   "outputs": [
    {
     "data": {
      "text/plain": [
       "707"
      ]
     },
     "execution_count": 29,
     "metadata": {},
     "output_type": "execute_result"
    }
   ],
   "source": [
    "good_df_train[good_df_train['secondary_cleaner.output.tail_au'] == 0]['secondary_cleaner.output.tail_au'].count()"
   ]
  },
  {
   "cell_type": "markdown",
   "metadata": {},
   "source": [
    "По данным этапам тоже присутвуют нулевые значения. Но так как они не являются целью модели и не входят в список столбцов обучающей модели, оставим их без изменения."
   ]
  },
  {
   "cell_type": "markdown",
   "metadata": {},
   "source": [
    "**Вывод:**\n",
    "\n",
    "В данных присутвовали аномалии:\n",
    "\n",
    "- Пропущенные значения;\n",
    "- Нулевые значения на ключевых этапах.\n",
    "\n",
    "Неподходящие данные были удалены. Возможно не были сняты данные по выбранным этапам или они еще не были получены в результате работы системы.\n",
    "\n",
    "Данные готовы к дальнейшему анализу."
   ]
  },
  {
   "cell_type": "markdown",
   "metadata": {},
   "source": [
    "<a id=3></a>\n",
    "[Содержание](#0)\n",
    "## 3. Исследовательский анализ данных"
   ]
  },
  {
   "cell_type": "markdown",
   "metadata": {},
   "source": [
    "Рассмотрим концентрацию веществ на каждом этапе:"
   ]
  },
  {
   "cell_type": "code",
   "execution_count": 30,
   "metadata": {},
   "outputs": [
    {
     "data": {
      "image/png": "[encoded data removed]",
      "text/plain": [
       "<Figure size 1500x800 with 1 Axes>"
      ]
     },
     "metadata": {},
     "output_type": "display_data"
    }
   ],
   "source": [
    "plt.figure(figsize = [15, 8])\n",
    "\n",
    "plt.hist(good_df_train['final.output.concentrate_au'], bins = 100, label = 'final.output', alpha = .5)\n",
    "plt.hist(good_df_train['primary_cleaner.output.concentrate_au'], bins = 100, label = 'primary_cleaner.output', alpha = .5)\n",
    "plt.hist(good_df_train['rougher.output.concentrate_au'], bins = 100, label = 'rougher.output', alpha = .5)\n",
    "plt.hist(good_df_train['rougher.input.feed_au'], bins = 100, label = 'rougher.input', alpha = .5)\n",
    "\n",
    "plt.xlim([0, 55])\n",
    "plt.ylim([0, 1500])\n",
    "\n",
    "plt.xlabel('Концентрация золота на выходе этапов')\n",
    "plt.ylabel('Количество результатов')\n",
    "\n",
    "plt.legend(loc = 'upper left', fontsize = 'x-large')\n",
    "\n",
    "plt.title('Гистограмма распределения концентрации золота')\n",
    "plt.show()"
   ]
  },
  {
   "cell_type": "markdown",
   "metadata": {},
   "source": [
    "Концентрация золота повышается с каждым этапом. Цель флотации и очисток увеличить концентрацию золота."
   ]
  },
  {
   "cell_type": "code",
   "execution_count": 31,
   "metadata": {},
   "outputs": [
    {
     "data": {
      "image/png": "[encoded data removed]",
      "text/plain": [
       "<Figure size 1500x800 with 1 Axes>"
      ]
     },
     "metadata": {},
     "output_type": "display_data"
    }
   ],
   "source": [
    "plt.figure(figsize = [15, 8])\n",
    "\n",
    "plt.hist(good_df_train['final.output.concentrate_ag'], bins = 100, label = 'final.output', alpha = .5)\n",
    "plt.hist(good_df_train['primary_cleaner.output.concentrate_ag'], bins = 100, label = 'primary_cleaner.output', alpha = .5)\n",
    "plt.hist(good_df_train['rougher.output.concentrate_ag'], bins = 100, label = 'rougher.output', alpha = .5)\n",
    "plt.hist(good_df_train['rougher.input.feed_ag'], bins = 100, label = 'rougher.input', alpha = .5)\n",
    "\n",
    "plt.xlim([0, 22])\n",
    "plt.ylim([0, 800])\n",
    "\n",
    "plt.xlabel('Концентрация серебра на выходе этапов')\n",
    "plt.ylabel('Количество результатов')\n",
    "\n",
    "plt.legend(loc = 'upper left', fontsize = 'x-large')\n",
    "\n",
    "plt.title('Гистограмма распределения концентрации серебра')\n",
    "plt.show()"
   ]
  },
  {
   "cell_type": "markdown",
   "metadata": {},
   "source": [
    "Концентрация серебра понижается с каждым шагом очистки. Так как основным благородным металом является золото, то остальные металлы и соединения должны быть отфильтрованы."
   ]
  },
  {
   "cell_type": "code",
   "execution_count": 32,
   "metadata": {
    "scrolled": true
   },
   "outputs": [
    {
     "data": {
      "image/png": "[encoded data removed]",
      "text/plain": [
       "<Figure size 1500x800 with 1 Axes>"
      ]
     },
     "metadata": {},
     "output_type": "display_data"
    }
   ],
   "source": [
    "plt.figure(figsize = [15, 8])\n",
    "\n",
    "plt.hist(good_df_train['final.output.concentrate_pb'], bins = 100, label = 'final.output', alpha = .5)\n",
    "plt.hist(good_df_train['primary_cleaner.output.concentrate_pb'], bins = 100, label = 'primary_cleaner.output', alpha = .5)\n",
    "plt.hist(good_df_train['rougher.output.concentrate_pb'], bins = 100, label = 'rougher.output', alpha = .5)\n",
    "plt.hist(good_df_train['rougher.input.feed_pb'], bins = 100, label = 'rougher.input', alpha=  .5)\n",
    "\n",
    "plt.xlim([0, 17])\n",
    "plt.ylim([0, 700])\n",
    "\n",
    "plt.xlabel('Концентрация свинца на выходе этапов')\n",
    "plt.ylabel('Количество результатов')\n",
    "\n",
    "plt.legend(loc = 'upper left', fontsize = 'x-large')\n",
    "\n",
    "plt.title('Гистограмма распределения концентрации свинца')\n",
    "plt.show()"
   ]
  },
  {
   "cell_type": "markdown",
   "metadata": {},
   "source": [
    "Концентрация свинца повышается с этапа rougher до primary_cleaner, а потом усредняется. Это связано с химическим процесами очищения золота. При использование азотнокислого выщелачивания в концентрате образуется много сульфата свинца. Повышение концентрации свинца в целом происходит не только из-за этого процесса, но из-за очищения других составляющих из золотоносной руды.\n",
    "\n",
    "Изучим размеры сырья на этапах обработки."
   ]
  },
  {
   "cell_type": "code",
   "execution_count": 33,
   "metadata": {},
   "outputs": [
    {
     "data": {
      "image/png": "[encoded data removed]",
      "text/plain": [
       "<Figure size 1500x800 with 1 Axes>"
      ]
     },
     "metadata": {},
     "output_type": "display_data"
    }
   ],
   "source": [
    "plt.figure(figsize = [15, 8])\n",
    "\n",
    "plt.hist(good_df_train['rougher.input.feed_size'], bins = 200, label = 'Train rougher.input.feed_size', alpha = .5)\n",
    "plt.hist(good_df_test['rougher.input.feed_size'], bins = 200, label = 'Test rougher.input.feed_size', alpha = .5)\n",
    "\n",
    "plt.xlim([0, 300])\n",
    "plt.ylim([0, 1500])\n",
    "\n",
    "plt.xlabel('Размер гранул сырья')\n",
    "plt.ylabel('Количество результатов')\n",
    "\n",
    "plt.legend(loc = 'upper left', fontsize = 'x-large')\n",
    "\n",
    "plt.title('Гистограмма распределения гранул сырья перед флотацией')\n",
    "plt.show()"
   ]
  },
  {
   "cell_type": "markdown",
   "metadata": {},
   "source": [
    "Распределение гранул до флотации похоже на нормальное со смещением влево как в обучающей, так и в тестовой выбрке. Существует много выбросов после размера гранул 100."
   ]
  },
  {
   "cell_type": "code",
   "execution_count": 34,
   "metadata": {},
   "outputs": [
    {
     "data": {
      "image/png": "[encoded data removed]",
      "text/plain": [
       "<Figure size 1500x800 with 1 Axes>"
      ]
     },
     "metadata": {},
     "output_type": "display_data"
    }
   ],
   "source": [
    "plt.figure(figsize = [15, 8])\n",
    "\n",
    "plt.hist(good_df_train['primary_cleaner.input.feed_size'], bins = 100, label = 'Train primary_cleaner.input.feed_size', alpha = .5)\n",
    "plt.hist(good_df_test['primary_cleaner.input.feed_size'], bins = 100, label = 'Test primary_cleaner.input.feed_size', alpha = .5)\n",
    "\n",
    "plt.xlim([0, 16])\n",
    "plt.ylim([0, 1300])\n",
    "\n",
    "plt.xlabel('Размер гранул сырья')\n",
    "plt.ylabel('Количество результатов')\n",
    "\n",
    "plt.legend(loc = 'upper left', fontsize = 'x-large')\n",
    "\n",
    "plt.title('Гистограмма распределения гранул сырья перед первичной очисткой')\n",
    "plt.show()"
   ]
  },
  {
   "cell_type": "markdown",
   "metadata": {},
   "source": [
    "Размеры гранул перед первичной очисткой обладают нормальным распределением.\n",
    "\n",
    "Подготовим столбцы с финальными концентрациями в обучающей выборке."
   ]
  },
  {
   "cell_type": "code",
   "execution_count": 35,
   "metadata": {},
   "outputs": [],
   "source": [
    "final_output_concentrate_sum = (good_df_train['final.output.concentrate_au'] + \n",
    "                                good_df_train['final.output.concentrate_ag'] + \n",
    "                                good_df_train['final.output.concentrate_pb'] +\n",
    "                                good_df_train['final.output.concentrate_sol'])\n",
    "\n",
    "primary_cleaner_output_concentrate_sum = (good_df_train['primary_cleaner.output.concentrate_au'] + \n",
    "                                          good_df_train['primary_cleaner.output.concentrate_ag'] + \n",
    "                                          good_df_train['primary_cleaner.output.concentrate_pb'] +\n",
    "                                          good_df_train['primary_cleaner.output.concentrate_sol'])\n",
    "\n",
    "rougher_output_concentrate_sum = (good_df_train['rougher.output.concentrate_au'] + \n",
    "                                  good_df_train['rougher.output.concentrate_ag'] + \n",
    "                                  good_df_train['rougher.output.concentrate_pb'] +\n",
    "                                  good_df_train['rougher.output.concentrate_sol'])\n",
    "\n",
    "rougher_input_feed_sum = (good_df_train['rougher.input.feed_au'] + \n",
    "                          good_df_train['rougher.input.feed_ag'] + \n",
    "                          good_df_train['rougher.input.feed_pb'] +\n",
    "                          good_df_train['rougher.input.feed_sol'])"
   ]
  },
  {
   "cell_type": "code",
   "execution_count": 36,
   "metadata": {},
   "outputs": [
    {
     "data": {
      "image/png": "[encoded data removed]",
      "text/plain": [
       "<Figure size 1500x800 with 1 Axes>"
      ]
     },
     "metadata": {},
     "output_type": "display_data"
    }
   ],
   "source": [
    "plt.figure(figsize = [15, 8])\n",
    "\n",
    "plt.hist(final_output_concentrate_sum, bins = 100, label = 'final_output', alpha = .5)\n",
    "plt.hist(primary_cleaner_output_concentrate_sum, bins = 100, label = 'primary_cleaner_output', alpha = .5)\n",
    "plt.hist(rougher_output_concentrate_sum, bins = 100, label = 'rougher_output', alpha = .5)\n",
    "plt.hist(rougher_input_feed_sum, bins = 100, label = 'rougher_input', alpha = .5)\n",
    "\n",
    "plt.xlim([-1, 100])\n",
    "plt.ylim([0, 1900])\n",
    "\n",
    "plt.xlabel('Суммарная концентраця')\n",
    "plt.ylabel('Количество результатов')\n",
    "\n",
    "plt.legend(loc = 'upper left', fontsize = 'x-large')\n",
    "\n",
    "plt.title('Гистограмма распределения концентраций на разных этапах очистки')\n",
    "plt.show()"
   ]
  },
  {
   "cell_type": "markdown",
   "metadata": {},
   "source": [
    "По графику видно, что из аномалий много значений в 0. Приблизим график."
   ]
  },
  {
   "cell_type": "code",
   "execution_count": 37,
   "metadata": {},
   "outputs": [
    {
     "data": {
      "image/png": "[encoded data removed]",
      "text/plain": [
       "<Figure size 1500x800 with 1 Axes>"
      ]
     },
     "metadata": {},
     "output_type": "display_data"
    }
   ],
   "source": [
    "plt.figure(figsize=[15, 8])\n",
    "\n",
    "plt.hist(final_output_concentrate_sum, bins = 100, label = 'final_output', alpha = .5)\n",
    "plt.hist(primary_cleaner_output_concentrate_sum, bins = 100, label = 'primary_cleaner_output', alpha = .5)\n",
    "plt.hist(rougher_output_concentrate_sum, bins = 100, label = 'rougher_output', alpha = .5)\n",
    "plt.hist(rougher_input_feed_sum, bins = 100, label = 'rougher_input', alpha = .5)\n",
    "\n",
    "plt.xlim([0, 10])\n",
    "plt.ylim([0, 200])\n",
    "\n",
    "plt.xlabel('Суммарная концентраця')\n",
    "plt.ylabel('Количество результатов')\n",
    "\n",
    "plt.legend(loc = 'upper left', fontsize = 'x-large')\n",
    "\n",
    "plt.title('Гистограмма распределения концентраций на разных этапах очистки')\n",
    "plt.show()"
   ]
  },
  {
   "cell_type": "markdown",
   "metadata": {},
   "source": [
    "На этапе предобрабоки были найдены строки с нулевыми значениями, они являются аномалией. Удалим их."
   ]
  },
  {
   "cell_type": "code",
   "execution_count": 38,
   "metadata": {},
   "outputs": [
    {
     "data": {
      "text/plain": [
       "0"
      ]
     },
     "execution_count": 38,
     "metadata": {},
     "output_type": "execute_result"
    }
   ],
   "source": [
    "good_df_train = good_df_train.drop(good_df_train[good_df_train['rougher.input.feed_au'] == 0].index)\n",
    "good_df_train = good_df_train.drop(good_df_train[good_df_train['rougher.input.feed_ag'] == 0].index)\n",
    "good_df_train = good_df_train.drop(good_df_train[good_df_train['rougher.input.feed_pb'] == 0].index)\n",
    "good_df_train = good_df_train.drop(good_df_train[good_df_train['rougher.input.feed_sol'] == 0].index)\n",
    "\n",
    "good_df_train[good_df_train['rougher.input.feed_au'] == 0]['rougher.input.feed_au'].count()"
   ]
  },
  {
   "cell_type": "code",
   "execution_count": 39,
   "metadata": {},
   "outputs": [
    {
     "data": {
      "text/plain": [
       "0"
      ]
     },
     "execution_count": 39,
     "metadata": {},
     "output_type": "execute_result"
    }
   ],
   "source": [
    "good_df_train = good_df_train.drop(good_df_train[good_df_train['primary_cleaner.output.concentrate_au'] == 0].index)\n",
    "good_df_train = good_df_train.drop(good_df_train[good_df_train['primary_cleaner.output.concentrate_ag'] == 0].index)\n",
    "good_df_train = good_df_train.drop(good_df_train[good_df_train['primary_cleaner.output.concentrate_pb'] == 0].index)\n",
    "good_df_train = good_df_train.drop(good_df_train[good_df_train['primary_cleaner.output.concentrate_sol'] == 0].index)\n",
    "\n",
    "good_df_train[good_df_train['primary_cleaner.output.concentrate_au'] == 0]['primary_cleaner.output.concentrate_au'].count()"
   ]
  },
  {
   "cell_type": "markdown",
   "metadata": {},
   "source": [
    "**Вывод:**\n",
    "\n",
    "В результате анализа были изучены:\n",
    "\n",
    "- Концетрации основных веществ на разных этапах очистки.\n",
    "- Размер гранул тестовой и обучающей выборки.\n",
    "- Суммарная концентрация веществ.\n",
    "\n",
    "Аномалии были удалены. Данные готовы к обучению."
   ]
  },
  {
   "cell_type": "markdown",
   "metadata": {},
   "source": [
    "<a id=4></a>\n",
    "[Содержание](#0)\n",
    "## 4. Обучение модели\n",
    "\n",
    "Создадим разделение признаков для предсказания `rougher.output.recovery` и `final.output.recovery`.\n",
    "\n",
    "Подготовим признаки для `final.output.recovery`:"
   ]
  },
  {
   "cell_type": "code",
   "execution_count": 40,
   "metadata": {
    "scrolled": true
   },
   "outputs": [],
   "source": [
    "columns_to_delete = set(good_df_train.columns) - final_x_columns\n",
    "train_x_final = good_df_train.drop(columns_to_delete, axis = 1)"
   ]
  },
  {
   "cell_type": "markdown",
   "metadata": {},
   "source": [
    "Проверим вхождения всех столбцов из train_x_final в столбцах тестовой выборки df_test:"
   ]
  },
  {
   "cell_type": "code",
   "execution_count": 41,
   "metadata": {},
   "outputs": [
    {
     "name": "stdout",
     "output_type": "stream",
     "text": [
      "set()\n"
     ]
    }
   ],
   "source": [
    "print(set(train_x_final.columns) - set(df_test.columns))"
   ]
  },
  {
   "cell_type": "markdown",
   "metadata": {},
   "source": [
    "Подготовим признаки для `rougher.output.recovery`:"
   ]
  },
  {
   "cell_type": "code",
   "execution_count": 42,
   "metadata": {
    "scrolled": true
   },
   "outputs": [],
   "source": [
    "columns_to_delete = set(train_x_final.columns) - rougher_x_columns\n",
    "train_x_rougher = train_x_final.drop(columns_to_delete, axis = 1)"
   ]
  },
  {
   "cell_type": "markdown",
   "metadata": {},
   "source": [
    "Подготовим целевые признаки для тренировочных данных:"
   ]
  },
  {
   "cell_type": "code",
   "execution_count": 43,
   "metadata": {},
   "outputs": [],
   "source": [
    "train_y_final = good_df_train['final.output.recovery']\n",
    "train_y_rougher = good_df_train['rougher.output.recovery']"
   ]
  },
  {
   "cell_type": "markdown",
   "metadata": {},
   "source": [
    "Подготовим признаки тестовой выборки:"
   ]
  },
  {
   "cell_type": "code",
   "execution_count": 44,
   "metadata": {
    "scrolled": true
   },
   "outputs": [],
   "source": [
    "test_x_final = good_df_test"
   ]
  },
  {
   "cell_type": "code",
   "execution_count": 45,
   "metadata": {
    "scrolled": true
   },
   "outputs": [],
   "source": [
    "columns_to_delete = set(test_x_final.columns) - rougher_x_columns\n",
    "test_x_rougher = test_x_final.drop(columns_to_delete, axis = 1)"
   ]
  },
  {
   "cell_type": "markdown",
   "metadata": {},
   "source": [
    "В тестовой выборке отсутствуют целевые признаки для моделей `rougher.output.recovery`, `final.output.recovery`.\n",
    "\n",
    "Это фактические даные, которые мы можем получить только по факту реальных измерений.\n",
    "\n",
    "Для обучения модели и проверки ее качества оценки добавим поля `rougher.output.recovery`, `final.output.recovery`\n",
    "в тестовый датафрейм."
   ]
  },
  {
   "cell_type": "code",
   "execution_count": 46,
   "metadata": {},
   "outputs": [],
   "source": [
    "test_x_final = test_x_final.merge(df_full[['final.output.recovery', 'rougher.output.recovery']],\n",
    "                                           how = 'left', on = 'date')"
   ]
  },
  {
   "cell_type": "markdown",
   "metadata": {},
   "source": [
    "Подготовим целевые признаки для тестовых данных.\n",
    "\n",
    "Выделяем целевые признаки:"
   ]
  },
  {
   "cell_type": "code",
   "execution_count": 47,
   "metadata": {
    "scrolled": true
   },
   "outputs": [],
   "source": [
    "test_y_final = test_x_final['final.output.recovery']\n",
    "test_y_rougher = test_x_final['rougher.output.recovery']"
   ]
  },
  {
   "cell_type": "markdown",
   "metadata": {},
   "source": [
    "Удалим целевые признаки из обучающих тестовых данных:"
   ]
  },
  {
   "cell_type": "code",
   "execution_count": 48,
   "metadata": {},
   "outputs": [
    {
     "data": {
      "text/plain": [
       "Index(['primary_cleaner.input.sulfate', 'primary_cleaner.input.depressant',\n",
       "       'primary_cleaner.input.feed_size', 'primary_cleaner.input.xanthate',\n",
       "       'primary_cleaner.state.floatbank8_a_air',\n",
       "       'primary_cleaner.state.floatbank8_a_level',\n",
       "       'primary_cleaner.state.floatbank8_b_air',\n",
       "       'primary_cleaner.state.floatbank8_b_level',\n",
       "       'primary_cleaner.state.floatbank8_c_air',\n",
       "       'primary_cleaner.state.floatbank8_c_level',\n",
       "       'primary_cleaner.state.floatbank8_d_air',\n",
       "       'primary_cleaner.state.floatbank8_d_level', 'rougher.input.feed_ag',\n",
       "       'rougher.input.feed_pb', 'rougher.input.feed_rate',\n",
       "       'rougher.input.feed_size', 'rougher.input.feed_sol',\n",
       "       'rougher.input.feed_au', 'rougher.input.floatbank10_sulfate',\n",
       "       'rougher.input.floatbank10_xanthate',\n",
       "       'rougher.input.floatbank11_sulfate',\n",
       "       'rougher.input.floatbank11_xanthate', 'rougher.state.floatbank10_a_air',\n",
       "       'rougher.state.floatbank10_a_level', 'rougher.state.floatbank10_b_air',\n",
       "       'rougher.state.floatbank10_b_level', 'rougher.state.floatbank10_c_air',\n",
       "       'rougher.state.floatbank10_c_level', 'rougher.state.floatbank10_d_air',\n",
       "       'rougher.state.floatbank10_d_level', 'rougher.state.floatbank10_e_air',\n",
       "       'rougher.state.floatbank10_e_level', 'rougher.state.floatbank10_f_air',\n",
       "       'rougher.state.floatbank10_f_level',\n",
       "       'secondary_cleaner.state.floatbank2_a_air',\n",
       "       'secondary_cleaner.state.floatbank2_a_level',\n",
       "       'secondary_cleaner.state.floatbank2_b_air',\n",
       "       'secondary_cleaner.state.floatbank2_b_level',\n",
       "       'secondary_cleaner.state.floatbank3_a_air',\n",
       "       'secondary_cleaner.state.floatbank3_a_level',\n",
       "       'secondary_cleaner.state.floatbank3_b_air',\n",
       "       'secondary_cleaner.state.floatbank3_b_level',\n",
       "       'secondary_cleaner.state.floatbank4_a_air',\n",
       "       'secondary_cleaner.state.floatbank4_a_level',\n",
       "       'secondary_cleaner.state.floatbank4_b_air',\n",
       "       'secondary_cleaner.state.floatbank4_b_level',\n",
       "       'secondary_cleaner.state.floatbank5_a_air',\n",
       "       'secondary_cleaner.state.floatbank5_a_level',\n",
       "       'secondary_cleaner.state.floatbank5_b_air',\n",
       "       'secondary_cleaner.state.floatbank5_b_level',\n",
       "       'secondary_cleaner.state.floatbank6_a_air',\n",
       "       'secondary_cleaner.state.floatbank6_a_level'],\n",
       "      dtype='object')"
      ]
     },
     "metadata": {},
     "output_type": "display_data"
    }
   ],
   "source": [
    "test_x_final = test_x_final.drop(['final.output.recovery', 'rougher.output.recovery'], axis = 1)\n",
    "display(test_x_final.columns)"
   ]
  },
  {
   "cell_type": "markdown",
   "metadata": {},
   "source": [
    "Напишем функцию вычисления симметричного среднего абсолютного процентного отклонения:"
   ]
  },
  {
   "cell_type": "code",
   "execution_count": 49,
   "metadata": {},
   "outputs": [],
   "source": [
    "def sMAPE(real, predicted):\n",
    "    n = real.shape[0]\n",
    "    sMAPE = ((2 * abs(real - predicted)/\n",
    "             (abs(real) + abs(predicted))).sum() * 100 / n)\n",
    "    return sMAPE"
   ]
  },
  {
   "cell_type": "code",
   "execution_count": 50,
   "metadata": {},
   "outputs": [],
   "source": [
    "def sMAPE_score(sMAPE_rougher, sMAPE_final):\n",
    "    return sMAPE_rougher * 0.25 + sMAPE_final * 0.75"
   ]
  },
  {
   "cell_type": "markdown",
   "metadata": {},
   "source": [
    "Перед нами стоит задача регресии. Выберем следующие модели для обучения:\n",
    "\n",
    "- LinearRegression\n",
    "- DecisionTreeRegressor\n",
    "- Ridge\n",
    "- RandomForestRegressor\n",
    "\n",
    "Выполним поиск лучшей модели для предсказаний.\n",
    "\n",
    "Подберем гиперпараметры для модели LinearRegression:"
   ]
  },
  {
   "cell_type": "code",
   "execution_count": 51,
   "metadata": {},
   "outputs": [
    {
     "name": "stdout",
     "output_type": "stream",
     "text": [
      "# Подбор гиперпараметров для LinearRegression, rougher\n",
      "Лучший целевой показатель sMAPE: -6.6733523947009035\n",
      "Лучший набор параметров: {'fit_intercept': True}\n",
      "CPU times: user 676 ms, sys: 245 ms, total: 922 ms\n",
      "Wall time: 107 ms\n"
     ]
    }
   ],
   "source": [
    "%%time\n",
    "\n",
    "model = LinearRegression() \n",
    "hyperparams = [{'fit_intercept': [True, False]}]\n",
    "\n",
    "print('# Подбор гиперпараметров для LinearRegression, rougher')\n",
    "grid = GridSearchCV(model, hyperparams, scoring = make_scorer(sMAPE, greater_is_better = False))\n",
    "grid.fit(train_x_rougher, train_y_rougher)\n",
    "sMAPE_rougher = grid.best_score_\n",
    "print('Лучший целевой показатель sMAPE:', sMAPE_rougher)\n",
    "print('Лучший набор параметров:', grid.best_params_)"
   ]
  },
  {
   "cell_type": "code",
   "execution_count": 52,
   "metadata": {},
   "outputs": [
    {
     "name": "stdout",
     "output_type": "stream",
     "text": [
      "# Подбор гиперпараметров для LinearRegression, final\n",
      "Лучший целевой показатель sMAPE: -10.931827683874731\n",
      "Лучший набор параметров: {'fit_intercept': False}\n",
      "CPU times: user 1.26 s, sys: 483 ms, total: 1.74 s\n",
      "Wall time: 184 ms\n"
     ]
    }
   ],
   "source": [
    "%%time\n",
    "\n",
    "print('# Подбор гиперпараметров для LinearRegression, final')\n",
    "grid = GridSearchCV(model, hyperparams, scoring = make_scorer(sMAPE, greater_is_better = False))\n",
    "grid.fit(train_x_final, train_y_final)\n",
    "sMAPE_final = grid.best_score_\n",
    "print('Лучший целевой показатель sMAPE:', sMAPE_final)\n",
    "print('Лучший набор параметров:', grid.best_params_)"
   ]
  },
  {
   "cell_type": "code",
   "execution_count": 53,
   "metadata": {},
   "outputs": [
    {
     "name": "stdout",
     "output_type": "stream",
     "text": [
      "Для LinearRegression sMAPE: -9.867208861581275\n"
     ]
    }
   ],
   "source": [
    "print('Для LinearRegression sMAPE:', sMAPE_score(sMAPE_rougher, sMAPE_final))"
   ]
  },
  {
   "cell_type": "markdown",
   "metadata": {},
   "source": [
    "Подберем гиперпараметры для модели Ridge:"
   ]
  },
  {
   "cell_type": "code",
   "execution_count": 54,
   "metadata": {
    "scrolled": true
   },
   "outputs": [
    {
     "name": "stdout",
     "output_type": "stream",
     "text": [
      "# Подбор гиперпараметров для Ridge, rougher\n",
      "Лучший целевой показатель sMAPE: -6.366706795558127\n",
      "Лучший набор параметров: {'alpha': 10, 'solver': 'sparse_cg'}\n",
      "CPU times: user 5.21 s, sys: 1.42 s, total: 6.64 s\n",
      "Wall time: 693 ms\n"
     ]
    }
   ],
   "source": [
    "%%time\n",
    "\n",
    "model = Ridge(random_state = RND_STATE) \n",
    "hyperparams = [{'alpha':[0.1, 1, 10, 50, 100],\n",
    "                'solver':['auto', 'svd', 'cholesky', 'lsqr', 'sparse_cg']}]\n",
    "\n",
    "print('# Подбор гиперпараметров для Ridge, rougher')\n",
    "grid = GridSearchCV(model, hyperparams, scoring = make_scorer(sMAPE, greater_is_better = False))\n",
    "grid.fit(train_x_rougher, train_y_rougher)\n",
    "sMAPE_rougher = grid.best_score_\n",
    "print('Лучший целевой показатель sMAPE:', sMAPE_rougher)\n",
    "print('Лучший набор параметров:', grid.best_params_)"
   ]
  },
  {
   "cell_type": "code",
   "execution_count": 55,
   "metadata": {},
   "outputs": [
    {
     "name": "stdout",
     "output_type": "stream",
     "text": [
      "# Подбор гиперпараметров для Ridge, final\n",
      "Лучший целевой показатель sMAPE: -10.617293116980278\n",
      "Лучший набор параметров: {'alpha': 50, 'solver': 'sparse_cg'}\n",
      "CPU times: user 15.4 s, sys: 1.86 s, total: 17.3 s\n",
      "Wall time: 1.82 s\n"
     ]
    }
   ],
   "source": [
    "%%time\n",
    "\n",
    "print('# Подбор гиперпараметров для Ridge, final')\n",
    "grid = GridSearchCV(model, hyperparams, scoring = make_scorer(sMAPE, greater_is_better = False))\n",
    "grid.fit(train_x_final, train_y_final)\n",
    "sMAPE_final = grid.best_score_\n",
    "print('Лучший целевой показатель sMAPE:', sMAPE_final)\n",
    "print('Лучший набор параметров:', grid.best_params_)"
   ]
  },
  {
   "cell_type": "code",
   "execution_count": 56,
   "metadata": {},
   "outputs": [
    {
     "name": "stdout",
     "output_type": "stream",
     "text": [
      "Для Ridge sMAPE: -9.554646536624741\n"
     ]
    }
   ],
   "source": [
    "print('Для Ridge sMAPE:', sMAPE_score(sMAPE_rougher, sMAPE_final))"
   ]
  },
  {
   "cell_type": "markdown",
   "metadata": {},
   "source": [
    "Подберем гиперпараметры для модели RandomForestRegressor (Wall time: 42min):"
   ]
  },
  {
   "cell_type": "code",
   "execution_count": 57,
   "metadata": {},
   "outputs": [
    {
     "name": "stdout",
     "output_type": "stream",
     "text": [
      "# Подбор гиперпараметров для RandomForestRegressor, rougher\n",
      "Лучший целевой показатель sMAPE: -6.6165335020808245\n",
      "Лучший набор параметров: {'max_depth': 4, 'min_samples_leaf': 1, 'n_estimators': 200, 'random_state': 21012022}\n",
      "CPU times: user 40min 22s, sys: 8.7 s, total: 40min 30s\n",
      "Wall time: 40min 29s\n"
     ]
    }
   ],
   "source": [
    "%%time\n",
    "\n",
    "model = RandomForestRegressor(random_state = RND_STATE) \n",
    "hyperparams = [{'n_estimators':[50, 100, 150, 200],\n",
    "                'max_depth': range(1, 11, 1),\n",
    "                'min_samples_leaf': [ 1, 2],\n",
    "                'random_state':[RND_STATE]}]\n",
    "\n",
    "print('# Подбор гиперпараметров для RandomForestRegressor, rougher')\n",
    "grid = GridSearchCV(model, hyperparams, scoring = make_scorer(sMAPE, greater_is_better = False))\n",
    "grid.fit(train_x_rougher, train_y_rougher)\n",
    "sMAPE_rougher = grid.best_score_\n",
    "print('Лучший целевой показатель sMAPE:', sMAPE_rougher)\n",
    "print('Лучший набор параметров:', grid.best_params_)"
   ]
  },
  {
   "cell_type": "code",
   "execution_count": 58,
   "metadata": {},
   "outputs": [
    {
     "name": "stdout",
     "output_type": "stream",
     "text": [
      "# Подбор гиперпараметров для RandomForestRegressor, final\n",
      "Лучший целевой показатель sMAPE: -8.999516408674019\n",
      "Лучший набор параметров: {'max_depth': 4, 'min_samples_leaf': 2, 'n_estimators': 150, 'random_state': 21012022}\n",
      "CPU times: user 1h 36min 3s, sys: 12.2 s, total: 1h 36min 15s\n",
      "Wall time: 1h 36min 15s\n"
     ]
    }
   ],
   "source": [
    "%%time\n",
    "\n",
    "print('# Подбор гиперпараметров для RandomForestRegressor, final')\n",
    "grid = GridSearchCV(model, hyperparams, scoring = make_scorer(sMAPE, greater_is_better = False))\n",
    "grid.fit(train_x_final, train_y_final)\n",
    "sMAPE_final = grid.best_score_\n",
    "print('Лучший целевой показатель sMAPE:', sMAPE_final)\n",
    "print('Лучший набор параметров:', grid.best_params_)"
   ]
  },
  {
   "cell_type": "code",
   "execution_count": 59,
   "metadata": {},
   "outputs": [
    {
     "name": "stdout",
     "output_type": "stream",
     "text": [
      "Для RandomForestRegressor sMAPE: -8.403770682025721\n"
     ]
    }
   ],
   "source": [
    "print('Для RandomForestRegressor sMAPE:', sMAPE_score(sMAPE_rougher, sMAPE_final))"
   ]
  },
  {
   "cell_type": "markdown",
   "metadata": {},
   "source": [
    "Подберем гиперпараметры для модели DecisionTreeRegressor (Wall time: 47min):"
   ]
  },
  {
   "cell_type": "code",
   "execution_count": 60,
   "metadata": {},
   "outputs": [
    {
     "name": "stdout",
     "output_type": "stream",
     "text": [
      "# Подбор гиперпараметров DecisionTreeRegressor, rougher\n",
      "Лучший целевой показатель sMAPE: -6.948684347216822\n",
      "Лучший набор параметров: {'criterion': 'mse', 'max_depth': 5, 'min_samples_leaf': 2, 'random_state': 21012022}\n",
      "CPU times: user 19min 8s, sys: 2.03 s, total: 19min 10s\n",
      "Wall time: 19min 10s\n"
     ]
    }
   ],
   "source": [
    "%%time\n",
    "\n",
    "model = DecisionTreeRegressor(random_state = RND_STATE) \n",
    "hyperparams = [{'criterion':['mse', 'mae'],\n",
    "                'max_depth':range(1, 11, 1),\n",
    "                'min_samples_leaf': [ 1, 2],\n",
    "                'random_state':[RND_STATE]}]\n",
    "\n",
    "print('# Подбор гиперпараметров DecisionTreeRegressor, rougher')\n",
    "grid = GridSearchCV(model, hyperparams, scoring = make_scorer(sMAPE, greater_is_better = False))\n",
    "grid.fit(train_x_rougher, train_y_rougher)\n",
    "sMAPE_rougher = grid.best_score_\n",
    "print('Лучший целевой показатель sMAPE:', sMAPE_rougher)\n",
    "print('Лучший набор параметров:', grid.best_params_)"
   ]
  },
  {
   "cell_type": "code",
   "execution_count": 61,
   "metadata": {},
   "outputs": [
    {
     "name": "stdout",
     "output_type": "stream",
     "text": [
      "# Подбор гиперпараметров DecisionTreeRegressor, final\n",
      "Лучший целевой показатель sMAPE: -9.428724821280621\n",
      "Лучший набор параметров: {'criterion': 'mse', 'max_depth': 3, 'min_samples_leaf': 1, 'random_state': 21012022}\n",
      "CPU times: user 46min 47s, sys: 4.91 s, total: 46min 52s\n",
      "Wall time: 46min 52s\n"
     ]
    }
   ],
   "source": [
    "%%time\n",
    "\n",
    "print('# Подбор гиперпараметров DecisionTreeRegressor, final')\n",
    "grid = GridSearchCV(model, hyperparams, scoring = make_scorer(sMAPE, greater_is_better = False))\n",
    "grid.fit(train_x_final, train_y_final)\n",
    "sMAPE_final = grid.best_score_\n",
    "print('Лучший целевой показатель sMAPE:', sMAPE_final)\n",
    "print('Лучший набор параметров:', grid.best_params_)"
   ]
  },
  {
   "cell_type": "code",
   "execution_count": 62,
   "metadata": {},
   "outputs": [
    {
     "name": "stdout",
     "output_type": "stream",
     "text": [
      "Для DecisionTreeRegressor sMAPE: -8.808714702764672\n"
     ]
    }
   ],
   "source": [
    "print('Для DecisionTreeRegressor sMAPE:', sMAPE_score(sMAPE_rougher, sMAPE_final))"
   ]
  },
  {
   "cell_type": "markdown",
   "metadata": {},
   "source": [
    "На данный момент для дальнешего прогнозирования выбираем модель RandomForestRegressor с параметрами:\n",
    "\n",
    "для `rougher`\n",
    "- n_estimators = 200,\n",
    "- max_depth = 4,\n",
    "- min_samples_leaf = 1\n",
    "\n",
    "для `final`\n",
    "- n_estimators = 150,\n",
    "- max_depth = 4,\n",
    "- min_samples_leaf = 2\n",
    "\n",
    "Эти параметры позволяют получить итоговый показатель sMAPE = 8.4"
   ]
  },
  {
   "cell_type": "code",
   "execution_count": 63,
   "metadata": {},
   "outputs": [
    {
     "name": "stdout",
     "output_type": "stream",
     "text": [
      "Для тестовых данных RandomForestRegressor sMAPE: 9.435815339604162\n",
      "CPU times: user 26.9 s, sys: 53.7 ms, total: 26.9 s\n",
      "Wall time: 26.9 s\n"
     ]
    }
   ],
   "source": [
    "%%time\n",
    "\n",
    "model = RandomForestRegressor(n_estimators = 200, max_depth = 4, min_samples_leaf = 1, random_state = RND_STATE) \n",
    "model.fit(train_x_rougher, train_y_rougher)\n",
    "predicted_rougher = model.predict(test_x_rougher)\n",
    "sMAPE_rougher = sMAPE(test_y_rougher, predicted_rougher)\n",
    "\n",
    "model = RandomForestRegressor(n_estimators = 150, max_depth = 4, min_samples_leaf = 2, random_state = RND_STATE) \n",
    "model.fit(train_x_final, train_y_final)\n",
    "predicted_final = model.predict(test_x_final)\n",
    "sMAPE_final = sMAPE(test_y_final, predicted_final)\n",
    "\n",
    "print('Для тестовых данных RandomForestRegressor sMAPE:', sMAPE_score(sMAPE_rougher, sMAPE_final))"
   ]
  },
  {
   "cell_type": "markdown",
   "metadata": {},
   "source": [
    "Создадим константную модель из медианных значений:"
   ]
  },
  {
   "cell_type": "code",
   "execution_count": 64,
   "metadata": {},
   "outputs": [
    {
     "name": "stdout",
     "output_type": "stream",
     "text": [
      "Для медианной константной модели sMAPE 9.165307584396805\n"
     ]
    }
   ],
   "source": [
    "median_rougher = good_df_full['rougher.output.recovery'].median()\n",
    "median_final = good_df_full['final.output.recovery'].median()\n",
    "\n",
    "sMAPE_rougher = sMAPE(test_y_rougher, median_rougher)\n",
    "sMAPE_final = sMAPE(test_y_final, median_final)\n",
    "print('Для медианной константной модели sMAPE', sMAPE_score(sMAPE_rougher, sMAPE_final))"
   ]
  },
  {
   "cell_type": "markdown",
   "metadata": {},
   "source": [
    "**Вывод:**\n",
    "\n",
    "Была написана функция для вычисления sMAPE.\n",
    "\n",
    "Каждая модель была изучена на качество методом поиска по сетке и подбором гиперпараметров.\n",
    "\n",
    "Была отобрана лучшая модель - RandomForestRegressor, ее значение sMAPE самое низкое 8.4.\n",
    "На тестовых данных модель RandomForestRegressor показала значение sMAPE = 9.435, что хуже медианной константной модели sMAPE = 9.165."
   ]
  },
  {
   "cell_type": "markdown",
   "metadata": {},
   "source": [
    "<a id=5></a>\n",
    "[Содержание](#0)\n",
    "## 5. Общий вывод\n",
    "\n",
    "В ходе работы было выполнено:\n",
    "\n",
    "- Подготовлены данные.\n",
    "- Проведен исследовательский анализ данных.\n",
    "- Построена и обучена модель.\n",
    "\n",
    "Основные сложности:\n",
    "- Большое кол-во столбцов в данных;\n",
    "- Скорость подбора по сетке с поиском лучших гиперпараметров.\n",
    "\n",
    "Модель RandomForestRegressor показала лучшее значение sMAPE = 9.435, но она проигрывает константной модели sMAPE = 9.165."
   ]
  },
  {
   "cell_type": "code",
   "execution_count": null,
   "metadata": {},
   "outputs": [],
   "source": []
  }
 ],
 "metadata": {
  "ExecuteTimeLog": [
   {
    "duration": 4,
    "start_time": "2023-01-17T14:15:53.950Z"
   },
   {
    "duration": 73,
    "start_time": "2023-01-17T14:24:08.979Z"
   },
   {
    "duration": 1607,
    "start_time": "2023-01-17T14:44:02.181Z"
   },
   {
    "duration": 1444,
    "start_time": "2023-01-17T14:45:43.561Z"
   },
   {
    "duration": 155,
    "start_time": "2023-01-17T14:46:57.726Z"
   },
   {
    "duration": 550,
    "start_time": "2023-01-17T14:46:58.936Z"
   },
   {
    "duration": 313,
    "start_time": "2023-01-17T14:49:23.856Z"
   },
   {
    "duration": 108,
    "start_time": "2023-01-17T14:49:32.415Z"
   },
   {
    "duration": 303,
    "start_time": "2023-01-17T14:50:02.025Z"
   },
   {
    "duration": 105,
    "start_time": "2023-01-17T14:50:21.770Z"
   },
   {
    "duration": 350,
    "start_time": "2023-01-17T14:50:37.482Z"
   },
   {
    "duration": 218,
    "start_time": "2023-01-17T14:50:46.561Z"
   },
   {
    "duration": 122,
    "start_time": "2023-01-17T14:50:52.640Z"
   },
   {
    "duration": 236,
    "start_time": "2023-01-17T14:50:58.916Z"
   },
   {
    "duration": 1610,
    "start_time": "2023-01-18T13:24:38.170Z"
   },
   {
    "duration": 1220,
    "start_time": "2023-01-18T13:24:39.782Z"
   },
   {
    "duration": 159,
    "start_time": "2023-01-18T13:24:41.004Z"
   },
   {
    "duration": 588,
    "start_time": "2023-01-18T13:24:41.279Z"
   },
   {
    "duration": 233,
    "start_time": "2023-01-18T13:24:43.210Z"
   },
   {
    "duration": 120,
    "start_time": "2023-01-18T13:24:44.918Z"
   },
   {
    "duration": 236,
    "start_time": "2023-01-18T13:24:45.870Z"
   },
   {
    "duration": 4,
    "start_time": "2023-01-18T13:27:15.954Z"
   },
   {
    "duration": 105,
    "start_time": "2023-01-18T13:27:36.015Z"
   },
   {
    "duration": 643,
    "start_time": "2023-01-18T13:27:57.170Z"
   },
   {
    "duration": 173,
    "start_time": "2023-01-18T13:28:29.496Z"
   },
   {
    "duration": 12,
    "start_time": "2023-01-18T13:29:23.851Z"
   },
   {
    "duration": 144,
    "start_time": "2023-01-18T13:29:56.075Z"
   },
   {
    "duration": 83,
    "start_time": "2023-01-18T13:31:15.234Z"
   },
   {
    "duration": 230,
    "start_time": "2023-01-18T13:31:32.519Z"
   },
   {
    "duration": 136,
    "start_time": "2023-01-18T13:33:48.309Z"
   },
   {
    "duration": 81,
    "start_time": "2023-01-18T13:34:11.146Z"
   },
   {
    "duration": 115,
    "start_time": "2023-01-18T13:34:35.090Z"
   },
   {
    "duration": 102,
    "start_time": "2023-01-18T13:35:10.924Z"
   },
   {
    "duration": 51,
    "start_time": "2023-01-18T13:36:04.815Z"
   },
   {
    "duration": 60,
    "start_time": "2023-01-18T13:36:21.674Z"
   },
   {
    "duration": 60,
    "start_time": "2023-01-18T13:38:38.155Z"
   },
   {
    "duration": 67,
    "start_time": "2023-01-18T13:38:48.555Z"
   },
   {
    "duration": 76,
    "start_time": "2023-01-18T13:40:20.569Z"
   },
   {
    "duration": 68,
    "start_time": "2023-01-18T13:42:36.194Z"
   },
   {
    "duration": 91,
    "start_time": "2023-01-18T13:42:43.941Z"
   },
   {
    "duration": 64,
    "start_time": "2023-01-18T13:43:21.994Z"
   },
   {
    "duration": 314,
    "start_time": "2023-01-18T13:44:13.300Z"
   },
   {
    "duration": 372,
    "start_time": "2023-01-18T13:45:03.257Z"
   },
   {
    "duration": 57,
    "start_time": "2023-01-18T13:45:36.395Z"
   },
   {
    "duration": 83,
    "start_time": "2023-01-18T13:46:43.857Z"
   },
   {
    "duration": 72,
    "start_time": "2023-01-18T13:47:08.869Z"
   },
   {
    "duration": 70,
    "start_time": "2023-01-18T13:49:08.523Z"
   },
   {
    "duration": 73,
    "start_time": "2023-01-18T13:49:37.170Z"
   },
   {
    "duration": 61,
    "start_time": "2023-01-18T13:51:00.429Z"
   },
   {
    "duration": 268,
    "start_time": "2023-01-18T13:51:38.409Z"
   },
   {
    "duration": 250,
    "start_time": "2023-01-18T13:51:58.020Z"
   },
   {
    "duration": 280,
    "start_time": "2023-01-18T13:52:16.820Z"
   },
   {
    "duration": 21,
    "start_time": "2023-01-18T13:52:35.366Z"
   },
   {
    "duration": 20,
    "start_time": "2023-01-18T13:53:11.694Z"
   },
   {
    "duration": 12,
    "start_time": "2023-01-18T13:53:12.969Z"
   },
   {
    "duration": 14,
    "start_time": "2023-01-18T13:53:28.790Z"
   },
   {
    "duration": 21,
    "start_time": "2023-01-18T13:54:06.265Z"
   },
   {
    "duration": 23,
    "start_time": "2023-01-18T13:54:26.559Z"
   },
   {
    "duration": 16,
    "start_time": "2023-01-18T13:55:06.574Z"
   },
   {
    "duration": 21,
    "start_time": "2023-01-18T13:55:16.420Z"
   },
   {
    "duration": 226,
    "start_time": "2023-01-18T13:56:14.870Z"
   },
   {
    "duration": 19,
    "start_time": "2023-01-18T13:56:15.590Z"
   },
   {
    "duration": 22,
    "start_time": "2023-01-18T13:56:16.874Z"
   },
   {
    "duration": 24,
    "start_time": "2023-01-18T13:56:24.089Z"
   },
   {
    "duration": 16,
    "start_time": "2023-01-18T13:56:25.164Z"
   },
   {
    "duration": 23,
    "start_time": "2023-01-18T13:56:31.159Z"
   },
   {
    "duration": 341,
    "start_time": "2023-01-18T13:58:38.720Z"
   },
   {
    "duration": 19,
    "start_time": "2023-01-18T13:58:43.390Z"
   },
   {
    "duration": 21,
    "start_time": "2023-01-18T14:12:41.963Z"
   },
   {
    "duration": 14,
    "start_time": "2023-01-18T14:12:42.814Z"
   },
   {
    "duration": 26,
    "start_time": "2023-01-18T14:12:43.919Z"
   },
   {
    "duration": 85,
    "start_time": "2023-01-18T14:14:20.862Z"
   },
   {
    "duration": 66,
    "start_time": "2023-01-18T14:16:10.159Z"
   },
   {
    "duration": 11,
    "start_time": "2023-01-18T14:40:01.068Z"
   },
   {
    "duration": 23,
    "start_time": "2023-01-18T14:40:47.219Z"
   },
   {
    "duration": 7,
    "start_time": "2023-01-18T14:43:10.730Z"
   },
   {
    "duration": 18,
    "start_time": "2023-01-18T14:49:46.854Z"
   },
   {
    "duration": 12,
    "start_time": "2023-01-18T14:49:51.079Z"
   },
   {
    "duration": 4,
    "start_time": "2023-01-18T15:53:08.941Z"
   },
   {
    "duration": 6,
    "start_time": "2023-01-18T15:53:30.144Z"
   },
   {
    "duration": 280,
    "start_time": "2023-01-18T15:55:13.464Z"
   },
   {
    "duration": 272,
    "start_time": "2023-01-18T15:55:55.566Z"
   },
   {
    "duration": 280,
    "start_time": "2023-01-18T15:56:11.304Z"
   },
   {
    "duration": 309,
    "start_time": "2023-01-18T15:56:23.670Z"
   },
   {
    "duration": 506,
    "start_time": "2023-01-18T15:56:34.545Z"
   },
   {
    "duration": 203,
    "start_time": "2023-01-18T15:56:47.525Z"
   },
   {
    "duration": 263,
    "start_time": "2023-01-18T15:56:55.885Z"
   },
   {
    "duration": 25,
    "start_time": "2023-01-18T15:59:01.645Z"
   },
   {
    "duration": 22,
    "start_time": "2023-01-18T15:59:07.330Z"
   },
   {
    "duration": 23,
    "start_time": "2023-01-18T15:59:57.290Z"
   },
   {
    "duration": 23,
    "start_time": "2023-01-18T16:02:29.455Z"
   },
   {
    "duration": 17,
    "start_time": "2023-01-18T16:13:52.144Z"
   },
   {
    "duration": 22,
    "start_time": "2023-01-18T16:13:53.925Z"
   },
   {
    "duration": 301,
    "start_time": "2023-01-18T16:14:05.514Z"
   },
   {
    "duration": 337,
    "start_time": "2023-01-18T16:14:16.860Z"
   },
   {
    "duration": 22,
    "start_time": "2023-01-18T16:14:53.244Z"
   },
   {
    "duration": 18,
    "start_time": "2023-01-18T16:15:55.465Z"
   },
   {
    "duration": 9,
    "start_time": "2023-01-18T16:16:22.759Z"
   },
   {
    "duration": 16,
    "start_time": "2023-01-18T16:16:31.105Z"
   },
   {
    "duration": 6,
    "start_time": "2023-01-18T16:19:09.642Z"
   },
   {
    "duration": 6,
    "start_time": "2023-01-18T16:19:59.079Z"
   },
   {
    "duration": 1860,
    "start_time": "2023-01-18T20:51:55.939Z"
   },
   {
    "duration": 1502,
    "start_time": "2023-01-18T20:51:58.027Z"
   },
   {
    "duration": 294,
    "start_time": "2023-01-18T20:51:59.532Z"
   },
   {
    "duration": 825,
    "start_time": "2023-01-18T20:51:59.829Z"
   },
   {
    "duration": 312,
    "start_time": "2023-01-18T20:52:01.405Z"
   },
   {
    "duration": 209,
    "start_time": "2023-01-18T20:52:02.386Z"
   },
   {
    "duration": 298,
    "start_time": "2023-01-18T20:52:03.328Z"
   },
   {
    "duration": 72,
    "start_time": "2023-01-18T20:52:05.183Z"
   },
   {
    "duration": 18,
    "start_time": "2023-01-18T20:52:06.308Z"
   },
   {
    "duration": 26,
    "start_time": "2023-01-18T20:52:07.242Z"
   },
   {
    "duration": 47,
    "start_time": "2023-01-18T20:52:09.563Z"
   },
   {
    "duration": 9,
    "start_time": "2023-01-18T20:52:11.403Z"
   },
   {
    "duration": 24,
    "start_time": "2023-01-18T20:52:24.732Z"
   },
   {
    "duration": 24,
    "start_time": "2023-01-18T20:52:26.081Z"
   },
   {
    "duration": 19,
    "start_time": "2023-01-18T20:52:29.080Z"
   },
   {
    "duration": 363,
    "start_time": "2023-01-18T20:52:31.567Z"
   },
   {
    "duration": 25,
    "start_time": "2023-01-18T20:52:34.319Z"
   },
   {
    "duration": 24,
    "start_time": "2023-01-18T20:52:35.905Z"
   },
   {
    "duration": 20,
    "start_time": "2023-01-18T20:52:40.835Z"
   },
   {
    "duration": 434,
    "start_time": "2023-01-18T20:52:43.622Z"
   },
   {
    "duration": 26,
    "start_time": "2023-01-18T20:52:56.434Z"
   },
   {
    "duration": 22,
    "start_time": "2023-01-18T20:53:32.005Z"
   },
   {
    "duration": 18,
    "start_time": "2023-01-18T20:55:38.239Z"
   },
   {
    "duration": 342,
    "start_time": "2023-01-18T20:56:14.701Z"
   },
   {
    "duration": 95,
    "start_time": "2023-01-18T20:56:15.228Z"
   },
   {
    "duration": 451,
    "start_time": "2023-01-18T20:56:16.756Z"
   },
   {
    "duration": 312,
    "start_time": "2023-01-18T20:56:19.636Z"
   },
   {
    "duration": 172,
    "start_time": "2023-01-18T20:56:20.004Z"
   },
   {
    "duration": 286,
    "start_time": "2023-01-18T20:56:20.671Z"
   },
   {
    "duration": 23,
    "start_time": "2023-01-18T20:56:22.235Z"
   },
   {
    "duration": 19,
    "start_time": "2023-01-18T20:56:22.641Z"
   },
   {
    "duration": 31,
    "start_time": "2023-01-18T20:56:23.399Z"
   },
   {
    "duration": 33,
    "start_time": "2023-01-18T20:56:24.704Z"
   },
   {
    "duration": 13,
    "start_time": "2023-01-18T20:56:25.479Z"
   },
   {
    "duration": 24,
    "start_time": "2023-01-18T20:56:34.674Z"
   },
   {
    "duration": 19,
    "start_time": "2023-01-18T20:56:59.487Z"
   },
   {
    "duration": 8,
    "start_time": "2023-01-18T20:57:01.317Z"
   },
   {
    "duration": 369,
    "start_time": "2023-01-18T20:57:03.363Z"
   },
   {
    "duration": 29,
    "start_time": "2023-01-18T20:57:08.073Z"
   },
   {
    "duration": 30,
    "start_time": "2023-01-18T20:57:09.200Z"
   },
   {
    "duration": 30,
    "start_time": "2023-01-18T20:57:12.968Z"
   },
   {
    "duration": 1297,
    "start_time": "2023-01-18T22:10:06.175Z"
   },
   {
    "duration": 12,
    "start_time": "2023-01-18T22:11:17.395Z"
   },
   {
    "duration": 20,
    "start_time": "2023-01-18T22:12:41.023Z"
   },
   {
    "duration": 12,
    "start_time": "2023-01-18T22:13:26.003Z"
   },
   {
    "duration": 4,
    "start_time": "2023-01-19T08:43:50.131Z"
   },
   {
    "duration": 330,
    "start_time": "2023-01-19T08:43:52.160Z"
   },
   {
    "duration": 111,
    "start_time": "2023-01-19T08:43:52.786Z"
   },
   {
    "duration": 428,
    "start_time": "2023-01-19T08:43:53.955Z"
   },
   {
    "duration": 264,
    "start_time": "2023-01-19T08:43:56.081Z"
   },
   {
    "duration": 147,
    "start_time": "2023-01-19T08:44:00.155Z"
   },
   {
    "duration": 301,
    "start_time": "2023-01-19T08:44:01.530Z"
   },
   {
    "duration": 27,
    "start_time": "2023-01-19T08:44:03.690Z"
   },
   {
    "duration": 18,
    "start_time": "2023-01-19T08:44:05.520Z"
   },
   {
    "duration": 24,
    "start_time": "2023-01-19T08:44:06.950Z"
   },
   {
    "duration": 26,
    "start_time": "2023-01-19T08:44:10.230Z"
   },
   {
    "duration": 8,
    "start_time": "2023-01-19T08:46:03.509Z"
   },
   {
    "duration": 18,
    "start_time": "2023-01-19T08:47:14.526Z"
   },
   {
    "duration": 18,
    "start_time": "2023-01-19T08:47:25.653Z"
   },
   {
    "duration": 8,
    "start_time": "2023-01-19T08:48:00.406Z"
   },
   {
    "duration": 340,
    "start_time": "2023-01-19T08:48:08.511Z"
   },
   {
    "duration": 37,
    "start_time": "2023-01-19T08:48:26.432Z"
   },
   {
    "duration": 26,
    "start_time": "2023-01-19T08:48:38.302Z"
   },
   {
    "duration": 14,
    "start_time": "2023-01-19T08:51:28.011Z"
   },
   {
    "duration": 8,
    "start_time": "2023-01-19T09:01:19.199Z"
   },
   {
    "duration": 9,
    "start_time": "2023-01-19T09:14:09.219Z"
   },
   {
    "duration": 8,
    "start_time": "2023-01-19T09:15:26.320Z"
   },
   {
    "duration": 10,
    "start_time": "2023-01-19T09:15:49.249Z"
   },
   {
    "duration": 9,
    "start_time": "2023-01-19T09:16:01.613Z"
   },
   {
    "duration": 9,
    "start_time": "2023-01-19T09:16:09.003Z"
   },
   {
    "duration": 10,
    "start_time": "2023-01-19T09:16:52.889Z"
   },
   {
    "duration": 363,
    "start_time": "2023-01-19T09:26:18.187Z"
   },
   {
    "duration": 28,
    "start_time": "2023-01-19T09:26:43.423Z"
   },
   {
    "duration": 35,
    "start_time": "2023-01-19T09:27:47.641Z"
   },
   {
    "duration": 19,
    "start_time": "2023-01-19T09:27:49.620Z"
   },
   {
    "duration": 29,
    "start_time": "2023-01-19T09:29:16.026Z"
   },
   {
    "duration": 14,
    "start_time": "2023-01-19T09:31:00.693Z"
   },
   {
    "duration": 12,
    "start_time": "2023-01-19T09:31:24.805Z"
   },
   {
    "duration": 9,
    "start_time": "2023-01-19T09:31:35.521Z"
   },
   {
    "duration": 9,
    "start_time": "2023-01-19T09:32:08.140Z"
   },
   {
    "duration": 3,
    "start_time": "2023-01-19T09:33:06.265Z"
   },
   {
    "duration": 13,
    "start_time": "2023-01-19T09:33:18.625Z"
   },
   {
    "duration": 14,
    "start_time": "2023-01-19T09:34:58.581Z"
   },
   {
    "duration": 13,
    "start_time": "2023-01-19T09:35:09.445Z"
   },
   {
    "duration": 11,
    "start_time": "2023-01-19T09:35:31.367Z"
   },
   {
    "duration": 13,
    "start_time": "2023-01-19T09:35:40.051Z"
   },
   {
    "duration": 17,
    "start_time": "2023-01-19T09:37:37.764Z"
   },
   {
    "duration": 56,
    "start_time": "2023-01-19T09:43:53.368Z"
   },
   {
    "duration": 49,
    "start_time": "2023-01-19T09:44:16.008Z"
   },
   {
    "duration": 37,
    "start_time": "2023-01-19T09:45:12.544Z"
   },
   {
    "duration": 50,
    "start_time": "2023-01-19T09:45:20.066Z"
   },
   {
    "duration": 14,
    "start_time": "2023-01-19T09:46:51.145Z"
   },
   {
    "duration": 18,
    "start_time": "2023-01-19T09:47:25.517Z"
   },
   {
    "duration": 13,
    "start_time": "2023-01-19T09:47:38.966Z"
   },
   {
    "duration": 12,
    "start_time": "2023-01-19T09:47:48.731Z"
   },
   {
    "duration": 20,
    "start_time": "2023-01-19T09:48:18.676Z"
   },
   {
    "duration": 339,
    "start_time": "2023-01-19T09:48:43.031Z"
   },
   {
    "duration": 39,
    "start_time": "2023-01-19T09:49:27.601Z"
   },
   {
    "duration": 98,
    "start_time": "2023-01-19T09:49:50.826Z"
   },
   {
    "duration": 17,
    "start_time": "2023-01-19T09:50:07.501Z"
   },
   {
    "duration": 15,
    "start_time": "2023-01-19T09:50:17.946Z"
   },
   {
    "duration": 32,
    "start_time": "2023-01-19T09:51:03.707Z"
   },
   {
    "duration": 40,
    "start_time": "2023-01-19T09:52:21.767Z"
   },
   {
    "duration": 9,
    "start_time": "2023-01-19T09:53:25.827Z"
   },
   {
    "duration": 7,
    "start_time": "2023-01-19T09:53:44.399Z"
   },
   {
    "duration": 8,
    "start_time": "2023-01-19T09:57:24.202Z"
   },
   {
    "duration": 8,
    "start_time": "2023-01-19T09:57:26.943Z"
   },
   {
    "duration": 15,
    "start_time": "2023-01-19T09:57:43.522Z"
   },
   {
    "duration": 31,
    "start_time": "2023-01-19T10:00:14.283Z"
   },
   {
    "duration": 19,
    "start_time": "2023-01-19T10:01:52.519Z"
   },
   {
    "duration": 28,
    "start_time": "2023-01-19T10:05:27.535Z"
   },
   {
    "duration": 28,
    "start_time": "2023-01-19T10:05:45.749Z"
   },
   {
    "duration": 7,
    "start_time": "2023-01-19T10:06:54.268Z"
   },
   {
    "duration": 6,
    "start_time": "2023-01-19T10:07:40.508Z"
   },
   {
    "duration": 6,
    "start_time": "2023-01-19T10:07:53.664Z"
   },
   {
    "duration": 34,
    "start_time": "2023-01-19T10:08:02.634Z"
   },
   {
    "duration": 24,
    "start_time": "2023-01-19T10:08:20.769Z"
   },
   {
    "duration": 79,
    "start_time": "2023-01-19T10:08:43.349Z"
   },
   {
    "duration": 21,
    "start_time": "2023-01-19T10:10:03.449Z"
   },
   {
    "duration": 27,
    "start_time": "2023-01-19T10:10:20.083Z"
   },
   {
    "duration": 21,
    "start_time": "2023-01-19T10:10:40.819Z"
   },
   {
    "duration": 24,
    "start_time": "2023-01-19T10:11:13.349Z"
   },
   {
    "duration": 21,
    "start_time": "2023-01-19T10:11:39.408Z"
   },
   {
    "duration": 18,
    "start_time": "2023-01-19T10:16:24.353Z"
   },
   {
    "duration": 17,
    "start_time": "2023-01-19T10:16:37.171Z"
   },
   {
    "duration": 29,
    "start_time": "2023-01-19T10:16:55.228Z"
   },
   {
    "duration": 20,
    "start_time": "2023-01-19T10:18:26.400Z"
   },
   {
    "duration": 15,
    "start_time": "2023-01-19T10:18:26.928Z"
   },
   {
    "duration": 22,
    "start_time": "2023-01-19T10:18:27.798Z"
   },
   {
    "duration": 28,
    "start_time": "2023-01-19T10:20:55.433Z"
   },
   {
    "duration": 24,
    "start_time": "2023-01-19T10:20:55.972Z"
   },
   {
    "duration": 19,
    "start_time": "2023-01-19T10:21:02.427Z"
   },
   {
    "duration": 75,
    "start_time": "2023-01-19T10:22:35.272Z"
   },
   {
    "duration": 5,
    "start_time": "2023-01-19T10:23:09.648Z"
   },
   {
    "duration": 326,
    "start_time": "2023-01-19T10:23:11.302Z"
   },
   {
    "duration": 98,
    "start_time": "2023-01-19T10:23:13.247Z"
   },
   {
    "duration": 454,
    "start_time": "2023-01-19T10:23:15.783Z"
   },
   {
    "duration": 436,
    "start_time": "2023-01-19T10:23:19.475Z"
   },
   {
    "duration": 216,
    "start_time": "2023-01-19T10:23:20.532Z"
   },
   {
    "duration": 306,
    "start_time": "2023-01-19T10:23:21.625Z"
   },
   {
    "duration": 22,
    "start_time": "2023-01-19T10:23:29.448Z"
   },
   {
    "duration": 1525,
    "start_time": "2023-01-19T11:37:04.277Z"
   },
   {
    "duration": 1354,
    "start_time": "2023-01-19T11:37:05.881Z"
   },
   {
    "duration": 170,
    "start_time": "2023-01-19T11:37:08.187Z"
   },
   {
    "duration": 555,
    "start_time": "2023-01-19T11:37:09.996Z"
   },
   {
    "duration": 236,
    "start_time": "2023-01-19T11:37:15.861Z"
   },
   {
    "duration": 128,
    "start_time": "2023-01-19T11:37:16.345Z"
   },
   {
    "duration": 247,
    "start_time": "2023-01-19T11:37:17.875Z"
   },
   {
    "duration": 19,
    "start_time": "2023-01-19T11:37:23.426Z"
   },
   {
    "duration": 12,
    "start_time": "2023-01-19T11:37:24.575Z"
   },
   {
    "duration": 5,
    "start_time": "2023-01-19T11:39:19.300Z"
   },
   {
    "duration": 5,
    "start_time": "2023-01-19T11:40:52.180Z"
   },
   {
    "duration": 26,
    "start_time": "2023-01-19T11:41:12.661Z"
   },
   {
    "duration": 25,
    "start_time": "2023-01-19T12:58:20.647Z"
   },
   {
    "duration": 8,
    "start_time": "2023-01-19T12:58:26.891Z"
   },
   {
    "duration": 17,
    "start_time": "2023-01-19T12:58:51.555Z"
   },
   {
    "duration": 12,
    "start_time": "2023-01-19T12:58:52.390Z"
   },
   {
    "duration": 114,
    "start_time": "2023-01-19T13:02:33.301Z"
   },
   {
    "duration": 7,
    "start_time": "2023-01-19T13:02:56.776Z"
   },
   {
    "duration": 10,
    "start_time": "2023-01-19T13:05:44.860Z"
   },
   {
    "duration": 9,
    "start_time": "2023-01-19T13:08:28.485Z"
   },
   {
    "duration": 12,
    "start_time": "2023-01-19T13:09:19.049Z"
   },
   {
    "duration": 7,
    "start_time": "2023-01-19T13:09:52.281Z"
   },
   {
    "duration": 10,
    "start_time": "2023-01-19T13:13:06.655Z"
   },
   {
    "duration": 65,
    "start_time": "2023-01-19T13:13:35.176Z"
   },
   {
    "duration": 141,
    "start_time": "2023-01-19T13:15:02.036Z"
   },
   {
    "duration": 10,
    "start_time": "2023-01-19T13:32:47.197Z"
   },
   {
    "duration": 10,
    "start_time": "2023-01-19T13:33:59.881Z"
   },
   {
    "duration": 11,
    "start_time": "2023-01-19T13:37:27.149Z"
   },
   {
    "duration": 6,
    "start_time": "2023-01-19T13:38:04.326Z"
   },
   {
    "duration": 6,
    "start_time": "2023-01-19T13:38:51.386Z"
   },
   {
    "duration": 6,
    "start_time": "2023-01-19T13:39:12.847Z"
   },
   {
    "duration": 9,
    "start_time": "2023-01-19T13:40:06.956Z"
   },
   {
    "duration": 10,
    "start_time": "2023-01-19T13:41:03.256Z"
   },
   {
    "duration": 8,
    "start_time": "2023-01-19T13:42:03.956Z"
   },
   {
    "duration": 15,
    "start_time": "2023-01-19T13:44:28.480Z"
   },
   {
    "duration": 23,
    "start_time": "2023-01-19T13:45:23.732Z"
   },
   {
    "duration": 69,
    "start_time": "2023-01-19T13:45:49.056Z"
   },
   {
    "duration": 17,
    "start_time": "2023-01-19T13:49:59.777Z"
   },
   {
    "duration": 15,
    "start_time": "2023-01-19T13:50:28.825Z"
   },
   {
    "duration": 14,
    "start_time": "2023-01-19T13:52:39.459Z"
   },
   {
    "duration": 16,
    "start_time": "2023-01-19T13:58:49.027Z"
   },
   {
    "duration": 17,
    "start_time": "2023-01-19T14:00:33.801Z"
   },
   {
    "duration": 10,
    "start_time": "2023-01-19T14:03:32.194Z"
   },
   {
    "duration": 6,
    "start_time": "2023-01-19T14:03:50.619Z"
   },
   {
    "duration": 367,
    "start_time": "2023-01-19T14:04:51.530Z"
   },
   {
    "duration": 32,
    "start_time": "2023-01-19T14:05:13.635Z"
   },
   {
    "duration": 7,
    "start_time": "2023-01-19T14:06:59.895Z"
   },
   {
    "duration": 6,
    "start_time": "2023-01-19T14:10:46.089Z"
   },
   {
    "duration": 364,
    "start_time": "2023-01-19T14:10:47.321Z"
   },
   {
    "duration": 92,
    "start_time": "2023-01-19T14:10:47.895Z"
   },
   {
    "duration": 443,
    "start_time": "2023-01-19T14:10:48.523Z"
   },
   {
    "duration": 245,
    "start_time": "2023-01-19T14:10:50.983Z"
   },
   {
    "duration": 160,
    "start_time": "2023-01-19T14:10:51.230Z"
   },
   {
    "duration": 346,
    "start_time": "2023-01-19T14:10:52.860Z"
   },
   {
    "duration": 28,
    "start_time": "2023-01-19T14:10:55.135Z"
   },
   {
    "duration": 17,
    "start_time": "2023-01-19T14:10:56.675Z"
   },
   {
    "duration": 29,
    "start_time": "2023-01-19T14:10:59.074Z"
   },
   {
    "duration": 5,
    "start_time": "2023-01-19T14:11:07.535Z"
   },
   {
    "duration": 27,
    "start_time": "2023-01-19T14:11:37.322Z"
   },
   {
    "duration": 7,
    "start_time": "2023-01-19T14:11:38.520Z"
   },
   {
    "duration": 22,
    "start_time": "2023-01-19T14:12:10.395Z"
   },
   {
    "duration": 13,
    "start_time": "2023-01-19T14:12:15.074Z"
   },
   {
    "duration": 5,
    "start_time": "2023-01-19T14:13:05.623Z"
   },
   {
    "duration": 344,
    "start_time": "2023-01-19T14:13:11.827Z"
   },
   {
    "duration": 326,
    "start_time": "2023-01-19T14:13:13.556Z"
   },
   {
    "duration": 36,
    "start_time": "2023-01-19T14:13:28.036Z"
   },
   {
    "duration": 14,
    "start_time": "2023-01-19T14:14:46.230Z"
   },
   {
    "duration": 17,
    "start_time": "2023-01-19T14:15:55.156Z"
   },
   {
    "duration": 297,
    "start_time": "2023-01-19T14:16:12.375Z"
   },
   {
    "duration": 328,
    "start_time": "2023-01-19T14:16:29.575Z"
   },
   {
    "duration": 331,
    "start_time": "2023-01-19T14:16:37.381Z"
   },
   {
    "duration": 1481,
    "start_time": "2023-01-19T19:07:25.715Z"
   },
   {
    "duration": 874,
    "start_time": "2023-01-19T19:07:27.198Z"
   },
   {
    "duration": 435,
    "start_time": "2023-01-19T19:07:28.074Z"
   },
   {
    "duration": 1862,
    "start_time": "2023-01-19T19:07:28.511Z"
   },
   {
    "duration": 215,
    "start_time": "2023-01-19T19:07:30.375Z"
   },
   {
    "duration": 124,
    "start_time": "2023-01-19T19:07:30.591Z"
   },
   {
    "duration": 246,
    "start_time": "2023-01-19T19:07:30.717Z"
   },
   {
    "duration": 25,
    "start_time": "2023-01-19T19:07:32.934Z"
   },
   {
    "duration": 12,
    "start_time": "2023-01-19T19:07:33.884Z"
   },
   {
    "duration": 21,
    "start_time": "2023-01-19T19:07:35.043Z"
   },
   {
    "duration": 4,
    "start_time": "2023-01-19T19:07:39.166Z"
   },
   {
    "duration": 26,
    "start_time": "2023-01-19T19:08:01.839Z"
   },
   {
    "duration": 6,
    "start_time": "2023-01-19T19:08:19.477Z"
   },
   {
    "duration": 19,
    "start_time": "2023-01-19T19:08:22.979Z"
   },
   {
    "duration": 12,
    "start_time": "2023-01-19T19:08:24.665Z"
   },
   {
    "duration": 5,
    "start_time": "2023-01-19T19:08:27.184Z"
   },
   {
    "duration": 288,
    "start_time": "2023-01-19T19:08:39.123Z"
   },
   {
    "duration": 284,
    "start_time": "2023-01-19T19:08:43.138Z"
   },
   {
    "duration": 31,
    "start_time": "2023-01-19T19:08:52.173Z"
   },
   {
    "duration": 12,
    "start_time": "2023-01-19T19:09:00.460Z"
   },
   {
    "duration": 359,
    "start_time": "2023-01-19T19:09:01.440Z"
   },
   {
    "duration": 33,
    "start_time": "2023-01-19T19:11:44.283Z"
   },
   {
    "duration": 9,
    "start_time": "2023-01-19T19:12:14.944Z"
   },
   {
    "duration": 108,
    "start_time": "2023-01-19T19:16:02.983Z"
   },
   {
    "duration": 6,
    "start_time": "2023-01-19T19:16:22.328Z"
   },
   {
    "duration": 6,
    "start_time": "2023-01-19T19:16:59.681Z"
   },
   {
    "duration": 5,
    "start_time": "2023-01-19T19:17:58.895Z"
   },
   {
    "duration": 6,
    "start_time": "2023-01-19T19:18:06.555Z"
   },
   {
    "duration": 60,
    "start_time": "2023-01-19T19:20:29.638Z"
   },
   {
    "duration": 5,
    "start_time": "2023-01-19T19:20:42.203Z"
   },
   {
    "duration": 5,
    "start_time": "2023-01-19T19:20:43.188Z"
   },
   {
    "duration": 502,
    "start_time": "2023-01-19T19:26:32.423Z"
   },
   {
    "duration": 516,
    "start_time": "2023-01-19T19:27:50.473Z"
   },
   {
    "duration": 629,
    "start_time": "2023-01-19T19:28:04.110Z"
   },
   {
    "duration": 511,
    "start_time": "2023-01-19T19:28:29.243Z"
   },
   {
    "duration": 19,
    "start_time": "2023-01-19T19:29:08.177Z"
   },
   {
    "duration": 646,
    "start_time": "2023-01-19T19:29:21.241Z"
   },
   {
    "duration": 562,
    "start_time": "2023-01-19T19:29:47.742Z"
   },
   {
    "duration": 625,
    "start_time": "2023-01-19T19:31:51.535Z"
   },
   {
    "duration": 761,
    "start_time": "2023-01-19T19:32:04.039Z"
   },
   {
    "duration": 629,
    "start_time": "2023-01-19T19:32:23.305Z"
   },
   {
    "duration": 725,
    "start_time": "2023-01-19T19:32:33.789Z"
   },
   {
    "duration": 626,
    "start_time": "2023-01-19T19:33:47.695Z"
   },
   {
    "duration": 418,
    "start_time": "2023-01-19T19:34:40.103Z"
   },
   {
    "duration": 6,
    "start_time": "2023-01-19T19:39:00.448Z"
   },
   {
    "duration": 621,
    "start_time": "2023-01-19T19:39:41.827Z"
   },
   {
    "duration": 511,
    "start_time": "2023-01-19T19:40:52.336Z"
   },
   {
    "duration": 602,
    "start_time": "2023-01-19T19:41:07.369Z"
   },
   {
    "duration": 487,
    "start_time": "2023-01-19T19:41:14.259Z"
   },
   {
    "duration": 493,
    "start_time": "2023-01-19T19:41:20.772Z"
   },
   {
    "duration": 205,
    "start_time": "2023-01-19T19:41:42.498Z"
   },
   {
    "duration": 590,
    "start_time": "2023-01-19T19:41:56.897Z"
   },
   {
    "duration": 10,
    "start_time": "2023-01-19T19:44:17.559Z"
   },
   {
    "duration": 10,
    "start_time": "2023-01-19T19:44:56.168Z"
   },
   {
    "duration": 31,
    "start_time": "2023-01-19T19:45:53.942Z"
   },
   {
    "duration": 9,
    "start_time": "2023-01-19T19:46:02.235Z"
   },
   {
    "duration": 16,
    "start_time": "2023-01-19T19:46:19.798Z"
   },
   {
    "duration": 9,
    "start_time": "2023-01-19T19:53:33.862Z"
   },
   {
    "duration": 3,
    "start_time": "2023-01-19T19:53:51.312Z"
   },
   {
    "duration": 4,
    "start_time": "2023-01-19T19:54:05.753Z"
   },
   {
    "duration": 8,
    "start_time": "2023-01-19T19:54:30.427Z"
   },
   {
    "duration": 9,
    "start_time": "2023-01-19T19:55:20.973Z"
   },
   {
    "duration": 8,
    "start_time": "2023-01-19T19:56:24.603Z"
   },
   {
    "duration": 9,
    "start_time": "2023-01-19T19:56:34.634Z"
   },
   {
    "duration": 11,
    "start_time": "2023-01-19T19:57:04.170Z"
   },
   {
    "duration": 4,
    "start_time": "2023-01-19T19:58:20.987Z"
   },
   {
    "duration": 3,
    "start_time": "2023-01-19T19:58:38.670Z"
   },
   {
    "duration": 9,
    "start_time": "2023-01-19T20:00:45.629Z"
   },
   {
    "duration": 3,
    "start_time": "2023-01-19T20:00:46.832Z"
   },
   {
    "duration": 4,
    "start_time": "2023-01-19T20:04:07.545Z"
   },
   {
    "duration": 268,
    "start_time": "2023-01-19T20:04:09.301Z"
   },
   {
    "duration": 75,
    "start_time": "2023-01-19T20:04:10.236Z"
   },
   {
    "duration": 340,
    "start_time": "2023-01-19T20:04:11.230Z"
   },
   {
    "duration": 207,
    "start_time": "2023-01-19T20:04:13.230Z"
   },
   {
    "duration": 120,
    "start_time": "2023-01-19T20:04:14.114Z"
   },
   {
    "duration": 218,
    "start_time": "2023-01-19T20:04:15.050Z"
   },
   {
    "duration": 16,
    "start_time": "2023-01-19T20:04:16.855Z"
   },
   {
    "duration": 11,
    "start_time": "2023-01-19T20:04:17.761Z"
   },
   {
    "duration": 22,
    "start_time": "2023-01-19T20:04:18.735Z"
   },
   {
    "duration": 4,
    "start_time": "2023-01-19T20:04:20.564Z"
   },
   {
    "duration": 19,
    "start_time": "2023-01-19T20:04:22.678Z"
   },
   {
    "duration": 7,
    "start_time": "2023-01-19T20:04:23.486Z"
   },
   {
    "duration": 18,
    "start_time": "2023-01-19T20:04:25.469Z"
   },
   {
    "duration": 12,
    "start_time": "2023-01-19T20:04:26.437Z"
   },
   {
    "duration": 4,
    "start_time": "2023-01-19T20:04:28.474Z"
   },
   {
    "duration": 256,
    "start_time": "2023-01-19T20:04:30.375Z"
   },
   {
    "duration": 279,
    "start_time": "2023-01-19T20:04:31.335Z"
   },
   {
    "duration": 36,
    "start_time": "2023-01-19T20:04:33.288Z"
   },
   {
    "duration": 9,
    "start_time": "2023-01-19T20:04:35.101Z"
   },
   {
    "duration": 241,
    "start_time": "2023-01-19T20:04:36.039Z"
   },
   {
    "duration": 32,
    "start_time": "2023-01-19T20:04:37.066Z"
   },
   {
    "duration": 9,
    "start_time": "2023-01-19T20:04:38.289Z"
   },
   {
    "duration": 5,
    "start_time": "2023-01-19T20:04:40.084Z"
   },
   {
    "duration": 6,
    "start_time": "2023-01-19T20:04:41.035Z"
   },
   {
    "duration": 626,
    "start_time": "2023-01-19T20:04:45.673Z"
   },
   {
    "duration": 532,
    "start_time": "2023-01-19T20:04:48.360Z"
   },
   {
    "duration": 505,
    "start_time": "2023-01-19T20:04:50.883Z"
   },
   {
    "duration": 721,
    "start_time": "2023-01-19T20:04:53.437Z"
   },
   {
    "duration": 390,
    "start_time": "2023-01-19T20:04:56.055Z"
   },
   {
    "duration": 7,
    "start_time": "2023-01-19T20:04:58.333Z"
   },
   {
    "duration": 595,
    "start_time": "2023-01-19T20:04:59.657Z"
   },
   {
    "duration": 485,
    "start_time": "2023-01-19T20:05:03.142Z"
   },
   {
    "duration": 14,
    "start_time": "2023-01-19T20:05:06.465Z"
   },
   {
    "duration": 8,
    "start_time": "2023-01-19T20:05:16.071Z"
   },
   {
    "duration": 3,
    "start_time": "2023-01-19T20:05:22.453Z"
   },
   {
    "duration": 52,
    "start_time": "2023-01-19T20:08:44.419Z"
   },
   {
    "duration": 9,
    "start_time": "2023-01-19T20:08:58.675Z"
   },
   {
    "duration": 10,
    "start_time": "2023-01-19T20:09:37.344Z"
   },
   {
    "duration": 4,
    "start_time": "2023-01-19T20:10:28.558Z"
   },
   {
    "duration": 9,
    "start_time": "2023-01-19T20:12:20.334Z"
   },
   {
    "duration": 4,
    "start_time": "2023-01-19T20:12:23.147Z"
   },
   {
    "duration": 11,
    "start_time": "2023-01-19T20:13:09.164Z"
   },
   {
    "duration": 10,
    "start_time": "2023-01-19T20:13:42.072Z"
   },
   {
    "duration": 6,
    "start_time": "2023-01-19T20:16:19.637Z"
   },
   {
    "duration": 3,
    "start_time": "2023-01-19T20:18:20.619Z"
   },
   {
    "duration": 6,
    "start_time": "2023-01-19T20:19:17.192Z"
   },
   {
    "duration": 5,
    "start_time": "2023-01-19T20:21:09.328Z"
   },
   {
    "duration": 3,
    "start_time": "2023-01-19T20:22:56.280Z"
   },
   {
    "duration": 3872,
    "start_time": "2023-01-19T20:28:17.994Z"
   },
   {
    "duration": 29,
    "start_time": "2023-01-19T20:30:42.848Z"
   },
   {
    "duration": 3081,
    "start_time": "2023-01-19T20:30:55.676Z"
   },
   {
    "duration": 5844,
    "start_time": "2023-01-19T20:37:21.835Z"
   },
   {
    "duration": 48,
    "start_time": "2023-01-19T20:37:30.904Z"
   },
   {
    "duration": 6200,
    "start_time": "2023-01-19T20:37:38.876Z"
   },
   {
    "duration": 548476,
    "start_time": "2023-01-19T20:41:24.911Z"
   },
   {
    "duration": 941068,
    "start_time": "2023-01-19T20:51:02.406Z"
   },
   {
    "duration": 63,
    "start_time": "2023-01-19T21:10:31.460Z"
   },
   {
    "duration": 55,
    "start_time": "2023-01-19T21:11:13.570Z"
   },
   {
    "duration": 945237,
    "start_time": "2023-01-19T21:11:58.359Z"
   },
   {
    "duration": 50,
    "start_time": "2023-01-19T21:30:38.347Z"
   },
   {
    "duration": 9,
    "start_time": "2023-01-19T21:31:10.785Z"
   },
   {
    "duration": 10,
    "start_time": "2023-01-19T21:31:38.664Z"
   },
   {
    "duration": 9,
    "start_time": "2023-01-19T21:31:55.442Z"
   },
   {
    "duration": 41,
    "start_time": "2023-01-19T21:36:00.992Z"
   },
   {
    "duration": 21712,
    "start_time": "2023-01-19T21:36:17.712Z"
   },
   {
    "duration": 39145,
    "start_time": "2023-01-19T21:37:06.125Z"
   },
   {
    "duration": 8,
    "start_time": "2023-01-19T21:39:22.886Z"
   },
   {
    "duration": 12,
    "start_time": "2023-01-19T21:40:24.556Z"
   },
   {
    "duration": 8,
    "start_time": "2023-01-19T21:40:34.933Z"
   },
   {
    "duration": 10,
    "start_time": "2023-01-19T21:41:33.307Z"
   },
   {
    "duration": 45191,
    "start_time": "2023-01-19T21:44:37.125Z"
   },
   {
    "duration": 1447,
    "start_time": "2023-01-20T06:58:17.647Z"
   },
   {
    "duration": 1201,
    "start_time": "2023-01-20T06:58:19.373Z"
   },
   {
    "duration": 141,
    "start_time": "2023-01-20T06:58:20.576Z"
   },
   {
    "duration": 500,
    "start_time": "2023-01-20T06:58:21.607Z"
   },
   {
    "duration": 233,
    "start_time": "2023-01-20T06:58:24.357Z"
   },
   {
    "duration": 122,
    "start_time": "2023-01-20T06:58:25.743Z"
   },
   {
    "duration": 232,
    "start_time": "2023-01-20T06:58:27.208Z"
   },
   {
    "duration": 18,
    "start_time": "2023-01-20T06:58:29.592Z"
   },
   {
    "duration": 13,
    "start_time": "2023-01-20T06:58:30.743Z"
   },
   {
    "duration": 17,
    "start_time": "2023-01-20T06:58:32.009Z"
   },
   {
    "duration": 4,
    "start_time": "2023-01-20T06:58:35.243Z"
   },
   {
    "duration": 24,
    "start_time": "2023-01-20T06:58:38.082Z"
   },
   {
    "duration": 6,
    "start_time": "2023-01-20T06:58:40.688Z"
   },
   {
    "duration": 20,
    "start_time": "2023-01-20T06:58:43.488Z"
   },
   {
    "duration": 12,
    "start_time": "2023-01-20T06:58:44.453Z"
   },
   {
    "duration": 5,
    "start_time": "2023-01-20T06:58:49.612Z"
   },
   {
    "duration": 308,
    "start_time": "2023-01-20T06:58:51.627Z"
   },
   {
    "duration": 286,
    "start_time": "2023-01-20T06:58:52.213Z"
   },
   {
    "duration": 32,
    "start_time": "2023-01-20T06:58:54.323Z"
   },
   {
    "duration": 10,
    "start_time": "2023-01-20T06:58:56.373Z"
   },
   {
    "duration": 335,
    "start_time": "2023-01-20T06:58:57.517Z"
   },
   {
    "duration": 35,
    "start_time": "2023-01-20T06:58:58.783Z"
   },
   {
    "duration": 9,
    "start_time": "2023-01-20T06:59:00.026Z"
   },
   {
    "duration": 6,
    "start_time": "2023-01-20T06:59:05.498Z"
   },
   {
    "duration": 6,
    "start_time": "2023-01-20T06:59:06.828Z"
   },
   {
    "duration": 636,
    "start_time": "2023-01-20T06:59:12.113Z"
   },
   {
    "duration": 559,
    "start_time": "2023-01-20T06:59:14.242Z"
   },
   {
    "duration": 619,
    "start_time": "2023-01-20T06:59:16.603Z"
   },
   {
    "duration": 639,
    "start_time": "2023-01-20T06:59:18.763Z"
   },
   {
    "duration": 409,
    "start_time": "2023-01-20T06:59:20.888Z"
   },
   {
    "duration": 8,
    "start_time": "2023-01-20T06:59:22.787Z"
   },
   {
    "duration": 679,
    "start_time": "2023-01-20T06:59:24.518Z"
   },
   {
    "duration": 496,
    "start_time": "2023-01-20T06:59:26.763Z"
   },
   {
    "duration": 17,
    "start_time": "2023-01-20T06:59:40.743Z"
   },
   {
    "duration": 9,
    "start_time": "2023-01-20T06:59:46.152Z"
   },
   {
    "duration": 3,
    "start_time": "2023-01-20T06:59:47.657Z"
   },
   {
    "duration": 101,
    "start_time": "2023-01-20T06:59:48.738Z"
   },
   {
    "duration": 7,
    "start_time": "2023-01-20T07:00:33.803Z"
   },
   {
    "duration": 3,
    "start_time": "2023-01-20T07:00:40.407Z"
   },
   {
    "duration": 6,
    "start_time": "2023-01-20T07:00:48.923Z"
   },
   {
    "duration": 6,
    "start_time": "2023-01-20T07:00:56.387Z"
   },
   {
    "duration": 4,
    "start_time": "2023-01-20T07:01:50.012Z"
   },
   {
    "duration": 2190,
    "start_time": "2023-01-20T07:03:57.148Z"
   },
   {
    "duration": 2531,
    "start_time": "2023-01-20T07:04:04.009Z"
   },
   {
    "duration": 899611,
    "start_time": "2023-01-20T07:04:27.223Z"
   },
   {
    "duration": 7,
    "start_time": "2023-01-20T07:30:12.158Z"
   },
   {
    "duration": 38699,
    "start_time": "2023-01-20T07:30:49.859Z"
   },
   {
    "duration": 9,
    "start_time": "2023-01-20T07:34:22.909Z"
   },
   {
    "duration": 9,
    "start_time": "2023-01-20T07:34:27.754Z"
   },
   {
    "duration": 8,
    "start_time": "2023-01-20T07:34:32.073Z"
   },
   {
    "duration": 37465,
    "start_time": "2023-01-20T07:34:33.649Z"
   },
   {
    "duration": 1616,
    "start_time": "2023-01-20T12:29:39.981Z"
   },
   {
    "duration": 1270,
    "start_time": "2023-01-20T12:29:41.599Z"
   },
   {
    "duration": 169,
    "start_time": "2023-01-20T12:29:42.871Z"
   },
   {
    "duration": 540,
    "start_time": "2023-01-20T12:29:43.042Z"
   },
   {
    "duration": 274,
    "start_time": "2023-01-20T12:29:43.584Z"
   },
   {
    "duration": 171,
    "start_time": "2023-01-20T12:29:44.222Z"
   },
   {
    "duration": 268,
    "start_time": "2023-01-20T12:29:45.136Z"
   },
   {
    "duration": 19,
    "start_time": "2023-01-20T12:29:46.932Z"
   },
   {
    "duration": 13,
    "start_time": "2023-01-20T12:29:47.717Z"
   },
   {
    "duration": 20,
    "start_time": "2023-01-20T12:29:48.536Z"
   },
   {
    "duration": 5,
    "start_time": "2023-01-20T12:29:50.186Z"
   },
   {
    "duration": 40,
    "start_time": "2023-01-20T12:29:51.698Z"
   },
   {
    "duration": 7,
    "start_time": "2023-01-20T12:29:52.557Z"
   },
   {
    "duration": 23,
    "start_time": "2023-01-20T12:29:54.138Z"
   },
   {
    "duration": 13,
    "start_time": "2023-01-20T12:29:54.861Z"
   },
   {
    "duration": 5,
    "start_time": "2023-01-20T12:29:56.433Z"
   },
   {
    "duration": 320,
    "start_time": "2023-01-20T12:29:58.157Z"
   },
   {
    "duration": 305,
    "start_time": "2023-01-20T12:29:59.326Z"
   },
   {
    "duration": 31,
    "start_time": "2023-01-20T12:30:01.651Z"
   },
   {
    "duration": 14,
    "start_time": "2023-01-20T12:30:03.742Z"
   },
   {
    "duration": 370,
    "start_time": "2023-01-20T12:30:04.791Z"
   },
   {
    "duration": 38,
    "start_time": "2023-01-20T12:30:06.082Z"
   },
   {
    "duration": 9,
    "start_time": "2023-01-20T12:30:06.987Z"
   },
   {
    "duration": 6,
    "start_time": "2023-01-20T12:30:09.526Z"
   },
   {
    "duration": 6,
    "start_time": "2023-01-20T12:30:12.829Z"
   },
   {
    "duration": 581,
    "start_time": "2023-01-20T12:30:18.657Z"
   },
   {
    "duration": 646,
    "start_time": "2023-01-20T12:30:21.772Z"
   },
   {
    "duration": 748,
    "start_time": "2023-01-20T12:30:24.327Z"
   },
   {
    "duration": 671,
    "start_time": "2023-01-20T12:30:27.561Z"
   },
   {
    "duration": 438,
    "start_time": "2023-01-20T12:30:29.737Z"
   },
   {
    "duration": 7,
    "start_time": "2023-01-20T12:30:31.801Z"
   },
   {
    "duration": 719,
    "start_time": "2023-01-20T12:30:32.861Z"
   },
   {
    "duration": 581,
    "start_time": "2023-01-20T12:30:35.103Z"
   },
   {
    "duration": 18,
    "start_time": "2023-01-20T12:30:37.942Z"
   },
   {
    "duration": 10,
    "start_time": "2023-01-20T12:30:42.136Z"
   },
   {
    "duration": 3,
    "start_time": "2023-01-20T12:30:43.262Z"
   },
   {
    "duration": 9,
    "start_time": "2023-01-20T12:30:44.083Z"
   },
   {
    "duration": 4,
    "start_time": "2023-01-20T12:30:45.948Z"
   },
   {
    "duration": 7,
    "start_time": "2023-01-20T12:30:47.898Z"
   },
   {
    "duration": 8,
    "start_time": "2023-01-20T12:30:49.007Z"
   },
   {
    "duration": 4,
    "start_time": "2023-01-20T12:30:51.138Z"
   },
   {
    "duration": 3156,
    "start_time": "2023-01-20T12:30:53.252Z"
   },
   {
    "duration": 3603,
    "start_time": "2023-01-20T12:30:56.411Z"
   },
   {
    "duration": 1036672,
    "start_time": "2023-01-20T12:31:00.102Z"
   },
   {
    "duration": 8,
    "start_time": "2023-01-20T12:50:06.344Z"
   },
   {
    "duration": 47464,
    "start_time": "2023-01-20T12:50:08.030Z"
   },
   {
    "duration": 10,
    "start_time": "2023-01-20T12:51:13.355Z"
   },
   {
    "duration": 11,
    "start_time": "2023-01-20T12:51:14.900Z"
   },
   {
    "duration": 14,
    "start_time": "2023-01-20T12:51:16.340Z"
   },
   {
    "duration": 51860,
    "start_time": "2023-01-20T12:51:18.335Z"
   },
   {
    "duration": 1557,
    "start_time": "2023-01-21T11:45:52.738Z"
   },
   {
    "duration": 921,
    "start_time": "2023-01-21T11:45:56.184Z"
   },
   {
    "duration": 410,
    "start_time": "2023-01-21T11:45:58.120Z"
   },
   {
    "duration": 1813,
    "start_time": "2023-01-21T11:45:59.624Z"
   },
   {
    "duration": 221,
    "start_time": "2023-01-21T11:46:04.408Z"
   },
   {
    "duration": 121,
    "start_time": "2023-01-21T11:46:05.553Z"
   },
   {
    "duration": 240,
    "start_time": "2023-01-21T11:46:07.445Z"
   },
   {
    "duration": 27,
    "start_time": "2023-01-21T11:46:11.223Z"
   },
   {
    "duration": 17,
    "start_time": "2023-01-21T11:46:24.229Z"
   },
   {
    "duration": 24,
    "start_time": "2023-01-21T11:46:36.100Z"
   },
   {
    "duration": 15,
    "start_time": "2023-01-21T11:46:47.472Z"
   },
   {
    "duration": 21,
    "start_time": "2023-01-21T11:46:55.100Z"
   },
   {
    "duration": 4,
    "start_time": "2023-01-21T11:47:14.429Z"
   },
   {
    "duration": 31,
    "start_time": "2023-01-21T11:47:34.501Z"
   },
   {
    "duration": 7,
    "start_time": "2023-01-21T11:47:57.840Z"
   },
   {
    "duration": 19,
    "start_time": "2023-01-21T11:48:13.021Z"
   },
   {
    "duration": 12,
    "start_time": "2023-01-21T11:48:23.706Z"
   },
   {
    "duration": 5,
    "start_time": "2023-01-21T11:49:00.839Z"
   },
   {
    "duration": 309,
    "start_time": "2023-01-21T11:49:32.885Z"
   },
   {
    "duration": 286,
    "start_time": "2023-01-21T11:49:35.776Z"
   },
   {
    "duration": 29,
    "start_time": "2023-01-21T11:49:46.959Z"
   },
   {
    "duration": 17,
    "start_time": "2023-01-21T11:50:45.492Z"
   },
   {
    "duration": 441,
    "start_time": "2023-01-21T11:50:56.953Z"
   },
   {
    "duration": 35,
    "start_time": "2023-01-21T11:51:01.928Z"
   },
   {
    "duration": 9,
    "start_time": "2023-01-21T11:51:11.181Z"
   },
   {
    "duration": 6,
    "start_time": "2023-01-21T11:51:37.921Z"
   },
   {
    "duration": 5,
    "start_time": "2023-01-21T11:51:38.813Z"
   },
   {
    "duration": 502,
    "start_time": "2023-01-21T11:52:51.549Z"
   },
   {
    "duration": 538,
    "start_time": "2023-01-21T11:53:00.401Z"
   },
   {
    "duration": 689,
    "start_time": "2023-01-21T11:53:02.505Z"
   },
   {
    "duration": 663,
    "start_time": "2023-01-21T11:53:07.749Z"
   },
   {
    "duration": 421,
    "start_time": "2023-01-21T11:53:12.501Z"
   },
   {
    "duration": 8,
    "start_time": "2023-01-21T11:53:15.092Z"
   },
   {
    "duration": 641,
    "start_time": "2023-01-21T11:53:17.483Z"
   },
   {
    "duration": 561,
    "start_time": "2023-01-21T11:53:36.425Z"
   },
   {
    "duration": 18,
    "start_time": "2023-01-21T11:54:04.573Z"
   },
   {
    "duration": 9,
    "start_time": "2023-01-21T11:55:14.278Z"
   },
   {
    "duration": 4,
    "start_time": "2023-01-21T11:55:23.151Z"
   },
   {
    "duration": 7,
    "start_time": "2023-01-21T11:56:33.821Z"
   },
   {
    "duration": 2,
    "start_time": "2023-01-21T11:56:46.200Z"
   },
   {
    "duration": 6,
    "start_time": "2023-01-21T11:57:00.790Z"
   },
   {
    "duration": 6,
    "start_time": "2023-01-21T11:57:09.155Z"
   },
   {
    "duration": 4,
    "start_time": "2023-01-21T12:00:31.135Z"
   },
   {
    "duration": 2661,
    "start_time": "2023-01-21T12:00:32.808Z"
   },
   {
    "duration": 2681,
    "start_time": "2023-01-21T12:00:36.794Z"
   },
   {
    "duration": 954987,
    "start_time": "2023-01-21T12:00:41.423Z"
   },
   {
    "duration": 7,
    "start_time": "2023-01-21T12:17:08.490Z"
   },
   {
    "duration": 41217,
    "start_time": "2023-01-21T12:17:10.731Z"
   },
   {
    "duration": 17,
    "start_time": "2023-01-21T12:17:51.950Z"
   },
   {
    "duration": 8,
    "start_time": "2023-01-21T12:17:59.294Z"
   },
   {
    "duration": 9,
    "start_time": "2023-01-21T12:18:04.239Z"
   },
   {
    "duration": 41522,
    "start_time": "2023-01-21T12:18:11.859Z"
   },
   {
    "duration": 7,
    "start_time": "2023-01-21T15:07:05.943Z"
   },
   {
    "duration": 6,
    "start_time": "2023-01-21T15:07:07.113Z"
   },
   {
    "duration": 3,
    "start_time": "2023-01-21T15:07:29.084Z"
   },
   {
    "duration": 11,
    "start_time": "2023-01-21T15:08:32.280Z"
   },
   {
    "duration": 1276,
    "start_time": "2023-01-21T15:27:11.133Z"
   },
   {
    "duration": 40,
    "start_time": "2023-01-21T15:31:43.856Z"
   },
   {
    "duration": 1266,
    "start_time": "2023-01-21T15:32:57.853Z"
   },
   {
    "duration": 1314,
    "start_time": "2023-01-21T15:35:08.756Z"
   },
   {
    "duration": 154717,
    "start_time": "2023-01-21T15:36:33.818Z"
   },
   {
    "duration": 5,
    "start_time": "2023-01-21T15:39:08.537Z"
   },
   {
    "duration": 301,
    "start_time": "2023-01-21T15:39:08.543Z"
   },
   {
    "duration": 77,
    "start_time": "2023-01-21T15:39:08.845Z"
   },
   {
    "duration": 350,
    "start_time": "2023-01-21T15:39:08.923Z"
   },
   {
    "duration": 215,
    "start_time": "2023-01-21T15:39:09.275Z"
   },
   {
    "duration": 121,
    "start_time": "2023-01-21T15:39:09.492Z"
   },
   {
    "duration": 257,
    "start_time": "2023-01-21T15:39:09.615Z"
   },
   {
    "duration": 16,
    "start_time": "2023-01-21T15:39:09.873Z"
   },
   {
    "duration": 11,
    "start_time": "2023-01-21T15:39:09.891Z"
   },
   {
    "duration": 1420,
    "start_time": "2023-01-21T15:39:35.053Z"
   },
   {
    "duration": 290,
    "start_time": "2023-01-21T15:40:08.940Z"
   },
   {
    "duration": 90,
    "start_time": "2023-01-21T15:40:10.032Z"
   },
   {
    "duration": 332,
    "start_time": "2023-01-21T15:40:10.628Z"
   },
   {
    "duration": 227,
    "start_time": "2023-01-21T15:40:11.710Z"
   },
   {
    "duration": 113,
    "start_time": "2023-01-21T15:40:12.285Z"
   },
   {
    "duration": 239,
    "start_time": "2023-01-21T15:40:13.215Z"
   },
   {
    "duration": 18,
    "start_time": "2023-01-21T15:40:14.529Z"
   },
   {
    "duration": 12,
    "start_time": "2023-01-21T15:40:15.450Z"
   },
   {
    "duration": 17,
    "start_time": "2023-01-21T15:40:17.725Z"
   },
   {
    "duration": 4,
    "start_time": "2023-01-21T15:40:19.726Z"
   },
   {
    "duration": 23,
    "start_time": "2023-01-21T15:40:21.287Z"
   },
   {
    "duration": 6,
    "start_time": "2023-01-21T15:40:22.298Z"
   },
   {
    "duration": 17,
    "start_time": "2023-01-21T15:40:23.873Z"
   },
   {
    "duration": 11,
    "start_time": "2023-01-21T15:40:24.668Z"
   },
   {
    "duration": 4,
    "start_time": "2023-01-21T15:40:26.167Z"
   },
   {
    "duration": 267,
    "start_time": "2023-01-21T15:40:27.956Z"
   },
   {
    "duration": 262,
    "start_time": "2023-01-21T15:40:55.848Z"
   },
   {
    "duration": 30,
    "start_time": "2023-01-21T15:40:57.696Z"
   },
   {
    "duration": 11,
    "start_time": "2023-01-21T15:40:58.929Z"
   },
   {
    "duration": 326,
    "start_time": "2023-01-21T15:40:59.488Z"
   },
   {
    "duration": 36,
    "start_time": "2023-01-21T15:41:00.030Z"
   },
   {
    "duration": 8,
    "start_time": "2023-01-21T15:41:00.814Z"
   },
   {
    "duration": 6,
    "start_time": "2023-01-21T15:41:02.018Z"
   },
   {
    "duration": 6,
    "start_time": "2023-01-21T15:41:02.553Z"
   },
   {
    "duration": 542,
    "start_time": "2023-01-21T15:41:05.955Z"
   },
   {
    "duration": 541,
    "start_time": "2023-01-21T15:41:06.819Z"
   },
   {
    "duration": 604,
    "start_time": "2023-01-21T15:41:07.909Z"
   },
   {
    "duration": 580,
    "start_time": "2023-01-21T15:41:09.010Z"
   },
   {
    "duration": 382,
    "start_time": "2023-01-21T15:41:10.263Z"
   },
   {
    "duration": 8,
    "start_time": "2023-01-21T15:41:11.793Z"
   },
   {
    "duration": 658,
    "start_time": "2023-01-21T15:41:12.516Z"
   },
   {
    "duration": 492,
    "start_time": "2023-01-21T15:41:14.264Z"
   },
   {
    "duration": 20,
    "start_time": "2023-01-21T15:41:15.057Z"
   },
   {
    "duration": 8,
    "start_time": "2023-01-21T15:41:21.111Z"
   },
   {
    "duration": 3,
    "start_time": "2023-01-21T15:41:22.865Z"
   },
   {
    "duration": 7,
    "start_time": "2023-01-21T15:41:23.624Z"
   },
   {
    "duration": 4,
    "start_time": "2023-01-21T15:41:25.108Z"
   },
   {
    "duration": 6,
    "start_time": "2023-01-21T15:41:26.684Z"
   },
   {
    "duration": 6,
    "start_time": "2023-01-21T15:41:27.210Z"
   },
   {
    "duration": 4,
    "start_time": "2023-01-21T15:41:29.117Z"
   },
   {
    "duration": 2556,
    "start_time": "2023-01-21T15:41:31.018Z"
   },
   {
    "duration": 2475,
    "start_time": "2023-01-21T15:41:37.993Z"
   },
   {
    "duration": 952447,
    "start_time": "2023-01-21T15:42:04.292Z"
   },
   {
    "duration": 1115,
    "start_time": "2023-01-21T15:59:02.969Z"
   },
   {
    "duration": 5,
    "start_time": "2023-01-21T16:13:25.834Z"
   },
   {
    "duration": 48670,
    "start_time": "2023-01-21T16:13:33.688Z"
   },
   {
    "duration": 43917,
    "start_time": "2023-01-21T16:15:05.609Z"
   },
   {
    "duration": 39378,
    "start_time": "2023-01-21T16:15:53.019Z"
   },
   {
    "duration": 10,
    "start_time": "2023-01-21T16:17:51.158Z"
   },
   {
    "duration": 7,
    "start_time": "2023-01-21T16:17:57.916Z"
   },
   {
    "duration": 10,
    "start_time": "2023-01-21T16:18:41.200Z"
   },
   {
    "duration": 49411,
    "start_time": "2023-01-21T16:18:52.607Z"
   },
   {
    "duration": 87,
    "start_time": "2023-01-21T16:29:50.488Z"
   },
   {
    "duration": 295,
    "start_time": "2023-01-21T16:32:16.474Z"
   },
   {
    "duration": 4,
    "start_time": "2023-01-21T16:33:27.691Z"
   },
   {
    "duration": 266,
    "start_time": "2023-01-21T16:33:40.902Z"
   },
   {
    "duration": 360,
    "start_time": "2023-01-21T16:41:03.210Z"
   },
   {
    "duration": 328,
    "start_time": "2023-01-21T16:43:03.643Z"
   },
   {
    "duration": 157,
    "start_time": "2023-01-21T16:49:54.123Z"
   },
   {
    "duration": 224,
    "start_time": "2023-01-21T16:50:53.344Z"
   },
   {
    "duration": 51902,
    "start_time": "2023-01-21T17:03:14.279Z"
   },
   {
    "duration": 4,
    "start_time": "2023-01-21T17:05:39.997Z"
   },
   {
    "duration": 300,
    "start_time": "2023-01-21T17:05:42.775Z"
   },
   {
    "duration": 82,
    "start_time": "2023-01-21T17:05:43.567Z"
   },
   {
    "duration": 392,
    "start_time": "2023-01-21T17:05:44.463Z"
   },
   {
    "duration": 219,
    "start_time": "2023-01-21T17:05:46.207Z"
   },
   {
    "duration": 116,
    "start_time": "2023-01-21T17:05:47.062Z"
   },
   {
    "duration": 242,
    "start_time": "2023-01-21T17:05:48.166Z"
   },
   {
    "duration": 17,
    "start_time": "2023-01-21T17:05:50.178Z"
   },
   {
    "duration": 16,
    "start_time": "2023-01-21T17:05:51.204Z"
   },
   {
    "duration": 18,
    "start_time": "2023-01-21T17:05:52.051Z"
   },
   {
    "duration": 5,
    "start_time": "2023-01-21T17:05:54.007Z"
   },
   {
    "duration": 21,
    "start_time": "2023-01-21T17:05:56.189Z"
   },
   {
    "duration": 6,
    "start_time": "2023-01-21T17:05:57.289Z"
   },
   {
    "duration": 72,
    "start_time": "2023-01-21T17:06:26.989Z"
   },
   {
    "duration": 93,
    "start_time": "2023-01-21T17:06:33.240Z"
   },
   {
    "duration": 7,
    "start_time": "2023-01-21T17:07:03.057Z"
   },
   {
    "duration": 16,
    "start_time": "2023-01-21T17:07:05.124Z"
   },
   {
    "duration": 12,
    "start_time": "2023-01-21T17:07:06.234Z"
   },
   {
    "duration": 5,
    "start_time": "2023-01-21T17:07:08.510Z"
   },
   {
    "duration": 360,
    "start_time": "2023-01-21T17:07:10.714Z"
   },
   {
    "duration": 249,
    "start_time": "2023-01-21T17:07:11.282Z"
   },
   {
    "duration": 277,
    "start_time": "2023-01-21T17:08:10.872Z"
   },
   {
    "duration": 85,
    "start_time": "2023-01-21T17:08:11.391Z"
   },
   {
    "duration": 379,
    "start_time": "2023-01-21T17:08:12.343Z"
   },
   {
    "duration": 260,
    "start_time": "2023-01-21T17:08:24.665Z"
   },
   {
    "duration": 117,
    "start_time": "2023-01-21T17:08:25.676Z"
   },
   {
    "duration": 231,
    "start_time": "2023-01-21T17:08:27.040Z"
   },
   {
    "duration": 19,
    "start_time": "2023-01-21T17:08:28.856Z"
   },
   {
    "duration": 18,
    "start_time": "2023-01-21T17:08:36.628Z"
   },
   {
    "duration": 12,
    "start_time": "2023-01-21T17:08:37.475Z"
   },
   {
    "duration": 19,
    "start_time": "2023-01-21T17:08:38.355Z"
   },
   {
    "duration": 4,
    "start_time": "2023-01-21T17:08:39.464Z"
   },
   {
    "duration": 21,
    "start_time": "2023-01-21T17:08:41.619Z"
   },
   {
    "duration": 1360,
    "start_time": "2023-01-21T17:09:50.934Z"
   },
   {
    "duration": 5,
    "start_time": "2023-01-21T17:10:09.216Z"
   },
   {
    "duration": 285,
    "start_time": "2023-01-21T17:10:11.288Z"
   },
   {
    "duration": 96,
    "start_time": "2023-01-21T17:10:12.559Z"
   },
   {
    "duration": 361,
    "start_time": "2023-01-21T17:10:13.392Z"
   },
   {
    "duration": 267,
    "start_time": "2023-01-21T17:10:15.464Z"
   },
   {
    "duration": 128,
    "start_time": "2023-01-21T17:10:16.628Z"
   },
   {
    "duration": 254,
    "start_time": "2023-01-21T17:10:17.602Z"
   },
   {
    "duration": 17,
    "start_time": "2023-01-21T17:10:19.716Z"
   },
   {
    "duration": 11,
    "start_time": "2023-01-21T17:10:20.777Z"
   },
   {
    "duration": 17,
    "start_time": "2023-01-21T17:10:21.711Z"
   },
   {
    "duration": 5,
    "start_time": "2023-01-21T17:10:23.875Z"
   },
   {
    "duration": 22,
    "start_time": "2023-01-21T17:10:25.617Z"
   },
   {
    "duration": 5,
    "start_time": "2023-01-21T17:10:26.581Z"
   },
   {
    "duration": 18,
    "start_time": "2023-01-21T17:10:28.408Z"
   },
   {
    "duration": 12,
    "start_time": "2023-01-21T17:10:29.313Z"
   },
   {
    "duration": 4,
    "start_time": "2023-01-21T17:10:31.156Z"
   },
   {
    "duration": 309,
    "start_time": "2023-01-21T17:10:32.865Z"
   },
   {
    "duration": 297,
    "start_time": "2023-01-21T17:10:33.840Z"
   },
   {
    "duration": 28,
    "start_time": "2023-01-21T17:10:35.693Z"
   },
   {
    "duration": 11,
    "start_time": "2023-01-21T17:10:37.614Z"
   },
   {
    "duration": 325,
    "start_time": "2023-01-21T17:10:39.161Z"
   },
   {
    "duration": 33,
    "start_time": "2023-01-21T17:10:45.796Z"
   },
   {
    "duration": 9,
    "start_time": "2023-01-21T17:10:52.319Z"
   },
   {
    "duration": 5,
    "start_time": "2023-01-21T17:11:10.572Z"
   },
   {
    "duration": 6,
    "start_time": "2023-01-21T17:11:11.893Z"
   },
   {
    "duration": 540,
    "start_time": "2023-01-21T17:11:29.884Z"
   },
   {
    "duration": 640,
    "start_time": "2023-01-21T17:11:31.646Z"
   },
   {
    "duration": 657,
    "start_time": "2023-01-21T17:11:34.581Z"
   },
   {
    "duration": 552,
    "start_time": "2023-01-21T17:12:10.639Z"
   },
   {
    "duration": 575,
    "start_time": "2023-01-21T17:12:21.036Z"
   },
   {
    "duration": 733,
    "start_time": "2023-01-21T17:12:32.466Z"
   },
   {
    "duration": 646,
    "start_time": "2023-01-21T17:12:43.119Z"
   },
   {
    "duration": 499,
    "start_time": "2023-01-21T17:12:51.618Z"
   },
   {
    "duration": 7,
    "start_time": "2023-01-21T17:12:54.856Z"
   },
   {
    "duration": 541,
    "start_time": "2023-01-21T17:13:20.539Z"
   },
   {
    "duration": 501,
    "start_time": "2023-01-21T17:13:24.060Z"
   },
   {
    "duration": 18,
    "start_time": "2023-01-21T17:13:28.976Z"
   },
   {
    "duration": 9,
    "start_time": "2023-01-21T17:13:37.130Z"
   },
   {
    "duration": 3,
    "start_time": "2023-01-21T17:13:43.050Z"
   },
   {
    "duration": 7,
    "start_time": "2023-01-21T17:13:44.008Z"
   },
   {
    "duration": 3,
    "start_time": "2023-01-21T17:13:55.939Z"
   },
   {
    "duration": 7,
    "start_time": "2023-01-21T17:13:58.369Z"
   },
   {
    "duration": 8,
    "start_time": "2023-01-21T17:13:59.800Z"
   },
   {
    "duration": 4,
    "start_time": "2023-01-21T17:14:03.055Z"
   },
   {
    "duration": 2802,
    "start_time": "2023-01-21T17:14:16.968Z"
   },
   {
    "duration": 2677,
    "start_time": "2023-01-21T17:14:58.792Z"
   },
   {
    "duration": 955633,
    "start_time": "2023-01-21T17:16:01.113Z"
   },
   {
    "duration": 5,
    "start_time": "2023-01-21T17:32:16.377Z"
   },
   {
    "duration": 57493,
    "start_time": "2023-01-21T17:32:19.270Z"
   },
   {
    "duration": 9,
    "start_time": "2023-01-21T17:33:28.467Z"
   },
   {
    "duration": 9,
    "start_time": "2023-01-21T17:35:11.805Z"
   },
   {
    "duration": 7,
    "start_time": "2023-01-21T17:39:11.941Z"
   },
   {
    "duration": 9,
    "start_time": "2023-01-21T17:39:14.562Z"
   },
   {
    "duration": 42761,
    "start_time": "2023-01-21T17:39:16.138Z"
   },
   {
    "duration": 292,
    "start_time": "2023-01-21T17:40:09.887Z"
   },
   {
    "duration": 3,
    "start_time": "2023-01-21T17:44:21.263Z"
   },
   {
    "duration": 270,
    "start_time": "2023-01-21T17:44:22.523Z"
   },
   {
    "duration": 77,
    "start_time": "2023-01-21T17:44:23.202Z"
   },
   {
    "duration": 356,
    "start_time": "2023-01-21T17:44:23.780Z"
   },
   {
    "duration": 210,
    "start_time": "2023-01-21T17:44:25.078Z"
   },
   {
    "duration": 119,
    "start_time": "2023-01-21T17:44:25.760Z"
   },
   {
    "duration": 243,
    "start_time": "2023-01-21T17:44:26.526Z"
   },
   {
    "duration": 18,
    "start_time": "2023-01-21T17:44:27.970Z"
   },
   {
    "duration": 12,
    "start_time": "2023-01-21T17:44:28.709Z"
   },
   {
    "duration": 18,
    "start_time": "2023-01-21T17:44:29.551Z"
   },
   {
    "duration": 4,
    "start_time": "2023-01-21T17:44:31.172Z"
   },
   {
    "duration": 23,
    "start_time": "2023-01-21T17:44:33.125Z"
   },
   {
    "duration": 7,
    "start_time": "2023-01-21T17:44:33.976Z"
   },
   {
    "duration": 16,
    "start_time": "2023-01-21T17:44:47.742Z"
   },
   {
    "duration": 12,
    "start_time": "2023-01-21T17:44:57.421Z"
   },
   {
    "duration": 4,
    "start_time": "2023-01-21T17:45:13.984Z"
   },
   {
    "duration": 362,
    "start_time": "2023-01-21T17:45:15.657Z"
   },
   {
    "duration": 285,
    "start_time": "2023-01-21T17:45:16.355Z"
   },
   {
    "duration": 28,
    "start_time": "2023-01-21T17:45:18.054Z"
   },
   {
    "duration": 10,
    "start_time": "2023-01-21T17:45:19.726Z"
   },
   {
    "duration": 264,
    "start_time": "2023-01-21T17:45:20.667Z"
   },
   {
    "duration": 31,
    "start_time": "2023-01-21T17:45:21.510Z"
   },
   {
    "duration": 9,
    "start_time": "2023-01-21T17:45:22.633Z"
   },
   {
    "duration": 7,
    "start_time": "2023-01-21T17:45:23.824Z"
   },
   {
    "duration": 7,
    "start_time": "2023-01-21T17:45:24.608Z"
   },
   {
    "duration": 489,
    "start_time": "2023-01-21T17:45:28.307Z"
   },
   {
    "duration": 667,
    "start_time": "2023-01-21T17:45:29.920Z"
   },
   {
    "duration": 526,
    "start_time": "2023-01-21T17:45:32.581Z"
   },
   {
    "duration": 829,
    "start_time": "2023-01-21T17:45:36.505Z"
   },
   {
    "duration": 420,
    "start_time": "2023-01-21T17:45:38.976Z"
   },
   {
    "duration": 8,
    "start_time": "2023-01-21T17:45:41.047Z"
   },
   {
    "duration": 567,
    "start_time": "2023-01-21T17:45:47.841Z"
   },
   {
    "duration": 674,
    "start_time": "2023-01-21T17:45:49.884Z"
   },
   {
    "duration": 17,
    "start_time": "2023-01-21T17:45:58.873Z"
   },
   {
    "duration": 9,
    "start_time": "2023-01-21T17:46:03.755Z"
   },
   {
    "duration": 4,
    "start_time": "2023-01-21T17:46:09.734Z"
   },
   {
    "duration": 10,
    "start_time": "2023-01-21T17:46:12.751Z"
   },
   {
    "duration": 3,
    "start_time": "2023-01-21T17:46:18.601Z"
   },
   {
    "duration": 8,
    "start_time": "2023-01-21T17:46:20.600Z"
   },
   {
    "duration": 9,
    "start_time": "2023-01-21T17:46:35.065Z"
   },
   {
    "duration": 4,
    "start_time": "2023-01-21T17:46:53.314Z"
   },
   {
    "duration": 2543,
    "start_time": "2023-01-21T17:47:00.934Z"
   },
   {
    "duration": 2543,
    "start_time": "2023-01-21T17:47:05.825Z"
   },
   {
    "duration": 5,
    "start_time": "2023-01-21T17:47:19.035Z"
   },
   {
    "duration": 57234,
    "start_time": "2023-01-21T17:47:27.057Z"
   },
   {
    "duration": 9,
    "start_time": "2023-01-21T17:48:24.292Z"
   },
   {
    "duration": 8,
    "start_time": "2023-01-21T17:49:13.267Z"
   },
   {
    "duration": 4,
    "start_time": "2023-01-21T17:54:33.249Z"
   },
   {
    "duration": 287,
    "start_time": "2023-01-21T17:54:34.112Z"
   },
   {
    "duration": 116,
    "start_time": "2023-01-21T17:54:34.964Z"
   },
   {
    "duration": 409,
    "start_time": "2023-01-21T17:54:35.631Z"
   },
   {
    "duration": 245,
    "start_time": "2023-01-21T17:54:37.507Z"
   },
   {
    "duration": 144,
    "start_time": "2023-01-21T17:54:38.840Z"
   },
   {
    "duration": 232,
    "start_time": "2023-01-21T17:54:39.807Z"
   },
   {
    "duration": 19,
    "start_time": "2023-01-21T17:54:41.154Z"
   },
   {
    "duration": 22,
    "start_time": "2023-01-21T17:54:42.054Z"
   },
   {
    "duration": 20,
    "start_time": "2023-01-21T17:54:42.716Z"
   },
   {
    "duration": 5,
    "start_time": "2023-01-21T17:54:44.551Z"
   },
   {
    "duration": 21,
    "start_time": "2023-01-21T17:54:46.228Z"
   },
   {
    "duration": 8,
    "start_time": "2023-01-21T17:54:46.936Z"
   },
   {
    "duration": 22,
    "start_time": "2023-01-21T17:54:49.761Z"
   },
   {
    "duration": 16,
    "start_time": "2023-01-21T17:54:50.588Z"
   },
   {
    "duration": 4,
    "start_time": "2023-01-21T17:54:52.159Z"
   },
   {
    "duration": 289,
    "start_time": "2023-01-21T17:54:54.052Z"
   },
   {
    "duration": 277,
    "start_time": "2023-01-21T17:54:55.880Z"
   },
   {
    "duration": 32,
    "start_time": "2023-01-21T17:54:58.097Z"
   },
   {
    "duration": 11,
    "start_time": "2023-01-21T17:55:00.646Z"
   },
   {
    "duration": 283,
    "start_time": "2023-01-21T17:55:01.564Z"
   },
   {
    "duration": 43,
    "start_time": "2023-01-21T17:55:02.558Z"
   },
   {
    "duration": 9,
    "start_time": "2023-01-21T17:55:03.823Z"
   },
   {
    "duration": 9,
    "start_time": "2023-01-21T17:55:06.274Z"
   },
   {
    "duration": 5,
    "start_time": "2023-01-21T17:55:07.131Z"
   },
   {
    "duration": 699,
    "start_time": "2023-01-21T17:55:10.721Z"
   },
   {
    "duration": 558,
    "start_time": "2023-01-21T17:55:12.103Z"
   },
   {
    "duration": 556,
    "start_time": "2023-01-21T17:55:13.511Z"
   },
   {
    "duration": 819,
    "start_time": "2023-01-21T17:55:15.022Z"
   },
   {
    "duration": 456,
    "start_time": "2023-01-21T17:55:16.675Z"
   },
   {
    "duration": 8,
    "start_time": "2023-01-21T17:55:18.208Z"
   },
   {
    "duration": 587,
    "start_time": "2023-01-21T17:55:18.941Z"
   },
   {
    "duration": 706,
    "start_time": "2023-01-21T17:55:20.481Z"
   },
   {
    "duration": 17,
    "start_time": "2023-01-21T17:55:21.975Z"
   },
   {
    "duration": 10,
    "start_time": "2023-01-21T17:55:49.928Z"
   },
   {
    "duration": 3,
    "start_time": "2023-01-21T17:55:51.513Z"
   },
   {
    "duration": 16,
    "start_time": "2023-01-21T17:55:52.268Z"
   },
   {
    "duration": 4,
    "start_time": "2023-01-21T17:55:54.792Z"
   },
   {
    "duration": 8,
    "start_time": "2023-01-21T17:55:56.257Z"
   },
   {
    "duration": 7,
    "start_time": "2023-01-21T17:55:57.190Z"
   },
   {
    "duration": 5,
    "start_time": "2023-01-21T17:56:01.480Z"
   },
   {
    "duration": 3828,
    "start_time": "2023-01-21T17:56:03.049Z"
   },
   {
    "duration": 3501,
    "start_time": "2023-01-21T17:56:12.373Z"
   },
   {
    "duration": 5,
    "start_time": "2023-01-21T17:56:32.781Z"
   },
   {
    "duration": 53578,
    "start_time": "2023-01-21T17:56:36.207Z"
   },
   {
    "duration": 11,
    "start_time": "2023-01-21T17:57:38.502Z"
   },
   {
    "duration": 223,
    "start_time": "2023-01-21T17:57:40.955Z"
   },
   {
    "duration": 1361,
    "start_time": "2023-01-21T17:59:08.006Z"
   },
   {
    "duration": 302,
    "start_time": "2023-01-21T17:59:09.908Z"
   },
   {
    "duration": 98,
    "start_time": "2023-01-21T17:59:11.054Z"
   },
   {
    "duration": 379,
    "start_time": "2023-01-21T17:59:12.113Z"
   },
   {
    "duration": 235,
    "start_time": "2023-01-21T17:59:14.362Z"
   },
   {
    "duration": 119,
    "start_time": "2023-01-21T17:59:15.732Z"
   },
   {
    "duration": 234,
    "start_time": "2023-01-21T17:59:16.972Z"
   },
   {
    "duration": 21,
    "start_time": "2023-01-21T17:59:24.467Z"
   },
   {
    "duration": 16,
    "start_time": "2023-01-21T17:59:25.627Z"
   },
   {
    "duration": 26,
    "start_time": "2023-01-21T17:59:27.921Z"
   },
   {
    "duration": 5,
    "start_time": "2023-01-21T17:59:36.706Z"
   },
   {
    "duration": 24,
    "start_time": "2023-01-21T17:59:41.916Z"
   },
   {
    "duration": 7,
    "start_time": "2023-01-21T17:59:42.941Z"
   },
   {
    "duration": 19,
    "start_time": "2023-01-21T17:59:49.691Z"
   },
   {
    "duration": 12,
    "start_time": "2023-01-21T17:59:51.435Z"
   },
   {
    "duration": 6,
    "start_time": "2023-01-21T17:59:54.142Z"
   },
   {
    "duration": 318,
    "start_time": "2023-01-21T17:59:57.031Z"
   },
   {
    "duration": 304,
    "start_time": "2023-01-21T17:59:58.556Z"
   },
   {
    "duration": 26,
    "start_time": "2023-01-21T18:00:01.740Z"
   },
   {
    "duration": 15,
    "start_time": "2023-01-21T18:00:04.854Z"
   },
   {
    "duration": 409,
    "start_time": "2023-01-21T18:00:06.540Z"
   },
   {
    "duration": 41,
    "start_time": "2023-01-21T18:00:07.948Z"
   },
   {
    "duration": 12,
    "start_time": "2023-01-21T18:00:11.560Z"
   },
   {
    "duration": 7,
    "start_time": "2023-01-21T18:00:14.089Z"
   },
   {
    "duration": 7,
    "start_time": "2023-01-21T18:00:14.604Z"
   },
   {
    "duration": 552,
    "start_time": "2023-01-21T18:00:17.821Z"
   },
   {
    "duration": 584,
    "start_time": "2023-01-21T18:00:20.322Z"
   },
   {
    "duration": 635,
    "start_time": "2023-01-21T18:00:23.663Z"
   },
   {
    "duration": 666,
    "start_time": "2023-01-21T18:00:26.576Z"
   },
   {
    "duration": 445,
    "start_time": "2023-01-21T18:00:29.042Z"
   },
   {
    "duration": 9,
    "start_time": "2023-01-21T18:00:31.573Z"
   },
   {
    "duration": 666,
    "start_time": "2023-01-21T18:00:33.110Z"
   },
   {
    "duration": 546,
    "start_time": "2023-01-21T18:00:35.747Z"
   },
   {
    "duration": 19,
    "start_time": "2023-01-21T18:00:40.439Z"
   },
   {
    "duration": 16,
    "start_time": "2023-01-21T18:00:47.766Z"
   },
   {
    "duration": 3,
    "start_time": "2023-01-21T18:00:48.905Z"
   },
   {
    "duration": 7,
    "start_time": "2023-01-21T18:00:50.289Z"
   },
   {
    "duration": 4,
    "start_time": "2023-01-21T18:00:52.791Z"
   },
   {
    "duration": 6,
    "start_time": "2023-01-21T18:00:55.140Z"
   },
   {
    "duration": 7,
    "start_time": "2023-01-21T18:00:56.250Z"
   },
   {
    "duration": 4,
    "start_time": "2023-01-21T18:00:58.946Z"
   },
   {
    "duration": 4508,
    "start_time": "2023-01-21T18:01:01.776Z"
   },
   {
    "duration": 4683,
    "start_time": "2023-01-21T18:01:23.290Z"
   },
   {
    "duration": 975041,
    "start_time": "2023-01-21T18:01:48.584Z"
   },
   {
    "duration": 5,
    "start_time": "2023-01-21T18:20:12.453Z"
   },
   {
    "duration": 89394,
    "start_time": "2023-01-21T18:20:13.401Z"
   },
   {
    "duration": 9,
    "start_time": "2023-01-21T18:21:42.797Z"
   },
   {
    "duration": 377,
    "start_time": "2023-01-21T18:22:20.193Z"
   },
   {
    "duration": 472,
    "start_time": "2023-01-21T18:23:02.001Z"
   },
   {
    "duration": 1188,
    "start_time": "2023-01-21T18:30:33.994Z"
   },
   {
    "duration": 1101,
    "start_time": "2023-01-21T18:30:42.807Z"
   },
   {
    "duration": 236,
    "start_time": "2023-01-21T18:31:21.052Z"
   },
   {
    "duration": 672,
    "start_time": "2023-01-21T18:31:41.209Z"
   },
   {
    "duration": 3,
    "start_time": "2023-01-21T18:32:52.992Z"
   },
   {
    "duration": 321,
    "start_time": "2023-01-21T18:32:55.250Z"
   },
   {
    "duration": 85,
    "start_time": "2023-01-21T18:32:55.924Z"
   },
   {
    "duration": 434,
    "start_time": "2023-01-21T18:32:56.564Z"
   },
   {
    "duration": 250,
    "start_time": "2023-01-21T18:32:57.781Z"
   },
   {
    "duration": 142,
    "start_time": "2023-01-21T18:32:58.337Z"
   },
   {
    "duration": 270,
    "start_time": "2023-01-21T18:32:58.945Z"
   },
   {
    "duration": 18,
    "start_time": "2023-01-21T18:33:00.187Z"
   },
   {
    "duration": 22,
    "start_time": "2023-01-21T18:33:00.775Z"
   },
   {
    "duration": 23,
    "start_time": "2023-01-21T18:33:01.379Z"
   },
   {
    "duration": 6,
    "start_time": "2023-01-21T18:33:02.528Z"
   },
   {
    "duration": 26,
    "start_time": "2023-01-21T18:33:03.778Z"
   },
   {
    "duration": 8,
    "start_time": "2023-01-21T18:33:04.537Z"
   },
   {
    "duration": 21,
    "start_time": "2023-01-21T18:33:07.028Z"
   },
   {
    "duration": 19,
    "start_time": "2023-01-21T18:33:07.767Z"
   },
   {
    "duration": 1443,
    "start_time": "2023-01-21T18:33:42.022Z"
   },
   {
    "duration": 349,
    "start_time": "2023-01-21T18:33:48.223Z"
   },
   {
    "duration": 103,
    "start_time": "2023-01-21T18:33:49.909Z"
   },
   {
    "duration": 405,
    "start_time": "2023-01-21T18:33:51.495Z"
   },
   {
    "duration": 303,
    "start_time": "2023-01-21T18:33:54.738Z"
   },
   {
    "duration": 163,
    "start_time": "2023-01-21T18:33:56.235Z"
   },
   {
    "duration": 294,
    "start_time": "2023-01-21T18:33:57.294Z"
   },
   {
    "duration": 29,
    "start_time": "2023-01-21T18:33:59.440Z"
   },
   {
    "duration": 16,
    "start_time": "2023-01-21T18:34:00.693Z"
   },
   {
    "duration": 30,
    "start_time": "2023-01-21T18:34:01.394Z"
   },
   {
    "duration": 5,
    "start_time": "2023-01-21T18:34:02.685Z"
   },
   {
    "duration": 33,
    "start_time": "2023-01-21T18:34:04.052Z"
   },
   {
    "duration": 9,
    "start_time": "2023-01-21T18:34:04.735Z"
   },
   {
    "duration": 26,
    "start_time": "2023-01-21T18:34:06.166Z"
   },
   {
    "duration": 19,
    "start_time": "2023-01-21T18:34:06.929Z"
   },
   {
    "duration": 5,
    "start_time": "2023-01-21T18:34:08.287Z"
   },
   {
    "duration": 370,
    "start_time": "2023-01-21T18:34:09.461Z"
   },
   {
    "duration": 331,
    "start_time": "2023-01-21T18:34:10.042Z"
   },
   {
    "duration": 29,
    "start_time": "2023-01-21T18:34:12.935Z"
   },
   {
    "duration": 12,
    "start_time": "2023-01-21T18:34:14.418Z"
   },
   {
    "duration": 453,
    "start_time": "2023-01-21T18:34:15.250Z"
   },
   {
    "duration": 42,
    "start_time": "2023-01-21T18:34:16.149Z"
   },
   {
    "duration": 10,
    "start_time": "2023-01-21T18:34:17.244Z"
   },
   {
    "duration": 7,
    "start_time": "2023-01-21T18:34:19.423Z"
   },
   {
    "duration": 6,
    "start_time": "2023-01-21T18:34:20.351Z"
   },
   {
    "duration": 599,
    "start_time": "2023-01-21T18:34:24.394Z"
   },
   {
    "duration": 604,
    "start_time": "2023-01-21T18:34:26.332Z"
   },
   {
    "duration": 729,
    "start_time": "2023-01-21T18:34:28.378Z"
   },
   {
    "duration": 716,
    "start_time": "2023-01-21T18:34:32.010Z"
   },
   {
    "duration": 482,
    "start_time": "2023-01-21T18:34:34.144Z"
   },
   {
    "duration": 6,
    "start_time": "2023-01-21T18:34:36.200Z"
   },
   {
    "duration": 700,
    "start_time": "2023-01-21T18:34:37.142Z"
   },
   {
    "duration": 542,
    "start_time": "2023-01-21T18:34:39.151Z"
   },
   {
    "duration": 16,
    "start_time": "2023-01-21T18:34:41.138Z"
   },
   {
    "duration": 8,
    "start_time": "2023-01-21T18:34:54.146Z"
   },
   {
    "duration": 7,
    "start_time": "2023-01-21T18:34:55.466Z"
   },
   {
    "duration": 10,
    "start_time": "2023-01-21T18:34:56.476Z"
   },
   {
    "duration": 6,
    "start_time": "2023-01-21T18:34:58.975Z"
   },
   {
    "duration": 9,
    "start_time": "2023-01-21T18:35:00.795Z"
   },
   {
    "duration": 6,
    "start_time": "2023-01-21T18:35:05.947Z"
   },
   {
    "duration": 5,
    "start_time": "2023-01-21T18:35:08.591Z"
   },
   {
    "duration": 5184,
    "start_time": "2023-01-21T18:35:10.988Z"
   },
   {
    "duration": 5293,
    "start_time": "2023-01-21T18:35:16.179Z"
   },
   {
    "duration": 986291,
    "start_time": "2023-01-21T18:35:21.479Z"
   },
   {
    "duration": 6,
    "start_time": "2023-01-21T18:53:24.679Z"
   },
   {
    "duration": 66928,
    "start_time": "2023-01-21T18:53:36.171Z"
   },
   {
    "duration": 8,
    "start_time": "2023-01-21T18:55:00.157Z"
   },
   {
    "duration": 11,
    "start_time": "2023-01-21T18:55:26.378Z"
   },
   {
    "duration": 166,
    "start_time": "2023-01-21T18:55:29.909Z"
   },
   {
    "duration": 26,
    "start_time": "2023-01-21T20:16:00.137Z"
   },
   {
    "duration": 29,
    "start_time": "2023-01-21T20:16:29.801Z"
   },
   {
    "duration": 6,
    "start_time": "2023-01-21T20:18:54.495Z"
   },
   {
    "duration": 48,
    "start_time": "2023-01-22T20:30:31.331Z"
   },
   {
    "duration": 1420,
    "start_time": "2023-01-22T20:31:16.280Z"
   },
   {
    "duration": 892,
    "start_time": "2023-01-22T20:31:17.701Z"
   },
   {
    "duration": 394,
    "start_time": "2023-01-22T20:31:18.596Z"
   },
   {
    "duration": 1743,
    "start_time": "2023-01-22T20:31:18.992Z"
   },
   {
    "duration": 231,
    "start_time": "2023-01-22T20:31:23.731Z"
   },
   {
    "duration": 131,
    "start_time": "2023-01-22T20:31:24.089Z"
   },
   {
    "duration": 230,
    "start_time": "2023-01-22T20:31:26.161Z"
   },
   {
    "duration": 18,
    "start_time": "2023-01-22T20:31:31.699Z"
   },
   {
    "duration": 15,
    "start_time": "2023-01-22T20:31:32.592Z"
   },
   {
    "duration": 18,
    "start_time": "2023-01-22T20:31:33.829Z"
   },
   {
    "duration": 112,
    "start_time": "2023-01-22T20:31:54.079Z"
   },
   {
    "duration": 10,
    "start_time": "2023-01-22T20:32:09.039Z"
   },
   {
    "duration": 11,
    "start_time": "2023-01-22T20:32:33.253Z"
   },
   {
    "duration": 16,
    "start_time": "2023-01-22T20:32:58.813Z"
   },
   {
    "duration": 259,
    "start_time": "2023-01-22T20:34:00.503Z"
   },
   {
    "duration": 4,
    "start_time": "2023-01-22T20:34:01.859Z"
   },
   {
    "duration": 18,
    "start_time": "2023-01-22T20:34:14.000Z"
   },
   {
    "duration": 29,
    "start_time": "2023-01-22T20:34:58.111Z"
   },
   {
    "duration": 20,
    "start_time": "2023-01-22T20:36:15.845Z"
   },
   {
    "duration": 33,
    "start_time": "2023-01-22T20:36:24.361Z"
   },
   {
    "duration": 15,
    "start_time": "2023-01-22T20:36:32.465Z"
   },
   {
    "duration": 7,
    "start_time": "2023-01-22T20:37:37.394Z"
   },
   {
    "duration": 15,
    "start_time": "2023-01-22T20:37:38.702Z"
   },
   {
    "duration": 310,
    "start_time": "2023-01-22T20:38:13.197Z"
   },
   {
    "duration": 21,
    "start_time": "2023-01-22T20:38:16.805Z"
   },
   {
    "duration": 28,
    "start_time": "2023-01-22T20:39:08.076Z"
   },
   {
    "duration": 8,
    "start_time": "2023-01-22T20:39:30.460Z"
   },
   {
    "duration": 5,
    "start_time": "2023-01-22T20:39:31.979Z"
   },
   {
    "duration": 23,
    "start_time": "2023-01-22T20:39:33.356Z"
   },
   {
    "duration": 1508,
    "start_time": "2023-01-22T20:42:32.527Z"
   },
   {
    "duration": 33,
    "start_time": "2023-01-22T20:43:31.224Z"
   },
   {
    "duration": 9,
    "start_time": "2023-01-22T20:43:57.408Z"
   },
   {
    "duration": 45,
    "start_time": "2023-01-22T20:44:04.445Z"
   },
   {
    "duration": 9,
    "start_time": "2023-01-22T20:45:30.279Z"
   },
   {
    "duration": 13,
    "start_time": "2023-01-22T20:48:26.707Z"
   },
   {
    "duration": 309,
    "start_time": "2023-01-22T20:48:41.799Z"
   },
   {
    "duration": 5,
    "start_time": "2023-01-22T20:48:44.129Z"
   },
   {
    "duration": 13,
    "start_time": "2023-01-22T20:48:46.023Z"
   },
   {
    "duration": 287,
    "start_time": "2023-01-22T20:48:57.428Z"
   },
   {
    "duration": 5,
    "start_time": "2023-01-22T20:48:59.579Z"
   },
   {
    "duration": 26,
    "start_time": "2023-01-22T20:49:05.644Z"
   },
   {
    "duration": 3,
    "start_time": "2023-01-22T20:49:44.998Z"
   },
   {
    "duration": 6,
    "start_time": "2023-01-22T20:52:18.886Z"
   },
   {
    "duration": 9,
    "start_time": "2023-01-22T20:52:27.875Z"
   },
   {
    "duration": 288,
    "start_time": "2023-01-22T20:54:38.547Z"
   },
   {
    "duration": 19,
    "start_time": "2023-01-22T20:54:40.407Z"
   },
   {
    "duration": 17,
    "start_time": "2023-01-22T20:55:54.518Z"
   },
   {
    "duration": 11,
    "start_time": "2023-01-22T20:56:15.867Z"
   },
   {
    "duration": 5,
    "start_time": "2023-01-22T20:57:56.791Z"
   },
   {
    "duration": 277,
    "start_time": "2023-01-22T20:57:58.625Z"
   },
   {
    "duration": 91,
    "start_time": "2023-01-22T20:57:59.129Z"
   },
   {
    "duration": 340,
    "start_time": "2023-01-22T20:57:59.963Z"
   },
   {
    "duration": 231,
    "start_time": "2023-01-22T20:58:01.890Z"
   },
   {
    "duration": 129,
    "start_time": "2023-01-22T20:58:02.463Z"
   },
   {
    "duration": 242,
    "start_time": "2023-01-22T20:58:03.299Z"
   },
   {
    "duration": 16,
    "start_time": "2023-01-22T20:58:05.683Z"
   },
   {
    "duration": 11,
    "start_time": "2023-01-22T20:58:11.779Z"
   },
   {
    "duration": 22,
    "start_time": "2023-01-22T20:58:14.488Z"
   },
   {
    "duration": 18,
    "start_time": "2023-01-22T20:58:49.461Z"
   },
   {
    "duration": 13,
    "start_time": "2023-01-22T20:58:50.562Z"
   },
   {
    "duration": 6,
    "start_time": "2023-01-22T20:59:06.238Z"
   },
   {
    "duration": 5,
    "start_time": "2023-01-22T20:59:14.461Z"
   },
   {
    "duration": 13,
    "start_time": "2023-01-22T20:59:51.948Z"
   },
   {
    "duration": 1458,
    "start_time": "2023-01-22T21:10:09.041Z"
   },
   {
    "duration": 924,
    "start_time": "2023-01-22T21:10:11.405Z"
   },
   {
    "duration": 431,
    "start_time": "2023-01-22T21:10:12.331Z"
   },
   {
    "duration": 1999,
    "start_time": "2023-01-22T21:10:14.723Z"
   },
   {
    "duration": 256,
    "start_time": "2023-01-22T21:10:21.945Z"
   },
   {
    "duration": 126,
    "start_time": "2023-01-22T21:10:22.848Z"
   },
   {
    "duration": 272,
    "start_time": "2023-01-22T21:10:23.745Z"
   },
   {
    "duration": 17,
    "start_time": "2023-01-22T21:10:33.308Z"
   },
   {
    "duration": 14,
    "start_time": "2023-01-22T21:10:34.282Z"
   },
   {
    "duration": 23,
    "start_time": "2023-01-22T21:10:35.446Z"
   },
   {
    "duration": 32,
    "start_time": "2023-01-22T21:10:46.642Z"
   },
   {
    "duration": 12,
    "start_time": "2023-01-22T21:10:49.844Z"
   },
   {
    "duration": 4,
    "start_time": "2023-01-22T21:12:40.345Z"
   },
   {
    "duration": 10,
    "start_time": "2023-01-22T21:13:05.061Z"
   },
   {
    "duration": 6,
    "start_time": "2023-01-22T21:15:34.793Z"
   },
   {
    "duration": 313,
    "start_time": "2023-01-22T21:15:37.683Z"
   },
   {
    "duration": 286,
    "start_time": "2023-01-22T21:15:38.170Z"
   },
   {
    "duration": 36,
    "start_time": "2023-01-22T21:15:40.898Z"
   },
   {
    "duration": 26,
    "start_time": "2023-01-22T21:16:22.545Z"
   },
   {
    "duration": 19,
    "start_time": "2023-01-22T21:16:38.194Z"
   },
   {
    "duration": 378,
    "start_time": "2023-01-22T21:16:55.792Z"
   },
   {
    "duration": 75,
    "start_time": "2023-01-22T21:16:58.562Z"
   },
   {
    "duration": 15,
    "start_time": "2023-01-22T21:17:12.352Z"
   },
   {
    "duration": 6,
    "start_time": "2023-01-22T21:17:16.913Z"
   },
   {
    "duration": 8,
    "start_time": "2023-01-22T21:17:18.197Z"
   },
   {
    "duration": 765,
    "start_time": "2023-01-22T21:22:40.279Z"
   },
   {
    "duration": 746,
    "start_time": "2023-01-22T21:23:07.820Z"
   },
   {
    "duration": 666,
    "start_time": "2023-01-22T21:23:35.006Z"
   },
   {
    "duration": 71,
    "start_time": "2023-01-22T21:24:49.050Z"
   },
   {
    "duration": 608,
    "start_time": "2023-01-22T21:25:03.491Z"
   },
   {
    "duration": 519,
    "start_time": "2023-01-22T21:25:07.596Z"
   },
   {
    "duration": 106,
    "start_time": "2023-01-22T21:30:21.648Z"
   },
   {
    "duration": 8,
    "start_time": "2023-01-22T21:30:35.539Z"
   },
   {
    "duration": 588,
    "start_time": "2023-01-22T21:30:36.310Z"
   },
   {
    "duration": 1131,
    "start_time": "2023-01-22T21:31:36.972Z"
   },
   {
    "duration": 8,
    "start_time": "2023-01-22T21:33:41.017Z"
   },
   {
    "duration": 806,
    "start_time": "2023-01-22T21:33:45.042Z"
   },
   {
    "duration": 668,
    "start_time": "2023-01-22T21:33:57.718Z"
   },
   {
    "duration": 828,
    "start_time": "2023-01-22T21:34:06.567Z"
   },
   {
    "duration": 693,
    "start_time": "2023-01-22T21:34:13.717Z"
   },
   {
    "duration": 661,
    "start_time": "2023-01-22T21:34:52.473Z"
   },
   {
    "duration": 945,
    "start_time": "2023-01-22T21:35:19.787Z"
   },
   {
    "duration": 70,
    "start_time": "2023-01-22T21:37:01.361Z"
   },
   {
    "duration": 269,
    "start_time": "2023-01-22T21:44:39.110Z"
   },
   {
    "duration": 306,
    "start_time": "2023-01-22T21:44:59.428Z"
   },
   {
    "duration": 290,
    "start_time": "2023-01-22T21:45:05.776Z"
   },
   {
    "duration": 374,
    "start_time": "2023-01-22T21:45:51.653Z"
   },
   {
    "duration": 288,
    "start_time": "2023-01-22T21:45:58.155Z"
   },
   {
    "duration": 311,
    "start_time": "2023-01-22T21:57:47.421Z"
   },
   {
    "duration": 282,
    "start_time": "2023-01-22T21:58:11.727Z"
   },
   {
    "duration": 257,
    "start_time": "2023-01-22T21:58:48.100Z"
   },
   {
    "duration": 368,
    "start_time": "2023-01-22T21:59:06.977Z"
   },
   {
    "duration": 255,
    "start_time": "2023-01-22T21:59:43.684Z"
   },
   {
    "duration": 292,
    "start_time": "2023-01-22T22:00:31.161Z"
   },
   {
    "duration": 262,
    "start_time": "2023-01-22T22:00:38.560Z"
   },
   {
    "duration": 293,
    "start_time": "2023-01-22T22:00:59.347Z"
   },
   {
    "duration": 88,
    "start_time": "2023-01-22T22:10:17.660Z"
   },
   {
    "duration": 74,
    "start_time": "2023-01-22T22:10:59.865Z"
   },
   {
    "duration": 20,
    "start_time": "2023-01-22T22:11:23.384Z"
   },
   {
    "duration": 16,
    "start_time": "2023-01-22T22:11:25.397Z"
   },
   {
    "duration": 76,
    "start_time": "2023-01-22T22:11:26.998Z"
   },
   {
    "duration": 4,
    "start_time": "2023-01-22T22:12:44.184Z"
   },
   {
    "duration": 9,
    "start_time": "2023-01-22T22:12:55.987Z"
   },
   {
    "duration": 12,
    "start_time": "2023-01-22T22:12:59.049Z"
   },
   {
    "duration": 5,
    "start_time": "2023-01-22T22:13:07.680Z"
   },
   {
    "duration": 6,
    "start_time": "2023-01-22T22:13:08.711Z"
   },
   {
    "duration": 830,
    "start_time": "2023-01-22T22:13:25.711Z"
   },
   {
    "duration": 714,
    "start_time": "2023-01-22T22:13:49.387Z"
   },
   {
    "duration": 912,
    "start_time": "2023-01-22T22:13:55.541Z"
   },
   {
    "duration": 729,
    "start_time": "2023-01-22T22:14:04.700Z"
   },
   {
    "duration": 853,
    "start_time": "2023-01-22T22:14:18.736Z"
   },
   {
    "duration": 815,
    "start_time": "2023-01-22T22:14:24.980Z"
   },
   {
    "duration": 788,
    "start_time": "2023-01-22T22:14:31.520Z"
   },
   {
    "duration": 1003,
    "start_time": "2023-01-22T22:14:40.774Z"
   },
   {
    "duration": 820,
    "start_time": "2023-01-22T22:14:46.385Z"
   },
   {
    "duration": 788,
    "start_time": "2023-01-22T22:14:51.610Z"
   },
   {
    "duration": 724,
    "start_time": "2023-01-22T22:14:57.309Z"
   },
   {
    "duration": 753,
    "start_time": "2023-01-22T22:15:03.258Z"
   },
   {
    "duration": 644,
    "start_time": "2023-01-22T22:15:57.370Z"
   },
   {
    "duration": 850,
    "start_time": "2023-01-22T22:16:02.481Z"
   },
   {
    "duration": 451,
    "start_time": "2023-01-22T22:16:09.608Z"
   },
   {
    "duration": 441,
    "start_time": "2023-01-22T22:16:14.776Z"
   },
   {
    "duration": 468,
    "start_time": "2023-01-22T22:16:19.397Z"
   },
   {
    "duration": 1533,
    "start_time": "2023-01-23T06:31:53.941Z"
   },
   {
    "duration": 1261,
    "start_time": "2023-01-23T06:31:58.411Z"
   },
   {
    "duration": 171,
    "start_time": "2023-01-23T06:31:59.786Z"
   },
   {
    "duration": 600,
    "start_time": "2023-01-23T06:32:01.786Z"
   },
   {
    "duration": 248,
    "start_time": "2023-01-23T06:32:05.066Z"
   },
   {
    "duration": 127,
    "start_time": "2023-01-23T06:32:06.271Z"
   },
   {
    "duration": 255,
    "start_time": "2023-01-23T06:32:07.427Z"
   },
   {
    "duration": 18,
    "start_time": "2023-01-23T06:32:10.447Z"
   },
   {
    "duration": 12,
    "start_time": "2023-01-23T06:32:11.446Z"
   },
   {
    "duration": 20,
    "start_time": "2023-01-23T06:32:12.606Z"
   },
   {
    "duration": 22,
    "start_time": "2023-01-23T06:32:49.011Z"
   },
   {
    "duration": 14,
    "start_time": "2023-01-23T06:32:53.730Z"
   },
   {
    "duration": 3,
    "start_time": "2023-01-23T06:33:30.496Z"
   },
   {
    "duration": 5,
    "start_time": "2023-01-23T06:33:34.626Z"
   },
   {
    "duration": 10,
    "start_time": "2023-01-23T06:33:43.881Z"
   },
   {
    "duration": 4,
    "start_time": "2023-01-23T06:34:17.276Z"
   },
   {
    "duration": 302,
    "start_time": "2023-01-23T06:34:33.080Z"
   },
   {
    "duration": 300,
    "start_time": "2023-01-23T06:34:54.981Z"
   },
   {
    "duration": 371,
    "start_time": "2023-01-23T06:35:34.007Z"
   },
   {
    "duration": 298,
    "start_time": "2023-01-23T06:35:37.406Z"
   },
   {
    "duration": 18,
    "start_time": "2023-01-23T06:37:28.316Z"
   },
   {
    "duration": 15,
    "start_time": "2023-01-23T06:37:29.371Z"
   },
   {
    "duration": 10,
    "start_time": "2023-01-23T06:37:30.371Z"
   },
   {
    "duration": 12,
    "start_time": "2023-01-23T06:37:31.456Z"
   },
   {
    "duration": 6,
    "start_time": "2023-01-23T06:38:44.317Z"
   },
   {
    "duration": 6,
    "start_time": "2023-01-23T06:38:45.370Z"
   },
   {
    "duration": 746,
    "start_time": "2023-01-23T06:39:05.330Z"
   },
   {
    "duration": 882,
    "start_time": "2023-01-23T06:39:08.546Z"
   },
   {
    "duration": 738,
    "start_time": "2023-01-23T06:39:12.276Z"
   },
   {
    "duration": 736,
    "start_time": "2023-01-23T06:40:22.610Z"
   },
   {
    "duration": 428,
    "start_time": "2023-01-23T06:40:25.436Z"
   },
   {
    "duration": 291,
    "start_time": "2023-01-23T06:48:06.356Z"
   },
   {
    "duration": 296,
    "start_time": "2023-01-23T06:48:13.715Z"
   },
   {
    "duration": 286,
    "start_time": "2023-01-23T06:48:18.477Z"
   },
   {
    "duration": 422,
    "start_time": "2023-01-23T06:48:22.205Z"
   },
   {
    "duration": 113,
    "start_time": "2023-01-23T06:52:50.910Z"
   },
   {
    "duration": 16,
    "start_time": "2023-01-23T06:53:05.452Z"
   },
   {
    "duration": 9,
    "start_time": "2023-01-23T06:53:10.985Z"
   },
   {
    "duration": 742,
    "start_time": "2023-01-23T06:53:11.755Z"
   },
   {
    "duration": 861,
    "start_time": "2023-01-23T06:53:20.285Z"
   },
   {
    "duration": 28,
    "start_time": "2023-01-23T06:53:25.856Z"
   },
   {
    "duration": 834,
    "start_time": "2023-01-23T06:53:28.370Z"
   },
   {
    "duration": 16,
    "start_time": "2023-01-23T07:01:04.255Z"
   },
   {
    "duration": 852,
    "start_time": "2023-01-23T07:01:19.865Z"
   },
   {
    "duration": 689,
    "start_time": "2023-01-23T07:02:23.306Z"
   },
   {
    "duration": 801,
    "start_time": "2023-01-23T07:02:34.131Z"
   },
   {
    "duration": 16,
    "start_time": "2023-01-23T07:03:32.930Z"
   },
   {
    "duration": 763,
    "start_time": "2023-01-23T07:03:36.555Z"
   },
   {
    "duration": 17,
    "start_time": "2023-01-23T07:04:01.009Z"
   },
   {
    "duration": 27,
    "start_time": "2023-01-23T07:06:29.621Z"
   },
   {
    "duration": 24,
    "start_time": "2023-01-23T07:06:48.396Z"
   },
   {
    "duration": 701,
    "start_time": "2023-01-23T07:06:51.627Z"
   },
   {
    "duration": 27,
    "start_time": "2023-01-23T07:08:05.511Z"
   },
   {
    "duration": 940,
    "start_time": "2023-01-23T07:08:08.686Z"
   },
   {
    "duration": 8,
    "start_time": "2023-01-23T07:10:41.386Z"
   },
   {
    "duration": 726,
    "start_time": "2023-01-23T07:10:42.635Z"
   },
   {
    "duration": 825,
    "start_time": "2023-01-23T07:10:48.861Z"
   },
   {
    "duration": 22,
    "start_time": "2023-01-23T07:13:49.835Z"
   },
   {
    "duration": 9,
    "start_time": "2023-01-23T07:13:55.310Z"
   },
   {
    "duration": 722,
    "start_time": "2023-01-23T07:13:55.985Z"
   },
   {
    "duration": 834,
    "start_time": "2023-01-23T07:14:02.155Z"
   },
   {
    "duration": 21,
    "start_time": "2023-01-23T07:14:31.796Z"
   },
   {
    "duration": 21,
    "start_time": "2023-01-23T07:14:36.521Z"
   },
   {
    "duration": 10,
    "start_time": "2023-01-23T07:14:49.356Z"
   },
   {
    "duration": 721,
    "start_time": "2023-01-23T07:14:50.005Z"
   },
   {
    "duration": 800,
    "start_time": "2023-01-23T07:14:55.140Z"
   },
   {
    "duration": 5,
    "start_time": "2023-01-23T07:19:20.690Z"
   },
   {
    "duration": 290,
    "start_time": "2023-01-23T07:19:22.750Z"
   },
   {
    "duration": 93,
    "start_time": "2023-01-23T07:19:23.845Z"
   },
   {
    "duration": 356,
    "start_time": "2023-01-23T07:19:24.776Z"
   },
   {
    "duration": 231,
    "start_time": "2023-01-23T07:19:26.327Z"
   },
   {
    "duration": 132,
    "start_time": "2023-01-23T07:19:27.410Z"
   },
   {
    "duration": 258,
    "start_time": "2023-01-23T07:19:28.324Z"
   },
   {
    "duration": 18,
    "start_time": "2023-01-23T07:19:30.910Z"
   },
   {
    "duration": 13,
    "start_time": "2023-01-23T07:19:31.765Z"
   },
   {
    "duration": 18,
    "start_time": "2023-01-23T07:19:32.730Z"
   },
   {
    "duration": 22,
    "start_time": "2023-01-23T07:19:36.006Z"
   },
   {
    "duration": 13,
    "start_time": "2023-01-23T07:19:37.415Z"
   },
   {
    "duration": 4,
    "start_time": "2023-01-23T07:19:38.325Z"
   },
   {
    "duration": 5,
    "start_time": "2023-01-23T07:19:40.077Z"
   },
   {
    "duration": 10,
    "start_time": "2023-01-23T07:19:47.222Z"
   },
   {
    "duration": 5,
    "start_time": "2023-01-23T07:19:57.685Z"
   },
   {
    "duration": 298,
    "start_time": "2023-01-23T07:19:59.245Z"
   },
   {
    "duration": 299,
    "start_time": "2023-01-23T07:20:00.686Z"
   },
   {
    "duration": 297,
    "start_time": "2023-01-23T07:20:01.705Z"
   },
   {
    "duration": 297,
    "start_time": "2023-01-23T07:20:03.096Z"
   },
   {
    "duration": 11,
    "start_time": "2023-01-23T07:20:06.084Z"
   },
   {
    "duration": 14,
    "start_time": "2023-01-23T07:20:06.735Z"
   },
   {
    "duration": 12,
    "start_time": "2023-01-23T07:20:07.297Z"
   },
   {
    "duration": 15,
    "start_time": "2023-01-23T07:20:07.950Z"
   },
   {
    "duration": 14,
    "start_time": "2023-01-23T07:20:49.916Z"
   },
   {
    "duration": 11,
    "start_time": "2023-01-23T07:20:50.576Z"
   },
   {
    "duration": 12,
    "start_time": "2023-01-23T07:20:51.311Z"
   },
   {
    "duration": 11,
    "start_time": "2023-01-23T07:20:54.851Z"
   },
   {
    "duration": 6,
    "start_time": "2023-01-23T07:21:08.510Z"
   },
   {
    "duration": 6,
    "start_time": "2023-01-23T07:21:09.410Z"
   },
   {
    "duration": 784,
    "start_time": "2023-01-23T07:23:35.466Z"
   },
   {
    "duration": 719,
    "start_time": "2023-01-23T07:23:46.566Z"
   },
   {
    "duration": 944,
    "start_time": "2023-01-23T07:23:58.436Z"
   },
   {
    "duration": 681,
    "start_time": "2023-01-23T07:24:30.951Z"
   },
   {
    "duration": 602,
    "start_time": "2023-01-23T07:24:37.830Z"
   },
   {
    "duration": 10,
    "start_time": "2023-01-23T07:25:00.156Z"
   },
   {
    "duration": 753,
    "start_time": "2023-01-23T07:25:01.725Z"
   },
   {
    "duration": 673,
    "start_time": "2023-01-23T07:25:10.545Z"
   },
   {
    "duration": 23,
    "start_time": "2023-01-23T07:25:17.695Z"
   },
   {
    "duration": 25,
    "start_time": "2023-01-23T07:25:18.725Z"
   },
   {
    "duration": 49,
    "start_time": "2023-01-23T08:14:32.685Z"
   },
   {
    "duration": 10,
    "start_time": "2023-01-23T08:14:42.754Z"
   },
   {
    "duration": 4,
    "start_time": "2023-01-23T08:14:43.474Z"
   },
   {
    "duration": 8,
    "start_time": "2023-01-23T08:14:44.560Z"
   },
   {
    "duration": 2,
    "start_time": "2023-01-23T08:14:46.896Z"
   },
   {
    "duration": 18,
    "start_time": "2023-01-23T08:14:49.476Z"
   },
   {
    "duration": 9,
    "start_time": "2023-01-23T08:15:22.061Z"
   },
   {
    "duration": 5,
    "start_time": "2023-01-23T08:16:10.610Z"
   },
   {
    "duration": 7,
    "start_time": "2023-01-23T08:16:26.185Z"
   },
   {
    "duration": 4,
    "start_time": "2023-01-23T08:16:33.552Z"
   },
   {
    "duration": 2860,
    "start_time": "2023-01-23T08:16:55.886Z"
   },
   {
    "duration": 9,
    "start_time": "2023-01-23T08:17:20.355Z"
   },
   {
    "duration": 4,
    "start_time": "2023-01-23T08:19:53.134Z"
   },
   {
    "duration": 4,
    "start_time": "2023-01-23T08:20:17.775Z"
   },
   {
    "duration": 2579,
    "start_time": "2023-01-23T08:20:22.665Z"
   },
   {
    "duration": 3,
    "start_time": "2023-01-23T08:20:33.965Z"
   },
   {
    "duration": 2809,
    "start_time": "2023-01-23T08:21:07.132Z"
   },
   {
    "duration": 2588,
    "start_time": "2023-01-23T08:24:34.358Z"
   },
   {
    "duration": 2272,
    "start_time": "2023-01-23T08:28:05.378Z"
   },
   {
    "duration": 1430,
    "start_time": "2023-01-23T08:29:23.413Z"
   },
   {
    "duration": 1371,
    "start_time": "2023-01-23T08:29:35.972Z"
   },
   {
    "duration": 1130,
    "start_time": "2023-01-23T08:30:24.913Z"
   },
   {
    "duration": 874,
    "start_time": "2023-01-23T08:30:37.769Z"
   },
   {
    "duration": 4,
    "start_time": "2023-01-23T09:17:13.418Z"
   },
   {
    "duration": 3,
    "start_time": "2023-01-23T09:17:14.363Z"
   },
   {
    "duration": 2636,
    "start_time": "2023-01-23T09:17:38.213Z"
   },
   {
    "duration": 857,
    "start_time": "2023-01-23T09:18:38.883Z"
   },
   {
    "duration": 1223,
    "start_time": "2023-01-23T09:19:28.026Z"
   },
   {
    "duration": 50,
    "start_time": "2023-01-23T09:20:14.857Z"
   },
   {
    "duration": 96,
    "start_time": "2023-01-23T09:21:02.410Z"
   },
   {
    "duration": 1417,
    "start_time": "2023-01-23T09:21:35.297Z"
   },
   {
    "duration": 1240,
    "start_time": "2023-01-23T09:21:36.716Z"
   },
   {
    "duration": 155,
    "start_time": "2023-01-23T09:21:37.958Z"
   },
   {
    "duration": 577,
    "start_time": "2023-01-23T09:21:38.115Z"
   },
   {
    "duration": 291,
    "start_time": "2023-01-23T09:21:38.693Z"
   },
   {
    "duration": 174,
    "start_time": "2023-01-23T09:21:38.987Z"
   },
   {
    "duration": 278,
    "start_time": "2023-01-23T09:21:39.163Z"
   },
   {
    "duration": 17,
    "start_time": "2023-01-23T09:21:40.472Z"
   },
   {
    "duration": 12,
    "start_time": "2023-01-23T09:21:41.081Z"
   },
   {
    "duration": 18,
    "start_time": "2023-01-23T09:21:41.727Z"
   },
   {
    "duration": 21,
    "start_time": "2023-01-23T09:21:44.153Z"
   },
   {
    "duration": 13,
    "start_time": "2023-01-23T09:21:44.722Z"
   },
   {
    "duration": 4,
    "start_time": "2023-01-23T09:21:45.496Z"
   },
   {
    "duration": 4,
    "start_time": "2023-01-23T09:21:46.977Z"
   },
   {
    "duration": 12,
    "start_time": "2023-01-23T09:21:49.023Z"
   },
   {
    "duration": 5,
    "start_time": "2023-01-23T09:21:54.141Z"
   },
   {
    "duration": 307,
    "start_time": "2023-01-23T09:21:55.447Z"
   },
   {
    "duration": 299,
    "start_time": "2023-01-23T09:21:55.856Z"
   },
   {
    "duration": 395,
    "start_time": "2023-01-23T09:21:56.157Z"
   },
   {
    "duration": 317,
    "start_time": "2023-01-23T09:21:56.554Z"
   },
   {
    "duration": 14,
    "start_time": "2023-01-23T09:21:57.083Z"
   },
   {
    "duration": 15,
    "start_time": "2023-01-23T09:21:58.002Z"
   },
   {
    "duration": 12,
    "start_time": "2023-01-23T09:21:59.376Z"
   },
   {
    "duration": 12,
    "start_time": "2023-01-23T09:22:01.707Z"
   },
   {
    "duration": 14,
    "start_time": "2023-01-23T09:23:07.236Z"
   },
   {
    "duration": 11,
    "start_time": "2023-01-23T09:23:07.706Z"
   },
   {
    "duration": 11,
    "start_time": "2023-01-23T09:23:08.197Z"
   },
   {
    "duration": 9,
    "start_time": "2023-01-23T09:23:08.708Z"
   },
   {
    "duration": 6,
    "start_time": "2023-01-23T09:23:09.937Z"
   },
   {
    "duration": 6,
    "start_time": "2023-01-23T09:23:12.593Z"
   },
   {
    "duration": 789,
    "start_time": "2023-01-23T09:23:18.397Z"
   },
   {
    "duration": 854,
    "start_time": "2023-01-23T09:23:19.621Z"
   },
   {
    "duration": 692,
    "start_time": "2023-01-23T09:23:21.282Z"
   },
   {
    "duration": 808,
    "start_time": "2023-01-23T09:23:25.297Z"
   },
   {
    "duration": 472,
    "start_time": "2023-01-23T09:23:26.168Z"
   },
   {
    "duration": 10,
    "start_time": "2023-01-23T09:23:28.227Z"
   },
   {
    "duration": 823,
    "start_time": "2023-01-23T09:23:28.748Z"
   },
   {
    "duration": 833,
    "start_time": "2023-01-23T09:23:31.797Z"
   },
   {
    "duration": 25,
    "start_time": "2023-01-23T09:23:33.497Z"
   },
   {
    "duration": 26,
    "start_time": "2023-01-23T09:23:34.117Z"
   },
   {
    "duration": 10,
    "start_time": "2023-01-23T09:23:38.162Z"
   },
   {
    "duration": 5,
    "start_time": "2023-01-23T09:23:38.702Z"
   },
   {
    "duration": 10,
    "start_time": "2023-01-23T09:23:39.351Z"
   },
   {
    "duration": 3,
    "start_time": "2023-01-23T09:23:44.137Z"
   },
   {
    "duration": 5,
    "start_time": "2023-01-23T09:23:45.107Z"
   },
   {
    "duration": 8,
    "start_time": "2023-01-23T09:23:46.541Z"
   },
   {
    "duration": 4,
    "start_time": "2023-01-23T09:23:49.796Z"
   },
   {
    "duration": 4,
    "start_time": "2023-01-23T09:23:50.332Z"
   },
   {
    "duration": 4,
    "start_time": "2023-01-23T09:24:18.897Z"
   },
   {
    "duration": 2992,
    "start_time": "2023-01-23T09:24:24.347Z"
   },
   {
    "duration": 111,
    "start_time": "2023-01-23T09:45:30.532Z"
   },
   {
    "duration": 1392,
    "start_time": "2023-01-23T09:46:23.018Z"
   },
   {
    "duration": 1263,
    "start_time": "2023-01-23T09:46:24.557Z"
   },
   {
    "duration": 156,
    "start_time": "2023-01-23T09:46:25.822Z"
   },
   {
    "duration": 618,
    "start_time": "2023-01-23T09:46:25.980Z"
   },
   {
    "duration": 267,
    "start_time": "2023-01-23T09:46:26.627Z"
   },
   {
    "duration": 142,
    "start_time": "2023-01-23T09:46:27.163Z"
   },
   {
    "duration": 259,
    "start_time": "2023-01-23T09:46:27.722Z"
   },
   {
    "duration": 21,
    "start_time": "2023-01-23T09:46:28.962Z"
   },
   {
    "duration": 12,
    "start_time": "2023-01-23T09:46:29.542Z"
   },
   {
    "duration": 18,
    "start_time": "2023-01-23T09:46:30.102Z"
   },
   {
    "duration": 22,
    "start_time": "2023-01-23T09:46:32.342Z"
   },
   {
    "duration": 12,
    "start_time": "2023-01-23T09:46:32.858Z"
   },
   {
    "duration": 4,
    "start_time": "2023-01-23T09:46:33.359Z"
   },
   {
    "duration": 5,
    "start_time": "2023-01-23T09:46:34.437Z"
   },
   {
    "duration": 9,
    "start_time": "2023-01-23T09:46:36.077Z"
   },
   {
    "duration": 5,
    "start_time": "2023-01-23T09:46:39.617Z"
   },
   {
    "duration": 297,
    "start_time": "2023-01-23T09:46:41.060Z"
   },
   {
    "duration": 310,
    "start_time": "2023-01-23T09:46:41.633Z"
   },
   {
    "duration": 397,
    "start_time": "2023-01-23T09:46:42.098Z"
   },
   {
    "duration": 285,
    "start_time": "2023-01-23T09:46:42.602Z"
   },
   {
    "duration": 14,
    "start_time": "2023-01-23T09:46:43.527Z"
   },
   {
    "duration": 14,
    "start_time": "2023-01-23T09:46:44.024Z"
   },
   {
    "duration": 11,
    "start_time": "2023-01-23T09:46:44.517Z"
   },
   {
    "duration": 12,
    "start_time": "2023-01-23T09:46:45.002Z"
   },
   {
    "duration": 7,
    "start_time": "2023-01-23T09:46:46.107Z"
   },
   {
    "duration": 7,
    "start_time": "2023-01-23T09:46:46.652Z"
   },
   {
    "duration": 682,
    "start_time": "2023-01-23T09:46:50.587Z"
   },
   {
    "duration": 845,
    "start_time": "2023-01-23T09:46:51.562Z"
   },
   {
    "duration": 710,
    "start_time": "2023-01-23T09:46:52.567Z"
   },
   {
    "duration": 817,
    "start_time": "2023-01-23T09:46:55.302Z"
   },
   {
    "duration": 451,
    "start_time": "2023-01-23T09:46:56.660Z"
   },
   {
    "duration": 11,
    "start_time": "2023-01-23T09:46:59.117Z"
   },
   {
    "duration": 712,
    "start_time": "2023-01-23T09:46:59.744Z"
   },
   {
    "duration": 894,
    "start_time": "2023-01-23T09:47:02.112Z"
   },
   {
    "duration": 27,
    "start_time": "2023-01-23T09:47:03.382Z"
   },
   {
    "duration": 29,
    "start_time": "2023-01-23T09:47:04.957Z"
   },
   {
    "duration": 9,
    "start_time": "2023-01-23T09:47:16.324Z"
   },
   {
    "duration": 4,
    "start_time": "2023-01-23T09:47:17.157Z"
   },
   {
    "duration": 8,
    "start_time": "2023-01-23T09:47:17.824Z"
   },
   {
    "duration": 4,
    "start_time": "2023-01-23T09:47:20.017Z"
   },
   {
    "duration": 5,
    "start_time": "2023-01-23T09:47:22.858Z"
   },
   {
    "duration": 6,
    "start_time": "2023-01-23T09:47:23.858Z"
   },
   {
    "duration": 4,
    "start_time": "2023-01-23T09:47:35.087Z"
   },
   {
    "duration": 3,
    "start_time": "2023-01-23T09:47:36.018Z"
   },
   {
    "duration": 2761,
    "start_time": "2023-01-23T09:48:10.182Z"
   },
   {
    "duration": 629,
    "start_time": "2023-01-23T09:50:00.517Z"
   },
   {
    "duration": 814,
    "start_time": "2023-01-23T09:50:40.627Z"
   },
   {
    "duration": 3,
    "start_time": "2023-01-23T10:33:38.516Z"
   },
   {
    "duration": 4,
    "start_time": "2023-01-23T10:33:39.358Z"
   },
   {
    "duration": 2953,
    "start_time": "2023-01-23T10:33:43.590Z"
   },
   {
    "duration": 9521,
    "start_time": "2023-01-23T10:46:54.520Z"
   },
   {
    "duration": 26294,
    "start_time": "2023-01-23T10:47:37.715Z"
   },
   {
    "duration": 49311,
    "start_time": "2023-01-23T10:48:54.656Z"
   },
   {
    "duration": 5,
    "start_time": "2023-01-23T11:50:15.804Z"
   },
   {
    "duration": 304,
    "start_time": "2023-01-23T11:50:16.724Z"
   },
   {
    "duration": 90,
    "start_time": "2023-01-23T11:50:17.324Z"
   },
   {
    "duration": 411,
    "start_time": "2023-01-23T11:50:17.955Z"
   },
   {
    "duration": 284,
    "start_time": "2023-01-23T11:50:19.125Z"
   },
   {
    "duration": 133,
    "start_time": "2023-01-23T11:50:19.684Z"
   },
   {
    "duration": 270,
    "start_time": "2023-01-23T11:50:20.484Z"
   },
   {
    "duration": 20,
    "start_time": "2023-01-23T11:50:22.085Z"
   },
   {
    "duration": 13,
    "start_time": "2023-01-23T11:50:22.784Z"
   },
   {
    "duration": 21,
    "start_time": "2023-01-23T11:50:23.550Z"
   },
   {
    "duration": 22,
    "start_time": "2023-01-23T11:50:27.050Z"
   },
   {
    "duration": 20,
    "start_time": "2023-01-23T11:50:27.525Z"
   },
   {
    "duration": 5,
    "start_time": "2023-01-23T11:50:27.890Z"
   },
   {
    "duration": 5,
    "start_time": "2023-01-23T11:50:28.744Z"
   },
   {
    "duration": 10,
    "start_time": "2023-01-23T11:50:30.114Z"
   },
   {
    "duration": 5,
    "start_time": "2023-01-23T11:50:37.244Z"
   },
   {
    "duration": 387,
    "start_time": "2023-01-23T11:50:38.745Z"
   },
   {
    "duration": 316,
    "start_time": "2023-01-23T11:50:39.414Z"
   },
   {
    "duration": 428,
    "start_time": "2023-01-23T11:50:40.429Z"
   },
   {
    "duration": 292,
    "start_time": "2023-01-23T11:50:41.244Z"
   },
   {
    "duration": 11,
    "start_time": "2023-01-23T11:50:43.534Z"
   },
   {
    "duration": 12,
    "start_time": "2023-01-23T11:50:44.109Z"
   },
   {
    "duration": 12,
    "start_time": "2023-01-23T11:50:44.584Z"
   },
   {
    "duration": 11,
    "start_time": "2023-01-23T11:50:45.113Z"
   },
   {
    "duration": 8,
    "start_time": "2023-01-23T11:51:55.279Z"
   },
   {
    "duration": 7,
    "start_time": "2023-01-23T11:51:55.956Z"
   },
   {
    "duration": 734,
    "start_time": "2023-01-23T11:52:00.145Z"
   },
   {
    "duration": 851,
    "start_time": "2023-01-23T11:52:03.264Z"
   },
   {
    "duration": 731,
    "start_time": "2023-01-23T11:52:10.404Z"
   },
   {
    "duration": 859,
    "start_time": "2023-01-23T11:52:13.184Z"
   },
   {
    "duration": 475,
    "start_time": "2023-01-23T11:52:14.500Z"
   },
   {
    "duration": 11,
    "start_time": "2023-01-23T11:52:31.110Z"
   },
   {
    "duration": 800,
    "start_time": "2023-01-23T11:52:31.953Z"
   },
   {
    "duration": 982,
    "start_time": "2023-01-23T11:52:43.734Z"
   },
   {
    "duration": 26,
    "start_time": "2023-01-23T11:53:06.044Z"
   },
   {
    "duration": 29,
    "start_time": "2023-01-23T11:53:07.829Z"
   },
   {
    "duration": 10,
    "start_time": "2023-01-23T11:53:23.124Z"
   },
   {
    "duration": 4,
    "start_time": "2023-01-23T11:53:24.125Z"
   },
   {
    "duration": 10,
    "start_time": "2023-01-23T11:53:26.563Z"
   },
   {
    "duration": 5,
    "start_time": "2023-01-23T11:53:41.939Z"
   },
   {
    "duration": 5,
    "start_time": "2023-01-23T11:53:46.814Z"
   },
   {
    "duration": 8,
    "start_time": "2023-01-23T11:53:48.324Z"
   },
   {
    "duration": 4,
    "start_time": "2023-01-23T11:53:53.829Z"
   },
   {
    "duration": 4,
    "start_time": "2023-01-23T11:53:54.774Z"
   },
   {
    "duration": 3402,
    "start_time": "2023-01-23T11:54:07.039Z"
   },
   {
    "duration": 4113,
    "start_time": "2023-01-23T11:55:43.729Z"
   },
   {
    "duration": 38,
    "start_time": "2023-01-23T12:05:32.074Z"
   },
   {
    "duration": 41,
    "start_time": "2023-01-23T12:05:51.709Z"
   },
   {
    "duration": 23,
    "start_time": "2023-01-23T12:06:10.910Z"
   },
   {
    "duration": 2859846,
    "start_time": "2023-01-23T12:08:40.800Z"
   },
   {
    "duration": 372,
    "start_time": "2023-01-23T13:02:59.618Z"
   },
   {
    "duration": 884,
    "start_time": "2023-01-23T13:04:26.057Z"
   },
   {
    "duration": 958,
    "start_time": "2023-01-23T13:08:56.497Z"
   },
   {
    "duration": 962,
    "start_time": "2023-01-23T13:16:16.207Z"
   },
   {
    "duration": 945,
    "start_time": "2023-01-23T13:16:36.612Z"
   },
   {
    "duration": 903,
    "start_time": "2023-01-23T13:17:16.650Z"
   },
   {
    "duration": 918,
    "start_time": "2023-01-23T13:17:39.263Z"
   },
   {
    "duration": 1479,
    "start_time": "2023-01-23T13:18:09.682Z"
   },
   {
    "duration": 3,
    "start_time": "2023-01-23T13:19:48.568Z"
   },
   {
    "duration": 1583,
    "start_time": "2023-01-23T13:19:49.836Z"
   },
   {
    "duration": 383,
    "start_time": "2023-01-23T13:20:08.021Z"
   },
   {
    "duration": 1651,
    "start_time": "2023-01-23T13:44:09.401Z"
   },
   {
    "duration": 1015,
    "start_time": "2023-01-23T13:44:11.054Z"
   },
   {
    "duration": 449,
    "start_time": "2023-01-23T13:44:12.071Z"
   },
   {
    "duration": 1957,
    "start_time": "2023-01-23T13:44:12.523Z"
   },
   {
    "duration": 290,
    "start_time": "2023-01-23T13:44:14.483Z"
   },
   {
    "duration": 148,
    "start_time": "2023-01-23T13:44:14.775Z"
   },
   {
    "duration": 326,
    "start_time": "2023-01-23T13:44:14.926Z"
   },
   {
    "duration": 16,
    "start_time": "2023-01-23T13:44:23.738Z"
   },
   {
    "duration": 9,
    "start_time": "2023-01-23T13:44:23.756Z"
   },
   {
    "duration": 16,
    "start_time": "2023-01-23T13:44:23.786Z"
   },
   {
    "duration": 20,
    "start_time": "2023-01-23T13:44:58.006Z"
   },
   {
    "duration": 11,
    "start_time": "2023-01-23T13:44:59.226Z"
   },
   {
    "duration": 4,
    "start_time": "2023-01-23T13:45:00.386Z"
   },
   {
    "duration": 4,
    "start_time": "2023-01-23T13:45:03.806Z"
   },
   {
    "duration": 8,
    "start_time": "2023-01-23T13:45:06.692Z"
   },
   {
    "duration": 5,
    "start_time": "2023-01-23T13:45:16.666Z"
   },
   {
    "duration": 292,
    "start_time": "2023-01-23T13:45:18.897Z"
   },
   {
    "duration": 352,
    "start_time": "2023-01-23T13:45:20.431Z"
   },
   {
    "duration": 360,
    "start_time": "2023-01-23T13:45:23.337Z"
   },
   {
    "duration": 249,
    "start_time": "2023-01-23T13:45:25.331Z"
   },
   {
    "duration": 11,
    "start_time": "2023-01-23T13:45:28.847Z"
   },
   {
    "duration": 13,
    "start_time": "2023-01-23T13:45:29.486Z"
   },
   {
    "duration": 10,
    "start_time": "2023-01-23T13:45:30.217Z"
   },
   {
    "duration": 10,
    "start_time": "2023-01-23T13:45:30.966Z"
   },
   {
    "duration": 5,
    "start_time": "2023-01-23T13:45:33.366Z"
   },
   {
    "duration": 5,
    "start_time": "2023-01-23T13:45:34.332Z"
   },
   {
    "duration": 642,
    "start_time": "2023-01-23T13:45:45.131Z"
   },
   {
    "duration": 723,
    "start_time": "2023-01-23T13:45:48.641Z"
   },
   {
    "duration": 601,
    "start_time": "2023-01-23T13:45:52.126Z"
   },
   {
    "duration": 770,
    "start_time": "2023-01-23T13:45:59.826Z"
   },
   {
    "duration": 380,
    "start_time": "2023-01-23T13:46:03.578Z"
   },
   {
    "duration": 7,
    "start_time": "2023-01-23T13:46:10.777Z"
   },
   {
    "duration": 657,
    "start_time": "2023-01-23T13:46:12.177Z"
   },
   {
    "duration": 740,
    "start_time": "2023-01-23T13:46:20.211Z"
   },
   {
    "duration": 23,
    "start_time": "2023-01-23T13:46:23.712Z"
   },
   {
    "duration": 30,
    "start_time": "2023-01-23T13:46:24.977Z"
   },
   {
    "duration": 8,
    "start_time": "2023-01-23T13:46:30.972Z"
   },
   {
    "duration": 4,
    "start_time": "2023-01-23T13:46:32.346Z"
   },
   {
    "duration": 7,
    "start_time": "2023-01-23T13:46:34.043Z"
   },
   {
    "duration": 3,
    "start_time": "2023-01-23T13:46:37.493Z"
   },
   {
    "duration": 4,
    "start_time": "2023-01-23T13:46:40.232Z"
   },
   {
    "duration": 6,
    "start_time": "2023-01-23T13:46:41.426Z"
   },
   {
    "duration": 4,
    "start_time": "2023-01-23T13:46:51.106Z"
   },
   {
    "duration": 6,
    "start_time": "2023-01-23T13:46:55.217Z"
   },
   {
    "duration": 2962,
    "start_time": "2023-01-23T13:47:15.590Z"
   },
   {
    "duration": 2885,
    "start_time": "2023-01-23T13:47:51.167Z"
   },
   {
    "duration": 11,
    "start_time": "2023-01-23T13:48:31.886Z"
   },
   {
    "duration": 513,
    "start_time": "2023-01-23T13:48:34.467Z"
   },
   {
    "duration": 11,
    "start_time": "2023-01-23T13:49:01.216Z"
   },
   {
    "duration": 5,
    "start_time": "2023-01-23T13:49:20.251Z"
   },
   {
    "duration": 2,
    "start_time": "2023-01-23T13:57:02.622Z"
   },
   {
    "duration": 12362,
    "start_time": "2023-01-23T13:57:25.086Z"
   },
   {
    "duration": 23801,
    "start_time": "2023-01-23T13:57:52.745Z"
   },
   {
    "duration": 2,
    "start_time": "2023-01-23T14:18:16.584Z"
   },
   {
    "duration": 505,
    "start_time": "2023-01-23T14:18:22.524Z"
   },
   {
    "duration": 473,
    "start_time": "2023-01-23T14:18:50.750Z"
   },
   {
    "duration": 139942,
    "start_time": "2023-01-23T14:19:59.754Z"
   },
   {
    "duration": 121230,
    "start_time": "2023-01-23T14:23:09.565Z"
   },
   {
    "duration": 88,
    "start_time": "2023-01-23T14:36:33.499Z"
   },
   {
    "duration": 88,
    "start_time": "2023-01-23T14:36:52.044Z"
   },
   {
    "duration": 2686,
    "start_time": "2023-01-23T14:37:53.858Z"
   },
   {
    "duration": 155,
    "start_time": "2023-01-23T14:38:16.824Z"
   },
   {
    "duration": 2624,
    "start_time": "2023-01-23T14:40:21.120Z"
   },
   {
    "duration": 80912,
    "start_time": "2023-01-23T14:58:03.017Z"
   },
   {
    "duration": 1591,
    "start_time": "2023-01-23T15:05:08.663Z"
   },
   {
    "duration": 107069,
    "start_time": "2023-01-23T15:05:14.606Z"
   },
   {
    "duration": 14867,
    "start_time": "2023-01-23T15:07:24.684Z"
   },
   {
    "duration": 78827,
    "start_time": "2023-01-23T15:10:59.619Z"
   },
   {
    "duration": 1800,
    "start_time": "2023-01-23T15:20:11.453Z"
   },
   {
    "duration": 2795,
    "start_time": "2023-01-23T15:23:44.549Z"
   },
   {
    "duration": 415520,
    "start_time": "2023-01-23T15:24:16.984Z"
   },
   {
    "duration": 23665,
    "start_time": "2023-01-23T15:32:11.084Z"
   },
   {
    "duration": 160655,
    "start_time": "2023-01-23T15:32:50.465Z"
   },
   {
    "duration": 1985,
    "start_time": "2023-01-23T15:36:11.365Z"
   },
   {
    "duration": 103742,
    "start_time": "2023-01-23T15:36:21.649Z"
   },
   {
    "duration": 15034,
    "start_time": "2023-01-23T15:39:31.610Z"
   },
   {
    "duration": 79028,
    "start_time": "2023-01-23T15:39:56.934Z"
   },
   {
    "duration": 1545,
    "start_time": "2023-01-23T20:09:52.441Z"
   },
   {
    "duration": 869,
    "start_time": "2023-01-23T20:09:57.525Z"
   },
   {
    "duration": 407,
    "start_time": "2023-01-23T20:09:59.275Z"
   },
   {
    "duration": 1915,
    "start_time": "2023-01-23T20:10:00.817Z"
   },
   {
    "duration": 307,
    "start_time": "2023-01-23T20:10:04.716Z"
   },
   {
    "duration": 165,
    "start_time": "2023-01-23T20:10:05.801Z"
   },
   {
    "duration": 284,
    "start_time": "2023-01-23T20:10:07.107Z"
   },
   {
    "duration": 21,
    "start_time": "2023-01-23T20:10:09.887Z"
   },
   {
    "duration": 11,
    "start_time": "2023-01-23T20:10:11.668Z"
   },
   {
    "duration": 17,
    "start_time": "2023-01-23T20:10:13.947Z"
   },
   {
    "duration": 21,
    "start_time": "2023-01-23T20:10:19.296Z"
   },
   {
    "duration": 13,
    "start_time": "2023-01-23T20:10:20.666Z"
   },
   {
    "duration": 5,
    "start_time": "2023-01-23T20:10:21.913Z"
   },
   {
    "duration": 5,
    "start_time": "2023-01-23T20:10:24.273Z"
   },
   {
    "duration": 11,
    "start_time": "2023-01-23T20:10:28.866Z"
   },
   {
    "duration": 9,
    "start_time": "2023-01-23T20:10:36.420Z"
   },
   {
    "duration": 327,
    "start_time": "2023-01-23T20:10:38.392Z"
   },
   {
    "duration": 316,
    "start_time": "2023-01-23T20:10:39.599Z"
   },
   {
    "duration": 411,
    "start_time": "2023-01-23T20:10:40.558Z"
   },
   {
    "duration": 295,
    "start_time": "2023-01-23T20:10:41.666Z"
   },
   {
    "duration": 12,
    "start_time": "2023-01-23T20:10:43.860Z"
   },
   {
    "duration": 17,
    "start_time": "2023-01-23T20:10:44.447Z"
   },
   {
    "duration": 12,
    "start_time": "2023-01-23T20:10:44.964Z"
   },
   {
    "duration": 10,
    "start_time": "2023-01-23T20:10:45.499Z"
   },
   {
    "duration": 6,
    "start_time": "2023-01-23T20:10:47.724Z"
   },
   {
    "duration": 10,
    "start_time": "2023-01-23T20:10:48.317Z"
   },
   {
    "duration": 791,
    "start_time": "2023-01-23T20:10:52.348Z"
   },
   {
    "duration": 849,
    "start_time": "2023-01-23T20:10:54.963Z"
   },
   {
    "duration": 781,
    "start_time": "2023-01-23T20:10:57.150Z"
   },
   {
    "duration": 890,
    "start_time": "2023-01-23T20:11:01.311Z"
   },
   {
    "duration": 486,
    "start_time": "2023-01-23T20:11:03.712Z"
   },
   {
    "duration": 10,
    "start_time": "2023-01-23T20:11:10.116Z"
   },
   {
    "duration": 729,
    "start_time": "2023-01-23T20:11:11.175Z"
   },
   {
    "duration": 918,
    "start_time": "2023-01-23T20:11:16.656Z"
   },
   {
    "duration": 28,
    "start_time": "2023-01-23T20:11:18.808Z"
   },
   {
    "duration": 37,
    "start_time": "2023-01-23T20:11:19.616Z"
   },
   {
    "duration": 4,
    "start_time": "2023-01-23T20:14:05.663Z"
   },
   {
    "duration": 1471,
    "start_time": "2023-01-23T20:14:25.059Z"
   },
   {
    "duration": 303,
    "start_time": "2023-01-23T20:14:28.774Z"
   },
   {
    "duration": 93,
    "start_time": "2023-01-23T20:14:29.910Z"
   },
   {
    "duration": 364,
    "start_time": "2023-01-23T20:14:31.152Z"
   },
   {
    "duration": 251,
    "start_time": "2023-01-23T20:14:33.670Z"
   },
   {
    "duration": 146,
    "start_time": "2023-01-23T20:14:38.494Z"
   },
   {
    "duration": 267,
    "start_time": "2023-01-23T20:14:41.331Z"
   },
   {
    "duration": 19,
    "start_time": "2023-01-23T20:14:44.189Z"
   },
   {
    "duration": 11,
    "start_time": "2023-01-23T20:14:48.999Z"
   },
   {
    "duration": 17,
    "start_time": "2023-01-23T20:14:50.104Z"
   },
   {
    "duration": 29,
    "start_time": "2023-01-23T20:15:01.830Z"
   },
   {
    "duration": 13,
    "start_time": "2023-01-23T20:15:02.455Z"
   },
   {
    "duration": 4,
    "start_time": "2023-01-23T20:15:03.034Z"
   },
   {
    "duration": 8,
    "start_time": "2023-01-23T20:15:04.739Z"
   },
   {
    "duration": 10,
    "start_time": "2023-01-23T20:15:52.944Z"
   },
   {
    "duration": 5,
    "start_time": "2023-01-23T20:16:12.278Z"
   },
   {
    "duration": 327,
    "start_time": "2023-01-23T20:16:15.967Z"
   },
   {
    "duration": 339,
    "start_time": "2023-01-23T20:16:17.549Z"
   },
   {
    "duration": 413,
    "start_time": "2023-01-23T20:16:19.090Z"
   },
   {
    "duration": 365,
    "start_time": "2023-01-23T20:16:20.400Z"
   },
   {
    "duration": 17,
    "start_time": "2023-01-23T20:16:22.250Z"
   },
   {
    "duration": 15,
    "start_time": "2023-01-23T20:16:22.826Z"
   },
   {
    "duration": 11,
    "start_time": "2023-01-23T20:16:23.454Z"
   },
   {
    "duration": 12,
    "start_time": "2023-01-23T20:16:24.012Z"
   },
   {
    "duration": 5,
    "start_time": "2023-01-23T20:16:25.476Z"
   },
   {
    "duration": 6,
    "start_time": "2023-01-23T20:16:26.424Z"
   },
   {
    "duration": 732,
    "start_time": "2023-01-23T20:16:35.285Z"
   },
   {
    "duration": 874,
    "start_time": "2023-01-23T20:16:37.225Z"
   },
   {
    "duration": 804,
    "start_time": "2023-01-23T20:16:39.408Z"
   },
   {
    "duration": 856,
    "start_time": "2023-01-23T20:16:51.958Z"
   },
   {
    "duration": 541,
    "start_time": "2023-01-23T20:16:54.345Z"
   },
   {
    "duration": 9,
    "start_time": "2023-01-23T20:16:58.144Z"
   },
   {
    "duration": 728,
    "start_time": "2023-01-23T20:16:59.518Z"
   },
   {
    "duration": 817,
    "start_time": "2023-01-23T20:17:07.188Z"
   },
   {
    "duration": 30,
    "start_time": "2023-01-23T20:17:10.835Z"
   },
   {
    "duration": 31,
    "start_time": "2023-01-23T20:17:12.728Z"
   },
   {
    "duration": 9,
    "start_time": "2023-01-23T20:17:28.788Z"
   },
   {
    "duration": 3,
    "start_time": "2023-01-23T20:17:33.275Z"
   },
   {
    "duration": 14,
    "start_time": "2023-01-23T20:17:38.321Z"
   },
   {
    "duration": 3,
    "start_time": "2023-01-23T20:17:57.500Z"
   },
   {
    "duration": 5,
    "start_time": "2023-01-23T20:18:08.208Z"
   },
   {
    "duration": 6,
    "start_time": "2023-01-23T20:18:17.878Z"
   },
   {
    "duration": 4,
    "start_time": "2023-01-23T20:18:30.207Z"
   },
   {
    "duration": 3,
    "start_time": "2023-01-23T20:18:32.771Z"
   },
   {
    "duration": 5294,
    "start_time": "2023-01-23T20:21:01.331Z"
   },
   {
    "duration": 2017,
    "start_time": "2023-01-23T20:46:08.912Z"
   },
   {
    "duration": 4436,
    "start_time": "2023-01-23T20:46:15.700Z"
   },
   {
    "duration": 27259,
    "start_time": "2023-01-23T20:48:51.070Z"
   },
   {
    "duration": 62511,
    "start_time": "2023-01-23T20:49:28.938Z"
   },
   {
    "duration": 2427,
    "start_time": "2023-01-23T20:52:48.153Z"
   },
   {
    "duration": 170386,
    "start_time": "2023-01-23T20:53:53.992Z"
   },
   {
    "duration": 362237,
    "start_time": "2023-01-23T20:58:12.965Z"
   },
   {
    "duration": 615335,
    "start_time": "2023-01-23T21:12:58.607Z"
   },
   {
    "duration": 1527,
    "start_time": "2023-01-23T21:24:26.232Z"
   },
   {
    "duration": 335,
    "start_time": "2023-01-23T21:24:27.761Z"
   },
   {
    "duration": 95,
    "start_time": "2023-01-23T21:24:28.098Z"
   },
   {
    "duration": 417,
    "start_time": "2023-01-23T21:24:28.195Z"
   },
   {
    "duration": 272,
    "start_time": "2023-01-23T21:24:28.614Z"
   },
   {
    "duration": 158,
    "start_time": "2023-01-23T21:24:28.888Z"
   },
   {
    "duration": 278,
    "start_time": "2023-01-23T21:24:29.048Z"
   },
   {
    "duration": 25,
    "start_time": "2023-01-23T21:24:29.329Z"
   },
   {
    "duration": 12,
    "start_time": "2023-01-23T21:24:29.356Z"
   },
   {
    "duration": 19,
    "start_time": "2023-01-23T21:24:29.370Z"
   },
   {
    "duration": 29,
    "start_time": "2023-01-23T21:24:29.427Z"
   },
   {
    "duration": 13,
    "start_time": "2023-01-23T21:24:29.458Z"
   },
   {
    "duration": 4,
    "start_time": "2023-01-23T21:24:29.472Z"
   },
   {
    "duration": 9,
    "start_time": "2023-01-23T21:24:29.478Z"
   },
   {
    "duration": 52,
    "start_time": "2023-01-23T21:24:29.488Z"
   },
   {
    "duration": 7,
    "start_time": "2023-01-23T21:24:29.543Z"
   },
   {
    "duration": 340,
    "start_time": "2023-01-23T21:24:29.551Z"
   },
   {
    "duration": 371,
    "start_time": "2023-01-23T21:24:29.894Z"
   },
   {
    "duration": 428,
    "start_time": "2023-01-23T21:24:30.266Z"
   },
   {
    "duration": 358,
    "start_time": "2023-01-23T21:24:30.695Z"
   },
   {
    "duration": 13,
    "start_time": "2023-01-23T21:24:31.054Z"
   },
   {
    "duration": 27,
    "start_time": "2023-01-23T21:24:31.069Z"
   },
   {
    "duration": 27,
    "start_time": "2023-01-23T21:24:31.097Z"
   },
   {
    "duration": 28,
    "start_time": "2023-01-23T21:24:31.126Z"
   },
   {
    "duration": 12,
    "start_time": "2023-01-23T21:24:31.156Z"
   },
   {
    "duration": 32,
    "start_time": "2023-01-23T21:24:31.170Z"
   },
   {
    "duration": 803,
    "start_time": "2023-01-23T21:24:31.203Z"
   },
   {
    "duration": 863,
    "start_time": "2023-01-23T21:24:32.011Z"
   },
   {
    "duration": 780,
    "start_time": "2023-01-23T21:24:32.876Z"
   },
   {
    "duration": 914,
    "start_time": "2023-01-23T21:24:33.657Z"
   },
   {
    "duration": 482,
    "start_time": "2023-01-23T21:24:34.574Z"
   },
   {
    "duration": 11,
    "start_time": "2023-01-23T21:24:35.058Z"
   },
   {
    "duration": 699,
    "start_time": "2023-01-23T21:24:35.071Z"
   },
   {
    "duration": 893,
    "start_time": "2023-01-23T21:24:35.773Z"
   },
   {
    "duration": 31,
    "start_time": "2023-01-23T21:24:36.668Z"
   },
   {
    "duration": 53,
    "start_time": "2023-01-23T21:24:36.700Z"
   },
   {
    "duration": 13,
    "start_time": "2023-01-23T21:24:36.755Z"
   },
   {
    "duration": 4,
    "start_time": "2023-01-23T21:24:36.770Z"
   },
   {
    "duration": 11,
    "start_time": "2023-01-23T21:24:36.776Z"
   },
   {
    "duration": 33,
    "start_time": "2023-01-23T21:24:36.788Z"
   },
   {
    "duration": 29,
    "start_time": "2023-01-23T21:24:36.823Z"
   },
   {
    "duration": 29,
    "start_time": "2023-01-23T21:24:36.854Z"
   },
   {
    "duration": 11,
    "start_time": "2023-01-23T21:24:36.885Z"
   },
   {
    "duration": 8,
    "start_time": "2023-01-23T21:24:36.897Z"
   },
   {
    "duration": 2214,
    "start_time": "2023-01-23T21:24:36.906Z"
   },
   {
    "duration": 6301,
    "start_time": "2023-01-23T21:24:39.129Z"
   },
   {
    "duration": 27501,
    "start_time": "2023-01-23T21:24:45.438Z"
   },
   {
    "duration": 79489,
    "start_time": "2023-01-23T21:25:12.943Z"
   },
   {
    "duration": 1126782,
    "start_time": "2023-01-23T21:26:32.436Z"
   },
   {
    "duration": 2535673,
    "start_time": "2023-01-23T21:45:19.221Z"
   },
   {
    "duration": 1124779,
    "start_time": "2023-01-23T22:27:34.896Z"
   },
   {
    "duration": 2567376,
    "start_time": "2023-01-23T22:46:19.677Z"
   },
   {
    "duration": 10,
    "start_time": "2023-01-23T23:29:07.055Z"
   },
   {
    "duration": 587,
    "start_time": "2023-01-23T23:29:07.067Z"
   },
   {
    "duration": 8,
    "start_time": "2023-01-23T23:29:07.655Z"
   },
   {
    "duration": 162,
    "start_time": "2023-01-23T23:29:07.665Z"
   },
   {
    "duration": 78,
    "start_time": "2023-01-24T06:22:34.435Z"
   },
   {
    "duration": 1950,
    "start_time": "2023-01-24T06:23:01.295Z"
   },
   {
    "duration": 1682,
    "start_time": "2023-01-24T06:23:03.248Z"
   },
   {
    "duration": 217,
    "start_time": "2023-01-24T06:23:04.932Z"
   },
   {
    "duration": 841,
    "start_time": "2023-01-24T06:23:05.151Z"
   },
   {
    "duration": 312,
    "start_time": "2023-01-24T06:23:05.996Z"
   },
   {
    "duration": 143,
    "start_time": "2023-01-24T06:23:08.096Z"
   },
   {
    "duration": 304,
    "start_time": "2023-01-24T06:23:08.241Z"
   },
   {
    "duration": 25,
    "start_time": "2023-01-24T06:23:10.034Z"
   },
   {
    "duration": 13,
    "start_time": "2023-01-24T06:23:10.810Z"
   },
   {
    "duration": 28,
    "start_time": "2023-01-24T06:23:11.581Z"
   },
   {
    "duration": 22,
    "start_time": "2023-01-24T06:23:14.199Z"
   },
   {
    "duration": 14,
    "start_time": "2023-01-24T06:23:15.120Z"
   },
   {
    "duration": 4,
    "start_time": "2023-01-24T06:23:15.735Z"
   },
   {
    "duration": 14,
    "start_time": "2023-01-24T06:23:17.378Z"
   },
   {
    "duration": 10,
    "start_time": "2023-01-24T06:23:19.614Z"
   },
   {
    "duration": 10,
    "start_time": "2023-01-24T06:23:23.277Z"
   },
   {
    "duration": 355,
    "start_time": "2023-01-24T06:23:24.281Z"
   },
   {
    "duration": 353,
    "start_time": "2023-01-24T06:23:24.697Z"
   },
   {
    "duration": 440,
    "start_time": "2023-01-24T06:23:25.081Z"
   },
   {
    "duration": 368,
    "start_time": "2023-01-24T06:23:25.523Z"
   },
   {
    "duration": 13,
    "start_time": "2023-01-24T06:23:26.235Z"
   },
   {
    "duration": 14,
    "start_time": "2023-01-24T06:23:26.694Z"
   },
   {
    "duration": 12,
    "start_time": "2023-01-24T06:23:27.195Z"
   },
   {
    "duration": 12,
    "start_time": "2023-01-24T06:23:27.895Z"
   },
   {
    "duration": 6,
    "start_time": "2023-01-24T06:23:28.816Z"
   },
   {
    "duration": 6,
    "start_time": "2023-01-24T06:23:29.215Z"
   },
   {
    "duration": 831,
    "start_time": "2023-01-24T06:23:32.099Z"
   },
   {
    "duration": 955,
    "start_time": "2023-01-24T06:23:32.981Z"
   },
   {
    "duration": 842,
    "start_time": "2023-01-24T06:23:33.938Z"
   },
   {
    "duration": 8,
    "start_time": "2023-01-24T06:24:53.264Z"
   },
   {
    "duration": 366,
    "start_time": "2023-01-24T06:24:53.275Z"
   },
   {
    "duration": 103,
    "start_time": "2023-01-24T06:24:53.642Z"
   },
   {
    "duration": 452,
    "start_time": "2023-01-24T06:24:53.747Z"
   },
   {
    "duration": 283,
    "start_time": "2023-01-24T06:24:54.201Z"
   },
   {
    "duration": 137,
    "start_time": "2023-01-24T06:24:54.490Z"
   },
   {
    "duration": 295,
    "start_time": "2023-01-24T06:24:54.629Z"
   },
   {
    "duration": 30,
    "start_time": "2023-01-24T06:24:54.926Z"
   },
   {
    "duration": 62,
    "start_time": "2023-01-24T06:24:54.958Z"
   },
   {
    "duration": 45,
    "start_time": "2023-01-24T06:24:55.022Z"
   },
   {
    "duration": 30,
    "start_time": "2023-01-24T06:24:55.069Z"
   },
   {
    "duration": 20,
    "start_time": "2023-01-24T06:24:55.101Z"
   },
   {
    "duration": 17,
    "start_time": "2023-01-24T06:24:55.123Z"
   },
   {
    "duration": 51,
    "start_time": "2023-01-24T06:24:55.142Z"
   },
   {
    "duration": 18,
    "start_time": "2023-01-24T06:24:55.195Z"
   },
   {
    "duration": 11,
    "start_time": "2023-01-24T06:24:55.215Z"
   },
   {
    "duration": 322,
    "start_time": "2023-01-24T06:24:55.228Z"
   },
   {
    "duration": 479,
    "start_time": "2023-01-24T06:24:55.552Z"
   },
   {
    "duration": 363,
    "start_time": "2023-01-24T06:24:56.032Z"
   },
   {
    "duration": 331,
    "start_time": "2023-01-24T06:24:56.397Z"
   },
   {
    "duration": 10,
    "start_time": "2023-01-24T06:24:56.730Z"
   },
   {
    "duration": 35,
    "start_time": "2023-01-24T06:24:56.742Z"
   },
   {
    "duration": 75,
    "start_time": "2023-01-24T06:24:56.781Z"
   },
   {
    "duration": 59,
    "start_time": "2023-01-24T06:24:56.865Z"
   },
   {
    "duration": 23,
    "start_time": "2023-01-24T06:24:56.926Z"
   },
   {
    "duration": 55,
    "start_time": "2023-01-24T06:24:56.951Z"
   },
   {
    "duration": 935,
    "start_time": "2023-01-24T06:24:57.008Z"
   },
   {
    "duration": 945,
    "start_time": "2023-01-24T06:24:57.962Z"
   },
   {
    "duration": 809,
    "start_time": "2023-01-24T06:24:58.910Z"
   },
   {
    "duration": 986,
    "start_time": "2023-01-24T06:24:59.721Z"
   },
   {
    "duration": 525,
    "start_time": "2023-01-24T06:25:00.709Z"
   },
   {
    "duration": 23,
    "start_time": "2023-01-24T06:25:01.236Z"
   },
   {
    "duration": 972,
    "start_time": "2023-01-24T06:25:01.265Z"
   },
   {
    "duration": 796,
    "start_time": "2023-01-24T06:25:02.238Z"
   },
   {
    "duration": 37,
    "start_time": "2023-01-24T06:25:03.035Z"
   },
   {
    "duration": 42,
    "start_time": "2023-01-24T06:25:03.074Z"
   },
   {
    "duration": 27,
    "start_time": "2023-01-24T06:25:03.118Z"
   },
   {
    "duration": 43,
    "start_time": "2023-01-24T06:25:03.146Z"
   },
   {
    "duration": 10,
    "start_time": "2023-01-24T06:25:03.191Z"
   },
   {
    "duration": 12,
    "start_time": "2023-01-24T06:25:03.202Z"
   },
   {
    "duration": 17,
    "start_time": "2023-01-24T06:25:03.215Z"
   },
   {
    "duration": 14,
    "start_time": "2023-01-24T06:25:03.233Z"
   },
   {
    "duration": 46,
    "start_time": "2023-01-24T06:25:03.249Z"
   },
   {
    "duration": 17,
    "start_time": "2023-01-24T06:25:03.297Z"
   },
   {
    "duration": 2477,
    "start_time": "2023-01-24T06:25:25.882Z"
   },
   {
    "duration": 8804,
    "start_time": "2023-01-24T06:25:30.595Z"
   },
   {
    "duration": 43329,
    "start_time": "2023-01-24T06:25:46.035Z"
   },
   {
    "duration": 111979,
    "start_time": "2023-01-24T06:26:44.878Z"
   },
   {
    "duration": 10,
    "start_time": "2023-01-24T06:50:46.318Z"
   },
   {
    "duration": 85,
    "start_time": "2023-01-24T06:50:48.298Z"
   },
   {
    "duration": 3,
    "start_time": "2023-01-24T06:55:26.835Z"
   },
   {
    "duration": 401,
    "start_time": "2023-01-24T06:57:13.255Z"
   },
   {
    "duration": 27,
    "start_time": "2023-01-24T06:57:19.475Z"
   },
   {
    "duration": 4,
    "start_time": "2023-01-24T07:05:57.972Z"
   },
   {
    "duration": 4,
    "start_time": "2023-01-24T07:06:19.737Z"
   },
   {
    "duration": 4,
    "start_time": "2023-01-24T07:06:47.252Z"
   },
   {
    "duration": 3,
    "start_time": "2023-01-24T07:06:57.897Z"
   },
   {
    "duration": 4,
    "start_time": "2023-01-24T07:07:22.477Z"
   },
   {
    "duration": 4,
    "start_time": "2023-01-24T07:13:12.113Z"
   },
   {
    "duration": 307,
    "start_time": "2023-01-24T07:13:12.123Z"
   },
   {
    "duration": 80,
    "start_time": "2023-01-24T07:13:12.432Z"
   },
   {
    "duration": 320,
    "start_time": "2023-01-24T07:13:12.513Z"
   },
   {
    "duration": 246,
    "start_time": "2023-01-24T07:13:12.834Z"
   },
   {
    "duration": 131,
    "start_time": "2023-01-24T07:13:13.082Z"
   },
   {
    "duration": 261,
    "start_time": "2023-01-24T07:13:13.214Z"
   },
   {
    "duration": 20,
    "start_time": "2023-01-24T07:13:13.476Z"
   },
   {
    "duration": 46,
    "start_time": "2023-01-24T07:13:13.498Z"
   },
   {
    "duration": 48,
    "start_time": "2023-01-24T07:13:13.545Z"
   },
   {
    "duration": 41,
    "start_time": "2023-01-24T07:13:13.595Z"
   },
   {
    "duration": 41,
    "start_time": "2023-01-24T07:13:13.638Z"
   },
   {
    "duration": 29,
    "start_time": "2023-01-24T07:13:13.681Z"
   },
   {
    "duration": 50,
    "start_time": "2023-01-24T07:13:13.711Z"
   },
   {
    "duration": 34,
    "start_time": "2023-01-24T07:13:13.765Z"
   },
   {
    "duration": 5,
    "start_time": "2023-01-24T07:13:52.537Z"
   },
   {
    "duration": 5,
    "start_time": "2023-01-24T07:14:09.112Z"
   },
   {
    "duration": 5,
    "start_time": "2023-01-24T07:14:20.293Z"
   },
   {
    "duration": 5,
    "start_time": "2023-01-24T07:14:50.164Z"
   },
   {
    "duration": 6,
    "start_time": "2023-01-24T07:15:05.012Z"
   },
   {
    "duration": 6,
    "start_time": "2023-01-24T07:15:14.408Z"
   },
   {
    "duration": 9,
    "start_time": "2023-01-24T07:15:23.854Z"
   },
   {
    "duration": 5,
    "start_time": "2023-01-24T07:16:39.508Z"
   },
   {
    "duration": 351,
    "start_time": "2023-01-24T07:16:39.517Z"
   },
   {
    "duration": 95,
    "start_time": "2023-01-24T07:16:39.871Z"
   },
   {
    "duration": 390,
    "start_time": "2023-01-24T07:16:39.968Z"
   },
   {
    "duration": 266,
    "start_time": "2023-01-24T07:16:40.360Z"
   },
   {
    "duration": 146,
    "start_time": "2023-01-24T07:16:40.628Z"
   },
   {
    "duration": 315,
    "start_time": "2023-01-24T07:16:40.776Z"
   },
   {
    "duration": 25,
    "start_time": "2023-01-24T07:16:41.093Z"
   },
   {
    "duration": 34,
    "start_time": "2023-01-24T07:16:41.121Z"
   },
   {
    "duration": 26,
    "start_time": "2023-01-24T07:16:41.157Z"
   },
   {
    "duration": 20,
    "start_time": "2023-01-24T07:16:41.184Z"
   },
   {
    "duration": 17,
    "start_time": "2023-01-24T07:16:41.208Z"
   },
   {
    "duration": 6,
    "start_time": "2023-01-24T07:16:41.254Z"
   },
   {
    "duration": 25,
    "start_time": "2023-01-24T07:16:41.263Z"
   },
   {
    "duration": 11,
    "start_time": "2023-01-24T07:16:41.292Z"
   },
   {
    "duration": 4,
    "start_time": "2023-01-24T07:16:41.305Z"
   },
   {
    "duration": 350,
    "start_time": "2023-01-24T07:16:41.311Z"
   },
   {
    "duration": 456,
    "start_time": "2023-01-24T07:16:41.663Z"
   },
   {
    "duration": 338,
    "start_time": "2023-01-24T07:16:42.121Z"
   },
   {
    "duration": 338,
    "start_time": "2023-01-24T07:16:42.462Z"
   },
   {
    "duration": 10,
    "start_time": "2023-01-24T07:16:42.802Z"
   },
   {
    "duration": 18,
    "start_time": "2023-01-24T07:16:42.814Z"
   },
   {
    "duration": 32,
    "start_time": "2023-01-24T07:16:42.833Z"
   },
   {
    "duration": 27,
    "start_time": "2023-01-24T07:16:42.867Z"
   },
   {
    "duration": 6,
    "start_time": "2023-01-24T07:16:42.896Z"
   },
   {
    "duration": 11,
    "start_time": "2023-01-24T07:16:42.903Z"
   },
   {
    "duration": 802,
    "start_time": "2023-01-24T07:16:42.916Z"
   },
   {
    "duration": 916,
    "start_time": "2023-01-24T07:16:43.720Z"
   },
   {
    "duration": 775,
    "start_time": "2023-01-24T07:16:44.638Z"
   },
   {
    "duration": 904,
    "start_time": "2023-01-24T07:16:45.416Z"
   },
   {
    "duration": 569,
    "start_time": "2023-01-24T07:16:46.322Z"
   },
   {
    "duration": 11,
    "start_time": "2023-01-24T07:16:46.893Z"
   },
   {
    "duration": 1068,
    "start_time": "2023-01-24T07:16:46.906Z"
   },
   {
    "duration": 760,
    "start_time": "2023-01-24T07:16:47.980Z"
   },
   {
    "duration": 40,
    "start_time": "2023-01-24T07:16:48.742Z"
   },
   {
    "duration": 30,
    "start_time": "2023-01-24T07:16:48.784Z"
   },
   {
    "duration": 9,
    "start_time": "2023-01-24T07:16:48.816Z"
   },
   {
    "duration": 28,
    "start_time": "2023-01-24T07:16:48.828Z"
   },
   {
    "duration": 30,
    "start_time": "2023-01-24T07:16:48.858Z"
   },
   {
    "duration": 14,
    "start_time": "2023-01-24T07:16:48.891Z"
   },
   {
    "duration": 17,
    "start_time": "2023-01-24T07:16:48.907Z"
   },
   {
    "duration": 16,
    "start_time": "2023-01-24T07:16:48.928Z"
   },
   {
    "duration": 8,
    "start_time": "2023-01-24T07:16:48.945Z"
   },
   {
    "duration": 24,
    "start_time": "2023-01-24T07:16:48.955Z"
   },
   {
    "duration": 2085,
    "start_time": "2023-01-24T07:16:48.980Z"
   },
   {
    "duration": 4492,
    "start_time": "2023-01-24T07:16:51.068Z"
   },
   {
    "duration": 13304,
    "start_time": "2023-01-24T07:16:55.569Z"
   },
   {
    "duration": 29592,
    "start_time": "2023-01-24T07:17:08.880Z"
   },
   {
    "duration": 13,
    "start_time": "2023-01-24T07:19:05.783Z"
   },
   {
    "duration": 4,
    "start_time": "2023-01-24T07:19:09.878Z"
   },
   {
    "duration": 4,
    "start_time": "2023-01-24T07:19:17.554Z"
   },
   {
    "duration": 4,
    "start_time": "2023-01-24T07:19:18.549Z"
   },
   {
    "duration": 26693,
    "start_time": "2023-01-24T07:19:36.108Z"
   },
   {
    "duration": 58911,
    "start_time": "2023-01-24T07:23:19.183Z"
   },
   {
    "duration": 58521,
    "start_time": "2023-01-24T07:24:30.553Z"
   },
   {
    "duration": 5,
    "start_time": "2023-01-24T10:43:57.051Z"
   },
   {
    "duration": 401,
    "start_time": "2023-01-24T10:43:57.061Z"
   },
   {
    "duration": 134,
    "start_time": "2023-01-24T10:43:57.464Z"
   },
   {
    "duration": 534,
    "start_time": "2023-01-24T10:43:57.600Z"
   },
   {
    "duration": 262,
    "start_time": "2023-01-24T10:43:58.136Z"
   },
   {
    "duration": 160,
    "start_time": "2023-01-24T10:43:58.400Z"
   },
   {
    "duration": 286,
    "start_time": "2023-01-24T10:43:58.562Z"
   },
   {
    "duration": 23,
    "start_time": "2023-01-24T10:43:58.850Z"
   },
   {
    "duration": 31,
    "start_time": "2023-01-24T10:43:58.875Z"
   },
   {
    "duration": 19,
    "start_time": "2023-01-24T10:43:58.907Z"
   },
   {
    "duration": 37,
    "start_time": "2023-01-24T10:43:58.928Z"
   },
   {
    "duration": 21,
    "start_time": "2023-01-24T10:43:58.967Z"
   },
   {
    "duration": 4,
    "start_time": "2023-01-24T10:43:58.991Z"
   },
   {
    "duration": 12,
    "start_time": "2023-01-24T10:43:59.000Z"
   },
   {
    "duration": 14,
    "start_time": "2023-01-24T10:43:59.014Z"
   },
   {
    "duration": 27,
    "start_time": "2023-01-24T10:43:59.030Z"
   },
   {
    "duration": 357,
    "start_time": "2023-01-24T10:43:59.059Z"
   },
   {
    "duration": 539,
    "start_time": "2023-01-24T10:43:59.417Z"
   },
   {
    "duration": 351,
    "start_time": "2023-01-24T10:43:59.958Z"
   },
   {
    "duration": 361,
    "start_time": "2023-01-24T10:44:00.311Z"
   },
   {
    "duration": 13,
    "start_time": "2023-01-24T10:44:00.676Z"
   },
   {
    "duration": 48,
    "start_time": "2023-01-24T10:44:00.691Z"
   },
   {
    "duration": 74,
    "start_time": "2023-01-24T10:44:00.741Z"
   },
   {
    "duration": 38,
    "start_time": "2023-01-24T10:44:00.817Z"
   },
   {
    "duration": 66,
    "start_time": "2023-01-24T10:44:00.856Z"
   },
   {
    "duration": 59,
    "start_time": "2023-01-24T10:44:00.924Z"
   },
   {
    "duration": 849,
    "start_time": "2023-01-24T10:44:00.985Z"
   },
   {
    "duration": 987,
    "start_time": "2023-01-24T10:44:01.836Z"
   },
   {
    "duration": 871,
    "start_time": "2023-01-24T10:44:02.824Z"
   },
   {
    "duration": 933,
    "start_time": "2023-01-24T10:44:03.697Z"
   },
   {
    "duration": 508,
    "start_time": "2023-01-24T10:44:04.631Z"
   },
   {
    "duration": 21,
    "start_time": "2023-01-24T10:44:05.140Z"
   },
   {
    "duration": 899,
    "start_time": "2023-01-24T10:44:05.164Z"
   },
   {
    "duration": 1068,
    "start_time": "2023-01-24T10:44:06.070Z"
   },
   {
    "duration": 38,
    "start_time": "2023-01-24T10:44:07.140Z"
   },
   {
    "duration": 42,
    "start_time": "2023-01-24T10:44:07.181Z"
   },
   {
    "duration": 8,
    "start_time": "2023-01-24T10:44:07.224Z"
   },
   {
    "duration": 3,
    "start_time": "2023-01-24T10:44:07.234Z"
   },
   {
    "duration": 50,
    "start_time": "2023-01-24T10:44:07.238Z"
   },
   {
    "duration": 18,
    "start_time": "2023-01-24T10:44:07.292Z"
   },
   {
    "duration": 6,
    "start_time": "2023-01-24T10:44:07.314Z"
   },
   {
    "duration": 13,
    "start_time": "2023-01-24T10:44:07.321Z"
   },
   {
    "duration": 5,
    "start_time": "2023-01-24T10:44:07.336Z"
   },
   {
    "duration": 10,
    "start_time": "2023-01-24T10:44:07.342Z"
   },
   {
    "duration": 2149,
    "start_time": "2023-01-24T10:44:07.357Z"
   },
   {
    "duration": 4349,
    "start_time": "2023-01-24T10:44:09.508Z"
   },
   {
    "duration": 23096,
    "start_time": "2023-01-24T10:44:13.869Z"
   },
   {
    "duration": 54886,
    "start_time": "2023-01-24T10:44:36.974Z"
   },
   {
    "duration": 737,
    "start_time": "2023-01-24T12:46:36.954Z"
   },
   {
    "duration": 222,
    "start_time": "2023-01-24T13:22:06.034Z"
   },
   {
    "duration": 8,
    "start_time": "2023-01-24T13:22:20.118Z"
   },
   {
    "duration": 277,
    "start_time": "2023-01-24T13:22:23.379Z"
   },
   {
    "duration": 2003,
    "start_time": "2023-01-24T13:37:28.267Z"
   },
   {
    "duration": 50,
    "start_time": "2023-01-24T13:37:36.195Z"
   },
   {
    "duration": 2910,
    "start_time": "2023-01-24T13:39:41.849Z"
   },
   {
    "duration": 2,
    "start_time": "2023-01-24T13:40:55.226Z"
   },
   {
    "duration": 3,
    "start_time": "2023-01-24T13:42:09.465Z"
   },
   {
    "duration": 51,
    "start_time": "2023-01-24T13:43:26.145Z"
   },
   {
    "duration": 3,
    "start_time": "2023-01-24T13:43:36.495Z"
   },
   {
    "duration": 4,
    "start_time": "2023-01-24T13:47:38.254Z"
   },
   {
    "duration": 327,
    "start_time": "2023-01-24T13:47:38.264Z"
   },
   {
    "duration": 75,
    "start_time": "2023-01-24T13:47:38.593Z"
   },
   {
    "duration": 361,
    "start_time": "2023-01-24T13:47:38.669Z"
   },
   {
    "duration": 228,
    "start_time": "2023-01-24T13:47:39.031Z"
   },
   {
    "duration": 130,
    "start_time": "2023-01-24T13:47:39.261Z"
   },
   {
    "duration": 255,
    "start_time": "2023-01-24T13:47:39.393Z"
   },
   {
    "duration": 18,
    "start_time": "2023-01-24T13:47:39.649Z"
   },
   {
    "duration": 12,
    "start_time": "2023-01-24T13:47:39.669Z"
   },
   {
    "duration": 19,
    "start_time": "2023-01-24T13:47:39.683Z"
   },
   {
    "duration": 6,
    "start_time": "2023-01-24T13:47:39.703Z"
   },
   {
    "duration": 9,
    "start_time": "2023-01-24T13:47:39.711Z"
   },
   {
    "duration": 17,
    "start_time": "2023-01-24T13:47:39.754Z"
   },
   {
    "duration": 25,
    "start_time": "2023-01-24T13:47:39.773Z"
   },
   {
    "duration": 13,
    "start_time": "2023-01-24T13:47:39.801Z"
   },
   {
    "duration": 4,
    "start_time": "2023-01-24T13:47:39.816Z"
   },
   {
    "duration": 6,
    "start_time": "2023-01-24T13:47:39.822Z"
   },
   {
    "duration": 29,
    "start_time": "2023-01-24T13:47:39.829Z"
   },
   {
    "duration": 4,
    "start_time": "2023-01-24T13:47:39.860Z"
   },
   {
    "duration": 276,
    "start_time": "2023-01-24T13:47:39.865Z"
   },
   {
    "duration": 279,
    "start_time": "2023-01-24T13:47:40.143Z"
   },
   {
    "duration": 408,
    "start_time": "2023-01-24T13:47:40.423Z"
   },
   {
    "duration": 320,
    "start_time": "2023-01-24T13:47:40.833Z"
   },
   {
    "duration": 11,
    "start_time": "2023-01-24T13:47:41.155Z"
   },
   {
    "duration": 12,
    "start_time": "2023-01-24T13:47:41.167Z"
   },
   {
    "duration": 17,
    "start_time": "2023-01-24T13:47:41.181Z"
   },
   {
    "duration": 11,
    "start_time": "2023-01-24T13:47:41.199Z"
   },
   {
    "duration": 9,
    "start_time": "2023-01-24T13:47:41.211Z"
   },
   {
    "duration": 32,
    "start_time": "2023-01-24T13:47:41.221Z"
   },
   {
    "duration": 680,
    "start_time": "2023-01-24T13:47:41.255Z"
   },
   {
    "duration": 864,
    "start_time": "2023-01-24T13:47:41.937Z"
   },
   {
    "duration": 705,
    "start_time": "2023-01-24T13:47:42.803Z"
   },
   {
    "duration": 773,
    "start_time": "2023-01-24T13:47:43.510Z"
   },
   {
    "duration": 466,
    "start_time": "2023-01-24T13:47:44.288Z"
   },
   {
    "duration": 9,
    "start_time": "2023-01-24T13:47:44.756Z"
   },
   {
    "duration": 698,
    "start_time": "2023-01-24T13:47:44.767Z"
   },
   {
    "duration": 803,
    "start_time": "2023-01-24T13:47:45.467Z"
   },
   {
    "duration": 28,
    "start_time": "2023-01-24T13:47:46.271Z"
   },
   {
    "duration": 27,
    "start_time": "2023-01-24T13:47:46.301Z"
   },
   {
    "duration": 29,
    "start_time": "2023-01-24T13:47:46.330Z"
   },
   {
    "duration": 4,
    "start_time": "2023-01-24T13:47:46.361Z"
   },
   {
    "duration": 10,
    "start_time": "2023-01-24T13:47:46.369Z"
   },
   {
    "duration": 3,
    "start_time": "2023-01-24T13:47:46.381Z"
   },
   {
    "duration": 9,
    "start_time": "2023-01-24T13:47:46.386Z"
   },
   {
    "duration": 8,
    "start_time": "2023-01-24T13:47:46.396Z"
   },
   {
    "duration": 3,
    "start_time": "2023-01-24T13:47:46.406Z"
   },
   {
    "duration": 42,
    "start_time": "2023-01-24T13:47:46.411Z"
   },
   {
    "duration": 1709,
    "start_time": "2023-01-24T13:47:46.455Z"
   },
   {
    "duration": 2999,
    "start_time": "2023-01-24T13:47:48.254Z"
   },
   {
    "duration": 4,
    "start_time": "2023-01-24T13:47:51.256Z"
   },
   {
    "duration": 16802,
    "start_time": "2023-01-24T13:47:51.262Z"
   },
   {
    "duration": 25297,
    "start_time": "2023-01-24T13:48:08.160Z"
   },
   {
    "duration": 94,
    "start_time": "2023-01-24T13:48:33.460Z"
   },
   {
    "duration": 3,
    "start_time": "2023-01-24T13:55:53.550Z"
   },
   {
    "duration": 1113016,
    "start_time": "2023-01-24T13:57:16.154Z"
   },
   {
    "duration": 1526,
    "start_time": "2023-01-24T17:12:28.309Z"
   },
   {
    "duration": 1152,
    "start_time": "2023-01-24T17:12:29.837Z"
   },
   {
    "duration": 154,
    "start_time": "2023-01-24T17:12:30.991Z"
   },
   {
    "duration": 538,
    "start_time": "2023-01-24T17:12:31.147Z"
   },
   {
    "duration": 245,
    "start_time": "2023-01-24T17:12:31.687Z"
   },
   {
    "duration": 134,
    "start_time": "2023-01-24T17:12:31.934Z"
   },
   {
    "duration": 263,
    "start_time": "2023-01-24T17:12:32.070Z"
   },
   {
    "duration": 18,
    "start_time": "2023-01-24T17:12:32.334Z"
   },
   {
    "duration": 19,
    "start_time": "2023-01-24T17:12:32.353Z"
   },
   {
    "duration": 36,
    "start_time": "2023-01-24T17:12:32.374Z"
   },
   {
    "duration": 22,
    "start_time": "2023-01-24T17:12:32.412Z"
   },
   {
    "duration": 28,
    "start_time": "2023-01-24T17:12:32.435Z"
   },
   {
    "duration": 21,
    "start_time": "2023-01-24T17:12:32.465Z"
   },
   {
    "duration": 44,
    "start_time": "2023-01-24T17:12:32.488Z"
   },
   {
    "duration": 17,
    "start_time": "2023-01-24T17:12:32.534Z"
   },
   {
    "duration": 35,
    "start_time": "2023-01-24T17:12:32.553Z"
   },
   {
    "duration": 26,
    "start_time": "2023-01-24T17:12:32.590Z"
   },
   {
    "duration": 50,
    "start_time": "2023-01-24T17:12:32.617Z"
   },
   {
    "duration": 27,
    "start_time": "2023-01-24T17:12:32.669Z"
   },
   {
    "duration": 336,
    "start_time": "2023-01-24T17:12:32.698Z"
   },
   {
    "duration": 315,
    "start_time": "2023-01-24T17:12:33.037Z"
   },
   {
    "duration": 368,
    "start_time": "2023-01-24T17:12:33.353Z"
   },
   {
    "duration": 304,
    "start_time": "2023-01-24T17:12:33.723Z"
   },
   {
    "duration": 12,
    "start_time": "2023-01-24T17:12:34.029Z"
   },
   {
    "duration": 25,
    "start_time": "2023-01-24T17:12:34.043Z"
   },
   {
    "duration": 37,
    "start_time": "2023-01-24T17:12:34.071Z"
   },
   {
    "duration": 35,
    "start_time": "2023-01-24T17:12:34.114Z"
   },
   {
    "duration": 37,
    "start_time": "2023-01-24T17:12:34.151Z"
   },
   {
    "duration": 30,
    "start_time": "2023-01-24T17:12:34.190Z"
   },
   {
    "duration": 748,
    "start_time": "2023-01-24T17:12:34.222Z"
   },
   {
    "duration": 891,
    "start_time": "2023-01-24T17:12:34.971Z"
   },
   {
    "duration": 780,
    "start_time": "2023-01-24T17:12:35.863Z"
   },
   {
    "duration": 866,
    "start_time": "2023-01-24T17:12:36.645Z"
   },
   {
    "duration": 438,
    "start_time": "2023-01-24T17:12:37.514Z"
   },
   {
    "duration": 7,
    "start_time": "2023-01-24T17:12:37.954Z"
   },
   {
    "duration": 724,
    "start_time": "2023-01-24T17:12:37.963Z"
   },
   {
    "duration": 875,
    "start_time": "2023-01-24T17:12:38.688Z"
   },
   {
    "duration": 27,
    "start_time": "2023-01-24T17:12:39.565Z"
   },
   {
    "duration": 41,
    "start_time": "2023-01-24T17:12:39.594Z"
   },
   {
    "duration": 24,
    "start_time": "2023-01-24T17:12:39.637Z"
   },
   {
    "duration": 25,
    "start_time": "2023-01-24T17:12:39.664Z"
   },
   {
    "duration": 36,
    "start_time": "2023-01-24T17:12:39.690Z"
   },
   {
    "duration": 11,
    "start_time": "2023-01-24T17:12:39.728Z"
   },
   {
    "duration": 39,
    "start_time": "2023-01-24T17:12:39.741Z"
   },
   {
    "duration": 19,
    "start_time": "2023-01-24T17:12:39.782Z"
   },
   {
    "duration": 12,
    "start_time": "2023-01-24T17:12:39.803Z"
   },
   {
    "duration": 19,
    "start_time": "2023-01-24T17:12:39.817Z"
   },
   {
    "duration": 1871,
    "start_time": "2023-01-24T17:12:39.837Z"
   },
   {
    "duration": 8894,
    "start_time": "2023-01-24T17:12:41.710Z"
   },
   {
    "duration": 7,
    "start_time": "2023-01-24T17:12:50.609Z"
   },
   {
    "duration": 40698,
    "start_time": "2023-01-24T17:12:50.618Z"
   },
   {
    "duration": 89194,
    "start_time": "2023-01-24T17:13:31.318Z"
   },
   {
    "duration": 4,
    "start_time": "2023-01-24T17:15:00.513Z"
   },
   {
    "duration": 3,
    "start_time": "2023-01-24T17:16:36.491Z"
   },
   {
    "duration": 766239,
    "start_time": "2023-01-24T17:16:55.163Z"
   },
   {
    "duration": 45,
    "start_time": "2023-01-24T17:29:41.404Z"
   },
   {
    "duration": 52,
    "start_time": "2023-01-24T17:30:03.541Z"
   },
   {
    "duration": 1050362,
    "start_time": "2023-01-24T17:34:31.368Z"
   },
   {
    "duration": 4,
    "start_time": "2023-01-24T18:01:04.719Z"
   },
   {
    "duration": 323,
    "start_time": "2023-01-24T18:01:04.725Z"
   },
   {
    "duration": 80,
    "start_time": "2023-01-24T18:01:05.049Z"
   },
   {
    "duration": 440,
    "start_time": "2023-01-24T18:01:05.132Z"
   },
   {
    "duration": 225,
    "start_time": "2023-01-24T18:01:05.574Z"
   },
   {
    "duration": 134,
    "start_time": "2023-01-24T18:01:05.803Z"
   },
   {
    "duration": 253,
    "start_time": "2023-01-24T18:01:05.939Z"
   },
   {
    "duration": 20,
    "start_time": "2023-01-24T18:01:06.193Z"
   },
   {
    "duration": 28,
    "start_time": "2023-01-24T18:01:06.215Z"
   },
   {
    "duration": 34,
    "start_time": "2023-01-24T18:01:06.244Z"
   },
   {
    "duration": 28,
    "start_time": "2023-01-24T18:01:06.280Z"
   },
   {
    "duration": 30,
    "start_time": "2023-01-24T18:01:06.310Z"
   },
   {
    "duration": 40,
    "start_time": "2023-01-24T18:01:06.342Z"
   },
   {
    "duration": 35,
    "start_time": "2023-01-24T18:01:06.385Z"
   },
   {
    "duration": 27,
    "start_time": "2023-01-24T18:01:06.421Z"
   },
   {
    "duration": 48,
    "start_time": "2023-01-24T18:01:06.450Z"
   },
   {
    "duration": 4,
    "start_time": "2023-01-24T18:01:46.135Z"
   },
   {
    "duration": 9,
    "start_time": "2023-01-24T18:04:35.278Z"
   },
   {
    "duration": 4,
    "start_time": "2023-01-24T18:23:59.778Z"
   },
   {
    "duration": 292,
    "start_time": "2023-01-24T18:23:59.783Z"
   },
   {
    "duration": 80,
    "start_time": "2023-01-24T18:24:00.077Z"
   },
   {
    "duration": 320,
    "start_time": "2023-01-24T18:24:00.159Z"
   },
   {
    "duration": 224,
    "start_time": "2023-01-24T18:24:00.481Z"
   },
   {
    "duration": 137,
    "start_time": "2023-01-24T18:24:00.706Z"
   },
   {
    "duration": 266,
    "start_time": "2023-01-24T18:24:00.845Z"
   },
   {
    "duration": 17,
    "start_time": "2023-01-24T18:24:01.113Z"
   },
   {
    "duration": 26,
    "start_time": "2023-01-24T18:24:01.132Z"
   },
   {
    "duration": 41,
    "start_time": "2023-01-24T18:24:01.162Z"
   },
   {
    "duration": 27,
    "start_time": "2023-01-24T18:24:01.205Z"
   },
   {
    "duration": 55,
    "start_time": "2023-01-24T18:24:01.234Z"
   },
   {
    "duration": 34,
    "start_time": "2023-01-24T18:24:01.290Z"
   },
   {
    "duration": 48,
    "start_time": "2023-01-24T18:24:01.326Z"
   },
   {
    "duration": 28,
    "start_time": "2023-01-24T18:24:01.376Z"
   },
   {
    "duration": 91,
    "start_time": "2023-01-24T18:24:01.407Z"
   },
   {
    "duration": 5,
    "start_time": "2023-01-24T18:24:01.500Z"
   },
   {
    "duration": 33,
    "start_time": "2023-01-24T18:24:01.507Z"
   },
   {
    "duration": 34,
    "start_time": "2023-01-24T18:24:01.542Z"
   },
   {
    "duration": 306,
    "start_time": "2023-01-24T18:24:01.579Z"
   },
   {
    "duration": 301,
    "start_time": "2023-01-24T18:24:01.886Z"
   },
   {
    "duration": 305,
    "start_time": "2023-01-24T18:24:02.189Z"
   },
   {
    "duration": 319,
    "start_time": "2023-01-24T18:24:02.503Z"
   },
   {
    "duration": 11,
    "start_time": "2023-01-24T18:24:02.824Z"
   },
   {
    "duration": 17,
    "start_time": "2023-01-24T18:24:02.836Z"
   },
   {
    "duration": 49,
    "start_time": "2023-01-24T18:24:02.855Z"
   },
   {
    "duration": 33,
    "start_time": "2023-01-24T18:24:02.906Z"
   },
   {
    "duration": 11,
    "start_time": "2023-01-24T18:24:02.943Z"
   },
   {
    "duration": 46,
    "start_time": "2023-01-24T18:24:02.955Z"
   },
   {
    "duration": 823,
    "start_time": "2023-01-24T18:24:03.003Z"
   },
   {
    "duration": 821,
    "start_time": "2023-01-24T18:24:03.827Z"
   },
   {
    "duration": 810,
    "start_time": "2023-01-24T18:24:04.649Z"
   },
   {
    "duration": 682,
    "start_time": "2023-01-24T18:24:05.460Z"
   },
   {
    "duration": 439,
    "start_time": "2023-01-24T18:24:06.144Z"
   },
   {
    "duration": 19,
    "start_time": "2023-01-24T18:24:06.585Z"
   },
   {
    "duration": 856,
    "start_time": "2023-01-24T18:24:06.605Z"
   },
   {
    "duration": 648,
    "start_time": "2023-01-24T18:24:07.462Z"
   },
   {
    "duration": 23,
    "start_time": "2023-01-24T18:24:08.112Z"
   },
   {
    "duration": 26,
    "start_time": "2023-01-24T18:24:08.137Z"
   },
   {
    "duration": 18,
    "start_time": "2023-01-24T18:24:08.164Z"
   },
   {
    "duration": 29,
    "start_time": "2023-01-24T18:24:08.184Z"
   },
   {
    "duration": 36,
    "start_time": "2023-01-24T18:24:08.215Z"
   },
   {
    "duration": 16,
    "start_time": "2023-01-24T18:24:08.252Z"
   },
   {
    "duration": 28,
    "start_time": "2023-01-24T18:24:08.270Z"
   },
   {
    "duration": 44,
    "start_time": "2023-01-24T18:24:08.301Z"
   },
   {
    "duration": 7,
    "start_time": "2023-01-24T18:24:14.456Z"
   },
   {
    "duration": 16,
    "start_time": "2023-01-24T18:24:19.118Z"
   },
   {
    "duration": 21,
    "start_time": "2023-01-24T18:24:50.045Z"
   },
   {
    "duration": 5,
    "start_time": "2023-01-24T18:25:09.281Z"
   },
   {
    "duration": 5,
    "start_time": "2023-01-24T18:25:10.202Z"
   },
   {
    "duration": 18,
    "start_time": "2023-01-24T18:25:13.285Z"
   },
   {
    "duration": 4,
    "start_time": "2023-01-24T18:25:32.575Z"
   },
   {
    "duration": 7,
    "start_time": "2023-01-24T18:25:35.295Z"
   },
   {
    "duration": 4,
    "start_time": "2023-01-24T18:26:46.088Z"
   },
   {
    "duration": 295,
    "start_time": "2023-01-24T18:26:46.094Z"
   },
   {
    "duration": 70,
    "start_time": "2023-01-24T18:26:46.391Z"
   },
   {
    "duration": 323,
    "start_time": "2023-01-24T18:26:46.463Z"
   },
   {
    "duration": 226,
    "start_time": "2023-01-24T18:26:46.788Z"
   },
   {
    "duration": 258,
    "start_time": "2023-01-24T18:26:47.016Z"
   },
   {
    "duration": 241,
    "start_time": "2023-01-24T18:26:47.276Z"
   },
   {
    "duration": 16,
    "start_time": "2023-01-24T18:26:47.519Z"
   },
   {
    "duration": 34,
    "start_time": "2023-01-24T18:26:47.538Z"
   },
   {
    "duration": 45,
    "start_time": "2023-01-24T18:26:47.574Z"
   },
   {
    "duration": 16,
    "start_time": "2023-01-24T18:26:47.620Z"
   },
   {
    "duration": 51,
    "start_time": "2023-01-24T18:26:47.637Z"
   },
   {
    "duration": 26,
    "start_time": "2023-01-24T18:26:47.690Z"
   },
   {
    "duration": 59,
    "start_time": "2023-01-24T18:26:47.718Z"
   },
   {
    "duration": 17,
    "start_time": "2023-01-24T18:26:47.779Z"
   },
   {
    "duration": 39,
    "start_time": "2023-01-24T18:26:47.798Z"
   },
   {
    "duration": 5,
    "start_time": "2023-01-24T18:26:47.839Z"
   },
   {
    "duration": 23,
    "start_time": "2023-01-24T18:26:47.846Z"
   },
   {
    "duration": 40,
    "start_time": "2023-01-24T18:26:47.871Z"
   },
   {
    "duration": 320,
    "start_time": "2023-01-24T18:26:47.912Z"
   },
   {
    "duration": 313,
    "start_time": "2023-01-24T18:26:48.233Z"
   },
   {
    "duration": 310,
    "start_time": "2023-01-24T18:26:48.548Z"
   },
   {
    "duration": 319,
    "start_time": "2023-01-24T18:26:48.860Z"
   },
   {
    "duration": 22,
    "start_time": "2023-01-24T18:26:49.183Z"
   },
   {
    "duration": 37,
    "start_time": "2023-01-24T18:26:49.206Z"
   },
   {
    "duration": 38,
    "start_time": "2023-01-24T18:26:49.245Z"
   },
   {
    "duration": 33,
    "start_time": "2023-01-24T18:26:49.284Z"
   },
   {
    "duration": 34,
    "start_time": "2023-01-24T18:26:49.319Z"
   },
   {
    "duration": 40,
    "start_time": "2023-01-24T18:26:49.355Z"
   },
   {
    "duration": 795,
    "start_time": "2023-01-24T18:26:49.397Z"
   },
   {
    "duration": 732,
    "start_time": "2023-01-24T18:26:50.195Z"
   },
   {
    "duration": 856,
    "start_time": "2023-01-24T18:26:50.929Z"
   },
   {
    "duration": 659,
    "start_time": "2023-01-24T18:26:51.787Z"
   },
   {
    "duration": 452,
    "start_time": "2023-01-24T18:26:52.447Z"
   },
   {
    "duration": 7,
    "start_time": "2023-01-24T18:26:52.902Z"
   },
   {
    "duration": 892,
    "start_time": "2023-01-24T18:26:52.911Z"
   },
   {
    "duration": 735,
    "start_time": "2023-01-24T18:26:53.804Z"
   },
   {
    "duration": 24,
    "start_time": "2023-01-24T18:26:54.540Z"
   },
   {
    "duration": 41,
    "start_time": "2023-01-24T18:26:54.565Z"
   },
   {
    "duration": 11,
    "start_time": "2023-01-24T18:26:54.609Z"
   },
   {
    "duration": 3,
    "start_time": "2023-01-24T18:26:54.622Z"
   },
   {
    "duration": 34,
    "start_time": "2023-01-24T18:26:54.627Z"
   },
   {
    "duration": 4,
    "start_time": "2023-01-24T18:26:54.663Z"
   },
   {
    "duration": 17,
    "start_time": "2023-01-24T18:26:54.669Z"
   },
   {
    "duration": 18,
    "start_time": "2023-01-24T18:26:54.688Z"
   },
   {
    "duration": 15,
    "start_time": "2023-01-24T18:26:54.708Z"
   },
   {
    "duration": 5,
    "start_time": "2023-01-24T18:26:54.725Z"
   },
   {
    "duration": 6,
    "start_time": "2023-01-24T18:26:54.732Z"
   },
   {
    "duration": 6,
    "start_time": "2023-01-24T18:26:54.740Z"
   },
   {
    "duration": 1856,
    "start_time": "2023-01-24T18:26:54.748Z"
   },
   {
    "duration": 2600,
    "start_time": "2023-01-24T18:26:56.606Z"
   },
   {
    "duration": 4,
    "start_time": "2023-01-24T18:26:59.208Z"
   },
   {
    "duration": 19096,
    "start_time": "2023-01-24T18:26:59.214Z"
   },
   {
    "duration": 30794,
    "start_time": "2023-01-24T18:27:18.312Z"
   },
   {
    "duration": 96,
    "start_time": "2023-01-24T18:27:49.108Z"
   },
   {
    "duration": 4,
    "start_time": "2023-01-24T18:28:08.842Z"
   },
   {
    "duration": 2,
    "start_time": "2023-01-24T18:33:22.818Z"
   },
   {
    "duration": 4,
    "start_time": "2023-01-24T18:33:24.372Z"
   },
   {
    "duration": 14,
    "start_time": "2023-01-24T18:33:39.429Z"
   },
   {
    "duration": 8,
    "start_time": "2023-01-24T18:36:35.989Z"
   },
   {
    "duration": 4,
    "start_time": "2023-01-24T18:36:37.190Z"
   },
   {
    "duration": 4,
    "start_time": "2023-01-24T18:36:37.883Z"
   },
   {
    "duration": 1034257,
    "start_time": "2023-01-24T18:41:46.721Z"
   },
   {
    "duration": 2470924,
    "start_time": "2023-01-24T18:59:00.980Z"
   },
   {
    "duration": 4,
    "start_time": "2023-01-24T19:40:11.906Z"
   },
   {
    "duration": 7,
    "start_time": "2023-01-24T19:40:11.913Z"
   },
   {
    "duration": 5,
    "start_time": "2023-01-24T19:47:05.228Z"
   },
   {
    "duration": 3144,
    "start_time": "2023-01-24T19:48:43.691Z"
   },
   {
    "duration": 13,
    "start_time": "2023-01-24T19:52:08.635Z"
   },
   {
    "duration": 6,
    "start_time": "2023-01-24T19:53:05.135Z"
   },
   {
    "duration": 14,
    "start_time": "2023-01-24T19:53:28.500Z"
   },
   {
    "duration": 5,
    "start_time": "2023-01-24T19:53:39.745Z"
   },
   {
    "duration": 11,
    "start_time": "2023-01-24T19:53:53.115Z"
   },
   {
    "duration": 4,
    "start_time": "2023-01-24T19:54:18.536Z"
   },
   {
    "duration": 19,
    "start_time": "2023-01-24T19:56:03.543Z"
   },
   {
    "duration": 4,
    "start_time": "2023-01-24T19:57:13.367Z"
   },
   {
    "duration": 2,
    "start_time": "2023-01-24T19:58:25.195Z"
   },
   {
    "duration": 4,
    "start_time": "2023-01-24T19:58:25.729Z"
   },
   {
    "duration": 12,
    "start_time": "2023-01-24T19:58:27.081Z"
   },
   {
    "duration": 7,
    "start_time": "2023-01-24T19:58:28.768Z"
   },
   {
    "duration": 3,
    "start_time": "2023-01-24T19:58:41.328Z"
   },
   {
    "duration": 3,
    "start_time": "2023-01-24T19:58:41.733Z"
   },
   {
    "duration": 5,
    "start_time": "2023-01-24T19:58:56.833Z"
   },
   {
    "duration": 3085,
    "start_time": "2023-01-24T19:59:06.461Z"
   },
   {
    "duration": 13,
    "start_time": "2023-01-24T20:00:06.461Z"
   },
   {
    "duration": 8,
    "start_time": "2023-01-24T20:01:07.939Z"
   },
   {
    "duration": 5,
    "start_time": "2023-01-24T20:11:46.051Z"
   },
   {
    "duration": 271,
    "start_time": "2023-01-24T20:11:46.058Z"
   },
   {
    "duration": 71,
    "start_time": "2023-01-24T20:11:46.330Z"
   },
   {
    "duration": 293,
    "start_time": "2023-01-24T20:11:46.403Z"
   },
   {
    "duration": 227,
    "start_time": "2023-01-24T20:11:46.697Z"
   },
   {
    "duration": 121,
    "start_time": "2023-01-24T20:11:46.925Z"
   },
   {
    "duration": 256,
    "start_time": "2023-01-24T20:11:47.048Z"
   },
   {
    "duration": 17,
    "start_time": "2023-01-24T20:11:47.306Z"
   },
   {
    "duration": 11,
    "start_time": "2023-01-24T20:11:47.324Z"
   },
   {
    "duration": 37,
    "start_time": "2023-01-24T20:11:47.337Z"
   },
   {
    "duration": 26,
    "start_time": "2023-01-24T20:11:47.375Z"
   },
   {
    "duration": 28,
    "start_time": "2023-01-24T20:11:47.403Z"
   },
   {
    "duration": 26,
    "start_time": "2023-01-24T20:11:47.433Z"
   },
   {
    "duration": 30,
    "start_time": "2023-01-24T20:11:47.461Z"
   },
   {
    "duration": 24,
    "start_time": "2023-01-24T20:11:47.493Z"
   },
   {
    "duration": 48,
    "start_time": "2023-01-24T20:11:47.518Z"
   },
   {
    "duration": 4,
    "start_time": "2023-01-24T20:11:47.568Z"
   },
   {
    "duration": 28,
    "start_time": "2023-01-24T20:11:47.573Z"
   },
   {
    "duration": 14,
    "start_time": "2023-01-24T20:11:47.603Z"
   },
   {
    "duration": 297,
    "start_time": "2023-01-24T20:11:47.618Z"
   },
   {
    "duration": 298,
    "start_time": "2023-01-24T20:11:47.917Z"
   },
   {
    "duration": 381,
    "start_time": "2023-01-24T20:11:48.217Z"
   },
   {
    "duration": 278,
    "start_time": "2023-01-24T20:11:48.602Z"
   },
   {
    "duration": 10,
    "start_time": "2023-01-24T20:11:48.882Z"
   },
   {
    "duration": 38,
    "start_time": "2023-01-24T20:11:48.893Z"
   },
   {
    "duration": 40,
    "start_time": "2023-01-24T20:11:48.933Z"
   },
   {
    "duration": 45,
    "start_time": "2023-01-24T20:11:48.974Z"
   },
   {
    "duration": 20,
    "start_time": "2023-01-24T20:11:49.024Z"
   },
   {
    "duration": 30,
    "start_time": "2023-01-24T20:11:49.046Z"
   },
   {
    "duration": 682,
    "start_time": "2023-01-24T20:11:49.077Z"
   },
   {
    "duration": 809,
    "start_time": "2023-01-24T20:11:49.760Z"
   },
   {
    "duration": 683,
    "start_time": "2023-01-24T20:11:50.571Z"
   },
   {
    "duration": 778,
    "start_time": "2023-01-24T20:11:51.255Z"
   },
   {
    "duration": 435,
    "start_time": "2023-01-24T20:11:52.034Z"
   },
   {
    "duration": 10,
    "start_time": "2023-01-24T20:11:52.471Z"
   },
   {
    "duration": 720,
    "start_time": "2023-01-24T20:11:52.483Z"
   },
   {
    "duration": 812,
    "start_time": "2023-01-24T20:11:53.205Z"
   },
   {
    "duration": 22,
    "start_time": "2023-01-24T20:11:54.019Z"
   },
   {
    "duration": 40,
    "start_time": "2023-01-24T20:11:54.042Z"
   },
   {
    "duration": 61,
    "start_time": "2023-01-24T20:11:54.084Z"
   },
   {
    "duration": 50,
    "start_time": "2023-01-24T20:11:54.147Z"
   },
   {
    "duration": 50,
    "start_time": "2023-01-24T20:11:54.199Z"
   },
   {
    "duration": 47,
    "start_time": "2023-01-24T20:11:54.251Z"
   },
   {
    "duration": 41,
    "start_time": "2023-01-24T20:11:54.300Z"
   },
   {
    "duration": 44,
    "start_time": "2023-01-24T20:11:54.343Z"
   },
   {
    "duration": 67,
    "start_time": "2023-01-24T20:11:54.388Z"
   },
   {
    "duration": 42,
    "start_time": "2023-01-24T20:11:54.456Z"
   },
   {
    "duration": 63,
    "start_time": "2023-01-24T20:11:54.499Z"
   },
   {
    "duration": 87,
    "start_time": "2023-01-24T20:11:54.564Z"
   },
   {
    "duration": 1451,
    "start_time": "2023-01-24T20:11:54.653Z"
   },
   {
    "duration": 3304,
    "start_time": "2023-01-24T20:11:56.105Z"
   },
   {
    "duration": 4,
    "start_time": "2023-01-24T20:11:59.411Z"
   },
   {
    "duration": 14308,
    "start_time": "2023-01-24T20:11:59.504Z"
   },
   {
    "duration": 2820,
    "start_time": "2023-01-24T20:12:13.903Z"
   },
   {
    "duration": 5,
    "start_time": "2023-01-24T20:12:16.725Z"
   },
   {
    "duration": 1306,
    "start_time": "2023-01-24T20:12:49.810Z"
   },
   {
    "duration": 280,
    "start_time": "2023-01-24T20:12:51.118Z"
   },
   {
    "duration": 79,
    "start_time": "2023-01-24T20:12:51.399Z"
   },
   {
    "duration": 338,
    "start_time": "2023-01-24T20:12:51.481Z"
   },
   {
    "duration": 234,
    "start_time": "2023-01-24T20:12:51.821Z"
   },
   {
    "duration": 126,
    "start_time": "2023-01-24T20:12:52.057Z"
   },
   {
    "duration": 246,
    "start_time": "2023-01-24T20:12:52.185Z"
   },
   {
    "duration": 17,
    "start_time": "2023-01-24T20:12:52.433Z"
   },
   {
    "duration": 11,
    "start_time": "2023-01-24T20:12:52.451Z"
   },
   {
    "duration": 42,
    "start_time": "2023-01-24T20:12:52.464Z"
   },
   {
    "duration": 7,
    "start_time": "2023-01-24T20:12:52.507Z"
   },
   {
    "duration": 20,
    "start_time": "2023-01-24T20:12:52.516Z"
   },
   {
    "duration": 12,
    "start_time": "2023-01-24T20:12:52.538Z"
   },
   {
    "duration": 35,
    "start_time": "2023-01-24T20:12:52.552Z"
   },
   {
    "duration": 11,
    "start_time": "2023-01-24T20:12:52.589Z"
   },
   {
    "duration": 28,
    "start_time": "2023-01-24T20:12:52.601Z"
   },
   {
    "duration": 4,
    "start_time": "2023-01-24T20:12:52.630Z"
   },
   {
    "duration": 26,
    "start_time": "2023-01-24T20:12:52.635Z"
   },
   {
    "duration": 13,
    "start_time": "2023-01-24T20:12:52.663Z"
   },
   {
    "duration": 282,
    "start_time": "2023-01-24T20:12:52.678Z"
   },
   {
    "duration": 300,
    "start_time": "2023-01-24T20:12:52.962Z"
   },
   {
    "duration": 367,
    "start_time": "2023-01-24T20:12:53.264Z"
   },
   {
    "duration": 286,
    "start_time": "2023-01-24T20:12:53.633Z"
   },
   {
    "duration": 13,
    "start_time": "2023-01-24T20:12:53.922Z"
   },
   {
    "duration": 23,
    "start_time": "2023-01-24T20:12:53.937Z"
   },
   {
    "duration": 23,
    "start_time": "2023-01-24T20:12:53.961Z"
   },
   {
    "duration": 23,
    "start_time": "2023-01-24T20:12:53.985Z"
   },
   {
    "duration": 32,
    "start_time": "2023-01-24T20:12:54.012Z"
   },
   {
    "duration": 44,
    "start_time": "2023-01-24T20:12:54.046Z"
   },
   {
    "duration": 735,
    "start_time": "2023-01-24T20:12:54.091Z"
   },
   {
    "duration": 812,
    "start_time": "2023-01-24T20:12:54.827Z"
   },
   {
    "duration": 645,
    "start_time": "2023-01-24T20:12:55.640Z"
   },
   {
    "duration": 780,
    "start_time": "2023-01-24T20:12:56.287Z"
   },
   {
    "duration": 470,
    "start_time": "2023-01-24T20:12:57.068Z"
   },
   {
    "duration": 7,
    "start_time": "2023-01-24T20:12:57.539Z"
   },
   {
    "duration": 651,
    "start_time": "2023-01-24T20:12:57.548Z"
   },
   {
    "duration": 796,
    "start_time": "2023-01-24T20:12:58.203Z"
   },
   {
    "duration": 26,
    "start_time": "2023-01-24T20:12:59.002Z"
   },
   {
    "duration": 48,
    "start_time": "2023-01-24T20:12:59.029Z"
   },
   {
    "duration": 49,
    "start_time": "2023-01-24T20:12:59.079Z"
   },
   {
    "duration": 28,
    "start_time": "2023-01-24T20:12:59.140Z"
   },
   {
    "duration": 27,
    "start_time": "2023-01-24T20:12:59.170Z"
   },
   {
    "duration": 50,
    "start_time": "2023-01-24T20:12:59.198Z"
   },
   {
    "duration": 37,
    "start_time": "2023-01-24T20:12:59.250Z"
   },
   {
    "duration": 41,
    "start_time": "2023-01-24T20:12:59.289Z"
   },
   {
    "duration": 55,
    "start_time": "2023-01-24T20:12:59.332Z"
   },
   {
    "duration": 41,
    "start_time": "2023-01-24T20:12:59.389Z"
   },
   {
    "duration": 42,
    "start_time": "2023-01-24T20:12:59.432Z"
   },
   {
    "duration": 36,
    "start_time": "2023-01-24T20:12:59.476Z"
   },
   {
    "duration": 2000,
    "start_time": "2023-01-24T20:12:59.514Z"
   },
   {
    "duration": 2998,
    "start_time": "2023-01-24T20:13:01.516Z"
   },
   {
    "duration": 89,
    "start_time": "2023-01-24T20:13:04.517Z"
   },
   {
    "duration": 13603,
    "start_time": "2023-01-24T20:13:04.608Z"
   },
   {
    "duration": 22800,
    "start_time": "2023-01-24T20:13:18.304Z"
   },
   {
    "duration": 94,
    "start_time": "2023-01-24T20:13:41.109Z"
   },
   {
    "duration": 996262,
    "start_time": "2023-01-24T20:13:41.205Z"
   },
   {
    "duration": 2325546,
    "start_time": "2023-01-24T20:30:17.469Z"
   },
   {
    "duration": 3,
    "start_time": "2023-01-24T21:09:03.017Z"
   },
   {
    "duration": 1095626,
    "start_time": "2023-01-24T21:09:03.022Z"
   },
   {
    "duration": 2634605,
    "start_time": "2023-01-24T21:27:18.649Z"
   },
   {
    "duration": 3,
    "start_time": "2023-01-24T22:11:13.256Z"
   },
   {
    "duration": 3021,
    "start_time": "2023-01-24T22:11:13.260Z"
   },
   {
    "duration": 8,
    "start_time": "2023-01-24T22:11:16.282Z"
   },
   {
    "duration": 1452,
    "start_time": "2023-01-25T21:04:34.139Z"
   },
   {
    "duration": 828,
    "start_time": "2023-01-25T21:04:35.593Z"
   },
   {
    "duration": 442,
    "start_time": "2023-01-25T21:04:36.423Z"
   },
   {
    "duration": 1868,
    "start_time": "2023-01-25T21:04:36.867Z"
   },
   {
    "duration": 229,
    "start_time": "2023-01-25T21:04:38.737Z"
   },
   {
    "duration": 134,
    "start_time": "2023-01-25T21:04:38.967Z"
   },
   {
    "duration": 249,
    "start_time": "2023-01-25T21:04:39.103Z"
   },
   {
    "duration": 17,
    "start_time": "2023-01-25T21:04:39.354Z"
   },
   {
    "duration": 11,
    "start_time": "2023-01-25T21:04:39.381Z"
   },
   {
    "duration": 16,
    "start_time": "2023-01-25T21:04:39.395Z"
   },
   {
    "duration": 6,
    "start_time": "2023-01-25T21:04:39.413Z"
   },
   {
    "duration": 6,
    "start_time": "2023-01-25T21:04:39.421Z"
   },
   {
    "duration": 15,
    "start_time": "2023-01-25T21:04:39.428Z"
   },
   {
    "duration": 43,
    "start_time": "2023-01-25T21:04:39.444Z"
   },
   {
    "duration": 12,
    "start_time": "2023-01-25T21:04:39.489Z"
   },
   {
    "duration": 28,
    "start_time": "2023-01-25T21:04:39.502Z"
   },
   {
    "duration": 5,
    "start_time": "2023-01-25T21:04:39.532Z"
   },
   {
    "duration": 18,
    "start_time": "2023-01-25T21:04:39.539Z"
   },
   {
    "duration": 4,
    "start_time": "2023-01-25T21:04:39.581Z"
   },
   {
    "duration": 294,
    "start_time": "2023-01-25T21:04:39.587Z"
   },
   {
    "duration": 295,
    "start_time": "2023-01-25T21:04:39.883Z"
   },
   {
    "duration": 381,
    "start_time": "2023-01-25T21:04:40.180Z"
   },
   {
    "duration": 318,
    "start_time": "2023-01-25T21:04:40.563Z"
   },
   {
    "duration": 11,
    "start_time": "2023-01-25T21:04:40.883Z"
   },
   {
    "duration": 14,
    "start_time": "2023-01-25T21:04:40.896Z"
   },
   {
    "duration": 11,
    "start_time": "2023-01-25T21:04:40.911Z"
   },
   {
    "duration": 10,
    "start_time": "2023-01-25T21:04:40.923Z"
   },
   {
    "duration": 5,
    "start_time": "2023-01-25T21:04:40.936Z"
   },
   {
    "duration": 40,
    "start_time": "2023-01-25T21:04:40.943Z"
   },
   {
    "duration": 705,
    "start_time": "2023-01-25T21:04:40.985Z"
   },
   {
    "duration": 813,
    "start_time": "2023-01-25T21:04:41.691Z"
   },
   {
    "duration": 661,
    "start_time": "2023-01-25T21:04:42.506Z"
   },
   {
    "duration": 706,
    "start_time": "2023-01-25T21:04:43.169Z"
   },
   {
    "duration": 396,
    "start_time": "2023-01-25T21:04:43.877Z"
   },
   {
    "duration": 9,
    "start_time": "2023-01-25T21:04:44.275Z"
   },
   {
    "duration": 619,
    "start_time": "2023-01-25T21:04:44.286Z"
   },
   {
    "duration": 733,
    "start_time": "2023-01-25T21:04:44.906Z"
   },
   {
    "duration": 24,
    "start_time": "2023-01-25T21:04:45.641Z"
   },
   {
    "duration": 35,
    "start_time": "2023-01-25T21:04:45.667Z"
   },
   {
    "duration": 4,
    "start_time": "2023-01-25T21:04:45.704Z"
   },
   {
    "duration": 5,
    "start_time": "2023-01-25T21:04:45.710Z"
   },
   {
    "duration": 5,
    "start_time": "2023-01-25T21:04:45.717Z"
   },
   {
    "duration": 5,
    "start_time": "2023-01-25T21:04:45.724Z"
   },
   {
    "duration": 5,
    "start_time": "2023-01-25T21:04:45.730Z"
   },
   {
    "duration": 7,
    "start_time": "2023-01-25T21:04:45.736Z"
   },
   {
    "duration": 14,
    "start_time": "2023-01-25T21:04:45.744Z"
   },
   {
    "duration": 24,
    "start_time": "2023-01-25T21:04:45.760Z"
   },
   {
    "duration": 3,
    "start_time": "2023-01-25T21:04:45.785Z"
   },
   {
    "duration": 4,
    "start_time": "2023-01-25T21:04:45.790Z"
   },
   {
    "duration": 1990,
    "start_time": "2023-01-25T21:04:45.795Z"
   },
   {
    "duration": 2699,
    "start_time": "2023-01-25T21:04:47.787Z"
   },
   {
    "duration": 5,
    "start_time": "2023-01-25T21:04:50.488Z"
   },
   {
    "duration": 16706,
    "start_time": "2023-01-25T21:04:50.582Z"
   },
   {
    "duration": 27600,
    "start_time": "2023-01-25T21:05:07.289Z"
   },
   {
    "duration": 93,
    "start_time": "2023-01-25T21:05:34.890Z"
   },
   {
    "duration": 3431832,
    "start_time": "2023-01-25T21:05:34.985Z"
   },
   {
    "duration": 8206378,
    "start_time": "2023-01-25T22:02:46.818Z"
   },
   {
    "duration": 3,
    "start_time": "2023-01-26T00:19:33.199Z"
   },
   {
    "duration": 1123431,
    "start_time": "2023-01-26T00:19:33.204Z"
   },
   {
    "duration": 2732964,
    "start_time": "2023-01-26T00:38:16.637Z"
   },
   {
    "duration": 4,
    "start_time": "2023-01-26T01:23:49.603Z"
   },
   {
    "duration": 21805,
    "start_time": "2023-01-26T01:23:49.608Z"
   },
   {
    "duration": 7,
    "start_time": "2023-01-26T01:24:11.415Z"
   },
   {
    "duration": 34719,
    "start_time": "2023-01-26T04:24:19.669Z"
   },
   {
    "duration": 8,
    "start_time": "2023-01-26T04:26:19.503Z"
   }
  ],
  "kernelspec": {
   "display_name": "Python 3 (ipykernel)",
   "language": "python",
   "name": "python3"
  },
  "language_info": {
   "codemirror_mode": {
    "name": "ipython",
    "version": 3
   },
   "file_extension": ".py",
   "mimetype": "text/x-python",
   "name": "python",
   "nbconvert_exporter": "python",
   "pygments_lexer": "ipython3",
   "version": "3.9.13"
  },
  "toc": {
   "base_numbering": 1,
   "nav_menu": {},
   "number_sections": true,
   "sideBar": true,
   "skip_h1_title": true,
   "title_cell": "Содержание",
   "title_sidebar": "Contents",
   "toc_cell": true,
   "toc_position": {
    "height": "calc(100% - 180px)",
    "left": "10px",
    "top": "150px",
    "width": "165px"
   },
   "toc_section_display": true,
   "toc_window_display": true
  }
 },
 "nbformat": 4,
 "nbformat_minor": 2
}
