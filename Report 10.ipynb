{
 "cells": [
  {
   "cell_type": "markdown",
   "metadata": {},
   "source": [
    "# Защита персональных данных клиентов"
   ]
  },
  {
   "cell_type": "markdown",
   "metadata": {},
   "source": [
    "<a id=0></a>\n",
    "[Содержание](#0)\n",
    "\n",
    "[1. Описание проекта](#1)\n",
    "\n",
    "[2. Подготовка данных](#2)\n",
    "\n",
    "[3. Умножение матриц](#3)\n",
    "\n",
    "[4. Алгоритм преобразования](#4)\n",
    "\n",
    "[5. Проверка алгоритма](#5)\n",
    "\n",
    "[6. Общий вывод](#6)"
   ]
  },
  {
   "cell_type": "markdown",
   "metadata": {},
   "source": [
    "<a id=1></a>\n",
    "## 1. Описание проекта\n",
    "\n",
    "Нужно защитить данные клиентов страховой компании «Хоть потоп». \n",
    "\n",
    "**Цель проекта:**\n",
    "\n",
    "Разработать такой метод преобразования данных, чтобы по ним было сложно восстановить персональную информацию. Обосновать корректность его работы.\n",
    "\n",
    "Нужно защитить данные, чтобы при преобразовании качество моделей машинного обучения не ухудшилось. Подбирать наилучшую модель не требуется."
   ]
  },
  {
   "cell_type": "markdown",
   "metadata": {},
   "source": [
    "**Данные**"
   ]
  },
  {
   "cell_type": "markdown",
   "metadata": {},
   "source": [
    "Набор данных находится в файле: `/datasets/insurance.csv`\n",
    "\n",
    "- Признаки: пол, возраст и зарплата застрахованного, количество членов его семьи.\n",
    "- Целевой признак: количество страховых выплат клиенту за последние 5 лет."
   ]
  },
  {
   "cell_type": "markdown",
   "metadata": {},
   "source": [
    "**План работы**"
   ]
  },
  {
   "cell_type": "markdown",
   "metadata": {},
   "source": [
    "1. Изучить данные.\n",
    "\n",
    "2. Подготовить и обосновать ответ на вопрос: при умножении признаков на обратимую матрицу, изменится ли качество линейной регрессии?\n",
    "\n",
    "3. Предложить алгоритм преобразования данных для решения задачи.\n",
    "\n",
    "4. Запрограммировать этот алгоритм, применив матричные операции.\n",
    "\n",
    "5. Проверить, что качество линейной регрессии из sklearn не отличается до и после преобразования, применив метрику R2.\n",
    "\n",
    "6. Сделать выводы, оформить проект."
   ]
  },
  {
   "cell_type": "markdown",
   "metadata": {},
   "source": [
    "<a id=2></a>\n",
    "[Содержание](#0)\n",
    "## 2. Подготовка данных"
   ]
  },
  {
   "cell_type": "code",
   "execution_count": 1,
   "metadata": {},
   "outputs": [],
   "source": [
    "import pandas as pd\n",
    "import numpy as np\n",
    "from sklearn.model_selection import train_test_split\n",
    "from sklearn.linear_model import LinearRegression\n",
    "from sklearn.metrics import r2_score\n",
    "import matplotlib.pyplot as plt\n",
    "import seaborn as sns\n",
    "import warnings\n",
    "warnings.filterwarnings('ignore')\n",
    "\n",
    "RND_STATE = 10022023"
   ]
  },
  {
   "cell_type": "code",
   "execution_count": 2,
   "metadata": {},
   "outputs": [
    {
     "name": "stdout",
     "output_type": "stream",
     "text": [
      "<class 'pandas.core.frame.DataFrame'>\n",
      "RangeIndex: 5000 entries, 0 to 4999\n",
      "Data columns (total 5 columns):\n",
      " #   Column             Non-Null Count  Dtype  \n",
      "---  ------             --------------  -----  \n",
      " 0   Пол                5000 non-null   int64  \n",
      " 1   Возраст            5000 non-null   float64\n",
      " 2   Зарплата           5000 non-null   float64\n",
      " 3   Члены семьи        5000 non-null   int64  \n",
      " 4   Страховые выплаты  5000 non-null   int64  \n",
      "dtypes: float64(2), int64(3)\n",
      "memory usage: 195.4 KB\n"
     ]
    }
   ],
   "source": [
    "try:\n",
    "    ins_df = pd.read_csv('/datasets/insurance.csv')\n",
    "except:\n",
    "    ins_df = pd.read_csv('https://code.s3.yandex.net/datasets/insurance.csv')\n",
    "\n",
    "ins_df.info()"
   ]
  },
  {
   "cell_type": "markdown",
   "metadata": {},
   "source": [
    "**Вывод:**\n",
    "\n",
    "В данных отсутствуют пропуски."
   ]
  },
  {
   "cell_type": "code",
   "execution_count": 3,
   "metadata": {},
   "outputs": [
    {
     "data": {
      "text/html": [
       "<div>\n",
       "<style scoped>\n",
       "    .dataframe tbody tr th:only-of-type {\n",
       "        vertical-align: middle;\n",
       "    }\n",
       "\n",
       "    .dataframe tbody tr th {\n",
       "        vertical-align: top;\n",
       "    }\n",
       "\n",
       "    .dataframe thead th {\n",
       "        text-align: right;\n",
       "    }\n",
       "</style>\n",
       "<table border=\"1\" class=\"dataframe\">\n",
       "  <thead>\n",
       "    <tr style=\"text-align: right;\">\n",
       "      <th></th>\n",
       "      <th>Пол</th>\n",
       "      <th>Возраст</th>\n",
       "      <th>Зарплата</th>\n",
       "      <th>Члены семьи</th>\n",
       "      <th>Страховые выплаты</th>\n",
       "    </tr>\n",
       "  </thead>\n",
       "  <tbody>\n",
       "    <tr>\n",
       "      <th>0</th>\n",
       "      <td>1</td>\n",
       "      <td>41.0</td>\n",
       "      <td>49600.0</td>\n",
       "      <td>1</td>\n",
       "      <td>0</td>\n",
       "    </tr>\n",
       "    <tr>\n",
       "      <th>1</th>\n",
       "      <td>0</td>\n",
       "      <td>46.0</td>\n",
       "      <td>38000.0</td>\n",
       "      <td>1</td>\n",
       "      <td>1</td>\n",
       "    </tr>\n",
       "    <tr>\n",
       "      <th>2</th>\n",
       "      <td>0</td>\n",
       "      <td>29.0</td>\n",
       "      <td>21000.0</td>\n",
       "      <td>0</td>\n",
       "      <td>0</td>\n",
       "    </tr>\n",
       "    <tr>\n",
       "      <th>3</th>\n",
       "      <td>0</td>\n",
       "      <td>21.0</td>\n",
       "      <td>41700.0</td>\n",
       "      <td>2</td>\n",
       "      <td>0</td>\n",
       "    </tr>\n",
       "    <tr>\n",
       "      <th>4</th>\n",
       "      <td>1</td>\n",
       "      <td>28.0</td>\n",
       "      <td>26100.0</td>\n",
       "      <td>0</td>\n",
       "      <td>0</td>\n",
       "    </tr>\n",
       "  </tbody>\n",
       "</table>\n",
       "</div>"
      ],
      "text/plain": [
       "   Пол  Возраст  Зарплата  Члены семьи  Страховые выплаты\n",
       "0    1     41.0   49600.0            1                  0\n",
       "1    0     46.0   38000.0            1                  1\n",
       "2    0     29.0   21000.0            0                  0\n",
       "3    0     21.0   41700.0            2                  0\n",
       "4    1     28.0   26100.0            0                  0"
      ]
     },
     "execution_count": 3,
     "metadata": {},
     "output_type": "execute_result"
    }
   ],
   "source": [
    "ins_df.head(5)"
   ]
  },
  {
   "cell_type": "markdown",
   "metadata": {},
   "source": [
    "Посмотрим уникальные значения данных в столбцах:"
   ]
  },
  {
   "cell_type": "code",
   "execution_count": 4,
   "metadata": {
    "scrolled": true
   },
   "outputs": [
    {
     "name": "stdout",
     "output_type": "stream",
     "text": [
      "\n",
      " Уникальные значения столбца: Пол\n",
      "[1 0]\n",
      "\n",
      " Уникальные значения столбца: Возраст\n",
      "[41. 46. 29. 21. 28. 43. 39. 25. 36. 32. 38. 23. 40. 34. 26. 42. 27. 33.\n",
      " 47. 30. 19. 31. 22. 20. 24. 18. 37. 48. 45. 44. 52. 49. 35. 56. 65. 55.\n",
      " 57. 54. 50. 53. 51. 58. 59. 60. 61. 62.]\n",
      "\n",
      " Уникальные значения столбца: Зарплата\n",
      "[49600. 38000. 21000. 41700. 26100. 41000. 39700. 38600. 49700. 51700.\n",
      " 36600. 29300. 39500. 55000. 43700. 23300. 48900. 33200. 36900. 43500.\n",
      " 36100. 26600. 48700. 40400. 38400. 34600. 34800. 36800. 42200. 46300.\n",
      " 30300. 51000. 28100. 64800. 30400. 45300. 38300. 49500. 19400. 40200.\n",
      " 31700. 69200. 33100. 31600. 34500. 38700. 39600. 42400. 34900. 30500.\n",
      " 24200. 49900. 14300. 47000. 44800. 43800. 42700. 35400. 57200. 29600.\n",
      " 37400. 48100. 33700. 61800. 39400. 15600. 52600. 37600. 52500. 32700.\n",
      " 51600. 60900. 41800. 47400. 26500. 45900. 35700. 34300. 26700. 25700.\n",
      " 33300. 31100. 31500. 42100. 37300. 42500. 27300. 46800. 33500. 44300.\n",
      " 41600. 53900. 40100. 44600. 45000. 32000. 38200. 33000. 38500. 51800.\n",
      " 33800. 46400. 43200. 31800. 50200. 35100. 30700. 45800. 49300. 42800.\n",
      " 33600. 50300. 34000. 36400. 44900. 43600. 54600. 52800. 29700. 39000.\n",
      " 44100. 31900. 37700. 35200. 43100. 51300. 47500. 40800. 26800. 64900.\n",
      " 35900. 31200. 39900. 43300. 33900. 40700. 44700. 53400. 30600. 56000.\n",
      " 35600. 55200. 40600. 48300. 50800. 41200. 44200. 44400. 40500. 39800.\n",
      " 16600. 48400. 25100. 23100. 32100. 31000. 42900. 46700. 26000. 55900.\n",
      " 52000. 41500. 49400. 60300. 45600. 49000. 37500. 21900. 45100. 47900.\n",
      " 54300. 32400. 41300. 44500. 23200. 37900. 48000. 52100. 45700. 29900.\n",
      " 42600. 45200. 36000. 46500. 23800. 30200. 24400. 32800. 29000. 43400.\n",
      " 51500. 61700. 45400. 50700. 36200. 41900. 27900. 47200. 48800. 55100.\n",
      " 48200. 35500. 35000. 43900. 40000. 22000. 40300. 36300. 49800. 25600.\n",
      " 42300. 54900. 25500. 32900. 36700. 38900. 24700. 28800. 22900. 47300.\n",
      " 14500. 28700. 44000. 34100. 53000. 59300. 28500. 47100. 41400. 58900.\n",
      " 17500. 54200. 43000. 29800. 20000. 13800. 27500. 67700. 28000. 37100.\n",
      "  8900. 14600. 56200. 38800. 27700. 50500. 58400. 34700. 34400. 49100.\n",
      " 50900. 28200. 61500. 32500. 25900.  9800. 28300. 41100. 62000. 32600.\n",
      " 37200. 53800. 24000. 53600. 54800. 59600. 20200. 21700. 29200. 38100.\n",
      " 20700. 32300. 21200. 62100. 54000. 24500. 51900. 47800. 56100. 55300.\n",
      " 58100. 28900. 39100. 58000. 27200. 24600. 30100. 57100. 60100. 22200.\n",
      " 47700. 24900. 37800. 52700. 34200. 18700. 42000. 26300. 22600. 30900.\n",
      " 35800. 30800. 51100. 53300. 46200. 24100. 54700. 51200. 62300. 51400.\n",
      " 40900. 23400. 35300. 55800. 33400. 21300. 30000. 56700. 46900.  5300.\n",
      " 39200. 57500. 31300. 53700. 21600. 50000. 36500. 16400. 15900. 65100.\n",
      " 59900. 63200. 26200. 61200. 48500. 32200. 29100. 50100. 22700. 28600.\n",
      " 23500. 23700. 19600. 17800. 50600. 57900. 22500. 22100. 58300. 64100.\n",
      " 25000. 60400. 59100. 37000. 62400. 29500. 25800. 25400. 26900. 21500.\n",
      " 52200. 46600. 57300. 46100. 19300. 18900. 31400. 28400. 29400. 17600.\n",
      " 13900. 52400. 11300. 46000. 60500. 58700. 58200. 24800. 63700. 60600.\n",
      " 20400. 26400. 55600. 57000. 45500. 48600. 57600. 52900. 62800. 17000.\n",
      " 56500. 52300. 18400. 63300. 12900. 27000. 55700. 39300. 27800. 18300.\n",
      " 56300. 59800. 24300. 14400. 13400. 17900. 47600. 54500. 54400. 23900.\n",
      " 13000. 19900. 55400. 22800. 61000. 57400. 23000. 20500. 53200. 18100.\n",
      " 25300. 59500. 18200. 50400. 21100. 20900. 27400. 17300. 60700. 70600.\n",
      " 17700. 19700. 49200. 63100. 59200. 14700. 53100. 21800. 68000. 16500.\n",
      " 71400. 10000. 55500. 54100. 56400. 20600. 66300. 18800. 11000. 66100.\n",
      " 27100. 57800. 53500. 19200. 58500. 64000. 63600. 23600. 25200. 19100.\n",
      " 18600. 57700. 62700. 56600. 21400. 58800. 68400. 17100. 13300. 68500.\n",
      " 56900. 64400. 27600. 67200. 16200. 58600. 62200. 16000. 79000. 22300.\n",
      " 11200. 71600. 61300. 70500. 67100. 59000. 13500. 16700. 15700. 60000.\n",
      " 17400. 63400. 61900. 65200. 62600. 14100. 20100. 63800. 15100. 70000.\n",
      " 60200. 20300. 65900. 15200. 63500. 13200. 68900. 12200.  6000. 74800.\n",
      " 59700. 10800. 19000. 10600. 69400. 15000. 75200. 62500. 16300. 20800.\n",
      "  7400. 65300. 61400. 56800.]\n",
      "\n",
      " Уникальные значения столбца: Члены семьи\n",
      "[1 0 2 4 3 5 6]\n",
      "\n",
      " Уникальные значения столбца: Страховые выплаты\n",
      "[0 1 2 3 5 4]\n"
     ]
    }
   ],
   "source": [
    "def show_unic(df):\n",
    "    for column in df.columns:\n",
    "        print('\\n Уникальные значения столбца:', column)\n",
    "        print(df[column].unique())\n",
    "\n",
    "show_unic(ins_df)"
   ]
  },
  {
   "cell_type": "markdown",
   "metadata": {},
   "source": [
    "Изменим тип данных в столбцах `Возраст` и `Зарплата` на целочисленный ввиду отсутствия дробных частей.\n",
    "\n",
    "Так же оптимизируем размер остальных столбцов."
   ]
  },
  {
   "cell_type": "code",
   "execution_count": 5,
   "metadata": {},
   "outputs": [
    {
     "name": "stdout",
     "output_type": "stream",
     "text": [
      "<class 'pandas.core.frame.DataFrame'>\n",
      "RangeIndex: 5000 entries, 0 to 4999\n",
      "Data columns (total 5 columns):\n",
      " #   Column             Non-Null Count  Dtype  \n",
      "---  ------             --------------  -----  \n",
      " 0   Пол                5000 non-null   int8   \n",
      " 1   Возраст            5000 non-null   int8   \n",
      " 2   Зарплата           5000 non-null   float64\n",
      " 3   Члены семьи        5000 non-null   int8   \n",
      " 4   Страховые выплаты  5000 non-null   int8   \n",
      "dtypes: float64(1), int8(4)\n",
      "memory usage: 58.7 KB\n"
     ]
    }
   ],
   "source": [
    "for column in ins_df.columns:\n",
    "    ins_df[column] = pd.to_numeric(ins_df[column], downcast = 'integer')\n",
    "\n",
    "ins_df.info()"
   ]
  },
  {
   "cell_type": "markdown",
   "metadata": {},
   "source": [
    "Посмотрим граничные значения по столбцам:"
   ]
  },
  {
   "cell_type": "code",
   "execution_count": 6,
   "metadata": {},
   "outputs": [
    {
     "data": {
      "text/html": [
       "<div>\n",
       "<style scoped>\n",
       "    .dataframe tbody tr th:only-of-type {\n",
       "        vertical-align: middle;\n",
       "    }\n",
       "\n",
       "    .dataframe tbody tr th {\n",
       "        vertical-align: top;\n",
       "    }\n",
       "\n",
       "    .dataframe thead th {\n",
       "        text-align: right;\n",
       "    }\n",
       "</style>\n",
       "<table border=\"1\" class=\"dataframe\">\n",
       "  <thead>\n",
       "    <tr style=\"text-align: right;\">\n",
       "      <th></th>\n",
       "      <th>Пол</th>\n",
       "      <th>Возраст</th>\n",
       "      <th>Зарплата</th>\n",
       "      <th>Члены семьи</th>\n",
       "      <th>Страховые выплаты</th>\n",
       "    </tr>\n",
       "  </thead>\n",
       "  <tbody>\n",
       "    <tr>\n",
       "      <th>count</th>\n",
       "      <td>5000.000000</td>\n",
       "      <td>5000.000000</td>\n",
       "      <td>5000.000000</td>\n",
       "      <td>5000.000000</td>\n",
       "      <td>5000.000000</td>\n",
       "    </tr>\n",
       "    <tr>\n",
       "      <th>mean</th>\n",
       "      <td>0.499000</td>\n",
       "      <td>30.952800</td>\n",
       "      <td>39916.360000</td>\n",
       "      <td>1.194200</td>\n",
       "      <td>0.148000</td>\n",
       "    </tr>\n",
       "    <tr>\n",
       "      <th>std</th>\n",
       "      <td>0.500049</td>\n",
       "      <td>8.440807</td>\n",
       "      <td>9900.083569</td>\n",
       "      <td>1.091387</td>\n",
       "      <td>0.463183</td>\n",
       "    </tr>\n",
       "    <tr>\n",
       "      <th>min</th>\n",
       "      <td>0.000000</td>\n",
       "      <td>18.000000</td>\n",
       "      <td>5300.000000</td>\n",
       "      <td>0.000000</td>\n",
       "      <td>0.000000</td>\n",
       "    </tr>\n",
       "    <tr>\n",
       "      <th>25%</th>\n",
       "      <td>0.000000</td>\n",
       "      <td>24.000000</td>\n",
       "      <td>33300.000000</td>\n",
       "      <td>0.000000</td>\n",
       "      <td>0.000000</td>\n",
       "    </tr>\n",
       "    <tr>\n",
       "      <th>50%</th>\n",
       "      <td>0.000000</td>\n",
       "      <td>30.000000</td>\n",
       "      <td>40200.000000</td>\n",
       "      <td>1.000000</td>\n",
       "      <td>0.000000</td>\n",
       "    </tr>\n",
       "    <tr>\n",
       "      <th>75%</th>\n",
       "      <td>1.000000</td>\n",
       "      <td>37.000000</td>\n",
       "      <td>46600.000000</td>\n",
       "      <td>2.000000</td>\n",
       "      <td>0.000000</td>\n",
       "    </tr>\n",
       "    <tr>\n",
       "      <th>max</th>\n",
       "      <td>1.000000</td>\n",
       "      <td>65.000000</td>\n",
       "      <td>79000.000000</td>\n",
       "      <td>6.000000</td>\n",
       "      <td>5.000000</td>\n",
       "    </tr>\n",
       "  </tbody>\n",
       "</table>\n",
       "</div>"
      ],
      "text/plain": [
       "               Пол      Возраст      Зарплата  Члены семьи  Страховые выплаты\n",
       "count  5000.000000  5000.000000   5000.000000  5000.000000        5000.000000\n",
       "mean      0.499000    30.952800  39916.360000     1.194200           0.148000\n",
       "std       0.500049     8.440807   9900.083569     1.091387           0.463183\n",
       "min       0.000000    18.000000   5300.000000     0.000000           0.000000\n",
       "25%       0.000000    24.000000  33300.000000     0.000000           0.000000\n",
       "50%       0.000000    30.000000  40200.000000     1.000000           0.000000\n",
       "75%       1.000000    37.000000  46600.000000     2.000000           0.000000\n",
       "max       1.000000    65.000000  79000.000000     6.000000           5.000000"
      ]
     },
     "execution_count": 6,
     "metadata": {},
     "output_type": "execute_result"
    }
   ],
   "source": [
    "ins_df.describe()"
   ]
  },
  {
   "cell_type": "markdown",
   "metadata": {},
   "source": [
    "Посмотрим гистограммах распределение переменных в датасете:"
   ]
  },
  {
   "cell_type": "code",
   "execution_count": 7,
   "metadata": {},
   "outputs": [
    {
     "data": {
      "image/png": "[encoded data removed]",
      "text/plain": [
       "<Figure size 1500x900 with 6 Axes>"
      ]
     },
     "metadata": {},
     "output_type": "display_data"
    }
   ],
   "source": [
    "ins_df.hist(figsize = (15, 9), bins = 20, alpha = 0.7, color = 'blue')\n",
    "plt.show()"
   ]
  },
  {
   "cell_type": "markdown",
   "metadata": {},
   "source": [
    "Посмотрим коэффициенты корреляции Пирсона для переменных датасета:"
   ]
  },
  {
   "cell_type": "code",
   "execution_count": 8,
   "metadata": {},
   "outputs": [
    {
     "data": {
      "text/html": [
       "<div>\n",
       "<style scoped>\n",
       "    .dataframe tbody tr th:only-of-type {\n",
       "        vertical-align: middle;\n",
       "    }\n",
       "\n",
       "    .dataframe tbody tr th {\n",
       "        vertical-align: top;\n",
       "    }\n",
       "\n",
       "    .dataframe thead th {\n",
       "        text-align: right;\n",
       "    }\n",
       "</style>\n",
       "<table border=\"1\" class=\"dataframe\">\n",
       "  <thead>\n",
       "    <tr style=\"text-align: right;\">\n",
       "      <th></th>\n",
       "      <th>Пол</th>\n",
       "      <th>Возраст</th>\n",
       "      <th>Зарплата</th>\n",
       "      <th>Члены семьи</th>\n",
       "      <th>Страховые выплаты</th>\n",
       "    </tr>\n",
       "  </thead>\n",
       "  <tbody>\n",
       "    <tr>\n",
       "      <th>Пол</th>\n",
       "      <td>1.000000</td>\n",
       "      <td>0.002074</td>\n",
       "      <td>0.014910</td>\n",
       "      <td>-0.008991</td>\n",
       "      <td>0.010140</td>\n",
       "    </tr>\n",
       "    <tr>\n",
       "      <th>Возраст</th>\n",
       "      <td>0.002074</td>\n",
       "      <td>1.000000</td>\n",
       "      <td>-0.019093</td>\n",
       "      <td>-0.006692</td>\n",
       "      <td>0.651030</td>\n",
       "    </tr>\n",
       "    <tr>\n",
       "      <th>Зарплата</th>\n",
       "      <td>0.014910</td>\n",
       "      <td>-0.019093</td>\n",
       "      <td>1.000000</td>\n",
       "      <td>-0.030296</td>\n",
       "      <td>-0.014963</td>\n",
       "    </tr>\n",
       "    <tr>\n",
       "      <th>Члены семьи</th>\n",
       "      <td>-0.008991</td>\n",
       "      <td>-0.006692</td>\n",
       "      <td>-0.030296</td>\n",
       "      <td>1.000000</td>\n",
       "      <td>-0.036290</td>\n",
       "    </tr>\n",
       "    <tr>\n",
       "      <th>Страховые выплаты</th>\n",
       "      <td>0.010140</td>\n",
       "      <td>0.651030</td>\n",
       "      <td>-0.014963</td>\n",
       "      <td>-0.036290</td>\n",
       "      <td>1.000000</td>\n",
       "    </tr>\n",
       "  </tbody>\n",
       "</table>\n",
       "</div>"
      ],
      "text/plain": [
       "                        Пол   Возраст  Зарплата  Члены семьи  \\\n",
       "Пол                1.000000  0.002074  0.014910    -0.008991   \n",
       "Возраст            0.002074  1.000000 -0.019093    -0.006692   \n",
       "Зарплата           0.014910 -0.019093  1.000000    -0.030296   \n",
       "Члены семьи       -0.008991 -0.006692 -0.030296     1.000000   \n",
       "Страховые выплаты  0.010140  0.651030 -0.014963    -0.036290   \n",
       "\n",
       "                   Страховые выплаты  \n",
       "Пол                         0.010140  \n",
       "Возраст                     0.651030  \n",
       "Зарплата                   -0.014963  \n",
       "Члены семьи                -0.036290  \n",
       "Страховые выплаты           1.000000  "
      ]
     },
     "execution_count": 8,
     "metadata": {},
     "output_type": "execute_result"
    }
   ],
   "source": [
    "ins_df.corr()"
   ]
  },
  {
   "cell_type": "markdown",
   "metadata": {},
   "source": [
    "Корреляция показывает, что данные в столбце `Возраст` положительно корелируют со `Страховыми выплатами`.\n",
    "\n",
    "Посмотрим мультиколлинеарность:"
   ]
  },
  {
   "cell_type": "markdown",
   "metadata": {},
   "source": [
    "**Вывод:**\n",
    "\n",
    "При подготовке данных отметил:\n",
    "- Пропусков в данных нет\n",
    "- Аномалий в данных не обнаружено\n",
    "- Существует положительная корреляция между признаками `Возраст` и `Страховые выплаты`\n",
    "\n",
    "Данные загружены, подготовлены для дальнейшей работы, размер оптимизирован."
   ]
  },
  {
   "cell_type": "markdown",
   "metadata": {},
   "source": [
    "<a id=3></a>\n",
    "[Содержание](#0)\n",
    "## 3. Умножение матриц"
   ]
  },
  {
   "cell_type": "markdown",
   "metadata": {},
   "source": [
    "Обозначения:\n",
    "\n",
    "- $X$ — матрица признаков (нулевой столбец состоит из единиц)\n",
    "\n",
    "- $y$ — вектор целевого признака\n",
    "\n",
    "- $P$ — матрица, на которую умножаются признаки\n",
    "\n",
    "- $w$ — вектор весов линейной регрессии (нулевой элемент равен сдвигу)"
   ]
  },
  {
   "cell_type": "markdown",
   "metadata": {},
   "source": [
    "**Основные свойства матриц:**\n",
    "\n",
    "($A(BC) = (AB)C$) - свойство ассоциативности (сочетательности) матриц<br>\n",
    "\n",
    "$(P^T)^{-1} = (P^{-1})^T$ - транспортированная обратная матрица есть обратная матрица транспортированная <br>\n",
    "\n",
    "$(AB)^T = B^T A^T$ - транспонированное произведение матриц равно произведению транспонированных матриц <br>\n",
    "\n",
    "$(AB)^{-1} = B^{-1} A^{-1}$ - обратная матрица от произведения двух матриц равна обратной матрицы $B$ (второй) к обратной матрице $А$ (первой)<br>\n",
    "\n",
    "$P P^{-1} = E$ - умножение матрицы на свою обратную - есть единичная матрица<br>\n",
    "\n",
    "$(ABC)^{-1} =C^{-1} B^{-1} A^{-1}$ - умножение матриц ассоциативно<br>\n",
    "\n",
    "($AB != BA$) - умножение матриц некоммутативно, от перестановки местами матриц в произведении результат меняется\n",
    " "
   ]
  },
  {
   "cell_type": "markdown",
   "metadata": {},
   "source": [
    "**Предсказания:**\n",
    "\n",
    "$$\n",
    "a = Xw\n",
    "$$\n",
    "\n",
    "**Задача обучения:**\n",
    "\n",
    "$$\n",
    "w = \\arg\\min_w MSE(Xw, y)\n",
    "$$\n",
    "\n",
    "**Формула обучения:**\n",
    "\n",
    "$$\n",
    "w = (X^T X)^{-1} X^T y\n",
    "$$"
   ]
  },
  {
   "cell_type": "markdown",
   "metadata": {},
   "source": [
    "**Вопрос:** Признаки умножают на обратимую матрицу. Изменится ли качество линейной регрессии? (Её можно обучить заново)\n",
    "\n",
    "**Ответ:**\n",
    "\n",
    " a. Изменится. Приведите примеры матриц.\n",
    " \n",
    " b. Не изменится. Укажите, как связаны параметры линейной регрессии в исходной задаче и в преобразованной."
   ]
  },
  {
   "cell_type": "markdown",
   "metadata": {},
   "source": [
    "**Обоснование:**\n",
    "\n",
    "Умножим матрицу признаков $X$ в формуле обучения\n",
    "\n",
    "$$\n",
    "w = (X^T X)^{-1} X^T y\n",
    "$$\n",
    "\n",
    "на обратимую матрицу $P$:\n",
    "\n",
    "$$\n",
    "w(XP) = [(XP)^T (XP)]^{-1} (XP)^T y = [P^T X^T XP]^{-1} P^T X^T y = \n",
    "$$\n",
    "\n",
    "$$\n",
    "= P^{-1}[P^T (X^T X)]^{-1} P^T X^T y = P^{-1}(X^T X)^{-1} [(P^T)^{-1} P^T] X^T y =\n",
    "$$\n",
    "\n",
    "заменив $[(P^T)^{-1} P^T]=E$ получим\n",
    "\n",
    "$$\n",
    "= P^{-1}(X^T X)^{-1} X^T y\n",
    "$$\n",
    "\n",
    "Укажем, как связаны параметры линейной регрессии в исходной задаче и в преобразованной:\n",
    "\n",
    "$$\n",
    "w(XP) = P^{-1} w(X)\n",
    "$$\n",
    "\n",
    "Подставим $w(XP)$ в формулу предсказания $a = Xw(X)$ (т.е. заменим $X$ на $XP$):\n",
    "\n",
    "$$\n",
    "a = XP w(XP) = XP [P^{-1} w(X)] = Xw(X)\n",
    "$$\n",
    "\n",
    "**Вывод:**\n",
    "\n",
    "При умножении матрицы признаков $X$ на обратимую матрицу $P$ вектор весов $w$ меняется, а вектор целевого признака $a$ нет, т.е. качество линейной регрессии не изменится.\n"
   ]
  },
  {
   "cell_type": "markdown",
   "metadata": {},
   "source": [
    "<a id=4></a>\n",
    "[Содержание](#0)\n",
    "## 4. Алгоритм преобразования"
   ]
  },
  {
   "cell_type": "markdown",
   "metadata": {},
   "source": [
    "**Алгоритм**\n",
    "\n",
    "Для защиты информации на этапе поиска коэффициентов регрессии и предсказаний регрессии будем умножать\n",
    "матрицу признаков на обратимую матрицу $P$, которая будет генерироваться случайным образом.\n",
    "\n",
    "Этапы алгоритма:\n",
    "\n",
    "- Составление матрицы $P$.\n",
    "- Проверка матрицы на обратимость. Вычисление детерминанта матрицы $P$.\n",
    "- Получение матрицы преобразованных признаков $Z = XP$.\n",
    "- Применение алгоритма на преобразованных признаках $Z$.\n"
   ]
  },
  {
   "cell_type": "markdown",
   "metadata": {},
   "source": [
    "**Обоснование**\n",
    "\n",
    "Матрица  $P$  должна иметь необходимую размерность  (nxn), где n - количество признаков для регрессии.\n",
    "\n",
    "Таким образом матрица  $Z$  будет иметь туже размерность, что и матрица  $X$.\n",
    "\n",
    "Обратная матрица  $P$  существует только для квадратных невырожденных матриц (определитель которых не равен нулю).\n",
    "\n",
    "Пример:\n",
    "\n",
    "$X =\n",
    "\\left(\n",
    "\\begin{array}{cc}\n",
    "1 & 2 \\\\ \n",
    "2 & 3 \\\\\n",
    "4 & 5 \\\\\n",
    "\\end{array}\n",
    "\\right)$\n",
    "\n",
    "$P = \n",
    "\\left(\n",
    "\\begin{array}{cc}\n",
    "1 & 0 \\\\\n",
    "2 & 3 \\\\\n",
    "\\end{array}\n",
    "\\right)$\n",
    "\n",
    "$det P = 3$\n",
    "\n",
    "Найдем значние $Z$:\n",
    "\n",
    "$Z =\n",
    "\\left(\n",
    "\\begin{array}{cc}\n",
    "1 & 2 \\\\ \n",
    "2 & 3 \\\\\n",
    "4 & 5 \\\\\n",
    "\\end{array}\n",
    "\\right) \n",
    "\\left(\n",
    "\\begin{array}{cc}\n",
    "1 & 0 \\\\\n",
    "2 & 3 \\\\\n",
    "\\end{array}\n",
    "\\right)\n",
    "=\n",
    "\\left(\n",
    "\\begin{array}{cc}\n",
    "1*1+2*2 & 1*0+2*3 \\\\\n",
    "2*1+3*2 & 2*0+3*3 \\\\\n",
    "4*1+5*2 & 4*0+5*3 \\\\\n",
    "\\end{array}\n",
    "\\right)\n",
    "=\n",
    "\\left(\n",
    "\\begin{array}{cc}\n",
    "5 & 6 \\\\ \n",
    "8 & 9 \\\\\n",
    "14 & 15 \\\\\n",
    "\\end{array}\n",
    "\\right) \n",
    "$\n",
    "\n",
    "После этого вводим данные в линейную регрессию.\n"
   ]
  },
  {
   "cell_type": "markdown",
   "metadata": {},
   "source": [
    "<a id=5></a>\n",
    "[Содержание](#0)\n",
    "## 5. Проверка алгоритма"
   ]
  },
  {
   "cell_type": "markdown",
   "metadata": {},
   "source": [
    "Проведем исследование модели по двум направлениям:\n",
    "1. Исследуем качество модели без преобразования.\n",
    "2. Исследуем качество модели с преобразованием.\n",
    "\n",
    "Разделим данные на обучающие и тестовые:"
   ]
  },
  {
   "cell_type": "code",
   "execution_count": 9,
   "metadata": {},
   "outputs": [
    {
     "data": {
      "text/plain": [
       "((5000, 4), (5000,))"
      ]
     },
     "execution_count": 9,
     "metadata": {},
     "output_type": "execute_result"
    }
   ],
   "source": [
    "x = ins_df.drop('Страховые выплаты', axis = 1)\n",
    "y = ins_df['Страховые выплаты']\n",
    "x.shape, y.shape"
   ]
  },
  {
   "cell_type": "code",
   "execution_count": 10,
   "metadata": {},
   "outputs": [],
   "source": [
    "x_train, x_test, y_train, y_test = train_test_split(\n",
    "                 x, y, test_size = 0.25, random_state = RND_STATE)"
   ]
  },
  {
   "cell_type": "code",
   "execution_count": 11,
   "metadata": {},
   "outputs": [
    {
     "name": "stdout",
     "output_type": "stream",
     "text": [
      "w-vector coef (original) [ 7.67626575e-03  3.55225293e-02  3.24707187e-07 -1.71248290e-02]\n",
      "R2 (original) = 0.40840605314590306\n"
     ]
    }
   ],
   "source": [
    "model = LinearRegression()\n",
    "model.fit(x_train, y_train)\n",
    "R2_origin_data = r2_score(y_test, model.predict(x_test))\n",
    "print(\"w-vector coef (original)\", model.coef_)\n",
    "print(\"R2 (original) =\", R2_origin_data)"
   ]
  },
  {
   "cell_type": "markdown",
   "metadata": {},
   "source": [
    "Создадим функцию преобразования матрицы признаков:"
   ]
  },
  {
   "cell_type": "code",
   "execution_count": 12,
   "metadata": {},
   "outputs": [],
   "source": [
    "def crypt_df(df):\n",
    "    \n",
    "    n = df.shape[1]\n",
    "    det = 0\n",
    "\n",
    "    while det == 0:\n",
    "        np.random.seed(RND_STATE)\n",
    "        crypto_matrix = np.random.randint(1, 10, (n, n))\n",
    "        det = np.linalg.det(crypto_matrix)\n",
    "\n",
    "    crypted_df = df @ crypto_matrix\n",
    "\n",
    "    return crypted_df, crypto_matrix"
   ]
  },
  {
   "cell_type": "markdown",
   "metadata": {},
   "source": [
    "Посмотрим на данные до и после преобразования:"
   ]
  },
  {
   "cell_type": "code",
   "execution_count": 13,
   "metadata": {},
   "outputs": [
    {
     "data": {
      "text/html": [
       "<div>\n",
       "<style scoped>\n",
       "    .dataframe tbody tr th:only-of-type {\n",
       "        vertical-align: middle;\n",
       "    }\n",
       "\n",
       "    .dataframe tbody tr th {\n",
       "        vertical-align: top;\n",
       "    }\n",
       "\n",
       "    .dataframe thead th {\n",
       "        text-align: right;\n",
       "    }\n",
       "</style>\n",
       "<table border=\"1\" class=\"dataframe\">\n",
       "  <thead>\n",
       "    <tr style=\"text-align: right;\">\n",
       "      <th></th>\n",
       "      <th>Пол</th>\n",
       "      <th>Возраст</th>\n",
       "      <th>Зарплата</th>\n",
       "      <th>Члены семьи</th>\n",
       "    </tr>\n",
       "  </thead>\n",
       "  <tbody>\n",
       "    <tr>\n",
       "      <th>0</th>\n",
       "      <td>1</td>\n",
       "      <td>41</td>\n",
       "      <td>49600.0</td>\n",
       "      <td>1</td>\n",
       "    </tr>\n",
       "    <tr>\n",
       "      <th>1</th>\n",
       "      <td>0</td>\n",
       "      <td>46</td>\n",
       "      <td>38000.0</td>\n",
       "      <td>1</td>\n",
       "    </tr>\n",
       "    <tr>\n",
       "      <th>2</th>\n",
       "      <td>0</td>\n",
       "      <td>29</td>\n",
       "      <td>21000.0</td>\n",
       "      <td>0</td>\n",
       "    </tr>\n",
       "    <tr>\n",
       "      <th>3</th>\n",
       "      <td>0</td>\n",
       "      <td>21</td>\n",
       "      <td>41700.0</td>\n",
       "      <td>2</td>\n",
       "    </tr>\n",
       "    <tr>\n",
       "      <th>4</th>\n",
       "      <td>1</td>\n",
       "      <td>28</td>\n",
       "      <td>26100.0</td>\n",
       "      <td>0</td>\n",
       "    </tr>\n",
       "  </tbody>\n",
       "</table>\n",
       "</div>"
      ],
      "text/plain": [
       "   Пол  Возраст  Зарплата  Члены семьи\n",
       "0    1       41   49600.0            1\n",
       "1    0       46   38000.0            1\n",
       "2    0       29   21000.0            0\n",
       "3    0       21   41700.0            2\n",
       "4    1       28   26100.0            0"
      ]
     },
     "metadata": {},
     "output_type": "display_data"
    },
    {
     "data": {
      "text/html": [
       "<div>\n",
       "<style scoped>\n",
       "    .dataframe tbody tr th:only-of-type {\n",
       "        vertical-align: middle;\n",
       "    }\n",
       "\n",
       "    .dataframe tbody tr th {\n",
       "        vertical-align: top;\n",
       "    }\n",
       "\n",
       "    .dataframe thead th {\n",
       "        text-align: right;\n",
       "    }\n",
       "</style>\n",
       "<table border=\"1\" class=\"dataframe\">\n",
       "  <thead>\n",
       "    <tr style=\"text-align: right;\">\n",
       "      <th></th>\n",
       "      <th>0</th>\n",
       "      <th>1</th>\n",
       "      <th>2</th>\n",
       "      <th>3</th>\n",
       "    </tr>\n",
       "  </thead>\n",
       "  <tbody>\n",
       "    <tr>\n",
       "      <th>0</th>\n",
       "      <td>198694.0</td>\n",
       "      <td>446570.0</td>\n",
       "      <td>149018.0</td>\n",
       "      <td>248257.0</td>\n",
       "    </tr>\n",
       "    <tr>\n",
       "      <th>1</th>\n",
       "      <td>152324.0</td>\n",
       "      <td>342185.0</td>\n",
       "      <td>114238.0</td>\n",
       "      <td>190280.0</td>\n",
       "    </tr>\n",
       "    <tr>\n",
       "      <th>2</th>\n",
       "      <td>84203.0</td>\n",
       "      <td>189116.0</td>\n",
       "      <td>63145.0</td>\n",
       "      <td>105174.0</td>\n",
       "    </tr>\n",
       "    <tr>\n",
       "      <th>3</th>\n",
       "      <td>166951.0</td>\n",
       "      <td>375386.0</td>\n",
       "      <td>125221.0</td>\n",
       "      <td>208634.0</td>\n",
       "    </tr>\n",
       "    <tr>\n",
       "      <th>4</th>\n",
       "      <td>104601.0</td>\n",
       "      <td>235017.0</td>\n",
       "      <td>78445.0</td>\n",
       "      <td>130675.0</td>\n",
       "    </tr>\n",
       "  </tbody>\n",
       "</table>\n",
       "</div>"
      ],
      "text/plain": [
       "          0         1         2         3\n",
       "0  198694.0  446570.0  149018.0  248257.0\n",
       "1  152324.0  342185.0  114238.0  190280.0\n",
       "2   84203.0  189116.0   63145.0  105174.0\n",
       "3  166951.0  375386.0  125221.0  208634.0\n",
       "4  104601.0  235017.0   78445.0  130675.0"
      ]
     },
     "metadata": {},
     "output_type": "display_data"
    },
    {
     "data": {
      "text/plain": [
       "array([[5, 5, 5, 7],\n",
       "       [7, 4, 5, 6],\n",
       "       [4, 9, 3, 5],\n",
       "       [2, 1, 8, 4]])"
      ]
     },
     "metadata": {},
     "output_type": "display_data"
    }
   ],
   "source": [
    "crypted_x, crypto_matrix = crypt_df(x)\n",
    "\n",
    "display(x.head())\n",
    "display(crypted_x.head())\n",
    "display(crypto_matrix)"
   ]
  },
  {
   "cell_type": "markdown",
   "metadata": {},
   "source": [
    "Видно, что данные потеряли свои оригинальные значения, теперь вместо них мы видим ничего не говорящие числа.\n",
    "\n",
    "Разобьем преобразованные данные на тренировочную и обучающую выборку и проверим R2 значение:"
   ]
  },
  {
   "cell_type": "code",
   "execution_count": 14,
   "metadata": {},
   "outputs": [],
   "source": [
    "x_train, x_test, y_train, y_test = train_test_split(\n",
    "                 crypted_x, y, test_size = 0.25, random_state = RND_STATE)"
   ]
  },
  {
   "cell_type": "code",
   "execution_count": 15,
   "metadata": {},
   "outputs": [
    {
     "name": "stdout",
     "output_type": "stream",
     "text": [
      "w-vector coef  (crypted) [ 0.01124779 -0.00222551 -0.00311177 -0.00312518]\n",
      "R2  (crypted) = 0.4084060531460093\n",
      "\n",
      "Сравним с показателями оргинальных данных:\n",
      "w-vector coef (original) [ 0.01124779 -0.00222551 -0.00311177 -0.00312518]\n",
      "R2 (original) = 0.40840605314590306\n"
     ]
    }
   ],
   "source": [
    "model = LinearRegression()\n",
    "model.fit(x_train, y_train)\n",
    "R2_crypted_data = r2_score(y_test, model.predict(x_test))\n",
    "print('w-vector coef  (crypted)', model.coef_)\n",
    "print('R2  (crypted) =', R2_crypted_data)\n",
    "print('')\n",
    "print('Сравним с показателями оргинальных данных:')\n",
    "print('w-vector coef (original)', model.coef_)\n",
    "print('R2 (original) =', R2_origin_data)"
   ]
  },
  {
   "cell_type": "markdown",
   "metadata": {},
   "source": [
    "<a id=6></a>\n",
    "[Содержание](#0)\n",
    "## 6. Общий вывод\n",
    "\n",
    "В ходе работы было выполнено:\n",
    "\n",
    "1. Загружены и изучены данные.\n",
    "2. Провенено предположение, что качество линейной регресии не изменилось от использования исходной матрицы\n",
    "и исходной матрицы, умноженной на обратимую.\n",
    "3. Создан алгоритм преобразования данных.\n",
    "4. Исследован алгоритм преобразования данных и проверена метрика R2 для данных без преобразования и с ним.\n",
    "\n",
    "По результатам работы использования матричных операций можно увидеть, что данные можно зашифровать от распознования (обезличить), имея правильную матрицу."
   ]
  },
  {
   "cell_type": "code",
   "execution_count": null,
   "metadata": {},
   "outputs": [],
   "source": []
  }
 ],
 "metadata": {
  "ExecuteTimeLog": [
   {
    "duration": 1156,
    "start_time": "2023-02-08T14:02:25.090Z"
   },
   {
    "duration": 4,
    "start_time": "2023-02-08T14:07:52.889Z"
   },
   {
    "duration": 95,
    "start_time": "2023-02-08T14:07:53.430Z"
   },
   {
    "duration": 14,
    "start_time": "2023-02-08T14:07:55.125Z"
   },
   {
    "duration": 11,
    "start_time": "2023-02-08T14:18:38.581Z"
   },
   {
    "duration": 14,
    "start_time": "2023-02-08T14:19:07.460Z"
   },
   {
    "duration": 12,
    "start_time": "2023-02-08T14:19:17.185Z"
   },
   {
    "duration": 81,
    "start_time": "2023-02-08T14:19:38.001Z"
   },
   {
    "duration": 99,
    "start_time": "2023-02-08T14:19:49.361Z"
   },
   {
    "duration": 74,
    "start_time": "2023-02-08T14:20:08.750Z"
   },
   {
    "duration": 12,
    "start_time": "2023-02-08T14:20:20.681Z"
   },
   {
    "duration": 92,
    "start_time": "2023-02-08T14:20:27.380Z"
   },
   {
    "duration": 11,
    "start_time": "2023-02-08T14:20:41.321Z"
   },
   {
    "duration": 10,
    "start_time": "2023-02-08T14:20:55.345Z"
   },
   {
    "duration": 11,
    "start_time": "2023-02-08T14:21:18.961Z"
   },
   {
    "duration": 99,
    "start_time": "2023-02-08T14:22:48.120Z"
   },
   {
    "duration": 16,
    "start_time": "2023-02-08T14:22:56.875Z"
   },
   {
    "duration": 12,
    "start_time": "2023-02-08T14:25:25.639Z"
   },
   {
    "duration": 13,
    "start_time": "2023-02-08T14:25:58.939Z"
   },
   {
    "duration": 3,
    "start_time": "2023-02-08T14:37:31.660Z"
   },
   {
    "duration": 1176,
    "start_time": "2023-02-09T17:55:06.018Z"
   },
   {
    "duration": 137,
    "start_time": "2023-02-09T17:55:07.197Z"
   },
   {
    "duration": 14,
    "start_time": "2023-02-09T17:55:07.336Z"
   },
   {
    "duration": 13,
    "start_time": "2023-02-09T17:55:07.351Z"
   },
   {
    "duration": 35,
    "start_time": "2023-02-09T17:55:07.367Z"
   },
   {
    "duration": 106,
    "start_time": "2023-02-09T19:52:15.418Z"
   },
   {
    "duration": 4,
    "start_time": "2023-02-09T20:16:44.541Z"
   },
   {
    "duration": 5,
    "start_time": "2023-02-09T20:16:46.197Z"
   },
   {
    "duration": 9,
    "start_time": "2023-02-09T20:19:29.306Z"
   },
   {
    "duration": 26,
    "start_time": "2023-02-09T20:22:32.664Z"
   },
   {
    "duration": 159,
    "start_time": "2023-02-09T20:23:26.997Z"
   },
   {
    "duration": 24,
    "start_time": "2023-02-09T20:23:49.725Z"
   },
   {
    "duration": 20,
    "start_time": "2023-02-09T20:24:25.026Z"
   },
   {
    "duration": 4,
    "start_time": "2023-02-09T20:30:52.031Z"
   },
   {
    "duration": 11,
    "start_time": "2023-02-09T20:30:53.727Z"
   },
   {
    "duration": 15,
    "start_time": "2023-02-09T20:42:49.038Z"
   },
   {
    "duration": 5,
    "start_time": "2023-02-09T20:42:54.193Z"
   },
   {
    "duration": 31,
    "start_time": "2023-02-09T20:42:55.767Z"
   },
   {
    "duration": 7,
    "start_time": "2023-02-09T20:43:32.791Z"
   },
   {
    "duration": 48,
    "start_time": "2023-02-09T20:43:32.800Z"
   },
   {
    "duration": 8,
    "start_time": "2023-02-09T20:43:32.849Z"
   },
   {
    "duration": 26,
    "start_time": "2023-02-09T20:43:32.859Z"
   },
   {
    "duration": 26,
    "start_time": "2023-02-09T20:43:32.892Z"
   },
   {
    "duration": 5,
    "start_time": "2023-02-09T20:43:32.920Z"
   },
   {
    "duration": 9,
    "start_time": "2023-02-09T20:43:32.927Z"
   },
   {
    "duration": 13,
    "start_time": "2023-02-09T20:43:32.938Z"
   },
   {
    "duration": 4,
    "start_time": "2023-02-09T20:43:32.953Z"
   },
   {
    "duration": 20,
    "start_time": "2023-02-09T20:43:37.393Z"
   },
   {
    "duration": 3,
    "start_time": "2023-02-09T20:44:37.910Z"
   },
   {
    "duration": 40,
    "start_time": "2023-02-09T20:44:37.916Z"
   },
   {
    "duration": 22,
    "start_time": "2023-02-09T20:44:37.958Z"
   },
   {
    "duration": 33,
    "start_time": "2023-02-09T20:44:37.984Z"
   },
   {
    "duration": 15,
    "start_time": "2023-02-09T20:44:38.020Z"
   },
   {
    "duration": 4,
    "start_time": "2023-02-09T20:44:38.036Z"
   },
   {
    "duration": 7,
    "start_time": "2023-02-09T20:44:38.041Z"
   },
   {
    "duration": 11,
    "start_time": "2023-02-09T20:44:38.050Z"
   },
   {
    "duration": 4,
    "start_time": "2023-02-09T20:44:38.062Z"
   },
   {
    "duration": 13,
    "start_time": "2023-02-09T20:44:41.034Z"
   },
   {
    "duration": 8,
    "start_time": "2023-02-09T20:44:56.098Z"
   },
   {
    "duration": 39,
    "start_time": "2023-02-09T20:44:56.107Z"
   },
   {
    "duration": 7,
    "start_time": "2023-02-09T20:44:56.148Z"
   },
   {
    "duration": 19,
    "start_time": "2023-02-09T20:44:56.157Z"
   },
   {
    "duration": 45,
    "start_time": "2023-02-09T20:44:56.178Z"
   },
   {
    "duration": 4,
    "start_time": "2023-02-09T20:44:56.225Z"
   },
   {
    "duration": 10,
    "start_time": "2023-02-09T20:44:56.230Z"
   },
   {
    "duration": 14,
    "start_time": "2023-02-09T20:44:56.242Z"
   },
   {
    "duration": 4,
    "start_time": "2023-02-09T20:44:56.257Z"
   },
   {
    "duration": 14,
    "start_time": "2023-02-09T20:45:00.319Z"
   },
   {
    "duration": 4,
    "start_time": "2023-02-09T20:45:26.857Z"
   },
   {
    "duration": 60,
    "start_time": "2023-02-09T20:45:26.893Z"
   },
   {
    "duration": 8,
    "start_time": "2023-02-09T20:45:26.955Z"
   },
   {
    "duration": 50,
    "start_time": "2023-02-09T20:45:26.964Z"
   },
   {
    "duration": 25,
    "start_time": "2023-02-09T20:45:27.016Z"
   },
   {
    "duration": 6,
    "start_time": "2023-02-09T20:45:27.043Z"
   },
   {
    "duration": 11,
    "start_time": "2023-02-09T20:45:27.050Z"
   },
   {
    "duration": 47,
    "start_time": "2023-02-09T20:45:27.063Z"
   },
   {
    "duration": 5,
    "start_time": "2023-02-09T20:45:27.112Z"
   },
   {
    "duration": 16,
    "start_time": "2023-02-09T20:45:31.123Z"
   },
   {
    "duration": 6,
    "start_time": "2023-02-09T20:45:45.299Z"
   },
   {
    "duration": 45,
    "start_time": "2023-02-09T20:45:45.307Z"
   },
   {
    "duration": 9,
    "start_time": "2023-02-09T20:45:45.354Z"
   },
   {
    "duration": 51,
    "start_time": "2023-02-09T20:45:45.364Z"
   },
   {
    "duration": 14,
    "start_time": "2023-02-09T20:45:45.417Z"
   },
   {
    "duration": 4,
    "start_time": "2023-02-09T20:45:45.433Z"
   },
   {
    "duration": 10,
    "start_time": "2023-02-09T20:45:45.438Z"
   },
   {
    "duration": 13,
    "start_time": "2023-02-09T20:45:45.450Z"
   },
   {
    "duration": 8,
    "start_time": "2023-02-09T20:45:45.465Z"
   },
   {
    "duration": 29,
    "start_time": "2023-02-09T20:45:49.563Z"
   },
   {
    "duration": 3,
    "start_time": "2023-02-09T20:47:51.056Z"
   },
   {
    "duration": 30,
    "start_time": "2023-02-09T20:47:52.761Z"
   },
   {
    "duration": 3,
    "start_time": "2023-02-09T20:48:41.311Z"
   },
   {
    "duration": 35,
    "start_time": "2023-02-09T20:48:41.605Z"
   },
   {
    "duration": 8,
    "start_time": "2023-02-09T20:48:41.642Z"
   },
   {
    "duration": 10,
    "start_time": "2023-02-09T20:48:41.652Z"
   },
   {
    "duration": 21,
    "start_time": "2023-02-09T20:48:41.663Z"
   },
   {
    "duration": 37,
    "start_time": "2023-02-09T20:48:41.692Z"
   },
   {
    "duration": 9,
    "start_time": "2023-02-09T20:48:41.730Z"
   },
   {
    "duration": 9,
    "start_time": "2023-02-09T20:48:41.741Z"
   },
   {
    "duration": 7,
    "start_time": "2023-02-09T20:48:49.596Z"
   },
   {
    "duration": 15,
    "start_time": "2023-02-09T20:48:53.813Z"
   },
   {
    "duration": 7,
    "start_time": "2023-02-09T20:50:28.395Z"
   },
   {
    "duration": 40,
    "start_time": "2023-02-09T20:50:28.407Z"
   },
   {
    "duration": 8,
    "start_time": "2023-02-09T20:50:28.448Z"
   },
   {
    "duration": 15,
    "start_time": "2023-02-09T20:50:28.458Z"
   },
   {
    "duration": 30,
    "start_time": "2023-02-09T20:50:28.476Z"
   },
   {
    "duration": 12,
    "start_time": "2023-02-09T20:50:28.508Z"
   },
   {
    "duration": 7,
    "start_time": "2023-02-09T20:50:28.521Z"
   },
   {
    "duration": 12,
    "start_time": "2023-02-09T20:50:28.529Z"
   },
   {
    "duration": 3,
    "start_time": "2023-02-09T20:50:28.543Z"
   },
   {
    "duration": 17,
    "start_time": "2023-02-09T20:50:33.697Z"
   },
   {
    "duration": 6,
    "start_time": "2023-02-09T20:50:54.117Z"
   },
   {
    "duration": 10,
    "start_time": "2023-02-09T20:50:56.080Z"
   },
   {
    "duration": 3,
    "start_time": "2023-02-09T20:51:45.823Z"
   },
   {
    "duration": 6,
    "start_time": "2023-02-09T20:53:26.763Z"
   },
   {
    "duration": 11,
    "start_time": "2023-02-09T20:53:46.704Z"
   },
   {
    "duration": 6,
    "start_time": "2023-02-09T20:54:38.796Z"
   },
   {
    "duration": 55,
    "start_time": "2023-02-09T20:54:38.803Z"
   },
   {
    "duration": 27,
    "start_time": "2023-02-09T20:54:38.859Z"
   },
   {
    "duration": 31,
    "start_time": "2023-02-09T20:54:38.894Z"
   },
   {
    "duration": 15,
    "start_time": "2023-02-09T20:54:38.928Z"
   },
   {
    "duration": 4,
    "start_time": "2023-02-09T20:54:38.944Z"
   },
   {
    "duration": 15,
    "start_time": "2023-02-09T20:54:38.949Z"
   },
   {
    "duration": 55,
    "start_time": "2023-02-09T20:54:38.965Z"
   },
   {
    "duration": 18,
    "start_time": "2023-02-09T20:54:39.022Z"
   },
   {
    "duration": 31,
    "start_time": "2023-02-09T20:54:39.042Z"
   },
   {
    "duration": 33,
    "start_time": "2023-02-09T20:54:39.077Z"
   },
   {
    "duration": 21,
    "start_time": "2023-02-09T20:54:39.111Z"
   },
   {
    "duration": 13,
    "start_time": "2023-02-09T20:55:26.093Z"
   },
   {
    "duration": 3,
    "start_time": "2023-02-09T21:02:43.458Z"
   },
   {
    "duration": 67,
    "start_time": "2023-02-09T21:02:43.464Z"
   },
   {
    "duration": 8,
    "start_time": "2023-02-09T21:02:43.532Z"
   },
   {
    "duration": 12,
    "start_time": "2023-02-09T21:02:43.542Z"
   },
   {
    "duration": 15,
    "start_time": "2023-02-09T21:02:43.556Z"
   },
   {
    "duration": 4,
    "start_time": "2023-02-09T21:02:43.573Z"
   },
   {
    "duration": 41,
    "start_time": "2023-02-09T21:02:43.578Z"
   },
   {
    "duration": 12,
    "start_time": "2023-02-09T21:02:43.621Z"
   },
   {
    "duration": 3,
    "start_time": "2023-02-09T21:02:43.635Z"
   },
   {
    "duration": 24,
    "start_time": "2023-02-09T21:02:43.639Z"
   },
   {
    "duration": 5,
    "start_time": "2023-02-09T21:02:43.665Z"
   },
   {
    "duration": 35,
    "start_time": "2023-02-09T21:02:43.673Z"
   },
   {
    "duration": 9,
    "start_time": "2023-02-09T21:03:52.348Z"
   },
   {
    "duration": 9,
    "start_time": "2023-02-09T21:04:09.848Z"
   },
   {
    "duration": 12,
    "start_time": "2023-02-09T21:04:24.945Z"
   },
   {
    "duration": 11,
    "start_time": "2023-02-09T21:08:42.065Z"
   },
   {
    "duration": 4,
    "start_time": "2023-02-09T21:36:52.069Z"
   },
   {
    "duration": 39,
    "start_time": "2023-02-09T21:36:52.074Z"
   },
   {
    "duration": 7,
    "start_time": "2023-02-09T21:36:52.115Z"
   },
   {
    "duration": 9,
    "start_time": "2023-02-09T21:36:52.124Z"
   },
   {
    "duration": 11,
    "start_time": "2023-02-09T21:36:52.135Z"
   },
   {
    "duration": 5,
    "start_time": "2023-02-09T21:36:52.182Z"
   },
   {
    "duration": 5,
    "start_time": "2023-02-09T21:36:52.188Z"
   },
   {
    "duration": 10,
    "start_time": "2023-02-09T21:36:52.195Z"
   },
   {
    "duration": 8,
    "start_time": "2023-02-09T21:36:52.206Z"
   },
   {
    "duration": 23,
    "start_time": "2023-02-09T21:36:52.216Z"
   },
   {
    "duration": 5,
    "start_time": "2023-02-09T21:36:52.240Z"
   },
   {
    "duration": 12,
    "start_time": "2023-02-09T21:36:52.246Z"
   },
   {
    "duration": 1137,
    "start_time": "2023-02-10T07:26:00.717Z"
   },
   {
    "duration": 109,
    "start_time": "2023-02-10T07:26:01.856Z"
   },
   {
    "duration": 15,
    "start_time": "2023-02-10T07:26:01.967Z"
   },
   {
    "duration": 32,
    "start_time": "2023-02-10T07:26:01.984Z"
   },
   {
    "duration": 25,
    "start_time": "2023-02-10T07:26:02.018Z"
   },
   {
    "duration": 11,
    "start_time": "2023-02-10T07:26:02.045Z"
   },
   {
    "duration": 39,
    "start_time": "2023-02-10T07:26:02.057Z"
   },
   {
    "duration": 42,
    "start_time": "2023-02-10T07:26:02.097Z"
   },
   {
    "duration": 18,
    "start_time": "2023-02-10T07:26:02.141Z"
   },
   {
    "duration": 40,
    "start_time": "2023-02-10T07:26:02.161Z"
   },
   {
    "duration": 5,
    "start_time": "2023-02-10T07:26:02.202Z"
   },
   {
    "duration": 18,
    "start_time": "2023-02-10T07:26:02.209Z"
   },
   {
    "duration": 14,
    "start_time": "2023-02-10T07:31:15.889Z"
   },
   {
    "duration": 69,
    "start_time": "2023-02-10T07:35:17.616Z"
   },
   {
    "duration": 4,
    "start_time": "2023-02-10T07:35:40.255Z"
   },
   {
    "duration": 142,
    "start_time": "2023-02-10T07:35:46.215Z"
   },
   {
    "duration": 6,
    "start_time": "2023-02-10T07:36:13.756Z"
   },
   {
    "duration": 23,
    "start_time": "2023-02-10T07:36:15.100Z"
   },
   {
    "duration": 6,
    "start_time": "2023-02-10T07:37:56.645Z"
   },
   {
    "duration": 28,
    "start_time": "2023-02-10T07:38:09.576Z"
   },
   {
    "duration": 23,
    "start_time": "2023-02-10T07:38:20.940Z"
   },
   {
    "duration": 17,
    "start_time": "2023-02-10T07:38:27.935Z"
   },
   {
    "duration": 24,
    "start_time": "2023-02-10T07:38:31.220Z"
   },
   {
    "duration": 21,
    "start_time": "2023-02-10T07:38:33.120Z"
   },
   {
    "duration": 5,
    "start_time": "2023-02-10T07:40:37.766Z"
   },
   {
    "duration": 30,
    "start_time": "2023-02-10T07:40:39.176Z"
   },
   {
    "duration": 10,
    "start_time": "2023-02-10T07:41:45.376Z"
   },
   {
    "duration": 1084,
    "start_time": "2023-02-10T07:58:34.455Z"
   },
   {
    "duration": 39,
    "start_time": "2023-02-10T07:58:35.541Z"
   },
   {
    "duration": 18,
    "start_time": "2023-02-10T07:58:35.582Z"
   },
   {
    "duration": 30,
    "start_time": "2023-02-10T07:58:35.604Z"
   },
   {
    "duration": 16,
    "start_time": "2023-02-10T07:58:35.636Z"
   },
   {
    "duration": 6,
    "start_time": "2023-02-10T07:58:35.654Z"
   },
   {
    "duration": 11,
    "start_time": "2023-02-10T07:58:35.662Z"
   },
   {
    "duration": 22,
    "start_time": "2023-02-10T07:58:35.674Z"
   },
   {
    "duration": 25,
    "start_time": "2023-02-10T07:58:35.697Z"
   },
   {
    "duration": 31,
    "start_time": "2023-02-10T07:58:35.724Z"
   },
   {
    "duration": 5,
    "start_time": "2023-02-10T07:58:35.756Z"
   },
   {
    "duration": 21,
    "start_time": "2023-02-10T07:58:35.763Z"
   },
   {
    "duration": 14,
    "start_time": "2023-02-10T07:59:42.235Z"
   },
   {
    "duration": 1310,
    "start_time": "2023-02-10T08:01:22.625Z"
   },
   {
    "duration": 40,
    "start_time": "2023-02-10T08:01:23.937Z"
   },
   {
    "duration": 20,
    "start_time": "2023-02-10T08:01:23.979Z"
   },
   {
    "duration": 12,
    "start_time": "2023-02-10T08:01:24.001Z"
   },
   {
    "duration": 18,
    "start_time": "2023-02-10T08:01:24.016Z"
   },
   {
    "duration": 7,
    "start_time": "2023-02-10T08:01:24.036Z"
   },
   {
    "duration": 11,
    "start_time": "2023-02-10T08:01:24.045Z"
   },
   {
    "duration": 45,
    "start_time": "2023-02-10T08:01:24.057Z"
   },
   {
    "duration": 14,
    "start_time": "2023-02-10T08:01:24.104Z"
   },
   {
    "duration": 31,
    "start_time": "2023-02-10T08:01:24.120Z"
   },
   {
    "duration": 6,
    "start_time": "2023-02-10T08:01:24.154Z"
   },
   {
    "duration": 29,
    "start_time": "2023-02-10T08:01:24.162Z"
   },
   {
    "duration": 1985,
    "start_time": "2023-02-10T08:27:44.232Z"
   },
   {
    "duration": 37,
    "start_time": "2023-02-10T08:27:46.219Z"
   },
   {
    "duration": 15,
    "start_time": "2023-02-10T08:28:16.892Z"
   },
   {
    "duration": 12,
    "start_time": "2023-02-10T08:28:17.311Z"
   },
   {
    "duration": 14,
    "start_time": "2023-02-10T08:28:17.723Z"
   },
   {
    "duration": 5,
    "start_time": "2023-02-10T08:33:02.364Z"
   },
   {
    "duration": 5,
    "start_time": "2023-02-10T08:33:03.596Z"
   },
   {
    "duration": 9,
    "start_time": "2023-02-10T08:33:04.025Z"
   },
   {
    "duration": 4,
    "start_time": "2023-02-10T08:33:24.828Z"
   },
   {
    "duration": 23,
    "start_time": "2023-02-10T08:33:58.784Z"
   },
   {
    "duration": 6,
    "start_time": "2023-02-10T08:34:01.767Z"
   },
   {
    "duration": 13,
    "start_time": "2023-02-10T08:34:02.455Z"
   },
   {
    "duration": 1633,
    "start_time": "2023-02-10T12:38:13.536Z"
   },
   {
    "duration": 124,
    "start_time": "2023-02-10T12:38:18.248Z"
   },
   {
    "duration": 16,
    "start_time": "2023-02-10T12:38:34.247Z"
   },
   {
    "duration": 2,
    "start_time": "2023-02-10T12:38:46.493Z"
   },
   {
    "duration": 102,
    "start_time": "2023-02-10T12:38:46.846Z"
   },
   {
    "duration": 12,
    "start_time": "2023-02-10T12:38:48.374Z"
   },
   {
    "duration": 11,
    "start_time": "2023-02-10T12:38:49.567Z"
   },
   {
    "duration": 15,
    "start_time": "2023-02-10T12:38:51.377Z"
   },
   {
    "duration": 963,
    "start_time": "2023-02-10T12:38:53.846Z"
   },
   {
    "duration": 811,
    "start_time": "2023-02-10T12:39:04.346Z"
   },
   {
    "duration": 742,
    "start_time": "2023-02-10T12:39:40.800Z"
   },
   {
    "duration": 6775,
    "start_time": "2023-02-10T12:43:09.275Z"
   },
   {
    "duration": 4,
    "start_time": "2023-02-10T12:43:44.610Z"
   },
   {
    "duration": 6896,
    "start_time": "2023-02-10T12:43:55.645Z"
   },
   {
    "duration": 670,
    "start_time": "2023-02-10T12:45:00.167Z"
   },
   {
    "duration": 9,
    "start_time": "2023-02-10T12:46:18.950Z"
   },
   {
    "duration": 23,
    "start_time": "2023-02-10T12:47:40.748Z"
   },
   {
    "duration": 776,
    "start_time": "2023-02-10T12:48:59.986Z"
   },
   {
    "duration": 678,
    "start_time": "2023-02-10T12:53:13.813Z"
   },
   {
    "duration": 714,
    "start_time": "2023-02-10T12:53:24.180Z"
   },
   {
    "duration": 1337,
    "start_time": "2023-02-10T14:13:49.144Z"
   },
   {
    "duration": 32,
    "start_time": "2023-02-10T14:13:50.483Z"
   },
   {
    "duration": 12,
    "start_time": "2023-02-10T14:13:50.516Z"
   },
   {
    "duration": 9,
    "start_time": "2023-02-10T14:13:50.530Z"
   },
   {
    "duration": 22,
    "start_time": "2023-02-10T14:13:50.540Z"
   },
   {
    "duration": 21,
    "start_time": "2023-02-10T14:13:50.564Z"
   },
   {
    "duration": 623,
    "start_time": "2023-02-10T14:13:50.586Z"
   },
   {
    "duration": 10,
    "start_time": "2023-02-10T14:13:51.211Z"
   },
   {
    "duration": 7,
    "start_time": "2023-02-10T14:13:51.222Z"
   },
   {
    "duration": 24,
    "start_time": "2023-02-10T14:13:51.231Z"
   },
   {
    "duration": 9,
    "start_time": "2023-02-10T14:13:51.257Z"
   },
   {
    "duration": 3,
    "start_time": "2023-02-10T14:13:51.268Z"
   },
   {
    "duration": 20,
    "start_time": "2023-02-10T14:13:51.272Z"
   },
   {
    "duration": 4,
    "start_time": "2023-02-10T14:13:51.294Z"
   },
   {
    "duration": 102,
    "start_time": "2023-02-10T14:13:51.300Z"
   },
   {
    "duration": 1399,
    "start_time": "2023-02-10T14:21:42.524Z"
   },
   {
    "duration": 33,
    "start_time": "2023-02-10T14:21:43.925Z"
   },
   {
    "duration": 11,
    "start_time": "2023-02-10T14:21:43.960Z"
   },
   {
    "duration": 17,
    "start_time": "2023-02-10T14:21:43.972Z"
   },
   {
    "duration": 14,
    "start_time": "2023-02-10T14:21:43.990Z"
   },
   {
    "duration": 22,
    "start_time": "2023-02-10T14:21:44.005Z"
   },
   {
    "duration": 620,
    "start_time": "2023-02-10T14:21:44.029Z"
   },
   {
    "duration": 10,
    "start_time": "2023-02-10T14:21:44.652Z"
   },
   {
    "duration": 4,
    "start_time": "2023-02-10T14:21:44.664Z"
   },
   {
    "duration": 10,
    "start_time": "2023-02-10T14:21:44.670Z"
   },
   {
    "duration": 10,
    "start_time": "2023-02-10T14:21:44.681Z"
   },
   {
    "duration": 3,
    "start_time": "2023-02-10T14:21:44.692Z"
   },
   {
    "duration": 102,
    "start_time": "2023-02-10T14:21:44.697Z"
   },
   {
    "duration": 5,
    "start_time": "2023-02-10T14:21:44.802Z"
   },
   {
    "duration": 12,
    "start_time": "2023-02-10T14:21:44.808Z"
   }
  ],
  "kernelspec": {
   "display_name": "Python 3 (ipykernel)",
   "language": "python",
   "name": "python3"
  },
  "language_info": {
   "codemirror_mode": {
    "name": "ipython",
    "version": 3
   },
   "file_extension": ".py",
   "mimetype": "text/x-python",
   "name": "python",
   "nbconvert_exporter": "python",
   "pygments_lexer": "ipython3",
   "version": "3.9.13"
  },
  "toc": {
   "base_numbering": 1,
   "nav_menu": {},
   "number_sections": true,
   "sideBar": true,
   "skip_h1_title": true,
   "title_cell": "Содержание",
   "title_sidebar": "Contents",
   "toc_cell": true,
   "toc_position": {
    "height": "calc(100% - 180px)",
    "left": "10px",
    "top": "150px",
    "width": "169.65px"
   },
   "toc_section_display": true,
   "toc_window_display": true
  }
 },
 "nbformat": 4,
 "nbformat_minor": 2
}
