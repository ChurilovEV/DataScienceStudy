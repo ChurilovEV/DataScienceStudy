{
 "cells": [
  {
   "cell_type": "markdown",
   "metadata": {},
   "source": [
    "# Определение стоимости автомобилей"
   ]
  },
  {
   "cell_type": "markdown",
   "metadata": {},
   "source": [
    "<a id=0></a>\n",
    "[Содержание](#0)\n",
    "\n",
    "[1. Описание проекта](#1)\n",
    "\n",
    "[2. Анализ данных](#2)\n",
    "\n",
    "[3. Подготовка данных](#3)\n",
    "\n",
    "[4. Обучение моделей](#4)\n",
    "\n",
    "[5. Тестирование модели](#5)\n",
    "\n",
    "[6. Общий вывод](#6)"
   ]
  },
  {
   "cell_type": "markdown",
   "metadata": {},
   "source": [
    "<a id=1></a>\n",
    "## 1. Описание проекта\n",
    "\n",
    "Сервис по продаже автомобилей с пробегом «Не бит, не крашен» разрабатывает приложение для привлечения новых клиентов. В нём можно быстро узнать рыночную стоимость своего автомобиля. В вашем распоряжении исторические данные: технические характеристики, комплектации и цены автомобилей.\n",
    "\n",
    "**Цель проекта:**\n",
    "\n",
    "Построить модель для определения стоимости автомобиля по входным данным.\n",
    "\n",
    "Заказчику важны:\n",
    "\n",
    "- Качество предсказания;\n",
    "- Скорость предсказания;\n",
    "- Время обучения.\n",
    "\n",
    "**Данные:**\n",
    "\n",
    "Данные находятся в файле:\n",
    "`/datasets/autos.csv`\n",
    "\n",
    "Признаки:\n",
    "- `DateCrawled` — дата скачивания анкеты из базы\n",
    "- `VehicleType` — тип автомобильного кузова\n",
    "- `RegistrationYear` — год регистрации автомобиля\n",
    "- `Gearbox` — тип коробки передач\n",
    "- `Power` — мощность (л. с.)\n",
    "- `Model` — модель автомобиля\n",
    "- `Kilometer` — пробег (км)\n",
    "- `RegistrationMonth` — месяц регистрации автомобиля\n",
    "- `FuelType` — тип топлива\n",
    "- `Brand` — марка автомобиля\n",
    "- `Repaired` — была машина в ремонте или нет\n",
    "- `DateCreated` — дата создания анкеты\n",
    "- `NumberOfPictures` — количество фотографий автомобиля\n",
    "- `PostalCode` — почтовый индекс владельца анкеты (пользователя)\n",
    "- `LastSeen` — дата последней активности пользователя\n",
    "\n",
    "Целевой признак:\n",
    "- `Price` — цена (евро)"
   ]
  },
  {
   "cell_type": "markdown",
   "metadata": {},
   "source": [
    "**План работы:**\n",
    "\n",
    "1. Загрузить и изучить данные.\n",
    "\n",
    "2. Заполнить пропущенные значения и обработать аномалии в столбцах. Если среди признаков имеются неинформативные, удалить их.\n",
    "\n",
    "3. Подготовить выборки для обучения моделей.\n",
    "\n",
    "4. Обучить разные модели, одна из которых — LightGBM, как минимум одна — не бустинг. Для каждой модели подобрать гиперпараметры.\n",
    "\n",
    "5. Проанализировать время обучения, время предсказания и качество моделей.\n",
    "\n",
    "6. Опираясь на критерии заказчика, выбрать лучшую модель, проверить её качество на тестовой выборке.\n",
    "\n",
    "7. Сделать вывод.\n",
    "\n",
    "**Примечания:**\n",
    "\n",
    "- Для оценки качества моделей применить метрику RMSE.\n",
    "- Значение метрики RMSE должно быть меньше 2500.\n",
    "- Модель градиентного бустинга может долго обучаться, поэтому изменяем у неё только два-три параметра."
   ]
  },
  {
   "cell_type": "markdown",
   "metadata": {},
   "source": [
    "<a id=2></a>\n",
    "[Содержание](#0)\n",
    "## 2. Анализ данных"
   ]
  },
  {
   "cell_type": "code",
   "execution_count": 64,
   "metadata": {},
   "outputs": [],
   "source": [
    "import pandas as pd\n",
    "import numpy as np\n",
    "from sklearn.model_selection import train_test_split, GridSearchCV, KFold\n",
    "from sklearn.preprocessing import OrdinalEncoder, OneHotEncoder\n",
    "from sklearn.metrics import mean_squared_error\n",
    "from sklearn.tree import DecisionTreeRegressor\n",
    "from catboost import CatBoostRegressor\n",
    "from lightgbm import LGBMRegressor\n",
    "import matplotlib.pyplot as plt\n",
    "import seaborn as sns\n",
    "import warnings\n",
    "warnings.filterwarnings('ignore')\n",
    "\n",
    "RND_STATE = 28022023"
   ]
  },
  {
   "cell_type": "code",
   "execution_count": 65,
   "metadata": {},
   "outputs": [
    {
     "name": "stdout",
     "output_type": "stream",
     "text": [
      "<class 'pandas.core.frame.DataFrame'>\n",
      "RangeIndex: 354369 entries, 0 to 354368\n",
      "Data columns (total 16 columns):\n",
      " #   Column             Non-Null Count   Dtype \n",
      "---  ------             --------------   ----- \n",
      " 0   DateCrawled        354369 non-null  object\n",
      " 1   Price              354369 non-null  int64 \n",
      " 2   VehicleType        316879 non-null  object\n",
      " 3   RegistrationYear   354369 non-null  int64 \n",
      " 4   Gearbox            334536 non-null  object\n",
      " 5   Power              354369 non-null  int64 \n",
      " 6   Model              334664 non-null  object\n",
      " 7   Kilometer          354369 non-null  int64 \n",
      " 8   RegistrationMonth  354369 non-null  int64 \n",
      " 9   FuelType           321474 non-null  object\n",
      " 10  Brand              354369 non-null  object\n",
      " 11  Repaired           283215 non-null  object\n",
      " 12  DateCreated        354369 non-null  object\n",
      " 13  NumberOfPictures   354369 non-null  int64 \n",
      " 14  PostalCode         354369 non-null  int64 \n",
      " 15  LastSeen           354369 non-null  object\n",
      "dtypes: int64(7), object(9)\n",
      "memory usage: 43.3+ MB\n"
     ]
    }
   ],
   "source": [
    "try:\n",
    "    cars_df = pd.read_csv('/datasets/autos.csv')\n",
    "except:\n",
    "    cars_df = pd.read_csv('https://code.s3.yandex.net/datasets/autos.csv')\n",
    "\n",
    "cars_df.info()"
   ]
  },
  {
   "cell_type": "markdown",
   "metadata": {},
   "source": [
    "Посмотрим количество пропусков в процентах и в абсолютных величинах:"
   ]
  },
  {
   "cell_type": "code",
   "execution_count": 66,
   "metadata": {},
   "outputs": [
    {
     "data": {
      "text/html": [
       "<div>\n",
       "<style scoped>\n",
       "    .dataframe tbody tr th:only-of-type {\n",
       "        vertical-align: middle;\n",
       "    }\n",
       "\n",
       "    .dataframe tbody tr th {\n",
       "        vertical-align: top;\n",
       "    }\n",
       "\n",
       "    .dataframe thead th {\n",
       "        text-align: right;\n",
       "    }\n",
       "</style>\n",
       "<table border=\"1\" class=\"dataframe\">\n",
       "  <thead>\n",
       "    <tr style=\"text-align: right;\">\n",
       "      <th></th>\n",
       "      <th>%</th>\n",
       "      <th>abs</th>\n",
       "    </tr>\n",
       "  </thead>\n",
       "  <tbody>\n",
       "    <tr>\n",
       "      <th>Repaired</th>\n",
       "      <td>0.200791</td>\n",
       "      <td>71154</td>\n",
       "    </tr>\n",
       "    <tr>\n",
       "      <th>VehicleType</th>\n",
       "      <td>0.105794</td>\n",
       "      <td>37490</td>\n",
       "    </tr>\n",
       "    <tr>\n",
       "      <th>FuelType</th>\n",
       "      <td>0.092827</td>\n",
       "      <td>32895</td>\n",
       "    </tr>\n",
       "    <tr>\n",
       "      <th>Gearbox</th>\n",
       "      <td>0.055967</td>\n",
       "      <td>19833</td>\n",
       "    </tr>\n",
       "    <tr>\n",
       "      <th>Model</th>\n",
       "      <td>0.055606</td>\n",
       "      <td>19705</td>\n",
       "    </tr>\n",
       "  </tbody>\n",
       "</table>\n",
       "</div>"
      ],
      "text/plain": [
       "                    %    abs\n",
       "Repaired     0.200791  71154\n",
       "VehicleType  0.105794  37490\n",
       "FuelType     0.092827  32895\n",
       "Gearbox      0.055967  19833\n",
       "Model        0.055606  19705"
      ]
     },
     "execution_count": 66,
     "metadata": {},
     "output_type": "execute_result"
    }
   ],
   "source": [
    "#display(pd.DataFrame(round(df_train.isna().mean()*100,)).style.background_gradient('coolwarm'))\n",
    "def na_info(df):\n",
    "    na_info = (df.isna() | df.isnull()).sum()\n",
    "    res = (pd.concat([na_info / df.shape[0], na_info], axis=1,  keys = ['%', 'abs'])\n",
    "           .sort_values('%', ascending = False))\n",
    "    return res\n",
    "\n",
    "na_info(cars_df).head()"
   ]
  },
  {
   "cell_type": "markdown",
   "metadata": {},
   "source": [
    "Пропуски в столбцах:\n",
    "\n",
    "- Repaired\n",
    "- VehicleType\n",
    "- FuelType\n",
    "- Gearbox\n",
    "- Model\n",
    "\n",
    "В дальнейшем их обработаем.\n",
    "\n",
    "Посмотрим данные в датафреме:"
   ]
  },
  {
   "cell_type": "code",
   "execution_count": 67,
   "metadata": {},
   "outputs": [
    {
     "data": {
      "text/html": [
       "<div>\n",
       "<style scoped>\n",
       "    .dataframe tbody tr th:only-of-type {\n",
       "        vertical-align: middle;\n",
       "    }\n",
       "\n",
       "    .dataframe tbody tr th {\n",
       "        vertical-align: top;\n",
       "    }\n",
       "\n",
       "    .dataframe thead th {\n",
       "        text-align: right;\n",
       "    }\n",
       "</style>\n",
       "<table border=\"1\" class=\"dataframe\">\n",
       "  <thead>\n",
       "    <tr style=\"text-align: right;\">\n",
       "      <th></th>\n",
       "      <th>DateCrawled</th>\n",
       "      <th>Price</th>\n",
       "      <th>VehicleType</th>\n",
       "      <th>RegistrationYear</th>\n",
       "      <th>Gearbox</th>\n",
       "      <th>Power</th>\n",
       "      <th>Model</th>\n",
       "      <th>Kilometer</th>\n",
       "      <th>RegistrationMonth</th>\n",
       "      <th>FuelType</th>\n",
       "      <th>Brand</th>\n",
       "      <th>Repaired</th>\n",
       "      <th>DateCreated</th>\n",
       "      <th>NumberOfPictures</th>\n",
       "      <th>PostalCode</th>\n",
       "      <th>LastSeen</th>\n",
       "    </tr>\n",
       "  </thead>\n",
       "  <tbody>\n",
       "    <tr>\n",
       "      <th>0</th>\n",
       "      <td>2016-03-24 11:52:17</td>\n",
       "      <td>480</td>\n",
       "      <td>NaN</td>\n",
       "      <td>1993</td>\n",
       "      <td>manual</td>\n",
       "      <td>0</td>\n",
       "      <td>golf</td>\n",
       "      <td>150000</td>\n",
       "      <td>0</td>\n",
       "      <td>petrol</td>\n",
       "      <td>volkswagen</td>\n",
       "      <td>NaN</td>\n",
       "      <td>2016-03-24 00:00:00</td>\n",
       "      <td>0</td>\n",
       "      <td>70435</td>\n",
       "      <td>2016-04-07 03:16:57</td>\n",
       "    </tr>\n",
       "    <tr>\n",
       "      <th>1</th>\n",
       "      <td>2016-03-24 10:58:45</td>\n",
       "      <td>18300</td>\n",
       "      <td>coupe</td>\n",
       "      <td>2011</td>\n",
       "      <td>manual</td>\n",
       "      <td>190</td>\n",
       "      <td>NaN</td>\n",
       "      <td>125000</td>\n",
       "      <td>5</td>\n",
       "      <td>gasoline</td>\n",
       "      <td>audi</td>\n",
       "      <td>yes</td>\n",
       "      <td>2016-03-24 00:00:00</td>\n",
       "      <td>0</td>\n",
       "      <td>66954</td>\n",
       "      <td>2016-04-07 01:46:50</td>\n",
       "    </tr>\n",
       "    <tr>\n",
       "      <th>2</th>\n",
       "      <td>2016-03-14 12:52:21</td>\n",
       "      <td>9800</td>\n",
       "      <td>suv</td>\n",
       "      <td>2004</td>\n",
       "      <td>auto</td>\n",
       "      <td>163</td>\n",
       "      <td>grand</td>\n",
       "      <td>125000</td>\n",
       "      <td>8</td>\n",
       "      <td>gasoline</td>\n",
       "      <td>jeep</td>\n",
       "      <td>NaN</td>\n",
       "      <td>2016-03-14 00:00:00</td>\n",
       "      <td>0</td>\n",
       "      <td>90480</td>\n",
       "      <td>2016-04-05 12:47:46</td>\n",
       "    </tr>\n",
       "    <tr>\n",
       "      <th>3</th>\n",
       "      <td>2016-03-17 16:54:04</td>\n",
       "      <td>1500</td>\n",
       "      <td>small</td>\n",
       "      <td>2001</td>\n",
       "      <td>manual</td>\n",
       "      <td>75</td>\n",
       "      <td>golf</td>\n",
       "      <td>150000</td>\n",
       "      <td>6</td>\n",
       "      <td>petrol</td>\n",
       "      <td>volkswagen</td>\n",
       "      <td>no</td>\n",
       "      <td>2016-03-17 00:00:00</td>\n",
       "      <td>0</td>\n",
       "      <td>91074</td>\n",
       "      <td>2016-03-17 17:40:17</td>\n",
       "    </tr>\n",
       "    <tr>\n",
       "      <th>4</th>\n",
       "      <td>2016-03-31 17:25:20</td>\n",
       "      <td>3600</td>\n",
       "      <td>small</td>\n",
       "      <td>2008</td>\n",
       "      <td>manual</td>\n",
       "      <td>69</td>\n",
       "      <td>fabia</td>\n",
       "      <td>90000</td>\n",
       "      <td>7</td>\n",
       "      <td>gasoline</td>\n",
       "      <td>skoda</td>\n",
       "      <td>no</td>\n",
       "      <td>2016-03-31 00:00:00</td>\n",
       "      <td>0</td>\n",
       "      <td>60437</td>\n",
       "      <td>2016-04-06 10:17:21</td>\n",
       "    </tr>\n",
       "  </tbody>\n",
       "</table>\n",
       "</div>"
      ],
      "text/plain": [
       "           DateCrawled  Price VehicleType  RegistrationYear Gearbox  Power  \\\n",
       "0  2016-03-24 11:52:17    480         NaN              1993  manual      0   \n",
       "1  2016-03-24 10:58:45  18300       coupe              2011  manual    190   \n",
       "2  2016-03-14 12:52:21   9800         suv              2004    auto    163   \n",
       "3  2016-03-17 16:54:04   1500       small              2001  manual     75   \n",
       "4  2016-03-31 17:25:20   3600       small              2008  manual     69   \n",
       "\n",
       "   Model  Kilometer  RegistrationMonth  FuelType       Brand Repaired  \\\n",
       "0   golf     150000                  0    petrol  volkswagen      NaN   \n",
       "1    NaN     125000                  5  gasoline        audi      yes   \n",
       "2  grand     125000                  8  gasoline        jeep      NaN   \n",
       "3   golf     150000                  6    petrol  volkswagen       no   \n",
       "4  fabia      90000                  7  gasoline       skoda       no   \n",
       "\n",
       "           DateCreated  NumberOfPictures  PostalCode             LastSeen  \n",
       "0  2016-03-24 00:00:00                 0       70435  2016-04-07 03:16:57  \n",
       "1  2016-03-24 00:00:00                 0       66954  2016-04-07 01:46:50  \n",
       "2  2016-03-14 00:00:00                 0       90480  2016-04-05 12:47:46  \n",
       "3  2016-03-17 00:00:00                 0       91074  2016-03-17 17:40:17  \n",
       "4  2016-03-31 00:00:00                 0       60437  2016-04-06 10:17:21  "
      ]
     },
     "execution_count": 67,
     "metadata": {},
     "output_type": "execute_result"
    }
   ],
   "source": [
    "cars_df.head(5)"
   ]
  },
  {
   "cell_type": "markdown",
   "metadata": {},
   "source": [
    "Посмотрим граничные значения по столбцам:"
   ]
  },
  {
   "cell_type": "code",
   "execution_count": 68,
   "metadata": {},
   "outputs": [
    {
     "data": {
      "text/html": [
       "<div>\n",
       "<style scoped>\n",
       "    .dataframe tbody tr th:only-of-type {\n",
       "        vertical-align: middle;\n",
       "    }\n",
       "\n",
       "    .dataframe tbody tr th {\n",
       "        vertical-align: top;\n",
       "    }\n",
       "\n",
       "    .dataframe thead th {\n",
       "        text-align: right;\n",
       "    }\n",
       "</style>\n",
       "<table border=\"1\" class=\"dataframe\">\n",
       "  <thead>\n",
       "    <tr style=\"text-align: right;\">\n",
       "      <th></th>\n",
       "      <th>Price</th>\n",
       "      <th>RegistrationYear</th>\n",
       "      <th>Power</th>\n",
       "      <th>Kilometer</th>\n",
       "      <th>RegistrationMonth</th>\n",
       "      <th>NumberOfPictures</th>\n",
       "      <th>PostalCode</th>\n",
       "    </tr>\n",
       "  </thead>\n",
       "  <tbody>\n",
       "    <tr>\n",
       "      <th>count</th>\n",
       "      <td>354369.000000</td>\n",
       "      <td>354369.000000</td>\n",
       "      <td>354369.000000</td>\n",
       "      <td>354369.000000</td>\n",
       "      <td>354369.000000</td>\n",
       "      <td>354369.0</td>\n",
       "      <td>354369.000000</td>\n",
       "    </tr>\n",
       "    <tr>\n",
       "      <th>mean</th>\n",
       "      <td>4416.656776</td>\n",
       "      <td>2004.234448</td>\n",
       "      <td>110.094337</td>\n",
       "      <td>128211.172535</td>\n",
       "      <td>5.714645</td>\n",
       "      <td>0.0</td>\n",
       "      <td>50508.689087</td>\n",
       "    </tr>\n",
       "    <tr>\n",
       "      <th>std</th>\n",
       "      <td>4514.158514</td>\n",
       "      <td>90.227958</td>\n",
       "      <td>189.850405</td>\n",
       "      <td>37905.341530</td>\n",
       "      <td>3.726421</td>\n",
       "      <td>0.0</td>\n",
       "      <td>25783.096248</td>\n",
       "    </tr>\n",
       "    <tr>\n",
       "      <th>min</th>\n",
       "      <td>0.000000</td>\n",
       "      <td>1000.000000</td>\n",
       "      <td>0.000000</td>\n",
       "      <td>5000.000000</td>\n",
       "      <td>0.000000</td>\n",
       "      <td>0.0</td>\n",
       "      <td>1067.000000</td>\n",
       "    </tr>\n",
       "    <tr>\n",
       "      <th>25%</th>\n",
       "      <td>1050.000000</td>\n",
       "      <td>1999.000000</td>\n",
       "      <td>69.000000</td>\n",
       "      <td>125000.000000</td>\n",
       "      <td>3.000000</td>\n",
       "      <td>0.0</td>\n",
       "      <td>30165.000000</td>\n",
       "    </tr>\n",
       "    <tr>\n",
       "      <th>50%</th>\n",
       "      <td>2700.000000</td>\n",
       "      <td>2003.000000</td>\n",
       "      <td>105.000000</td>\n",
       "      <td>150000.000000</td>\n",
       "      <td>6.000000</td>\n",
       "      <td>0.0</td>\n",
       "      <td>49413.000000</td>\n",
       "    </tr>\n",
       "    <tr>\n",
       "      <th>75%</th>\n",
       "      <td>6400.000000</td>\n",
       "      <td>2008.000000</td>\n",
       "      <td>143.000000</td>\n",
       "      <td>150000.000000</td>\n",
       "      <td>9.000000</td>\n",
       "      <td>0.0</td>\n",
       "      <td>71083.000000</td>\n",
       "    </tr>\n",
       "    <tr>\n",
       "      <th>max</th>\n",
       "      <td>20000.000000</td>\n",
       "      <td>9999.000000</td>\n",
       "      <td>20000.000000</td>\n",
       "      <td>150000.000000</td>\n",
       "      <td>12.000000</td>\n",
       "      <td>0.0</td>\n",
       "      <td>99998.000000</td>\n",
       "    </tr>\n",
       "  </tbody>\n",
       "</table>\n",
       "</div>"
      ],
      "text/plain": [
       "               Price  RegistrationYear          Power      Kilometer  \\\n",
       "count  354369.000000     354369.000000  354369.000000  354369.000000   \n",
       "mean     4416.656776       2004.234448     110.094337  128211.172535   \n",
       "std      4514.158514         90.227958     189.850405   37905.341530   \n",
       "min         0.000000       1000.000000       0.000000    5000.000000   \n",
       "25%      1050.000000       1999.000000      69.000000  125000.000000   \n",
       "50%      2700.000000       2003.000000     105.000000  150000.000000   \n",
       "75%      6400.000000       2008.000000     143.000000  150000.000000   \n",
       "max     20000.000000       9999.000000   20000.000000  150000.000000   \n",
       "\n",
       "       RegistrationMonth  NumberOfPictures     PostalCode  \n",
       "count      354369.000000          354369.0  354369.000000  \n",
       "mean            5.714645               0.0   50508.689087  \n",
       "std             3.726421               0.0   25783.096248  \n",
       "min             0.000000               0.0    1067.000000  \n",
       "25%             3.000000               0.0   30165.000000  \n",
       "50%             6.000000               0.0   49413.000000  \n",
       "75%             9.000000               0.0   71083.000000  \n",
       "max            12.000000               0.0   99998.000000  "
      ]
     },
     "execution_count": 68,
     "metadata": {},
     "output_type": "execute_result"
    }
   ],
   "source": [
    "cars_df.describe()"
   ]
  },
  {
   "cell_type": "markdown",
   "metadata": {},
   "source": [
    "Посмотрим уникальные значения данных в столбцах:"
   ]
  },
  {
   "cell_type": "code",
   "execution_count": 69,
   "metadata": {
    "scrolled": true
   },
   "outputs": [
    {
     "name": "stdout",
     "output_type": "stream",
     "text": [
      "\n",
      " Уникальные значения столбца: DateCrawled\n",
      "['2016-03-24 11:52:17' '2016-03-24 10:58:45' '2016-03-14 12:52:21' ...\n",
      " '2016-03-21 09:50:58' '2016-03-14 17:48:27' '2016-03-19 18:57:12']\n",
      "2016-03-24 14:49:47    7\n",
      "2016-03-26 22:57:31    6\n",
      "2016-03-19 21:49:56    6\n",
      "2016-04-02 14:50:21    5\n",
      "2016-03-23 13:50:19    5\n",
      "                      ..\n",
      "2016-03-20 16:48:06    1\n",
      "2016-03-22 21:51:04    1\n",
      "2016-03-11 16:25:36    1\n",
      "2016-03-31 12:47:30    1\n",
      "2016-03-19 18:57:12    1\n",
      "Name: DateCrawled, Length: 271174, dtype: int64\n",
      "--------------------------------------------------\n",
      "\n",
      " Уникальные значения столбца: Price\n",
      "[  480 18300  9800 ... 12395 18429 10985]\n",
      "0        10772\n",
      "500       5670\n",
      "1500      5394\n",
      "1000      4649\n",
      "1200      4594\n",
      "         ...  \n",
      "1368         1\n",
      "233          1\n",
      "11080        1\n",
      "16340        1\n",
      "10985        1\n",
      "Name: Price, Length: 3731, dtype: int64\n",
      "--------------------------------------------------\n",
      "\n",
      " Уникальные значения столбца: VehicleType\n",
      "[nan 'coupe' 'suv' 'small' 'sedan' 'convertible' 'bus' 'wagon' 'other']\n",
      "sedan          91457\n",
      "small          79831\n",
      "wagon          65166\n",
      "bus            28775\n",
      "convertible    20203\n",
      "coupe          16163\n",
      "suv            11996\n",
      "other           3288\n",
      "Name: VehicleType, dtype: int64\n",
      "--------------------------------------------------\n",
      "\n",
      " Уникальные значения столбца: RegistrationYear\n",
      "[1993 2011 2004 2001 2008 1995 1980 2014 1998 2005 1910 2016 2007 2009\n",
      " 2002 2018 1997 1990 2017 1981 2003 1994 1991 1984 2006 1999 2012 2010\n",
      " 2000 1992 2013 1996 1985 1989 2015 1982 1976 1983 1973 1111 1969 1971\n",
      " 1987 1986 1988 1970 1965 1945 1925 1974 1979 1955 1978 1972 1968 1977\n",
      " 1961 1960 1966 1975 1963 1964 5000 1954 1958 1967 1959 9999 1956 3200\n",
      " 1000 1941 8888 1500 2200 4100 1962 1929 1957 1940 3000 2066 1949 2019\n",
      " 1937 1951 1800 1953 1234 8000 5300 9000 2900 6000 5900 5911 1933 1400\n",
      " 1950 4000 1948 1952 1200 8500 1932 1255 3700 3800 4800 1942 7000 1935\n",
      " 1936 6500 1923 2290 2500 1930 1001 9450 1944 1943 1934 1938 1688 2800\n",
      " 1253 1928 1919 5555 5600 1600 2222 1039 9996 1300 8455 1931 1915 4500\n",
      " 1920 1602 7800 9229 1947 1927 7100 8200 1946 7500 3500]\n",
      "2000    24490\n",
      "1999    22728\n",
      "2005    22109\n",
      "2001    20124\n",
      "2006    19900\n",
      "        ...  \n",
      "6500        1\n",
      "2290        1\n",
      "1001        1\n",
      "9450        1\n",
      "3500        1\n",
      "Name: RegistrationYear, Length: 151, dtype: int64\n",
      "--------------------------------------------------\n",
      "\n",
      " Уникальные значения столбца: Gearbox\n",
      "['manual' 'auto' nan]\n",
      "manual    268251\n",
      "auto       66285\n",
      "Name: Gearbox, dtype: int64\n",
      "--------------------------------------------------\n",
      "\n",
      " Уникальные значения столбца: Power\n",
      "[    0   190   163    75    69   102   109    50   125   101   105   140\n",
      "   115   131    60   136   160   231    90   118   193    99   113   218\n",
      "   122   129    70   306    95    61   177    80   170    55   143    64\n",
      "   286   232   150   156    82   155    54   185    87   180    86    84\n",
      "   224   235   200   178   265    77   110   144   120   116   184   126\n",
      "   204    88   194   305   197   179   250    45   313    41   165    98\n",
      "   130   114   211    56   201   213    58   107    83   174   100   220\n",
      "    85    73   192    68    66   299    74    52   147    65   310    71\n",
      "    97   239   203     5   300   103   258   320    63    81   148    44\n",
      "   145   230   280   260   104   188   333   186   117   141    59   132\n",
      "   234   158    39    92    51   135    53   209    43   146    67   106\n",
      "   166   276   344    72   249   237   245   111   326   279    23   138\n",
      "   175    96   226    26    37   301   334   128   133   124    33   219\n",
      "   241   167    94   182   196   238  1398   228   112    48   272   139\n",
      "  1799    40   240    79   256   360   243   375   252   396   340   108\n",
      "   121   345   187   289   222   198   284   450   233   387   152   347\n",
      "   172    57   137   212   476   314    30     7    47   173   290   207\n",
      "   205   171   750    78    91    89   349   325    76   151   350   953\n",
      "    93   142   500   343   199   119   164    16   264   367   208   210\n",
      "    46   435  1001   225   127   176   161   603   307   354    35   206\n",
      "   771   355   273   223   255   123   154   149  7515  1400   268   620\n",
      "   169   400   275    34     2   242  1779   285   162   328  1753   329\n",
      "   134   420   247   168 10317   215    18   330   283    62    10   214\n",
      "   183   254    15   321   322   315   952   600   181   426   599   379\n",
      "   999    22   157    42   195   553     4   309   507   381   271   440\n",
      "   189   401  1111  2729    21   236  1240  1704   521     1  1900   270\n",
      "    24   159   292   808   515  1200   303    29    38  1993    14   216\n",
      "   610   504    49   267   331   363   261   385  1011   253   696 10520\n",
      "   376   227   311    27   217    20  1999    11  1056    25   394    12\n",
      "   298   296  1659   294   551  6920   246    17  1800  1625   368   390\n",
      "   221  1367   259   606   327  2017  1597   266   374   392     9   405\n",
      "    13   262   601   430   295     8   411   900   541  7512   382 10218\n",
      "  7544  1102   287    19   751   297  1090   457   282   602   388     6\n",
      "  1000  5411   335  1360   202  3750   805  1062  1024 11530   364  1796\n",
      "  5000   269   460  1002   288  1780 12012 17932   316  2005  1399   191\n",
      "   278  1300   380   257   449  1256   153  1653   520   560   281 12510\n",
      "     3  1500   386    32  1202  2016  1436  1405   671   274  1288  1055\n",
      " 10912 15016  6226  1115   277  1105   341  1223  2340  8404  1968   338\n",
      "   445  1920   370   517  4400 10710 10522  9010   431  1164 11509   371\n",
      "  1501   428 11635    36   304   348  1703  1910  1995   579 10000   580\n",
      "   408    31  1005   358  1403   489  5575 19211   585   960   365   353\n",
      "   490   352  1801   346   550  3199   800  7508  1312   357  1937   950\n",
      "  4700  1600  3454 19208   251   850   337   700  8011  2331  2789   487\n",
      "   519  2461  6006  3500  5815  6018  1781  1503   612  1596   229  1506\n",
      "  5809 15020  5867  2172  1598 17410  1363   584  1054   851  1339   318\n",
      "   510   525  1700    28  1151   685  6011   317   703  1771 15001   514\n",
      "   362   332   324  6045   530   425   308  6010   475   903   640  2000\n",
      "   248   651  2799 17011   505  1103  1521   351 16051   398  9000  1998\n",
      " 10311   409  1230 17019 12684  8259  1895   901  1317   871   909  2201\n",
      "  1595   776 17700 11011  1199   459  1162  1120 15033  1896   339   361\n",
      "   574  6512   454   650 13616   604   607 16312  1082   336 20000   416\n",
      "   678  6012  1401  1021  1870 13636  1250  9710   323  1158  2009   902\n",
      "  6062  1275   572   244   399  1016   743  1221  2402 16011  1362   544\n",
      "   645   907   702 12512  1986  1003  1432  9013  9011   442  1017  1394\n",
      " 15017 10910  1992   540  2018 11025  1433  1701  2792  1502  1239  1390\n",
      " 14009  1160  1351 11111  1783  9007   923  1149   754  1988   402  2004\n",
      "  5420  1793  1324   356  7511  1299   293 19312  1079  1689   998  1100\n",
      "  9012  1933   508 16311   682  1252  1922  7529   732  2389  2200  1707\n",
      "  1416  8500  1012   485  3000 10110   421  4507  1631  7518   377  1004\n",
      "  2007  2598  1548  1241]\n",
      "0       40225\n",
      "75      24023\n",
      "60      15897\n",
      "150     14590\n",
      "101     13298\n",
      "        ...  \n",
      "610         1\n",
      "6006        1\n",
      "5815        1\n",
      "6018        1\n",
      "1241        1\n",
      "Name: Power, Length: 712, dtype: int64\n",
      "--------------------------------------------------\n",
      "\n",
      " Уникальные значения столбца: Model\n",
      "['golf' nan 'grand' 'fabia' '3er' '2_reihe' 'other' 'c_max' '3_reihe'\n",
      " 'passat' 'navara' 'ka' 'polo' 'twingo' 'a_klasse' 'scirocco' '5er'\n",
      " 'meriva' 'arosa' 'c4' 'civic' 'transporter' 'punto' 'e_klasse' 'clio'\n",
      " 'kadett' 'kangoo' 'corsa' 'one' 'fortwo' '1er' 'b_klasse' 'signum'\n",
      " 'astra' 'a8' 'jetta' 'fiesta' 'c_klasse' 'micra' 'vito' 'sprinter' '156'\n",
      " 'escort' 'forester' 'xc_reihe' 'scenic' 'a4' 'a1' 'insignia' 'combo'\n",
      " 'focus' 'tt' 'a6' 'jazz' 'omega' 'slk' '7er' '80' '147' '100' 'z_reihe'\n",
      " 'sportage' 'sorento' 'v40' 'ibiza' 'mustang' 'eos' 'touran' 'getz' 'a3'\n",
      " 'almera' 'megane' 'lupo' 'r19' 'zafira' 'caddy' 'mondeo' 'cordoba' 'colt'\n",
      " 'impreza' 'vectra' 'berlingo' 'tiguan' 'i_reihe' 'espace' 'sharan'\n",
      " '6_reihe' 'panda' 'up' 'seicento' 'ceed' '5_reihe' 'yeti' 'octavia' 'mii'\n",
      " 'rx_reihe' '6er' 'modus' 'fox' 'matiz' 'beetle' 'c1' 'rio' 'touareg'\n",
      " 'logan' 'spider' 'cuore' 's_max' 'a2' 'galaxy' 'c3' 'viano' 's_klasse'\n",
      " '1_reihe' 'avensis' 'roomster' 'sl' 'kaefer' 'santa' 'cooper' 'leon'\n",
      " '4_reihe' 'a5' '500' 'laguna' 'ptcruiser' 'clk' 'primera' 'x_reihe'\n",
      " 'exeo' '159' 'transit' 'juke' 'qashqai' 'carisma' 'accord' 'corolla'\n",
      " 'lanos' 'phaeton' 'verso' 'swift' 'rav' 'picanto' 'boxster' 'kalos'\n",
      " 'superb' 'stilo' 'alhambra' 'mx_reihe' 'roadster' 'ypsilon' 'cayenne'\n",
      " 'galant' 'justy' '90' 'sirion' 'crossfire' 'agila' 'duster' 'cr_reihe'\n",
      " 'v50' 'c_reihe' 'v_klasse' 'm_klasse' 'yaris' 'c5' 'aygo' 'cc' 'carnival'\n",
      " 'fusion' '911' 'bora' 'forfour' 'm_reihe' 'cl' 'tigra' '300c' 'spark'\n",
      " 'v70' 'kuga' 'x_type' 'ducato' 's_type' 'x_trail' 'toledo' 'altea'\n",
      " 'voyager' 'calibra' 'bravo' 'antara' 'tucson' 'citigo' 'jimny' 'wrangler'\n",
      " 'lybra' 'q7' 'lancer' 'captiva' 'c2' 'discovery' 'freelander' 'sandero'\n",
      " 'note' '900' 'cherokee' 'clubman' 'samara' 'defender' '601' 'cx_reihe'\n",
      " 'legacy' 'pajero' 'auris' 'niva' 's60' 'nubira' 'vivaro' 'g_klasse'\n",
      " 'lodgy' '850' 'range_rover' 'q3' 'serie_2' 'glk' 'charade' 'croma'\n",
      " 'outlander' 'doblo' 'musa' 'move' '9000' 'v60' '145' 'aveo' '200' 'b_max'\n",
      " 'range_rover_sport' 'terios' 'rangerover' 'q5' 'range_rover_evoque'\n",
      " 'materia' 'delta' 'gl' 'kalina' 'amarok' 'elefantino' 'i3' 'kappa'\n",
      " 'serie_3' 'serie_1']\n",
      "golf                  29232\n",
      "other                 24421\n",
      "3er                   19761\n",
      "polo                  13066\n",
      "corsa                 12570\n",
      "                      ...  \n",
      "i3                        8\n",
      "serie_3                   4\n",
      "rangerover                4\n",
      "range_rover_evoque        2\n",
      "serie_1                   2\n",
      "Name: Model, Length: 250, dtype: int64\n",
      "--------------------------------------------------\n",
      "\n",
      " Уникальные значения столбца: Kilometer\n",
      "[150000 125000  90000  40000  30000  70000   5000 100000  60000  20000\n",
      "  80000  50000  10000]\n",
      "150000    238209\n",
      "125000     36454\n",
      "100000     14882\n",
      "90000      11567\n",
      "80000      10047\n",
      "70000       8593\n",
      "60000       7444\n",
      "5000        6397\n",
      "50000       6232\n",
      "40000       4911\n",
      "30000       4436\n",
      "20000       3975\n",
      "10000       1222\n",
      "Name: Kilometer, dtype: int64\n",
      "--------------------------------------------------\n",
      "\n",
      " Уникальные значения столбца: RegistrationMonth\n"
     ]
    },
    {
     "name": "stdout",
     "output_type": "stream",
     "text": [
      "[ 0  5  8  6  7 10 12 11  2  3  1  4  9]\n",
      "0     37352\n",
      "3     34373\n",
      "6     31508\n",
      "4     29270\n",
      "5     29153\n",
      "7     27213\n",
      "10    26099\n",
      "12    24289\n",
      "11    24186\n",
      "9     23813\n",
      "1     23219\n",
      "8     22627\n",
      "2     21267\n",
      "Name: RegistrationMonth, dtype: int64\n",
      "--------------------------------------------------\n",
      "\n",
      " Уникальные значения столбца: FuelType\n",
      "['petrol' 'gasoline' nan 'lpg' 'other' 'hybrid' 'cng' 'electric']\n",
      "petrol      216352\n",
      "gasoline     98720\n",
      "lpg           5310\n",
      "cng            565\n",
      "hybrid         233\n",
      "other          204\n",
      "electric        90\n",
      "Name: FuelType, dtype: int64\n",
      "--------------------------------------------------\n",
      "\n",
      " Уникальные значения столбца: Brand\n",
      "['volkswagen' 'audi' 'jeep' 'skoda' 'bmw' 'peugeot' 'ford' 'mazda'\n",
      " 'nissan' 'renault' 'mercedes_benz' 'opel' 'seat' 'citroen' 'honda' 'fiat'\n",
      " 'mini' 'smart' 'hyundai' 'sonstige_autos' 'alfa_romeo' 'subaru' 'volvo'\n",
      " 'mitsubishi' 'kia' 'suzuki' 'lancia' 'toyota' 'chevrolet' 'dacia'\n",
      " 'daihatsu' 'trabant' 'saab' 'chrysler' 'jaguar' 'daewoo' 'porsche'\n",
      " 'rover' 'land_rover' 'lada']\n",
      "volkswagen        77013\n",
      "opel              39931\n",
      "bmw               36914\n",
      "mercedes_benz     32046\n",
      "audi              29456\n",
      "ford              25179\n",
      "renault           17927\n",
      "peugeot           10998\n",
      "fiat               9643\n",
      "seat               6907\n",
      "mazda              5615\n",
      "skoda              5500\n",
      "smart              5246\n",
      "citroen            5148\n",
      "nissan             4941\n",
      "toyota             4606\n",
      "hyundai            3587\n",
      "sonstige_autos     3374\n",
      "volvo              3210\n",
      "mini               3202\n",
      "mitsubishi         3022\n",
      "honda              2817\n",
      "kia                2465\n",
      "suzuki             2323\n",
      "alfa_romeo         2314\n",
      "chevrolet          1754\n",
      "chrysler           1439\n",
      "dacia               900\n",
      "daihatsu            806\n",
      "subaru              762\n",
      "porsche             758\n",
      "jeep                677\n",
      "trabant             589\n",
      "land_rover          545\n",
      "daewoo              542\n",
      "saab                526\n",
      "jaguar              505\n",
      "rover               486\n",
      "lancia              471\n",
      "lada                225\n",
      "Name: Brand, dtype: int64\n",
      "--------------------------------------------------\n",
      "\n",
      " Уникальные значения столбца: Repaired\n",
      "[nan 'yes' 'no']\n",
      "no     247161\n",
      "yes     36054\n",
      "Name: Repaired, dtype: int64\n",
      "--------------------------------------------------\n",
      "\n",
      " Уникальные значения столбца: DateCreated\n",
      "['2016-03-24 00:00:00' '2016-03-14 00:00:00' '2016-03-17 00:00:00'\n",
      " '2016-03-31 00:00:00' '2016-04-04 00:00:00' '2016-04-01 00:00:00'\n",
      " '2016-03-21 00:00:00' '2016-03-26 00:00:00' '2016-04-07 00:00:00'\n",
      " '2016-03-15 00:00:00' '2016-03-11 00:00:00' '2016-03-20 00:00:00'\n",
      " '2016-03-23 00:00:00' '2016-03-27 00:00:00' '2016-03-12 00:00:00'\n",
      " '2016-03-13 00:00:00' '2016-03-18 00:00:00' '2016-03-10 00:00:00'\n",
      " '2016-03-07 00:00:00' '2016-03-09 00:00:00' '2016-03-08 00:00:00'\n",
      " '2016-04-03 00:00:00' '2016-03-29 00:00:00' '2016-03-25 00:00:00'\n",
      " '2016-03-28 00:00:00' '2016-03-30 00:00:00' '2016-03-22 00:00:00'\n",
      " '2016-02-09 00:00:00' '2016-03-05 00:00:00' '2016-04-02 00:00:00'\n",
      " '2016-03-16 00:00:00' '2016-03-19 00:00:00' '2016-04-05 00:00:00'\n",
      " '2016-03-06 00:00:00' '2016-02-12 00:00:00' '2016-03-03 00:00:00'\n",
      " '2016-03-01 00:00:00' '2016-03-04 00:00:00' '2016-04-06 00:00:00'\n",
      " '2016-02-15 00:00:00' '2016-02-24 00:00:00' '2016-02-27 00:00:00'\n",
      " '2015-03-20 00:00:00' '2016-02-28 00:00:00' '2016-02-17 00:00:00'\n",
      " '2016-01-27 00:00:00' '2016-02-20 00:00:00' '2016-02-29 00:00:00'\n",
      " '2016-02-10 00:00:00' '2016-02-23 00:00:00' '2016-02-21 00:00:00'\n",
      " '2015-11-02 00:00:00' '2016-02-19 00:00:00' '2016-02-26 00:00:00'\n",
      " '2016-02-11 00:00:00' '2016-01-10 00:00:00' '2016-02-06 00:00:00'\n",
      " '2016-02-18 00:00:00' '2016-01-29 00:00:00' '2016-03-02 00:00:00'\n",
      " '2015-12-06 00:00:00' '2016-01-24 00:00:00' '2016-01-30 00:00:00'\n",
      " '2016-02-02 00:00:00' '2016-02-16 00:00:00' '2016-02-13 00:00:00'\n",
      " '2016-02-05 00:00:00' '2016-02-22 00:00:00' '2015-11-17 00:00:00'\n",
      " '2014-03-10 00:00:00' '2016-02-07 00:00:00' '2016-01-23 00:00:00'\n",
      " '2016-02-25 00:00:00' '2016-02-14 00:00:00' '2016-01-02 00:00:00'\n",
      " '2015-09-04 00:00:00' '2015-11-12 00:00:00' '2015-12-27 00:00:00'\n",
      " '2015-11-24 00:00:00' '2016-01-20 00:00:00' '2016-02-03 00:00:00'\n",
      " '2015-12-05 00:00:00' '2015-08-07 00:00:00' '2016-01-28 00:00:00'\n",
      " '2016-01-31 00:00:00' '2016-02-08 00:00:00' '2016-01-07 00:00:00'\n",
      " '2016-01-22 00:00:00' '2016-01-18 00:00:00' '2016-01-08 00:00:00'\n",
      " '2015-11-23 00:00:00' '2016-01-13 00:00:00' '2016-01-17 00:00:00'\n",
      " '2016-01-15 00:00:00' '2015-11-08 00:00:00' '2016-01-26 00:00:00'\n",
      " '2016-02-04 00:00:00' '2016-01-25 00:00:00' '2016-01-16 00:00:00'\n",
      " '2015-08-10 00:00:00' '2016-01-03 00:00:00' '2016-01-19 00:00:00'\n",
      " '2015-12-30 00:00:00' '2016-02-01 00:00:00' '2015-12-17 00:00:00'\n",
      " '2015-11-10 00:00:00' '2016-01-06 00:00:00' '2015-09-09 00:00:00'\n",
      " '2015-06-18 00:00:00']\n",
      "2016-04-03 00:00:00    13719\n",
      "2016-04-04 00:00:00    13317\n",
      "2016-03-20 00:00:00    12918\n",
      "2016-03-12 00:00:00    12840\n",
      "2016-03-21 00:00:00    12691\n",
      "                       ...  \n",
      "2015-08-07 00:00:00        1\n",
      "2015-12-27 00:00:00        1\n",
      "2015-11-12 00:00:00        1\n",
      "2015-12-06 00:00:00        1\n",
      "2015-06-18 00:00:00        1\n",
      "Name: DateCreated, Length: 109, dtype: int64\n",
      "--------------------------------------------------\n",
      "\n",
      " Уникальные значения столбца: NumberOfPictures\n",
      "[0]\n",
      "0    354369\n",
      "Name: NumberOfPictures, dtype: int64\n",
      "--------------------------------------------------\n",
      "\n",
      " Уникальные значения столбца: PostalCode\n",
      "[70435 66954 90480 ... 38528 38325 31096]\n",
      "10115    819\n",
      "65428    613\n",
      "66333    343\n",
      "32257    317\n",
      "44145    317\n",
      "        ... \n",
      "91801      1\n",
      "31097      1\n",
      "82444      1\n",
      "94359      1\n",
      "31096      1\n",
      "Name: PostalCode, Length: 8143, dtype: int64\n",
      "--------------------------------------------------\n",
      "\n",
      " Уникальные значения столбца: LastSeen\n",
      "['2016-04-07 03:16:57' '2016-04-07 01:46:50' '2016-04-05 12:47:46' ...\n",
      " '2016-03-19 20:44:43' '2016-03-29 10:17:23' '2016-03-21 10:42:49']\n",
      "2016-04-06 13:45:54    17\n",
      "2016-04-07 09:45:10    16\n",
      "2016-04-06 01:15:23    16\n",
      "2016-04-06 10:15:26    16\n",
      "2016-04-07 05:44:30    16\n",
      "                       ..\n",
      "2016-03-07 17:46:17     1\n",
      "2016-03-10 07:49:15     1\n",
      "2016-04-03 04:18:11     1\n",
      "2016-03-16 20:19:54     1\n",
      "2016-03-21 10:42:49     1\n",
      "Name: LastSeen, Length: 179150, dtype: int64\n",
      "--------------------------------------------------\n"
     ]
    }
   ],
   "source": [
    "def show_unic(cars_df):\n",
    "    for column in cars_df.columns:\n",
    "        print('\\n Уникальные значения столбца:', column)\n",
    "        print(cars_df[column].unique())\n",
    "        print(cars_df[column].value_counts())\n",
    "        print(50*'-')\n",
    "\n",
    "show_unic(cars_df)"
   ]
  },
  {
   "cell_type": "markdown",
   "metadata": {},
   "source": [
    "Проверим датасет на наличие явных дубликатов и удалим их:"
   ]
  },
  {
   "cell_type": "code",
   "execution_count": 70,
   "metadata": {},
   "outputs": [
    {
     "name": "stdout",
     "output_type": "stream",
     "text": [
      "4\n",
      "(354369, 16)\n"
     ]
    }
   ],
   "source": [
    "print(cars_df.duplicated().sum())\n",
    "data = cars_df.drop_duplicates()\n",
    "print(cars_df.shape)"
   ]
  },
  {
   "cell_type": "markdown",
   "metadata": {},
   "source": [
    "**Целевой признак - Price**"
   ]
  },
  {
   "cell_type": "code",
   "execution_count": 71,
   "metadata": {},
   "outputs": [
    {
     "data": {
      "image/png": "[encoded data removed]",
      "text/plain": [
       "<Figure size 1200x800 with 1 Axes>"
      ]
     },
     "metadata": {},
     "output_type": "display_data"
    }
   ],
   "source": [
    "cars_df['Price'].hist(figsize=(12, 8), bins = 50, alpha = 0.7, color = 'blue')\n",
    "plt.title('Распределение Price')\n",
    "plt.show()"
   ]
  },
  {
   "cell_type": "markdown",
   "metadata": {},
   "source": [
    "Посмотрим кол-во нулевых значений в целевом признаке:"
   ]
  },
  {
   "cell_type": "code",
   "execution_count": 72,
   "metadata": {},
   "outputs": [
    {
     "name": "stdout",
     "output_type": "stream",
     "text": [
      "Количество нулевых значений в колонке Price = 10772\n",
      "Количество значений в колонке Price > 20000 Euro = 0\n"
     ]
    }
   ],
   "source": [
    "print('Количество нулевых значений в колонке Price =', cars_df[cars_df['Price'] == 0]['Price'].count())\n",
    "print('Количество значений в колонке Price > 20000 Euro =', cars_df[cars_df['Price'] > 20000]['Price'].count())"
   ]
  },
  {
   "cell_type": "markdown",
   "metadata": {},
   "source": [
    "Удалим строки с нулевой ценой:"
   ]
  },
  {
   "cell_type": "code",
   "execution_count": 73,
   "metadata": {},
   "outputs": [],
   "source": [
    "cars_df = cars_df[cars_df['Price'] != 0]"
   ]
  },
  {
   "cell_type": "markdown",
   "metadata": {},
   "source": [
    "**Признак - Power**"
   ]
  },
  {
   "cell_type": "code",
   "execution_count": 74,
   "metadata": {},
   "outputs": [
    {
     "data": {
      "image/png": "[encoded data removed]",
      "text/plain": [
       "<Figure size 1200x800 with 1 Axes>"
      ]
     },
     "metadata": {},
     "output_type": "display_data"
    }
   ],
   "source": [
    "cars_df['Power'].hist(figsize=(12, 8), bins = 50, alpha = 0.7, color = 'blue')\n",
    "plt.title('Распределение Power')\n",
    "plt.show()"
   ]
  },
  {
   "cell_type": "markdown",
   "metadata": {},
   "source": [
    "В колоке содержатся ошибочные данные:\n",
    "- Нулевые данные\n",
    "- В данных типа '31' или '29' пропустили '1' слева\n",
    "- В данных типа '1595' или '776' пропущена '.' справа на 1 десятичный знак\n",
    "- В данных типа '17700' или '11025' пропущена '.' справа на 2 десятичных знака\n",
    "\n",
    "Заменим нулевые данные медианным значением по бренду и скорректируем остальные данные в колонке Power:"
   ]
  },
  {
   "cell_type": "code",
   "execution_count": 75,
   "metadata": {},
   "outputs": [
    {
     "name": "stdout",
     "output_type": "stream",
     "text": [
      "Количество нулевых значений в колонке Power = 36360\n",
      "Количество нулевых значений в колонке Power = 0\n"
     ]
    }
   ],
   "source": [
    "print('Количество нулевых значений в колонке Power =', cars_df[cars_df['Power'] == 0]['Power'].count())\n",
    "cars_df.loc[cars_df['Power'] == 0, 'Power'] = np.NaN\n",
    "cars_df.loc[cars_df['Power'].isna(), 'Power'] = cars_df.groupby('Brand')['Power'].transform('mean')\n",
    "print('Количество нулевых значений в колонке Power =', cars_df[cars_df['Power'] == 0]['Power'].count())"
   ]
  },
  {
   "cell_type": "code",
   "execution_count": 76,
   "metadata": {},
   "outputs": [
    {
     "name": "stdout",
     "output_type": "stream",
     "text": [
      "Количество значений в колонке Power > 500 л.с. = 429\n",
      "Количество значений в колонке Power > 500 л.с. = 78\n",
      "Количество значений в колонке Power > 500 л.с. = 0\n"
     ]
    }
   ],
   "source": [
    "max_Power = cars_df[cars_df['Power'] > 500]['Power'].count()\n",
    "print('Количество значений в колонке Power > 500 л.с. =', max_Power)\n",
    "\n",
    "while max_Power > 0:\n",
    "    cars_df.loc[cars_df['Power'] > 500, 'Power'] = cars_df['Power'] / 10\n",
    "    max_Power = cars_df[cars_df['Power'] > 500]['Power'].count()\n",
    "    print('Количество значений в колонке Power > 500 л.с. =', max_Power)"
   ]
  },
  {
   "cell_type": "code",
   "execution_count": 77,
   "metadata": {},
   "outputs": [
    {
     "name": "stdout",
     "output_type": "stream",
     "text": [
      "Количество значений в колонке Power < 50 л.с. = 5922\n",
      "Количество значений в колонке Power < 50 л.с. = 0\n"
     ]
    }
   ],
   "source": [
    "print('Количество значений в колонке Power < 50 л.с. =', cars_df[cars_df['Power'] < 50]['Power'].count())\n",
    "cars_df.loc[cars_df['Power'] < 50, 'Power'] = cars_df['Power'] + 100\n",
    "cars_df['Power'] = np.int64(cars_df['Power'])\n",
    "print('Количество значений в колонке Power < 50 л.с. =', cars_df[cars_df['Power'] < 50]['Power'].count())"
   ]
  },
  {
   "cell_type": "code",
   "execution_count": 78,
   "metadata": {},
   "outputs": [
    {
     "data": {
      "image/png": "[encoded data removed]",
      "text/plain": [
       "<Figure size 1200x800 with 1 Axes>"
      ]
     },
     "metadata": {},
     "output_type": "display_data"
    }
   ],
   "source": [
    "cars_df['Power'].hist(figsize = (12, 8), bins = 50, alpha = 0.7, color = 'blue')\n",
    "plt.title('Распределение Power')\n",
    "plt.show()"
   ]
  },
  {
   "cell_type": "markdown",
   "metadata": {},
   "source": [
    "**Признак - RegistrationYear**"
   ]
  },
  {
   "cell_type": "code",
   "execution_count": 79,
   "metadata": {},
   "outputs": [
    {
     "data": {
      "image/png": "[encoded data removed]",
      "text/plain": [
       "<Figure size 1200x800 with 1 Axes>"
      ]
     },
     "metadata": {},
     "output_type": "display_data"
    }
   ],
   "source": [
    "cars_df['RegistrationYear'].hist(figsize = (12, 8), bins = 50, alpha = 0.7, color = 'blue')\n",
    "plt.title('Распределение RegistrationYear')\n",
    "plt.show()"
   ]
  },
  {
   "cell_type": "markdown",
   "metadata": {},
   "source": [
    "Посмотрим максимальную дату скачивания анкеты автомобиля, для ограничения по дате регистрации:"
   ]
  },
  {
   "cell_type": "code",
   "execution_count": 80,
   "metadata": {},
   "outputs": [
    {
     "name": "stdout",
     "output_type": "stream",
     "text": [
      "2016\n"
     ]
    }
   ],
   "source": [
    "DateCrawled_max = pd.to_datetime(cars_df['DateCrawled'].max()).year\n",
    "print(DateCrawled_max)"
   ]
  },
  {
   "cell_type": "markdown",
   "metadata": {},
   "source": [
    "Посмотрим данные в колонке:"
   ]
  },
  {
   "cell_type": "code",
   "execution_count": 81,
   "metadata": {},
   "outputs": [
    {
     "name": "stdout",
     "output_type": "stream",
     "text": [
      "Количество значений в колонке RegistrationYear < 1970 = 1175\n",
      "Количество значений в колонке RegistrationYear > 2016 = 86\n"
     ]
    }
   ],
   "source": [
    "print('Количество значений в колонке RegistrationYear < 1970 =', cars_df[cars_df['RegistrationYear'] < 1970]['RegistrationYear'].count())\n",
    "print('Количество значений в колонке RegistrationYear > 2016 =', cars_df[cars_df['RegistrationYear'] > 2022]['RegistrationYear'].count())"
   ]
  },
  {
   "cell_type": "markdown",
   "metadata": {},
   "source": [
    "Коллекционные автомобили имеют другое ценообразование, исключим информацию о них из датасета вместе с некорректными данными.\n",
    "\n",
    "Так же удалим данные об автомобилях с датой регистрации больше 2016г."
   ]
  },
  {
   "cell_type": "code",
   "execution_count": 82,
   "metadata": {},
   "outputs": [],
   "source": [
    "cars_df = cars_df.loc[(cars_df['RegistrationYear'] > 1970) & (cars_df['RegistrationYear'] <= DateCrawled_max)]"
   ]
  },
  {
   "cell_type": "code",
   "execution_count": 83,
   "metadata": {},
   "outputs": [
    {
     "data": {
      "image/png": "[encoded data removed]",
      "text/plain": [
       "<Figure size 1200x800 with 1 Axes>"
      ]
     },
     "metadata": {},
     "output_type": "display_data"
    }
   ],
   "source": [
    "cars_df['RegistrationYear'].hist(figsize = (12, 8), bins = 50, alpha = 0.7, color = 'blue')\n",
    "plt.title('Распределение RegistrationYear')\n",
    "plt.xlim(1969, 2020)\n",
    "plt.show()"
   ]
  },
  {
   "cell_type": "markdown",
   "metadata": {},
   "source": [
    "**Признак - Kilometer**"
   ]
  },
  {
   "cell_type": "code",
   "execution_count": 84,
   "metadata": {},
   "outputs": [
    {
     "data": {
      "image/png": "[encoded data removed]",
      "text/plain": [
       "<Figure size 1200x800 with 1 Axes>"
      ]
     },
     "metadata": {},
     "output_type": "display_data"
    }
   ],
   "source": [
    "cars_df['Kilometer'].hist(figsize = (12, 8), bins = 50, alpha = 0.7, color = 'blue')\n",
    "plt.title('Распределение Kilometer')\n",
    "plt.show()"
   ]
  },
  {
   "cell_type": "markdown",
   "metadata": {},
   "source": [
    "В колонку Kilometer данные при заполнении заполнялись из фиксированного справочника значений (5000, 10000, 20000 и т. д.), либо значения были разбиты на интервалы."
   ]
  },
  {
   "cell_type": "markdown",
   "metadata": {},
   "source": [
    "**Признаки - Gearbox, Repaired**\n",
    "\n",
    "Категориальные признаки Gearbox и Repaired принимают только два значения. Для работы модели преобразуем значения этих признаков в числа '0' и '1', предварительно заполнив пропуски случайными числами '0' или '1'. Преобразуем тип данных у признаков `Gearbox` и `Repaired` в integer."
   ]
  },
  {
   "cell_type": "code",
   "execution_count": 85,
   "metadata": {},
   "outputs": [
    {
     "name": "stdout",
     "output_type": "stream",
     "text": [
      "[0 1]\n"
     ]
    }
   ],
   "source": [
    "cars_df['Gearbox'] = cars_df['Gearbox'].fillna(\n",
    "            pd.Series(np.random.randint(0, 2, size = len(cars_df)), index = cars_df.index))\n",
    "cars_df.loc[cars_df['Gearbox'] == 'manual', 'Gearbox'] = 0\n",
    "cars_df.loc[cars_df['Gearbox'] == 'auto', 'Gearbox'] = 1\n",
    "cars_df['Gearbox'] = cars_df['Gearbox'].astype('int')\n",
    "print(cars_df['Gearbox'].unique())"
   ]
  },
  {
   "cell_type": "code",
   "execution_count": 86,
   "metadata": {},
   "outputs": [
    {
     "name": "stdout",
     "output_type": "stream",
     "text": [
      "[1 0]\n"
     ]
    }
   ],
   "source": [
    "cars_df['Repaired'] = cars_df['Repaired'].fillna(\n",
    "            pd.Series(np.random.randint(0, 2, size = len(cars_df)), index = cars_df.index))\n",
    "cars_df.loc[cars_df['Repaired'] == 'no', 'Repaired'] = 0\n",
    "cars_df.loc[cars_df['Repaired'] == 'yes', 'Repaired'] = 1\n",
    "cars_df['Repaired'] = cars_df['Repaired'].astype('int')\n",
    "print(cars_df['Repaired'].unique())"
   ]
  },
  {
   "cell_type": "markdown",
   "metadata": {},
   "source": [
    "**Признаки - VehicleType, Model, FuelType**\n",
    "\n",
    "У этих трех признаков одним из значений является 'other', поэтому заменим пропуски в этих столбцах на 'other'."
   ]
  },
  {
   "cell_type": "code",
   "execution_count": 87,
   "metadata": {},
   "outputs": [],
   "source": [
    "cars_df['VehicleType'] = cars_df['VehicleType'].fillna('other')\n",
    "cars_df['Model'] = cars_df['Model'].fillna('other')\n",
    "cars_df['FuelType'] = cars_df['FuelType'].fillna('other')"
   ]
  },
  {
   "cell_type": "markdown",
   "metadata": {},
   "source": [
    "Удалим неинформативные для модели признаки:\n",
    "\n",
    "- `DateCrawled` - дата скачивания анкеты из базы\n",
    "- `RegistrationMonth` - месяц регистрации автомобиля\n",
    "- `DateCreated` - дата создания анкеты\n",
    "- `NumberOfPictures` - количество фотографий автомобиля\n",
    "- `PostalCode` - почтовый индекс владельца анкеты\n",
    "- `LastSeen` - дата последней активности пользователя"
   ]
  },
  {
   "cell_type": "code",
   "execution_count": 88,
   "metadata": {},
   "outputs": [
    {
     "name": "stdout",
     "output_type": "stream",
     "text": [
      "<class 'pandas.core.frame.DataFrame'>\n",
      "Int64Index: 328359 entries, 0 to 354368\n",
      "Data columns (total 10 columns):\n",
      " #   Column            Non-Null Count   Dtype \n",
      "---  ------            --------------   ----- \n",
      " 0   Price             328359 non-null  int64 \n",
      " 1   VehicleType       328359 non-null  object\n",
      " 2   RegistrationYear  328359 non-null  int64 \n",
      " 3   Gearbox           328359 non-null  int64 \n",
      " 4   Power             328359 non-null  int64 \n",
      " 5   Model             328359 non-null  object\n",
      " 6   Kilometer         328359 non-null  int64 \n",
      " 7   FuelType          328359 non-null  object\n",
      " 8   Brand             328359 non-null  object\n",
      " 9   Repaired          328359 non-null  int64 \n",
      "dtypes: int64(6), object(4)\n",
      "memory usage: 27.6+ MB\n"
     ]
    }
   ],
   "source": [
    "cars_df = cars_df.drop(['DateCrawled', 'RegistrationMonth', 'DateCreated', 'NumberOfPictures', 'PostalCode', 'LastSeen'], axis=1)\n",
    "cars_df.info()"
   ]
  },
  {
   "cell_type": "markdown",
   "metadata": {},
   "source": [
    "При помощи гистограмм визуализируем распределение переменных в итоговом датасете:"
   ]
  },
  {
   "cell_type": "code",
   "execution_count": 89,
   "metadata": {},
   "outputs": [
    {
     "data": {
      "image/png": "[encoded data removed]",
      "text/plain": [
       "<Figure size 1200x800 with 6 Axes>"
      ]
     },
     "metadata": {},
     "output_type": "display_data"
    }
   ],
   "source": [
    "cars_df.hist(figsize = (12, 8), bins = 50, alpha = 0.7, color = 'blue')\n",
    "plt.show()"
   ]
  },
  {
   "cell_type": "markdown",
   "metadata": {},
   "source": [
    "Посмотрим взаимную корреляцию колонок датасета:"
   ]
  },
  {
   "cell_type": "code",
   "execution_count": 90,
   "metadata": {},
   "outputs": [
    {
     "data": {
      "text/html": [
       "<div>\n",
       "<style scoped>\n",
       "    .dataframe tbody tr th:only-of-type {\n",
       "        vertical-align: middle;\n",
       "    }\n",
       "\n",
       "    .dataframe tbody tr th {\n",
       "        vertical-align: top;\n",
       "    }\n",
       "\n",
       "    .dataframe thead th {\n",
       "        text-align: right;\n",
       "    }\n",
       "</style>\n",
       "<table border=\"1\" class=\"dataframe\">\n",
       "  <thead>\n",
       "    <tr style=\"text-align: right;\">\n",
       "      <th></th>\n",
       "      <th>Price</th>\n",
       "      <th>RegistrationYear</th>\n",
       "      <th>Gearbox</th>\n",
       "      <th>Power</th>\n",
       "      <th>Kilometer</th>\n",
       "      <th>Repaired</th>\n",
       "    </tr>\n",
       "  </thead>\n",
       "  <tbody>\n",
       "    <tr>\n",
       "      <th>Price</th>\n",
       "      <td>1.000000</td>\n",
       "      <td>0.497898</td>\n",
       "      <td>0.223957</td>\n",
       "      <td>0.480877</td>\n",
       "      <td>-0.354926</td>\n",
       "      <td>-0.234966</td>\n",
       "    </tr>\n",
       "    <tr>\n",
       "      <th>RegistrationYear</th>\n",
       "      <td>0.497898</td>\n",
       "      <td>1.000000</td>\n",
       "      <td>0.034794</td>\n",
       "      <td>0.091823</td>\n",
       "      <td>-0.282207</td>\n",
       "      <td>-0.119948</td>\n",
       "    </tr>\n",
       "    <tr>\n",
       "      <th>Gearbox</th>\n",
       "      <td>0.223957</td>\n",
       "      <td>0.034794</td>\n",
       "      <td>1.000000</td>\n",
       "      <td>0.398233</td>\n",
       "      <td>0.008228</td>\n",
       "      <td>-0.010573</td>\n",
       "    </tr>\n",
       "    <tr>\n",
       "      <th>Power</th>\n",
       "      <td>0.480877</td>\n",
       "      <td>0.091823</td>\n",
       "      <td>0.398233</td>\n",
       "      <td>1.000000</td>\n",
       "      <td>0.091094</td>\n",
       "      <td>-0.056973</td>\n",
       "    </tr>\n",
       "    <tr>\n",
       "      <th>Kilometer</th>\n",
       "      <td>-0.354926</td>\n",
       "      <td>-0.282207</td>\n",
       "      <td>0.008228</td>\n",
       "      <td>0.091094</td>\n",
       "      <td>1.000000</td>\n",
       "      <td>0.075345</td>\n",
       "    </tr>\n",
       "    <tr>\n",
       "      <th>Repaired</th>\n",
       "      <td>-0.234966</td>\n",
       "      <td>-0.119948</td>\n",
       "      <td>-0.010573</td>\n",
       "      <td>-0.056973</td>\n",
       "      <td>0.075345</td>\n",
       "      <td>1.000000</td>\n",
       "    </tr>\n",
       "  </tbody>\n",
       "</table>\n",
       "</div>"
      ],
      "text/plain": [
       "                     Price  RegistrationYear   Gearbox     Power  Kilometer  \\\n",
       "Price             1.000000          0.497898  0.223957  0.480877  -0.354926   \n",
       "RegistrationYear  0.497898          1.000000  0.034794  0.091823  -0.282207   \n",
       "Gearbox           0.223957          0.034794  1.000000  0.398233   0.008228   \n",
       "Power             0.480877          0.091823  0.398233  1.000000   0.091094   \n",
       "Kilometer        -0.354926         -0.282207  0.008228  0.091094   1.000000   \n",
       "Repaired         -0.234966         -0.119948 -0.010573 -0.056973   0.075345   \n",
       "\n",
       "                  Repaired  \n",
       "Price            -0.234966  \n",
       "RegistrationYear -0.119948  \n",
       "Gearbox          -0.010573  \n",
       "Power            -0.056973  \n",
       "Kilometer         0.075345  \n",
       "Repaired          1.000000  "
      ]
     },
     "execution_count": 90,
     "metadata": {},
     "output_type": "execute_result"
    }
   ],
   "source": [
    "cars_df.corr()"
   ]
  },
  {
   "cell_type": "markdown",
   "metadata": {},
   "source": [
    "Наблюдаем:\n",
    "- Положительную кореляцию между признаками `RegistrationYear` и `Price`, `Power` и `Price`, более новые и мощные машины стоят дороже.\n",
    "- Незначительная обратную корреляцию между признаками `Kilometer` и `Price`, `Repaired` и `Price`, с ростом пробега и после аварий цена машины падает."
   ]
  },
  {
   "cell_type": "markdown",
   "metadata": {},
   "source": [
    "**Вывод:**\n",
    "\n",
    "В этом разделе были выполнены следующие задачи:\n",
    "\n",
    "- Неинформативные признаки и явные дубликаты удалены.\n",
    "- Аномалии в столбцах обработаны.\n",
    "- Заполнены пропущенные значения в столбцах.\n",
    "\n",
    "Данные подготовлены для обучения моделей."
   ]
  },
  {
   "cell_type": "markdown",
   "metadata": {},
   "source": [
    "<a id=3></a>\n",
    "[Содержание](#0)\n",
    "## 3. Подготовка данных"
   ]
  },
  {
   "cell_type": "markdown",
   "metadata": {},
   "source": [
    "Подготовим три типа признаков для кроссвалидации:\n",
    "\n",
    "- Неизмененные (original_)\n",
    "- Закодированные методом OE (ordinal_)\n",
    "- Закодированные методом OHE (ohe_)\n"
   ]
  },
  {
   "cell_type": "code",
   "execution_count": 91,
   "metadata": {},
   "outputs": [
    {
     "name": "stdout",
     "output_type": "stream",
     "text": [
      "Размер тренерующей выборки: (246269, 9)\n",
      "Размер тестовой выборки: (82090, 9)\n"
     ]
    }
   ],
   "source": [
    "cars_df_x = cars_df.drop('Price', axis = 1)\n",
    "cars_df_y = cars_df['Price']\n",
    "\n",
    "original_x_train, original_x_test, original_y_train, original_y_test = train_test_split(cars_df_x, cars_df_y,\n",
    "                                                                train_size = 0.75, random_state = RND_STATE)\n",
    "print('Размер тренерующей выборки:', original_x_train.shape)\n",
    "print('Размер тестовой выборки:', original_x_test.shape)"
   ]
  },
  {
   "cell_type": "markdown",
   "metadata": {},
   "source": [
    "Данные из датасета cars_df подготовлены для модели градиентного бустинга CatBoost, т.к. CatBoost не распознаёт тип данных NaN.\n",
    "\n",
    "Модели LightGBM и DecisionTreeRegressor не распознают тип данных 'object' (присутствующие в датасете cars_df), поэтому для их применения необходимо преобразовать категориальные признаки в численные.\n",
    "\n",
    "Посмотрим, какие категориальные признаки нужно преобразовать в численные:"
   ]
  },
  {
   "cell_type": "code",
   "execution_count": 92,
   "metadata": {},
   "outputs": [
    {
     "data": {
      "text/plain": [
       "['VehicleType', 'Model', 'FuelType', 'Brand']"
      ]
     },
     "metadata": {},
     "output_type": "display_data"
    }
   ],
   "source": [
    "cat_columns = original_x_train.select_dtypes(include = 'object').columns.to_list()\n",
    "display(cat_columns)"
   ]
  },
  {
   "cell_type": "markdown",
   "metadata": {},
   "source": [
    "Создадим объект структуры данных OrdinalEncoder() и используем его для преобразования категориальных признаков:"
   ]
  },
  {
   "cell_type": "code",
   "execution_count": 93,
   "metadata": {},
   "outputs": [
    {
     "data": {
      "text/html": [
       "<div>\n",
       "<style scoped>\n",
       "    .dataframe tbody tr th:only-of-type {\n",
       "        vertical-align: middle;\n",
       "    }\n",
       "\n",
       "    .dataframe tbody tr th {\n",
       "        vertical-align: top;\n",
       "    }\n",
       "\n",
       "    .dataframe thead th {\n",
       "        text-align: right;\n",
       "    }\n",
       "</style>\n",
       "<table border=\"1\" class=\"dataframe\">\n",
       "  <thead>\n",
       "    <tr style=\"text-align: right;\">\n",
       "      <th></th>\n",
       "      <th>VehicleType</th>\n",
       "      <th>Model</th>\n",
       "      <th>FuelType</th>\n",
       "      <th>Brand</th>\n",
       "    </tr>\n",
       "  </thead>\n",
       "  <tbody>\n",
       "    <tr>\n",
       "      <th>0</th>\n",
       "      <td>3.0</td>\n",
       "      <td>116.0</td>\n",
       "      <td>6.0</td>\n",
       "      <td>38.0</td>\n",
       "    </tr>\n",
       "    <tr>\n",
       "      <th>1</th>\n",
       "      <td>2.0</td>\n",
       "      <td>166.0</td>\n",
       "      <td>2.0</td>\n",
       "      <td>1.0</td>\n",
       "    </tr>\n",
       "    <tr>\n",
       "      <th>2</th>\n",
       "      <td>6.0</td>\n",
       "      <td>117.0</td>\n",
       "      <td>2.0</td>\n",
       "      <td>14.0</td>\n",
       "    </tr>\n",
       "    <tr>\n",
       "      <th>3</th>\n",
       "      <td>5.0</td>\n",
       "      <td>116.0</td>\n",
       "      <td>6.0</td>\n",
       "      <td>38.0</td>\n",
       "    </tr>\n",
       "    <tr>\n",
       "      <th>4</th>\n",
       "      <td>5.0</td>\n",
       "      <td>101.0</td>\n",
       "      <td>2.0</td>\n",
       "      <td>31.0</td>\n",
       "    </tr>\n",
       "    <tr>\n",
       "      <th>...</th>\n",
       "      <td>...</td>\n",
       "      <td>...</td>\n",
       "      <td>...</td>\n",
       "      <td>...</td>\n",
       "    </tr>\n",
       "    <tr>\n",
       "      <th>354363</th>\n",
       "      <td>0.0</td>\n",
       "      <td>249.0</td>\n",
       "      <td>6.0</td>\n",
       "      <td>24.0</td>\n",
       "    </tr>\n",
       "    <tr>\n",
       "      <th>354365</th>\n",
       "      <td>3.0</td>\n",
       "      <td>166.0</td>\n",
       "      <td>5.0</td>\n",
       "      <td>33.0</td>\n",
       "    </tr>\n",
       "    <tr>\n",
       "      <th>354366</th>\n",
       "      <td>1.0</td>\n",
       "      <td>106.0</td>\n",
       "      <td>6.0</td>\n",
       "      <td>32.0</td>\n",
       "    </tr>\n",
       "    <tr>\n",
       "      <th>354367</th>\n",
       "      <td>0.0</td>\n",
       "      <td>224.0</td>\n",
       "      <td>2.0</td>\n",
       "      <td>38.0</td>\n",
       "    </tr>\n",
       "    <tr>\n",
       "      <th>354368</th>\n",
       "      <td>7.0</td>\n",
       "      <td>116.0</td>\n",
       "      <td>2.0</td>\n",
       "      <td>38.0</td>\n",
       "    </tr>\n",
       "  </tbody>\n",
       "</table>\n",
       "<p>328359 rows × 4 columns</p>\n",
       "</div>"
      ],
      "text/plain": [
       "        VehicleType  Model  FuelType  Brand\n",
       "0               3.0  116.0       6.0   38.0\n",
       "1               2.0  166.0       2.0    1.0\n",
       "2               6.0  117.0       2.0   14.0\n",
       "3               5.0  116.0       6.0   38.0\n",
       "4               5.0  101.0       2.0   31.0\n",
       "...             ...    ...       ...    ...\n",
       "354363          0.0  249.0       6.0   24.0\n",
       "354365          3.0  166.0       5.0   33.0\n",
       "354366          1.0  106.0       6.0   32.0\n",
       "354367          0.0  224.0       2.0   38.0\n",
       "354368          7.0  116.0       2.0   38.0\n",
       "\n",
       "[328359 rows x 4 columns]"
      ]
     },
     "metadata": {},
     "output_type": "display_data"
    }
   ],
   "source": [
    "encoder = OrdinalEncoder(handle_unknown = 'use_encoded_value', unknown_value = -1)\n",
    "\n",
    "cat_x = cars_df_x[cat_columns]\n",
    "cat_x = pd.DataFrame(encoder.fit_transform(cat_x), columns = cat_x.columns, index = cat_x.index)\n",
    "display(cat_x)"
   ]
  },
  {
   "cell_type": "code",
   "execution_count": 94,
   "metadata": {},
   "outputs": [
    {
     "data": {
      "text/html": [
       "<div>\n",
       "<style scoped>\n",
       "    .dataframe tbody tr th:only-of-type {\n",
       "        vertical-align: middle;\n",
       "    }\n",
       "\n",
       "    .dataframe tbody tr th {\n",
       "        vertical-align: top;\n",
       "    }\n",
       "\n",
       "    .dataframe thead th {\n",
       "        text-align: right;\n",
       "    }\n",
       "</style>\n",
       "<table border=\"1\" class=\"dataframe\">\n",
       "  <thead>\n",
       "    <tr style=\"text-align: right;\">\n",
       "      <th></th>\n",
       "      <th>VehicleType</th>\n",
       "      <th>RegistrationYear</th>\n",
       "      <th>Gearbox</th>\n",
       "      <th>Power</th>\n",
       "      <th>Model</th>\n",
       "      <th>Kilometer</th>\n",
       "      <th>FuelType</th>\n",
       "      <th>Brand</th>\n",
       "      <th>Repaired</th>\n",
       "    </tr>\n",
       "  </thead>\n",
       "  <tbody>\n",
       "    <tr>\n",
       "      <th>0</th>\n",
       "      <td>other</td>\n",
       "      <td>1993</td>\n",
       "      <td>0</td>\n",
       "      <td>106</td>\n",
       "      <td>golf</td>\n",
       "      <td>150000</td>\n",
       "      <td>petrol</td>\n",
       "      <td>volkswagen</td>\n",
       "      <td>1</td>\n",
       "    </tr>\n",
       "    <tr>\n",
       "      <th>1</th>\n",
       "      <td>coupe</td>\n",
       "      <td>2011</td>\n",
       "      <td>0</td>\n",
       "      <td>190</td>\n",
       "      <td>other</td>\n",
       "      <td>125000</td>\n",
       "      <td>gasoline</td>\n",
       "      <td>audi</td>\n",
       "      <td>1</td>\n",
       "    </tr>\n",
       "    <tr>\n",
       "      <th>2</th>\n",
       "      <td>suv</td>\n",
       "      <td>2004</td>\n",
       "      <td>1</td>\n",
       "      <td>163</td>\n",
       "      <td>grand</td>\n",
       "      <td>125000</td>\n",
       "      <td>gasoline</td>\n",
       "      <td>jeep</td>\n",
       "      <td>0</td>\n",
       "    </tr>\n",
       "    <tr>\n",
       "      <th>3</th>\n",
       "      <td>small</td>\n",
       "      <td>2001</td>\n",
       "      <td>0</td>\n",
       "      <td>75</td>\n",
       "      <td>golf</td>\n",
       "      <td>150000</td>\n",
       "      <td>petrol</td>\n",
       "      <td>volkswagen</td>\n",
       "      <td>0</td>\n",
       "    </tr>\n",
       "    <tr>\n",
       "      <th>4</th>\n",
       "      <td>small</td>\n",
       "      <td>2008</td>\n",
       "      <td>0</td>\n",
       "      <td>69</td>\n",
       "      <td>fabia</td>\n",
       "      <td>90000</td>\n",
       "      <td>gasoline</td>\n",
       "      <td>skoda</td>\n",
       "      <td>0</td>\n",
       "    </tr>\n",
       "    <tr>\n",
       "      <th>...</th>\n",
       "      <td>...</td>\n",
       "      <td>...</td>\n",
       "      <td>...</td>\n",
       "      <td>...</td>\n",
       "      <td>...</td>\n",
       "      <td>...</td>\n",
       "      <td>...</td>\n",
       "      <td>...</td>\n",
       "      <td>...</td>\n",
       "    </tr>\n",
       "    <tr>\n",
       "      <th>354363</th>\n",
       "      <td>bus</td>\n",
       "      <td>2000</td>\n",
       "      <td>0</td>\n",
       "      <td>105</td>\n",
       "      <td>zafira</td>\n",
       "      <td>150000</td>\n",
       "      <td>petrol</td>\n",
       "      <td>opel</td>\n",
       "      <td>0</td>\n",
       "    </tr>\n",
       "    <tr>\n",
       "      <th>354365</th>\n",
       "      <td>other</td>\n",
       "      <td>2005</td>\n",
       "      <td>0</td>\n",
       "      <td>155</td>\n",
       "      <td>other</td>\n",
       "      <td>20000</td>\n",
       "      <td>other</td>\n",
       "      <td>sonstige_autos</td>\n",
       "      <td>0</td>\n",
       "    </tr>\n",
       "    <tr>\n",
       "      <th>354366</th>\n",
       "      <td>convertible</td>\n",
       "      <td>2000</td>\n",
       "      <td>1</td>\n",
       "      <td>101</td>\n",
       "      <td>fortwo</td>\n",
       "      <td>125000</td>\n",
       "      <td>petrol</td>\n",
       "      <td>smart</td>\n",
       "      <td>0</td>\n",
       "    </tr>\n",
       "    <tr>\n",
       "      <th>354367</th>\n",
       "      <td>bus</td>\n",
       "      <td>1996</td>\n",
       "      <td>0</td>\n",
       "      <td>102</td>\n",
       "      <td>transporter</td>\n",
       "      <td>150000</td>\n",
       "      <td>gasoline</td>\n",
       "      <td>volkswagen</td>\n",
       "      <td>0</td>\n",
       "    </tr>\n",
       "    <tr>\n",
       "      <th>354368</th>\n",
       "      <td>wagon</td>\n",
       "      <td>2002</td>\n",
       "      <td>0</td>\n",
       "      <td>100</td>\n",
       "      <td>golf</td>\n",
       "      <td>150000</td>\n",
       "      <td>gasoline</td>\n",
       "      <td>volkswagen</td>\n",
       "      <td>0</td>\n",
       "    </tr>\n",
       "  </tbody>\n",
       "</table>\n",
       "<p>328359 rows × 9 columns</p>\n",
       "</div>"
      ],
      "text/plain": [
       "        VehicleType  RegistrationYear  Gearbox  Power        Model  Kilometer  \\\n",
       "0             other              1993        0    106         golf     150000   \n",
       "1             coupe              2011        0    190        other     125000   \n",
       "2               suv              2004        1    163        grand     125000   \n",
       "3             small              2001        0     75         golf     150000   \n",
       "4             small              2008        0     69        fabia      90000   \n",
       "...             ...               ...      ...    ...          ...        ...   \n",
       "354363          bus              2000        0    105       zafira     150000   \n",
       "354365        other              2005        0    155        other      20000   \n",
       "354366  convertible              2000        1    101       fortwo     125000   \n",
       "354367          bus              1996        0    102  transporter     150000   \n",
       "354368        wagon              2002        0    100         golf     150000   \n",
       "\n",
       "        FuelType           Brand  Repaired  \n",
       "0         petrol      volkswagen         1  \n",
       "1       gasoline            audi         1  \n",
       "2       gasoline            jeep         0  \n",
       "3         petrol      volkswagen         0  \n",
       "4       gasoline           skoda         0  \n",
       "...          ...             ...       ...  \n",
       "354363    petrol            opel         0  \n",
       "354365     other  sonstige_autos         0  \n",
       "354366    petrol           smart         0  \n",
       "354367  gasoline      volkswagen         0  \n",
       "354368  gasoline      volkswagen         0  \n",
       "\n",
       "[328359 rows x 9 columns]"
      ]
     },
     "metadata": {},
     "output_type": "display_data"
    }
   ],
   "source": [
    "ordinal_x = cars_df_x.copy()\n",
    "display(ordinal_x)"
   ]
  },
  {
   "cell_type": "code",
   "execution_count": 95,
   "metadata": {},
   "outputs": [
    {
     "data": {
      "text/html": [
       "<div>\n",
       "<style scoped>\n",
       "    .dataframe tbody tr th:only-of-type {\n",
       "        vertical-align: middle;\n",
       "    }\n",
       "\n",
       "    .dataframe tbody tr th {\n",
       "        vertical-align: top;\n",
       "    }\n",
       "\n",
       "    .dataframe thead th {\n",
       "        text-align: right;\n",
       "    }\n",
       "</style>\n",
       "<table border=\"1\" class=\"dataframe\">\n",
       "  <thead>\n",
       "    <tr style=\"text-align: right;\">\n",
       "      <th></th>\n",
       "      <th>VehicleType</th>\n",
       "      <th>RegistrationYear</th>\n",
       "      <th>Gearbox</th>\n",
       "      <th>Power</th>\n",
       "      <th>Model</th>\n",
       "      <th>Kilometer</th>\n",
       "      <th>FuelType</th>\n",
       "      <th>Brand</th>\n",
       "      <th>Repaired</th>\n",
       "    </tr>\n",
       "  </thead>\n",
       "  <tbody>\n",
       "    <tr>\n",
       "      <th>0</th>\n",
       "      <td>3.0</td>\n",
       "      <td>1993</td>\n",
       "      <td>0</td>\n",
       "      <td>106</td>\n",
       "      <td>116.0</td>\n",
       "      <td>150000</td>\n",
       "      <td>6.0</td>\n",
       "      <td>38.0</td>\n",
       "      <td>1</td>\n",
       "    </tr>\n",
       "    <tr>\n",
       "      <th>1</th>\n",
       "      <td>2.0</td>\n",
       "      <td>2011</td>\n",
       "      <td>0</td>\n",
       "      <td>190</td>\n",
       "      <td>166.0</td>\n",
       "      <td>125000</td>\n",
       "      <td>2.0</td>\n",
       "      <td>1.0</td>\n",
       "      <td>1</td>\n",
       "    </tr>\n",
       "    <tr>\n",
       "      <th>2</th>\n",
       "      <td>6.0</td>\n",
       "      <td>2004</td>\n",
       "      <td>1</td>\n",
       "      <td>163</td>\n",
       "      <td>117.0</td>\n",
       "      <td>125000</td>\n",
       "      <td>2.0</td>\n",
       "      <td>14.0</td>\n",
       "      <td>0</td>\n",
       "    </tr>\n",
       "    <tr>\n",
       "      <th>3</th>\n",
       "      <td>5.0</td>\n",
       "      <td>2001</td>\n",
       "      <td>0</td>\n",
       "      <td>75</td>\n",
       "      <td>116.0</td>\n",
       "      <td>150000</td>\n",
       "      <td>6.0</td>\n",
       "      <td>38.0</td>\n",
       "      <td>0</td>\n",
       "    </tr>\n",
       "    <tr>\n",
       "      <th>4</th>\n",
       "      <td>5.0</td>\n",
       "      <td>2008</td>\n",
       "      <td>0</td>\n",
       "      <td>69</td>\n",
       "      <td>101.0</td>\n",
       "      <td>90000</td>\n",
       "      <td>2.0</td>\n",
       "      <td>31.0</td>\n",
       "      <td>0</td>\n",
       "    </tr>\n",
       "    <tr>\n",
       "      <th>...</th>\n",
       "      <td>...</td>\n",
       "      <td>...</td>\n",
       "      <td>...</td>\n",
       "      <td>...</td>\n",
       "      <td>...</td>\n",
       "      <td>...</td>\n",
       "      <td>...</td>\n",
       "      <td>...</td>\n",
       "      <td>...</td>\n",
       "    </tr>\n",
       "    <tr>\n",
       "      <th>354363</th>\n",
       "      <td>0.0</td>\n",
       "      <td>2000</td>\n",
       "      <td>0</td>\n",
       "      <td>105</td>\n",
       "      <td>249.0</td>\n",
       "      <td>150000</td>\n",
       "      <td>6.0</td>\n",
       "      <td>24.0</td>\n",
       "      <td>0</td>\n",
       "    </tr>\n",
       "    <tr>\n",
       "      <th>354365</th>\n",
       "      <td>3.0</td>\n",
       "      <td>2005</td>\n",
       "      <td>0</td>\n",
       "      <td>155</td>\n",
       "      <td>166.0</td>\n",
       "      <td>20000</td>\n",
       "      <td>5.0</td>\n",
       "      <td>33.0</td>\n",
       "      <td>0</td>\n",
       "    </tr>\n",
       "    <tr>\n",
       "      <th>354366</th>\n",
       "      <td>1.0</td>\n",
       "      <td>2000</td>\n",
       "      <td>1</td>\n",
       "      <td>101</td>\n",
       "      <td>106.0</td>\n",
       "      <td>125000</td>\n",
       "      <td>6.0</td>\n",
       "      <td>32.0</td>\n",
       "      <td>0</td>\n",
       "    </tr>\n",
       "    <tr>\n",
       "      <th>354367</th>\n",
       "      <td>0.0</td>\n",
       "      <td>1996</td>\n",
       "      <td>0</td>\n",
       "      <td>102</td>\n",
       "      <td>224.0</td>\n",
       "      <td>150000</td>\n",
       "      <td>2.0</td>\n",
       "      <td>38.0</td>\n",
       "      <td>0</td>\n",
       "    </tr>\n",
       "    <tr>\n",
       "      <th>354368</th>\n",
       "      <td>7.0</td>\n",
       "      <td>2002</td>\n",
       "      <td>0</td>\n",
       "      <td>100</td>\n",
       "      <td>116.0</td>\n",
       "      <td>150000</td>\n",
       "      <td>2.0</td>\n",
       "      <td>38.0</td>\n",
       "      <td>0</td>\n",
       "    </tr>\n",
       "  </tbody>\n",
       "</table>\n",
       "<p>328359 rows × 9 columns</p>\n",
       "</div>"
      ],
      "text/plain": [
       "        VehicleType  RegistrationYear  Gearbox  Power  Model  Kilometer  \\\n",
       "0               3.0              1993        0    106  116.0     150000   \n",
       "1               2.0              2011        0    190  166.0     125000   \n",
       "2               6.0              2004        1    163  117.0     125000   \n",
       "3               5.0              2001        0     75  116.0     150000   \n",
       "4               5.0              2008        0     69  101.0      90000   \n",
       "...             ...               ...      ...    ...    ...        ...   \n",
       "354363          0.0              2000        0    105  249.0     150000   \n",
       "354365          3.0              2005        0    155  166.0      20000   \n",
       "354366          1.0              2000        1    101  106.0     125000   \n",
       "354367          0.0              1996        0    102  224.0     150000   \n",
       "354368          7.0              2002        0    100  116.0     150000   \n",
       "\n",
       "        FuelType  Brand  Repaired  \n",
       "0            6.0   38.0         1  \n",
       "1            2.0    1.0         1  \n",
       "2            2.0   14.0         0  \n",
       "3            6.0   38.0         0  \n",
       "4            2.0   31.0         0  \n",
       "...          ...    ...       ...  \n",
       "354363       6.0   24.0         0  \n",
       "354365       5.0   33.0         0  \n",
       "354366       6.0   32.0         0  \n",
       "354367       2.0   38.0         0  \n",
       "354368       2.0   38.0         0  \n",
       "\n",
       "[328359 rows x 9 columns]"
      ]
     },
     "metadata": {},
     "output_type": "display_data"
    }
   ],
   "source": [
    "for column in cat_columns:\n",
    "    ordinal_x[column] = cat_x[column]\n",
    "display(ordinal_x)"
   ]
  },
  {
   "cell_type": "code",
   "execution_count": 96,
   "metadata": {},
   "outputs": [
    {
     "name": "stdout",
     "output_type": "stream",
     "text": [
      "Размер тренерующей выборки ordinal_x_train: (246269, 9)\n",
      "Размер тестовой выборки ordinal_x_test: (82090, 9)\n"
     ]
    }
   ],
   "source": [
    "ordinal_x_train = ordinal_x.loc[original_x_train.index, :]\n",
    "ordinal_x_test = ordinal_x.loc[original_x_test.index, :]\n",
    "print('Размер тренерующей выборки ordinal_x_train:', ordinal_x_train.shape)\n",
    "print('Размер тестовой выборки ordinal_x_test:', ordinal_x_test.shape)"
   ]
  },
  {
   "cell_type": "code",
   "execution_count": 97,
   "metadata": {},
   "outputs": [
    {
     "data": {
      "text/html": [
       "<div>\n",
       "<style scoped>\n",
       "    .dataframe tbody tr th:only-of-type {\n",
       "        vertical-align: middle;\n",
       "    }\n",
       "\n",
       "    .dataframe tbody tr th {\n",
       "        vertical-align: top;\n",
       "    }\n",
       "\n",
       "    .dataframe thead th {\n",
       "        text-align: right;\n",
       "    }\n",
       "</style>\n",
       "<table border=\"1\" class=\"dataframe\">\n",
       "  <thead>\n",
       "    <tr style=\"text-align: right;\">\n",
       "      <th></th>\n",
       "      <th>RegistrationYear</th>\n",
       "      <th>Gearbox</th>\n",
       "      <th>Power</th>\n",
       "      <th>Kilometer</th>\n",
       "      <th>Repaired</th>\n",
       "      <th>VehicleType_convertible</th>\n",
       "      <th>VehicleType_coupe</th>\n",
       "      <th>VehicleType_other</th>\n",
       "      <th>VehicleType_sedan</th>\n",
       "      <th>VehicleType_small</th>\n",
       "      <th>...</th>\n",
       "      <th>Brand_seat</th>\n",
       "      <th>Brand_skoda</th>\n",
       "      <th>Brand_smart</th>\n",
       "      <th>Brand_sonstige_autos</th>\n",
       "      <th>Brand_subaru</th>\n",
       "      <th>Brand_suzuki</th>\n",
       "      <th>Brand_toyota</th>\n",
       "      <th>Brand_trabant</th>\n",
       "      <th>Brand_volkswagen</th>\n",
       "      <th>Brand_volvo</th>\n",
       "    </tr>\n",
       "  </thead>\n",
       "  <tbody>\n",
       "    <tr>\n",
       "      <th>0</th>\n",
       "      <td>1993</td>\n",
       "      <td>0</td>\n",
       "      <td>106</td>\n",
       "      <td>150000</td>\n",
       "      <td>1</td>\n",
       "      <td>0</td>\n",
       "      <td>0</td>\n",
       "      <td>1</td>\n",
       "      <td>0</td>\n",
       "      <td>0</td>\n",
       "      <td>...</td>\n",
       "      <td>0</td>\n",
       "      <td>0</td>\n",
       "      <td>0</td>\n",
       "      <td>0</td>\n",
       "      <td>0</td>\n",
       "      <td>0</td>\n",
       "      <td>0</td>\n",
       "      <td>0</td>\n",
       "      <td>1</td>\n",
       "      <td>0</td>\n",
       "    </tr>\n",
       "    <tr>\n",
       "      <th>1</th>\n",
       "      <td>2011</td>\n",
       "      <td>0</td>\n",
       "      <td>190</td>\n",
       "      <td>125000</td>\n",
       "      <td>1</td>\n",
       "      <td>0</td>\n",
       "      <td>1</td>\n",
       "      <td>0</td>\n",
       "      <td>0</td>\n",
       "      <td>0</td>\n",
       "      <td>...</td>\n",
       "      <td>0</td>\n",
       "      <td>0</td>\n",
       "      <td>0</td>\n",
       "      <td>0</td>\n",
       "      <td>0</td>\n",
       "      <td>0</td>\n",
       "      <td>0</td>\n",
       "      <td>0</td>\n",
       "      <td>0</td>\n",
       "      <td>0</td>\n",
       "    </tr>\n",
       "    <tr>\n",
       "      <th>2</th>\n",
       "      <td>2004</td>\n",
       "      <td>1</td>\n",
       "      <td>163</td>\n",
       "      <td>125000</td>\n",
       "      <td>0</td>\n",
       "      <td>0</td>\n",
       "      <td>0</td>\n",
       "      <td>0</td>\n",
       "      <td>0</td>\n",
       "      <td>0</td>\n",
       "      <td>...</td>\n",
       "      <td>0</td>\n",
       "      <td>0</td>\n",
       "      <td>0</td>\n",
       "      <td>0</td>\n",
       "      <td>0</td>\n",
       "      <td>0</td>\n",
       "      <td>0</td>\n",
       "      <td>0</td>\n",
       "      <td>0</td>\n",
       "      <td>0</td>\n",
       "    </tr>\n",
       "    <tr>\n",
       "      <th>3</th>\n",
       "      <td>2001</td>\n",
       "      <td>0</td>\n",
       "      <td>75</td>\n",
       "      <td>150000</td>\n",
       "      <td>0</td>\n",
       "      <td>0</td>\n",
       "      <td>0</td>\n",
       "      <td>0</td>\n",
       "      <td>0</td>\n",
       "      <td>1</td>\n",
       "      <td>...</td>\n",
       "      <td>0</td>\n",
       "      <td>0</td>\n",
       "      <td>0</td>\n",
       "      <td>0</td>\n",
       "      <td>0</td>\n",
       "      <td>0</td>\n",
       "      <td>0</td>\n",
       "      <td>0</td>\n",
       "      <td>1</td>\n",
       "      <td>0</td>\n",
       "    </tr>\n",
       "    <tr>\n",
       "      <th>4</th>\n",
       "      <td>2008</td>\n",
       "      <td>0</td>\n",
       "      <td>69</td>\n",
       "      <td>90000</td>\n",
       "      <td>0</td>\n",
       "      <td>0</td>\n",
       "      <td>0</td>\n",
       "      <td>0</td>\n",
       "      <td>0</td>\n",
       "      <td>1</td>\n",
       "      <td>...</td>\n",
       "      <td>0</td>\n",
       "      <td>1</td>\n",
       "      <td>0</td>\n",
       "      <td>0</td>\n",
       "      <td>0</td>\n",
       "      <td>0</td>\n",
       "      <td>0</td>\n",
       "      <td>0</td>\n",
       "      <td>0</td>\n",
       "      <td>0</td>\n",
       "    </tr>\n",
       "    <tr>\n",
       "      <th>...</th>\n",
       "      <td>...</td>\n",
       "      <td>...</td>\n",
       "      <td>...</td>\n",
       "      <td>...</td>\n",
       "      <td>...</td>\n",
       "      <td>...</td>\n",
       "      <td>...</td>\n",
       "      <td>...</td>\n",
       "      <td>...</td>\n",
       "      <td>...</td>\n",
       "      <td>...</td>\n",
       "      <td>...</td>\n",
       "      <td>...</td>\n",
       "      <td>...</td>\n",
       "      <td>...</td>\n",
       "      <td>...</td>\n",
       "      <td>...</td>\n",
       "      <td>...</td>\n",
       "      <td>...</td>\n",
       "      <td>...</td>\n",
       "      <td>...</td>\n",
       "    </tr>\n",
       "    <tr>\n",
       "      <th>354363</th>\n",
       "      <td>2000</td>\n",
       "      <td>0</td>\n",
       "      <td>105</td>\n",
       "      <td>150000</td>\n",
       "      <td>0</td>\n",
       "      <td>0</td>\n",
       "      <td>0</td>\n",
       "      <td>0</td>\n",
       "      <td>0</td>\n",
       "      <td>0</td>\n",
       "      <td>...</td>\n",
       "      <td>0</td>\n",
       "      <td>0</td>\n",
       "      <td>0</td>\n",
       "      <td>0</td>\n",
       "      <td>0</td>\n",
       "      <td>0</td>\n",
       "      <td>0</td>\n",
       "      <td>0</td>\n",
       "      <td>0</td>\n",
       "      <td>0</td>\n",
       "    </tr>\n",
       "    <tr>\n",
       "      <th>354365</th>\n",
       "      <td>2005</td>\n",
       "      <td>0</td>\n",
       "      <td>155</td>\n",
       "      <td>20000</td>\n",
       "      <td>0</td>\n",
       "      <td>0</td>\n",
       "      <td>0</td>\n",
       "      <td>1</td>\n",
       "      <td>0</td>\n",
       "      <td>0</td>\n",
       "      <td>...</td>\n",
       "      <td>0</td>\n",
       "      <td>0</td>\n",
       "      <td>0</td>\n",
       "      <td>1</td>\n",
       "      <td>0</td>\n",
       "      <td>0</td>\n",
       "      <td>0</td>\n",
       "      <td>0</td>\n",
       "      <td>0</td>\n",
       "      <td>0</td>\n",
       "    </tr>\n",
       "    <tr>\n",
       "      <th>354366</th>\n",
       "      <td>2000</td>\n",
       "      <td>1</td>\n",
       "      <td>101</td>\n",
       "      <td>125000</td>\n",
       "      <td>0</td>\n",
       "      <td>1</td>\n",
       "      <td>0</td>\n",
       "      <td>0</td>\n",
       "      <td>0</td>\n",
       "      <td>0</td>\n",
       "      <td>...</td>\n",
       "      <td>0</td>\n",
       "      <td>0</td>\n",
       "      <td>1</td>\n",
       "      <td>0</td>\n",
       "      <td>0</td>\n",
       "      <td>0</td>\n",
       "      <td>0</td>\n",
       "      <td>0</td>\n",
       "      <td>0</td>\n",
       "      <td>0</td>\n",
       "    </tr>\n",
       "    <tr>\n",
       "      <th>354367</th>\n",
       "      <td>1996</td>\n",
       "      <td>0</td>\n",
       "      <td>102</td>\n",
       "      <td>150000</td>\n",
       "      <td>0</td>\n",
       "      <td>0</td>\n",
       "      <td>0</td>\n",
       "      <td>0</td>\n",
       "      <td>0</td>\n",
       "      <td>0</td>\n",
       "      <td>...</td>\n",
       "      <td>0</td>\n",
       "      <td>0</td>\n",
       "      <td>0</td>\n",
       "      <td>0</td>\n",
       "      <td>0</td>\n",
       "      <td>0</td>\n",
       "      <td>0</td>\n",
       "      <td>0</td>\n",
       "      <td>1</td>\n",
       "      <td>0</td>\n",
       "    </tr>\n",
       "    <tr>\n",
       "      <th>354368</th>\n",
       "      <td>2002</td>\n",
       "      <td>0</td>\n",
       "      <td>100</td>\n",
       "      <td>150000</td>\n",
       "      <td>0</td>\n",
       "      <td>0</td>\n",
       "      <td>0</td>\n",
       "      <td>0</td>\n",
       "      <td>0</td>\n",
       "      <td>0</td>\n",
       "      <td>...</td>\n",
       "      <td>0</td>\n",
       "      <td>0</td>\n",
       "      <td>0</td>\n",
       "      <td>0</td>\n",
       "      <td>0</td>\n",
       "      <td>0</td>\n",
       "      <td>0</td>\n",
       "      <td>0</td>\n",
       "      <td>1</td>\n",
       "      <td>0</td>\n",
       "    </tr>\n",
       "  </tbody>\n",
       "</table>\n",
       "<p>328359 rows × 306 columns</p>\n",
       "</div>"
      ],
      "text/plain": [
       "        RegistrationYear  Gearbox  Power  Kilometer  Repaired  \\\n",
       "0                   1993        0    106     150000         1   \n",
       "1                   2011        0    190     125000         1   \n",
       "2                   2004        1    163     125000         0   \n",
       "3                   2001        0     75     150000         0   \n",
       "4                   2008        0     69      90000         0   \n",
       "...                  ...      ...    ...        ...       ...   \n",
       "354363              2000        0    105     150000         0   \n",
       "354365              2005        0    155      20000         0   \n",
       "354366              2000        1    101     125000         0   \n",
       "354367              1996        0    102     150000         0   \n",
       "354368              2002        0    100     150000         0   \n",
       "\n",
       "        VehicleType_convertible  VehicleType_coupe  VehicleType_other  \\\n",
       "0                             0                  0                  1   \n",
       "1                             0                  1                  0   \n",
       "2                             0                  0                  0   \n",
       "3                             0                  0                  0   \n",
       "4                             0                  0                  0   \n",
       "...                         ...                ...                ...   \n",
       "354363                        0                  0                  0   \n",
       "354365                        0                  0                  1   \n",
       "354366                        1                  0                  0   \n",
       "354367                        0                  0                  0   \n",
       "354368                        0                  0                  0   \n",
       "\n",
       "        VehicleType_sedan  VehicleType_small  ...  Brand_seat  Brand_skoda  \\\n",
       "0                       0                  0  ...           0            0   \n",
       "1                       0                  0  ...           0            0   \n",
       "2                       0                  0  ...           0            0   \n",
       "3                       0                  1  ...           0            0   \n",
       "4                       0                  1  ...           0            1   \n",
       "...                   ...                ...  ...         ...          ...   \n",
       "354363                  0                  0  ...           0            0   \n",
       "354365                  0                  0  ...           0            0   \n",
       "354366                  0                  0  ...           0            0   \n",
       "354367                  0                  0  ...           0            0   \n",
       "354368                  0                  0  ...           0            0   \n",
       "\n",
       "        Brand_smart  Brand_sonstige_autos  Brand_subaru  Brand_suzuki  \\\n",
       "0                 0                     0             0             0   \n",
       "1                 0                     0             0             0   \n",
       "2                 0                     0             0             0   \n",
       "3                 0                     0             0             0   \n",
       "4                 0                     0             0             0   \n",
       "...             ...                   ...           ...           ...   \n",
       "354363            0                     0             0             0   \n",
       "354365            0                     1             0             0   \n",
       "354366            1                     0             0             0   \n",
       "354367            0                     0             0             0   \n",
       "354368            0                     0             0             0   \n",
       "\n",
       "        Brand_toyota  Brand_trabant  Brand_volkswagen  Brand_volvo  \n",
       "0                  0              0                 1            0  \n",
       "1                  0              0                 0            0  \n",
       "2                  0              0                 0            0  \n",
       "3                  0              0                 1            0  \n",
       "4                  0              0                 0            0  \n",
       "...              ...            ...               ...          ...  \n",
       "354363             0              0                 0            0  \n",
       "354365             0              0                 0            0  \n",
       "354366             0              0                 0            0  \n",
       "354367             0              0                 1            0  \n",
       "354368             0              0                 1            0  \n",
       "\n",
       "[328359 rows x 306 columns]"
      ]
     },
     "metadata": {},
     "output_type": "display_data"
    }
   ],
   "source": [
    "ohe_x = pd.get_dummies(cars_df_x, drop_first = True)\n",
    "display(ohe_x)"
   ]
  },
  {
   "cell_type": "code",
   "execution_count": 98,
   "metadata": {},
   "outputs": [
    {
     "name": "stdout",
     "output_type": "stream",
     "text": [
      "Размер тренерующей выборки ohe_x_train: (246269, 306)\n",
      "Размер тестовой выборки ohe_x_test: (82090, 306)\n"
     ]
    }
   ],
   "source": [
    "ohe_x_train = ohe_x.loc[original_x_train.index, :]\n",
    "ohe_x_test = ohe_x.loc[original_x_test.index, :]\n",
    "print('Размер тренерующей выборки ohe_x_train:', ohe_x_train.shape)\n",
    "print('Размер тестовой выборки ohe_x_test:', ohe_x_test.shape)"
   ]
  },
  {
   "cell_type": "markdown",
   "metadata": {},
   "source": [
    "Создадим отдельный набор данных (*_2) для OneHotEncoder()"
   ]
  },
  {
   "cell_type": "code",
   "execution_count": 99,
   "metadata": {},
   "outputs": [
    {
     "name": "stdout",
     "output_type": "stream",
     "text": [
      "['VehicleType', 'Model', 'FuelType', 'Brand']\n"
     ]
    }
   ],
   "source": [
    "cat_columns_2 = original_x_train.select_dtypes(include = 'object').columns.to_list()\n",
    "# Если при кодировании значений признаков много и ядро Jupiter вылетает можно убрать признак 'Model' из кодирования\n",
    "# cat_columns_2.remove('Model')\n",
    "print(cat_columns_2)"
   ]
  },
  {
   "cell_type": "code",
   "execution_count": 100,
   "metadata": {},
   "outputs": [
    {
     "data": {
      "text/html": [
       "<div>\n",
       "<style scoped>\n",
       "    .dataframe tbody tr th:only-of-type {\n",
       "        vertical-align: middle;\n",
       "    }\n",
       "\n",
       "    .dataframe tbody tr th {\n",
       "        vertical-align: top;\n",
       "    }\n",
       "\n",
       "    .dataframe thead th {\n",
       "        text-align: right;\n",
       "    }\n",
       "</style>\n",
       "<table border=\"1\" class=\"dataframe\">\n",
       "  <thead>\n",
       "    <tr style=\"text-align: right;\">\n",
       "      <th></th>\n",
       "      <th>VehicleType</th>\n",
       "      <th>RegistrationYear</th>\n",
       "      <th>Gearbox</th>\n",
       "      <th>Power</th>\n",
       "      <th>Model</th>\n",
       "      <th>Kilometer</th>\n",
       "      <th>FuelType</th>\n",
       "      <th>Brand</th>\n",
       "      <th>Repaired</th>\n",
       "    </tr>\n",
       "  </thead>\n",
       "  <tbody>\n",
       "    <tr>\n",
       "      <th>0</th>\n",
       "      <td>other</td>\n",
       "      <td>1993</td>\n",
       "      <td>0</td>\n",
       "      <td>106</td>\n",
       "      <td>golf</td>\n",
       "      <td>150000</td>\n",
       "      <td>petrol</td>\n",
       "      <td>volkswagen</td>\n",
       "      <td>1</td>\n",
       "    </tr>\n",
       "    <tr>\n",
       "      <th>1</th>\n",
       "      <td>coupe</td>\n",
       "      <td>2011</td>\n",
       "      <td>0</td>\n",
       "      <td>190</td>\n",
       "      <td>other</td>\n",
       "      <td>125000</td>\n",
       "      <td>gasoline</td>\n",
       "      <td>audi</td>\n",
       "      <td>1</td>\n",
       "    </tr>\n",
       "    <tr>\n",
       "      <th>2</th>\n",
       "      <td>suv</td>\n",
       "      <td>2004</td>\n",
       "      <td>1</td>\n",
       "      <td>163</td>\n",
       "      <td>grand</td>\n",
       "      <td>125000</td>\n",
       "      <td>gasoline</td>\n",
       "      <td>jeep</td>\n",
       "      <td>0</td>\n",
       "    </tr>\n",
       "    <tr>\n",
       "      <th>3</th>\n",
       "      <td>small</td>\n",
       "      <td>2001</td>\n",
       "      <td>0</td>\n",
       "      <td>75</td>\n",
       "      <td>golf</td>\n",
       "      <td>150000</td>\n",
       "      <td>petrol</td>\n",
       "      <td>volkswagen</td>\n",
       "      <td>0</td>\n",
       "    </tr>\n",
       "    <tr>\n",
       "      <th>4</th>\n",
       "      <td>small</td>\n",
       "      <td>2008</td>\n",
       "      <td>0</td>\n",
       "      <td>69</td>\n",
       "      <td>fabia</td>\n",
       "      <td>90000</td>\n",
       "      <td>gasoline</td>\n",
       "      <td>skoda</td>\n",
       "      <td>0</td>\n",
       "    </tr>\n",
       "    <tr>\n",
       "      <th>...</th>\n",
       "      <td>...</td>\n",
       "      <td>...</td>\n",
       "      <td>...</td>\n",
       "      <td>...</td>\n",
       "      <td>...</td>\n",
       "      <td>...</td>\n",
       "      <td>...</td>\n",
       "      <td>...</td>\n",
       "      <td>...</td>\n",
       "    </tr>\n",
       "    <tr>\n",
       "      <th>354363</th>\n",
       "      <td>bus</td>\n",
       "      <td>2000</td>\n",
       "      <td>0</td>\n",
       "      <td>105</td>\n",
       "      <td>zafira</td>\n",
       "      <td>150000</td>\n",
       "      <td>petrol</td>\n",
       "      <td>opel</td>\n",
       "      <td>0</td>\n",
       "    </tr>\n",
       "    <tr>\n",
       "      <th>354365</th>\n",
       "      <td>other</td>\n",
       "      <td>2005</td>\n",
       "      <td>0</td>\n",
       "      <td>155</td>\n",
       "      <td>other</td>\n",
       "      <td>20000</td>\n",
       "      <td>other</td>\n",
       "      <td>sonstige_autos</td>\n",
       "      <td>0</td>\n",
       "    </tr>\n",
       "    <tr>\n",
       "      <th>354366</th>\n",
       "      <td>convertible</td>\n",
       "      <td>2000</td>\n",
       "      <td>1</td>\n",
       "      <td>101</td>\n",
       "      <td>fortwo</td>\n",
       "      <td>125000</td>\n",
       "      <td>petrol</td>\n",
       "      <td>smart</td>\n",
       "      <td>0</td>\n",
       "    </tr>\n",
       "    <tr>\n",
       "      <th>354367</th>\n",
       "      <td>bus</td>\n",
       "      <td>1996</td>\n",
       "      <td>0</td>\n",
       "      <td>102</td>\n",
       "      <td>transporter</td>\n",
       "      <td>150000</td>\n",
       "      <td>gasoline</td>\n",
       "      <td>volkswagen</td>\n",
       "      <td>0</td>\n",
       "    </tr>\n",
       "    <tr>\n",
       "      <th>354368</th>\n",
       "      <td>wagon</td>\n",
       "      <td>2002</td>\n",
       "      <td>0</td>\n",
       "      <td>100</td>\n",
       "      <td>golf</td>\n",
       "      <td>150000</td>\n",
       "      <td>gasoline</td>\n",
       "      <td>volkswagen</td>\n",
       "      <td>0</td>\n",
       "    </tr>\n",
       "  </tbody>\n",
       "</table>\n",
       "<p>328359 rows × 9 columns</p>\n",
       "</div>"
      ],
      "text/plain": [
       "        VehicleType  RegistrationYear  Gearbox  Power        Model  Kilometer  \\\n",
       "0             other              1993        0    106         golf     150000   \n",
       "1             coupe              2011        0    190        other     125000   \n",
       "2               suv              2004        1    163        grand     125000   \n",
       "3             small              2001        0     75         golf     150000   \n",
       "4             small              2008        0     69        fabia      90000   \n",
       "...             ...               ...      ...    ...          ...        ...   \n",
       "354363          bus              2000        0    105       zafira     150000   \n",
       "354365        other              2005        0    155        other      20000   \n",
       "354366  convertible              2000        1    101       fortwo     125000   \n",
       "354367          bus              1996        0    102  transporter     150000   \n",
       "354368        wagon              2002        0    100         golf     150000   \n",
       "\n",
       "        FuelType           Brand  Repaired  \n",
       "0         petrol      volkswagen         1  \n",
       "1       gasoline            audi         1  \n",
       "2       gasoline            jeep         0  \n",
       "3         petrol      volkswagen         0  \n",
       "4       gasoline           skoda         0  \n",
       "...          ...             ...       ...  \n",
       "354363    petrol            opel         0  \n",
       "354365     other  sonstige_autos         0  \n",
       "354366    petrol           smart         0  \n",
       "354367  gasoline      volkswagen         0  \n",
       "354368  gasoline      volkswagen         0  \n",
       "\n",
       "[328359 rows x 9 columns]"
      ]
     },
     "metadata": {},
     "output_type": "display_data"
    }
   ],
   "source": [
    "ohe_x_2 = cars_df_x.copy()\n",
    "display(ohe_x_2)"
   ]
  },
  {
   "cell_type": "code",
   "execution_count": 101,
   "metadata": {},
   "outputs": [
    {
     "data": {
      "text/html": [
       "<style>#sk-container-id-2 {color: black;background-color: white;}#sk-container-id-2 pre{padding: 0;}#sk-container-id-2 div.sk-toggleable {background-color: white;}#sk-container-id-2 label.sk-toggleable__label {cursor: pointer;display: block;width: 100%;margin-bottom: 0;padding: 0.3em;box-sizing: border-box;text-align: center;}#sk-container-id-2 label.sk-toggleable__label-arrow:before {content: \"▸\";float: left;margin-right: 0.25em;color: #696969;}#sk-container-id-2 label.sk-toggleable__label-arrow:hover:before {color: black;}#sk-container-id-2 div.sk-estimator:hover label.sk-toggleable__label-arrow:before {color: black;}#sk-container-id-2 div.sk-toggleable__content {max-height: 0;max-width: 0;overflow: hidden;text-align: left;background-color: #f0f8ff;}#sk-container-id-2 div.sk-toggleable__content pre {margin: 0.2em;color: black;border-radius: 0.25em;background-color: #f0f8ff;}#sk-container-id-2 input.sk-toggleable__control:checked~div.sk-toggleable__content {max-height: 200px;max-width: 100%;overflow: auto;}#sk-container-id-2 input.sk-toggleable__control:checked~label.sk-toggleable__label-arrow:before {content: \"▾\";}#sk-container-id-2 div.sk-estimator input.sk-toggleable__control:checked~label.sk-toggleable__label {background-color: #d4ebff;}#sk-container-id-2 div.sk-label input.sk-toggleable__control:checked~label.sk-toggleable__label {background-color: #d4ebff;}#sk-container-id-2 input.sk-hidden--visually {border: 0;clip: rect(1px 1px 1px 1px);clip: rect(1px, 1px, 1px, 1px);height: 1px;margin: -1px;overflow: hidden;padding: 0;position: absolute;width: 1px;}#sk-container-id-2 div.sk-estimator {font-family: monospace;background-color: #f0f8ff;border: 1px dotted black;border-radius: 0.25em;box-sizing: border-box;margin-bottom: 0.5em;}#sk-container-id-2 div.sk-estimator:hover {background-color: #d4ebff;}#sk-container-id-2 div.sk-parallel-item::after {content: \"\";width: 100%;border-bottom: 1px solid gray;flex-grow: 1;}#sk-container-id-2 div.sk-label:hover label.sk-toggleable__label {background-color: #d4ebff;}#sk-container-id-2 div.sk-serial::before {content: \"\";position: absolute;border-left: 1px solid gray;box-sizing: border-box;top: 0;bottom: 0;left: 50%;z-index: 0;}#sk-container-id-2 div.sk-serial {display: flex;flex-direction: column;align-items: center;background-color: white;padding-right: 0.2em;padding-left: 0.2em;position: relative;}#sk-container-id-2 div.sk-item {position: relative;z-index: 1;}#sk-container-id-2 div.sk-parallel {display: flex;align-items: stretch;justify-content: center;background-color: white;position: relative;}#sk-container-id-2 div.sk-item::before, #sk-container-id-2 div.sk-parallel-item::before {content: \"\";position: absolute;border-left: 1px solid gray;box-sizing: border-box;top: 0;bottom: 0;left: 50%;z-index: -1;}#sk-container-id-2 div.sk-parallel-item {display: flex;flex-direction: column;z-index: 1;position: relative;background-color: white;}#sk-container-id-2 div.sk-parallel-item:first-child::after {align-self: flex-end;width: 50%;}#sk-container-id-2 div.sk-parallel-item:last-child::after {align-self: flex-start;width: 50%;}#sk-container-id-2 div.sk-parallel-item:only-child::after {width: 0;}#sk-container-id-2 div.sk-dashed-wrapped {border: 1px dashed gray;margin: 0 0.4em 0.5em 0.4em;box-sizing: border-box;padding-bottom: 0.4em;background-color: white;}#sk-container-id-2 div.sk-label label {font-family: monospace;font-weight: bold;display: inline-block;line-height: 1.2em;}#sk-container-id-2 div.sk-label-container {text-align: center;}#sk-container-id-2 div.sk-container {/* jupyter's `normalize.less` sets `[hidden] { display: none; }` but bootstrap.min.css set `[hidden] { display: none !important; }` so we also need the `!important` here to be able to override the default hidden behavior on the sphinx rendered scikit-learn.org. See: https://github.com/scikit-learn/scikit-learn/issues/21755 */display: inline-block !important;position: relative;}#sk-container-id-2 div.sk-text-repr-fallback {display: none;}</style><div id=\"sk-container-id-2\" class=\"sk-top-container\"><div class=\"sk-text-repr-fallback\"><pre>OneHotEncoder(drop=&#x27;first&#x27;, handle_unknown=&#x27;ignore&#x27;, sparse=False)</pre><b>In a Jupyter environment, please rerun this cell to show the HTML representation or trust the notebook. <br />On GitHub, the HTML representation is unable to render, please try loading this page with nbviewer.org.</b></div><div class=\"sk-container\" hidden><div class=\"sk-item\"><div class=\"sk-estimator sk-toggleable\"><input class=\"sk-toggleable__control sk-hidden--visually\" id=\"sk-estimator-id-2\" type=\"checkbox\" checked><label for=\"sk-estimator-id-2\" class=\"sk-toggleable__label sk-toggleable__label-arrow\">OneHotEncoder</label><div class=\"sk-toggleable__content\"><pre>OneHotEncoder(drop=&#x27;first&#x27;, handle_unknown=&#x27;ignore&#x27;, sparse=False)</pre></div></div></div></div></div>"
      ],
      "text/plain": [
       "OneHotEncoder(drop='first', handle_unknown='ignore', sparse=False)"
      ]
     },
     "execution_count": 101,
     "metadata": {},
     "output_type": "execute_result"
    }
   ],
   "source": [
    "# Из-за старой версии sklearn.preprocessing на сайте могут возникать 2 проблемы:\n",
    "# 1. При инициализации с двумя параметрами:\n",
    "#    drop = 'first'\n",
    "#    handle_unknown = 'ignore'\n",
    "#  Jupiter вылетает с ошибкой: \"ValueError: `handle_unknown` must be 'error' when the drop parameter is specified,\n",
    "#  as both would create categories that are all zero.\"\n",
    "#  Можно оставить только первый парамет, хотя второй не менее важен.\n",
    "#\n",
    "# >> encoder_ohe = OneHotEncoder(drop = 'first', sparse = False)\n",
    "#\n",
    "# 2. Другое название у функции, которая возвращает список новых параметров:\n",
    "#    encoder_ohe.get_feature_names(), вместо\n",
    "#    encoder_ohe.get_feature_names_out()\n",
    "#\n",
    "# >> ohe_x_2[encoder_ohe.get_feature_names_out()] = encoder_ohe.transform(ohe_x_2[cat_columns_2])\n",
    "#\n",
    "# Если загрузить блокнот в приложение Jupiter (а не web), с актуальной версией библиотеки, все отработает нормально!\n",
    "\n",
    "encoder_ohe = OneHotEncoder(drop = 'first', handle_unknown = 'ignore', sparse = False)\n",
    "encoder_ohe.fit(ohe_x_2[cat_columns_2])"
   ]
  },
  {
   "cell_type": "markdown",
   "metadata": {},
   "source": [
    "Посмотрим категории каждого признака:"
   ]
  },
  {
   "cell_type": "code",
   "execution_count": 102,
   "metadata": {},
   "outputs": [
    {
     "data": {
      "text/plain": [
       "[array(['bus', 'convertible', 'coupe', 'other', 'sedan', 'small', 'suv',\n",
       "        'wagon'], dtype=object),\n",
       " array(['100', '145', '147', '156', '159', '1_reihe', '1er', '200',\n",
       "        '2_reihe', '300c', '3_reihe', '3er', '4_reihe', '500', '5_reihe',\n",
       "        '5er', '601', '6_reihe', '6er', '7er', '80', '850', '90', '900',\n",
       "        '9000', '911', 'a1', 'a2', 'a3', 'a4', 'a5', 'a6', 'a8',\n",
       "        'a_klasse', 'accord', 'agila', 'alhambra', 'almera', 'altea',\n",
       "        'amarok', 'antara', 'arosa', 'astra', 'auris', 'avensis', 'aveo',\n",
       "        'aygo', 'b_klasse', 'b_max', 'beetle', 'berlingo', 'bora',\n",
       "        'boxster', 'bravo', 'c1', 'c2', 'c3', 'c4', 'c5', 'c_klasse',\n",
       "        'c_max', 'c_reihe', 'caddy', 'calibra', 'captiva', 'carisma',\n",
       "        'carnival', 'cayenne', 'cc', 'ceed', 'charade', 'cherokee',\n",
       "        'citigo', 'civic', 'cl', 'clio', 'clk', 'clubman', 'colt', 'combo',\n",
       "        'cooper', 'cordoba', 'corolla', 'corsa', 'cr_reihe', 'croma',\n",
       "        'crossfire', 'cuore', 'cx_reihe', 'defender', 'delta', 'discovery',\n",
       "        'doblo', 'ducato', 'duster', 'e_klasse', 'elefantino', 'eos',\n",
       "        'escort', 'espace', 'exeo', 'fabia', 'fiesta', 'focus', 'forester',\n",
       "        'forfour', 'fortwo', 'fox', 'freelander', 'fusion', 'g_klasse',\n",
       "        'galant', 'galaxy', 'getz', 'gl', 'glk', 'golf', 'grand', 'i3',\n",
       "        'i_reihe', 'ibiza', 'impreza', 'insignia', 'jazz', 'jetta',\n",
       "        'jimny', 'juke', 'justy', 'ka', 'kadett', 'kaefer', 'kalina',\n",
       "        'kalos', 'kangoo', 'kappa', 'kuga', 'laguna', 'lancer', 'lanos',\n",
       "        'legacy', 'leon', 'lodgy', 'logan', 'lupo', 'lybra', 'm_klasse',\n",
       "        'm_reihe', 'materia', 'matiz', 'megane', 'meriva', 'micra', 'mii',\n",
       "        'modus', 'mondeo', 'move', 'musa', 'mustang', 'mx_reihe', 'navara',\n",
       "        'niva', 'note', 'nubira', 'octavia', 'omega', 'one', 'other',\n",
       "        'outlander', 'pajero', 'panda', 'passat', 'phaeton', 'picanto',\n",
       "        'polo', 'primera', 'ptcruiser', 'punto', 'q3', 'q5', 'q7',\n",
       "        'qashqai', 'r19', 'range_rover', 'range_rover_evoque',\n",
       "        'range_rover_sport', 'rangerover', 'rav', 'rio', 'roadster',\n",
       "        'roomster', 'rx_reihe', 's60', 's_klasse', 's_max', 's_type',\n",
       "        'samara', 'sandero', 'santa', 'scenic', 'scirocco', 'seicento',\n",
       "        'serie_1', 'serie_2', 'serie_3', 'sharan', 'signum', 'sirion',\n",
       "        'sl', 'slk', 'sorento', 'spark', 'spider', 'sportage', 'sprinter',\n",
       "        'stilo', 'superb', 'swift', 'terios', 'tigra', 'tiguan', 'toledo',\n",
       "        'touareg', 'touran', 'transit', 'transporter', 'tt', 'tucson',\n",
       "        'twingo', 'up', 'v40', 'v50', 'v60', 'v70', 'v_klasse', 'vectra',\n",
       "        'verso', 'viano', 'vito', 'vivaro', 'voyager', 'wrangler',\n",
       "        'x_reihe', 'x_trail', 'x_type', 'xc_reihe', 'yaris', 'yeti',\n",
       "        'ypsilon', 'z_reihe', 'zafira'], dtype=object),\n",
       " array(['cng', 'electric', 'gasoline', 'hybrid', 'lpg', 'other', 'petrol'],\n",
       "       dtype=object),\n",
       " array(['alfa_romeo', 'audi', 'bmw', 'chevrolet', 'chrysler', 'citroen',\n",
       "        'dacia', 'daewoo', 'daihatsu', 'fiat', 'ford', 'honda', 'hyundai',\n",
       "        'jaguar', 'jeep', 'kia', 'lada', 'lancia', 'land_rover', 'mazda',\n",
       "        'mercedes_benz', 'mini', 'mitsubishi', 'nissan', 'opel', 'peugeot',\n",
       "        'porsche', 'renault', 'rover', 'saab', 'seat', 'skoda', 'smart',\n",
       "        'sonstige_autos', 'subaru', 'suzuki', 'toyota', 'trabant',\n",
       "        'volkswagen', 'volvo'], dtype=object)]"
      ]
     },
     "execution_count": 102,
     "metadata": {},
     "output_type": "execute_result"
    }
   ],
   "source": [
    "encoder_ohe.categories_"
   ]
  },
  {
   "cell_type": "markdown",
   "metadata": {},
   "source": [
    "Добавляем закодированные признаки в ohe_x_2:"
   ]
  },
  {
   "cell_type": "code",
   "execution_count": 103,
   "metadata": {},
   "outputs": [],
   "source": [
    "ohe_x_2[encoder_ohe.get_feature_names()] = encoder_ohe.transform(ohe_x_2[cat_columns_2])"
   ]
  },
  {
   "cell_type": "markdown",
   "metadata": {},
   "source": [
    "Удаляем незакодированные категориальные признаки (изначальные колонки):"
   ]
  },
  {
   "cell_type": "code",
   "execution_count": 104,
   "metadata": {},
   "outputs": [
    {
     "data": {
      "text/html": [
       "<div>\n",
       "<style scoped>\n",
       "    .dataframe tbody tr th:only-of-type {\n",
       "        vertical-align: middle;\n",
       "    }\n",
       "\n",
       "    .dataframe tbody tr th {\n",
       "        vertical-align: top;\n",
       "    }\n",
       "\n",
       "    .dataframe thead th {\n",
       "        text-align: right;\n",
       "    }\n",
       "</style>\n",
       "<table border=\"1\" class=\"dataframe\">\n",
       "  <thead>\n",
       "    <tr style=\"text-align: right;\">\n",
       "      <th></th>\n",
       "      <th>RegistrationYear</th>\n",
       "      <th>Gearbox</th>\n",
       "      <th>Power</th>\n",
       "      <th>Kilometer</th>\n",
       "      <th>Repaired</th>\n",
       "      <th>x0_convertible</th>\n",
       "      <th>x0_coupe</th>\n",
       "      <th>x0_other</th>\n",
       "      <th>x0_sedan</th>\n",
       "      <th>x0_small</th>\n",
       "      <th>...</th>\n",
       "      <th>x3_seat</th>\n",
       "      <th>x3_skoda</th>\n",
       "      <th>x3_smart</th>\n",
       "      <th>x3_sonstige_autos</th>\n",
       "      <th>x3_subaru</th>\n",
       "      <th>x3_suzuki</th>\n",
       "      <th>x3_toyota</th>\n",
       "      <th>x3_trabant</th>\n",
       "      <th>x3_volkswagen</th>\n",
       "      <th>x3_volvo</th>\n",
       "    </tr>\n",
       "  </thead>\n",
       "  <tbody>\n",
       "    <tr>\n",
       "      <th>0</th>\n",
       "      <td>1993</td>\n",
       "      <td>0</td>\n",
       "      <td>106</td>\n",
       "      <td>150000</td>\n",
       "      <td>1</td>\n",
       "      <td>0.0</td>\n",
       "      <td>0.0</td>\n",
       "      <td>1.0</td>\n",
       "      <td>0.0</td>\n",
       "      <td>0.0</td>\n",
       "      <td>...</td>\n",
       "      <td>0.0</td>\n",
       "      <td>0.0</td>\n",
       "      <td>0.0</td>\n",
       "      <td>0.0</td>\n",
       "      <td>0.0</td>\n",
       "      <td>0.0</td>\n",
       "      <td>0.0</td>\n",
       "      <td>0.0</td>\n",
       "      <td>1.0</td>\n",
       "      <td>0.0</td>\n",
       "    </tr>\n",
       "    <tr>\n",
       "      <th>1</th>\n",
       "      <td>2011</td>\n",
       "      <td>0</td>\n",
       "      <td>190</td>\n",
       "      <td>125000</td>\n",
       "      <td>1</td>\n",
       "      <td>0.0</td>\n",
       "      <td>1.0</td>\n",
       "      <td>0.0</td>\n",
       "      <td>0.0</td>\n",
       "      <td>0.0</td>\n",
       "      <td>...</td>\n",
       "      <td>0.0</td>\n",
       "      <td>0.0</td>\n",
       "      <td>0.0</td>\n",
       "      <td>0.0</td>\n",
       "      <td>0.0</td>\n",
       "      <td>0.0</td>\n",
       "      <td>0.0</td>\n",
       "      <td>0.0</td>\n",
       "      <td>0.0</td>\n",
       "      <td>0.0</td>\n",
       "    </tr>\n",
       "    <tr>\n",
       "      <th>2</th>\n",
       "      <td>2004</td>\n",
       "      <td>1</td>\n",
       "      <td>163</td>\n",
       "      <td>125000</td>\n",
       "      <td>0</td>\n",
       "      <td>0.0</td>\n",
       "      <td>0.0</td>\n",
       "      <td>0.0</td>\n",
       "      <td>0.0</td>\n",
       "      <td>0.0</td>\n",
       "      <td>...</td>\n",
       "      <td>0.0</td>\n",
       "      <td>0.0</td>\n",
       "      <td>0.0</td>\n",
       "      <td>0.0</td>\n",
       "      <td>0.0</td>\n",
       "      <td>0.0</td>\n",
       "      <td>0.0</td>\n",
       "      <td>0.0</td>\n",
       "      <td>0.0</td>\n",
       "      <td>0.0</td>\n",
       "    </tr>\n",
       "    <tr>\n",
       "      <th>3</th>\n",
       "      <td>2001</td>\n",
       "      <td>0</td>\n",
       "      <td>75</td>\n",
       "      <td>150000</td>\n",
       "      <td>0</td>\n",
       "      <td>0.0</td>\n",
       "      <td>0.0</td>\n",
       "      <td>0.0</td>\n",
       "      <td>0.0</td>\n",
       "      <td>1.0</td>\n",
       "      <td>...</td>\n",
       "      <td>0.0</td>\n",
       "      <td>0.0</td>\n",
       "      <td>0.0</td>\n",
       "      <td>0.0</td>\n",
       "      <td>0.0</td>\n",
       "      <td>0.0</td>\n",
       "      <td>0.0</td>\n",
       "      <td>0.0</td>\n",
       "      <td>1.0</td>\n",
       "      <td>0.0</td>\n",
       "    </tr>\n",
       "    <tr>\n",
       "      <th>4</th>\n",
       "      <td>2008</td>\n",
       "      <td>0</td>\n",
       "      <td>69</td>\n",
       "      <td>90000</td>\n",
       "      <td>0</td>\n",
       "      <td>0.0</td>\n",
       "      <td>0.0</td>\n",
       "      <td>0.0</td>\n",
       "      <td>0.0</td>\n",
       "      <td>1.0</td>\n",
       "      <td>...</td>\n",
       "      <td>0.0</td>\n",
       "      <td>1.0</td>\n",
       "      <td>0.0</td>\n",
       "      <td>0.0</td>\n",
       "      <td>0.0</td>\n",
       "      <td>0.0</td>\n",
       "      <td>0.0</td>\n",
       "      <td>0.0</td>\n",
       "      <td>0.0</td>\n",
       "      <td>0.0</td>\n",
       "    </tr>\n",
       "    <tr>\n",
       "      <th>...</th>\n",
       "      <td>...</td>\n",
       "      <td>...</td>\n",
       "      <td>...</td>\n",
       "      <td>...</td>\n",
       "      <td>...</td>\n",
       "      <td>...</td>\n",
       "      <td>...</td>\n",
       "      <td>...</td>\n",
       "      <td>...</td>\n",
       "      <td>...</td>\n",
       "      <td>...</td>\n",
       "      <td>...</td>\n",
       "      <td>...</td>\n",
       "      <td>...</td>\n",
       "      <td>...</td>\n",
       "      <td>...</td>\n",
       "      <td>...</td>\n",
       "      <td>...</td>\n",
       "      <td>...</td>\n",
       "      <td>...</td>\n",
       "      <td>...</td>\n",
       "    </tr>\n",
       "    <tr>\n",
       "      <th>354363</th>\n",
       "      <td>2000</td>\n",
       "      <td>0</td>\n",
       "      <td>105</td>\n",
       "      <td>150000</td>\n",
       "      <td>0</td>\n",
       "      <td>0.0</td>\n",
       "      <td>0.0</td>\n",
       "      <td>0.0</td>\n",
       "      <td>0.0</td>\n",
       "      <td>0.0</td>\n",
       "      <td>...</td>\n",
       "      <td>0.0</td>\n",
       "      <td>0.0</td>\n",
       "      <td>0.0</td>\n",
       "      <td>0.0</td>\n",
       "      <td>0.0</td>\n",
       "      <td>0.0</td>\n",
       "      <td>0.0</td>\n",
       "      <td>0.0</td>\n",
       "      <td>0.0</td>\n",
       "      <td>0.0</td>\n",
       "    </tr>\n",
       "    <tr>\n",
       "      <th>354365</th>\n",
       "      <td>2005</td>\n",
       "      <td>0</td>\n",
       "      <td>155</td>\n",
       "      <td>20000</td>\n",
       "      <td>0</td>\n",
       "      <td>0.0</td>\n",
       "      <td>0.0</td>\n",
       "      <td>1.0</td>\n",
       "      <td>0.0</td>\n",
       "      <td>0.0</td>\n",
       "      <td>...</td>\n",
       "      <td>0.0</td>\n",
       "      <td>0.0</td>\n",
       "      <td>0.0</td>\n",
       "      <td>1.0</td>\n",
       "      <td>0.0</td>\n",
       "      <td>0.0</td>\n",
       "      <td>0.0</td>\n",
       "      <td>0.0</td>\n",
       "      <td>0.0</td>\n",
       "      <td>0.0</td>\n",
       "    </tr>\n",
       "    <tr>\n",
       "      <th>354366</th>\n",
       "      <td>2000</td>\n",
       "      <td>1</td>\n",
       "      <td>101</td>\n",
       "      <td>125000</td>\n",
       "      <td>0</td>\n",
       "      <td>1.0</td>\n",
       "      <td>0.0</td>\n",
       "      <td>0.0</td>\n",
       "      <td>0.0</td>\n",
       "      <td>0.0</td>\n",
       "      <td>...</td>\n",
       "      <td>0.0</td>\n",
       "      <td>0.0</td>\n",
       "      <td>1.0</td>\n",
       "      <td>0.0</td>\n",
       "      <td>0.0</td>\n",
       "      <td>0.0</td>\n",
       "      <td>0.0</td>\n",
       "      <td>0.0</td>\n",
       "      <td>0.0</td>\n",
       "      <td>0.0</td>\n",
       "    </tr>\n",
       "    <tr>\n",
       "      <th>354367</th>\n",
       "      <td>1996</td>\n",
       "      <td>0</td>\n",
       "      <td>102</td>\n",
       "      <td>150000</td>\n",
       "      <td>0</td>\n",
       "      <td>0.0</td>\n",
       "      <td>0.0</td>\n",
       "      <td>0.0</td>\n",
       "      <td>0.0</td>\n",
       "      <td>0.0</td>\n",
       "      <td>...</td>\n",
       "      <td>0.0</td>\n",
       "      <td>0.0</td>\n",
       "      <td>0.0</td>\n",
       "      <td>0.0</td>\n",
       "      <td>0.0</td>\n",
       "      <td>0.0</td>\n",
       "      <td>0.0</td>\n",
       "      <td>0.0</td>\n",
       "      <td>1.0</td>\n",
       "      <td>0.0</td>\n",
       "    </tr>\n",
       "    <tr>\n",
       "      <th>354368</th>\n",
       "      <td>2002</td>\n",
       "      <td>0</td>\n",
       "      <td>100</td>\n",
       "      <td>150000</td>\n",
       "      <td>0</td>\n",
       "      <td>0.0</td>\n",
       "      <td>0.0</td>\n",
       "      <td>0.0</td>\n",
       "      <td>0.0</td>\n",
       "      <td>0.0</td>\n",
       "      <td>...</td>\n",
       "      <td>0.0</td>\n",
       "      <td>0.0</td>\n",
       "      <td>0.0</td>\n",
       "      <td>0.0</td>\n",
       "      <td>0.0</td>\n",
       "      <td>0.0</td>\n",
       "      <td>0.0</td>\n",
       "      <td>0.0</td>\n",
       "      <td>1.0</td>\n",
       "      <td>0.0</td>\n",
       "    </tr>\n",
       "  </tbody>\n",
       "</table>\n",
       "<p>328359 rows × 306 columns</p>\n",
       "</div>"
      ],
      "text/plain": [
       "        RegistrationYear  Gearbox  Power  Kilometer  Repaired  x0_convertible  \\\n",
       "0                   1993        0    106     150000         1             0.0   \n",
       "1                   2011        0    190     125000         1             0.0   \n",
       "2                   2004        1    163     125000         0             0.0   \n",
       "3                   2001        0     75     150000         0             0.0   \n",
       "4                   2008        0     69      90000         0             0.0   \n",
       "...                  ...      ...    ...        ...       ...             ...   \n",
       "354363              2000        0    105     150000         0             0.0   \n",
       "354365              2005        0    155      20000         0             0.0   \n",
       "354366              2000        1    101     125000         0             1.0   \n",
       "354367              1996        0    102     150000         0             0.0   \n",
       "354368              2002        0    100     150000         0             0.0   \n",
       "\n",
       "        x0_coupe  x0_other  x0_sedan  x0_small  ...  x3_seat  x3_skoda  \\\n",
       "0            0.0       1.0       0.0       0.0  ...      0.0       0.0   \n",
       "1            1.0       0.0       0.0       0.0  ...      0.0       0.0   \n",
       "2            0.0       0.0       0.0       0.0  ...      0.0       0.0   \n",
       "3            0.0       0.0       0.0       1.0  ...      0.0       0.0   \n",
       "4            0.0       0.0       0.0       1.0  ...      0.0       1.0   \n",
       "...          ...       ...       ...       ...  ...      ...       ...   \n",
       "354363       0.0       0.0       0.0       0.0  ...      0.0       0.0   \n",
       "354365       0.0       1.0       0.0       0.0  ...      0.0       0.0   \n",
       "354366       0.0       0.0       0.0       0.0  ...      0.0       0.0   \n",
       "354367       0.0       0.0       0.0       0.0  ...      0.0       0.0   \n",
       "354368       0.0       0.0       0.0       0.0  ...      0.0       0.0   \n",
       "\n",
       "        x3_smart  x3_sonstige_autos  x3_subaru  x3_suzuki  x3_toyota  \\\n",
       "0            0.0                0.0        0.0        0.0        0.0   \n",
       "1            0.0                0.0        0.0        0.0        0.0   \n",
       "2            0.0                0.0        0.0        0.0        0.0   \n",
       "3            0.0                0.0        0.0        0.0        0.0   \n",
       "4            0.0                0.0        0.0        0.0        0.0   \n",
       "...          ...                ...        ...        ...        ...   \n",
       "354363       0.0                0.0        0.0        0.0        0.0   \n",
       "354365       0.0                1.0        0.0        0.0        0.0   \n",
       "354366       1.0                0.0        0.0        0.0        0.0   \n",
       "354367       0.0                0.0        0.0        0.0        0.0   \n",
       "354368       0.0                0.0        0.0        0.0        0.0   \n",
       "\n",
       "        x3_trabant  x3_volkswagen  x3_volvo  \n",
       "0              0.0            1.0       0.0  \n",
       "1              0.0            0.0       0.0  \n",
       "2              0.0            0.0       0.0  \n",
       "3              0.0            1.0       0.0  \n",
       "4              0.0            0.0       0.0  \n",
       "...            ...            ...       ...  \n",
       "354363         0.0            0.0       0.0  \n",
       "354365         0.0            0.0       0.0  \n",
       "354366         0.0            0.0       0.0  \n",
       "354367         0.0            1.0       0.0  \n",
       "354368         0.0            1.0       0.0  \n",
       "\n",
       "[328359 rows x 306 columns]"
      ]
     },
     "metadata": {},
     "output_type": "display_data"
    }
   ],
   "source": [
    "ohe_x_2 = ohe_x_2.drop(cat_columns_2, axis = 1)\n",
    "display(ohe_x_2)"
   ]
  },
  {
   "cell_type": "code",
   "execution_count": 105,
   "metadata": {},
   "outputs": [
    {
     "name": "stdout",
     "output_type": "stream",
     "text": [
      "Размер тренерующей выборки ohe_x_2_train: (246269, 306)\n",
      "Размер тестовой выборки ohe_x_2_test: (82090, 306)\n"
     ]
    }
   ],
   "source": [
    "ohe_x_2_train = ohe_x_2.loc[original_x_train.index, :]\n",
    "ohe_x_2_test = ohe_x_2.loc[original_x_test.index, :]\n",
    "print('Размер тренерующей выборки ohe_x_2_train:', ohe_x_2_train.shape)\n",
    "print('Размер тестовой выборки ohe_x_2_test:', ohe_x_2_test.shape)"
   ]
  },
  {
   "cell_type": "markdown",
   "metadata": {},
   "source": [
    "<a id=4></a>\n",
    "[Содержание](#0)\n",
    "## 4. Обучение моделей"
   ]
  },
  {
   "cell_type": "markdown",
   "metadata": {},
   "source": [
    "Зададим параметры для кроссвалидации:"
   ]
  },
  {
   "cell_type": "code",
   "execution_count": 106,
   "metadata": {},
   "outputs": [],
   "source": [
    "kf = KFold(n_splits = 5, random_state = RND_STATE, shuffle = True)"
   ]
  },
  {
   "cell_type": "markdown",
   "metadata": {},
   "source": [
    "Сохраним результаты в таблицу *scores_data*:"
   ]
  },
  {
   "cell_type": "code",
   "execution_count": 107,
   "metadata": {},
   "outputs": [],
   "source": [
    "scores_data = []"
   ]
  },
  {
   "cell_type": "markdown",
   "metadata": {},
   "source": [
    "**4.1. DecisionTreeRegressor**"
   ]
  },
  {
   "cell_type": "markdown",
   "metadata": {},
   "source": [
    "Обучим модель на признаках, закодированных по методу OE:"
   ]
  },
  {
   "cell_type": "code",
   "execution_count": 108,
   "metadata": {},
   "outputs": [
    {
     "name": "stdout",
     "output_type": "stream",
     "text": [
      "Подбор гиперпараметров для DecisionTreeRegressor:\n",
      "Fitting 5 folds for each of 60 candidates, totalling 300 fits\n",
      "\n",
      "Лучший набор параметров: {'criterion': 'squared_error', 'max_depth': 15, 'min_samples_leaf': 2}\n",
      "Лучшее значение RMSE: 1907.0\n",
      "Время обучения модели: 0.42 s\n",
      "Время предсказания модели: 0.01 s\n",
      "\n",
      "CPU times: user 1.12 s, sys: 583 ms, total: 1.7 s\n",
      "Wall time: 15.8 s\n"
     ]
    }
   ],
   "source": [
    "%%time\n",
    "\n",
    "regressor = DecisionTreeRegressor()\n",
    "hyperparams = [{'criterion': ['squared_error'], #['mse'],\n",
    "                'max_depth':range(1, 31, 1),\n",
    "                'min_samples_leaf': [ 1, 2]}]\n",
    "\n",
    "print('Подбор гиперпараметров для DecisionTreeRegressor:')\n",
    "grid = GridSearchCV(regressor, hyperparams, scoring = 'neg_mean_squared_error', cv = kf, n_jobs = -1, verbose = 1)\n",
    "grid.fit(ordinal_x_train, original_y_train)\n",
    "\n",
    "res = pd.DataFrame(grid.cv_results_).iloc[grid.best_index_]\n",
    "rmse = round((res['mean_test_score'] * -1) ** 0.5, 0)\n",
    "fit_time = round(res['mean_fit_time'], 2)\n",
    "score_time = round(res['mean_score_time'], 2)\n",
    "print()\n",
    "print(\"Лучший набор параметров:\", grid.best_params_)\n",
    "print('Лучшее значение RMSE:', rmse)\n",
    "print('Время обучения модели:', fit_time, 's')\n",
    "print('Время предсказания модели:', score_time, 's')\n",
    "print()\n",
    "scores_data.append(['DecisionTreeRegressor on OE features', rmse, fit_time, score_time])"
   ]
  },
  {
   "cell_type": "markdown",
   "metadata": {},
   "source": [
    "Обучим модель на признаках, закодированных по методу OHE:"
   ]
  },
  {
   "cell_type": "code",
   "execution_count": 109,
   "metadata": {},
   "outputs": [
    {
     "name": "stdout",
     "output_type": "stream",
     "text": [
      "Подбор гиперпараметров для DecisionTreeRegressor:\n",
      "Fitting 5 folds for each of 60 candidates, totalling 300 fits\n",
      "\n",
      "Лучший набор параметров: {'criterion': 'squared_error', 'max_depth': 21, 'min_samples_leaf': 2}\n",
      "Лучшее значение RMSE: 1872.0\n",
      "Время обучения модели: 13.27 s\n",
      "Время предсказания модели: 0.17 s\n",
      "\n",
      "CPU times: user 5.21 s, sys: 3.57 s, total: 8.77 s\n",
      "Wall time: 5min 47s\n"
     ]
    }
   ],
   "source": [
    "%%time\n",
    "\n",
    "regressor = DecisionTreeRegressor()\n",
    "hyperparams = [{'criterion': ['squared_error'], #['mse'],\n",
    "                'max_depth':range(1, 31, 1),\n",
    "                'min_samples_leaf': [ 1, 2]}]\n",
    "\n",
    "print('Подбор гиперпараметров для DecisionTreeRegressor:')\n",
    "grid = GridSearchCV(regressor, hyperparams, scoring = 'neg_mean_squared_error', cv = kf, n_jobs = -1, verbose = 1)\n",
    "grid.fit(ohe_x_2_train, original_y_train)\n",
    "\n",
    "res = pd.DataFrame(grid.cv_results_).iloc[grid.best_index_]\n",
    "rmse = round((res['mean_test_score'] * -1) ** 0.5, 0)\n",
    "fit_time = round(res['mean_fit_time'], 2)\n",
    "score_time = round(res['mean_score_time'], 2)\n",
    "print()\n",
    "print(\"Лучший набор параметров:\", grid.best_params_)\n",
    "print('Лучшее значение RMSE:', rmse)\n",
    "print('Время обучения модели:', fit_time, 's')\n",
    "print('Время предсказания модели:', score_time, 's')\n",
    "print()\n",
    "scores_data.append(['DecisionTreeRegressor on OHE features', rmse, fit_time, score_time])"
   ]
  },
  {
   "cell_type": "markdown",
   "metadata": {},
   "source": [
    "**4.2. CatBoostRegressor**"
   ]
  },
  {
   "cell_type": "markdown",
   "metadata": {},
   "source": [
    "Обучим модель на признаках, закодированных по методу OE:"
   ]
  },
  {
   "cell_type": "code",
   "execution_count": 110,
   "metadata": {},
   "outputs": [
    {
     "name": "stdout",
     "output_type": "stream",
     "text": [
      "Подбор гиперпараметров для CatBoostRegressor:\n",
      "\n",
      "Лучший набор параметров: {'depth': 13, 'learning_rate': 0.3}\n",
      "Лучшее значение RMSE: 1602.0\n",
      "Время обучения модели: 29.15 s\n",
      "Время предсказания модели: 0.03 s\n",
      "\n",
      "CPU times: user 20.9 s, sys: 1.57 s, total: 22.4 s\n",
      "Wall time: 59.5 s\n"
     ]
    }
   ],
   "source": [
    "%%time\n",
    "\n",
    "regressor = CatBoostRegressor(iterations = 250,\n",
    "                              early_stopping_rounds = 10,\n",
    "                              l2_leaf_reg = 4,\n",
    "                              verbose = False)\n",
    "\n",
    "hyperparams = [{'learning_rate':[0.3, 0.5],\n",
    "                'depth': [9, 11, 13],\n",
    "               }]\n",
    "\n",
    "print('Подбор гиперпараметров для CatBoostRegressor:')\n",
    "grid = GridSearchCV(regressor, hyperparams, scoring = 'neg_mean_squared_error', cv = kf, n_jobs = -1)\n",
    "grid.fit(ordinal_x_train, original_y_train)\n",
    "\n",
    "res = pd.DataFrame(grid.cv_results_).iloc[grid.best_index_]\n",
    "rmse = round((res['mean_test_score'] * -1) ** 0.5, 0)\n",
    "fit_time = round(res['mean_fit_time'], 2)\n",
    "score_time = round(res['mean_score_time'], 2)\n",
    "print()\n",
    "print(\"Лучший набор параметров:\", grid.best_params_)\n",
    "print('Лучшее значение RMSE:', rmse)\n",
    "print('Время обучения модели:', fit_time, 's')\n",
    "print('Время предсказания модели:', score_time, 's')\n",
    "print()\n",
    "scores_data.append(['CatBoostRegressor on OE features', rmse, fit_time, score_time])"
   ]
  },
  {
   "cell_type": "markdown",
   "metadata": {},
   "source": [
    "Обучим модель на оригинальных данных с указанием категорий:"
   ]
  },
  {
   "cell_type": "code",
   "execution_count": 111,
   "metadata": {},
   "outputs": [
    {
     "name": "stdout",
     "output_type": "stream",
     "text": [
      "Подбор гиперпараметров для CatBoostRegressor:\n",
      "\n",
      "Лучший набор параметров: {'depth': 13, 'learning_rate': 0.3}\n",
      "Лучшее значение RMSE: 1603.0\n",
      "Время обучения модели: 109.58 s\n",
      "Время предсказания модели: 0.1 s\n",
      "\n",
      "CPU times: user 2min 1s, sys: 3.43 s, total: 2min 4s\n",
      "Wall time: 4min 33s\n"
     ]
    }
   ],
   "source": [
    "%%time\n",
    "\n",
    "regressor = CatBoostRegressor(iterations = 250,\n",
    "                              early_stopping_rounds = 10,\n",
    "                              l2_leaf_reg = 4,\n",
    "                              cat_features = cat_columns,\n",
    "                              verbose = False)\n",
    "\n",
    "hyperparams = [{'learning_rate':[0.3, 0.5],\n",
    "                'depth': [9, 11, 13],\n",
    "               }]\n",
    "\n",
    "print('Подбор гиперпараметров для CatBoostRegressor:')\n",
    "grid = GridSearchCV(regressor, hyperparams, scoring = 'neg_mean_squared_error', cv = kf, n_jobs = -1)\n",
    "grid.fit(original_x_train, original_y_train)\n",
    "\n",
    "res = pd.DataFrame(grid.cv_results_).iloc[grid.best_index_]\n",
    "rmse = round((res['mean_test_score'] * -1) ** 0.5, 0)\n",
    "fit_time = round(res['mean_fit_time'], 2)\n",
    "score_time = round(res['mean_score_time'], 2)\n",
    "print()\n",
    "print(\"Лучший набор параметров:\", grid.best_params_)\n",
    "print('Лучшее значение RMSE:', rmse)\n",
    "print('Время обучения модели:', fit_time, 's')\n",
    "print('Время предсказания модели:', score_time, 's')\n",
    "print()\n",
    "scores_data.append(['CatBoostRegressor on original features', rmse, fit_time, score_time])"
   ]
  },
  {
   "cell_type": "markdown",
   "metadata": {},
   "source": [
    "**4.3. LGBMRegressor**"
   ]
  },
  {
   "cell_type": "code",
   "execution_count": 112,
   "metadata": {},
   "outputs": [
    {
     "name": "stdout",
     "output_type": "stream",
     "text": [
      "Подбор гиперпараметров для LGBMRegressor:\n",
      "\n",
      "Лучший набор параметров: {'learning_rate': 0.3, 'max_depth': 9, 'n_estimators': 200}\n",
      "Лучшее значение RMSE: 1613.0\n",
      "Время обучения модели: 1.31 s\n",
      "Время предсказания модели: 0.46 s\n",
      "\n",
      "CPU times: user 5.73 s, sys: 2.14 s, total: 7.87 s\n",
      "Wall time: 14.3 s\n"
     ]
    }
   ],
   "source": [
    "%%time\n",
    "\n",
    "regressor = LGBMRegressor(boosting_type = 'gbdt',\n",
    "                          metric = 'rmse',\n",
    "                          num_leaves = 80,\n",
    "                          verbose = -1)\n",
    "\n",
    "hyperparams = { 'n_estimators':[100, 200],\n",
    "                'learning_rate':[0.1, 0.3],\n",
    "                'max_depth': [5, 7, 9] }\n",
    "\n",
    "print('Подбор гиперпараметров для LGBMRegressor:')\n",
    "grid = GridSearchCV(regressor, hyperparams, scoring = 'neg_mean_squared_error', cv = kf, n_jobs = -1)\n",
    "grid.fit(ordinal_x_train, original_y_train)\n",
    "\n",
    "res = pd.DataFrame(grid.cv_results_).iloc[grid.best_index_]\n",
    "rmse = round((res['mean_test_score'] * -1) ** 0.5, 0)\n",
    "fit_time = round(res['mean_fit_time'], 2)\n",
    "score_time = round(res['mean_score_time'], 2)\n",
    "print()\n",
    "print(\"Лучший набор параметров:\", grid.best_params_)\n",
    "print('Лучшее значение RMSE:', rmse)\n",
    "print('Время обучения модели:', fit_time, 's')\n",
    "print('Время предсказания модели:', score_time, 's')\n",
    "print()\n",
    "scores_data.append(['LGBMRegressor on OE features', rmse, fit_time, score_time])"
   ]
  },
  {
   "cell_type": "markdown",
   "metadata": {},
   "source": [
    "Полученные результаты по моделям собраны в итоговую таблицу:"
   ]
  },
  {
   "cell_type": "code",
   "execution_count": 113,
   "metadata": {},
   "outputs": [
    {
     "data": {
      "text/html": [
       "<div>\n",
       "<style scoped>\n",
       "    .dataframe tbody tr th:only-of-type {\n",
       "        vertical-align: middle;\n",
       "    }\n",
       "\n",
       "    .dataframe tbody tr th {\n",
       "        vertical-align: top;\n",
       "    }\n",
       "\n",
       "    .dataframe thead th {\n",
       "        text-align: right;\n",
       "    }\n",
       "</style>\n",
       "<table border=\"1\" class=\"dataframe\">\n",
       "  <thead>\n",
       "    <tr style=\"text-align: right;\">\n",
       "      <th></th>\n",
       "      <th>Model</th>\n",
       "      <th>Fit_time</th>\n",
       "      <th>Score_time</th>\n",
       "    </tr>\n",
       "    <tr>\n",
       "      <th>RMSE</th>\n",
       "      <th></th>\n",
       "      <th></th>\n",
       "      <th></th>\n",
       "    </tr>\n",
       "  </thead>\n",
       "  <tbody>\n",
       "    <tr>\n",
       "      <th>1602.0</th>\n",
       "      <td>CatBoostRegressor on OE features</td>\n",
       "      <td>29.15</td>\n",
       "      <td>0.03</td>\n",
       "    </tr>\n",
       "    <tr>\n",
       "      <th>1603.0</th>\n",
       "      <td>CatBoostRegressor on original features</td>\n",
       "      <td>109.58</td>\n",
       "      <td>0.10</td>\n",
       "    </tr>\n",
       "    <tr>\n",
       "      <th>1613.0</th>\n",
       "      <td>LGBMRegressor on OE features</td>\n",
       "      <td>1.31</td>\n",
       "      <td>0.46</td>\n",
       "    </tr>\n",
       "    <tr>\n",
       "      <th>1872.0</th>\n",
       "      <td>DecisionTreeRegressor on OHE features</td>\n",
       "      <td>13.27</td>\n",
       "      <td>0.17</td>\n",
       "    </tr>\n",
       "    <tr>\n",
       "      <th>1907.0</th>\n",
       "      <td>DecisionTreeRegressor on OE features</td>\n",
       "      <td>0.42</td>\n",
       "      <td>0.01</td>\n",
       "    </tr>\n",
       "  </tbody>\n",
       "</table>\n",
       "</div>"
      ],
      "text/plain": [
       "                                         Model  Fit_time  Score_time\n",
       "RMSE                                                                \n",
       "1602.0        CatBoostRegressor on OE features     29.15        0.03\n",
       "1603.0  CatBoostRegressor on original features    109.58        0.10\n",
       "1613.0            LGBMRegressor on OE features      1.31        0.46\n",
       "1872.0   DecisionTreeRegressor on OHE features     13.27        0.17\n",
       "1907.0    DecisionTreeRegressor on OE features      0.42        0.01"
      ]
     },
     "metadata": {},
     "output_type": "display_data"
    }
   ],
   "source": [
    "result = pd.DataFrame(scores_data)\n",
    "result.columns = ['Model', 'RMSE', 'Fit_time', 'Score_time']\n",
    "result.set_index('RMSE', inplace = True)\n",
    "display(result.sort_values('RMSE'))"
   ]
  },
  {
   "cell_type": "markdown",
   "metadata": {},
   "source": [
    "**Вывод:**\n",
    "\n",
    "Были изучены 3 модели с разными вариантами представления исходных данных, найдены лучшие гиперпараметры и временные параметры обучения и предсказания.\n",
    "\n",
    "С **RMSE = 1602** лучшей моделью является **CatBoostRegressor on OE features**, обученная на признаках, закодированных по методу OE (порядкового кодирования).\n",
    "\n",
    "Незначительно от нее отстает с **RMSE = 1603** модель **CatBoostRegressor on original features**, обученная на оригинальных данных с указанием категорий. Но эта модель имеет большее время обучения и предсказания (109s, 0.1s), по сравнению с лидером (29s, 0.03s).\n",
    "\n",
    "Немного отстает с RMSE = 1613 модель **LGBMRegressor on OE features**, обученная на признаках, закодированных по методу OE (порядкового кодирования), с меньшим временем обучения 1.3s и большим предсказания 0.46s.\n",
    "\n",
    "Опираясь на критерии заказчика и по совокупности факторов, выберем лучшую модель **CatBoostRegressor on OE features**."
   ]
  },
  {
   "cell_type": "markdown",
   "metadata": {},
   "source": [
    "<a id=5></a>\n",
    "[Содержание](#0)\n",
    "## 5. Тестирование модели\n",
    "\n",
    "Проверим качество лучшей модели **CatBoostRegressor on OE features** на тестовой выборке:"
   ]
  },
  {
   "cell_type": "code",
   "execution_count": 114,
   "metadata": {},
   "outputs": [
    {
     "name": "stdout",
     "output_type": "stream",
     "text": [
      "Значение RMSE на тестовых данных: 1576.097484813155\n",
      "CPU times: user 21.4 s, sys: 1.42 s, total: 22.9 s\n",
      "Wall time: 7.01 s\n"
     ]
    }
   ],
   "source": [
    "%%time\n",
    "\n",
    "model = CatBoostRegressor(iterations = 250,\n",
    "                          early_stopping_rounds = 10,\n",
    "                          l2_leaf_reg = 4,\n",
    "                          learning_rate = 0.3,\n",
    "                          depth = 13,\n",
    "                          verbose = False,\n",
    "                          random_state = RND_STATE) \n",
    "\n",
    "model.fit(ordinal_x_train, original_y_train)\n",
    "predicted = model.predict(ordinal_x_test)\n",
    "rmse = mean_squared_error(original_y_test, predicted, squared = False)\n",
    "print('Значение RMSE на тестовых данных:', rmse)"
   ]
  },
  {
   "cell_type": "markdown",
   "metadata": {},
   "source": [
    "**Вывод:**\n",
    "\n",
    "Выбранная модель **CatBoostRegressor on OE features** на тестовой выборке имеет метрику оценки качества **RMSE = 1576**.\n",
    "\n",
    "Во всех рассмотренных моделях значение метрики RMSE не превышает 2500, как и изначально требовалось по условию задачи проекта."
   ]
  },
  {
   "cell_type": "markdown",
   "metadata": {},
   "source": [
    "<a id=6></a>\n",
    "[Содержание](#0)\n",
    "## 6. Общий вывод\n",
    "\n",
    "Проведено исследование с целью построить модель для определения рыночной стоимости своего автомобиля.\n",
    "\n",
    "Входные данные - исторические данные: технические характеристики, комплектации и цены автомобилей.\n",
    "\n",
    "В результате исследования удалось получить следующие результаты на обучающей выборке для модели градиентного бустинга **CatBoostRegressor on OE features**:\n",
    "\n",
    "- Метрика оценки качества RMSE = 1576\n",
    "- Время обучения модели: 7.01 s\n",
    "- Время предсказания модели: 0.01 s\n",
    "\n",
    "Сервис по продаже автомобилей с пробегом «Не бит, не крашен» может использовать полученную модель для быстрой оценки рыночной стоимости автомобиля для привлечения новых клиентов в своем приложении."
   ]
  },
  {
   "cell_type": "code",
   "execution_count": null,
   "metadata": {},
   "outputs": [],
   "source": []
  }
 ],
 "metadata": {
  "ExecuteTimeLog": [
   {
    "duration": 65,
    "start_time": "2023-02-16T09:26:19.060Z"
   },
   {
    "duration": 3,
    "start_time": "2023-02-16T09:35:29.176Z"
   },
   {
    "duration": 1457,
    "start_time": "2023-02-16T09:36:05.935Z"
   },
   {
    "duration": 1059,
    "start_time": "2023-02-16T09:36:07.927Z"
   },
   {
    "duration": 88,
    "start_time": "2023-02-16T09:37:55.071Z"
   },
   {
    "duration": 71,
    "start_time": "2023-02-16T09:40:21.055Z"
   },
   {
    "duration": 50,
    "start_time": "2023-02-16T09:40:40.361Z"
   },
   {
    "duration": 44,
    "start_time": "2023-02-16T09:42:39.190Z"
   },
   {
    "duration": 14,
    "start_time": "2023-02-16T09:43:23.570Z"
   },
   {
    "duration": 917,
    "start_time": "2023-02-16T09:46:09.245Z"
   },
   {
    "duration": 12,
    "start_time": "2023-02-16T09:47:37.597Z"
   },
   {
    "duration": 296,
    "start_time": "2023-02-16T09:49:25.831Z"
   },
   {
    "duration": 96,
    "start_time": "2023-02-16T10:53:28.394Z"
   },
   {
    "duration": 99,
    "start_time": "2023-02-16T10:53:40.893Z"
   },
   {
    "duration": 90,
    "start_time": "2023-02-16T10:55:19.363Z"
   },
   {
    "duration": 13,
    "start_time": "2023-02-16T10:55:58.783Z"
   },
   {
    "duration": 302,
    "start_time": "2023-02-16T10:56:10.937Z"
   },
   {
    "duration": 207,
    "start_time": "2023-02-16T11:01:51.850Z"
   },
   {
    "duration": 133,
    "start_time": "2023-02-16T11:01:59.273Z"
   },
   {
    "duration": 186,
    "start_time": "2023-02-16T11:05:17.158Z"
   },
   {
    "duration": 199,
    "start_time": "2023-02-16T11:05:39.573Z"
   },
   {
    "duration": 87,
    "start_time": "2023-02-16T11:07:45.054Z"
   },
   {
    "duration": 11,
    "start_time": "2023-02-16T11:13:12.075Z"
   },
   {
    "duration": 12,
    "start_time": "2023-02-16T11:13:44.114Z"
   },
   {
    "duration": 101,
    "start_time": "2023-02-16T11:27:01.106Z"
   },
   {
    "duration": 391,
    "start_time": "2023-02-16T11:28:21.854Z"
   },
   {
    "duration": 4,
    "start_time": "2023-02-16T11:28:43.935Z"
   },
   {
    "duration": 843,
    "start_time": "2023-02-16T11:28:43.951Z"
   },
   {
    "duration": 204,
    "start_time": "2023-02-16T11:28:44.795Z"
   },
   {
    "duration": 12,
    "start_time": "2023-02-16T11:28:45.001Z"
   },
   {
    "duration": 97,
    "start_time": "2023-02-16T11:28:45.015Z"
   },
   {
    "duration": 293,
    "start_time": "2023-02-16T11:28:45.114Z"
   },
   {
    "duration": 803,
    "start_time": "2023-02-16T11:28:54.053Z"
   },
   {
    "duration": 85,
    "start_time": "2023-02-16T11:29:08.718Z"
   },
   {
    "duration": 346,
    "start_time": "2023-02-16T11:29:11.863Z"
   },
   {
    "duration": 24,
    "start_time": "2023-02-16T11:30:23.824Z"
   },
   {
    "duration": 8,
    "start_time": "2023-02-16T11:30:36.250Z"
   },
   {
    "duration": 3,
    "start_time": "2023-02-16T11:37:04.023Z"
   },
   {
    "duration": 793,
    "start_time": "2023-02-16T11:37:04.028Z"
   },
   {
    "duration": 214,
    "start_time": "2023-02-16T11:37:04.823Z"
   },
   {
    "duration": 12,
    "start_time": "2023-02-16T11:37:05.038Z"
   },
   {
    "duration": 93,
    "start_time": "2023-02-16T11:37:05.052Z"
   },
   {
    "duration": 265,
    "start_time": "2023-02-16T11:37:05.147Z"
   },
   {
    "duration": 762,
    "start_time": "2023-02-16T11:37:05.414Z"
   },
   {
    "duration": 92,
    "start_time": "2023-02-16T11:37:06.178Z"
   },
   {
    "duration": 9,
    "start_time": "2023-02-16T11:37:12.253Z"
   },
   {
    "duration": 25,
    "start_time": "2023-02-16T11:45:45.954Z"
   },
   {
    "duration": 4,
    "start_time": "2023-02-16T11:45:50.155Z"
   },
   {
    "duration": 6,
    "start_time": "2023-02-16T11:49:57.779Z"
   },
   {
    "duration": 7,
    "start_time": "2023-02-16T11:50:04.169Z"
   },
   {
    "duration": 14,
    "start_time": "2023-02-16T11:50:12.175Z"
   },
   {
    "duration": 7,
    "start_time": "2023-02-16T11:50:20.134Z"
   },
   {
    "duration": 3,
    "start_time": "2023-02-16T11:50:43.600Z"
   },
   {
    "duration": 800,
    "start_time": "2023-02-16T11:50:43.607Z"
   },
   {
    "duration": 201,
    "start_time": "2023-02-16T11:50:44.409Z"
   },
   {
    "duration": 12,
    "start_time": "2023-02-16T11:50:44.612Z"
   },
   {
    "duration": 126,
    "start_time": "2023-02-16T11:50:44.626Z"
   },
   {
    "duration": 283,
    "start_time": "2023-02-16T11:50:44.754Z"
   },
   {
    "duration": 783,
    "start_time": "2023-02-16T11:50:45.038Z"
   },
   {
    "duration": 84,
    "start_time": "2023-02-16T11:50:45.823Z"
   },
   {
    "duration": 10,
    "start_time": "2023-02-16T11:50:50.159Z"
   },
   {
    "duration": 27,
    "start_time": "2023-02-16T11:50:56.939Z"
   },
   {
    "duration": 48,
    "start_time": "2023-02-16T11:52:08.301Z"
   },
   {
    "duration": 13,
    "start_time": "2023-02-16T11:52:24.414Z"
   },
   {
    "duration": 15,
    "start_time": "2023-02-16T11:52:45.679Z"
   },
   {
    "duration": 21,
    "start_time": "2023-02-16T11:53:13.234Z"
   },
   {
    "duration": 32,
    "start_time": "2023-02-16T11:54:08.934Z"
   },
   {
    "duration": 17,
    "start_time": "2023-02-16T12:00:04.000Z"
   },
   {
    "duration": 17,
    "start_time": "2023-02-16T12:00:15.294Z"
   },
   {
    "duration": 16,
    "start_time": "2023-02-16T12:00:21.074Z"
   },
   {
    "duration": 7,
    "start_time": "2023-02-16T12:00:39.135Z"
   },
   {
    "duration": 9,
    "start_time": "2023-02-16T12:00:46.910Z"
   },
   {
    "duration": 14,
    "start_time": "2023-02-16T12:00:58.914Z"
   },
   {
    "duration": 4,
    "start_time": "2023-02-16T12:01:39.014Z"
   },
   {
    "duration": 796,
    "start_time": "2023-02-16T12:01:39.023Z"
   },
   {
    "duration": 202,
    "start_time": "2023-02-16T12:01:39.821Z"
   },
   {
    "duration": 16,
    "start_time": "2023-02-16T12:01:40.025Z"
   },
   {
    "duration": 105,
    "start_time": "2023-02-16T12:01:40.043Z"
   },
   {
    "duration": 301,
    "start_time": "2023-02-16T12:01:40.150Z"
   },
   {
    "duration": 804,
    "start_time": "2023-02-16T12:01:40.453Z"
   },
   {
    "duration": 99,
    "start_time": "2023-02-16T12:01:41.259Z"
   },
   {
    "duration": 10,
    "start_time": "2023-02-16T12:01:41.362Z"
   },
   {
    "duration": 45,
    "start_time": "2023-02-16T12:01:41.373Z"
   },
   {
    "duration": 11,
    "start_time": "2023-02-16T12:01:46.259Z"
   },
   {
    "duration": 16,
    "start_time": "2023-02-16T12:01:52.075Z"
   },
   {
    "duration": 20,
    "start_time": "2023-02-16T12:01:53.070Z"
   },
   {
    "duration": 7,
    "start_time": "2023-02-16T12:02:15.589Z"
   },
   {
    "duration": 8,
    "start_time": "2023-02-16T12:02:19.599Z"
   },
   {
    "duration": 16,
    "start_time": "2023-02-16T12:02:45.541Z"
   },
   {
    "duration": 11,
    "start_time": "2023-02-16T12:06:22.834Z"
   },
   {
    "duration": 11,
    "start_time": "2023-02-16T12:06:51.794Z"
   },
   {
    "duration": 11,
    "start_time": "2023-02-16T12:07:34.920Z"
   },
   {
    "duration": 13,
    "start_time": "2023-02-16T12:07:42.632Z"
   },
   {
    "duration": 48,
    "start_time": "2023-02-16T12:07:53.493Z"
   },
   {
    "duration": 11,
    "start_time": "2023-02-16T12:07:59.530Z"
   },
   {
    "duration": 14,
    "start_time": "2023-02-16T12:08:13.554Z"
   },
   {
    "duration": 3,
    "start_time": "2023-02-16T12:08:56.374Z"
   },
   {
    "duration": 800,
    "start_time": "2023-02-16T12:08:56.381Z"
   },
   {
    "duration": 214,
    "start_time": "2023-02-16T12:08:57.183Z"
   },
   {
    "duration": 13,
    "start_time": "2023-02-16T12:08:57.398Z"
   },
   {
    "duration": 114,
    "start_time": "2023-02-16T12:08:57.413Z"
   },
   {
    "duration": 348,
    "start_time": "2023-02-16T12:08:57.528Z"
   },
   {
    "duration": 798,
    "start_time": "2023-02-16T12:08:57.879Z"
   },
   {
    "duration": 87,
    "start_time": "2023-02-16T12:08:58.679Z"
   },
   {
    "duration": 10,
    "start_time": "2023-02-16T12:08:58.768Z"
   },
   {
    "duration": 23,
    "start_time": "2023-02-16T12:08:58.779Z"
   },
   {
    "duration": 21,
    "start_time": "2023-02-16T12:09:01.816Z"
   },
   {
    "duration": 11,
    "start_time": "2023-02-16T12:09:03.175Z"
   },
   {
    "duration": 15,
    "start_time": "2023-02-16T12:09:07.208Z"
   },
   {
    "duration": 14,
    "start_time": "2023-02-16T12:09:47.774Z"
   },
   {
    "duration": 11,
    "start_time": "2023-02-16T12:09:55.275Z"
   },
   {
    "duration": 11,
    "start_time": "2023-02-16T12:10:04.014Z"
   },
   {
    "duration": 19,
    "start_time": "2023-02-16T12:10:16.324Z"
   },
   {
    "duration": 27,
    "start_time": "2023-02-16T12:10:18.599Z"
   },
   {
    "duration": 19,
    "start_time": "2023-02-16T12:10:42.244Z"
   },
   {
    "duration": 7,
    "start_time": "2023-02-16T12:10:48.339Z"
   },
   {
    "duration": 8,
    "start_time": "2023-02-16T12:10:49.219Z"
   },
   {
    "duration": 11,
    "start_time": "2023-02-16T12:11:11.029Z"
   },
   {
    "duration": 4,
    "start_time": "2023-02-16T12:12:12.174Z"
   },
   {
    "duration": 916,
    "start_time": "2023-02-16T12:12:12.182Z"
   },
   {
    "duration": 246,
    "start_time": "2023-02-16T12:12:13.100Z"
   },
   {
    "duration": 13,
    "start_time": "2023-02-16T12:12:13.348Z"
   },
   {
    "duration": 111,
    "start_time": "2023-02-16T12:12:13.364Z"
   },
   {
    "duration": 320,
    "start_time": "2023-02-16T12:12:13.476Z"
   },
   {
    "duration": 840,
    "start_time": "2023-02-16T12:12:13.798Z"
   },
   {
    "duration": 79,
    "start_time": "2023-02-16T12:12:14.639Z"
   },
   {
    "duration": 21,
    "start_time": "2023-02-16T12:12:14.720Z"
   },
   {
    "duration": 26,
    "start_time": "2023-02-16T12:12:14.743Z"
   },
   {
    "duration": 14,
    "start_time": "2023-02-16T12:12:14.773Z"
   },
   {
    "duration": 11,
    "start_time": "2023-02-16T12:12:14.788Z"
   },
   {
    "duration": 47,
    "start_time": "2023-02-16T12:12:14.800Z"
   },
   {
    "duration": 17,
    "start_time": "2023-02-16T12:12:14.849Z"
   },
   {
    "duration": 6,
    "start_time": "2023-02-16T12:12:14.867Z"
   },
   {
    "duration": 11,
    "start_time": "2023-02-16T12:12:14.874Z"
   },
   {
    "duration": 8,
    "start_time": "2023-02-16T12:12:19.119Z"
   },
   {
    "duration": 14,
    "start_time": "2023-02-16T12:13:52.417Z"
   },
   {
    "duration": 3,
    "start_time": "2023-02-16T12:15:37.698Z"
   },
   {
    "duration": 817,
    "start_time": "2023-02-16T12:15:37.714Z"
   },
   {
    "duration": 196,
    "start_time": "2023-02-16T12:15:38.536Z"
   },
   {
    "duration": 15,
    "start_time": "2023-02-16T12:15:38.733Z"
   },
   {
    "duration": 99,
    "start_time": "2023-02-16T12:15:38.750Z"
   },
   {
    "duration": 286,
    "start_time": "2023-02-16T12:15:38.851Z"
   },
   {
    "duration": 766,
    "start_time": "2023-02-16T12:15:39.139Z"
   },
   {
    "duration": 89,
    "start_time": "2023-02-16T12:15:39.907Z"
   },
   {
    "duration": 12,
    "start_time": "2023-02-16T12:15:39.998Z"
   },
   {
    "duration": 48,
    "start_time": "2023-02-16T12:15:40.012Z"
   },
   {
    "duration": 15,
    "start_time": "2023-02-16T12:15:40.062Z"
   },
   {
    "duration": 14,
    "start_time": "2023-02-16T12:15:40.079Z"
   },
   {
    "duration": 30,
    "start_time": "2023-02-16T12:15:40.095Z"
   },
   {
    "duration": 10,
    "start_time": "2023-02-16T12:15:48.135Z"
   },
   {
    "duration": 12,
    "start_time": "2023-02-16T12:16:28.876Z"
   },
   {
    "duration": 7,
    "start_time": "2023-02-16T12:17:00.374Z"
   },
   {
    "duration": 3,
    "start_time": "2023-02-16T12:17:16.969Z"
   },
   {
    "duration": 865,
    "start_time": "2023-02-16T12:17:16.974Z"
   },
   {
    "duration": 199,
    "start_time": "2023-02-16T12:17:17.841Z"
   },
   {
    "duration": 12,
    "start_time": "2023-02-16T12:17:18.043Z"
   },
   {
    "duration": 99,
    "start_time": "2023-02-16T12:17:18.057Z"
   },
   {
    "duration": 310,
    "start_time": "2023-02-16T12:17:18.158Z"
   },
   {
    "duration": 805,
    "start_time": "2023-02-16T12:17:18.469Z"
   },
   {
    "duration": 84,
    "start_time": "2023-02-16T12:17:19.276Z"
   },
   {
    "duration": 10,
    "start_time": "2023-02-16T12:17:19.362Z"
   },
   {
    "duration": 24,
    "start_time": "2023-02-16T12:17:19.373Z"
   },
   {
    "duration": 10,
    "start_time": "2023-02-16T12:17:19.399Z"
   },
   {
    "duration": 15,
    "start_time": "2023-02-16T12:17:23.440Z"
   },
   {
    "duration": 17,
    "start_time": "2023-02-16T12:17:24.586Z"
   },
   {
    "duration": 19,
    "start_time": "2023-02-16T12:17:27.085Z"
   },
   {
    "duration": 8,
    "start_time": "2023-02-16T12:17:32.039Z"
   },
   {
    "duration": 12,
    "start_time": "2023-02-16T12:22:05.055Z"
   },
   {
    "duration": 4,
    "start_time": "2023-02-16T12:22:20.175Z"
   },
   {
    "duration": 842,
    "start_time": "2023-02-16T12:22:20.185Z"
   },
   {
    "duration": 224,
    "start_time": "2023-02-16T12:22:21.029Z"
   },
   {
    "duration": 13,
    "start_time": "2023-02-16T12:22:21.256Z"
   },
   {
    "duration": 115,
    "start_time": "2023-02-16T12:22:21.271Z"
   },
   {
    "duration": 331,
    "start_time": "2023-02-16T12:22:21.388Z"
   },
   {
    "duration": 871,
    "start_time": "2023-02-16T12:22:21.721Z"
   },
   {
    "duration": 100,
    "start_time": "2023-02-16T12:22:22.594Z"
   },
   {
    "duration": 9,
    "start_time": "2023-02-16T12:22:22.696Z"
   },
   {
    "duration": 35,
    "start_time": "2023-02-16T12:22:22.707Z"
   },
   {
    "duration": 21,
    "start_time": "2023-02-16T12:22:24.962Z"
   },
   {
    "duration": 12,
    "start_time": "2023-02-16T12:22:26.917Z"
   },
   {
    "duration": 14,
    "start_time": "2023-02-16T12:22:44.430Z"
   },
   {
    "duration": 11,
    "start_time": "2023-02-16T12:22:54.995Z"
   },
   {
    "duration": 12,
    "start_time": "2023-02-16T12:26:37.496Z"
   },
   {
    "duration": 18,
    "start_time": "2023-02-16T12:26:44.122Z"
   },
   {
    "duration": 9,
    "start_time": "2023-02-16T12:26:46.419Z"
   },
   {
    "duration": 459,
    "start_time": "2023-02-16T12:29:12.981Z"
   },
   {
    "duration": 435,
    "start_time": "2023-02-16T12:30:51.920Z"
   },
   {
    "duration": 106,
    "start_time": "2023-02-16T12:31:42.396Z"
   },
   {
    "duration": 4,
    "start_time": "2023-02-16T12:32:27.920Z"
   },
   {
    "duration": 794,
    "start_time": "2023-02-16T12:32:27.927Z"
   },
   {
    "duration": 205,
    "start_time": "2023-02-16T12:32:28.723Z"
   },
   {
    "duration": 17,
    "start_time": "2023-02-16T12:32:28.930Z"
   },
   {
    "duration": 94,
    "start_time": "2023-02-16T12:32:28.950Z"
   },
   {
    "duration": 284,
    "start_time": "2023-02-16T12:32:29.047Z"
   },
   {
    "duration": 807,
    "start_time": "2023-02-16T12:32:29.338Z"
   },
   {
    "duration": 90,
    "start_time": "2023-02-16T12:32:30.147Z"
   },
   {
    "duration": 10,
    "start_time": "2023-02-16T12:32:30.239Z"
   },
   {
    "duration": 29,
    "start_time": "2023-02-16T12:32:30.251Z"
   },
   {
    "duration": 16,
    "start_time": "2023-02-16T12:32:30.281Z"
   },
   {
    "duration": 40,
    "start_time": "2023-02-16T12:32:30.298Z"
   },
   {
    "duration": 59,
    "start_time": "2023-02-16T12:32:30.340Z"
   },
   {
    "duration": 39,
    "start_time": "2023-02-16T12:32:30.401Z"
   },
   {
    "duration": 144,
    "start_time": "2023-02-16T12:32:30.443Z"
   },
   {
    "duration": 67,
    "start_time": "2023-02-16T12:32:33.521Z"
   },
   {
    "duration": 75,
    "start_time": "2023-02-16T12:32:34.635Z"
   },
   {
    "duration": 10,
    "start_time": "2023-02-16T12:33:46.176Z"
   },
   {
    "duration": 460,
    "start_time": "2023-02-16T12:33:52.396Z"
   },
   {
    "duration": 6,
    "start_time": "2023-02-16T12:37:13.255Z"
   },
   {
    "duration": 75,
    "start_time": "2023-02-16T12:37:30.921Z"
   },
   {
    "duration": 5,
    "start_time": "2023-02-16T12:37:34.021Z"
   },
   {
    "duration": 21,
    "start_time": "2023-02-16T12:38:00.824Z"
   },
   {
    "duration": 20,
    "start_time": "2023-02-16T12:38:33.732Z"
   },
   {
    "duration": 10,
    "start_time": "2023-02-16T12:41:18.236Z"
   },
   {
    "duration": 13,
    "start_time": "2023-02-16T12:41:36.476Z"
   },
   {
    "duration": 13,
    "start_time": "2023-02-16T12:42:13.480Z"
   },
   {
    "duration": 22,
    "start_time": "2023-02-16T12:42:39.515Z"
   },
   {
    "duration": 48,
    "start_time": "2023-02-16T12:43:24.750Z"
   },
   {
    "duration": 20,
    "start_time": "2023-02-16T12:43:30.636Z"
   },
   {
    "duration": 13,
    "start_time": "2023-02-16T12:43:55.277Z"
   },
   {
    "duration": 19,
    "start_time": "2023-02-16T12:44:13.511Z"
   },
   {
    "duration": 13,
    "start_time": "2023-02-16T12:44:25.036Z"
   },
   {
    "duration": 15,
    "start_time": "2023-02-16T12:44:52.516Z"
   },
   {
    "duration": 5,
    "start_time": "2023-02-16T12:46:04.241Z"
   },
   {
    "duration": 15,
    "start_time": "2023-02-16T12:46:06.326Z"
   },
   {
    "duration": 8,
    "start_time": "2023-02-16T12:46:26.956Z"
   },
   {
    "duration": 7,
    "start_time": "2023-02-16T12:46:27.866Z"
   },
   {
    "duration": 8,
    "start_time": "2023-02-16T12:46:37.400Z"
   },
   {
    "duration": 6,
    "start_time": "2023-02-16T12:53:24.515Z"
   },
   {
    "duration": 8,
    "start_time": "2023-02-16T12:53:31.840Z"
   },
   {
    "duration": 7,
    "start_time": "2023-02-16T12:53:34.870Z"
   },
   {
    "duration": 4,
    "start_time": "2023-02-16T12:54:39.696Z"
   },
   {
    "duration": 879,
    "start_time": "2023-02-16T12:54:39.702Z"
   },
   {
    "duration": 234,
    "start_time": "2023-02-16T12:54:40.583Z"
   },
   {
    "duration": 20,
    "start_time": "2023-02-16T12:54:40.819Z"
   },
   {
    "duration": 86,
    "start_time": "2023-02-16T12:54:40.841Z"
   },
   {
    "duration": 352,
    "start_time": "2023-02-16T12:54:40.938Z"
   },
   {
    "duration": 820,
    "start_time": "2023-02-16T12:54:41.292Z"
   },
   {
    "duration": 91,
    "start_time": "2023-02-16T12:54:42.114Z"
   },
   {
    "duration": 10,
    "start_time": "2023-02-16T12:54:42.207Z"
   },
   {
    "duration": 30,
    "start_time": "2023-02-16T12:54:42.219Z"
   },
   {
    "duration": 6,
    "start_time": "2023-02-16T12:54:42.251Z"
   },
   {
    "duration": 24,
    "start_time": "2023-02-16T12:54:42.258Z"
   },
   {
    "duration": 10,
    "start_time": "2023-02-16T12:54:42.284Z"
   },
   {
    "duration": 9,
    "start_time": "2023-02-16T12:54:42.296Z"
   },
   {
    "duration": 7,
    "start_time": "2023-02-16T12:54:42.338Z"
   },
   {
    "duration": 13,
    "start_time": "2023-02-16T12:54:42.346Z"
   },
   {
    "duration": 6,
    "start_time": "2023-02-16T12:55:17.858Z"
   },
   {
    "duration": 8,
    "start_time": "2023-02-16T12:55:21.936Z"
   },
   {
    "duration": 5,
    "start_time": "2023-02-16T12:55:25.715Z"
   },
   {
    "duration": 3,
    "start_time": "2023-02-16T12:57:31.561Z"
   },
   {
    "duration": 899,
    "start_time": "2023-02-16T12:57:31.569Z"
   },
   {
    "duration": 257,
    "start_time": "2023-02-16T12:57:32.470Z"
   },
   {
    "duration": 17,
    "start_time": "2023-02-16T12:57:32.729Z"
   },
   {
    "duration": 93,
    "start_time": "2023-02-16T12:57:32.747Z"
   },
   {
    "duration": 295,
    "start_time": "2023-02-16T12:57:32.843Z"
   },
   {
    "duration": 799,
    "start_time": "2023-02-16T12:57:33.140Z"
   },
   {
    "duration": 78,
    "start_time": "2023-02-16T12:57:33.941Z"
   },
   {
    "duration": 19,
    "start_time": "2023-02-16T12:57:34.021Z"
   },
   {
    "duration": 23,
    "start_time": "2023-02-16T12:57:34.042Z"
   },
   {
    "duration": 74,
    "start_time": "2023-02-16T12:57:37.340Z"
   },
   {
    "duration": 6,
    "start_time": "2023-02-16T12:57:40.071Z"
   },
   {
    "duration": 17,
    "start_time": "2023-02-16T12:57:41.468Z"
   },
   {
    "duration": 9,
    "start_time": "2023-02-16T12:57:42.836Z"
   },
   {
    "duration": 9,
    "start_time": "2023-02-16T12:57:53.574Z"
   },
   {
    "duration": 8,
    "start_time": "2023-02-16T12:58:03.480Z"
   },
   {
    "duration": 6,
    "start_time": "2023-02-16T12:58:12.440Z"
   },
   {
    "duration": 3,
    "start_time": "2023-02-16T13:02:45.564Z"
   },
   {
    "duration": 817,
    "start_time": "2023-02-16T13:02:45.569Z"
   },
   {
    "duration": 197,
    "start_time": "2023-02-16T13:02:46.387Z"
   },
   {
    "duration": 13,
    "start_time": "2023-02-16T13:02:46.586Z"
   },
   {
    "duration": 100,
    "start_time": "2023-02-16T13:02:46.601Z"
   },
   {
    "duration": 286,
    "start_time": "2023-02-16T13:02:46.702Z"
   },
   {
    "duration": 808,
    "start_time": "2023-02-16T13:02:46.990Z"
   },
   {
    "duration": 93,
    "start_time": "2023-02-16T13:02:47.800Z"
   },
   {
    "duration": 11,
    "start_time": "2023-02-16T13:02:47.895Z"
   },
   {
    "duration": 36,
    "start_time": "2023-02-16T13:02:47.908Z"
   },
   {
    "duration": 69,
    "start_time": "2023-02-16T13:02:52.762Z"
   },
   {
    "duration": 19,
    "start_time": "2023-02-16T13:02:55.295Z"
   },
   {
    "duration": 4,
    "start_time": "2023-02-16T13:04:07.594Z"
   },
   {
    "duration": 799,
    "start_time": "2023-02-16T13:04:07.601Z"
   },
   {
    "duration": 210,
    "start_time": "2023-02-16T13:04:08.402Z"
   },
   {
    "duration": 12,
    "start_time": "2023-02-16T13:04:08.614Z"
   },
   {
    "duration": 89,
    "start_time": "2023-02-16T13:04:08.636Z"
   },
   {
    "duration": 291,
    "start_time": "2023-02-16T13:04:08.726Z"
   },
   {
    "duration": 805,
    "start_time": "2023-02-16T13:04:09.019Z"
   },
   {
    "duration": 90,
    "start_time": "2023-02-16T13:04:09.825Z"
   },
   {
    "duration": 25,
    "start_time": "2023-02-16T13:04:09.916Z"
   },
   {
    "duration": 21,
    "start_time": "2023-02-16T13:04:09.943Z"
   },
   {
    "duration": 72,
    "start_time": "2023-02-16T13:04:11.810Z"
   },
   {
    "duration": 20,
    "start_time": "2023-02-16T13:04:13.034Z"
   },
   {
    "duration": 11,
    "start_time": "2023-02-16T13:07:30.362Z"
   },
   {
    "duration": 3,
    "start_time": "2023-02-16T13:09:05.962Z"
   },
   {
    "duration": 811,
    "start_time": "2023-02-16T13:09:05.967Z"
   },
   {
    "duration": 194,
    "start_time": "2023-02-16T13:09:06.780Z"
   },
   {
    "duration": 14,
    "start_time": "2023-02-16T13:09:06.976Z"
   },
   {
    "duration": 101,
    "start_time": "2023-02-16T13:09:06.991Z"
   },
   {
    "duration": 295,
    "start_time": "2023-02-16T13:09:07.094Z"
   },
   {
    "duration": 791,
    "start_time": "2023-02-16T13:09:07.392Z"
   },
   {
    "duration": 85,
    "start_time": "2023-02-16T13:09:08.184Z"
   },
   {
    "duration": 10,
    "start_time": "2023-02-16T13:09:08.271Z"
   },
   {
    "duration": 21,
    "start_time": "2023-02-16T13:09:08.282Z"
   },
   {
    "duration": 94,
    "start_time": "2023-02-16T13:09:08.305Z"
   },
   {
    "duration": 25,
    "start_time": "2023-02-16T13:09:08.400Z"
   },
   {
    "duration": 11,
    "start_time": "2023-02-16T13:09:08.437Z"
   },
   {
    "duration": 4,
    "start_time": "2023-02-16T13:10:38.968Z"
   },
   {
    "duration": 797,
    "start_time": "2023-02-16T13:10:38.974Z"
   },
   {
    "duration": 194,
    "start_time": "2023-02-16T13:10:39.772Z"
   },
   {
    "duration": 12,
    "start_time": "2023-02-16T13:10:39.967Z"
   },
   {
    "duration": 100,
    "start_time": "2023-02-16T13:10:39.981Z"
   },
   {
    "duration": 301,
    "start_time": "2023-02-16T13:10:40.082Z"
   },
   {
    "duration": 794,
    "start_time": "2023-02-16T13:10:40.384Z"
   },
   {
    "duration": 89,
    "start_time": "2023-02-16T13:10:41.180Z"
   },
   {
    "duration": 10,
    "start_time": "2023-02-16T13:10:41.271Z"
   },
   {
    "duration": 22,
    "start_time": "2023-02-16T13:10:41.283Z"
   },
   {
    "duration": 97,
    "start_time": "2023-02-16T13:10:41.306Z"
   },
   {
    "duration": 67,
    "start_time": "2023-02-16T13:10:41.405Z"
   },
   {
    "duration": 0,
    "start_time": "2023-02-16T13:10:41.474Z"
   },
   {
    "duration": 23,
    "start_time": "2023-02-16T13:11:23.134Z"
   },
   {
    "duration": 6,
    "start_time": "2023-02-16T13:12:11.960Z"
   },
   {
    "duration": 16,
    "start_time": "2023-02-16T13:12:13.855Z"
   },
   {
    "duration": 72,
    "start_time": "2023-02-16T13:12:20.657Z"
   },
   {
    "duration": 4,
    "start_time": "2023-02-16T13:21:43.918Z"
   },
   {
    "duration": 813,
    "start_time": "2023-02-16T13:21:43.924Z"
   },
   {
    "duration": 216,
    "start_time": "2023-02-16T13:21:44.739Z"
   },
   {
    "duration": 14,
    "start_time": "2023-02-16T13:21:44.957Z"
   },
   {
    "duration": 118,
    "start_time": "2023-02-16T13:21:44.974Z"
   },
   {
    "duration": 296,
    "start_time": "2023-02-16T13:21:45.094Z"
   },
   {
    "duration": 949,
    "start_time": "2023-02-16T13:21:45.393Z"
   },
   {
    "duration": 168,
    "start_time": "2023-02-16T13:21:46.345Z"
   },
   {
    "duration": 23,
    "start_time": "2023-02-16T13:21:46.515Z"
   },
   {
    "duration": 23,
    "start_time": "2023-02-16T13:21:46.540Z"
   },
   {
    "duration": 124,
    "start_time": "2023-02-16T13:21:46.567Z"
   },
   {
    "duration": 26,
    "start_time": "2023-02-16T13:21:46.693Z"
   },
   {
    "duration": 31,
    "start_time": "2023-02-16T13:21:46.721Z"
   },
   {
    "duration": 84,
    "start_time": "2023-02-16T13:21:46.756Z"
   },
   {
    "duration": 99,
    "start_time": "2023-02-16T13:22:04.770Z"
   },
   {
    "duration": 4,
    "start_time": "2023-02-16T14:08:36.331Z"
   },
   {
    "duration": 4,
    "start_time": "2023-02-16T14:08:46.171Z"
   },
   {
    "duration": 11,
    "start_time": "2023-02-16T14:09:36.151Z"
   },
   {
    "duration": 10,
    "start_time": "2023-02-16T14:10:33.130Z"
   },
   {
    "duration": 5,
    "start_time": "2023-02-16T14:10:50.172Z"
   },
   {
    "duration": 7,
    "start_time": "2023-02-16T14:11:12.151Z"
   },
   {
    "duration": 5,
    "start_time": "2023-02-16T14:11:28.311Z"
   },
   {
    "duration": 6,
    "start_time": "2023-02-16T14:12:16.151Z"
   },
   {
    "duration": 11,
    "start_time": "2023-02-16T14:12:28.911Z"
   },
   {
    "duration": 11,
    "start_time": "2023-02-16T14:12:55.071Z"
   },
   {
    "duration": 6,
    "start_time": "2023-02-16T14:14:49.547Z"
   },
   {
    "duration": 12,
    "start_time": "2023-02-16T14:15:00.213Z"
   },
   {
    "duration": 6,
    "start_time": "2023-02-16T14:15:16.512Z"
   },
   {
    "duration": 6,
    "start_time": "2023-02-16T14:15:32.592Z"
   },
   {
    "duration": 8,
    "start_time": "2023-02-16T14:17:16.951Z"
   },
   {
    "duration": 12,
    "start_time": "2023-02-16T14:22:48.692Z"
   },
   {
    "duration": 11,
    "start_time": "2023-02-16T14:23:05.312Z"
   },
   {
    "duration": 22,
    "start_time": "2023-02-16T14:23:37.766Z"
   },
   {
    "duration": 8,
    "start_time": "2023-02-16T14:23:46.173Z"
   },
   {
    "duration": 5,
    "start_time": "2023-02-16T14:23:55.453Z"
   },
   {
    "duration": 68,
    "start_time": "2023-02-16T14:24:20.500Z"
   },
   {
    "duration": 87,
    "start_time": "2023-02-16T14:26:52.353Z"
   },
   {
    "duration": 15,
    "start_time": "2023-02-16T14:27:24.332Z"
   },
   {
    "duration": 39,
    "start_time": "2023-02-16T14:28:16.557Z"
   },
   {
    "duration": 67,
    "start_time": "2023-02-16T14:28:54.012Z"
   },
   {
    "duration": 5,
    "start_time": "2023-02-16T14:29:37.572Z"
   },
   {
    "duration": 12,
    "start_time": "2023-02-16T14:30:01.896Z"
   },
   {
    "duration": 3,
    "start_time": "2023-02-16T14:30:26.933Z"
   },
   {
    "duration": 813,
    "start_time": "2023-02-16T14:30:26.941Z"
   },
   {
    "duration": 200,
    "start_time": "2023-02-16T14:30:27.756Z"
   },
   {
    "duration": 13,
    "start_time": "2023-02-16T14:30:27.957Z"
   },
   {
    "duration": 105,
    "start_time": "2023-02-16T14:30:27.973Z"
   },
   {
    "duration": 309,
    "start_time": "2023-02-16T14:30:28.080Z"
   },
   {
    "duration": 866,
    "start_time": "2023-02-16T14:30:28.391Z"
   },
   {
    "duration": 92,
    "start_time": "2023-02-16T14:30:29.260Z"
   },
   {
    "duration": 11,
    "start_time": "2023-02-16T14:30:29.354Z"
   },
   {
    "duration": 34,
    "start_time": "2023-02-16T14:30:29.366Z"
   },
   {
    "duration": 101,
    "start_time": "2023-02-16T14:30:29.402Z"
   },
   {
    "duration": 38,
    "start_time": "2023-02-16T14:30:29.505Z"
   },
   {
    "duration": 14,
    "start_time": "2023-02-16T14:30:29.544Z"
   },
   {
    "duration": 7,
    "start_time": "2023-02-16T14:30:29.560Z"
   },
   {
    "duration": 24,
    "start_time": "2023-02-16T14:30:29.569Z"
   },
   {
    "duration": 30,
    "start_time": "2023-02-16T14:30:37.592Z"
   },
   {
    "duration": 89,
    "start_time": "2023-02-16T14:30:38.663Z"
   },
   {
    "duration": 16,
    "start_time": "2023-02-16T14:30:46.793Z"
   },
   {
    "duration": 91,
    "start_time": "2023-02-16T14:30:47.573Z"
   },
   {
    "duration": 6,
    "start_time": "2023-02-16T14:32:33.392Z"
   },
   {
    "duration": 3,
    "start_time": "2023-02-16T14:35:28.193Z"
   },
   {
    "duration": 891,
    "start_time": "2023-02-16T14:35:28.203Z"
   },
   {
    "duration": 206,
    "start_time": "2023-02-16T14:35:29.096Z"
   },
   {
    "duration": 13,
    "start_time": "2023-02-16T14:35:29.304Z"
   },
   {
    "duration": 108,
    "start_time": "2023-02-16T14:35:29.319Z"
   },
   {
    "duration": 348,
    "start_time": "2023-02-16T14:35:29.430Z"
   },
   {
    "duration": 912,
    "start_time": "2023-02-16T14:35:29.780Z"
   },
   {
    "duration": 88,
    "start_time": "2023-02-16T14:35:30.694Z"
   },
   {
    "duration": 11,
    "start_time": "2023-02-16T14:35:30.784Z"
   },
   {
    "duration": 46,
    "start_time": "2023-02-16T14:35:30.797Z"
   },
   {
    "duration": 29,
    "start_time": "2023-02-16T14:35:34.208Z"
   },
   {
    "duration": 7,
    "start_time": "2023-02-16T14:36:21.796Z"
   },
   {
    "duration": 8,
    "start_time": "2023-02-16T14:42:45.677Z"
   },
   {
    "duration": 497,
    "start_time": "2023-02-16T14:42:48.293Z"
   },
   {
    "duration": 30,
    "start_time": "2023-02-16T14:43:25.156Z"
   },
   {
    "duration": 11,
    "start_time": "2023-02-16T14:43:28.718Z"
   },
   {
    "duration": 5,
    "start_time": "2023-02-16T14:45:22.499Z"
   },
   {
    "duration": 811,
    "start_time": "2023-02-16T14:45:22.507Z"
   },
   {
    "duration": 200,
    "start_time": "2023-02-16T14:45:23.320Z"
   },
   {
    "duration": 20,
    "start_time": "2023-02-16T14:45:23.522Z"
   },
   {
    "duration": 96,
    "start_time": "2023-02-16T14:45:23.544Z"
   },
   {
    "duration": 309,
    "start_time": "2023-02-16T14:45:23.642Z"
   },
   {
    "duration": 810,
    "start_time": "2023-02-16T14:45:23.953Z"
   },
   {
    "duration": 89,
    "start_time": "2023-02-16T14:45:24.764Z"
   },
   {
    "duration": 10,
    "start_time": "2023-02-16T14:45:24.855Z"
   },
   {
    "duration": 24,
    "start_time": "2023-02-16T14:45:24.867Z"
   },
   {
    "duration": 24,
    "start_time": "2023-02-16T14:45:27.212Z"
   },
   {
    "duration": 7,
    "start_time": "2023-02-16T14:45:30.991Z"
   },
   {
    "duration": 77,
    "start_time": "2023-02-16T14:45:37.757Z"
   },
   {
    "duration": 14,
    "start_time": "2023-02-16T14:45:40.271Z"
   },
   {
    "duration": 4,
    "start_time": "2023-02-16T14:49:29.911Z"
   },
   {
    "duration": 829,
    "start_time": "2023-02-16T14:49:29.921Z"
   },
   {
    "duration": 195,
    "start_time": "2023-02-16T14:49:30.752Z"
   },
   {
    "duration": 13,
    "start_time": "2023-02-16T14:49:30.948Z"
   },
   {
    "duration": 99,
    "start_time": "2023-02-16T14:49:30.962Z"
   },
   {
    "duration": 297,
    "start_time": "2023-02-16T14:49:31.063Z"
   },
   {
    "duration": 811,
    "start_time": "2023-02-16T14:49:31.361Z"
   },
   {
    "duration": 95,
    "start_time": "2023-02-16T14:49:32.174Z"
   },
   {
    "duration": 9,
    "start_time": "2023-02-16T14:49:32.271Z"
   },
   {
    "duration": 21,
    "start_time": "2023-02-16T14:49:32.282Z"
   },
   {
    "duration": 8,
    "start_time": "2023-02-16T14:49:32.305Z"
   },
   {
    "duration": 9,
    "start_time": "2023-02-16T14:49:35.237Z"
   },
   {
    "duration": 63,
    "start_time": "2023-02-16T14:49:36.497Z"
   },
   {
    "duration": 12,
    "start_time": "2023-02-16T14:49:37.897Z"
   },
   {
    "duration": 3,
    "start_time": "2023-02-16T14:51:07.647Z"
   },
   {
    "duration": 752,
    "start_time": "2023-02-16T14:51:07.652Z"
   },
   {
    "duration": 195,
    "start_time": "2023-02-16T14:51:08.406Z"
   },
   {
    "duration": 13,
    "start_time": "2023-02-16T14:51:08.603Z"
   },
   {
    "duration": 98,
    "start_time": "2023-02-16T14:51:08.619Z"
   },
   {
    "duration": 280,
    "start_time": "2023-02-16T14:51:08.719Z"
   },
   {
    "duration": 788,
    "start_time": "2023-02-16T14:51:09.001Z"
   },
   {
    "duration": 101,
    "start_time": "2023-02-16T14:51:09.791Z"
   },
   {
    "duration": 10,
    "start_time": "2023-02-16T14:51:09.894Z"
   },
   {
    "duration": 40,
    "start_time": "2023-02-16T14:51:09.905Z"
   },
   {
    "duration": 7,
    "start_time": "2023-02-16T14:51:09.947Z"
   },
   {
    "duration": 6,
    "start_time": "2023-02-16T14:51:11.032Z"
   },
   {
    "duration": 68,
    "start_time": "2023-02-16T14:51:12.588Z"
   },
   {
    "duration": 14,
    "start_time": "2023-02-16T14:51:14.312Z"
   },
   {
    "duration": 18,
    "start_time": "2023-02-16T14:51:25.671Z"
   },
   {
    "duration": 14,
    "start_time": "2023-02-16T14:51:30.732Z"
   },
   {
    "duration": 12,
    "start_time": "2023-02-16T14:52:00.052Z"
   },
   {
    "duration": 3,
    "start_time": "2023-02-16T14:53:00.837Z"
   },
   {
    "duration": 791,
    "start_time": "2023-02-16T14:53:00.842Z"
   },
   {
    "duration": 201,
    "start_time": "2023-02-16T14:53:01.637Z"
   },
   {
    "duration": 12,
    "start_time": "2023-02-16T14:53:01.839Z"
   },
   {
    "duration": 98,
    "start_time": "2023-02-16T14:53:01.853Z"
   },
   {
    "duration": 273,
    "start_time": "2023-02-16T14:53:01.953Z"
   },
   {
    "duration": 812,
    "start_time": "2023-02-16T14:53:02.237Z"
   },
   {
    "duration": 105,
    "start_time": "2023-02-16T14:53:03.050Z"
   },
   {
    "duration": 10,
    "start_time": "2023-02-16T14:53:03.156Z"
   },
   {
    "duration": 21,
    "start_time": "2023-02-16T14:53:03.168Z"
   },
   {
    "duration": 70,
    "start_time": "2023-02-16T14:53:03.192Z"
   },
   {
    "duration": 37,
    "start_time": "2023-02-16T14:53:15.361Z"
   },
   {
    "duration": 18,
    "start_time": "2023-02-16T14:53:16.232Z"
   },
   {
    "duration": 15,
    "start_time": "2023-02-16T14:53:17.257Z"
   },
   {
    "duration": 7,
    "start_time": "2023-02-16T14:53:19.257Z"
   },
   {
    "duration": 7,
    "start_time": "2023-02-16T14:53:29.492Z"
   },
   {
    "duration": 22,
    "start_time": "2023-02-16T14:53:31.703Z"
   },
   {
    "duration": 63,
    "start_time": "2023-02-16T14:53:33.719Z"
   },
   {
    "duration": 10,
    "start_time": "2023-02-16T14:53:45.094Z"
   },
   {
    "duration": 4,
    "start_time": "2023-02-16T14:54:59.593Z"
   },
   {
    "duration": 62,
    "start_time": "2023-02-16T14:55:00.962Z"
   },
   {
    "duration": 13,
    "start_time": "2023-02-16T14:55:02.452Z"
   },
   {
    "duration": 76,
    "start_time": "2023-02-16T14:55:05.732Z"
   },
   {
    "duration": 3,
    "start_time": "2023-02-16T14:55:49.972Z"
   },
   {
    "duration": 814,
    "start_time": "2023-02-16T14:55:49.981Z"
   },
   {
    "duration": 203,
    "start_time": "2023-02-16T14:55:50.797Z"
   },
   {
    "duration": 12,
    "start_time": "2023-02-16T14:55:51.002Z"
   },
   {
    "duration": 98,
    "start_time": "2023-02-16T14:55:51.016Z"
   },
   {
    "duration": 284,
    "start_time": "2023-02-16T14:55:51.116Z"
   },
   {
    "duration": 823,
    "start_time": "2023-02-16T14:55:51.402Z"
   },
   {
    "duration": 84,
    "start_time": "2023-02-16T14:55:52.227Z"
   },
   {
    "duration": 11,
    "start_time": "2023-02-16T14:55:52.312Z"
   },
   {
    "duration": 23,
    "start_time": "2023-02-16T14:55:52.338Z"
   },
   {
    "duration": 58,
    "start_time": "2023-02-16T14:55:52.363Z"
   },
   {
    "duration": 18,
    "start_time": "2023-02-16T14:55:52.437Z"
   },
   {
    "duration": 22,
    "start_time": "2023-02-16T14:55:52.457Z"
   },
   {
    "duration": 9,
    "start_time": "2023-02-16T14:55:52.482Z"
   },
   {
    "duration": 56,
    "start_time": "2023-02-16T14:55:52.494Z"
   },
   {
    "duration": 24,
    "start_time": "2023-02-16T14:55:56.266Z"
   },
   {
    "duration": 62,
    "start_time": "2023-02-16T14:55:58.112Z"
   },
   {
    "duration": 10,
    "start_time": "2023-02-16T14:56:03.852Z"
   },
   {
    "duration": 75,
    "start_time": "2023-02-16T14:56:10.791Z"
   },
   {
    "duration": 1735,
    "start_time": "2023-02-17T06:34:48.520Z"
   },
   {
    "duration": 3158,
    "start_time": "2023-02-17T06:34:50.258Z"
   },
   {
    "duration": 368,
    "start_time": "2023-02-17T06:34:53.418Z"
   },
   {
    "duration": 19,
    "start_time": "2023-02-17T06:34:53.788Z"
   },
   {
    "duration": 130,
    "start_time": "2023-02-17T06:34:53.810Z"
   },
   {
    "duration": 334,
    "start_time": "2023-02-17T06:34:53.942Z"
   },
   {
    "duration": 1000,
    "start_time": "2023-02-17T06:34:54.278Z"
   },
   {
    "duration": 130,
    "start_time": "2023-02-17T06:34:55.280Z"
   },
   {
    "duration": 12,
    "start_time": "2023-02-17T06:34:55.412Z"
   },
   {
    "duration": 68,
    "start_time": "2023-02-17T06:34:55.426Z"
   },
   {
    "duration": 81,
    "start_time": "2023-02-17T06:34:55.497Z"
   },
   {
    "duration": 17,
    "start_time": "2023-02-17T06:34:55.581Z"
   },
   {
    "duration": 27,
    "start_time": "2023-02-17T06:34:55.600Z"
   },
   {
    "duration": 9,
    "start_time": "2023-02-17T06:34:55.652Z"
   },
   {
    "duration": 7,
    "start_time": "2023-02-17T06:35:05.080Z"
   },
   {
    "duration": 36,
    "start_time": "2023-02-17T06:35:06.432Z"
   },
   {
    "duration": 149,
    "start_time": "2023-02-17T06:35:07.351Z"
   },
   {
    "duration": 36,
    "start_time": "2023-02-17T06:35:25.865Z"
   },
   {
    "duration": 8,
    "start_time": "2023-02-17T06:35:36.442Z"
   },
   {
    "duration": 4,
    "start_time": "2023-02-17T06:36:07.837Z"
   },
   {
    "duration": 1084,
    "start_time": "2023-02-17T06:36:07.843Z"
   },
   {
    "duration": 301,
    "start_time": "2023-02-17T06:36:08.929Z"
   },
   {
    "duration": 18,
    "start_time": "2023-02-17T06:36:09.233Z"
   },
   {
    "duration": 151,
    "start_time": "2023-02-17T06:36:09.254Z"
   },
   {
    "duration": 375,
    "start_time": "2023-02-17T06:36:09.407Z"
   },
   {
    "duration": 980,
    "start_time": "2023-02-17T06:36:09.785Z"
   },
   {
    "duration": 128,
    "start_time": "2023-02-17T06:36:10.767Z"
   },
   {
    "duration": 12,
    "start_time": "2023-02-17T06:36:10.898Z"
   },
   {
    "duration": 67,
    "start_time": "2023-02-17T06:36:10.912Z"
   },
   {
    "duration": 56,
    "start_time": "2023-02-17T06:36:10.981Z"
   },
   {
    "duration": 23,
    "start_time": "2023-02-17T06:36:11.039Z"
   },
   {
    "duration": 53,
    "start_time": "2023-02-17T06:36:11.064Z"
   },
   {
    "duration": 13,
    "start_time": "2023-02-17T06:36:11.120Z"
   },
   {
    "duration": 7,
    "start_time": "2023-02-17T06:36:14.088Z"
   },
   {
    "duration": 6,
    "start_time": "2023-02-17T06:38:20.186Z"
   },
   {
    "duration": 28,
    "start_time": "2023-02-17T06:38:22.132Z"
   },
   {
    "duration": 87,
    "start_time": "2023-02-17T06:38:27.734Z"
   },
   {
    "duration": 8,
    "start_time": "2023-02-17T06:51:47.145Z"
   },
   {
    "duration": 1272,
    "start_time": "2023-02-17T06:52:00.486Z"
   },
   {
    "duration": 1252,
    "start_time": "2023-02-17T06:52:33.835Z"
   },
   {
    "duration": 4,
    "start_time": "2023-02-17T06:52:48.837Z"
   },
   {
    "duration": 947,
    "start_time": "2023-02-17T06:52:48.844Z"
   },
   {
    "duration": 304,
    "start_time": "2023-02-17T06:52:49.793Z"
   },
   {
    "duration": 21,
    "start_time": "2023-02-17T06:52:50.099Z"
   },
   {
    "duration": 106,
    "start_time": "2023-02-17T06:52:50.124Z"
   },
   {
    "duration": 324,
    "start_time": "2023-02-17T06:52:50.232Z"
   },
   {
    "duration": 891,
    "start_time": "2023-02-17T06:52:50.558Z"
   },
   {
    "duration": 15,
    "start_time": "2023-02-17T06:52:51.451Z"
   },
   {
    "duration": 33,
    "start_time": "2023-02-17T06:52:51.468Z"
   },
   {
    "duration": 89,
    "start_time": "2023-02-17T06:52:51.503Z"
   },
   {
    "duration": 15,
    "start_time": "2023-02-17T06:52:51.594Z"
   },
   {
    "duration": 47,
    "start_time": "2023-02-17T06:52:51.611Z"
   },
   {
    "duration": 8,
    "start_time": "2023-02-17T06:52:51.660Z"
   },
   {
    "duration": 16,
    "start_time": "2023-02-17T06:52:51.672Z"
   },
   {
    "duration": 81,
    "start_time": "2023-02-17T06:52:51.690Z"
   },
   {
    "duration": 71,
    "start_time": "2023-02-17T06:52:55.444Z"
   },
   {
    "duration": 41,
    "start_time": "2023-02-17T06:52:56.597Z"
   },
   {
    "duration": 37,
    "start_time": "2023-02-17T06:56:38.145Z"
   },
   {
    "duration": 676,
    "start_time": "2023-02-17T07:00:26.038Z"
   },
   {
    "duration": 10,
    "start_time": "2023-02-17T07:03:59.384Z"
   },
   {
    "duration": 648,
    "start_time": "2023-02-17T07:04:48.064Z"
   },
   {
    "duration": 666,
    "start_time": "2023-02-17T07:05:13.170Z"
   },
   {
    "duration": 33,
    "start_time": "2023-02-17T07:05:55.799Z"
   },
   {
    "duration": 667,
    "start_time": "2023-02-17T07:06:32.939Z"
   },
   {
    "duration": 27,
    "start_time": "2023-02-17T07:06:55.939Z"
   },
   {
    "duration": 55,
    "start_time": "2023-02-17T07:07:26.919Z"
   },
   {
    "duration": 53,
    "start_time": "2023-02-17T07:14:35.474Z"
   },
   {
    "duration": 14,
    "start_time": "2023-02-17T07:16:27.163Z"
   },
   {
    "duration": 7,
    "start_time": "2023-02-17T07:17:27.480Z"
   },
   {
    "duration": 47,
    "start_time": "2023-02-17T12:43:26.977Z"
   },
   {
    "duration": 1532,
    "start_time": "2023-02-17T12:43:36.358Z"
   },
   {
    "duration": 2978,
    "start_time": "2023-02-17T12:43:37.892Z"
   },
   {
    "duration": 261,
    "start_time": "2023-02-17T12:43:40.872Z"
   },
   {
    "duration": 14,
    "start_time": "2023-02-17T12:43:41.135Z"
   },
   {
    "duration": 107,
    "start_time": "2023-02-17T12:43:41.151Z"
   },
   {
    "duration": 318,
    "start_time": "2023-02-17T12:43:41.260Z"
   },
   {
    "duration": 926,
    "start_time": "2023-02-17T12:43:41.580Z"
   },
   {
    "duration": 14,
    "start_time": "2023-02-17T12:43:42.507Z"
   },
   {
    "duration": 14,
    "start_time": "2023-02-17T12:43:44.106Z"
   },
   {
    "duration": 292,
    "start_time": "2023-02-17T12:43:45.323Z"
   },
   {
    "duration": 216,
    "start_time": "2023-02-17T12:43:58.097Z"
   },
   {
    "duration": 344,
    "start_time": "2023-02-17T12:45:27.183Z"
   },
   {
    "duration": 278,
    "start_time": "2023-02-17T12:46:47.958Z"
   },
   {
    "duration": 63,
    "start_time": "2023-02-17T12:47:28.758Z"
   },
   {
    "duration": 18,
    "start_time": "2023-02-17T12:47:29.578Z"
   },
   {
    "duration": 37,
    "start_time": "2023-02-17T12:47:30.257Z"
   },
   {
    "duration": 243,
    "start_time": "2023-02-17T12:47:31.358Z"
   },
   {
    "duration": 75,
    "start_time": "2023-02-17T12:49:12.778Z"
   },
   {
    "duration": 9,
    "start_time": "2023-02-17T12:49:22.609Z"
   },
   {
    "duration": 31,
    "start_time": "2023-02-17T12:49:44.728Z"
   },
   {
    "duration": 9,
    "start_time": "2023-02-17T12:49:47.018Z"
   },
   {
    "duration": 10,
    "start_time": "2023-02-17T12:50:33.638Z"
   },
   {
    "duration": 41,
    "start_time": "2023-02-17T12:50:38.857Z"
   },
   {
    "duration": 60731,
    "start_time": "2023-02-17T12:51:11.699Z"
   },
   {
    "duration": 265,
    "start_time": "2023-02-17T12:54:28.177Z"
   },
   {
    "duration": 254,
    "start_time": "2023-02-17T12:56:22.438Z"
   },
   {
    "duration": 238,
    "start_time": "2023-02-17T12:59:40.223Z"
   },
   {
    "duration": 212,
    "start_time": "2023-02-17T13:00:01.299Z"
   },
   {
    "duration": 245,
    "start_time": "2023-02-17T13:00:42.638Z"
   },
   {
    "duration": 209,
    "start_time": "2023-02-17T13:02:08.262Z"
   },
   {
    "duration": 3,
    "start_time": "2023-02-17T13:02:34.479Z"
   },
   {
    "duration": 1046,
    "start_time": "2023-02-17T13:02:34.486Z"
   },
   {
    "duration": 265,
    "start_time": "2023-02-17T13:02:35.534Z"
   },
   {
    "duration": 12,
    "start_time": "2023-02-17T13:02:35.800Z"
   },
   {
    "duration": 96,
    "start_time": "2023-02-17T13:02:35.814Z"
   },
   {
    "duration": 302,
    "start_time": "2023-02-17T13:02:35.912Z"
   },
   {
    "duration": 815,
    "start_time": "2023-02-17T13:02:36.216Z"
   },
   {
    "duration": 233,
    "start_time": "2023-02-17T13:02:37.032Z"
   },
   {
    "duration": 13,
    "start_time": "2023-02-17T13:02:37.266Z"
   },
   {
    "duration": 32,
    "start_time": "2023-02-17T13:02:37.280Z"
   },
   {
    "duration": 232,
    "start_time": "2023-02-17T13:02:37.314Z"
   },
   {
    "duration": 66,
    "start_time": "2023-02-17T13:02:37.548Z"
   },
   {
    "duration": 13,
    "start_time": "2023-02-17T13:02:37.615Z"
   },
   {
    "duration": 33,
    "start_time": "2023-02-17T13:02:37.647Z"
   },
   {
    "duration": 239,
    "start_time": "2023-02-17T13:02:37.682Z"
   },
   {
    "duration": 229,
    "start_time": "2023-02-17T13:02:44.739Z"
   },
   {
    "duration": 193,
    "start_time": "2023-02-17T13:05:37.528Z"
   },
   {
    "duration": 198,
    "start_time": "2023-02-17T13:07:00.140Z"
   },
   {
    "duration": 218,
    "start_time": "2023-02-17T13:07:24.069Z"
   },
   {
    "duration": 3,
    "start_time": "2023-02-17T13:07:47.961Z"
   },
   {
    "duration": 821,
    "start_time": "2023-02-17T13:07:47.966Z"
   },
   {
    "duration": 231,
    "start_time": "2023-02-17T13:07:48.789Z"
   },
   {
    "duration": 11,
    "start_time": "2023-02-17T13:07:49.022Z"
   },
   {
    "duration": 77,
    "start_time": "2023-02-17T13:07:49.048Z"
   },
   {
    "duration": 272,
    "start_time": "2023-02-17T13:07:49.127Z"
   },
   {
    "duration": 742,
    "start_time": "2023-02-17T13:07:49.400Z"
   },
   {
    "duration": 217,
    "start_time": "2023-02-17T13:07:50.143Z"
   },
   {
    "duration": 12,
    "start_time": "2023-02-17T13:07:50.362Z"
   },
   {
    "duration": 30,
    "start_time": "2023-02-17T13:07:50.375Z"
   },
   {
    "duration": 222,
    "start_time": "2023-02-17T13:07:50.406Z"
   },
   {
    "duration": 64,
    "start_time": "2023-02-17T13:07:50.629Z"
   },
   {
    "duration": 13,
    "start_time": "2023-02-17T13:07:50.694Z"
   },
   {
    "duration": 23,
    "start_time": "2023-02-17T13:07:50.708Z"
   },
   {
    "duration": 189,
    "start_time": "2023-02-17T13:07:50.748Z"
   },
   {
    "duration": 207,
    "start_time": "2023-02-17T13:07:56.948Z"
   },
   {
    "duration": 199,
    "start_time": "2023-02-17T13:08:27.659Z"
   },
   {
    "duration": 185,
    "start_time": "2023-02-17T13:08:37.683Z"
   },
   {
    "duration": 629,
    "start_time": "2023-02-17T13:08:48.503Z"
   },
   {
    "duration": 641,
    "start_time": "2023-02-17T13:09:21.239Z"
   },
   {
    "duration": 178,
    "start_time": "2023-02-17T13:09:28.863Z"
   },
   {
    "duration": 25,
    "start_time": "2023-02-17T13:09:39.379Z"
   },
   {
    "duration": 9,
    "start_time": "2023-02-17T13:09:41.159Z"
   },
   {
    "duration": 54,
    "start_time": "2023-02-17T13:09:45.384Z"
   },
   {
    "duration": 174,
    "start_time": "2023-02-17T13:09:47.019Z"
   },
   {
    "duration": 198,
    "start_time": "2023-02-17T13:09:59.339Z"
   },
   {
    "duration": 200,
    "start_time": "2023-02-17T13:10:15.080Z"
   },
   {
    "duration": 185,
    "start_time": "2023-02-17T13:10:31.784Z"
   },
   {
    "duration": 3,
    "start_time": "2023-02-17T13:11:04.269Z"
   },
   {
    "duration": 841,
    "start_time": "2023-02-17T13:11:04.274Z"
   },
   {
    "duration": 239,
    "start_time": "2023-02-17T13:11:05.116Z"
   },
   {
    "duration": 15,
    "start_time": "2023-02-17T13:11:05.357Z"
   },
   {
    "duration": 106,
    "start_time": "2023-02-17T13:11:05.374Z"
   },
   {
    "duration": 283,
    "start_time": "2023-02-17T13:11:05.482Z"
   },
   {
    "duration": 738,
    "start_time": "2023-02-17T13:11:05.775Z"
   },
   {
    "duration": 217,
    "start_time": "2023-02-17T13:11:06.515Z"
   },
   {
    "duration": 19,
    "start_time": "2023-02-17T13:11:06.734Z"
   },
   {
    "duration": 29,
    "start_time": "2023-02-17T13:11:06.755Z"
   },
   {
    "duration": 213,
    "start_time": "2023-02-17T13:11:06.785Z"
   },
   {
    "duration": 62,
    "start_time": "2023-02-17T13:11:07.000Z"
   },
   {
    "duration": 14,
    "start_time": "2023-02-17T13:11:07.064Z"
   },
   {
    "duration": 23,
    "start_time": "2023-02-17T13:11:07.079Z"
   },
   {
    "duration": 211,
    "start_time": "2023-02-17T13:11:07.103Z"
   },
   {
    "duration": 194,
    "start_time": "2023-02-17T13:11:07.315Z"
   },
   {
    "duration": 22,
    "start_time": "2023-02-17T13:11:07.510Z"
   },
   {
    "duration": 18,
    "start_time": "2023-02-17T13:11:07.533Z"
   },
   {
    "duration": 42,
    "start_time": "2023-02-17T13:11:07.552Z"
   },
   {
    "duration": 192,
    "start_time": "2023-02-17T13:11:07.596Z"
   },
   {
    "duration": 195,
    "start_time": "2023-02-17T13:11:14.540Z"
   },
   {
    "duration": 188,
    "start_time": "2023-02-17T13:11:27.104Z"
   },
   {
    "duration": 195,
    "start_time": "2023-02-17T13:11:39.759Z"
   },
   {
    "duration": 197,
    "start_time": "2023-02-17T13:11:56.409Z"
   },
   {
    "duration": 662,
    "start_time": "2023-02-17T13:12:15.729Z"
   },
   {
    "duration": 183,
    "start_time": "2023-02-17T13:12:24.489Z"
   },
   {
    "duration": 15,
    "start_time": "2023-02-17T13:15:52.260Z"
   },
   {
    "duration": 99,
    "start_time": "2023-02-17T13:19:20.521Z"
   },
   {
    "duration": 72,
    "start_time": "2023-02-17T13:19:24.599Z"
   },
   {
    "duration": 61,
    "start_time": "2023-02-17T13:20:45.481Z"
   },
   {
    "duration": 14,
    "start_time": "2023-02-17T13:21:14.081Z"
   },
   {
    "duration": 70,
    "start_time": "2023-02-17T13:21:24.960Z"
   },
   {
    "duration": 26,
    "start_time": "2023-02-17T13:21:41.181Z"
   },
   {
    "duration": 109,
    "start_time": "2023-02-17T13:24:25.730Z"
   },
   {
    "duration": 80,
    "start_time": "2023-02-17T13:29:41.101Z"
   },
   {
    "duration": 72,
    "start_time": "2023-02-17T13:29:45.647Z"
   },
   {
    "duration": 3,
    "start_time": "2023-02-17T13:30:28.762Z"
   },
   {
    "duration": 801,
    "start_time": "2023-02-17T13:30:28.770Z"
   },
   {
    "duration": 252,
    "start_time": "2023-02-17T13:30:29.574Z"
   },
   {
    "duration": 11,
    "start_time": "2023-02-17T13:30:29.828Z"
   },
   {
    "duration": 79,
    "start_time": "2023-02-17T13:30:29.847Z"
   },
   {
    "duration": 288,
    "start_time": "2023-02-17T13:30:29.928Z"
   },
   {
    "duration": 813,
    "start_time": "2023-02-17T13:30:30.218Z"
   },
   {
    "duration": 1561,
    "start_time": "2023-02-17T13:30:31.033Z"
   },
   {
    "duration": 13,
    "start_time": "2023-02-17T13:30:32.596Z"
   },
   {
    "duration": 47,
    "start_time": "2023-02-17T13:30:32.611Z"
   },
   {
    "duration": 262,
    "start_time": "2023-02-17T13:30:32.660Z"
   },
   {
    "duration": 69,
    "start_time": "2023-02-17T13:30:32.924Z"
   },
   {
    "duration": 14,
    "start_time": "2023-02-17T13:30:32.995Z"
   },
   {
    "duration": 42,
    "start_time": "2023-02-17T13:30:33.011Z"
   },
   {
    "duration": 223,
    "start_time": "2023-02-17T13:30:33.055Z"
   },
   {
    "duration": 219,
    "start_time": "2023-02-17T13:30:33.280Z"
   },
   {
    "duration": 23,
    "start_time": "2023-02-17T13:30:33.501Z"
   },
   {
    "duration": 22,
    "start_time": "2023-02-17T13:30:33.526Z"
   },
   {
    "duration": 41,
    "start_time": "2023-02-17T13:30:33.550Z"
   },
   {
    "duration": 219,
    "start_time": "2023-02-17T13:30:33.593Z"
   },
   {
    "duration": 202,
    "start_time": "2023-02-17T13:30:33.814Z"
   },
   {
    "duration": 100,
    "start_time": "2023-02-17T13:31:13.681Z"
   },
   {
    "duration": 1787,
    "start_time": "2023-02-27T14:45:35.031Z"
   },
   {
    "duration": 1531,
    "start_time": "2023-02-27T14:45:36.831Z"
   },
   {
    "duration": 327,
    "start_time": "2023-02-27T14:45:38.364Z"
   },
   {
    "duration": 20,
    "start_time": "2023-02-27T14:45:38.693Z"
   },
   {
    "duration": 145,
    "start_time": "2023-02-27T14:45:38.715Z"
   },
   {
    "duration": 364,
    "start_time": "2023-02-27T14:45:38.861Z"
   },
   {
    "duration": 1073,
    "start_time": "2023-02-27T14:45:39.226Z"
   },
   {
    "duration": 292,
    "start_time": "2023-02-27T14:45:40.302Z"
   },
   {
    "duration": 18,
    "start_time": "2023-02-27T14:45:40.595Z"
   },
   {
    "duration": 73,
    "start_time": "2023-02-27T14:45:40.618Z"
   },
   {
    "duration": 287,
    "start_time": "2023-02-27T14:45:40.693Z"
   },
   {
    "duration": 78,
    "start_time": "2023-02-27T14:45:50.622Z"
   },
   {
    "duration": 15,
    "start_time": "2023-02-27T14:45:55.355Z"
   },
   {
    "duration": 41,
    "start_time": "2023-02-27T14:45:58.676Z"
   },
   {
    "duration": 338,
    "start_time": "2023-02-27T14:46:03.961Z"
   },
   {
    "duration": 239,
    "start_time": "2023-02-27T14:46:10.332Z"
   },
   {
    "duration": 22,
    "start_time": "2023-02-27T14:46:16.056Z"
   },
   {
    "duration": 11,
    "start_time": "2023-02-27T14:46:20.692Z"
   },
   {
    "duration": 50,
    "start_time": "2023-02-27T14:46:33.930Z"
   },
   {
    "duration": 260,
    "start_time": "2023-02-27T14:46:43.087Z"
   },
   {
    "duration": 258,
    "start_time": "2023-02-27T14:46:53.877Z"
   },
   {
    "duration": 1718,
    "start_time": "2023-02-27T19:11:42.610Z"
   },
   {
    "duration": 3243,
    "start_time": "2023-02-27T19:11:44.330Z"
   },
   {
    "duration": 288,
    "start_time": "2023-02-27T19:11:47.575Z"
   },
   {
    "duration": 13,
    "start_time": "2023-02-27T19:11:47.864Z"
   },
   {
    "duration": 112,
    "start_time": "2023-02-27T19:11:47.879Z"
   },
   {
    "duration": 366,
    "start_time": "2023-02-27T19:11:47.992Z"
   },
   {
    "duration": 1024,
    "start_time": "2023-02-27T19:11:48.360Z"
   },
   {
    "duration": 268,
    "start_time": "2023-02-27T19:11:49.386Z"
   },
   {
    "duration": 15,
    "start_time": "2023-02-27T19:11:49.655Z"
   },
   {
    "duration": 77,
    "start_time": "2023-02-27T19:11:49.671Z"
   },
   {
    "duration": 254,
    "start_time": "2023-02-27T19:11:49.750Z"
   },
   {
    "duration": 83,
    "start_time": "2023-02-27T19:11:50.005Z"
   },
   {
    "duration": 15,
    "start_time": "2023-02-27T19:11:50.090Z"
   },
   {
    "duration": 60,
    "start_time": "2023-02-27T19:11:50.107Z"
   },
   {
    "duration": 305,
    "start_time": "2023-02-27T19:11:50.169Z"
   },
   {
    "duration": 233,
    "start_time": "2023-02-27T19:11:50.475Z"
   },
   {
    "duration": 41,
    "start_time": "2023-02-27T19:11:50.709Z"
   },
   {
    "duration": 12,
    "start_time": "2023-02-27T19:11:50.754Z"
   },
   {
    "duration": 42,
    "start_time": "2023-02-27T19:11:50.768Z"
   },
   {
    "duration": 273,
    "start_time": "2023-02-27T19:11:50.812Z"
   },
   {
    "duration": 232,
    "start_time": "2023-02-27T19:11:51.087Z"
   },
   {
    "duration": 6,
    "start_time": "2023-02-27T19:28:14.472Z"
   },
   {
    "duration": 33,
    "start_time": "2023-02-27T19:28:33.841Z"
   },
   {
    "duration": 49,
    "start_time": "2023-02-27T19:29:22.281Z"
   },
   {
    "duration": 60,
    "start_time": "2023-02-27T19:29:37.600Z"
   },
   {
    "duration": 34,
    "start_time": "2023-02-27T19:45:24.095Z"
   },
   {
    "duration": 95,
    "start_time": "2023-02-27T19:54:39.907Z"
   },
   {
    "duration": 113,
    "start_time": "2023-02-27T19:56:22.808Z"
   },
   {
    "duration": 113,
    "start_time": "2023-02-27T19:56:45.901Z"
   },
   {
    "duration": 121,
    "start_time": "2023-02-27T19:58:51.521Z"
   },
   {
    "duration": 102,
    "start_time": "2023-02-27T19:59:05.051Z"
   },
   {
    "duration": 106,
    "start_time": "2023-02-27T20:01:06.619Z"
   },
   {
    "duration": 966,
    "start_time": "2023-02-27T20:07:18.435Z"
   },
   {
    "duration": 49,
    "start_time": "2023-02-27T20:13:01.150Z"
   },
   {
    "duration": 109,
    "start_time": "2023-02-27T20:13:14.067Z"
   },
   {
    "duration": 101,
    "start_time": "2023-02-27T20:13:23.908Z"
   },
   {
    "duration": 95,
    "start_time": "2023-02-27T20:15:36.719Z"
   },
   {
    "duration": 56,
    "start_time": "2023-02-27T20:15:45.903Z"
   },
   {
    "duration": 49,
    "start_time": "2023-02-27T20:21:03.059Z"
   },
   {
    "duration": 4,
    "start_time": "2023-02-27T20:21:14.211Z"
   },
   {
    "duration": 948,
    "start_time": "2023-02-27T20:21:14.217Z"
   },
   {
    "duration": 275,
    "start_time": "2023-02-27T20:21:15.167Z"
   },
   {
    "duration": 14,
    "start_time": "2023-02-27T20:21:15.444Z"
   },
   {
    "duration": 105,
    "start_time": "2023-02-27T20:21:15.460Z"
   },
   {
    "duration": 1074,
    "start_time": "2023-02-27T20:21:15.567Z"
   },
   {
    "duration": 907,
    "start_time": "2023-02-27T20:21:16.643Z"
   },
   {
    "duration": 240,
    "start_time": "2023-02-27T20:21:17.552Z"
   },
   {
    "duration": 16,
    "start_time": "2023-02-27T20:21:17.793Z"
   },
   {
    "duration": 65,
    "start_time": "2023-02-27T20:21:17.810Z"
   },
   {
    "duration": 262,
    "start_time": "2023-02-27T20:21:17.876Z"
   },
   {
    "duration": 81,
    "start_time": "2023-02-27T20:21:18.140Z"
   },
   {
    "duration": 17,
    "start_time": "2023-02-27T20:21:18.238Z"
   },
   {
    "duration": 35,
    "start_time": "2023-02-27T20:21:18.258Z"
   },
   {
    "duration": 248,
    "start_time": "2023-02-27T20:21:18.295Z"
   },
   {
    "duration": 228,
    "start_time": "2023-02-27T20:21:18.545Z"
   },
   {
    "duration": 29,
    "start_time": "2023-02-27T20:21:18.774Z"
   },
   {
    "duration": 16,
    "start_time": "2023-02-27T20:21:18.805Z"
   },
   {
    "duration": 50,
    "start_time": "2023-02-27T20:21:18.838Z"
   },
   {
    "duration": 240,
    "start_time": "2023-02-27T20:21:18.891Z"
   },
   {
    "duration": 361,
    "start_time": "2023-02-27T20:21:19.132Z"
   },
   {
    "duration": 126,
    "start_time": "2023-02-27T20:21:19.494Z"
   },
   {
    "duration": 134,
    "start_time": "2023-02-27T20:21:19.622Z"
   },
   {
    "duration": 53,
    "start_time": "2023-02-27T20:21:19.758Z"
   },
   {
    "duration": 110,
    "start_time": "2023-02-27T20:21:19.813Z"
   },
   {
    "duration": 61,
    "start_time": "2023-02-27T20:21:19.924Z"
   },
   {
    "duration": 986,
    "start_time": "2023-02-27T20:38:53.524Z"
   },
   {
    "duration": 52,
    "start_time": "2023-02-27T20:39:53.683Z"
   },
   {
    "duration": 3,
    "start_time": "2023-02-27T20:55:24.896Z"
   },
   {
    "duration": 968,
    "start_time": "2023-02-27T20:55:24.901Z"
   },
   {
    "duration": 270,
    "start_time": "2023-02-27T20:55:25.870Z"
   },
   {
    "duration": 15,
    "start_time": "2023-02-27T20:55:26.141Z"
   },
   {
    "duration": 102,
    "start_time": "2023-02-27T20:55:26.158Z"
   },
   {
    "duration": 1112,
    "start_time": "2023-02-27T20:55:26.262Z"
   },
   {
    "duration": 913,
    "start_time": "2023-02-27T20:55:27.376Z"
   },
   {
    "duration": 252,
    "start_time": "2023-02-27T20:55:28.291Z"
   },
   {
    "duration": 16,
    "start_time": "2023-02-27T20:55:28.544Z"
   },
   {
    "duration": 43,
    "start_time": "2023-02-27T20:55:28.562Z"
   },
   {
    "duration": 263,
    "start_time": "2023-02-27T20:55:28.607Z"
   },
   {
    "duration": 80,
    "start_time": "2023-02-27T20:55:28.872Z"
   },
   {
    "duration": 16,
    "start_time": "2023-02-27T20:55:28.955Z"
   },
   {
    "duration": 37,
    "start_time": "2023-02-27T20:55:28.973Z"
   },
   {
    "duration": 256,
    "start_time": "2023-02-27T20:55:29.012Z"
   },
   {
    "duration": 351,
    "start_time": "2023-02-27T20:55:29.270Z"
   },
   {
    "duration": 29,
    "start_time": "2023-02-27T20:55:29.623Z"
   },
   {
    "duration": 23,
    "start_time": "2023-02-27T20:55:29.653Z"
   },
   {
    "duration": 71,
    "start_time": "2023-02-27T20:55:29.677Z"
   },
   {
    "duration": 233,
    "start_time": "2023-02-27T20:55:29.750Z"
   },
   {
    "duration": 216,
    "start_time": "2023-02-27T20:55:29.985Z"
   },
   {
    "duration": 119,
    "start_time": "2023-02-27T20:55:30.202Z"
   },
   {
    "duration": 115,
    "start_time": "2023-02-27T20:55:30.323Z"
   },
   {
    "duration": 50,
    "start_time": "2023-02-27T20:55:30.440Z"
   },
   {
    "duration": 107,
    "start_time": "2023-02-27T20:55:30.492Z"
   },
   {
    "duration": 1044,
    "start_time": "2023-02-27T20:55:30.601Z"
   },
   {
    "duration": 54,
    "start_time": "2023-02-27T20:55:31.647Z"
   },
   {
    "duration": 1672,
    "start_time": "2023-02-28T06:41:53.746Z"
   },
   {
    "duration": 3527,
    "start_time": "2023-02-28T06:41:55.420Z"
   },
   {
    "duration": 247,
    "start_time": "2023-02-28T06:41:58.949Z"
   },
   {
    "duration": 18,
    "start_time": "2023-02-28T06:41:59.200Z"
   },
   {
    "duration": 121,
    "start_time": "2023-02-28T06:41:59.220Z"
   },
   {
    "duration": 1227,
    "start_time": "2023-02-28T06:41:59.342Z"
   },
   {
    "duration": 1164,
    "start_time": "2023-02-28T06:42:00.571Z"
   },
   {
    "duration": 314,
    "start_time": "2023-02-28T06:42:01.737Z"
   },
   {
    "duration": 18,
    "start_time": "2023-02-28T06:42:02.054Z"
   },
   {
    "duration": 117,
    "start_time": "2023-02-28T06:42:02.094Z"
   },
   {
    "duration": 335,
    "start_time": "2023-02-28T06:42:02.216Z"
   },
   {
    "duration": 99,
    "start_time": "2023-02-28T06:42:02.553Z"
   },
   {
    "duration": 98,
    "start_time": "2023-02-28T06:42:02.654Z"
   },
   {
    "duration": 91,
    "start_time": "2023-02-28T06:42:02.754Z"
   },
   {
    "duration": 373,
    "start_time": "2023-02-28T06:42:02.847Z"
   },
   {
    "duration": 250,
    "start_time": "2023-02-28T06:42:03.222Z"
   },
   {
    "duration": 36,
    "start_time": "2023-02-28T06:42:03.474Z"
   },
   {
    "duration": 18,
    "start_time": "2023-02-28T06:42:03.512Z"
   },
   {
    "duration": 71,
    "start_time": "2023-02-28T06:42:03.532Z"
   },
   {
    "duration": 237,
    "start_time": "2023-02-28T06:42:03.605Z"
   },
   {
    "duration": 262,
    "start_time": "2023-02-28T06:42:03.844Z"
   },
   {
    "duration": 107,
    "start_time": "2023-02-28T06:42:04.108Z"
   },
   {
    "duration": 121,
    "start_time": "2023-02-28T06:42:04.217Z"
   },
   {
    "duration": 65,
    "start_time": "2023-02-28T06:42:04.340Z"
   },
   {
    "duration": 95,
    "start_time": "2023-02-28T06:42:04.407Z"
   },
   {
    "duration": 1140,
    "start_time": "2023-02-28T06:42:04.506Z"
   },
   {
    "duration": 72,
    "start_time": "2023-02-28T06:42:05.648Z"
   },
   {
    "duration": 8,
    "start_time": "2023-02-28T09:35:06.887Z"
   },
   {
    "duration": 275,
    "start_time": "2023-02-28T09:35:10.878Z"
   },
   {
    "duration": 6,
    "start_time": "2023-02-28T09:35:57.734Z"
   },
   {
    "duration": 304,
    "start_time": "2023-02-28T09:35:59.330Z"
   },
   {
    "duration": 6,
    "start_time": "2023-02-28T10:46:37.307Z"
   },
   {
    "duration": 3196,
    "start_time": "2023-02-28T10:46:37.315Z"
   },
   {
    "duration": 272,
    "start_time": "2023-02-28T10:46:40.514Z"
   },
   {
    "duration": 25,
    "start_time": "2023-02-28T10:46:40.788Z"
   },
   {
    "duration": 129,
    "start_time": "2023-02-28T10:46:40.816Z"
   },
   {
    "duration": 1140,
    "start_time": "2023-02-28T10:46:40.948Z"
   },
   {
    "duration": 894,
    "start_time": "2023-02-28T10:46:42.090Z"
   },
   {
    "duration": 382,
    "start_time": "2023-02-28T10:46:42.986Z"
   },
   {
    "duration": 35,
    "start_time": "2023-02-28T10:46:43.369Z"
   },
   {
    "duration": 41,
    "start_time": "2023-02-28T10:46:43.412Z"
   },
   {
    "duration": 266,
    "start_time": "2023-02-28T10:46:43.455Z"
   },
   {
    "duration": 76,
    "start_time": "2023-02-28T10:46:43.723Z"
   },
   {
    "duration": 21,
    "start_time": "2023-02-28T10:46:43.802Z"
   },
   {
    "duration": 36,
    "start_time": "2023-02-28T10:46:43.825Z"
   },
   {
    "duration": 369,
    "start_time": "2023-02-28T10:46:43.863Z"
   },
   {
    "duration": 244,
    "start_time": "2023-02-28T10:46:44.234Z"
   },
   {
    "duration": 35,
    "start_time": "2023-02-28T10:46:44.480Z"
   },
   {
    "duration": 11,
    "start_time": "2023-02-28T10:46:44.517Z"
   },
   {
    "duration": 73,
    "start_time": "2023-02-28T10:46:44.530Z"
   },
   {
    "duration": 232,
    "start_time": "2023-02-28T10:46:44.607Z"
   },
   {
    "duration": 245,
    "start_time": "2023-02-28T10:46:44.841Z"
   },
   {
    "duration": 134,
    "start_time": "2023-02-28T10:46:45.092Z"
   },
   {
    "duration": 147,
    "start_time": "2023-02-28T10:46:45.228Z"
   },
   {
    "duration": 71,
    "start_time": "2023-02-28T10:46:45.376Z"
   },
   {
    "duration": 108,
    "start_time": "2023-02-28T10:46:45.449Z"
   },
   {
    "duration": 1376,
    "start_time": "2023-02-28T10:46:45.559Z"
   },
   {
    "duration": 74,
    "start_time": "2023-02-28T10:46:46.937Z"
   },
   {
    "duration": 5,
    "start_time": "2023-02-28T10:46:47.020Z"
   },
   {
    "duration": 317,
    "start_time": "2023-02-28T10:46:47.027Z"
   },
   {
    "duration": 1630,
    "start_time": "2023-02-28T11:02:29.794Z"
   },
   {
    "duration": 1017,
    "start_time": "2023-02-28T11:02:31.429Z"
   },
   {
    "duration": 261,
    "start_time": "2023-02-28T11:02:32.447Z"
   },
   {
    "duration": 17,
    "start_time": "2023-02-28T11:02:32.710Z"
   },
   {
    "duration": 110,
    "start_time": "2023-02-28T11:02:32.729Z"
   },
   {
    "duration": 1282,
    "start_time": "2023-02-28T11:02:32.842Z"
   },
   {
    "duration": 1049,
    "start_time": "2023-02-28T11:02:34.126Z"
   },
   {
    "duration": 291,
    "start_time": "2023-02-28T11:02:35.177Z"
   },
   {
    "duration": 29,
    "start_time": "2023-02-28T11:02:35.470Z"
   },
   {
    "duration": 54,
    "start_time": "2023-02-28T11:02:35.503Z"
   },
   {
    "duration": 324,
    "start_time": "2023-02-28T11:02:35.560Z"
   },
   {
    "duration": 76,
    "start_time": "2023-02-28T11:02:35.886Z"
   },
   {
    "duration": 35,
    "start_time": "2023-02-28T11:02:35.964Z"
   },
   {
    "duration": 41,
    "start_time": "2023-02-28T11:02:36.001Z"
   },
   {
    "duration": 241,
    "start_time": "2023-02-28T11:02:36.044Z"
   },
   {
    "duration": 403,
    "start_time": "2023-02-28T11:02:36.291Z"
   },
   {
    "duration": 46,
    "start_time": "2023-02-28T11:02:36.697Z"
   },
   {
    "duration": 16,
    "start_time": "2023-02-28T11:02:36.745Z"
   },
   {
    "duration": 64,
    "start_time": "2023-02-28T11:02:36.763Z"
   },
   {
    "duration": 244,
    "start_time": "2023-02-28T11:02:36.829Z"
   },
   {
    "duration": 224,
    "start_time": "2023-02-28T11:02:37.076Z"
   },
   {
    "duration": 113,
    "start_time": "2023-02-28T11:02:37.302Z"
   },
   {
    "duration": 119,
    "start_time": "2023-02-28T11:02:37.417Z"
   },
   {
    "duration": 62,
    "start_time": "2023-02-28T11:02:37.539Z"
   },
   {
    "duration": 93,
    "start_time": "2023-02-28T11:02:37.603Z"
   },
   {
    "duration": 1037,
    "start_time": "2023-02-28T11:02:37.698Z"
   },
   {
    "duration": 64,
    "start_time": "2023-02-28T11:02:38.737Z"
   },
   {
    "duration": 4,
    "start_time": "2023-02-28T11:02:38.804Z"
   },
   {
    "duration": 9,
    "start_time": "2023-02-28T11:04:56.011Z"
   },
   {
    "duration": 85,
    "start_time": "2023-02-28T11:04:57.651Z"
   },
   {
    "duration": 100,
    "start_time": "2023-02-28T12:05:28.759Z"
   },
   {
    "duration": 123,
    "start_time": "2023-02-28T12:19:53.743Z"
   },
   {
    "duration": 14,
    "start_time": "2023-02-28T12:21:47.467Z"
   },
   {
    "duration": 4,
    "start_time": "2023-02-28T12:42:38.307Z"
   },
   {
    "duration": 4,
    "start_time": "2023-02-28T14:04:46.263Z"
   },
   {
    "duration": 115,
    "start_time": "2023-02-28T14:04:47.510Z"
   },
   {
    "duration": 122,
    "start_time": "2023-02-28T14:31:22.834Z"
   },
   {
    "duration": 2,
    "start_time": "2023-02-28T14:32:11.818Z"
   },
   {
    "duration": 249,
    "start_time": "2023-02-28T14:32:14.772Z"
   },
   {
    "duration": 11,
    "start_time": "2023-02-28T14:32:49.732Z"
   },
   {
    "duration": 3,
    "start_time": "2023-02-28T14:32:55.872Z"
   },
   {
    "duration": 239,
    "start_time": "2023-02-28T14:33:00.370Z"
   },
   {
    "duration": 3,
    "start_time": "2023-02-28T14:33:24.254Z"
   },
   {
    "duration": 272,
    "start_time": "2023-02-28T14:33:26.032Z"
   },
   {
    "duration": 12,
    "start_time": "2023-02-28T14:33:56.137Z"
   },
   {
    "duration": 222,
    "start_time": "2023-02-28T14:36:12.243Z"
   },
   {
    "duration": 14,
    "start_time": "2023-02-28T14:42:59.382Z"
   },
   {
    "duration": 30,
    "start_time": "2023-02-28T14:43:28.664Z"
   },
   {
    "duration": 44,
    "start_time": "2023-02-28T14:43:48.672Z"
   },
   {
    "duration": 1428,
    "start_time": "2023-02-28T14:48:35.992Z"
   },
   {
    "duration": 3105,
    "start_time": "2023-02-28T14:48:37.422Z"
   },
   {
    "duration": 228,
    "start_time": "2023-02-28T14:48:40.529Z"
   },
   {
    "duration": 13,
    "start_time": "2023-02-28T14:48:40.759Z"
   },
   {
    "duration": 105,
    "start_time": "2023-02-28T14:48:40.774Z"
   },
   {
    "duration": 1024,
    "start_time": "2023-02-28T14:48:40.881Z"
   },
   {
    "duration": 958,
    "start_time": "2023-02-28T14:48:41.907Z"
   },
   {
    "duration": 256,
    "start_time": "2023-02-28T14:48:42.867Z"
   },
   {
    "duration": 14,
    "start_time": "2023-02-28T14:48:43.125Z"
   },
   {
    "duration": 66,
    "start_time": "2023-02-28T14:48:43.141Z"
   },
   {
    "duration": 249,
    "start_time": "2023-02-28T14:48:43.209Z"
   },
   {
    "duration": 83,
    "start_time": "2023-02-28T14:48:43.460Z"
   },
   {
    "duration": 16,
    "start_time": "2023-02-28T14:48:43.545Z"
   },
   {
    "duration": 55,
    "start_time": "2023-02-28T14:48:43.563Z"
   },
   {
    "duration": 243,
    "start_time": "2023-02-28T14:48:43.620Z"
   },
   {
    "duration": 303,
    "start_time": "2023-02-28T14:48:43.865Z"
   },
   {
    "duration": 36,
    "start_time": "2023-02-28T14:48:44.170Z"
   },
   {
    "duration": 9,
    "start_time": "2023-02-28T14:48:44.208Z"
   },
   {
    "duration": 51,
    "start_time": "2023-02-28T14:48:44.218Z"
   },
   {
    "duration": 236,
    "start_time": "2023-02-28T14:48:44.271Z"
   },
   {
    "duration": 208,
    "start_time": "2023-02-28T14:48:44.509Z"
   },
   {
    "duration": 101,
    "start_time": "2023-02-28T14:48:44.719Z"
   },
   {
    "duration": 131,
    "start_time": "2023-02-28T14:48:44.821Z"
   },
   {
    "duration": 60,
    "start_time": "2023-02-28T14:48:44.954Z"
   },
   {
    "duration": 111,
    "start_time": "2023-02-28T14:48:45.016Z"
   },
   {
    "duration": 1035,
    "start_time": "2023-02-28T14:48:45.129Z"
   },
   {
    "duration": 65,
    "start_time": "2023-02-28T14:48:46.166Z"
   },
   {
    "duration": 4,
    "start_time": "2023-02-28T14:48:46.234Z"
   },
   {
    "duration": 95,
    "start_time": "2023-02-28T14:48:46.240Z"
   },
   {
    "duration": 11,
    "start_time": "2023-02-28T14:48:46.337Z"
   },
   {
    "duration": 296,
    "start_time": "2023-02-28T14:48:46.350Z"
   },
   {
    "duration": 253,
    "start_time": "2023-02-28T14:49:01.218Z"
   },
   {
    "duration": 20,
    "start_time": "2023-02-28T14:49:04.647Z"
   },
   {
    "duration": 140,
    "start_time": "2023-02-28T14:49:06.213Z"
   },
   {
    "duration": 88,
    "start_time": "2023-02-28T14:54:24.023Z"
   },
   {
    "duration": 92,
    "start_time": "2023-02-28T14:54:58.814Z"
   },
   {
    "duration": 281,
    "start_time": "2023-02-28T14:55:26.093Z"
   },
   {
    "duration": 27,
    "start_time": "2023-02-28T14:55:26.613Z"
   },
   {
    "duration": 70,
    "start_time": "2023-02-28T14:55:27.907Z"
   },
   {
    "duration": 74,
    "start_time": "2023-02-28T14:58:08.603Z"
   },
   {
    "duration": 4,
    "start_time": "2023-02-28T14:58:43.034Z"
   },
   {
    "duration": 961,
    "start_time": "2023-02-28T14:58:43.043Z"
   },
   {
    "duration": 222,
    "start_time": "2023-02-28T14:58:44.006Z"
   },
   {
    "duration": 12,
    "start_time": "2023-02-28T14:58:44.230Z"
   },
   {
    "duration": 108,
    "start_time": "2023-02-28T14:58:44.244Z"
   },
   {
    "duration": 1054,
    "start_time": "2023-02-28T14:58:44.354Z"
   },
   {
    "duration": 857,
    "start_time": "2023-02-28T14:58:45.410Z"
   },
   {
    "duration": 267,
    "start_time": "2023-02-28T14:58:46.269Z"
   },
   {
    "duration": 17,
    "start_time": "2023-02-28T14:58:46.538Z"
   },
   {
    "duration": 73,
    "start_time": "2023-02-28T14:58:46.557Z"
   },
   {
    "duration": 376,
    "start_time": "2023-02-28T14:58:46.632Z"
   },
   {
    "duration": 64,
    "start_time": "2023-02-28T14:58:47.011Z"
   },
   {
    "duration": 30,
    "start_time": "2023-02-28T14:58:47.077Z"
   },
   {
    "duration": 46,
    "start_time": "2023-02-28T14:58:47.109Z"
   },
   {
    "duration": 223,
    "start_time": "2023-02-28T14:58:47.157Z"
   },
   {
    "duration": 205,
    "start_time": "2023-02-28T14:58:47.381Z"
   },
   {
    "duration": 28,
    "start_time": "2023-02-28T14:58:47.588Z"
   },
   {
    "duration": 13,
    "start_time": "2023-02-28T14:58:47.617Z"
   },
   {
    "duration": 74,
    "start_time": "2023-02-28T14:58:47.632Z"
   },
   {
    "duration": 215,
    "start_time": "2023-02-28T14:58:47.708Z"
   },
   {
    "duration": 218,
    "start_time": "2023-02-28T14:58:47.925Z"
   },
   {
    "duration": 116,
    "start_time": "2023-02-28T14:58:48.145Z"
   },
   {
    "duration": 121,
    "start_time": "2023-02-28T14:58:48.262Z"
   },
   {
    "duration": 48,
    "start_time": "2023-02-28T14:58:48.396Z"
   },
   {
    "duration": 102,
    "start_time": "2023-02-28T14:58:48.446Z"
   },
   {
    "duration": 1118,
    "start_time": "2023-02-28T14:58:48.550Z"
   },
   {
    "duration": 64,
    "start_time": "2023-02-28T14:58:49.669Z"
   },
   {
    "duration": 79,
    "start_time": "2023-02-28T14:58:49.735Z"
   },
   {
    "duration": 9,
    "start_time": "2023-02-28T14:58:49.816Z"
   },
   {
    "duration": 255,
    "start_time": "2023-02-28T14:58:49.827Z"
   },
   {
    "duration": 24,
    "start_time": "2023-02-28T14:58:50.084Z"
   },
   {
    "duration": 65,
    "start_time": "2023-02-28T14:58:50.110Z"
   },
   {
    "duration": 267,
    "start_time": "2023-02-28T14:59:00.474Z"
   },
   {
    "duration": 21,
    "start_time": "2023-02-28T14:59:01.904Z"
   },
   {
    "duration": 63,
    "start_time": "2023-02-28T14:59:03.139Z"
   },
   {
    "duration": 4,
    "start_time": "2023-02-28T15:03:38.985Z"
   },
   {
    "duration": 888,
    "start_time": "2023-02-28T15:03:38.991Z"
   },
   {
    "duration": 224,
    "start_time": "2023-02-28T15:03:39.881Z"
   },
   {
    "duration": 14,
    "start_time": "2023-02-28T15:03:40.107Z"
   },
   {
    "duration": 110,
    "start_time": "2023-02-28T15:03:40.124Z"
   },
   {
    "duration": 988,
    "start_time": "2023-02-28T15:03:40.236Z"
   },
   {
    "duration": 856,
    "start_time": "2023-02-28T15:03:41.226Z"
   },
   {
    "duration": 244,
    "start_time": "2023-02-28T15:03:42.084Z"
   },
   {
    "duration": 15,
    "start_time": "2023-02-28T15:03:42.330Z"
   },
   {
    "duration": 61,
    "start_time": "2023-02-28T15:03:42.346Z"
   },
   {
    "duration": 243,
    "start_time": "2023-02-28T15:03:42.409Z"
   },
   {
    "duration": 66,
    "start_time": "2023-02-28T15:03:42.653Z"
   },
   {
    "duration": 15,
    "start_time": "2023-02-28T15:03:42.721Z"
   },
   {
    "duration": 31,
    "start_time": "2023-02-28T15:03:42.738Z"
   },
   {
    "duration": 244,
    "start_time": "2023-02-28T15:03:42.771Z"
   },
   {
    "duration": 241,
    "start_time": "2023-02-28T15:03:43.017Z"
   },
   {
    "duration": 33,
    "start_time": "2023-02-28T15:03:43.261Z"
   },
   {
    "duration": 13,
    "start_time": "2023-02-28T15:03:43.298Z"
   },
   {
    "duration": 60,
    "start_time": "2023-02-28T15:03:43.312Z"
   },
   {
    "duration": 230,
    "start_time": "2023-02-28T15:03:43.374Z"
   },
   {
    "duration": 211,
    "start_time": "2023-02-28T15:03:43.607Z"
   },
   {
    "duration": 108,
    "start_time": "2023-02-28T15:03:43.820Z"
   },
   {
    "duration": 115,
    "start_time": "2023-02-28T15:03:43.930Z"
   },
   {
    "duration": 42,
    "start_time": "2023-02-28T15:03:44.047Z"
   },
   {
    "duration": 76,
    "start_time": "2023-02-28T15:03:44.093Z"
   },
   {
    "duration": 1159,
    "start_time": "2023-02-28T15:03:44.171Z"
   },
   {
    "duration": 76,
    "start_time": "2023-02-28T15:03:45.332Z"
   },
   {
    "duration": 68,
    "start_time": "2023-02-28T15:03:45.410Z"
   },
   {
    "duration": 24,
    "start_time": "2023-02-28T15:03:45.482Z"
   },
   {
    "duration": 266,
    "start_time": "2023-02-28T15:03:45.508Z"
   },
   {
    "duration": 79,
    "start_time": "2023-02-28T15:03:45.775Z"
   },
   {
    "duration": 67,
    "start_time": "2023-02-28T15:03:45.856Z"
   },
   {
    "duration": 754,
    "start_time": "2023-02-28T15:03:45.925Z"
   },
   {
    "duration": 717,
    "start_time": "2023-02-28T15:04:16.234Z"
   },
   {
    "duration": 71,
    "start_time": "2023-02-28T15:06:27.230Z"
   },
   {
    "duration": 46,
    "start_time": "2023-02-28T15:06:28.103Z"
   },
   {
    "duration": 733,
    "start_time": "2023-02-28T15:06:29.000Z"
   },
   {
    "duration": 386,
    "start_time": "2023-02-28T15:06:30.602Z"
   },
   {
    "duration": 1682,
    "start_time": "2023-03-01T07:41:02.895Z"
   },
   {
    "duration": 3327,
    "start_time": "2023-03-01T07:41:04.579Z"
   },
   {
    "duration": 361,
    "start_time": "2023-03-01T07:41:07.908Z"
   },
   {
    "duration": 15,
    "start_time": "2023-03-01T07:41:08.273Z"
   },
   {
    "duration": 134,
    "start_time": "2023-03-01T07:41:08.289Z"
   },
   {
    "duration": 1225,
    "start_time": "2023-03-01T07:41:08.425Z"
   },
   {
    "duration": 1081,
    "start_time": "2023-03-01T07:41:09.652Z"
   },
   {
    "duration": 281,
    "start_time": "2023-03-01T07:41:10.750Z"
   },
   {
    "duration": 20,
    "start_time": "2023-03-01T07:41:11.043Z"
   },
   {
    "duration": 56,
    "start_time": "2023-03-01T07:41:11.066Z"
   },
   {
    "duration": 284,
    "start_time": "2023-03-01T07:41:11.123Z"
   },
   {
    "duration": 92,
    "start_time": "2023-03-01T07:41:11.409Z"
   },
   {
    "duration": 17,
    "start_time": "2023-03-01T07:41:11.503Z"
   },
   {
    "duration": 52,
    "start_time": "2023-03-01T07:41:11.521Z"
   },
   {
    "duration": 355,
    "start_time": "2023-03-01T07:41:11.575Z"
   },
   {
    "duration": 278,
    "start_time": "2023-03-01T07:41:11.939Z"
   },
   {
    "duration": 41,
    "start_time": "2023-03-01T07:41:12.219Z"
   },
   {
    "duration": 19,
    "start_time": "2023-03-01T07:41:12.263Z"
   },
   {
    "duration": 64,
    "start_time": "2023-03-01T07:41:12.284Z"
   },
   {
    "duration": 292,
    "start_time": "2023-03-01T07:41:12.354Z"
   },
   {
    "duration": 275,
    "start_time": "2023-03-01T07:41:12.654Z"
   },
   {
    "duration": 125,
    "start_time": "2023-03-01T07:41:12.938Z"
   },
   {
    "duration": 134,
    "start_time": "2023-03-01T07:41:13.065Z"
   },
   {
    "duration": 73,
    "start_time": "2023-03-01T07:41:13.201Z"
   },
   {
    "duration": 115,
    "start_time": "2023-03-01T07:41:13.276Z"
   },
   {
    "duration": 1112,
    "start_time": "2023-03-01T07:41:13.393Z"
   },
   {
    "duration": 70,
    "start_time": "2023-03-01T07:41:14.507Z"
   },
   {
    "duration": 89,
    "start_time": "2023-03-01T07:41:14.580Z"
   },
   {
    "duration": 11,
    "start_time": "2023-03-01T07:41:14.671Z"
   },
   {
    "duration": 303,
    "start_time": "2023-03-01T07:41:14.684Z"
   },
   {
    "duration": 116,
    "start_time": "2023-03-01T07:41:14.989Z"
   },
   {
    "duration": 79,
    "start_time": "2023-03-01T07:41:15.108Z"
   },
   {
    "duration": 866,
    "start_time": "2023-03-01T07:41:15.189Z"
   },
   {
    "duration": 403,
    "start_time": "2023-03-01T07:41:16.057Z"
   },
   {
    "duration": 309,
    "start_time": "2023-03-01T08:15:27.938Z"
   },
   {
    "duration": 97,
    "start_time": "2023-03-01T08:15:29.573Z"
   },
   {
    "duration": 52,
    "start_time": "2023-03-01T08:15:31.458Z"
   },
   {
    "duration": 870,
    "start_time": "2023-03-01T08:15:33.343Z"
   },
   {
    "duration": 415,
    "start_time": "2023-03-01T08:15:35.683Z"
   },
   {
    "duration": 47,
    "start_time": "2023-03-01T08:56:36.162Z"
   },
   {
    "duration": 318,
    "start_time": "2023-03-01T08:57:09.465Z"
   },
   {
    "duration": 17,
    "start_time": "2023-03-01T08:59:06.121Z"
   },
   {
    "duration": 205,
    "start_time": "2023-03-01T08:59:44.680Z"
   },
   {
    "duration": 21,
    "start_time": "2023-03-01T09:02:45.080Z"
   },
   {
    "duration": 136,
    "start_time": "2023-03-01T09:02:49.420Z"
   },
   {
    "duration": 79,
    "start_time": "2023-03-01T09:02:54.635Z"
   },
   {
    "duration": 10,
    "start_time": "2023-03-01T09:06:57.235Z"
   },
   {
    "duration": 347,
    "start_time": "2023-03-01T09:06:59.213Z"
   },
   {
    "duration": 24,
    "start_time": "2023-03-01T09:07:03.060Z"
   },
   {
    "duration": 117,
    "start_time": "2023-03-01T09:07:09.830Z"
   },
   {
    "duration": 35,
    "start_time": "2023-03-01T09:07:12.765Z"
   },
   {
    "duration": 20,
    "start_time": "2023-03-01T09:07:21.813Z"
   },
   {
    "duration": 53,
    "start_time": "2023-03-01T09:07:28.355Z"
   },
   {
    "duration": 812,
    "start_time": "2023-03-01T09:07:33.725Z"
   },
   {
    "duration": 396,
    "start_time": "2023-03-01T09:07:37.440Z"
   },
   {
    "duration": 1422,
    "start_time": "2023-03-01T09:09:33.580Z"
   },
   {
    "duration": 988,
    "start_time": "2023-03-01T09:09:35.004Z"
   },
   {
    "duration": 286,
    "start_time": "2023-03-01T09:09:35.994Z"
   },
   {
    "duration": 13,
    "start_time": "2023-03-01T09:09:36.283Z"
   },
   {
    "duration": 119,
    "start_time": "2023-03-01T09:09:36.298Z"
   },
   {
    "duration": 1005,
    "start_time": "2023-03-01T09:09:36.419Z"
   },
   {
    "duration": 963,
    "start_time": "2023-03-01T09:09:37.426Z"
   },
   {
    "duration": 236,
    "start_time": "2023-03-01T09:09:38.391Z"
   },
   {
    "duration": 20,
    "start_time": "2023-03-01T09:09:38.628Z"
   },
   {
    "duration": 44,
    "start_time": "2023-03-01T09:09:38.651Z"
   },
   {
    "duration": 243,
    "start_time": "2023-03-01T09:09:38.696Z"
   },
   {
    "duration": 70,
    "start_time": "2023-03-01T09:09:38.941Z"
   },
   {
    "duration": 28,
    "start_time": "2023-03-01T09:09:39.013Z"
   },
   {
    "duration": 34,
    "start_time": "2023-03-01T09:09:39.043Z"
   },
   {
    "duration": 224,
    "start_time": "2023-03-01T09:09:39.079Z"
   },
   {
    "duration": 286,
    "start_time": "2023-03-01T09:09:39.304Z"
   },
   {
    "duration": 25,
    "start_time": "2023-03-01T09:09:39.592Z"
   },
   {
    "duration": 22,
    "start_time": "2023-03-01T09:09:39.618Z"
   },
   {
    "duration": 39,
    "start_time": "2023-03-01T09:09:39.642Z"
   },
   {
    "duration": 214,
    "start_time": "2023-03-01T09:09:39.683Z"
   },
   {
    "duration": 220,
    "start_time": "2023-03-01T09:09:39.899Z"
   },
   {
    "duration": 117,
    "start_time": "2023-03-01T09:09:40.121Z"
   },
   {
    "duration": 111,
    "start_time": "2023-03-01T09:09:40.240Z"
   },
   {
    "duration": 51,
    "start_time": "2023-03-01T09:09:40.353Z"
   },
   {
    "duration": 106,
    "start_time": "2023-03-01T09:09:40.405Z"
   },
   {
    "duration": 973,
    "start_time": "2023-03-01T09:09:40.512Z"
   },
   {
    "duration": 62,
    "start_time": "2023-03-01T09:09:41.487Z"
   },
   {
    "duration": 64,
    "start_time": "2023-03-01T09:09:41.552Z"
   },
   {
    "duration": 26,
    "start_time": "2023-03-01T09:09:41.618Z"
   },
   {
    "duration": 329,
    "start_time": "2023-03-01T09:09:41.645Z"
   },
   {
    "duration": 24,
    "start_time": "2023-03-01T09:09:41.976Z"
   },
   {
    "duration": 130,
    "start_time": "2023-03-01T09:09:42.002Z"
   },
   {
    "duration": 33,
    "start_time": "2023-03-01T09:09:42.134Z"
   },
   {
    "duration": 18,
    "start_time": "2023-03-01T09:09:42.169Z"
   },
   {
    "duration": 81,
    "start_time": "2023-03-01T09:09:42.188Z"
   },
   {
    "duration": 858,
    "start_time": "2023-03-01T09:09:42.271Z"
   },
   {
    "duration": 392,
    "start_time": "2023-03-01T09:09:43.131Z"
   },
   {
    "duration": 181,
    "start_time": "2023-03-01T10:05:18.426Z"
   },
   {
    "duration": 45,
    "start_time": "2023-03-01T11:02:53.920Z"
   },
   {
    "duration": 105,
    "start_time": "2023-03-01T11:03:03.225Z"
   },
   {
    "duration": 4,
    "start_time": "2023-03-01T11:03:41.020Z"
   },
   {
    "duration": 77031,
    "start_time": "2023-03-01T11:03:47.666Z"
   },
   {
    "duration": 77584,
    "start_time": "2023-03-01T11:08:51.005Z"
   },
   {
    "duration": 40107,
    "start_time": "2023-03-01T11:28:56.054Z"
   },
   {
    "duration": 41704,
    "start_time": "2023-03-01T11:30:02.927Z"
   },
   {
    "duration": 139,
    "start_time": "2023-03-01T12:19:28.013Z"
   },
   {
    "duration": 1638,
    "start_time": "2023-03-01T12:19:36.531Z"
   },
   {
    "duration": 1072,
    "start_time": "2023-03-01T12:19:38.172Z"
   },
   {
    "duration": 281,
    "start_time": "2023-03-01T12:19:39.246Z"
   },
   {
    "duration": 21,
    "start_time": "2023-03-01T12:19:39.528Z"
   },
   {
    "duration": 125,
    "start_time": "2023-03-01T12:19:39.551Z"
   },
   {
    "duration": 1112,
    "start_time": "2023-03-01T12:19:39.678Z"
   },
   {
    "duration": 1049,
    "start_time": "2023-03-01T12:19:40.792Z"
   },
   {
    "duration": 268,
    "start_time": "2023-03-01T12:19:41.843Z"
   },
   {
    "duration": 15,
    "start_time": "2023-03-01T12:19:42.113Z"
   },
   {
    "duration": 50,
    "start_time": "2023-03-01T12:19:42.138Z"
   },
   {
    "duration": 257,
    "start_time": "2023-03-01T12:19:42.190Z"
   },
   {
    "duration": 93,
    "start_time": "2023-03-01T12:19:42.448Z"
   },
   {
    "duration": 20,
    "start_time": "2023-03-01T12:19:42.544Z"
   },
   {
    "duration": 150,
    "start_time": "2023-03-01T12:19:42.568Z"
   },
   {
    "duration": 259,
    "start_time": "2023-03-01T12:19:42.720Z"
   },
   {
    "duration": 248,
    "start_time": "2023-03-01T12:19:42.981Z"
   },
   {
    "duration": 30,
    "start_time": "2023-03-01T12:19:43.231Z"
   },
   {
    "duration": 20,
    "start_time": "2023-03-01T12:19:43.263Z"
   },
   {
    "duration": 71,
    "start_time": "2023-03-01T12:19:43.284Z"
   },
   {
    "duration": 227,
    "start_time": "2023-03-01T12:19:43.358Z"
   },
   {
    "duration": 227,
    "start_time": "2023-03-01T12:19:43.587Z"
   },
   {
    "duration": 122,
    "start_time": "2023-03-01T12:19:43.816Z"
   },
   {
    "duration": 125,
    "start_time": "2023-03-01T12:19:43.940Z"
   },
   {
    "duration": 54,
    "start_time": "2023-03-01T12:19:44.066Z"
   },
   {
    "duration": 115,
    "start_time": "2023-03-01T12:19:44.122Z"
   },
   {
    "duration": 1016,
    "start_time": "2023-03-01T12:19:44.239Z"
   },
   {
    "duration": 54,
    "start_time": "2023-03-01T12:19:45.256Z"
   },
   {
    "duration": 83,
    "start_time": "2023-03-01T12:19:45.311Z"
   },
   {
    "duration": 12,
    "start_time": "2023-03-01T12:19:45.396Z"
   },
   {
    "duration": 353,
    "start_time": "2023-03-01T12:19:45.410Z"
   },
   {
    "duration": 149,
    "start_time": "2023-03-01T12:19:45.765Z"
   },
   {
    "duration": 46,
    "start_time": "2023-03-01T12:19:45.916Z"
   },
   {
    "duration": 79,
    "start_time": "2023-03-01T12:19:45.964Z"
   },
   {
    "duration": 884,
    "start_time": "2023-03-01T12:19:46.045Z"
   },
   {
    "duration": 411,
    "start_time": "2023-03-01T12:19:46.931Z"
   },
   {
    "duration": 14364,
    "start_time": "2023-03-01T12:20:00.892Z"
   },
   {
    "duration": 41,
    "start_time": "2023-03-01T12:27:05.894Z"
   },
   {
    "duration": 14069,
    "start_time": "2023-03-01T12:29:00.638Z"
   },
   {
    "duration": 14693,
    "start_time": "2023-03-01T12:36:08.140Z"
   },
   {
    "duration": 14842,
    "start_time": "2023-03-01T12:41:16.845Z"
   },
   {
    "duration": 14859,
    "start_time": "2023-03-01T12:45:56.673Z"
   },
   {
    "duration": 15169,
    "start_time": "2023-03-01T12:47:32.553Z"
   },
   {
    "duration": 137731,
    "start_time": "2023-03-01T12:52:42.561Z"
   },
   {
    "duration": 142973,
    "start_time": "2023-03-01T12:55:26.159Z"
   },
   {
    "duration": 126,
    "start_time": "2023-03-01T13:01:49.567Z"
   },
   {
    "duration": 186,
    "start_time": "2023-03-01T13:09:52.395Z"
   },
   {
    "duration": 62,
    "start_time": "2023-03-01T13:10:57.224Z"
   },
   {
    "duration": 208400,
    "start_time": "2023-03-01T13:11:07.365Z"
   },
   {
    "duration": 122998,
    "start_time": "2023-03-01T13:28:55.228Z"
   },
   {
    "duration": 180425,
    "start_time": "2023-03-01T13:34:58.529Z"
   },
   {
    "duration": 195518,
    "start_time": "2023-03-01T13:39:34.723Z"
   },
   {
    "duration": 86229,
    "start_time": "2023-03-01T13:49:51.483Z"
   },
   {
    "duration": 85956,
    "start_time": "2023-03-01T13:55:20.500Z"
   },
   {
    "duration": 635,
    "start_time": "2023-03-01T13:57:14.528Z"
   },
   {
    "duration": 6690,
    "start_time": "2023-03-01T13:59:33.134Z"
   },
   {
    "duration": 468110,
    "start_time": "2023-03-01T14:02:10.278Z"
   },
   {
    "duration": 4,
    "start_time": "2023-03-01T14:28:48.588Z"
   },
   {
    "duration": 100,
    "start_time": "2023-03-01T14:32:53.516Z"
   },
   {
    "duration": 4,
    "start_time": "2023-03-01T14:33:07.866Z"
   },
   {
    "duration": 106,
    "start_time": "2023-03-01T14:33:12.483Z"
   },
   {
    "duration": 28398,
    "start_time": "2023-03-01T14:33:44.503Z"
   },
   {
    "duration": 264475,
    "start_time": "2023-03-01T14:34:23.564Z"
   },
   {
    "duration": 149870,
    "start_time": "2023-03-01T14:41:03.108Z"
   },
   {
    "duration": 802573,
    "start_time": "2023-03-01T14:46:28.019Z"
   },
   {
    "duration": 161,
    "start_time": "2023-03-01T15:07:30.308Z"
   },
   {
    "duration": 25,
    "start_time": "2023-03-01T15:08:18.689Z"
   },
   {
    "duration": 466,
    "start_time": "2023-03-01T15:08:30.783Z"
   },
   {
    "duration": 111072,
    "start_time": "2023-03-01T15:08:53.878Z"
   },
   {
    "duration": 1699,
    "start_time": "2023-03-01T17:27:25.466Z"
   },
   {
    "duration": 1374,
    "start_time": "2023-03-01T17:27:27.168Z"
   },
   {
    "duration": 253,
    "start_time": "2023-03-01T17:27:28.544Z"
   },
   {
    "duration": 22,
    "start_time": "2023-03-01T17:27:28.799Z"
   },
   {
    "duration": 123,
    "start_time": "2023-03-01T17:27:28.823Z"
   },
   {
    "duration": 1024,
    "start_time": "2023-03-01T17:27:28.948Z"
   },
   {
    "duration": 924,
    "start_time": "2023-03-01T17:27:29.975Z"
   },
   {
    "duration": 247,
    "start_time": "2023-03-01T17:27:30.900Z"
   },
   {
    "duration": 15,
    "start_time": "2023-03-01T17:27:31.149Z"
   },
   {
    "duration": 72,
    "start_time": "2023-03-01T17:27:31.167Z"
   },
   {
    "duration": 244,
    "start_time": "2023-03-01T17:27:31.241Z"
   },
   {
    "duration": 77,
    "start_time": "2023-03-01T17:27:31.487Z"
   },
   {
    "duration": 17,
    "start_time": "2023-03-01T17:27:31.565Z"
   },
   {
    "duration": 140,
    "start_time": "2023-03-01T17:27:31.586Z"
   },
   {
    "duration": 221,
    "start_time": "2023-03-01T17:27:31.728Z"
   },
   {
    "duration": 214,
    "start_time": "2023-03-01T17:27:31.951Z"
   },
   {
    "duration": 25,
    "start_time": "2023-03-01T17:27:32.166Z"
   },
   {
    "duration": 12,
    "start_time": "2023-03-01T17:27:32.193Z"
   },
   {
    "duration": 41,
    "start_time": "2023-03-01T17:27:32.221Z"
   },
   {
    "duration": 222,
    "start_time": "2023-03-01T17:27:32.264Z"
   },
   {
    "duration": 211,
    "start_time": "2023-03-01T17:27:32.487Z"
   },
   {
    "duration": 135,
    "start_time": "2023-03-01T17:27:32.700Z"
   },
   {
    "duration": 115,
    "start_time": "2023-03-01T17:27:32.836Z"
   },
   {
    "duration": 53,
    "start_time": "2023-03-01T17:27:32.953Z"
   },
   {
    "duration": 113,
    "start_time": "2023-03-01T17:27:33.008Z"
   },
   {
    "duration": 930,
    "start_time": "2023-03-01T17:27:33.123Z"
   },
   {
    "duration": 49,
    "start_time": "2023-03-01T17:27:34.055Z"
   },
   {
    "duration": 78,
    "start_time": "2023-03-01T17:27:34.105Z"
   },
   {
    "duration": 10,
    "start_time": "2023-03-01T17:27:34.184Z"
   },
   {
    "duration": 384,
    "start_time": "2023-03-01T17:27:34.196Z"
   },
   {
    "duration": 149,
    "start_time": "2023-03-01T17:27:34.582Z"
   },
   {
    "duration": 29,
    "start_time": "2023-03-01T17:27:34.732Z"
   },
   {
    "duration": 69,
    "start_time": "2023-03-01T17:27:34.762Z"
   },
   {
    "duration": 820,
    "start_time": "2023-03-01T17:27:34.833Z"
   },
   {
    "duration": 374,
    "start_time": "2023-03-01T17:27:35.655Z"
   },
   {
    "duration": 3,
    "start_time": "2023-03-01T17:27:36.031Z"
   },
   {
    "duration": 25294,
    "start_time": "2023-03-01T17:27:36.036Z"
   },
   {
    "duration": 251034,
    "start_time": "2023-03-01T17:28:01.331Z"
   },
   {
    "duration": 137804,
    "start_time": "2023-03-01T17:32:12.367Z"
   },
   {
    "duration": 747514,
    "start_time": "2023-03-01T17:34:30.172Z"
   },
   {
    "duration": 140252,
    "start_time": "2023-03-01T17:46:57.690Z"
   },
   {
    "duration": 3,
    "start_time": "2023-03-01T19:21:09.367Z"
   },
   {
    "duration": 29633,
    "start_time": "2023-03-01T19:21:12.733Z"
   },
   {
    "duration": 29999,
    "start_time": "2023-03-01T19:22:58.230Z"
   },
   {
    "duration": 4,
    "start_time": "2023-03-01T19:24:03.457Z"
   },
   {
    "duration": 27389,
    "start_time": "2023-03-01T19:31:16.308Z"
   },
   {
    "duration": 4,
    "start_time": "2023-03-01T19:31:48.037Z"
   },
   {
    "duration": 3,
    "start_time": "2023-03-01T19:32:43.990Z"
   },
   {
    "duration": 3,
    "start_time": "2023-03-01T19:32:46.479Z"
   },
   {
    "duration": 4,
    "start_time": "2023-03-01T19:32:49.037Z"
   },
   {
    "duration": 3,
    "start_time": "2023-03-01T19:33:53.860Z"
   },
   {
    "duration": 11,
    "start_time": "2023-03-01T19:33:57.115Z"
   },
   {
    "duration": 4,
    "start_time": "2023-03-01T19:36:29.737Z"
   },
   {
    "duration": 4,
    "start_time": "2023-03-01T19:36:40.682Z"
   },
   {
    "duration": 5,
    "start_time": "2023-03-01T19:36:50.775Z"
   },
   {
    "duration": 255527,
    "start_time": "2023-03-01T19:37:30.983Z"
   },
   {
    "duration": 8,
    "start_time": "2023-03-01T19:42:51.944Z"
   },
   {
    "duration": 3,
    "start_time": "2023-03-01T19:43:26.085Z"
   },
   {
    "duration": 26870,
    "start_time": "2023-03-01T19:43:31.907Z"
   },
   {
    "duration": 264295,
    "start_time": "2023-03-01T19:43:58.780Z"
   },
   {
    "duration": 144771,
    "start_time": "2023-03-01T19:48:23.077Z"
   },
   {
    "duration": 768228,
    "start_time": "2023-03-01T19:50:47.851Z"
   },
   {
    "duration": 140,
    "start_time": "2023-03-01T20:24:24.268Z"
   },
   {
    "duration": 1458,
    "start_time": "2023-03-01T20:41:39.645Z"
   },
   {
    "duration": 989,
    "start_time": "2023-03-01T20:41:41.105Z"
   },
   {
    "duration": 268,
    "start_time": "2023-03-01T20:41:42.096Z"
   },
   {
    "duration": 14,
    "start_time": "2023-03-01T20:41:42.366Z"
   },
   {
    "duration": 156,
    "start_time": "2023-03-01T20:41:42.381Z"
   },
   {
    "duration": 1096,
    "start_time": "2023-03-01T20:41:42.539Z"
   },
   {
    "duration": 1091,
    "start_time": "2023-03-01T20:41:43.638Z"
   },
   {
    "duration": 261,
    "start_time": "2023-03-01T20:41:44.730Z"
   },
   {
    "duration": 18,
    "start_time": "2023-03-01T20:41:44.993Z"
   },
   {
    "duration": 82,
    "start_time": "2023-03-01T20:41:45.013Z"
   },
   {
    "duration": 233,
    "start_time": "2023-03-01T20:41:45.097Z"
   },
   {
    "duration": 73,
    "start_time": "2023-03-01T20:41:45.334Z"
   },
   {
    "duration": 29,
    "start_time": "2023-03-01T20:41:45.409Z"
   },
   {
    "duration": 35,
    "start_time": "2023-03-01T20:41:45.441Z"
   },
   {
    "duration": 310,
    "start_time": "2023-03-01T20:41:45.478Z"
   },
   {
    "duration": 215,
    "start_time": "2023-03-01T20:41:45.790Z"
   },
   {
    "duration": 36,
    "start_time": "2023-03-01T20:41:46.007Z"
   },
   {
    "duration": 10,
    "start_time": "2023-03-01T20:41:46.045Z"
   },
   {
    "duration": 75,
    "start_time": "2023-03-01T20:41:46.057Z"
   },
   {
    "duration": 210,
    "start_time": "2023-03-01T20:41:46.134Z"
   },
   {
    "duration": 218,
    "start_time": "2023-03-01T20:41:46.346Z"
   },
   {
    "duration": 123,
    "start_time": "2023-03-01T20:41:46.566Z"
   },
   {
    "duration": 127,
    "start_time": "2023-03-01T20:41:46.691Z"
   },
   {
    "duration": 54,
    "start_time": "2023-03-01T20:41:46.822Z"
   },
   {
    "duration": 109,
    "start_time": "2023-03-01T20:41:46.878Z"
   },
   {
    "duration": 984,
    "start_time": "2023-03-01T20:41:46.989Z"
   },
   {
    "duration": 61,
    "start_time": "2023-03-01T20:41:47.975Z"
   },
   {
    "duration": 63,
    "start_time": "2023-03-01T20:41:48.040Z"
   },
   {
    "duration": 35,
    "start_time": "2023-03-01T20:41:48.104Z"
   },
   {
    "duration": 333,
    "start_time": "2023-03-01T20:41:48.141Z"
   },
   {
    "duration": 23,
    "start_time": "2023-03-01T20:41:48.475Z"
   },
   {
    "duration": 44,
    "start_time": "2023-03-01T20:41:48.500Z"
   },
   {
    "duration": 79,
    "start_time": "2023-03-01T20:41:48.546Z"
   },
   {
    "duration": 800,
    "start_time": "2023-03-01T20:41:48.628Z"
   },
   {
    "duration": 378,
    "start_time": "2023-03-01T20:41:49.436Z"
   },
   {
    "duration": 2,
    "start_time": "2023-03-01T20:41:49.816Z"
   },
   {
    "duration": 82,
    "start_time": "2023-03-01T20:41:49.823Z"
   },
   {
    "duration": 0,
    "start_time": "2023-03-01T20:41:49.906Z"
   },
   {
    "duration": 0,
    "start_time": "2023-03-01T20:41:49.907Z"
   },
   {
    "duration": 0,
    "start_time": "2023-03-01T20:41:49.908Z"
   },
   {
    "duration": 0,
    "start_time": "2023-03-01T20:41:49.909Z"
   },
   {
    "duration": 0,
    "start_time": "2023-03-01T20:41:49.910Z"
   },
   {
    "duration": 0,
    "start_time": "2023-03-01T20:41:49.911Z"
   },
   {
    "duration": 0,
    "start_time": "2023-03-01T20:41:49.912Z"
   },
   {
    "duration": 0,
    "start_time": "2023-03-01T20:41:49.913Z"
   },
   {
    "duration": 0,
    "start_time": "2023-03-01T20:41:49.914Z"
   },
   {
    "duration": 5,
    "start_time": "2023-03-01T20:42:05.073Z"
   },
   {
    "duration": 4,
    "start_time": "2023-03-01T20:42:15.791Z"
   },
   {
    "duration": 959,
    "start_time": "2023-03-01T20:42:15.797Z"
   },
   {
    "duration": 260,
    "start_time": "2023-03-01T20:42:16.758Z"
   },
   {
    "duration": 21,
    "start_time": "2023-03-01T20:42:17.021Z"
   },
   {
    "duration": 95,
    "start_time": "2023-03-01T20:42:17.044Z"
   },
   {
    "duration": 1055,
    "start_time": "2023-03-01T20:42:17.141Z"
   },
   {
    "duration": 918,
    "start_time": "2023-03-01T20:42:18.198Z"
   },
   {
    "duration": 359,
    "start_time": "2023-03-01T20:42:19.117Z"
   },
   {
    "duration": 16,
    "start_time": "2023-03-01T20:42:19.479Z"
   },
   {
    "duration": 60,
    "start_time": "2023-03-01T20:42:19.497Z"
   },
   {
    "duration": 251,
    "start_time": "2023-03-01T20:42:19.560Z"
   },
   {
    "duration": 77,
    "start_time": "2023-03-01T20:42:19.813Z"
   },
   {
    "duration": 34,
    "start_time": "2023-03-01T20:42:19.892Z"
   },
   {
    "duration": 37,
    "start_time": "2023-03-01T20:42:19.928Z"
   },
   {
    "duration": 220,
    "start_time": "2023-03-01T20:42:19.967Z"
   },
   {
    "duration": 237,
    "start_time": "2023-03-01T20:42:20.188Z"
   },
   {
    "duration": 27,
    "start_time": "2023-03-01T20:42:20.436Z"
   },
   {
    "duration": 13,
    "start_time": "2023-03-01T20:42:20.465Z"
   },
   {
    "duration": 61,
    "start_time": "2023-03-01T20:42:20.480Z"
   },
   {
    "duration": 208,
    "start_time": "2023-03-01T20:42:20.543Z"
   },
   {
    "duration": 213,
    "start_time": "2023-03-01T20:42:20.753Z"
   },
   {
    "duration": 122,
    "start_time": "2023-03-01T20:42:20.968Z"
   },
   {
    "duration": 120,
    "start_time": "2023-03-01T20:42:21.092Z"
   },
   {
    "duration": 57,
    "start_time": "2023-03-01T20:42:21.222Z"
   },
   {
    "duration": 105,
    "start_time": "2023-03-01T20:42:21.280Z"
   },
   {
    "duration": 1062,
    "start_time": "2023-03-01T20:42:21.387Z"
   },
   {
    "duration": 50,
    "start_time": "2023-03-01T20:42:22.450Z"
   },
   {
    "duration": 87,
    "start_time": "2023-03-01T20:42:22.501Z"
   },
   {
    "duration": 11,
    "start_time": "2023-03-01T20:42:22.589Z"
   },
   {
    "duration": 361,
    "start_time": "2023-03-01T20:42:22.602Z"
   },
   {
    "duration": 19,
    "start_time": "2023-03-01T20:42:22.965Z"
   },
   {
    "duration": 51,
    "start_time": "2023-03-01T20:42:22.985Z"
   },
   {
    "duration": 54,
    "start_time": "2023-03-01T20:42:23.038Z"
   },
   {
    "duration": 755,
    "start_time": "2023-03-01T20:42:23.094Z"
   },
   {
    "duration": 401,
    "start_time": "2023-03-01T20:42:23.850Z"
   },
   {
    "duration": 3,
    "start_time": "2023-03-01T20:42:24.252Z"
   },
   {
    "duration": 6,
    "start_time": "2023-03-01T20:42:24.257Z"
   },
   {
    "duration": 27262,
    "start_time": "2023-03-01T20:42:24.265Z"
   },
   {
    "duration": 61005,
    "start_time": "2023-03-01T20:42:51.529Z"
   },
   {
    "duration": 1383,
    "start_time": "2023-03-01T20:45:56.260Z"
   },
   {
    "duration": 966,
    "start_time": "2023-03-01T20:45:57.645Z"
   },
   {
    "duration": 282,
    "start_time": "2023-03-01T20:45:58.613Z"
   },
   {
    "duration": 13,
    "start_time": "2023-03-01T20:45:58.896Z"
   },
   {
    "duration": 106,
    "start_time": "2023-03-01T20:45:58.927Z"
   },
   {
    "duration": 998,
    "start_time": "2023-03-01T20:45:59.037Z"
   },
   {
    "duration": 957,
    "start_time": "2023-03-01T20:46:00.037Z"
   },
   {
    "duration": 244,
    "start_time": "2023-03-01T20:46:00.996Z"
   },
   {
    "duration": 16,
    "start_time": "2023-03-01T20:46:01.241Z"
   },
   {
    "duration": 76,
    "start_time": "2023-03-01T20:46:01.259Z"
   },
   {
    "duration": 220,
    "start_time": "2023-03-01T20:46:01.337Z"
   },
   {
    "duration": 83,
    "start_time": "2023-03-01T20:46:01.559Z"
   },
   {
    "duration": 17,
    "start_time": "2023-03-01T20:46:01.644Z"
   },
   {
    "duration": 130,
    "start_time": "2023-03-01T20:46:01.665Z"
   },
   {
    "duration": 219,
    "start_time": "2023-03-01T20:46:01.797Z"
   },
   {
    "duration": 223,
    "start_time": "2023-03-01T20:46:02.024Z"
   },
   {
    "duration": 34,
    "start_time": "2023-03-01T20:46:02.249Z"
   },
   {
    "duration": 24,
    "start_time": "2023-03-01T20:46:02.284Z"
   },
   {
    "duration": 71,
    "start_time": "2023-03-01T20:46:02.310Z"
   },
   {
    "duration": 204,
    "start_time": "2023-03-01T20:46:02.383Z"
   },
   {
    "duration": 213,
    "start_time": "2023-03-01T20:46:02.589Z"
   },
   {
    "duration": 145,
    "start_time": "2023-03-01T20:46:02.804Z"
   },
   {
    "duration": 117,
    "start_time": "2023-03-01T20:46:02.951Z"
   },
   {
    "duration": 58,
    "start_time": "2023-03-01T20:46:03.070Z"
   },
   {
    "duration": 100,
    "start_time": "2023-03-01T20:46:03.131Z"
   },
   {
    "duration": 957,
    "start_time": "2023-03-01T20:46:03.233Z"
   },
   {
    "duration": 71,
    "start_time": "2023-03-01T20:46:04.192Z"
   },
   {
    "duration": 89,
    "start_time": "2023-03-01T20:46:04.265Z"
   },
   {
    "duration": 15,
    "start_time": "2023-03-01T20:46:04.356Z"
   },
   {
    "duration": 538,
    "start_time": "2023-03-01T20:46:04.373Z"
   },
   {
    "duration": 149,
    "start_time": "2023-03-01T20:46:04.913Z"
   },
   {
    "duration": 38,
    "start_time": "2023-03-01T20:46:05.065Z"
   },
   {
    "duration": 88,
    "start_time": "2023-03-01T20:46:05.105Z"
   },
   {
    "duration": 811,
    "start_time": "2023-03-01T20:46:05.195Z"
   },
   {
    "duration": 426,
    "start_time": "2023-03-01T20:46:06.008Z"
   },
   {
    "duration": 5,
    "start_time": "2023-03-01T20:46:06.437Z"
   },
   {
    "duration": 21,
    "start_time": "2023-03-01T20:46:06.444Z"
   },
   {
    "duration": 151283,
    "start_time": "2023-03-01T20:46:06.467Z"
   },
   {
    "duration": 1375265,
    "start_time": "2023-03-01T20:48:37.752Z"
   },
   {
    "duration": 138841,
    "start_time": "2023-03-01T21:11:33.021Z"
   },
   {
    "duration": 723698,
    "start_time": "2023-03-01T21:13:51.866Z"
   },
   {
    "duration": 4043171,
    "start_time": "2023-03-01T21:25:55.566Z"
   },
   {
    "duration": 4,
    "start_time": "2023-03-01T22:33:18.738Z"
   },
   {
    "duration": 11,
    "start_time": "2023-03-01T22:33:18.744Z"
   },
   {
    "duration": 47,
    "start_time": "2023-03-01T22:33:18.757Z"
   },
   {
    "duration": 65,
    "start_time": "2023-03-02T06:23:49.680Z"
   },
   {
    "duration": 1533,
    "start_time": "2023-03-02T06:29:42.185Z"
   },
   {
    "duration": 3167,
    "start_time": "2023-03-02T06:29:43.724Z"
   },
   {
    "duration": 308,
    "start_time": "2023-03-02T06:29:46.893Z"
   },
   {
    "duration": 23,
    "start_time": "2023-03-02T06:29:47.203Z"
   },
   {
    "duration": 106,
    "start_time": "2023-03-02T06:29:47.228Z"
   },
   {
    "duration": 1165,
    "start_time": "2023-03-02T06:29:47.336Z"
   },
   {
    "duration": 1104,
    "start_time": "2023-03-02T06:29:48.503Z"
   },
   {
    "duration": 284,
    "start_time": "2023-03-02T06:29:49.609Z"
   },
   {
    "duration": 28,
    "start_time": "2023-03-02T06:29:49.894Z"
   },
   {
    "duration": 64,
    "start_time": "2023-03-02T06:29:49.927Z"
   },
   {
    "duration": 262,
    "start_time": "2023-03-02T06:29:49.993Z"
   },
   {
    "duration": 81,
    "start_time": "2023-03-02T06:29:50.257Z"
   },
   {
    "duration": 21,
    "start_time": "2023-03-02T06:29:50.340Z"
   },
   {
    "duration": 61,
    "start_time": "2023-03-02T06:29:50.362Z"
   },
   {
    "duration": 328,
    "start_time": "2023-03-02T06:29:50.425Z"
   },
   {
    "duration": 236,
    "start_time": "2023-03-02T06:29:50.755Z"
   },
   {
    "duration": 47,
    "start_time": "2023-03-02T06:29:50.993Z"
   },
   {
    "duration": 26,
    "start_time": "2023-03-02T06:29:51.042Z"
   },
   {
    "duration": 45,
    "start_time": "2023-03-02T06:29:51.070Z"
   },
   {
    "duration": 232,
    "start_time": "2023-03-02T06:29:51.117Z"
   },
   {
    "duration": 237,
    "start_time": "2023-03-02T06:29:51.351Z"
   },
   {
    "duration": 117,
    "start_time": "2023-03-02T06:29:51.590Z"
   },
   {
    "duration": 126,
    "start_time": "2023-03-02T06:29:51.709Z"
   },
   {
    "duration": 57,
    "start_time": "2023-03-02T06:29:51.837Z"
   },
   {
    "duration": 109,
    "start_time": "2023-03-02T06:29:51.896Z"
   },
   {
    "duration": 1141,
    "start_time": "2023-03-02T06:29:52.007Z"
   },
   {
    "duration": 54,
    "start_time": "2023-03-02T06:29:53.150Z"
   },
   {
    "duration": 69,
    "start_time": "2023-03-02T06:29:53.222Z"
   },
   {
    "duration": 31,
    "start_time": "2023-03-02T06:29:53.293Z"
   },
   {
    "duration": 546,
    "start_time": "2023-03-02T06:29:53.326Z"
   },
   {
    "duration": 23,
    "start_time": "2023-03-02T06:29:53.874Z"
   },
   {
    "duration": 50,
    "start_time": "2023-03-02T06:29:53.899Z"
   },
   {
    "duration": 74,
    "start_time": "2023-03-02T06:29:53.951Z"
   },
   {
    "duration": 942,
    "start_time": "2023-03-02T06:29:54.027Z"
   },
   {
    "duration": 418,
    "start_time": "2023-03-02T06:29:54.972Z"
   },
   {
    "duration": 4,
    "start_time": "2023-03-02T06:29:55.393Z"
   },
   {
    "duration": 14,
    "start_time": "2023-03-02T06:29:55.400Z"
   },
   {
    "duration": 158835,
    "start_time": "2023-03-02T06:29:55.415Z"
   },
   {
    "duration": 1445493,
    "start_time": "2023-03-02T06:32:34.252Z"
   },
   {
    "duration": 1505,
    "start_time": "2023-03-02T07:20:03.783Z"
   },
   {
    "duration": 977,
    "start_time": "2023-03-02T07:20:05.291Z"
   },
   {
    "duration": 274,
    "start_time": "2023-03-02T07:20:06.270Z"
   },
   {
    "duration": 13,
    "start_time": "2023-03-02T07:20:06.546Z"
   },
   {
    "duration": 109,
    "start_time": "2023-03-02T07:20:06.561Z"
   },
   {
    "duration": 1041,
    "start_time": "2023-03-02T07:20:06.672Z"
   },
   {
    "duration": 992,
    "start_time": "2023-03-02T07:20:07.715Z"
   },
   {
    "duration": 316,
    "start_time": "2023-03-02T07:20:08.709Z"
   },
   {
    "duration": 17,
    "start_time": "2023-03-02T07:20:09.027Z"
   },
   {
    "duration": 59,
    "start_time": "2023-03-02T07:20:09.046Z"
   },
   {
    "duration": 263,
    "start_time": "2023-03-02T07:20:09.107Z"
   },
   {
    "duration": 84,
    "start_time": "2023-03-02T07:20:09.371Z"
   },
   {
    "duration": 15,
    "start_time": "2023-03-02T07:20:09.457Z"
   },
   {
    "duration": 123,
    "start_time": "2023-03-02T07:20:09.475Z"
   },
   {
    "duration": 240,
    "start_time": "2023-03-02T07:20:09.600Z"
   },
   {
    "duration": 237,
    "start_time": "2023-03-02T07:20:09.842Z"
   },
   {
    "duration": 27,
    "start_time": "2023-03-02T07:20:10.081Z"
   },
   {
    "duration": 8,
    "start_time": "2023-03-02T07:20:10.123Z"
   },
   {
    "duration": 42,
    "start_time": "2023-03-02T07:20:10.133Z"
   },
   {
    "duration": 241,
    "start_time": "2023-03-02T07:20:10.177Z"
   },
   {
    "duration": 236,
    "start_time": "2023-03-02T07:20:10.420Z"
   },
   {
    "duration": 133,
    "start_time": "2023-03-02T07:20:10.658Z"
   },
   {
    "duration": 119,
    "start_time": "2023-03-02T07:20:10.792Z"
   },
   {
    "duration": 61,
    "start_time": "2023-03-02T07:20:10.913Z"
   },
   {
    "duration": 113,
    "start_time": "2023-03-02T07:20:10.976Z"
   },
   {
    "duration": 1041,
    "start_time": "2023-03-02T07:20:11.091Z"
   },
   {
    "duration": 58,
    "start_time": "2023-03-02T07:20:12.134Z"
   },
   {
    "duration": 97,
    "start_time": "2023-03-02T07:20:12.194Z"
   },
   {
    "duration": 14,
    "start_time": "2023-03-02T07:20:12.293Z"
   },
   {
    "duration": 343,
    "start_time": "2023-03-02T07:20:12.322Z"
   },
   {
    "duration": 138,
    "start_time": "2023-03-02T07:20:12.667Z"
   },
   {
    "duration": 40,
    "start_time": "2023-03-02T07:20:12.807Z"
   },
   {
    "duration": 81,
    "start_time": "2023-03-02T07:20:12.849Z"
   },
   {
    "duration": 847,
    "start_time": "2023-03-02T07:20:12.932Z"
   },
   {
    "duration": 425,
    "start_time": "2023-03-02T07:20:13.781Z"
   },
   {
    "duration": 3,
    "start_time": "2023-03-02T07:20:14.208Z"
   },
   {
    "duration": 13,
    "start_time": "2023-03-02T07:20:14.213Z"
   },
   {
    "duration": 153916,
    "start_time": "2023-03-02T07:20:14.228Z"
   },
   {
    "duration": 1399183,
    "start_time": "2023-03-02T07:22:48.147Z"
   },
   {
    "duration": 209800,
    "start_time": "2023-03-02T07:46:07.332Z"
   },
   {
    "duration": 1155344,
    "start_time": "2023-03-02T07:49:37.135Z"
   },
   {
    "duration": 451749,
    "start_time": "2023-03-02T08:08:52.482Z"
   },
   {
    "duration": 13,
    "start_time": "2023-03-02T08:16:24.233Z"
   },
   {
    "duration": 9994,
    "start_time": "2023-03-02T08:16:24.248Z"
   },
   {
    "duration": 13,
    "start_time": "2023-03-02T08:24:55.019Z"
   },
   {
    "duration": 11,
    "start_time": "2023-03-02T08:25:33.029Z"
   },
   {
    "duration": 4,
    "start_time": "2023-03-02T08:25:47.901Z"
   },
   {
    "duration": 9996,
    "start_time": "2023-03-02T08:26:06.390Z"
   },
   {
    "duration": 10187,
    "start_time": "2023-03-02T08:26:42.380Z"
   },
   {
    "duration": 26,
    "start_time": "2023-03-02T08:56:22.591Z"
   },
   {
    "duration": 5,
    "start_time": "2023-03-02T08:57:28.964Z"
   },
   {
    "duration": 31,
    "start_time": "2023-03-02T08:57:51.710Z"
   },
   {
    "duration": 30,
    "start_time": "2023-03-02T08:59:24.289Z"
   },
   {
    "duration": 39,
    "start_time": "2023-03-02T09:02:02.184Z"
   },
   {
    "duration": 109,
    "start_time": "2023-03-02T09:05:25.805Z"
   },
   {
    "duration": 4,
    "start_time": "2023-03-02T09:12:34.586Z"
   },
   {
    "duration": 987,
    "start_time": "2023-03-02T09:12:34.592Z"
   },
   {
    "duration": 285,
    "start_time": "2023-03-02T09:12:35.581Z"
   },
   {
    "duration": 15,
    "start_time": "2023-03-02T09:12:35.869Z"
   },
   {
    "duration": 113,
    "start_time": "2023-03-02T09:12:35.886Z"
   },
   {
    "duration": 1095,
    "start_time": "2023-03-02T09:12:36.002Z"
   },
   {
    "duration": 924,
    "start_time": "2023-03-02T09:12:37.099Z"
   },
   {
    "duration": 257,
    "start_time": "2023-03-02T09:12:38.025Z"
   },
   {
    "duration": 15,
    "start_time": "2023-03-02T09:12:38.284Z"
   },
   {
    "duration": 56,
    "start_time": "2023-03-02T09:12:38.303Z"
   },
   {
    "duration": 249,
    "start_time": "2023-03-02T09:12:38.361Z"
   },
   {
    "duration": 69,
    "start_time": "2023-03-02T09:12:38.612Z"
   },
   {
    "duration": 15,
    "start_time": "2023-03-02T09:12:38.683Z"
   },
   {
    "duration": 47,
    "start_time": "2023-03-02T09:12:38.700Z"
   },
   {
    "duration": 259,
    "start_time": "2023-03-02T09:12:38.749Z"
   },
   {
    "duration": 290,
    "start_time": "2023-03-02T09:12:39.010Z"
   },
   {
    "duration": 33,
    "start_time": "2023-03-02T09:12:39.302Z"
   },
   {
    "duration": 10,
    "start_time": "2023-03-02T09:12:39.337Z"
   },
   {
    "duration": 74,
    "start_time": "2023-03-02T09:12:39.350Z"
   },
   {
    "duration": 216,
    "start_time": "2023-03-02T09:12:39.426Z"
   },
   {
    "duration": 231,
    "start_time": "2023-03-02T09:12:39.644Z"
   },
   {
    "duration": 116,
    "start_time": "2023-03-02T09:12:39.877Z"
   },
   {
    "duration": 137,
    "start_time": "2023-03-02T09:12:39.995Z"
   },
   {
    "duration": 54,
    "start_time": "2023-03-02T09:12:40.135Z"
   },
   {
    "duration": 116,
    "start_time": "2023-03-02T09:12:40.191Z"
   },
   {
    "duration": 1117,
    "start_time": "2023-03-02T09:12:40.309Z"
   },
   {
    "duration": 56,
    "start_time": "2023-03-02T09:12:41.428Z"
   },
   {
    "duration": 84,
    "start_time": "2023-03-02T09:12:41.487Z"
   },
   {
    "duration": 13,
    "start_time": "2023-03-02T09:12:41.573Z"
   },
   {
    "duration": 346,
    "start_time": "2023-03-02T09:12:41.588Z"
   },
   {
    "duration": 22,
    "start_time": "2023-03-02T09:12:41.936Z"
   },
   {
    "duration": 31,
    "start_time": "2023-03-02T09:12:41.960Z"
   },
   {
    "duration": 74,
    "start_time": "2023-03-02T09:12:41.993Z"
   },
   {
    "duration": 824,
    "start_time": "2023-03-02T09:12:42.070Z"
   },
   {
    "duration": 400,
    "start_time": "2023-03-02T09:12:42.896Z"
   },
   {
    "duration": 3,
    "start_time": "2023-03-02T09:12:43.297Z"
   },
   {
    "duration": 1401,
    "start_time": "2023-03-02T09:21:54.275Z"
   },
   {
    "duration": 1000,
    "start_time": "2023-03-02T09:21:55.679Z"
   },
   {
    "duration": 263,
    "start_time": "2023-03-02T09:21:56.681Z"
   },
   {
    "duration": 13,
    "start_time": "2023-03-02T09:21:56.947Z"
   },
   {
    "duration": 118,
    "start_time": "2023-03-02T09:21:56.962Z"
   },
   {
    "duration": 1067,
    "start_time": "2023-03-02T09:21:57.083Z"
   },
   {
    "duration": 1044,
    "start_time": "2023-03-02T09:21:58.152Z"
   },
   {
    "duration": 263,
    "start_time": "2023-03-02T09:21:59.198Z"
   },
   {
    "duration": 14,
    "start_time": "2023-03-02T09:21:59.463Z"
   },
   {
    "duration": 62,
    "start_time": "2023-03-02T09:21:59.479Z"
   },
   {
    "duration": 230,
    "start_time": "2023-03-02T09:21:59.543Z"
   },
   {
    "duration": 72,
    "start_time": "2023-03-02T09:21:59.775Z"
   },
   {
    "duration": 16,
    "start_time": "2023-03-02T09:21:59.848Z"
   },
   {
    "duration": 134,
    "start_time": "2023-03-02T09:21:59.867Z"
   },
   {
    "duration": 239,
    "start_time": "2023-03-02T09:22:00.003Z"
   },
   {
    "duration": 227,
    "start_time": "2023-03-02T09:22:00.244Z"
   },
   {
    "duration": 29,
    "start_time": "2023-03-02T09:22:00.472Z"
   },
   {
    "duration": 42,
    "start_time": "2023-03-02T09:22:00.502Z"
   },
   {
    "duration": 72,
    "start_time": "2023-03-02T09:22:00.546Z"
   },
   {
    "duration": 218,
    "start_time": "2023-03-02T09:22:00.619Z"
   },
   {
    "duration": 226,
    "start_time": "2023-03-02T09:22:00.839Z"
   },
   {
    "duration": 122,
    "start_time": "2023-03-02T09:22:01.067Z"
   },
   {
    "duration": 120,
    "start_time": "2023-03-02T09:22:01.191Z"
   },
   {
    "duration": 51,
    "start_time": "2023-03-02T09:22:01.313Z"
   },
   {
    "duration": 106,
    "start_time": "2023-03-02T09:22:01.366Z"
   },
   {
    "duration": 999,
    "start_time": "2023-03-02T09:22:01.474Z"
   },
   {
    "duration": 64,
    "start_time": "2023-03-02T09:22:02.474Z"
   },
   {
    "duration": 69,
    "start_time": "2023-03-02T09:22:02.540Z"
   },
   {
    "duration": 12,
    "start_time": "2023-03-02T09:22:02.624Z"
   },
   {
    "duration": 387,
    "start_time": "2023-03-02T09:22:02.638Z"
   },
   {
    "duration": 153,
    "start_time": "2023-03-02T09:22:03.027Z"
   },
   {
    "duration": 43,
    "start_time": "2023-03-02T09:22:03.181Z"
   },
   {
    "duration": 67,
    "start_time": "2023-03-02T09:22:03.225Z"
   },
   {
    "duration": 1021,
    "start_time": "2023-03-02T09:22:03.294Z"
   },
   {
    "duration": 417,
    "start_time": "2023-03-02T09:22:04.317Z"
   },
   {
    "duration": 3,
    "start_time": "2023-03-02T09:22:04.736Z"
   },
   {
    "duration": 15,
    "start_time": "2023-03-02T09:22:04.740Z"
   },
   {
    "duration": 155417,
    "start_time": "2023-03-02T09:22:04.757Z"
   },
   {
    "duration": 1401588,
    "start_time": "2023-03-02T09:24:40.176Z"
   },
   {
    "duration": 220648,
    "start_time": "2023-03-02T09:48:01.766Z"
   },
   {
    "duration": 1173186,
    "start_time": "2023-03-02T09:51:42.418Z"
   },
   {
    "duration": 416528,
    "start_time": "2023-03-02T10:11:15.606Z"
   },
   {
    "duration": 12,
    "start_time": "2023-03-02T10:18:12.136Z"
   },
   {
    "duration": 9857,
    "start_time": "2023-03-02T10:18:12.222Z"
   },
   {
    "duration": 2048,
    "start_time": "2023-03-03T08:10:11.968Z"
   },
   {
    "duration": 1447,
    "start_time": "2023-03-03T08:10:14.019Z"
   },
   {
    "duration": 350,
    "start_time": "2023-03-03T08:10:15.468Z"
   },
   {
    "duration": 23,
    "start_time": "2023-03-03T08:10:15.820Z"
   },
   {
    "duration": 122,
    "start_time": "2023-03-03T08:10:15.845Z"
   },
   {
    "duration": 1142,
    "start_time": "2023-03-03T08:10:15.970Z"
   },
   {
    "duration": 1027,
    "start_time": "2023-03-03T08:10:17.114Z"
   },
   {
    "duration": 280,
    "start_time": "2023-03-03T08:10:18.145Z"
   },
   {
    "duration": 22,
    "start_time": "2023-03-03T08:10:18.427Z"
   },
   {
    "duration": 47,
    "start_time": "2023-03-03T08:10:18.452Z"
   },
   {
    "duration": 264,
    "start_time": "2023-03-03T08:10:18.501Z"
   },
   {
    "duration": 82,
    "start_time": "2023-03-03T08:10:18.768Z"
   },
   {
    "duration": 21,
    "start_time": "2023-03-03T08:10:18.854Z"
   },
   {
    "duration": 40,
    "start_time": "2023-03-03T08:10:18.878Z"
   },
   {
    "duration": 362,
    "start_time": "2023-03-03T08:10:18.920Z"
   },
   {
    "duration": 243,
    "start_time": "2023-03-03T08:10:19.283Z"
   },
   {
    "duration": 32,
    "start_time": "2023-03-03T08:10:19.528Z"
   },
   {
    "duration": 17,
    "start_time": "2023-03-03T08:10:19.562Z"
   },
   {
    "duration": 57,
    "start_time": "2023-03-03T08:10:19.581Z"
   },
   {
    "duration": 233,
    "start_time": "2023-03-03T08:10:19.640Z"
   },
   {
    "duration": 247,
    "start_time": "2023-03-03T08:10:19.875Z"
   },
   {
    "duration": 140,
    "start_time": "2023-03-03T08:10:20.124Z"
   },
   {
    "duration": 130,
    "start_time": "2023-03-03T08:10:20.266Z"
   },
   {
    "duration": 81,
    "start_time": "2023-03-03T08:10:20.398Z"
   },
   {
    "duration": 113,
    "start_time": "2023-03-03T08:10:20.481Z"
   },
   {
    "duration": 1105,
    "start_time": "2023-03-03T08:10:20.596Z"
   },
   {
    "duration": 72,
    "start_time": "2023-03-03T08:10:21.704Z"
   },
   {
    "duration": 84,
    "start_time": "2023-03-03T08:10:21.780Z"
   },
   {
    "duration": 12,
    "start_time": "2023-03-03T08:10:21.866Z"
   },
   {
    "duration": 416,
    "start_time": "2023-03-03T08:10:21.880Z"
   },
   {
    "duration": 42,
    "start_time": "2023-03-03T08:10:22.298Z"
   },
   {
    "duration": 37,
    "start_time": "2023-03-03T08:10:22.343Z"
   },
   {
    "duration": 107,
    "start_time": "2023-03-03T08:10:22.382Z"
   },
   {
    "duration": 982,
    "start_time": "2023-03-03T08:10:22.492Z"
   },
   {
    "duration": 408,
    "start_time": "2023-03-03T08:10:23.476Z"
   },
   {
    "duration": 21,
    "start_time": "2023-03-03T08:10:23.886Z"
   },
   {
    "duration": 37,
    "start_time": "2023-03-03T08:10:36.564Z"
   },
   {
    "duration": 143,
    "start_time": "2023-03-03T08:10:41.448Z"
   },
   {
    "duration": 17,
    "start_time": "2023-03-03T08:11:14.269Z"
   },
   {
    "duration": 1531,
    "start_time": "2023-03-03T08:11:26.928Z"
   },
   {
    "duration": 1922,
    "start_time": "2023-03-03T08:15:18.878Z"
   },
   {
    "duration": 26,
    "start_time": "2023-03-03T08:16:11.679Z"
   },
   {
    "duration": 1506,
    "start_time": "2023-03-03T09:08:04.151Z"
   },
   {
    "duration": 4,
    "start_time": "2023-03-03T09:17:14.198Z"
   },
   {
    "duration": 1538,
    "start_time": "2023-03-03T09:17:30.718Z"
   },
   {
    "duration": 66,
    "start_time": "2023-03-03T09:19:05.469Z"
   },
   {
    "duration": 86,
    "start_time": "2023-03-03T09:19:35.069Z"
   },
   {
    "duration": 72,
    "start_time": "2023-03-03T09:27:55.513Z"
   },
   {
    "duration": 27,
    "start_time": "2023-03-03T09:38:07.663Z"
   },
   {
    "duration": 65,
    "start_time": "2023-03-03T09:38:10.753Z"
   },
   {
    "duration": 12,
    "start_time": "2023-03-03T09:38:31.518Z"
   },
   {
    "duration": 6,
    "start_time": "2023-03-03T09:40:35.955Z"
   },
   {
    "duration": 32,
    "start_time": "2023-03-03T09:42:46.479Z"
   },
   {
    "duration": 1590,
    "start_time": "2023-03-03T09:43:28.669Z"
   },
   {
    "duration": 1489,
    "start_time": "2023-03-03T09:43:30.261Z"
   },
   {
    "duration": 316,
    "start_time": "2023-03-03T09:43:31.754Z"
   },
   {
    "duration": 14,
    "start_time": "2023-03-03T09:43:32.072Z"
   },
   {
    "duration": 132,
    "start_time": "2023-03-03T09:43:32.088Z"
   },
   {
    "duration": 1229,
    "start_time": "2023-03-03T09:43:32.222Z"
   },
   {
    "duration": 1111,
    "start_time": "2023-03-03T09:43:33.453Z"
   },
   {
    "duration": 300,
    "start_time": "2023-03-03T09:43:34.567Z"
   },
   {
    "duration": 14,
    "start_time": "2023-03-03T09:43:34.869Z"
   },
   {
    "duration": 73,
    "start_time": "2023-03-03T09:43:34.886Z"
   },
   {
    "duration": 310,
    "start_time": "2023-03-03T09:43:34.961Z"
   },
   {
    "duration": 92,
    "start_time": "2023-03-03T09:43:35.273Z"
   },
   {
    "duration": 16,
    "start_time": "2023-03-03T09:43:35.367Z"
   },
   {
    "duration": 70,
    "start_time": "2023-03-03T09:43:35.386Z"
   },
   {
    "duration": 351,
    "start_time": "2023-03-03T09:43:35.458Z"
   },
   {
    "duration": 247,
    "start_time": "2023-03-03T09:43:35.811Z"
   },
   {
    "duration": 28,
    "start_time": "2023-03-03T09:43:36.060Z"
   },
   {
    "duration": 35,
    "start_time": "2023-03-03T09:43:36.090Z"
   },
   {
    "duration": 53,
    "start_time": "2023-03-03T09:43:36.127Z"
   },
   {
    "duration": 251,
    "start_time": "2023-03-03T09:43:36.181Z"
   },
   {
    "duration": 279,
    "start_time": "2023-03-03T09:43:36.434Z"
   },
   {
    "duration": 159,
    "start_time": "2023-03-03T09:43:36.716Z"
   },
   {
    "duration": 133,
    "start_time": "2023-03-03T09:43:36.877Z"
   },
   {
    "duration": 70,
    "start_time": "2023-03-03T09:43:37.012Z"
   },
   {
    "duration": 106,
    "start_time": "2023-03-03T09:43:37.084Z"
   },
   {
    "duration": 1127,
    "start_time": "2023-03-03T09:43:37.192Z"
   },
   {
    "duration": 67,
    "start_time": "2023-03-03T09:43:38.321Z"
   },
   {
    "duration": 79,
    "start_time": "2023-03-03T09:43:38.391Z"
   },
   {
    "duration": 11,
    "start_time": "2023-03-03T09:43:38.472Z"
   },
   {
    "duration": 418,
    "start_time": "2023-03-03T09:43:38.485Z"
   },
   {
    "duration": 50,
    "start_time": "2023-03-03T09:43:38.904Z"
   },
   {
    "duration": 33,
    "start_time": "2023-03-03T09:43:38.956Z"
   },
   {
    "duration": 74,
    "start_time": "2023-03-03T09:43:38.991Z"
   },
   {
    "duration": 891,
    "start_time": "2023-03-03T09:43:39.067Z"
   },
   {
    "duration": 427,
    "start_time": "2023-03-03T09:43:39.960Z"
   },
   {
    "duration": 38,
    "start_time": "2023-03-03T09:43:49.303Z"
   },
   {
    "duration": 67,
    "start_time": "2023-03-03T10:44:37.399Z"
   },
   {
    "duration": 1717,
    "start_time": "2023-03-03T10:44:45.303Z"
   },
   {
    "duration": 1400,
    "start_time": "2023-03-03T10:44:47.022Z"
   },
   {
    "duration": 287,
    "start_time": "2023-03-03T10:44:48.424Z"
   },
   {
    "duration": 24,
    "start_time": "2023-03-03T10:44:48.713Z"
   },
   {
    "duration": 116,
    "start_time": "2023-03-03T10:44:48.739Z"
   },
   {
    "duration": 1167,
    "start_time": "2023-03-03T10:44:48.857Z"
   },
   {
    "duration": 1070,
    "start_time": "2023-03-03T10:44:50.026Z"
   },
   {
    "duration": 289,
    "start_time": "2023-03-03T10:44:51.098Z"
   },
   {
    "duration": 15,
    "start_time": "2023-03-03T10:44:51.389Z"
   },
   {
    "duration": 78,
    "start_time": "2023-03-03T10:44:51.407Z"
   },
   {
    "duration": 280,
    "start_time": "2023-03-03T10:44:51.487Z"
   },
   {
    "duration": 96,
    "start_time": "2023-03-03T10:44:51.769Z"
   },
   {
    "duration": 17,
    "start_time": "2023-03-03T10:44:51.868Z"
   },
   {
    "duration": 62,
    "start_time": "2023-03-03T10:44:51.888Z"
   },
   {
    "duration": 341,
    "start_time": "2023-03-03T10:44:51.954Z"
   },
   {
    "duration": 296,
    "start_time": "2023-03-03T10:44:52.297Z"
   },
   {
    "duration": 61,
    "start_time": "2023-03-03T10:44:52.596Z"
   },
   {
    "duration": 28,
    "start_time": "2023-03-03T10:44:52.661Z"
   },
   {
    "duration": 91,
    "start_time": "2023-03-03T10:44:52.692Z"
   },
   {
    "duration": 256,
    "start_time": "2023-03-03T10:44:52.785Z"
   },
   {
    "duration": 260,
    "start_time": "2023-03-03T10:44:53.044Z"
   },
   {
    "duration": 132,
    "start_time": "2023-03-03T10:44:53.306Z"
   },
   {
    "duration": 151,
    "start_time": "2023-03-03T10:44:53.441Z"
   },
   {
    "duration": 69,
    "start_time": "2023-03-03T10:44:53.594Z"
   },
   {
    "duration": 119,
    "start_time": "2023-03-03T10:44:53.666Z"
   },
   {
    "duration": 1167,
    "start_time": "2023-03-03T10:44:53.787Z"
   },
   {
    "duration": 57,
    "start_time": "2023-03-03T10:44:54.957Z"
   },
   {
    "duration": 72,
    "start_time": "2023-03-03T10:44:55.039Z"
   },
   {
    "duration": 11,
    "start_time": "2023-03-03T10:44:55.113Z"
   },
   {
    "duration": 376,
    "start_time": "2023-03-03T10:44:55.140Z"
   },
   {
    "duration": 53,
    "start_time": "2023-03-03T10:44:55.518Z"
   },
   {
    "duration": 37,
    "start_time": "2023-03-03T10:44:55.574Z"
   },
   {
    "duration": 74,
    "start_time": "2023-03-03T10:44:55.612Z"
   },
   {
    "duration": 954,
    "start_time": "2023-03-03T10:44:55.688Z"
   },
   {
    "duration": 446,
    "start_time": "2023-03-03T10:44:56.644Z"
   },
   {
    "duration": 22,
    "start_time": "2023-03-03T10:45:36.983Z"
   },
   {
    "duration": 99,
    "start_time": "2023-03-03T10:48:00.533Z"
   },
   {
    "duration": 1706,
    "start_time": "2023-03-03T10:48:08.884Z"
   },
   {
    "duration": 1519,
    "start_time": "2023-03-03T10:48:10.593Z"
   },
   {
    "duration": 379,
    "start_time": "2023-03-03T10:48:12.114Z"
   },
   {
    "duration": 24,
    "start_time": "2023-03-03T10:48:12.497Z"
   },
   {
    "duration": 143,
    "start_time": "2023-03-03T10:48:12.523Z"
   },
   {
    "duration": 1445,
    "start_time": "2023-03-03T10:48:12.668Z"
   },
   {
    "duration": 1105,
    "start_time": "2023-03-03T10:48:14.116Z"
   },
   {
    "duration": 272,
    "start_time": "2023-03-03T10:48:15.223Z"
   },
   {
    "duration": 14,
    "start_time": "2023-03-03T10:48:15.497Z"
   },
   {
    "duration": 68,
    "start_time": "2023-03-03T10:48:15.514Z"
   },
   {
    "duration": 295,
    "start_time": "2023-03-03T10:48:15.584Z"
   },
   {
    "duration": 91,
    "start_time": "2023-03-03T10:48:15.890Z"
   },
   {
    "duration": 19,
    "start_time": "2023-03-03T10:48:15.984Z"
   },
   {
    "duration": 62,
    "start_time": "2023-03-03T10:48:16.006Z"
   },
   {
    "duration": 353,
    "start_time": "2023-03-03T10:48:16.071Z"
   },
   {
    "duration": 268,
    "start_time": "2023-03-03T10:48:16.425Z"
   },
   {
    "duration": 28,
    "start_time": "2023-03-03T10:48:16.695Z"
   },
   {
    "duration": 16,
    "start_time": "2023-03-03T10:48:16.738Z"
   },
   {
    "duration": 62,
    "start_time": "2023-03-03T10:48:16.756Z"
   },
   {
    "duration": 250,
    "start_time": "2023-03-03T10:48:16.820Z"
   },
   {
    "duration": 271,
    "start_time": "2023-03-03T10:48:17.072Z"
   },
   {
    "duration": 137,
    "start_time": "2023-03-03T10:48:17.345Z"
   },
   {
    "duration": 142,
    "start_time": "2023-03-03T10:48:17.484Z"
   },
   {
    "duration": 70,
    "start_time": "2023-03-03T10:48:17.628Z"
   },
   {
    "duration": 121,
    "start_time": "2023-03-03T10:48:17.700Z"
   },
   {
    "duration": 1191,
    "start_time": "2023-03-03T10:48:17.823Z"
   },
   {
    "duration": 77,
    "start_time": "2023-03-03T10:48:19.017Z"
   },
   {
    "duration": 93,
    "start_time": "2023-03-03T10:48:19.099Z"
   },
   {
    "duration": 13,
    "start_time": "2023-03-03T10:48:19.194Z"
   },
   {
    "duration": 395,
    "start_time": "2023-03-03T10:48:19.209Z"
   },
   {
    "duration": 37,
    "start_time": "2023-03-03T10:48:19.606Z"
   },
   {
    "duration": 38,
    "start_time": "2023-03-03T10:48:19.645Z"
   },
   {
    "duration": 95,
    "start_time": "2023-03-03T10:48:19.685Z"
   },
   {
    "duration": 1015,
    "start_time": "2023-03-03T10:48:19.782Z"
   },
   {
    "duration": 424,
    "start_time": "2023-03-03T10:48:20.799Z"
   },
   {
    "duration": 35,
    "start_time": "2023-03-03T10:48:21.225Z"
   },
   {
    "duration": 39,
    "start_time": "2023-03-03T10:48:28.562Z"
   },
   {
    "duration": 131,
    "start_time": "2023-03-03T10:48:31.893Z"
   },
   {
    "duration": 28,
    "start_time": "2023-03-03T10:49:16.343Z"
   },
   {
    "duration": 9322,
    "start_time": "2023-03-03T10:49:28.379Z"
   },
   {
    "duration": 26,
    "start_time": "2023-03-03T10:51:54.628Z"
   },
   {
    "duration": 5,
    "start_time": "2023-03-03T10:52:03.963Z"
   },
   {
    "duration": 1145,
    "start_time": "2023-03-03T10:52:03.971Z"
   },
   {
    "duration": 425,
    "start_time": "2023-03-03T10:52:05.118Z"
   },
   {
    "duration": 22,
    "start_time": "2023-03-03T10:52:05.547Z"
   },
   {
    "duration": 150,
    "start_time": "2023-03-03T10:52:05.571Z"
   },
   {
    "duration": 1273,
    "start_time": "2023-03-03T10:52:05.723Z"
   },
   {
    "duration": 1055,
    "start_time": "2023-03-03T10:52:06.998Z"
   },
   {
    "duration": 448,
    "start_time": "2023-03-03T10:52:08.055Z"
   },
   {
    "duration": 17,
    "start_time": "2023-03-03T10:52:08.505Z"
   },
   {
    "duration": 52,
    "start_time": "2023-03-03T10:52:08.538Z"
   },
   {
    "duration": 300,
    "start_time": "2023-03-03T10:52:08.593Z"
   },
   {
    "duration": 93,
    "start_time": "2023-03-03T10:52:08.895Z"
   },
   {
    "duration": 19,
    "start_time": "2023-03-03T10:52:08.990Z"
   },
   {
    "duration": 62,
    "start_time": "2023-03-03T10:52:09.011Z"
   },
   {
    "duration": 308,
    "start_time": "2023-03-03T10:52:09.075Z"
   },
   {
    "duration": 315,
    "start_time": "2023-03-03T10:52:09.384Z"
   },
   {
    "duration": 42,
    "start_time": "2023-03-03T10:52:09.701Z"
   },
   {
    "duration": 35,
    "start_time": "2023-03-03T10:52:09.749Z"
   },
   {
    "duration": 66,
    "start_time": "2023-03-03T10:52:09.787Z"
   },
   {
    "duration": 251,
    "start_time": "2023-03-03T10:52:09.856Z"
   },
   {
    "duration": 271,
    "start_time": "2023-03-03T10:52:10.109Z"
   },
   {
    "duration": 130,
    "start_time": "2023-03-03T10:52:10.382Z"
   },
   {
    "duration": 174,
    "start_time": "2023-03-03T10:52:10.514Z"
   },
   {
    "duration": 78,
    "start_time": "2023-03-03T10:52:10.690Z"
   },
   {
    "duration": 142,
    "start_time": "2023-03-03T10:52:10.770Z"
   },
   {
    "duration": 1485,
    "start_time": "2023-03-03T10:52:10.914Z"
   },
   {
    "duration": 93,
    "start_time": "2023-03-03T10:52:12.402Z"
   },
   {
    "duration": 107,
    "start_time": "2023-03-03T10:52:12.499Z"
   },
   {
    "duration": 15,
    "start_time": "2023-03-03T10:52:12.608Z"
   },
   {
    "duration": 14,
    "start_time": "2023-03-03T10:52:27.729Z"
   },
   {
    "duration": 327,
    "start_time": "2023-03-03T10:52:50.843Z"
   },
   {
    "duration": 22,
    "start_time": "2023-03-03T10:52:58.264Z"
   },
   {
    "duration": 32,
    "start_time": "2023-03-03T10:53:17.764Z"
   },
   {
    "duration": 75,
    "start_time": "2023-03-03T10:53:24.123Z"
   },
   {
    "duration": 902,
    "start_time": "2023-03-03T10:53:36.768Z"
   },
   {
    "duration": 454,
    "start_time": "2023-03-03T10:53:52.604Z"
   },
   {
    "duration": 36,
    "start_time": "2023-03-03T10:53:57.828Z"
   },
   {
    "duration": 9414,
    "start_time": "2023-03-03T10:54:01.055Z"
   },
   {
    "duration": 4,
    "start_time": "2023-03-03T10:54:28.358Z"
   },
   {
    "duration": 3,
    "start_time": "2023-03-03T10:54:30.182Z"
   },
   {
    "duration": 30504,
    "start_time": "2023-03-03T10:54:33.289Z"
   },
   {
    "duration": 4,
    "start_time": "2023-03-03T10:56:03.489Z"
   },
   {
    "duration": 1013,
    "start_time": "2023-03-03T10:56:03.495Z"
   },
   {
    "duration": 298,
    "start_time": "2023-03-03T10:56:04.510Z"
   },
   {
    "duration": 14,
    "start_time": "2023-03-03T10:56:04.811Z"
   },
   {
    "duration": 115,
    "start_time": "2023-03-03T10:56:04.837Z"
   },
   {
    "duration": 1272,
    "start_time": "2023-03-03T10:56:04.955Z"
   },
   {
    "duration": 1048,
    "start_time": "2023-03-03T10:56:06.229Z"
   },
   {
    "duration": 305,
    "start_time": "2023-03-03T10:56:07.279Z"
   },
   {
    "duration": 15,
    "start_time": "2023-03-03T10:56:07.586Z"
   },
   {
    "duration": 62,
    "start_time": "2023-03-03T10:56:07.604Z"
   },
   {
    "duration": 293,
    "start_time": "2023-03-03T10:56:07.668Z"
   },
   {
    "duration": 99,
    "start_time": "2023-03-03T10:56:07.963Z"
   },
   {
    "duration": 19,
    "start_time": "2023-03-03T10:56:08.065Z"
   },
   {
    "duration": 69,
    "start_time": "2023-03-03T10:56:08.086Z"
   },
   {
    "duration": 272,
    "start_time": "2023-03-03T10:56:08.160Z"
   },
   {
    "duration": 275,
    "start_time": "2023-03-03T10:56:08.434Z"
   },
   {
    "duration": 54,
    "start_time": "2023-03-03T10:56:08.711Z"
   },
   {
    "duration": 13,
    "start_time": "2023-03-03T10:56:08.766Z"
   },
   {
    "duration": 89,
    "start_time": "2023-03-03T10:56:08.781Z"
   },
   {
    "duration": 301,
    "start_time": "2023-03-03T10:56:08.872Z"
   },
   {
    "duration": 304,
    "start_time": "2023-03-03T10:56:09.175Z"
   },
   {
    "duration": 147,
    "start_time": "2023-03-03T10:56:09.481Z"
   },
   {
    "duration": 165,
    "start_time": "2023-03-03T10:56:09.630Z"
   },
   {
    "duration": 88,
    "start_time": "2023-03-03T10:56:09.798Z"
   },
   {
    "duration": 177,
    "start_time": "2023-03-03T10:56:09.889Z"
   },
   {
    "duration": 1558,
    "start_time": "2023-03-03T10:56:10.069Z"
   },
   {
    "duration": 66,
    "start_time": "2023-03-03T10:56:11.629Z"
   },
   {
    "duration": 103,
    "start_time": "2023-03-03T10:56:11.700Z"
   },
   {
    "duration": 13,
    "start_time": "2023-03-03T10:56:11.806Z"
   },
   {
    "duration": 411,
    "start_time": "2023-03-03T10:56:11.821Z"
   },
   {
    "duration": 32,
    "start_time": "2023-03-03T10:56:12.233Z"
   },
   {
    "duration": 36,
    "start_time": "2023-03-03T10:56:12.267Z"
   },
   {
    "duration": 101,
    "start_time": "2023-03-03T10:56:12.305Z"
   },
   {
    "duration": 1124,
    "start_time": "2023-03-03T10:56:12.410Z"
   },
   {
    "duration": 465,
    "start_time": "2023-03-03T10:56:13.538Z"
   },
   {
    "duration": 30,
    "start_time": "2023-03-03T10:57:56.503Z"
   },
   {
    "duration": 10166,
    "start_time": "2023-03-03T10:58:41.808Z"
   },
   {
    "duration": 5,
    "start_time": "2023-03-03T10:59:10.165Z"
   },
   {
    "duration": 3,
    "start_time": "2023-03-03T10:59:11.165Z"
   },
   {
    "duration": 37787,
    "start_time": "2023-03-03T10:59:13.228Z"
   },
   {
    "duration": 33297,
    "start_time": "2023-03-03T10:59:59.063Z"
   },
   {
    "duration": 282337,
    "start_time": "2023-03-03T11:00:43.209Z"
   },
   {
    "duration": 5,
    "start_time": "2023-03-03T11:39:59.402Z"
   },
   {
    "duration": 869,
    "start_time": "2023-03-03T11:39:59.426Z"
   },
   {
    "duration": 259,
    "start_time": "2023-03-03T11:40:00.297Z"
   },
   {
    "duration": 14,
    "start_time": "2023-03-03T11:40:00.557Z"
   },
   {
    "duration": 127,
    "start_time": "2023-03-03T11:40:00.573Z"
   },
   {
    "duration": 1035,
    "start_time": "2023-03-03T11:40:00.703Z"
   },
   {
    "duration": 883,
    "start_time": "2023-03-03T11:40:01.740Z"
   },
   {
    "duration": 258,
    "start_time": "2023-03-03T11:40:02.625Z"
   },
   {
    "duration": 15,
    "start_time": "2023-03-03T11:40:02.885Z"
   },
   {
    "duration": 57,
    "start_time": "2023-03-03T11:40:02.902Z"
   },
   {
    "duration": 242,
    "start_time": "2023-03-03T11:40:02.961Z"
   },
   {
    "duration": 78,
    "start_time": "2023-03-03T11:40:03.205Z"
   },
   {
    "duration": 17,
    "start_time": "2023-03-03T11:40:03.286Z"
   },
   {
    "duration": 51,
    "start_time": "2023-03-03T11:40:03.305Z"
   },
   {
    "duration": 237,
    "start_time": "2023-03-03T11:40:03.361Z"
   },
   {
    "duration": 229,
    "start_time": "2023-03-03T11:40:03.601Z"
   },
   {
    "duration": 31,
    "start_time": "2023-03-03T11:40:03.832Z"
   },
   {
    "duration": 29,
    "start_time": "2023-03-03T11:40:03.865Z"
   },
   {
    "duration": 74,
    "start_time": "2023-03-03T11:40:03.896Z"
   },
   {
    "duration": 230,
    "start_time": "2023-03-03T11:40:03.972Z"
   },
   {
    "duration": 371,
    "start_time": "2023-03-03T11:40:04.204Z"
   },
   {
    "duration": 111,
    "start_time": "2023-03-03T11:40:04.577Z"
   },
   {
    "duration": 136,
    "start_time": "2023-03-03T11:40:04.690Z"
   },
   {
    "duration": 61,
    "start_time": "2023-03-03T11:40:04.827Z"
   },
   {
    "duration": 104,
    "start_time": "2023-03-03T11:40:04.890Z"
   },
   {
    "duration": 1028,
    "start_time": "2023-03-03T11:40:04.996Z"
   },
   {
    "duration": 61,
    "start_time": "2023-03-03T11:40:06.026Z"
   },
   {
    "duration": 89,
    "start_time": "2023-03-03T11:40:06.089Z"
   },
   {
    "duration": 12,
    "start_time": "2023-03-03T11:40:06.180Z"
   },
   {
    "duration": 359,
    "start_time": "2023-03-03T11:40:06.193Z"
   },
   {
    "duration": 21,
    "start_time": "2023-03-03T11:40:06.554Z"
   },
   {
    "duration": 34,
    "start_time": "2023-03-03T11:40:06.577Z"
   },
   {
    "duration": 80,
    "start_time": "2023-03-03T11:40:06.613Z"
   },
   {
    "duration": 806,
    "start_time": "2023-03-03T11:40:06.695Z"
   },
   {
    "duration": 399,
    "start_time": "2023-03-03T11:40:07.504Z"
   },
   {
    "duration": 43,
    "start_time": "2023-03-03T11:40:07.905Z"
   },
   {
    "duration": 8854,
    "start_time": "2023-03-03T11:40:07.951Z"
   },
   {
    "duration": 3,
    "start_time": "2023-03-03T11:40:16.806Z"
   },
   {
    "duration": 18,
    "start_time": "2023-03-03T11:40:16.810Z"
   },
   {
    "duration": 8889,
    "start_time": "2023-03-03T11:40:16.829Z"
   },
   {
    "duration": 1559,
    "start_time": "2023-03-03T11:40:48.383Z"
   },
   {
    "duration": 1079,
    "start_time": "2023-03-03T11:40:49.944Z"
   },
   {
    "duration": 298,
    "start_time": "2023-03-03T11:40:51.025Z"
   },
   {
    "duration": 22,
    "start_time": "2023-03-03T11:40:51.325Z"
   },
   {
    "duration": 125,
    "start_time": "2023-03-03T11:40:51.349Z"
   },
   {
    "duration": 1173,
    "start_time": "2023-03-03T11:40:51.476Z"
   },
   {
    "duration": 1113,
    "start_time": "2023-03-03T11:40:52.652Z"
   },
   {
    "duration": 257,
    "start_time": "2023-03-03T11:40:53.767Z"
   },
   {
    "duration": 23,
    "start_time": "2023-03-03T11:40:54.026Z"
   },
   {
    "duration": 48,
    "start_time": "2023-03-03T11:40:54.053Z"
   },
   {
    "duration": 268,
    "start_time": "2023-03-03T11:40:54.103Z"
   },
   {
    "duration": 85,
    "start_time": "2023-03-03T11:40:54.373Z"
   },
   {
    "duration": 17,
    "start_time": "2023-03-03T11:40:54.460Z"
   },
   {
    "duration": 62,
    "start_time": "2023-03-03T11:40:54.479Z"
   },
   {
    "duration": 328,
    "start_time": "2023-03-03T11:40:54.543Z"
   },
   {
    "duration": 228,
    "start_time": "2023-03-03T11:40:54.872Z"
   },
   {
    "duration": 39,
    "start_time": "2023-03-03T11:40:55.102Z"
   },
   {
    "duration": 12,
    "start_time": "2023-03-03T11:40:55.143Z"
   },
   {
    "duration": 45,
    "start_time": "2023-03-03T11:40:55.157Z"
   },
   {
    "duration": 245,
    "start_time": "2023-03-03T11:40:55.205Z"
   },
   {
    "duration": 240,
    "start_time": "2023-03-03T11:40:55.452Z"
   },
   {
    "duration": 158,
    "start_time": "2023-03-03T11:40:55.694Z"
   },
   {
    "duration": 121,
    "start_time": "2023-03-03T11:40:55.854Z"
   },
   {
    "duration": 61,
    "start_time": "2023-03-03T11:40:55.977Z"
   },
   {
    "duration": 102,
    "start_time": "2023-03-03T11:40:56.040Z"
   },
   {
    "duration": 1083,
    "start_time": "2023-03-03T11:40:56.144Z"
   },
   {
    "duration": 59,
    "start_time": "2023-03-03T11:40:57.228Z"
   },
   {
    "duration": 95,
    "start_time": "2023-03-03T11:40:57.292Z"
   },
   {
    "duration": 163,
    "start_time": "2023-03-03T11:40:57.389Z"
   },
   {
    "duration": 417,
    "start_time": "2023-03-03T11:40:57.554Z"
   },
   {
    "duration": 27,
    "start_time": "2023-03-03T11:40:57.973Z"
   },
   {
    "duration": 61,
    "start_time": "2023-03-03T11:40:58.002Z"
   },
   {
    "duration": 107,
    "start_time": "2023-03-03T11:40:58.066Z"
   },
   {
    "duration": 902,
    "start_time": "2023-03-03T11:40:58.175Z"
   },
   {
    "duration": 407,
    "start_time": "2023-03-03T11:40:59.078Z"
   },
   {
    "duration": 28,
    "start_time": "2023-03-03T11:40:59.487Z"
   },
   {
    "duration": 9384,
    "start_time": "2023-03-03T11:40:59.518Z"
   },
   {
    "duration": 3,
    "start_time": "2023-03-03T11:41:08.904Z"
   },
   {
    "duration": 12,
    "start_time": "2023-03-03T11:41:08.908Z"
   },
   {
    "duration": 167595,
    "start_time": "2023-03-03T11:41:08.922Z"
   },
   {
    "duration": 1478059,
    "start_time": "2023-03-03T11:43:56.518Z"
   },
   {
    "duration": 249732,
    "start_time": "2023-03-03T12:08:34.579Z"
   },
   {
    "duration": 1297674,
    "start_time": "2023-03-03T12:12:44.313Z"
   },
   {
    "duration": 1016051,
    "start_time": "2023-03-03T12:34:21.989Z"
   },
   {
    "duration": 12,
    "start_time": "2023-03-03T12:51:18.042Z"
   },
   {
    "duration": 10514,
    "start_time": "2023-03-03T12:51:18.057Z"
   },
   {
    "duration": 139,
    "start_time": "2023-03-03T13:48:33.154Z"
   },
   {
    "duration": 34,
    "start_time": "2023-03-03T13:49:44.353Z"
   },
   {
    "duration": 27,
    "start_time": "2023-03-03T13:49:45.713Z"
   },
   {
    "duration": 10032,
    "start_time": "2023-03-03T13:52:32.003Z"
   },
   {
    "duration": 223,
    "start_time": "2023-03-03T14:02:33.989Z"
   },
   {
    "duration": 197,
    "start_time": "2023-03-03T14:03:27.083Z"
   },
   {
    "duration": 1618,
    "start_time": "2023-03-03T16:01:55.575Z"
   },
   {
    "duration": 1251,
    "start_time": "2023-03-03T16:01:57.195Z"
   },
   {
    "duration": 284,
    "start_time": "2023-03-03T16:01:58.448Z"
   },
   {
    "duration": 18,
    "start_time": "2023-03-03T16:01:58.734Z"
   },
   {
    "duration": 107,
    "start_time": "2023-03-03T16:01:58.754Z"
   },
   {
    "duration": 971,
    "start_time": "2023-03-03T16:01:58.863Z"
   },
   {
    "duration": 877,
    "start_time": "2023-03-03T16:01:59.835Z"
   },
   {
    "duration": 256,
    "start_time": "2023-03-03T16:02:00.714Z"
   },
   {
    "duration": 13,
    "start_time": "2023-03-03T16:02:00.972Z"
   },
   {
    "duration": 62,
    "start_time": "2023-03-03T16:02:00.987Z"
   },
   {
    "duration": 235,
    "start_time": "2023-03-03T16:02:01.051Z"
   },
   {
    "duration": 80,
    "start_time": "2023-03-03T16:02:01.287Z"
   },
   {
    "duration": 16,
    "start_time": "2023-03-03T16:02:01.368Z"
   },
   {
    "duration": 57,
    "start_time": "2023-03-03T16:02:01.386Z"
   },
   {
    "duration": 291,
    "start_time": "2023-03-03T16:02:01.445Z"
   },
   {
    "duration": 238,
    "start_time": "2023-03-03T16:02:01.737Z"
   },
   {
    "duration": 25,
    "start_time": "2023-03-03T16:02:01.977Z"
   },
   {
    "duration": 28,
    "start_time": "2023-03-03T16:02:02.003Z"
   },
   {
    "duration": 79,
    "start_time": "2023-03-03T16:02:02.033Z"
   },
   {
    "duration": 196,
    "start_time": "2023-03-03T16:02:02.114Z"
   },
   {
    "duration": 206,
    "start_time": "2023-03-03T16:02:02.311Z"
   },
   {
    "duration": 115,
    "start_time": "2023-03-03T16:02:02.519Z"
   },
   {
    "duration": 106,
    "start_time": "2023-03-03T16:02:02.636Z"
   },
   {
    "duration": 50,
    "start_time": "2023-03-03T16:02:02.744Z"
   },
   {
    "duration": 110,
    "start_time": "2023-03-03T16:02:02.796Z"
   },
   {
    "duration": 1051,
    "start_time": "2023-03-03T16:02:02.907Z"
   },
   {
    "duration": 50,
    "start_time": "2023-03-03T16:02:03.960Z"
   },
   {
    "duration": 82,
    "start_time": "2023-03-03T16:02:04.014Z"
   },
   {
    "duration": 11,
    "start_time": "2023-03-03T16:02:04.098Z"
   },
   {
    "duration": 376,
    "start_time": "2023-03-03T16:02:04.111Z"
   },
   {
    "duration": 23,
    "start_time": "2023-03-03T16:02:04.489Z"
   },
   {
    "duration": 46,
    "start_time": "2023-03-03T16:02:04.513Z"
   },
   {
    "duration": 59,
    "start_time": "2023-03-03T16:02:04.560Z"
   },
   {
    "duration": 742,
    "start_time": "2023-03-03T16:02:04.621Z"
   },
   {
    "duration": 398,
    "start_time": "2023-03-03T16:02:05.364Z"
   },
   {
    "duration": 27,
    "start_time": "2023-03-03T16:02:05.764Z"
   },
   {
    "duration": 8467,
    "start_time": "2023-03-03T16:02:05.794Z"
   },
   {
    "duration": 209,
    "start_time": "2023-03-03T16:02:14.263Z"
   },
   {
    "duration": 4,
    "start_time": "2023-03-03T16:02:14.474Z"
   },
   {
    "duration": 28,
    "start_time": "2023-03-03T16:02:14.481Z"
   },
   {
    "duration": 148647,
    "start_time": "2023-03-03T16:02:14.512Z"
   },
   {
    "duration": 219845,
    "start_time": "2023-03-03T16:04:43.161Z"
   },
   {
    "duration": 213522,
    "start_time": "2023-03-03T16:08:23.008Z"
   },
   {
    "duration": 1137076,
    "start_time": "2023-03-03T16:11:56.532Z"
   },
   {
    "duration": 566252,
    "start_time": "2023-03-03T16:30:53.609Z"
   },
   {
    "duration": 11,
    "start_time": "2023-03-03T16:40:19.863Z"
   },
   {
    "duration": 9470,
    "start_time": "2023-03-03T16:40:19.875Z"
   }
  ],
  "kernelspec": {
   "display_name": "Python 3 (ipykernel)",
   "language": "python",
   "name": "python3"
  },
  "language_info": {
   "codemirror_mode": {
    "name": "ipython",
    "version": 3
   },
   "file_extension": ".py",
   "mimetype": "text/x-python",
   "name": "python",
   "nbconvert_exporter": "python",
   "pygments_lexer": "ipython3",
   "version": "3.9.13"
  },
  "toc": {
   "base_numbering": 1,
   "nav_menu": {},
   "number_sections": true,
   "sideBar": true,
   "skip_h1_title": true,
   "title_cell": "Table of Contents",
   "title_sidebar": "Contents",
   "toc_cell": false,
   "toc_position": {},
   "toc_section_display": true,
   "toc_window_display": false
  }
 },
 "nbformat": 4,
 "nbformat_minor": 2
}
